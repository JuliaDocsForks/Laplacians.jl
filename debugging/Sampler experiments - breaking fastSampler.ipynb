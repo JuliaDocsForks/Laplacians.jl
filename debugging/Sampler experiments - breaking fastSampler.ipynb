{
 "cells": [
  {
   "cell_type": "code",
   "execution_count": 1,
   "metadata": {
    "collapsed": true
   },
   "outputs": [],
   "source": [
    "using Laplacians"
   ]
  },
  {
   "cell_type": "code",
   "execution_count": 2,
   "metadata": {
    "collapsed": false
   },
   "outputs": [
    {
     "data": {
      "text/plain": [
       "tomatrix (generic function with 1 method)"
      ]
     },
     "execution_count": 2,
     "metadata": {},
     "output_type": "execute_result"
    }
   ],
   "source": [
    "include(\"../src/samplingSolver.jl\")"
   ]
  },
  {
   "cell_type": "markdown",
   "metadata": {},
   "source": [
    "Note: Below, we're setting the rng seed at each round so it's easier to re-run a single round"
   ]
  },
  {
   "cell_type": "code",
   "execution_count": null,
   "metadata": {
    "collapsed": false
   },
   "outputs": [],
   "source": [
    "scales = 3\n",
    "graphsPerScale = 2\n",
    "for i = 1:scales\n",
    "    n = 10^i\n",
    "    for j = 1:graphsPerScale\n",
    "        println(\"n = \",n, \", run = \",j)\n",
    "        srand(i*j)\n",
    "        @time a = chimera(n,j)\n",
    "        @time f,gOp = buildSolver(a)\n",
    "        println(\" checkError = \", checkError(gOp))\n",
    "    end\n",
    "end"
   ]
  },
  {
   "cell_type": "code",
   "execution_count": null,
   "metadata": {
    "collapsed": false
   },
   "outputs": [],
   "source": [
    "i,j = 3,1\n",
    "n = 10^i\n",
    "println(\"n = \",n, \", run = \",j)\n",
    "srand(i*j)\n",
    "@time a = chimera(n,j)\n",
    "@time f,gOp = buildSolver(a)\n",
    "println(\" checkError = \", checkError(gOp))"
   ]
  },
  {
   "cell_type": "code",
   "execution_count": null,
   "metadata": {
    "collapsed": false
   },
   "outputs": [],
   "source": [
    "newSeed = 725498241;\n",
    "srand(newSeed)"
   ]
  },
  {
   "cell_type": "code",
   "execution_count": null,
   "metadata": {
    "collapsed": false
   },
   "outputs": [],
   "source": [
    "wNeigh = readdlm(\"wNeigh.txt\");\n",
    "multNeigh = readdlm(\"multNeigh.txt\")"
   ]
  },
  {
   "cell_type": "code",
   "execution_count": null,
   "metadata": {
    "collapsed": false
   },
   "outputs": [],
   "source": [
    "include(\"../src/fastSampler.jl\")"
   ]
  },
  {
   "cell_type": "code",
   "execution_count": null,
   "metadata": {
    "collapsed": false
   },
   "outputs": [],
   "source": [
    "wSamp = sampler([1.0])\n",
    "multSamp = sampler([1.0])"
   ]
  },
  {
   "cell_type": "code",
   "execution_count": null,
   "metadata": {
    "collapsed": false
   },
   "outputs": [],
   "source": [
    "wSamp = sampler(reshape(wNeigh,length(wNeigh)));"
   ]
  },
  {
   "cell_type": "code",
   "execution_count": 3,
   "metadata": {
    "collapsed": true
   },
   "outputs": [],
   "source": [
    "wNeigh = readdlm(\"wNeigh.txt\");"
   ]
  },
  {
   "cell_type": "code",
   "execution_count": 4,
   "metadata": {
    "collapsed": false
   },
   "outputs": [
    {
     "ename": "LoadError",
     "evalue": "LoadError: BoundsError: attempt to access 83-element Array{Int64,1}:\n 10\n 12\n 13\n 15\n 16\n 18\n 19\n 20\n 21\n 22\n 23\n 24\n 25\n  ⋮\n  2\n  3\n  4\n  5\n  6\n  7\n  8\n  9\n 11\n 14\n 17\n 28\n  at index [84]\nwhile loading In[4], in expression starting on line 1",
     "output_type": "error",
     "traceback": [
      "LoadError: BoundsError: attempt to access 83-element Array{Int64,1}:\n 10\n 12\n 13\n 15\n 16\n 18\n 19\n 20\n 21\n 22\n 23\n 24\n 25\n  ⋮\n  2\n  3\n  4\n  5\n  6\n  7\n  8\n  9\n 11\n 14\n 17\n 28\n  at index [84]\nwhile loading In[4], in expression starting on line 1",
      ""
     ]
    }
   ],
   "source": [
    "wSamp = sampler(reshape(wNeigh,length(wNeigh)));"
   ]
  },
  {
   "cell_type": "code",
   "execution_count": 5,
   "metadata": {
    "collapsed": false
   },
   "outputs": [
    {
     "data": {
      "text/plain": [
       "83x1 Array{Float64,2}:\n",
       " 1.01699    \n",
       " 1.01876    \n",
       " 1.01409    \n",
       " 1.16923    \n",
       " 1.14053    \n",
       " 1.00159    \n",
       " 1.0003     \n",
       " 0.261955   \n",
       " 0.149445   \n",
       " 0.017022   \n",
       " 0.163484   \n",
       " 0.0282268  \n",
       " 0.0277223  \n",
       " ⋮          \n",
       " 0.00296778 \n",
       " 0.000157507\n",
       " 0.000280028\n",
       " 6.71729e-5 \n",
       " 0.000274456\n",
       " 6.6788e-5  \n",
       " 0.000152764\n",
       " 0.00388835 \n",
       " 0.00320217 \n",
       " 6.72398e-5 \n",
       " 7.91692e-5 \n",
       " 0.000155539"
      ]
     },
     "execution_count": 5,
     "metadata": {},
     "output_type": "execute_result"
    }
   ],
   "source": [
    "wNeigh"
   ]
  },
  {
   "cell_type": "code",
   "execution_count": null,
   "metadata": {
    "collapsed": true
   },
   "outputs": [],
   "source": []
  }
 ],
 "metadata": {
  "kernelspec": {
   "display_name": "Julia 0.4.5",
   "language": "julia",
   "name": "julia-0.4"
  },
  "language_info": {
   "file_extension": ".jl",
   "mimetype": "application/julia",
   "name": "julia",
   "version": "0.4.5"
  }
 },
 "nbformat": 4,
 "nbformat_minor": 0
}
