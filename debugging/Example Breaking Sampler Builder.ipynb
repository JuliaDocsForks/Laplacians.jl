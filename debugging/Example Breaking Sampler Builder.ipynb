{
 "cells": [
  {
   "cell_type": "code",
   "execution_count": 1,
   "metadata": {
    "collapsed": false
   },
   "outputs": [
    {
     "data": {
      "text/plain": [
       "epsequal (generic function with 1 method)"
      ]
     },
     "execution_count": 1,
     "metadata": {},
     "output_type": "execute_result"
    }
   ],
   "source": [
    "include(\"../src/fastSampler.jl\")"
   ]
  },
  {
   "cell_type": "code",
   "execution_count": 2,
   "metadata": {
    "collapsed": true
   },
   "outputs": [],
   "source": [
    "wNeigh = readdlm(\"wNeigh.txt\");"
   ]
  },
  {
   "cell_type": "code",
   "execution_count": 3,
   "metadata": {
    "collapsed": false
   },
   "outputs": [
    {
     "ename": "LoadError",
     "evalue": "LoadError: BoundsError: attempt to access 83-element Array{Int64,1}:\n 10\n 12\n 13\n 15\n 16\n 18\n 19\n 20\n 21\n 22\n 23\n 24\n 25\n  ⋮\n  2\n  3\n  4\n  5\n  6\n  7\n  8\n  9\n 11\n 14\n 17\n 28\n  at index [84]\nwhile loading In[3], in expression starting on line 1",
     "output_type": "error",
     "traceback": [
      "LoadError: BoundsError: attempt to access 83-element Array{Int64,1}:\n 10\n 12\n 13\n 15\n 16\n 18\n 19\n 20\n 21\n 22\n 23\n 24\n 25\n  ⋮\n  2\n  3\n  4\n  5\n  6\n  7\n  8\n  9\n 11\n 14\n 17\n 28\n  at index [84]\nwhile loading In[3], in expression starting on line 1",
      ""
     ]
    }
   ],
   "source": [
    "wSamp = sampler(reshape(wNeigh,length(wNeigh)));"
   ]
  },
  {
   "cell_type": "code",
   "execution_count": null,
   "metadata": {
    "collapsed": true
   },
   "outputs": [],
   "source": []
  }
 ],
 "metadata": {
  "kernelspec": {
   "display_name": "Julia 0.4.5",
   "language": "julia",
   "name": "julia-0.4"
  },
  "language_info": {
   "file_extension": ".jl",
   "mimetype": "application/julia",
   "name": "julia",
   "version": "0.4.5"
  }
 },
 "nbformat": 4,
 "nbformat_minor": 0
}
