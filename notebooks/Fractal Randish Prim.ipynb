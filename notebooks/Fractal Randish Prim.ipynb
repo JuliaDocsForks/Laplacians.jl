{
 "cells": [
  {
   "cell_type": "code",
   "execution_count": 1,
   "metadata": {
    "collapsed": false
   },
   "outputs": [
    {
     "name": "stderr",
     "output_type": "stream",
     "text": [
      "/Users/JeffreyLai/anaconda/lib/python2.7/site-packages/matplotlib/font_manager.py:273: UserWarning: Matplotlib is building the font cache using fc-list. This may take a moment.\n",
      "  warnings.warn('Matplotlib is building the font cache using fc-list. This may take a moment.')\n"
     ]
    }
   ],
   "source": [
    "using Laplacians"
   ]
  },
  {
   "cell_type": "code",
   "execution_count": 19,
   "metadata": {
    "collapsed": false
   },
   "outputs": [
    {
     "data": {
      "text/plain": [
       "fractalPrim (generic function with 1 method)"
      ]
     },
     "execution_count": 19,
     "metadata": {},
     "output_type": "execute_result"
    }
   ],
   "source": [
    "include(\"../src/fractalPrim.jl\")"
   ]
  },
  {
   "cell_type": "code",
   "execution_count": 45,
   "metadata": {
    "collapsed": false
   },
   "outputs": [
    {
     "name": "stdout",
     "output_type": "stream",
     "text": [
      " 10.156135 seconds (5.07 M allocations: 2.112 GB, 8.22% gc time)\n"
     ]
    },
    {
     "data": {
      "text/plain": [
       "1000000x1000000 sparse matrix with 7345880 Float64 entries:\n",
       "\t[59915  ,       1]  =  0.272787\n",
       "\t[602867 ,       1]  =  0.587457\n",
       "\t[617739 ,       1]  =  0.31276\n",
       "\t[696807 ,       1]  =  0.838673\n",
       "\t[698624 ,       1]  =  0.847646\n",
       "\t[717268 ,       1]  =  1.65939\n",
       "\t[827408 ,       1]  =  0.479514\n",
       "\t[920411 ,       1]  =  0.18156\n",
       "\t[107576 ,       2]  =  0.162825\n",
       "\t[185020 ,       2]  =  0.340199\n",
       "\t⋮\n",
       "\t[274530 ,  999999]  =  0.249669\n",
       "\t[354570 ,  999999]  =  0.591664\n",
       "\t[434720 ,  999999]  =  0.333689\n",
       "\t[673946 ,  999999]  =  0.501578\n",
       "\t[953999 ,  999999]  =  0.352654\n",
       "\t[144050 , 1000000]  =  0.259577\n",
       "\t[199324 , 1000000]  =  0.919392\n",
       "\t[427581 , 1000000]  =  0.339573\n",
       "\t[577680 , 1000000]  =  0.370156\n",
       "\t[614185 , 1000000]  =  0.17224\n",
       "\t[641101 , 1000000]  =  0.206113"
      ]
     },
     "execution_count": 45,
     "metadata": {},
     "output_type": "execute_result"
    }
   ],
   "source": [
    "@time a = wtedChimera(1000000,17)"
   ]
  },
  {
   "cell_type": "code",
   "execution_count": 38,
   "metadata": {
    "collapsed": false
   },
   "outputs": [
    {
     "name": "stdout",
     "output_type": "stream",
     "text": [
      " 59.560417 seconds (9.65 M allocations: 2.142 GB, 1.59% gc time)\n",
      "  2.651933 seconds (108 allocations: 614.499 MB, 12.35% gc time)\n"
     ]
    },
    {
     "data": {
      "text/plain": [
       "21.52764728249056"
      ]
     },
     "execution_count": 38,
     "metadata": {},
     "output_type": "execute_result"
    }
   ],
   "source": [
    "@time t = fractalPrim(a)\n",
    "@time st = compStretches(t,a);\n",
    "sum(st)/nnz(a)"
   ]
  },
  {
   "cell_type": "code",
   "execution_count": 39,
   "metadata": {
    "collapsed": false
   },
   "outputs": [
    {
     "name": "stdout",
     "output_type": "stream",
     "text": [
      "  8.053102 seconds (29.72 M allocations: 2.320 GB, 8.66% gc time)\n",
      "  2.593238 seconds (108 allocations: 614.499 MB, 12.07% gc time)\n"
     ]
    },
    {
     "data": {
      "text/plain": [
       "6.627525016844156"
      ]
     },
     "execution_count": 39,
     "metadata": {},
     "output_type": "execute_result"
    }
   ],
   "source": [
    "@time t = akpw(a)\n",
    "@time st = compStretches(t,a);\n",
    "sum(st)/nnz(a)"
   ]
  },
  {
   "cell_type": "code",
   "execution_count": 46,
   "metadata": {
    "collapsed": false
   },
   "outputs": [
    {
     "name": "stdout",
     "output_type": "stream",
     "text": [
      "  7.112906 seconds (7.35 M allocations: 1.016 GB, 5.00% gc time)\n",
      "  3.093711 seconds (107 allocations: 614.497 MB, 8.73% gc time)\n"
     ]
    },
    {
     "data": {
      "text/plain": [
       "20.588250460230334"
      ]
     },
     "execution_count": 46,
     "metadata": {},
     "output_type": "execute_result"
    }
   ],
   "source": [
    "@time t = randishPrim(a)\n",
    "@time st = compStretches(t,a);\n",
    "sum(st)/nnz(a)"
   ]
  },
  {
   "cell_type": "code",
   "execution_count": 40,
   "metadata": {
    "collapsed": false
   },
   "outputs": [
    {
     "name": "stdout",
     "output_type": "stream",
     "text": [
      "  5.730222 seconds (5.00 M allocations: 1.129 GB, 12.26% gc time)\n"
     ]
    },
    {
     "data": {
      "text/plain": [
       "1000000x1000000 sparse matrix with 3996000 Float64 entries:\n",
       "\t[17082  ,       1]  =  0.356424\n",
       "\t[366290 ,       1]  =  0.162401\n",
       "\t[445292 ,       1]  =  0.31766\n",
       "\t[879902 ,       1]  =  0.185561\n",
       "\t[95849  ,       2]  =  0.219997\n",
       "\t[175730 ,       2]  =  0.1982\n",
       "\t[618678 ,       2]  =  0.586804\n",
       "\t[975473 ,       2]  =  0.60676\n",
       "\t[117198 ,       3]  =  0.247814\n",
       "\t[310959 ,       3]  =  1.01092\n",
       "\t⋮\n",
       "\t[733014 ,  999998]  =  1.13598\n",
       "\t[815016 ,  999998]  =  0.705375\n",
       "\t[955467 ,  999998]  =  0.331303\n",
       "\t[169729 ,  999999]  =  0.139009\n",
       "\t[309467 ,  999999]  =  0.175444\n",
       "\t[719548 ,  999999]  =  0.189631\n",
       "\t[802285 ,  999999]  =  0.638019\n",
       "\t[27637  , 1000000]  =  0.149497\n",
       "\t[33251  , 1000000]  =  0.359528\n",
       "\t[846010 , 1000000]  =  0.236981\n",
       "\t[890004 , 1000000]  =  0.307911"
      ]
     },
     "execution_count": 40,
     "metadata": {},
     "output_type": "execute_result"
    }
   ],
   "source": [
    "@time a = wtedChimera(1000000,18)"
   ]
  },
  {
   "cell_type": "code",
   "execution_count": 41,
   "metadata": {
    "collapsed": false
   },
   "outputs": [
    {
     "name": "stdout",
     "output_type": "stream",
     "text": [
      " 28.395973 seconds (7.89 M allocations: 2.037 GB, 3.55% gc time)\n",
      "  1.999153 seconds (110 allocations: 384.492 MB, 12.65% gc time)\n"
     ]
    },
    {
     "data": {
      "text/plain": [
       "26.02222120286465"
      ]
     },
     "execution_count": 41,
     "metadata": {},
     "output_type": "execute_result"
    }
   ],
   "source": [
    "@time t = fractalPrim(a)\n",
    "@time st = compStretches(t,a);\n",
    "sum(st)/nnz(a)"
   ]
  },
  {
   "cell_type": "code",
   "execution_count": 42,
   "metadata": {
    "collapsed": false
   },
   "outputs": [
    {
     "name": "stdout",
     "output_type": "stream",
     "text": [
      " 11.918574 seconds (26.64 M allocations: 1.831 GB, 10.69% gc time)\n",
      "  1.985942 seconds (111 allocations: 384.508 MB, 6.84% gc time)\n"
     ]
    },
    {
     "data": {
      "text/plain": [
       "11.364921053466075"
      ]
     },
     "execution_count": 42,
     "metadata": {},
     "output_type": "execute_result"
    }
   ],
   "source": [
    "@time t = akpw(a)\n",
    "@time st = compStretches(t,a);\n",
    "sum(st)/nnz(a)"
   ]
  },
  {
   "cell_type": "code",
   "execution_count": 43,
   "metadata": {
    "collapsed": false
   },
   "outputs": [
    {
     "name": "stdout",
     "output_type": "stream",
     "text": [
      "  4.541482 seconds (4.00 M allocations: 656.627 MB, 7.85% gc time)\n",
      "  2.147432 seconds (110 allocations: 384.492 MB, 14.39% gc time)\n"
     ]
    },
    {
     "data": {
      "text/plain": [
       "24.21758517732378"
      ]
     },
     "execution_count": 43,
     "metadata": {},
     "output_type": "execute_result"
    }
   ],
   "source": [
    "@time t = randishPrim(a)\n",
    "@time st = compStretches(t,a);\n",
    "sum(st)/nnz(a)"
   ]
  },
  {
   "cell_type": "code",
   "execution_count": 47,
   "metadata": {
    "collapsed": false
   },
   "outputs": [
    {
     "name": "stdout",
     "output_type": "stream",
     "text": [
      "  7.181287 seconds (5.01 M allocations: 1.609 GB, 10.84% gc time)\n"
     ]
    },
    {
     "data": {
      "text/plain": [
       "1000000x1000000 sparse matrix with 2999994 Float64 entries:\n",
       "\t[242401 ,       1]  =  0.733465\n",
       "\t[540931 ,       1]  =  0.126954\n",
       "\t[942230 ,       1]  =  1.43078\n",
       "\t[540540 ,       2]  =  0.704185\n",
       "\t[741118 ,       2]  =  0.528918\n",
       "\t[867384 ,       2]  =  0.467337\n",
       "\t[53534  ,       3]  =  2.48903\n",
       "\t[231494 ,       3]  =  1.7284\n",
       "\t[471493 ,       3]  =  2.18902\n",
       "\t[393607 ,       4]  =  0.0998419\n",
       "\t⋮\n",
       "\t[767745 ,  999997]  =  4.45624\n",
       "\t[820229 ,  999997]  =  2.67211\n",
       "\t[253379 ,  999998]  =  2.04336\n",
       "\t[629858 ,  999998]  =  3.98168\n",
       "\t[759905 ,  999998]  =  4.46982\n",
       "\t[692576 ,  999999]  =  1.33795\n",
       "\t[707253 ,  999999]  =  1.69855\n",
       "\t[924386 ,  999999]  =  1.11696\n",
       "\t[478159 , 1000000]  =  0.0823101\n",
       "\t[664916 , 1000000]  =  1.10166\n",
       "\t[881967 , 1000000]  =  0.97687"
      ]
     },
     "execution_count": 47,
     "metadata": {},
     "output_type": "execute_result"
    }
   ],
   "source": [
    "@time a = wtedChimera(1000000,117)"
   ]
  },
  {
   "cell_type": "code",
   "execution_count": 48,
   "metadata": {
    "collapsed": false
   },
   "outputs": [
    {
     "name": "stdout",
     "output_type": "stream",
     "text": [
      " 52.317814 seconds (9.99 M allocations: 2.046 GB, 1.81% gc time)\n",
      "  1.631182 seconds (106 allocations: 316.087 MB, 13.51% gc time)\n"
     ]
    },
    {
     "data": {
      "text/plain": [
       "11.88307862795211"
      ]
     },
     "execution_count": 48,
     "metadata": {},
     "output_type": "execute_result"
    }
   ],
   "source": [
    "@time t = fractalPrim(a)\n",
    "@time st = compStretches(t,a);\n",
    "sum(st)/nnz(a)"
   ]
  },
  {
   "cell_type": "code",
   "execution_count": 49,
   "metadata": {
    "collapsed": false
   },
   "outputs": [
    {
     "name": "stdout",
     "output_type": "stream",
     "text": [
      "  5.150513 seconds (14.82 M allocations: 1.263 GB, 13.10% gc time)\n",
      "  1.562733 seconds (106 allocations: 316.087 MB, 9.50% gc time)\n"
     ]
    },
    {
     "data": {
      "text/plain": [
       "6.324030136514411"
      ]
     },
     "execution_count": 49,
     "metadata": {},
     "output_type": "execute_result"
    }
   ],
   "source": [
    "@time t = akpw(a)\n",
    "@time st = compStretches(t,a);\n",
    "sum(st)/nnz(a)"
   ]
  },
  {
   "cell_type": "code",
   "execution_count": 50,
   "metadata": {
    "collapsed": false
   },
   "outputs": [
    {
     "name": "stdout",
     "output_type": "stream",
     "text": [
      "  3.430710 seconds (3.00 M allocations: 542.643 MB, 11.64% gc time)\n",
      "  1.642166 seconds (106 allocations: 316.087 MB, 12.31% gc time)\n"
     ]
    },
    {
     "data": {
      "text/plain": [
       "12.415239493783675"
      ]
     },
     "execution_count": 50,
     "metadata": {},
     "output_type": "execute_result"
    }
   ],
   "source": [
    "@time t = randishPrim(a)\n",
    "@time st = compStretches(t,a);\n",
    "sum(st)/nnz(a)"
   ]
  },
  {
   "cell_type": "code",
   "execution_count": null,
   "metadata": {
    "collapsed": true
   },
   "outputs": [],
   "source": []
  }
 ],
 "metadata": {
  "kernelspec": {
   "display_name": "Julia 0.4.6",
   "language": "julia",
   "name": "julia-0.4"
  },
  "language_info": {
   "file_extension": ".jl",
   "mimetype": "application/julia",
   "name": "julia",
   "version": "0.4.6"
  }
 },
 "nbformat": 4,
 "nbformat_minor": 0
}
