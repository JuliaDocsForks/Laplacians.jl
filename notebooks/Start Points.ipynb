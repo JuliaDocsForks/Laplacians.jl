{
 "cells": [
  {
   "cell_type": "code",
   "execution_count": 2,
   "metadata": {
    "collapsed": false
   },
   "outputs": [
    {
     "name": "stderr",
     "output_type": "stream",
     "text": [
      "/Users/JeffreyLai/anaconda/lib/python2.7/site-packages/matplotlib/font_manager.py:273: UserWarning: Matplotlib is building the font cache using fc-list. This may take a moment.\n",
      "  warnings.warn('Matplotlib is building the font cache using fc-list. This may take a moment.')\n"
     ]
    }
   ],
   "source": [
    "using Laplacians"
   ]
  },
  {
   "cell_type": "code",
   "execution_count": 3,
   "metadata": {
    "collapsed": false
   },
   "outputs": [],
   "source": [
    "using ProgressMeter"
   ]
  },
  {
   "cell_type": "code",
   "execution_count": 31,
   "metadata": {
    "collapsed": false
   },
   "outputs": [
    {
     "data": {
      "text/plain": [
       "fractalPrim (generic function with 2 methods)"
      ]
     },
     "execution_count": 31,
     "metadata": {},
     "output_type": "execute_result"
    }
   ],
   "source": [
    "include(\"../src/fractalPrim.jl\")"
   ]
  },
  {
   "cell_type": "code",
   "execution_count": 14,
   "metadata": {
    "collapsed": false
   },
   "outputs": [
    {
     "name": "stdout",
     "output_type": "stream",
     "text": [
      " 11.884050 seconds (5.07 M allocations: 2.112 GB, 11.25% gc time)\n"
     ]
    },
    {
     "data": {
      "text/plain": [
       "1000000x1000000 sparse matrix with 7345880 Float64 entries:\n",
       "\t[59915  ,       1]  =  0.272787\n",
       "\t[602867 ,       1]  =  0.587457\n",
       "\t[617739 ,       1]  =  0.31276\n",
       "\t[696807 ,       1]  =  0.838673\n",
       "\t[698624 ,       1]  =  0.847646\n",
       "\t[717268 ,       1]  =  1.65939\n",
       "\t[827408 ,       1]  =  0.479514\n",
       "\t[920411 ,       1]  =  0.18156\n",
       "\t[107576 ,       2]  =  0.162825\n",
       "\t[185020 ,       2]  =  0.340199\n",
       "\t⋮\n",
       "\t[274530 ,  999999]  =  0.249669\n",
       "\t[354570 ,  999999]  =  0.591664\n",
       "\t[434720 ,  999999]  =  0.333689\n",
       "\t[673946 ,  999999]  =  0.501578\n",
       "\t[953999 ,  999999]  =  0.352654\n",
       "\t[144050 , 1000000]  =  0.259577\n",
       "\t[199324 , 1000000]  =  0.919392\n",
       "\t[427581 , 1000000]  =  0.339573\n",
       "\t[577680 , 1000000]  =  0.370156\n",
       "\t[614185 , 1000000]  =  0.17224\n",
       "\t[641101 , 1000000]  =  0.206113"
      ]
     },
     "execution_count": 14,
     "metadata": {},
     "output_type": "execute_result"
    }
   ],
   "source": [
    "@time a = wtedChimera(1000000,17)"
   ]
  },
  {
   "cell_type": "code",
   "execution_count": 15,
   "metadata": {
    "collapsed": false
   },
   "outputs": [
    {
     "name": "stdout",
     "output_type": "stream",
     "text": [
      " 19.073343 seconds (184 allocations: 1.137 GB, 2.53% gc time)\n",
      "  3.670084 seconds (88 allocations: 354.342 MB, 2.84% gc time)\n",
      "  2.553651 seconds (108 allocations: 614.499 MB, 8.87% gc time)\n"
     ]
    },
    {
     "data": {
      "text/plain": [
       "22.88747055913041"
      ]
     },
     "execution_count": 15,
     "metadata": {},
     "output_type": "execute_result"
    }
   ],
   "source": [
    "@time s = makeStartPoints(a, 5)\n",
    "@time t, s_cnts = fractalPrim(a, s)\n",
    "@time st = compStretches(t,a);\n",
    "sum(st)/nnz(a)"
   ]
  },
  {
   "cell_type": "code",
   "execution_count": 10,
   "metadata": {
    "collapsed": false
   },
   "outputs": [
    {
     "name": "stdout",
     "output_type": "stream",
     "text": [
      "Start Point: 652932, Count: 999999\n",
      "Start Point: 34454, Count: 0\n",
      "Start Point: 688667, Count: 0\n",
      "Start Point: 635276, Count: 0\n",
      "Start Point: 392186, Count: 0\n",
      "Start Point: 573505, Count: 0\n",
      "Start Point: 33493, Count: 0\n",
      "Start Point: 536909, Count: 0\n",
      "Start Point: 339451, Count: 0\n",
      "Start Point: 636518, Count: 0\n",
      "Start Point: 49399, Count: 0\n",
      "Start Point: 140075, Count: 0\n",
      "Start Point: 285874, Count: 0\n",
      "Start Point: 74673, Count: 0\n",
      "Start Point: 624210, Count: 0\n",
      "Start Point: 891774, Count: 0\n"
     ]
    }
   ],
   "source": [
    "for i in 1:length(s)\n",
    "    @printf(\"Start Point: %d, Count: %d\\n\", s[i].val, s_cnts[i])\n",
    "end"
   ]
  },
  {
   "cell_type": "code",
   "execution_count": 16,
   "metadata": {
    "collapsed": false
   },
   "outputs": [
    {
     "name": "stdout",
     "output_type": "stream",
     "text": [
      "  0.146686 seconds (52.08 k allocations: 11.820 MB)\n"
     ]
    },
    {
     "data": {
      "text/plain": [
       "10000x10000 sparse matrix with 23264 Float64 entries:\n",
       "\t[2597 ,     1]  =  0.60302\n",
       "\t[2738 ,     1]  =  0.158907\n",
       "\t[7336 ,     2]  =  0.384605\n",
       "\t[2451 ,     3]  =  0.182299\n",
       "\t[2721 ,     3]  =  0.123429\n",
       "\t[8618 ,     3]  =  0.148562\n",
       "\t[8682 ,     3]  =  1.34825\n",
       "\t[8352 ,     4]  =  0.22109\n",
       "\t[3156 ,     5]  =  0.290402\n",
       "\t[4144 ,     6]  =  0.390541\n",
       "\t⋮\n",
       "\t[170  ,  9996]  =  6.92385\n",
       "\t[6116 ,  9996]  =  0.151925\n",
       "\t[7485 ,  9996]  =  0.178418\n",
       "\t[1022 ,  9997]  =  1.20158\n",
       "\t[4756 ,  9997]  =  0.712036\n",
       "\t[7309 ,  9998]  =  0.433934\n",
       "\t[625  ,  9999]  =  0.153105\n",
       "\t[3162 ,  9999]  =  0.182547\n",
       "\t[8155 ,  9999]  =  0.808026\n",
       "\t[7599 , 10000]  =  0.262019\n",
       "\t[8828 , 10000]  =  0.311108"
      ]
     },
     "execution_count": 16,
     "metadata": {},
     "output_type": "execute_result"
    }
   ],
   "source": [
    "@time a = wtedChimera(10000,18)"
   ]
  },
  {
   "cell_type": "code",
   "execution_count": 17,
   "metadata": {
    "collapsed": false
   },
   "outputs": [
    {
     "name": "stdout",
     "output_type": "stream",
     "text": [
      "  0.024298 seconds (112 allocations: 3.495 MB)\n",
      "  0.070803 seconds (79 allocations: 2.042 MB)\n",
      "  0.018331 seconds (98 allocations: 2.863 MB)\n"
     ]
    },
    {
     "data": {
      "text/plain": [
       "4.227172589522362"
      ]
     },
     "execution_count": 17,
     "metadata": {},
     "output_type": "execute_result"
    }
   ],
   "source": [
    "@time s = makeStartPoints(a, 4)\n",
    "@time t, s_cnts = fractalPrim(a, s)\n",
    "@time st = compStretches(t,a);\n",
    "sum(st)/nnz(a)"
   ]
  },
  {
   "cell_type": "code",
   "execution_count": 18,
   "metadata": {
    "collapsed": false
   },
   "outputs": [
    {
     "name": "stdout",
     "output_type": "stream",
     "text": [
      "  0.494601 seconds (130.66 k allocations: 27.039 MB, 23.65% gc time)\n"
     ]
    },
    {
     "data": {
      "text/plain": [
       "10000x10000 sparse matrix with 31096 Float64 entries:\n",
       "\t[10   ,     1]  =  3.25115\n",
       "\t[3147 ,     1]  =  7.43716\n",
       "\t[6437 ,     1]  =  3.95547\n",
       "\t[8806 ,     1]  =  2.73644\n",
       "\t[2560 ,     2]  =  2.56787\n",
       "\t[4803 ,     2]  =  2.92678\n",
       "\t[611  ,     3]  =  1.64504\n",
       "\t[4126 ,     3]  =  1.59006\n",
       "\t[7173 ,     3]  =  0.362711\n",
       "\t[2001 ,     4]  =  2.33302\n",
       "\t⋮\n",
       "\t[9563 ,  9997]  =  1.0965\n",
       "\t[765  ,  9998]  =  5.18425\n",
       "\t[2073 ,  9998]  =  3.07378\n",
       "\t[3230 ,  9998]  =  3.05251\n",
       "\t[5099 ,  9999]  =  0.0499267\n",
       "\t[5465 ,  9999]  =  0.500167\n",
       "\t[7746 ,  9999]  =  0.326326\n",
       "\t[1009 , 10000]  =  0.0499978\n",
       "\t[1861 , 10000]  =  1.74822\n",
       "\t[3155 , 10000]  =  1.23969\n",
       "\t[3632 , 10000]  =  0.119136"
      ]
     },
     "execution_count": 18,
     "metadata": {},
     "output_type": "execute_result"
    }
   ],
   "source": [
    "@time a = wtedChimera(10000,117)"
   ]
  },
  {
   "cell_type": "code",
   "execution_count": 19,
   "metadata": {
    "collapsed": false
   },
   "outputs": [
    {
     "name": "stdout",
     "output_type": "stream",
     "text": [
      "  0.034783 seconds (110 allocations: 4.024 MB)\n",
      "  0.013071 seconds (79 allocations: 2.229 MB)\n",
      "  0.011353 seconds (99 allocations: 3.402 MB)\n"
     ]
    },
    {
     "data": {
      "text/plain": [
       "4.786268177280622"
      ]
     },
     "execution_count": 19,
     "metadata": {},
     "output_type": "execute_result"
    }
   ],
   "source": [
    "@time s = makeStartPoints(a, 4)\n",
    "@time t, s_cnts = fractalPrim(a, s)\n",
    "@time st = compStretches(t,a);\n",
    "sum(st)/nnz(a)"
   ]
  },
  {
   "cell_type": "code",
   "execution_count": 50,
   "metadata": {
    "collapsed": false
   },
   "outputs": [
    {
     "name": "stdout",
     "output_type": "stream",
     "text": [
      "Computing...100% Time: 0:18:08\n",
      "Average stretch: 8.328617054367479\n",
      "Counts: [9.8804467e7,9070.0,198133.0,150284.0,190512.0,64366.0,116066.0,117354.0,293180.0,13185.0,12125.0,1087.0,15535.0,670.0,3966.0,0.0]\n"
     ]
    }
   ],
   "source": [
    "graph_size = 10000\n",
    "round = 4\n",
    "counts = zeros(2^round)\n",
    "\n",
    "seeds = 10000\n",
    "stretches = zeros(Float64, seeds)\n",
    "@showprogress 1 \"Computing...\"for i in 1:seeds\n",
    "    a = wtedChimera(graph_size,i)\n",
    "    s = makeStartPoints(a, round)\n",
    "    t, s_cnts = fractalPrim(a, s, i)\n",
    "    for j in 1:length(s_cnts)\n",
    "        counts[j] += s_cnts[j]\n",
    "    end\n",
    "    st = compStretches(t,a)\n",
    "    stretches[i] = sum(st)/nnz(a)\n",
    "end\n",
    "println(\"Average stretch: \", mean(stretches))\n",
    "println(\"Counts: \",counts)"
   ]
  },
  {
   "cell_type": "code",
   "execution_count": 53,
   "metadata": {
    "collapsed": false
   },
   "outputs": [
    {
     "name": "stdout",
     "output_type": "stream",
     "text": [
      "Computing...100% Time: 0:22:39\n",
      "AKPW Average stretch: 4.328587036879423\n",
      "Randish Prim Average stretch: 8.332118393998282\n"
     ]
    }
   ],
   "source": [
    "stretches_akpw = zeros(Float64, seeds)\n",
    "stretches_rp = zeros(Float64, seeds)\n",
    "@showprogress 1 \"Computing...\"for i in 1:seeds\n",
    "    a = wtedChimera(graph_size,i)\n",
    "    t = akpw(a)\n",
    "    st = compStretches(t,a)\n",
    "    stretches_akpw[i] = sum(st)/nnz(a)\n",
    "    t = randishPrim(a)\n",
    "    st = compStretches(t,a)\n",
    "    stretches_rp[i] = sum(st)/nnz(a)\n",
    "end\n",
    "println(\"AKPW Average stretch: \", mean(stretches_akpw))\n",
    "println(\"Randish Prim Average stretch: \", mean(stretches_rp))"
   ]
  },
  {
   "cell_type": "code",
   "execution_count": 29,
   "metadata": {
    "collapsed": false
   },
   "outputs": [
    {
     "data": {
      "text/plain": [
       "12.113090165494556"
      ]
     },
     "execution_count": 29,
     "metadata": {},
     "output_type": "execute_result"
    }
   ],
   "source": [
    "t, s_cnts = fractalPrim(a, s, 7)\n",
    "st = compStretches(t,a)\n"
   ]
  },
  {
   "cell_type": "code",
   "execution_count": 44,
   "metadata": {
    "collapsed": false
   },
   "outputs": [
    {
     "name": "stdout",
     "output_type": "stream",
     "text": [
      "Average stretch: 0.0006358544196469361\n",
      "Counts: [2.27324746e8,27927.0,384366.0,379733.0,437606.0,111538.0,330453.0,264003.0,644306.0,50434.0,43623.0,8829.0,33512.0,680.0,5237.0,0.0]\n"
     ]
    }
   ],
   "source": [
    "println(\"Average stretch: \", mean(stretches))\n",
    "println(\"Counts: \",counts)"
   ]
  },
  {
   "cell_type": "code",
   "execution_count": 48,
   "metadata": {
    "collapsed": false
   },
   "outputs": [
    {
     "data": {
      "text/plain": [
       "7.872260488995536"
      ]
     },
     "execution_count": 48,
     "metadata": {},
     "output_type": "execute_result"
    }
   ],
   "source": [
    "sum(st)/nnz(a)"
   ]
  },
  {
   "cell_type": "code",
   "execution_count": 5,
   "metadata": {
    "collapsed": false
   },
   "outputs": [
    {
     "name": "stdout",
     "output_type": "stream",
     "text": [
      "Computing...100% Time: 0:31:14\n"
     ]
    },
    {
     "ename": "LoadError",
     "evalue": "LoadError: UndefVarError: stretches not defined\nwhile loading In[5], in expression starting on line 25",
     "output_type": "error",
     "traceback": [
      "LoadError: UndefVarError: stretches not defined\nwhile loading In[5], in expression starting on line 25",
      ""
     ]
    }
   ],
   "source": [
    "graph_size = 10000\n",
    "round = 4\n",
    "counts = zeros(2^round)\n",
    "seeds = 10000\n",
    "\n",
    "stretches_doubling = zeros(Float64, seeds)\n",
    "stretches_akpw = zeros(Float64, seeds)\n",
    "stretches_rp = zeros(Float64, seeds)\n",
    "\n",
    "@showprogress 1 \"Computing...\"for i in 1:seeds\n",
    "    a = wtedChimera(graph_size,i)\n",
    "    s = makeStartPoints(a, round)\n",
    "    t, s_cnts = fractalPrim(a, s, i)\n",
    "    for j in 1:length(s_cnts)\n",
    "        counts[j] += s_cnts[j]\n",
    "    end\n",
    "    st = compStretches(t,a)\n",
    "    stretches_doubling[i] = sum(st)/nnz(a)\n",
    "    t = akpw(a)\n",
    "    st = compStretches(t,a)\n",
    "    stretches_akpw[i] = sum(st)/nnz(a)\n",
    "    t = randishPrim(a)\n",
    "    st = compStretches(t,a)\n",
    "    stretches_rp[i] = sum(st)/nnz(a)\n",
    "end"
   ]
  },
  {
   "cell_type": "code",
   "execution_count": null,
   "metadata": {
    "collapsed": true
   },
   "outputs": [],
   "source": []
  },
  {
   "cell_type": "code",
   "execution_count": 6,
   "metadata": {
    "collapsed": false
   },
   "outputs": [
    {
     "name": "stdout",
     "output_type": "stream",
     "text": [
      "AKPW Average stretch: 4.328587036879423\n",
      "Randish Prim Average stretch: 8.334786007845537\n",
      "Average stretch: 8.405144559713815\n",
      "Counts: [8.5511912e7,1.631755e6,1.751022e6,614415.0,2.196982e6,684190.0,972715.0,577735.0,2.145046e6,932014.0,841881.0,474519.0,821091.0,330155.0,302678.0,201890.0]\n"
     ]
    }
   ],
   "source": [
    "println(\"AKPW Average stretch: \", mean(stretches_akpw))\n",
    "println(\"Randish Prim Average stretch: \", mean(stretches_rp))\n",
    "println(\"Average stretch: \", mean(stretches_doubling))\n",
    "println(\"Counts: \",counts)"
   ]
  },
  {
   "cell_type": "code",
   "execution_count": 49,
   "metadata": {
    "collapsed": false
   },
   "outputs": [
    {
     "data": {
      "image/png": "[encoded data removed]",
      "text/plain": [
       "PyPlot.Figure(PyObject <matplotlib.figure.Figure object at 0x31c754490>)"
      ]
     },
     "metadata": {},
     "output_type": "display_data"
    },
    {
     "data": {
      "text/plain": [
       "1-element Array{Any,1}:\n",
       " PyObject <matplotlib.lines.Line2D object at 0x31c8bd7d0>"
      ]
     },
     "execution_count": 49,
     "metadata": {},
     "output_type": "execute_result"
    }
   ],
   "source": [
    "#using PyPlot\n",
    "# %matplotlib notebook\n",
    "rat = stretches_doubling ./ stretches_rp\n",
    "rat = sort(rat)\n",
    "plot(rat[1:9500])"
   ]
  },
  {
   "cell_type": "code",
   "execution_count": 50,
   "metadata": {
    "collapsed": false
   },
   "outputs": [
    {
     "data": {
      "text/plain": [
       "6-element Array{Float64,1}:\n",
       "  3.12315\n",
       "  3.7826 \n",
       "  3.86217\n",
       "  6.86886\n",
       "  8.11673\n",
       " 34.7657 "
      ]
     },
     "execution_count": 50,
     "metadata": {},
     "output_type": "execute_result"
    }
   ],
   "source": [
    "rat[end-5:end]"
   ]
  },
  {
   "cell_type": "code",
   "execution_count": 33,
   "metadata": {
    "collapsed": false
   },
   "outputs": [
    {
     "name": "stdout",
     "output_type": "stream",
     "text": [
      "Computing...100% Time: 0:01:28\n",
      "Average stretch: 11.888498142240154\n"
     ]
    }
   ],
   "source": [
    "graph_size = 10000\n",
    "round = 4\n",
    "seeds = 1000\n",
    "stretches_exprv = zeros(Float64, seeds)\n",
    "# stretches_akpw_unweighted = zeros(Float64, seeds)\n",
    "# stretches_rp_unweighted = zeros(Float64, seeds)\n",
    "\n",
    "@showprogress 1 \"Computing...\"for i in 1:seeds\n",
    "    a = chimera(graph_size,i)\n",
    "    s = makeUniformExpRVStartPoints(a, 4*log(graph_size), i)\n",
    "    t, s_cnts = fractalPrim(a, s, i)\n",
    "    st = compStretches(t,a)\n",
    "    stretches_exprv[i] = sum(st)/nnz(a)\n",
    "end\n",
    "println(\"Average stretch: \", mean(stretches_exprv))\n",
    "# println(\"Average stretch akpw: \", mean(stretches_akpw_unweighted))\n",
    "# println(\"Average stretch randish prim: \", mean(stretches_rp_unweighted))"
   ]
  },
  {
   "cell_type": "code",
   "execution_count": 11,
   "metadata": {
    "collapsed": false
   },
   "outputs": [
    {
     "data": {
      "text/plain": [
       "1000x1000 sparse matrix with 7576 Float64 entries:\n",
       "\t[313 ,    1]  =  1.0\n",
       "\t[396 ,    1]  =  1.0\n",
       "\t[424 ,    1]  =  1.0\n",
       "\t[466 ,    1]  =  1.0\n",
       "\t[776 ,    1]  =  1.0\n",
       "\t[799 ,    1]  =  1.0\n",
       "\t[845 ,    1]  =  1.0\n",
       "\t[955 ,    1]  =  1.0\n",
       "\t[970 ,    1]  =  1.0\n",
       "\t[191 ,    2]  =  1.0\n",
       "\t⋮\n",
       "\t[804 ,  999]  =  1.0\n",
       "\t[820 ,  999]  =  1.0\n",
       "\t[156 , 1000]  =  1.0\n",
       "\t[286 , 1000]  =  1.0\n",
       "\t[310 , 1000]  =  1.0\n",
       "\t[503 , 1000]  =  1.0\n",
       "\t[554 , 1000]  =  1.0\n",
       "\t[684 , 1000]  =  1.0\n",
       "\t[728 , 1000]  =  1.0\n",
       "\t[959 , 1000]  =  1.0\n",
       "\t[981 , 1000]  =  1.0"
      ]
     },
     "execution_count": 11,
     "metadata": {},
     "output_type": "execute_result"
    }
   ],
   "source": [
    "chimera(1000,1)"
   ]
  },
  {
   "cell_type": "code",
   "execution_count": null,
   "metadata": {
    "collapsed": true
   },
   "outputs": [],
   "source": []
  }
 ],
 "metadata": {
  "kernelspec": {
   "display_name": "Julia 0.4.6",
   "language": "julia",
   "name": "julia-0.4"
  },
  "language_info": {
   "file_extension": ".jl",
   "mimetype": "application/julia",
   "name": "julia",
   "version": "0.4.6"
  }
 },
 "nbformat": 4,
 "nbformat_minor": 0
}
