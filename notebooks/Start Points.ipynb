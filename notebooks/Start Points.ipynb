{
 "cells": [
  {
   "cell_type": "code",
   "execution_count": 1,
   "metadata": {
    "collapsed": false
   },
   "outputs": [
    {
     "name": "stderr",
     "output_type": "stream",
     "text": [
      "/Users/JeffreyLai/anaconda/lib/python2.7/site-packages/matplotlib/font_manager.py:273: UserWarning: Matplotlib is building the font cache using fc-list. This may take a moment.\n",
      "  warnings.warn('Matplotlib is building the font cache using fc-list. This may take a moment.')\n"
     ]
    }
   ],
   "source": [
    "using Laplacians"
   ]
  },
  {
   "cell_type": "code",
   "execution_count": 5,
   "metadata": {
    "collapsed": false
   },
   "outputs": [
    {
     "data": {
      "text/plain": [
       "fractalPrim (generic function with 1 method)"
      ]
     },
     "execution_count": 5,
     "metadata": {},
     "output_type": "execute_result"
    }
   ],
   "source": [
    "include(\"../src/fractalPrim.jl\")"
   ]
  },
  {
   "cell_type": "code",
   "execution_count": 3,
   "metadata": {
    "collapsed": false
   },
   "outputs": [
    {
     "name": "stdout",
     "output_type": "stream",
     "text": [
      " 14.945564 seconds (10.06 M allocations: 2.333 GB, 5.88% gc time)\n"
     ]
    },
    {
     "data": {
      "text/plain": [
       "1000000x1000000 sparse matrix with 7345880 Float64 entries:\n",
       "\t[59915  ,       1]  =  0.272787\n",
       "\t[602867 ,       1]  =  0.587457\n",
       "\t[617739 ,       1]  =  0.31276\n",
       "\t[696807 ,       1]  =  0.838673\n",
       "\t[698624 ,       1]  =  0.847646\n",
       "\t[717268 ,       1]  =  1.65939\n",
       "\t[827408 ,       1]  =  0.479514\n",
       "\t[920411 ,       1]  =  0.18156\n",
       "\t[107576 ,       2]  =  0.162825\n",
       "\t[185020 ,       2]  =  0.340199\n",
       "\t⋮\n",
       "\t[274530 ,  999999]  =  0.249669\n",
       "\t[354570 ,  999999]  =  0.591664\n",
       "\t[434720 ,  999999]  =  0.333689\n",
       "\t[673946 ,  999999]  =  0.501578\n",
       "\t[953999 ,  999999]  =  0.352654\n",
       "\t[144050 , 1000000]  =  0.259577\n",
       "\t[199324 , 1000000]  =  0.919392\n",
       "\t[427581 , 1000000]  =  0.339573\n",
       "\t[577680 , 1000000]  =  0.370156\n",
       "\t[614185 , 1000000]  =  0.17224\n",
       "\t[641101 , 1000000]  =  0.206113"
      ]
     },
     "execution_count": 3,
     "metadata": {},
     "output_type": "execute_result"
    }
   ],
   "source": [
    "@time a = wtedChimera(1000000,17)"
   ]
  },
  {
   "cell_type": "code",
   "execution_count": 6,
   "metadata": {
    "collapsed": false
   },
   "outputs": [
    {
     "name": "stdout",
     "output_type": "stream",
     "text": [
      " 17.135588 seconds (59.56 k allocations: 933.978 MB, 5.98% gc time)\n",
      "  4.371276 seconds (40.35 k allocations: 356.219 MB, 3.10% gc time)\n",
      "  4.887532 seconds (108 allocations: 614.499 MB, 14.67% gc time)\n"
     ]
    },
    {
     "data": {
      "text/plain": [
       "22.564395070167517"
      ]
     },
     "execution_count": 6,
     "metadata": {},
     "output_type": "execute_result"
    }
   ],
   "source": [
    "@time s = makeStartPoints(a, 4)\n",
    "@time t, s_cnts = fractalPrim(a, s)\n",
    "@time st = compStretches(t,a);\n",
    "sum(st)/nnz(a)"
   ]
  },
  {
   "cell_type": "code",
   "execution_count": 10,
   "metadata": {
    "collapsed": false
   },
   "outputs": [
    {
     "name": "stdout",
     "output_type": "stream",
     "text": [
      "Start Point: 652932, Count: 999999\n",
      "Start Point: 34454, Count: 0\n",
      "Start Point: 688667, Count: 0\n",
      "Start Point: 635276, Count: 0\n",
      "Start Point: 392186, Count: 0\n",
      "Start Point: 573505, Count: 0\n",
      "Start Point: 33493, Count: 0\n",
      "Start Point: 536909, Count: 0\n",
      "Start Point: 339451, Count: 0\n",
      "Start Point: 636518, Count: 0\n",
      "Start Point: 49399, Count: 0\n",
      "Start Point: 140075, Count: 0\n",
      "Start Point: 285874, Count: 0\n",
      "Start Point: 74673, Count: 0\n",
      "Start Point: 624210, Count: 0\n",
      "Start Point: 891774, Count: 0\n"
     ]
    }
   ],
   "source": [
    "for i in 1:length(s)\n",
    "    @printf(\"Start Point: %d, Count: %d\\n\", s[i].val, s_cnts[i])\n",
    "end"
   ]
  },
  {
   "cell_type": "code",
   "execution_count": 6,
   "metadata": {
    "collapsed": false
   },
   "outputs": [
    {
     "name": "stdout",
     "output_type": "stream",
     "text": [
      "  5.781394 seconds (5.00 M allocations: 1.129 GB, 13.63% gc time)\n"
     ]
    },
    {
     "data": {
      "text/plain": [
       "1000000x1000000 sparse matrix with 3996000 Float64 entries:\n",
       "\t[17082  ,       1]  =  0.356424\n",
       "\t[366290 ,       1]  =  0.162401\n",
       "\t[445292 ,       1]  =  0.31766\n",
       "\t[879902 ,       1]  =  0.185561\n",
       "\t[95849  ,       2]  =  0.219997\n",
       "\t[175730 ,       2]  =  0.1982\n",
       "\t[618678 ,       2]  =  0.586804\n",
       "\t[975473 ,       2]  =  0.60676\n",
       "\t[117198 ,       3]  =  0.247814\n",
       "\t[310959 ,       3]  =  1.01092\n",
       "\t⋮\n",
       "\t[733014 ,  999998]  =  1.13598\n",
       "\t[815016 ,  999998]  =  0.705375\n",
       "\t[955467 ,  999998]  =  0.331303\n",
       "\t[169729 ,  999999]  =  0.139009\n",
       "\t[309467 ,  999999]  =  0.175444\n",
       "\t[719548 ,  999999]  =  0.189631\n",
       "\t[802285 ,  999999]  =  0.638019\n",
       "\t[27637  , 1000000]  =  0.149497\n",
       "\t[33251  , 1000000]  =  0.359528\n",
       "\t[846010 , 1000000]  =  0.236981\n",
       "\t[890004 , 1000000]  =  0.307911"
      ]
     },
     "execution_count": 6,
     "metadata": {},
     "output_type": "execute_result"
    }
   ],
   "source": [
    "@time a = wtedChimera(1000000,18)"
   ]
  },
  {
   "cell_type": "code",
   "execution_count": 8,
   "metadata": {
    "collapsed": false
   },
   "outputs": [
    {
     "ename": "LoadError",
     "evalue": "LoadError: BoundsError: attempt to access 1000001-element Array{Int64,1}:\n       1\n       4\n       7\n      10\n      13\n      16\n      19\n      22\n      25\n      28\n      31\n      34\n      37\n       ⋮\n 2999962\n 2999965\n 2999968\n 2999971\n 2999974\n 2999977\n 2999980\n 2999983\n 2999986\n 2999989\n 2999992\n 2999995\n  at index [0]\nwhile loading In[8], in expression starting on line 155",
     "output_type": "error",
     "traceback": [
      "LoadError: BoundsError: attempt to access 1000001-element Array{Int64,1}:\n       1\n       4\n       7\n      10\n      13\n      16\n      19\n      22\n      25\n      28\n      31\n      34\n      37\n       ⋮\n 2999962\n 2999965\n 2999968\n 2999971\n 2999974\n 2999977\n 2999980\n 2999983\n 2999986\n 2999989\n 2999992\n 2999995\n  at index [0]\nwhile loading In[8], in expression starting on line 155",
      "",
      " in getNewStartPoints at /Users/JeffreyLai/Documents/Jeffrey_Work/Senior_Year/Fall_Term/Thesis/Laplacians.jl/src/fractalPrim.jl:38",
      " in makeStartPoints at /Users/JeffreyLai/Documents/Jeffrey_Work/Senior_Year/Fall_Term/Thesis/Laplacians.jl/src/fractalPrim.jl:87"
     ]
    }
   ],
   "source": [
    "@time s = makeStartPoints(a, 4)\n",
    "@time t = fractalPrim(a, s)\n",
    "@time st = compStretches(t,a);\n",
    "sum(st)/nnz(a)"
   ]
  },
  {
   "cell_type": "code",
   "execution_count": 5,
   "metadata": {
    "collapsed": false
   },
   "outputs": [
    {
     "name": "stdout",
     "output_type": "stream",
     "text": [
      "  7.235604 seconds (5.02 M allocations: 1.610 GB, 12.79% gc time)\n"
     ]
    },
    {
     "data": {
      "text/plain": [
       "1000000x1000000 sparse matrix with 2999994 Float64 entries:\n",
       "\t[242401 ,       1]  =  0.733465\n",
       "\t[540931 ,       1]  =  0.126954\n",
       "\t[942230 ,       1]  =  1.43078\n",
       "\t[540540 ,       2]  =  0.704185\n",
       "\t[741118 ,       2]  =  0.528918\n",
       "\t[867384 ,       2]  =  0.467337\n",
       "\t[53534  ,       3]  =  2.48903\n",
       "\t[231494 ,       3]  =  1.7284\n",
       "\t[471493 ,       3]  =  2.18902\n",
       "\t[393607 ,       4]  =  0.0998419\n",
       "\t⋮\n",
       "\t[767745 ,  999997]  =  4.45624\n",
       "\t[820229 ,  999997]  =  2.67211\n",
       "\t[253379 ,  999998]  =  2.04336\n",
       "\t[629858 ,  999998]  =  3.98168\n",
       "\t[759905 ,  999998]  =  4.46982\n",
       "\t[692576 ,  999999]  =  1.33795\n",
       "\t[707253 ,  999999]  =  1.69855\n",
       "\t[924386 ,  999999]  =  1.11696\n",
       "\t[478159 , 1000000]  =  0.0823101\n",
       "\t[664916 , 1000000]  =  1.10166\n",
       "\t[881967 , 1000000]  =  0.97687"
      ]
     },
     "execution_count": 5,
     "metadata": {},
     "output_type": "execute_result"
    }
   ],
   "source": [
    "@time a = wtedChimera(1000000,117)"
   ]
  },
  {
   "cell_type": "code",
   "execution_count": 6,
   "metadata": {
    "collapsed": false
   },
   "outputs": [
    {
     "ename": "LoadError",
     "evalue": "LoadError: MethodError: `makeStartPoints` has no method matching makeStartPoints(::SparseMatrixCSC{Float64,Int64})\nClosest candidates are:\n  makeStartPoints{Tval,Tind}(::SparseMatrixCSC{Tval,Tind}, !Matched::Int64)\nwhile loading In[6], in expression starting on line 155",
     "output_type": "error",
     "traceback": [
      "LoadError: MethodError: `makeStartPoints` has no method matching makeStartPoints(::SparseMatrixCSC{Float64,Int64})\nClosest candidates are:\n  makeStartPoints{Tval,Tind}(::SparseMatrixCSC{Tval,Tind}, !Matched::Int64)\nwhile loading In[6], in expression starting on line 155",
      ""
     ]
    }
   ],
   "source": [
    "@time s = makeStartPoints(a, 4)\n",
    "@time t = fractalPrim(a, s)\n",
    "@time st = compStretches(t,a);\n",
    "sum(st)/nnz(a)"
   ]
  },
  {
   "cell_type": "code",
   "execution_count": null,
   "metadata": {
    "collapsed": true
   },
   "outputs": [],
   "source": []
  }
 ],
 "metadata": {
  "kernelspec": {
   "display_name": "Julia 0.4.6",
   "language": "julia",
   "name": "julia-0.4"
  },
  "language_info": {
   "file_extension": ".jl",
   "mimetype": "application/julia",
   "name": "julia",
   "version": "0.4.6"
  }
 },
 "nbformat": 4,
 "nbformat_minor": 0
}
