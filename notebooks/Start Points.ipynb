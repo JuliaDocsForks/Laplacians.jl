{
 "cells": [
  {
   "cell_type": "code",
   "execution_count": 4,
   "metadata": {
    "collapsed": false
   },
   "outputs": [
    {
     "data": {
      "text/plain": [
       "fractalPrim (generic function with 2 methods)"
      ]
     },
     "execution_count": 4,
     "metadata": {},
     "output_type": "execute_result"
    }
   ],
   "source": [
    "using Laplacians\n",
    "using ProgressMeter\n",
    "include(\"../src/fractalPrim.jl\")"
   ]
  },
  {
   "cell_type": "code",
   "execution_count": 5,
   "metadata": {
    "collapsed": false
   },
   "outputs": [
    {
     "name": "stdout",
     "output_type": "stream",
     "text": [
      "Computing...  1%  ETA: 0:28:15"
     ]
    },
    {
     "ename": "LoadError",
     "evalue": "LoadError: InterruptException:\nwhile loading In[5], in expression starting on line 7",
     "output_type": "error",
     "traceback": [
      "LoadError: InterruptException:\nwhile loading In[5], in expression starting on line 7",
      "",
      " in percolate_down! at collections.jl:37",
      " in heappop! at collections.jl:70",
      " in getNewStartPoints at /Users/JeffreyLai/Documents/Jeffrey_Work/Senior_Year/Fall_Term/Thesis/Laplacians.jl/src/fractalPrim.jl:51",
      " in makeStartPoints at /Users/JeffreyLai/Documents/Jeffrey_Work/Senior_Year/Fall_Term/Thesis/Laplacians.jl/src/fractalPrim.jl:89",
      " [inlined code] from In[5]:9",
      " in anonymous at /Users/JeffreyLai/.julia/v0.4/ProgressMeter/src/ProgressMeter.jl:473"
     ]
    }
   ],
   "source": [
    "graph_size = 10000\n",
    "round = 4\n",
    "counts = zeros(2^round)\n",
    "\n",
    "seeds = 10000\n",
    "stretches = zeros(Float64, seeds)\n",
    "@showprogress 1 \"Computing...\"for i in 1:seeds\n",
    "    a = wtedChimera(graph_size,i)\n",
    "    s = makeStartPoints(a, round)\n",
    "    t, s_cnts = fractalPrim(a, s, i)\n",
    "    for j in 1:length(s_cnts)\n",
    "        counts[j] += s_cnts[j]\n",
    "    end\n",
    "    st = compStretches(t,a)\n",
    "    stretches[i] = sum(st)/nnz(a)\n",
    "end\n",
    "println(\"Average stretch: \", mean(stretches))\n",
    "println(\"Counts: \",counts)"
   ]
  },
  {
   "cell_type": "code",
   "execution_count": 53,
   "metadata": {
    "collapsed": false
   },
   "outputs": [
    {
     "name": "stdout",
     "output_type": "stream",
     "text": [
      "Computing...100% Time: 0:22:39\n",
      "AKPW Average stretch: 4.328587036879423\n",
      "Randish Prim Average stretch: 8.332118393998282\n"
     ]
    }
   ],
   "source": [
    "stretches_akpw = zeros(Float64, seeds)\n",
    "stretches_rp = zeros(Float64, seeds)\n",
    "@showprogress 1 \"Computing...\"for i in 1:seeds\n",
    "    a = wtedChimera(graph_size,i)\n",
    "    t = akpw(a)\n",
    "    st = compStretches(t,a)\n",
    "    stretches_akpw[i] = sum(st)/nnz(a)\n",
    "    t = randishPrim(a)\n",
    "    st = compStretches(t,a)\n",
    "    stretches_rp[i] = sum(st)/nnz(a)\n",
    "end\n",
    "println(\"AKPW Average stretch: \", mean(stretches_akpw))\n",
    "println(\"Randish Prim Average stretch: \", mean(stretches_rp))"
   ]
  },
  {
   "cell_type": "code",
   "execution_count": 1,
   "metadata": {
    "collapsed": false
   },
   "outputs": [
    {
     "ename": "LoadError",
     "evalue": "LoadError: UndefVarError: @showprogress not defined\nwhile loading In[1], in expression starting on line 25",
     "output_type": "error",
     "traceback": [
      "LoadError: UndefVarError: @showprogress not defined\nwhile loading In[1], in expression starting on line 25",
      ""
     ]
    }
   ],
   "source": [
    "graph_size = 10000\n",
    "round = 4\n",
    "counts = zeros(2^round)\n",
    "seeds = 10000\n",
    "\n",
    "stretches_doubling = zeros(Float64, seeds)\n",
    "stretches_akpw = zeros(Float64, seeds)\n",
    "stretches_rp = zeros(Float64, seeds)\n",
    "\n",
    "@showprogress 1 \"Computing...\"for i in 1:seeds\n",
    "    a = wtedChimera(graph_size,i)\n",
    "    s = makeStartPoints(a, round)\n",
    "    t, s_cnts = fractalPrim(a, s, i)\n",
    "    for j in 1:length(s_cnts)\n",
    "        counts[j] += s_cnts[j]\n",
    "    end\n",
    "    st = compStretches(t,a)\n",
    "    stretches_doubling[i] = sum(st)/nnz(a)\n",
    "    t = akpw(a)\n",
    "    st = compStretches(t,a)\n",
    "    stretches_akpw[i] = sum(st)/nnz(a)\n",
    "    t = randishPrim(a)\n",
    "    st = compStretches(t,a)\n",
    "    stretches_rp[i] = sum(st)/nnz(a)\n",
    "end"
   ]
  },
  {
   "cell_type": "code",
   "execution_count": 33,
   "metadata": {
    "collapsed": false
   },
   "outputs": [
    {
     "name": "stdout",
     "output_type": "stream",
     "text": [
      "Computing...100% Time: 0:01:28\n",
      "Average stretch: 11.888498142240154\n"
     ]
    }
   ],
   "source": [
    "graph_size = 10000\n",
    "round = 4\n",
    "seeds = 1000\n",
    "stretches_exprv = zeros(Float64, seeds)\n",
    "# stretches_akpw_unweighted = zeros(Float64, seeds)\n",
    "# stretches_rp_unweighted = zeros(Float64, seeds)\n",
    "\n",
    "@showprogress 1 \"Computing...\"for i in 1:seeds\n",
    "    a = chimera(graph_size,i)\n",
    "    s = makeUniformExpRVStartPoints(a, 4*log(graph_size), i)\n",
    "    t, s_cnts = fractalPrim(a, s, i)\n",
    "    st = compStretches(t,a)\n",
    "    stretches_exprv[i] = sum(st)/nnz(a)\n",
    "end\n",
    "println(\"Average stretch: \", mean(stretches_exprv))\n",
    "# println(\"Average stretch akpw: \", mean(stretches_akpw_unweighted))\n",
    "# println(\"Average stretch randish prim: \", mean(stretches_rp_unweighted))"
   ]
  },
  {
   "cell_type": "markdown",
   "metadata": {},
   "source": [
    "# Current"
   ]
  },
  {
   "cell_type": "code",
   "execution_count": 7,
   "metadata": {
    "collapsed": false
   },
   "outputs": [],
   "source": [
    "graph_size = 20000\n",
    "seeds = 1000000\n",
    "weights = [log(graph_size), 2*log(graph_size), 16*log(graph_size), sqrt(graph_size)]\n",
    "stretches_exprv = zeros(Float64, 4, seeds)\n",
    "stretches_akpw_unweighted = zeros(Float64, seeds)\n",
    "stretches_akpw = zeros(Float64, seeds)\n",
    "stretches_rp = zeros(Float64, seeds)\n",
    "stretches_rp_unweighted = zeros(Float64, seeds)\n",
    "stretches_deg = zeros(Float64, seeds)\n",
    "stretches_deg_unweighted = zeros(Float64, seeds)\n",
    "\n",
    "@showprogress 1 \"Computing...\"for i in 1:seeds\n",
    "    a = chimera(graph_size,i)\n",
    "    for w in 1:4\n",
    "        s = makeUniformExpRVStartPoints(a, weights[w], i)\n",
    "        t, s_cnts = fractalPrim(a, s, i)\n",
    "        st = compStretches(t,a)\n",
    "        stretches_exprv[w, i] = sum(st)/nnz(a)\n",
    "    end\n",
    "    s = makeDegreeStartPoints(a, i)\n",
    "    t, s_cnts = fractalPrim(a, s, i)\n",
    "    st = compStretches(t,a)\n",
    "    stretches_deg_unweighted[i] = sum(st)/nnz(a)\n",
    "    \n",
    "    t = randishPrim(a)\n",
    "    st = compStretches(t,a)\n",
    "    stretches_rp_unweighted[i] = sum(st)/nnz(a)\n",
    "    t = akpw(a)\n",
    "    st = compStretches(t,a)\n",
    "    stretches_akpw_unweighted[i] = sum(st)/nnz(a)\n",
    "end\n",
    "@showprogress 1 \"Computing...\"for i in 1:seeds\n",
    "    a = wtedChimera(graph_size,i)\n",
    "    s = makeDegreeStartPoints(a, i)\n",
    "    t, s_cnts = fractalPrim(a, s, i)\n",
    "    st = compStretches(t,a)\n",
    "    stretches_deg[i] = sum(st)/nnz(a)\n",
    "    \n",
    "    t = randishPrim(a)\n",
    "    st = compStretches(t,a)\n",
    "    stretches_rp[i] = sum(st)/nnz(a)\n",
    "    \n",
    "    t = akpw(a)\n",
    "    st = compStretches(t,a)\n",
    "    stretches_akpw[i] = sum(st)/nnz(a)\n",
    "end"
   ]
  },
  {
   "cell_type": "code",
   "execution_count": null,
   "metadata": {
    "collapsed": true
   },
   "outputs": [],
   "source": []
  }
 ],
 "metadata": {
  "anaconda-cloud": {},
  "kernelspec": {
   "display_name": "Julia 0.4.6",
   "language": "julia",
   "name": "julia-0.4"
  },
  "language_info": {
   "file_extension": ".jl",
   "mimetype": "application/julia",
   "name": "julia",
   "version": "0.4.6"
  }
 },
 "nbformat": 4,
 "nbformat_minor": 0
}
