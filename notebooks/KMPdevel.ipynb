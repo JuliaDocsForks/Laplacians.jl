{
 "cells": [
  {
   "cell_type": "code",
   "execution_count": 1,
   "metadata": {
    "collapsed": false
   },
   "outputs": [],
   "source": [
    "using Laplacians\n"
   ]
  },
  {
   "cell_type": "code",
   "execution_count": 37,
   "metadata": {
    "collapsed": false
   },
   "outputs": [
    {
     "data": {
      "text/plain": [
       "stretchSample (generic function with 1 method)"
      ]
     },
     "execution_count": 37,
     "metadata": {},
     "output_type": "execute_result"
    }
   ],
   "source": [
    "include(\"../devel/kmpTest.jl\")\n",
    "include(\"../src/KMPSolver.jl\")"
   ]
  },
  {
   "cell_type": "code",
   "execution_count": 40,
   "metadata": {
    "collapsed": true
   },
   "outputs": [],
   "source": [
    "n = 100000\n",
    "a = chimera(n)\n",
    "la = lap(a)\n",
    "b = randn(n);\n",
    "b = b - mean(b);\n",
    "\n",
    "#t = akpw(a)\n",
    "#heavy = makeHeavy(a,t)\n",
    "#lheavy = lap(heavy);"
   ]
  },
  {
   "cell_type": "markdown",
   "metadata": {},
   "source": [
    "A test of the solver code, with some param settings thrown in"
   ]
  },
  {
   "cell_type": "code",
   "execution_count": 41,
   "metadata": {
    "collapsed": false
   },
   "outputs": [
    {
     "name": "stdout",
     "output_type": "stream",
     "text": [
      "level : 0\n",
      "50132, 100000\n",
      "level : 1\n",
      "5290, 19351\n",
      "level : 2\n",
      "549, 2165\n",
      "level : 3\n",
      "40, 157\n",
      "  1.726749 seconds (2.40 M allocations: 306.944 MB, 7.89% gc time)\n",
      "  1.847639 seconds (264.05 k allocations: 1.156 GB, 15.34% gc time)\n",
      "norm(la * x - b) / norm(b) = 0.8111931026764336\n"
     ]
    }
   ],
   "source": [
    "@time f = KMPLapSolver(a,params=KMPparams(1/10,6,1.3,200),maxits=10)\n",
    "@time x = f(b)\n",
    "@show norm(la*x-b)/norm(b);"
   ]
  },
  {
   "cell_type": "markdown",
   "metadata": {},
   "source": [
    "A comparison with our old solver"
   ]
  },
  {
   "cell_type": "code",
   "execution_count": 42,
   "metadata": {
    "collapsed": false
   },
   "outputs": [
    {
     "name": "stdout",
     "output_type": "stream",
     "text": [
      "  0.756275 seconds (301.65 k allocations: 188.274 MB, 12.91% gc time)\n",
      "  1.148191 seconds (3.53 k allocations: 853.815 MB, 7.71% gc time)\n",
      "norm(la * xa - b) / norm(b) = 0.009760812394754752\n"
     ]
    }
   ],
   "source": [
    "@time fa = lapWrapSolver(augTreeSolver,la,tol=1e-2,maxits=1000)\n",
    "@time xa = fa(b)\n",
    "@show norm(la*xa-b)/norm(b);\n"
   ]
  },
  {
   "cell_type": "markdown",
   "metadata": {
    "collapsed": false
   },
   "source": [
    "To understand what's going on, let's look at how quickly it solves the precon system.\n"
   ]
  },
  {
   "cell_type": "code",
   "execution_count": 43,
   "metadata": {
    "collapsed": false
   },
   "outputs": [
    {
     "name": "stdout",
     "output_type": "stream",
     "text": [
      "level : 0\n",
      "50132, 100000\n",
      "level : 1\n",
      "5482, 19940\n",
      "level : 2\n",
      "550, 2160\n",
      "level : 3\n",
      "42, 164\n",
      "  1.100389 seconds (1.31 M allocations: 231.301 MB, 10.46% gc time)\n",
      "  0.236276 seconds (23.99 k allocations: 107.939 MB, 36.81% gc time)\n",
      "norm(lh * xh - b) / norm(b) = 0.5094250259138964\n"
     ]
    }
   ],
   "source": [
    "params=KMPparams(1/10,6,1.3,200)\n",
    "heavy = makeHeavy(a, params)\n",
    "lh = lap(heavy)\n",
    "@time fsub =  KMPLapPrecon(a, akpw(a), params)\n",
    "@time xh = fsub(b)\n",
    "@show norm(lh*xh-b)/norm(b);"
   ]
  },
  {
   "cell_type": "code",
   "execution_count": 46,
   "metadata": {
    "collapsed": false
   },
   "outputs": [
    {
     "name": "stdout",
     "output_type": "stream",
     "text": [
      "  5.116178 seconds (743.95 k allocations: 3.327 GB, 11.78% gc time)\n",
      "norm(la * x - b) / norm(b) = 0.21119848240431538\n"
     ]
    }
   ],
   "source": [
    "#@time f = KMPLapSolver(a,params=KMPparams(1/10,6,1.3,200),maxits=30)\n",
    "@time x = f(b)\n",
    "@show norm(la*x-b)/norm(b);"
   ]
  },
  {
   "cell_type": "code",
   "execution_count": 45,
   "metadata": {
    "collapsed": false,
    "scrolled": true
   },
   "outputs": [
    {
     "ename": "LoadError",
     "evalue": "LoadError: went of the end of the kid list without finding node to elim from\nwhile loading In[45], in expression starting on line 6",
     "output_type": "error",
     "traceback": [
      "LoadError: went of the end of the kid list without finding node to elim from\nwhile loading In[45], in expression starting on line 6",
      "",
      " in elimDeg12 at /Users/spielman/git/Laplacians.jl/src/KMPSolver.jl:129",
      " in recTest12x at /Users/spielman/git/Laplacians.jl/devel/kmpTest.jl:114"
     ]
    },
    {
     "name": "stdout",
     "output_type": "stream",
     "text": [
      "5.515545 seconds (744.05 k allocations: 3.327 GB, 11.30% gc time)\n",
      "norm(la * x - b) / norm(b) = 0.21378296018567286\n"
     ]
    }
   ],
   "source": [
    "marked = 0 + (rand(n) .< 0.6)\n",
    "b = randn(n)\n",
    "b = b - mean(b)\n",
    "lt = lap(t)\n",
    "lt[1,1] = lt[1,1] + 1\n",
    "x = recTest12x(t, b, marked)\n",
    "norm(lt*x-b);\n"
   ]
  },
  {
   "cell_type": "code",
   "execution_count": null,
   "metadata": {
    "collapsed": false
   },
   "outputs": [],
   "source": [
    "@time F = factorize(lt)\n",
    "\n",
    "@time y = F \\ b\n",
    "\n",
    "norm(y - x)"
   ]
  },
  {
   "cell_type": "code",
   "execution_count": null,
   "metadata": {
    "collapsed": false
   },
   "outputs": [],
   "source": [
    "elims1, elims2 = elimDeg12(t, marked)"
   ]
  },
  {
   "cell_type": "code",
   "execution_count": null,
   "metadata": {
    "collapsed": false
   },
   "outputs": [],
   "source": [
    "(rand(5) .< 0.6) + 0"
   ]
  },
  {
   "cell_type": "code",
   "execution_count": null,
   "metadata": {
    "collapsed": true
   },
   "outputs": [],
   "source": []
  },
  {
   "cell_type": "code",
   "execution_count": null,
   "metadata": {
    "collapsed": true
   },
   "outputs": [],
   "source": []
  },
  {
   "cell_type": "code",
   "execution_count": null,
   "metadata": {
    "collapsed": true
   },
   "outputs": [],
   "source": []
  },
  {
   "cell_type": "code",
   "execution_count": null,
   "metadata": {
    "collapsed": true
   },
   "outputs": [],
   "source": []
  },
  {
   "cell_type": "code",
   "execution_count": null,
   "metadata": {
    "collapsed": false
   },
   "outputs": [],
   "source": [
    "elims1"
   ]
  },
  {
   "cell_type": "code",
   "execution_count": null,
   "metadata": {
    "collapsed": false
   },
   "outputs": [],
   "source": [
    "elims2"
   ]
  },
  {
   "cell_type": "code",
   "execution_count": null,
   "metadata": {
    "collapsed": false
   },
   "outputs": [],
   "source": [
    "ind = find(marked.<2)"
   ]
  },
  {
   "cell_type": "code",
   "execution_count": null,
   "metadata": {
    "collapsed": true
   },
   "outputs": [],
   "source": [
    "ts = t[ind,ind];\n",
    "lt = lap(t)\n",
    "lt[1,1] = lt[1,1] + 1\n",
    "lts = lap(ts)\n",
    "lts[1,1] = lts[1,1] + 1\n",
    "b = randn(n);\n"
   ]
  },
  {
   "cell_type": "code",
   "execution_count": null,
   "metadata": {
    "collapsed": false
   },
   "outputs": [],
   "source": [
    "cumb = copy(b)\n",
    "\n",
    "for i in 1:length(elims1)\n",
    "    cumb[elims1[i].parent] += cumb[elims1[i].nodeid]\n",
    "end\n",
    "cumbs = cumb[ind]\n",
    "sum(cumbs)"
   ]
  },
  {
   "cell_type": "code",
   "execution_count": null,
   "metadata": {
    "collapsed": false
   },
   "outputs": [],
   "source": [
    "xs = lts \\ cumbs\n",
    "norm(lts*xs-cumbs)"
   ]
  },
  {
   "cell_type": "code",
   "execution_count": null,
   "metadata": {
    "collapsed": false
   },
   "outputs": [],
   "source": [
    "x = zeros(n)\n",
    "x[ind] = xs\n",
    "for i in length(elims1):-1:1\n",
    "    node = elims1[i].nodeid\n",
    "    x[node] = x[elims1[i].parent] + cumb[node]/elims1[i].wtDeg\n",
    "end\n",
    "norm(lt*x-b)"
   ]
  },
  {
   "cell_type": "code",
   "execution_count": null,
   "metadata": {
    "collapsed": false
   },
   "outputs": [],
   "source": [
    "y = la \\ b;\n",
    "norm(la*y-b)\n",
    "[y[ind] x[ind] xs]"
   ]
  },
  {
   "cell_type": "code",
   "execution_count": null,
   "metadata": {
    "collapsed": false
   },
   "outputs": [],
   "source": [
    "sum(las)"
   ]
  },
  {
   "cell_type": "code",
   "execution_count": null,
   "metadata": {
    "collapsed": true
   },
   "outputs": [],
   "source": []
  },
  {
   "cell_type": "code",
   "execution_count": null,
   "metadata": {
    "collapsed": true
   },
   "outputs": [],
   "source": []
  },
  {
   "cell_type": "code",
   "execution_count": null,
   "metadata": {
    "collapsed": false
   },
   "outputs": [],
   "source": [
    "function recTest(t,b, marked)\n",
    "\n",
    "    n = length(b)\n",
    "\n",
    "    elims1 = elimDeg1(t, marked)\n",
    "\n",
    "    cumb = copy(b)\n",
    "\n",
    "    for i in 1:length(elims1)\n",
    "        cumb[elims1[i].parent] += cumb[elims1[i].nodeid]\n",
    "    end\n",
    "\n",
    "\n",
    "    ind = find(marked.<2)\n",
    "    ts = t[ind,ind];\n",
    "    lts = lap(ts)\n",
    "\n",
    "    cumbs = cumb[ind]\n",
    "    xs = pinv(full(lts))*cumbs\n",
    "    \n",
    "    x = zeros(n)\n",
    "    x[ind] = xs\n",
    "    for i in length(elims1):-1:1\n",
    "        node = elims1[i].nodeid\n",
    "        x[node] = x[elims1[i].parent] + cumb[node]/elims1[i].wtDeg\n",
    "    end\n",
    "\n",
    "    return x\n",
    "    \n",
    "end\n"
   ]
  },
  {
   "cell_type": "code",
   "execution_count": null,
   "metadata": {
    "collapsed": false
   },
   "outputs": [],
   "source": [
    "mkd = rand(0:1,n)\n",
    "#elims1 = elimDeg1(t, mkd)\n",
    "#ind = find(mkd .< 2)"
   ]
  },
  {
   "cell_type": "code",
   "execution_count": null,
   "metadata": {
    "collapsed": false
   },
   "outputs": [],
   "source": [
    "cumb = copy(b)\n",
    "\n",
    "for i in 1:length(elims1)\n",
    "    cumb[elims1[i].parent] += cumb[elims1[i].nodeid]\n",
    "end\n",
    "cumbs = cumb[ind]\n",
    "sum(cumbs)"
   ]
  },
  {
   "cell_type": "code",
   "execution_count": null,
   "metadata": {
    "collapsed": false
   },
   "outputs": [],
   "source": [
    "sum(cumbs)"
   ]
  },
  {
   "cell_type": "code",
   "execution_count": null,
   "metadata": {
    "collapsed": false
   },
   "outputs": [],
   "source": [
    "b = randn(n)\n",
    "b = b - mean(b)\n",
    "lt = lap(t)\n",
    "x = pinv(full(lt)) * b\n",
    "norm(lt*x-b)"
   ]
  },
  {
   "cell_type": "code",
   "execution_count": null,
   "metadata": {
    "collapsed": false
   },
   "outputs": [],
   "source": [
    "x = recTest(t, b, mkd)\n",
    "norm(lt*x-b)"
   ]
  },
  {
   "cell_type": "code",
   "execution_count": null,
   "metadata": {
    "collapsed": false
   },
   "outputs": [],
   "source": [
    "sum(mkd.==2)"
   ]
  },
  {
   "cell_type": "code",
   "execution_count": null,
   "metadata": {
    "collapsed": false
   },
   "outputs": [],
   "source": [
    "norm(b)"
   ]
  },
  {
   "cell_type": "code",
   "execution_count": null,
   "metadata": {
    "collapsed": true
   },
   "outputs": [],
   "source": []
  },
  {
   "cell_type": "code",
   "execution_count": null,
   "metadata": {
    "collapsed": true
   },
   "outputs": [],
   "source": []
  },
  {
   "cell_type": "code",
   "execution_count": null,
   "metadata": {
    "collapsed": true
   },
   "outputs": [],
   "source": []
  },
  {
   "cell_type": "code",
   "execution_count": null,
   "metadata": {
    "collapsed": false
   },
   "outputs": [],
   "source": [
    "function makeElimList(t)\n",
    "    tr = matToTree(t)\n",
    "    n = size(tr.children,1)  \n",
    "    \n",
    "    elims = Array{elimTreeNode}(0)\n",
    "    for vi in n:-1:2\n",
    "        v = tr.children[vi]\n",
    "        push!(elims,elimTreeNode(v,tr.parent[v],tr.weights[vi]))\n",
    "    end\n",
    "    \n",
    "    return elims\n",
    "end"
   ]
  },
  {
   "cell_type": "code",
   "execution_count": null,
   "metadata": {
    "collapsed": false
   },
   "outputs": [],
   "source": [
    "function solveTree(elims,b)\n",
    "    cumb = copy(b)\n",
    "    n = size(b,1)\n",
    "    for i in 1:(n-1)\n",
    "        cumb[elims[i].parent] += cumb[elims[i].nodeid]\n",
    "    end\n",
    "    x = zeros(Float64,n)\n",
    "    for i in (n-1):-1:1\n",
    "        node = elims[i].nodeid\n",
    "        x[node] = x[elims[i].parent] + cumb[node]/elims[i].wtDeg\n",
    "    end\n",
    "    return x\n",
    "    \n",
    "end"
   ]
  },
  {
   "cell_type": "code",
   "execution_count": null,
   "metadata": {
    "collapsed": false
   },
   "outputs": [],
   "source": [
    "@time el = makeElimList(t);"
   ]
  },
  {
   "cell_type": "code",
   "execution_count": null,
   "metadata": {
    "collapsed": false
   },
   "outputs": [],
   "source": [
    "lt = lap(t)\n",
    "lt[end,end] += 1\n",
    "@time F = factorize(lt)"
   ]
  },
  {
   "cell_type": "code",
   "execution_count": null,
   "metadata": {
    "collapsed": false
   },
   "outputs": [],
   "source": [
    "b = randn(size(t,1));\n",
    "b = b - mean(b);\n",
    "@time x = solveTree(el,b);\n",
    "x = x - mean(x);\n",
    "norm(lap(t)*x-b)"
   ]
  },
  {
   "cell_type": "code",
   "execution_count": null,
   "metadata": {
    "collapsed": false
   },
   "outputs": [],
   "source": [
    "@time y = F \\ b;\n",
    "norm(lt*y-b)"
   ]
  },
  {
   "cell_type": "code",
   "execution_count": null,
   "metadata": {
    "collapsed": true
   },
   "outputs": [],
   "source": []
  },
  {
   "cell_type": "code",
   "execution_count": null,
   "metadata": {
    "collapsed": true
   },
   "outputs": [],
   "source": []
  },
  {
   "cell_type": "code",
   "execution_count": null,
   "metadata": {
    "collapsed": false
   },
   "outputs": [],
   "source": [
    "elims = Array{elimTreeNode}(0)"
   ]
  },
  {
   "cell_type": "code",
   "execution_count": null,
   "metadata": {
    "collapsed": true
   },
   "outputs": [],
   "source": [
    "for vi in n:-1:2\n",
    "    v = tr.children[vi]\n",
    "    push!(elims,elimTreeNode(v,tr.parent[v],tr.weights[vi]))\n",
    "end"
   ]
  },
  {
   "cell_type": "code",
   "execution_count": null,
   "metadata": {
    "collapsed": false
   },
   "outputs": [],
   "source": [
    "elims"
   ]
  },
  {
   "cell_type": "code",
   "execution_count": null,
   "metadata": {
    "collapsed": false
   },
   "outputs": [],
   "source": [
    "b = randn(n)\n",
    "b = b - mean(b)"
   ]
  },
  {
   "cell_type": "code",
   "execution_count": null,
   "metadata": {
    "collapsed": false
   },
   "outputs": [],
   "source": [
    "cumb = copy(b)\n",
    "for i in 1:(n-1)\n",
    "    cumb[elims[i].parent] += cumb[elims[i].nodeid]\n",
    "end\n",
    "cumb"
   ]
  },
  {
   "cell_type": "code",
   "execution_count": null,
   "metadata": {
    "collapsed": false
   },
   "outputs": [],
   "source": [
    "x = zeros(Float64,n)\n",
    "for i in (n-1):-1:1\n",
    "    node = elims[i].nodeid\n",
    "    x[node] = x[elims[i].parent] + cumb[node]/elims[i].wtDeg\n",
    "end\n",
    "x"
   ]
  },
  {
   "cell_type": "code",
   "execution_count": null,
   "metadata": {
    "collapsed": false
   },
   "outputs": [],
   "source": [
    "xs = pinv(full(lt))*b"
   ]
  },
  {
   "cell_type": "code",
   "execution_count": null,
   "metadata": {
    "collapsed": false
   },
   "outputs": [],
   "source": [
    "x-xs"
   ]
  },
  {
   "cell_type": "code",
   "execution_count": null,
   "metadata": {
    "collapsed": false
   },
   "outputs": [],
   "source": [
    "x = x - mean(x)"
   ]
  },
  {
   "cell_type": "code",
   "execution_count": null,
   "metadata": {
    "collapsed": false
   },
   "outputs": [],
   "source": [
    "lt*x - b"
   ]
  },
  {
   "cell_type": "code",
   "execution_count": null,
   "metadata": {
    "collapsed": false
   },
   "outputs": [],
   "source": [
    "b"
   ]
  },
  {
   "cell_type": "code",
   "execution_count": null,
   "metadata": {
    "collapsed": true
   },
   "outputs": [],
   "source": []
  },
  {
   "cell_type": "code",
   "execution_count": null,
   "metadata": {
    "collapsed": true
   },
   "outputs": [],
   "source": []
  },
  {
   "cell_type": "code",
   "execution_count": null,
   "metadata": {
    "collapsed": true
   },
   "outputs": [],
   "source": []
  },
  {
   "cell_type": "code",
   "execution_count": null,
   "metadata": {
    "collapsed": true
   },
   "outputs": [],
   "source": []
  },
  {
   "cell_type": "code",
   "execution_count": null,
   "metadata": {
    "collapsed": true
   },
   "outputs": [],
   "source": []
  },
  {
   "cell_type": "code",
   "execution_count": null,
   "metadata": {
    "collapsed": false
   },
   "outputs": [],
   "source": [
    "tr.weights"
   ]
  },
  {
   "cell_type": "code",
   "execution_count": null,
   "metadata": {
    "collapsed": false
   },
   "outputs": [],
   "source": []
  },
  {
   "cell_type": "code",
   "execution_count": null,
   "metadata": {
    "collapsed": true
   },
   "outputs": [],
   "source": []
  },
  {
   "cell_type": "code",
   "execution_count": null,
   "metadata": {
    "collapsed": true
   },
   "outputs": [],
   "source": []
  },
  {
   "cell_type": "code",
   "execution_count": null,
   "metadata": {
    "collapsed": false
   },
   "outputs": [],
   "source": [
    "st = compStretches(t,a);\n",
    "aveStretch = sum(st)/nnz(a)"
   ]
  },
  {
   "cell_type": "code",
   "execution_count": null,
   "metadata": {
    "collapsed": true
   },
   "outputs": [],
   "source": [
    "rest = a-t;\n",
    "fac = aveStretch*log(size(a,1))*2\n",
    "heavy = rest+fac*t;"
   ]
  },
  {
   "cell_type": "code",
   "execution_count": null,
   "metadata": {
    "collapsed": false
   },
   "outputs": [],
   "source": [
    "fac"
   ]
  },
  {
   "cell_type": "markdown",
   "metadata": {},
   "source": [
    "Sample with probability prop to stretch, but fix the number of edges we get to n/5"
   ]
  },
  {
   "cell_type": "code",
   "execution_count": null,
   "metadata": {
    "collapsed": false
   },
   "outputs": [],
   "source": [
    "n = size(a,1);"
   ]
  },
  {
   "cell_type": "code",
   "execution_count": null,
   "metadata": {
    "collapsed": false
   },
   "outputs": [],
   "source": [
    "strest = compStretches(t,rest)\n",
    "probs = triu(strest);\n",
    "probs = probs * (n/5)/ sum(probs);\n"
   ]
  },
  {
   "cell_type": "code",
   "execution_count": null,
   "metadata": {
    "collapsed": false
   },
   "outputs": [],
   "source": [
    "(pi,pj,pv) = findnz(probs)"
   ]
  },
  {
   "cell_type": "code",
   "execution_count": null,
   "metadata": {
    "collapsed": false
   },
   "outputs": [],
   "source": [
    "select = rand(size(pv)) .< pv;\n",
    "sum(select)"
   ]
  },
  {
   "cell_type": "code",
   "execution_count": null,
   "metadata": {
    "collapsed": false
   },
   "outputs": [],
   "source": [
    "(ai,aj,av) = findnz(triu(rest))"
   ]
  },
  {
   "cell_type": "code",
   "execution_count": null,
   "metadata": {
    "collapsed": false
   },
   "outputs": [],
   "source": [
    "samp1 = sparse(ai,aj,av.*select./pv,n,n)\n",
    "samp1 = samp1 + samp1';"
   ]
  },
  {
   "cell_type": "code",
   "execution_count": null,
   "metadata": {
    "collapsed": false
   },
   "outputs": [],
   "source": [
    "st1 = compStretches(t*fac, samp1);"
   ]
  },
  {
   "cell_type": "code",
   "execution_count": null,
   "metadata": {
    "collapsed": false
   },
   "outputs": [],
   "source": [
    "(s1i,s1j,s1v) = findnz(triu(samp1))"
   ]
  },
  {
   "cell_type": "code",
   "execution_count": null,
   "metadata": {
    "collapsed": false
   },
   "outputs": [],
   "source": [
    "maximum(x)"
   ]
  },
  {
   "cell_type": "code",
   "execution_count": null,
   "metadata": {
    "collapsed": false
   },
   "outputs": [],
   "source": [
    "a = chimera(100000,103+1111);\n",
    "testGraph(a);\n"
   ]
  },
  {
   "cell_type": "code",
   "execution_count": null,
   "metadata": {
    "collapsed": false
   },
   "outputs": [],
   "source": [
    "include(\"../devel/kmpTest.jl\")"
   ]
  },
  {
   "cell_type": "code",
   "execution_count": null,
   "metadata": {
    "collapsed": false
   },
   "outputs": [],
   "source": [
    "testAtSize(10000)"
   ]
  },
  {
   "cell_type": "code",
   "execution_count": null,
   "metadata": {
    "collapsed": false
   },
   "outputs": [],
   "source": [
    "x = testKMP(a,frac1 = 1/5, frac2 = 1/10)"
   ]
  },
  {
   "cell_type": "code",
   "execution_count": null,
   "metadata": {
    "collapsed": false
   },
   "outputs": [],
   "source": [
    "    (pi,pj,pv) = findnz(probs)\n",
    "    select = rand(size(pv)) .< pv;\n",
    "    (ai,aj,av) = findnz(triu(rest))\n",
    "    \n",
    "    samp1 = sparse(ai,aj,av.*select./pv,n,n)\n",
    "#    samp1 = samp1 + samp1';\n",
    "    \n",
    "#    st1 = compStretches(t*fac, samp1);\n",
    "#    (s1i,s1j,s1v) = findnz(triu(samp1))"
   ]
  },
  {
   "cell_type": "code",
   "execution_count": null,
   "metadata": {
    "collapsed": false
   },
   "outputs": [],
   "source": [
    "ringGraph(1)"
   ]
  },
  {
   "cell_type": "code",
   "execution_count": null,
   "metadata": {
    "collapsed": false
   },
   "outputs": [],
   "source": [
    "a = wtedChimera(1000000)\n",
    "@time t = akpw(a);\n"
   ]
  },
  {
   "cell_type": "code",
   "execution_count": null,
   "metadata": {
    "collapsed": false
   },
   "outputs": [],
   "source": [
    "n = size(t,1)\n",
    "nnz(a)"
   ]
  },
  {
   "cell_type": "code",
   "execution_count": null,
   "metadata": {
    "collapsed": false
   },
   "outputs": [],
   "source": [
    "@time ord = Laplacians.dfsOrder(t);"
   ]
  },
  {
   "cell_type": "code",
   "execution_count": null,
   "metadata": {
    "collapsed": false
   },
   "outputs": [],
   "source": [
    "@time aord = symperm(a,ord);\n",
    "@time aord = aord + aord';"
   ]
  },
  {
   "cell_type": "code",
   "execution_count": null,
   "metadata": {
    "collapsed": false
   },
   "outputs": [],
   "source": [
    "pe = randperm(n)\n",
    "@time ape = symperm(a,pe)\n",
    "@time ape = ape + ape';"
   ]
  },
  {
   "cell_type": "code",
   "execution_count": null,
   "metadata": {
    "collapsed": false
   },
   "outputs": [],
   "source": [
    "x = randn(n)\n",
    "@time b1 = ape*x;\n",
    "@time b2 = aord*x;"
   ]
  },
  {
   "cell_type": "code",
   "execution_count": null,
   "metadata": {
    "collapsed": false
   },
   "outputs": [],
   "source": [
    "@show nnz(ape)\n",
    "@show nnz(aord)"
   ]
  },
  {
   "cell_type": "code",
   "execution_count": null,
   "metadata": {
    "collapsed": true
   },
   "outputs": [],
   "source": [
    "tord = t[ord,ord];"
   ]
  },
  {
   "cell_type": "code",
   "execution_count": null,
   "metadata": {
    "collapsed": false
   },
   "outputs": [],
   "source": [
    "@time st1 = compStretches(tord,aord);"
   ]
  },
  {
   "cell_type": "code",
   "execution_count": null,
   "metadata": {
    "collapsed": false
   },
   "outputs": [],
   "source": [
    "@time st2 = compStretchesDFS(tord,aord);"
   ]
  },
  {
   "cell_type": "code",
   "execution_count": null,
   "metadata": {
    "collapsed": false
   },
   "outputs": [],
   "source": [
    "sum(abs(st1-st2))"
   ]
  },
  {
   "cell_type": "code",
   "execution_count": null,
   "metadata": {
    "collapsed": false
   },
   "outputs": [],
   "source": [
    "@time tr, d1 = matToTreeDepth(tord);"
   ]
  },
  {
   "cell_type": "code",
   "execution_count": null,
   "metadata": {
    "collapsed": false
   },
   "outputs": [],
   "source": [
    "@time d2 = treeDepthDFS(tord);"
   ]
  },
  {
   "cell_type": "code",
   "execution_count": null,
   "metadata": {
    "collapsed": false
   },
   "outputs": [],
   "source": [
    "norm(d1-d2)"
   ]
  },
  {
   "cell_type": "code",
   "execution_count": null,
   "metadata": {
    "collapsed": true
   },
   "outputs": [],
   "source": []
  },
  {
   "cell_type": "code",
   "execution_count": null,
   "metadata": {
    "collapsed": false
   },
   "outputs": [],
   "source": [
    "ord[1:10]"
   ]
  },
  {
   "cell_type": "code",
   "execution_count": null,
   "metadata": {
    "collapsed": false
   },
   "outputs": [],
   "source": [
    "tord[:,1000]"
   ]
  },
  {
   "cell_type": "code",
   "execution_count": null,
   "metadata": {
    "collapsed": true
   },
   "outputs": [],
   "source": []
  },
  {
   "cell_type": "code",
   "execution_count": null,
   "metadata": {
    "collapsed": true
   },
   "outputs": [],
   "source": []
  },
  {
   "cell_type": "code",
   "execution_count": null,
   "metadata": {
    "collapsed": true
   },
   "outputs": [],
   "source": []
  },
  {
   "cell_type": "code",
   "execution_count": null,
   "metadata": {
    "collapsed": true
   },
   "outputs": [],
   "source": []
  },
  {
   "cell_type": "code",
   "execution_count": null,
   "metadata": {
    "collapsed": false
   },
   "outputs": [],
   "source": [
    "function dfsOrder2(t::SparseMatrixCSC)\n",
    "    n = size(t,1)\n",
    "    seen = zeros(Bool,n)\n",
    "    ord = Array{Int64}(0)\n",
    "    stk = Array{Int64}(0)\n",
    "    push!(stk,1)\n",
    "    while ~isempty(stk)\n",
    "        u = pop!(stk)\n",
    "        push!(ord,u)\n",
    "        seen[u] = true\n",
    "        for vi in t.colptr[u]:(t.colptr[u+1]-1)\n",
    "            v = t.rowval[vi]\n",
    "            if !seen[v]\n",
    "                push!(stk,v)\n",
    "            end\n",
    "        end\n",
    "    end\n",
    "    return ord\n",
    "\n",
    "end"
   ]
  },
  {
   "cell_type": "code",
   "execution_count": null,
   "metadata": {
    "collapsed": false
   },
   "outputs": [],
   "source": [
    "ord = dfsOrder(tr);"
   ]
  },
  {
   "cell_type": "code",
   "execution_count": null,
   "metadata": {
    "collapsed": false
   },
   "outputs": [],
   "source": [
    "stack = Array{Int64}(0)"
   ]
  },
  {
   "cell_type": "code",
   "execution_count": null,
   "metadata": {
    "collapsed": false
   },
   "outputs": [],
   "source": [
    "~isempty(stack)"
   ]
  },
  {
   "cell_type": "code",
   "execution_count": null,
   "metadata": {
    "collapsed": true
   },
   "outputs": [],
   "source": []
  },
  {
   "cell_type": "code",
   "execution_count": null,
   "metadata": {
    "collapsed": true
   },
   "outputs": [],
   "source": []
  },
  {
   "cell_type": "code",
   "execution_count": null,
   "metadata": {
    "collapsed": false
   },
   "outputs": [],
   "source": [
    "function dfsOrder2(tr)\n",
    "    ord = Array{Int64}(0)\n",
    "    stack = Array{Int64}(0)\n",
    "    push!(stack,tr.root)\n",
    "    while ~isempty(stack)\n",
    "        u = pop!(stack)\n",
    "        push!(ord,u)\n",
    "        for  vi in tr.kidsPtr[u]:(tr.numKids[u] + tr.kidsPtr[u] - 1)\n",
    "            v = tr.children[vi]\n",
    "            push!(stack,v)\n",
    "        end\n",
    "    end\n",
    "    return ord\n",
    "\n",
    "end"
   ]
  },
  {
   "cell_type": "code",
   "execution_count": null,
   "metadata": {
    "collapsed": false
   },
   "outputs": [],
   "source": [
    "ord2 = dfsOrder2(tr);"
   ]
  },
  {
   "cell_type": "code",
   "execution_count": null,
   "metadata": {
    "collapsed": false
   },
   "outputs": [],
   "source": [
    "norm(ord - ord2[size(tr.children,1):-1:1])"
   ]
  },
  {
   "cell_type": "code",
   "execution_count": null,
   "metadata": {
    "collapsed": false
   },
   "outputs": [],
   "source": [
    "# n = 100000\n",
    "a = grid2(1000)\n",
    "t = akpw(a)\n",
    "aves = sum(compStretches(t,a))/nnz(a)"
   ]
  },
  {
   "cell_type": "code",
   "execution_count": null,
   "metadata": {
    "collapsed": false
   },
   "outputs": [],
   "source": [
    "avc = zeros(10)\n",
    "for i in 1:10\n",
    "    ap = randperm(a)\n",
    "    tp = akpw(ap)\n",
    "    avc[i] = sum(compStretches(tp,ap))/nnz(a)\n",
    "end\n",
    "mean(avc)"
   ]
  },
  {
   "cell_type": "code",
   "execution_count": null,
   "metadata": {
    "collapsed": false
   },
   "outputs": [],
   "source": [
    "avc"
   ]
  },
  {
   "cell_type": "code",
   "execution_count": null,
   "metadata": {
    "collapsed": false
   },
   "outputs": [],
   "source": [
    "?akpw!"
   ]
  },
  {
   "cell_type": "code",
   "execution_count": null,
   "metadata": {
    "collapsed": false
   },
   "outputs": [],
   "source": [
    "a = grid2(700)\n",
    "@time t = akpw(a,exponentialX=false)\n",
    "@show sum(compStretches(t,a))/nnz(a)\n",
    "@time t = akpw(a,exponentialX=true)\n",
    "@show sum(compStretches(t,a))/nnz(a);"
   ]
  },
  {
   "cell_type": "code",
   "execution_count": null,
   "metadata": {
    "collapsed": false
   },
   "outputs": [],
   "source": [
    "nits = 100\n",
    "df = Array{Float64}(0)\n",
    "dt = Array{Float64}(0)\n",
    "timef = Array{Float64}(0)\n",
    "timet = Array{Float64}(0)\n",
    "for i in 1:nits\n",
    "    a = wtedChimera(500000)\n",
    "    tic();\n",
    "    t = akpw(a,exponentialX=false)\n",
    "    push!(timef,toc())\n",
    "    push!(df,sum(compStretches(t,a))/nnz(a))\n",
    "    \n",
    "    tic();\n",
    "    t = akpw(a,exponentialX=true)\n",
    "    push!(timet,toc())\n",
    "    push!(dt,sum(compStretches(t,a))/nnz(a))\n",
    "    \n",
    "    a = unweight(a)\n",
    "    tic();\n",
    "    t = akpw(a,exponentialX=false)\n",
    "    push!(timef,toc())\n",
    "    push!(df,sum(compStretches(t,a))/nnz(a))\n",
    "    \n",
    "    tic();\n",
    "    t = akpw(a,exponentialX=true)\n",
    "    push!(timet,toc())\n",
    "    push!(dt,sum(compStretches(t,a))/nnz(a))\n",
    "end\n",
    "    \n"
   ]
  },
  {
   "cell_type": "code",
   "execution_count": null,
   "metadata": {
    "collapsed": false
   },
   "outputs": [],
   "source": [
    "x = collect(1:length(dt));\n",
    "plot(x,sort(timet),\"rx\",x,sort(timef),\"bo\")"
   ]
  },
  {
   "cell_type": "code",
   "execution_count": null,
   "metadata": {
    "collapsed": false
   },
   "outputs": [],
   "source": [
    "plot(x,sort(timet./timef),\"rx\",x,sort(timef./timet),\"bo\")"
   ]
  },
  {
   "cell_type": "code",
   "execution_count": null,
   "metadata": {
    "collapsed": false
   },
   "outputs": [],
   "source": [
    "plot(x,sort(dt./df),\"rx\",x,sort(df./dt),\"bo\")"
   ]
  },
  {
   "cell_type": "code",
   "execution_count": null,
   "metadata": {
    "collapsed": false
   },
   "outputs": [],
   "source": [
    "mean(df)"
   ]
  },
  {
   "cell_type": "code",
   "execution_count": null,
   "metadata": {
    "collapsed": false
   },
   "outputs": [],
   "source": [
    "mean(dt)"
   ]
  },
  {
   "cell_type": "code",
   "execution_count": null,
   "metadata": {
    "collapsed": false
   },
   "outputs": [],
   "source": [
    "plot(x,sort(df),\"rx\",x,sort(dt),\"bo\")"
   ]
  },
  {
   "cell_type": "code",
   "execution_count": null,
   "metadata": {
    "collapsed": true
   },
   "outputs": [],
   "source": []
  },
  {
   "cell_type": "code",
   "execution_count": null,
   "metadata": {
    "collapsed": true
   },
   "outputs": [],
   "source": []
  },
  {
   "cell_type": "code",
   "execution_count": null,
   "metadata": {
    "collapsed": true
   },
   "outputs": [],
   "source": []
  },
  {
   "cell_type": "code",
   "execution_count": null,
   "metadata": {
    "collapsed": false
   },
   "outputs": [],
   "source": [
    "mean(timet)"
   ]
  },
  {
   "cell_type": "code",
   "execution_count": null,
   "metadata": {
    "collapsed": false
   },
   "outputs": [],
   "source": [
    "mean(df)"
   ]
  },
  {
   "cell_type": "code",
   "execution_count": null,
   "metadata": {
    "collapsed": false
   },
   "outputs": [],
   "source": [
    "mean(dt)"
   ]
  },
  {
   "cell_type": "code",
   "execution_count": null,
   "metadata": {
    "collapsed": false
   },
   "outputs": [],
   "source": [
    "function testSampler(a; t=akpw(a), frac1=1/5)\n",
    "\n",
    "\n",
    "    n = size(a,1);\n",
    "\n",
    "    rest = a-t;\n",
    "\n",
    "    st = compStretches(t,rest);\n",
    "    aveStretch = sum(st)/nnz(rest)\n",
    "    @show aveStretch\n",
    "    \n",
    "\n",
    "    fac = aveStretch*log(size(a,1))*3\n",
    "    heavy = rest+fac*t;\n",
    "\n",
    "    (ai,aj,av) = findnz(triu(rest))\n",
    "    (si,sj,sv) = findnz(triu(st))\n",
    "    sv = sv ./ fac\n",
    "\n",
    "    restijvs = restIJVS(ai,aj,av,sv)\n",
    "\n",
    "    sampijvs = stretchSample2(restijvs,frac1)\n",
    "    \n",
    "    samp1 = sparse(sampijvs.i,sampijvs.j,sampijvs.v,n,n)\n",
    "    samp1 = samp1 + samp1';\n",
    "    \n",
    "    st1 = compStretches(t*fac, samp1);\n",
    "    (s1i,s1j,s1v) = findnz(triu(samp1))\n",
    "\n",
    "    add = speye(n)/10^6;\n",
    "    e = eigs(lap(heavy)+add,lap(samp1+t*fac)+add, nev=4);\n",
    "\n",
    "    return maximum(e[1])\n",
    "end\n"
   ]
  },
  {
   "cell_type": "code",
   "execution_count": null,
   "metadata": {
    "collapsed": false
   },
   "outputs": [],
   "source": [
    "a = grid2(50)\n",
    "t = akpw(a)\n",
    "frac1 = 2/3\n",
    "    n = size(a,1);\n",
    "\n",
    "    rest = a-t;\n",
    "\n",
    "    st = compStretches(t,rest);\n",
    "    aveStretch = sum(st)/nnz(rest)\n",
    "    @show aveStretch\n",
    "    \n",
    "\n",
    "    fac = aveStretch*log(size(a,1))\n",
    "    heavy = rest+fac*t;\n",
    "\n",
    "    (ai,aj,av) = findnz(triu(rest))\n",
    "    (si,sj,sv) = findnz(triu(st))\n",
    "    sv = sv ./ fac\n",
    "\n",
    "    restijvs = restIJVS(ai,aj,av,sv)\n",
    "\n",
    "    sampijvs = stretchSample(restijvs,frac1)\n",
    "    "
   ]
  },
  {
   "cell_type": "code",
   "execution_count": null,
   "metadata": {
    "collapsed": false
   },
   "outputs": [],
   "source": [
    "include(\"../src/KMPSolver.jl\")\n",
    "include(\"../devel/kmpTest.jl\")"
   ]
  },
  {
   "cell_type": "code",
   "execution_count": null,
   "metadata": {
    "collapsed": false
   },
   "outputs": [],
   "source": [
    "n = 1000000\n",
    "a = chimera(n)\n",
    "la = lap(a)\n",
    "b = randn(n);\n",
    "b = b - mean(b);\n",
    "\n",
    "t = akpw(a)\n",
    "heavy = makeHeavy(a,t)\n",
    "lheavy = lap(heavy);"
   ]
  },
  {
   "cell_type": "code",
   "execution_count": null,
   "metadata": {
    "collapsed": false
   },
   "outputs": [],
   "source": []
  },
  {
   "cell_type": "code",
   "execution_count": null,
   "metadata": {
    "collapsed": false
   },
   "outputs": [],
   "source": [
    "@profile f = KMPLapPrecon(a,t)\n",
    "#@time xh = f(b)\n",
    "#@show norm(lheavy*xh-b);"
   ]
  },
  {
   "cell_type": "code",
   "execution_count": null,
   "metadata": {
    "collapsed": false
   },
   "outputs": [],
   "source": [
    "Profile.clear()"
   ]
  },
  {
   "cell_type": "code",
   "execution_count": null,
   "metadata": {
    "collapsed": false
   },
   "outputs": [],
   "source": [
    "@time fa = lapWrapSolver(augTreeSolver,lheavy,tol=1e-2,maxits=1000)\n",
    "@time xa = fa(b)\n",
    "@show norm(lheavy*xa-b);"
   ]
  },
  {
   "cell_type": "code",
   "execution_count": null,
   "metadata": {
    "collapsed": false
   },
   "outputs": [],
   "source": [
    "function vecstats(s)\n",
    "    println(\"length : \", size(s,1), \", min : \", minimum(s), \", mean : \", mean(s), \", max : \", maximum(s), \", sum : \", sum(s))\n",
    "end"
   ]
  },
  {
   "cell_type": "code",
   "execution_count": null,
   "metadata": {
    "collapsed": true
   },
   "outputs": [],
   "source": []
  },
  {
   "cell_type": "code",
   "execution_count": null,
   "metadata": {
    "collapsed": false
   },
   "outputs": [],
   "source": [
    "vecstats(restijvs.s)"
   ]
  },
  {
   "cell_type": "code",
   "execution_count": null,
   "metadata": {
    "collapsed": false
   },
   "outputs": [],
   "source": [
    "a = grid2(200)\n",
    "t = akpw(a)\n",
    "\n",
    "frac1 = 1/5\n",
    "    n = size(a,1);\n",
    "\n",
    "    rest = a-t;\n",
    "\n",
    "    st = compStretches(t,rest);\n",
    "    aveStretch = sum(st)/nnz(rest)\n",
    "    @show aveStretch\n",
    "    \n",
    "\n",
    "    targetStretch = 1/(2*log(n)/log(2))"
   ]
  },
  {
   "cell_type": "code",
   "execution_count": null,
   "metadata": {
    "collapsed": false
   },
   "outputs": [],
   "source": [
    "    fac = aveStretch/targetStretch\n",
    "    heavy = rest+fac*t;\n",
    "\n",
    "    (ai,aj,av) = findnz(triu(rest))\n",
    "\n",
    "    (si,sj,sv) = findnz(triu(st))\n",
    "    sv = sv ./ fac\n",
    "\n",
    "    ijvs = IJVS(ai,aj,av,sv)\n",
    "\n",
    "    ijvs1 = stretchSample(ijvs,targetStretch,frac1)\n",
    "    ijvs2 = stretchSample(ijvs1,targetStretch,frac1)\n",
    "    \n",
    "    samp1 = sparse(ijvs1.i,ijvs1.j,ijvs1.v,n,n)\n",
    "    samp1 = samp1 + samp1';\n",
    "    \n",
    "    samp2 = sparse(ijvs2.i,ijvs2.j,ijvs2.v,n,n)\n",
    "    samp2 = samp2 + samp2';"
   ]
  },
  {
   "cell_type": "code",
   "execution_count": null,
   "metadata": {
    "collapsed": false
   },
   "outputs": [],
   "source": [
    "    add = speye(n)/10^6;\n",
    "@time e = eigs(lap(heavy)+add,lap(samp1+t*fac)+add, nev=1, maxiter = 10);\n",
    "@show maximum(e[1])\n",
    "@time e = eigs(lap(samp1)+add,lap(samp2+t*fac)+add, nev=1, maxiter = 10);\n",
    "@show maximum(e[1])"
   ]
  },
  {
   "cell_type": "code",
   "execution_count": null,
   "metadata": {
    "collapsed": false
   },
   "outputs": [],
   "source": [
    "vecstats(ijvs.s)\n",
    "vecstats(ijvs1.s)\n",
    "vecstats(ijvs2.s)"
   ]
  },
  {
   "cell_type": "code",
   "execution_count": null,
   "metadata": {
    "collapsed": false
   },
   "outputs": [],
   "source": [
    "targetStretch"
   ]
  },
  {
   "cell_type": "code",
   "execution_count": null,
   "metadata": {
    "collapsed": true
   },
   "outputs": [],
   "source": []
  },
  {
   "cell_type": "code",
   "execution_count": null,
   "metadata": {
    "collapsed": true
   },
   "outputs": [],
   "source": []
  },
  {
   "cell_type": "code",
   "execution_count": null,
   "metadata": {
    "collapsed": false
   },
   "outputs": [],
   "source": [
    "vecstats(sampijvs.s)"
   ]
  },
  {
   "cell_type": "code",
   "execution_count": null,
   "metadata": {
    "collapsed": true
   },
   "outputs": [],
   "source": []
  },
  {
   "cell_type": "code",
   "execution_count": null,
   "metadata": {
    "collapsed": false
   },
   "outputs": [],
   "source": [
    "mean(sampijvs.s)"
   ]
  },
  {
   "cell_type": "code",
   "execution_count": null,
   "metadata": {
    "collapsed": false
   },
   "outputs": [],
   "source": [
    "maximum(sampijvs.s)"
   ]
  },
  {
   "cell_type": "code",
   "execution_count": null,
   "metadata": {
    "collapsed": false
   },
   "outputs": [],
   "source": [
    "length(sampijvs.s)"
   ]
  },
  {
   "cell_type": "code",
   "execution_count": null,
   "metadata": {
    "collapsed": false
   },
   "outputs": [],
   "source": [
    "s2 = stretchSampleInner(sampijvs,1/2)\n",
    "vecstats(s2.s)"
   ]
  },
  {
   "cell_type": "code",
   "execution_count": null,
   "metadata": {
    "collapsed": false
   },
   "outputs": [],
   "source": [
    "sum(s2.s .< 0.2)"
   ]
  },
  {
   "cell_type": "code",
   "execution_count": null,
   "metadata": {
    "collapsed": false
   },
   "outputs": [],
   "source": [
    "1/log(size(a,1))"
   ]
  },
  {
   "cell_type": "code",
   "execution_count": null,
   "metadata": {
    "collapsed": false
   },
   "outputs": [],
   "source": [
    "mean(restijvs.s)"
   ]
  },
  {
   "cell_type": "code",
   "execution_count": null,
   "metadata": {
    "collapsed": true
   },
   "outputs": [],
   "source": []
  },
  {
   "cell_type": "code",
   "execution_count": null,
   "metadata": {
    "collapsed": true
   },
   "outputs": [],
   "source": []
  },
  {
   "cell_type": "code",
   "execution_count": null,
   "metadata": {
    "collapsed": false
   },
   "outputs": [],
   "source": [
    "s3 = stretchSampleInner(s2,1/5)\n",
    "[mean(s3.s), maximum(s3.s)]"
   ]
  },
  {
   "cell_type": "code",
   "execution_count": null,
   "metadata": {
    "collapsed": false
   },
   "outputs": [],
   "source": [
    "size(s3.i,1)"
   ]
  },
  {
   "cell_type": "code",
   "execution_count": null,
   "metadata": {
    "collapsed": true
   },
   "outputs": [],
   "source": []
  },
  {
   "cell_type": "code",
   "execution_count": null,
   "metadata": {
    "collapsed": true
   },
   "outputs": [],
   "source": []
  },
  {
   "cell_type": "code",
   "execution_count": null,
   "metadata": {
    "collapsed": true
   },
   "outputs": [],
   "source": []
  },
  {
   "cell_type": "code",
   "execution_count": null,
   "metadata": {
    "collapsed": true
   },
   "outputs": [],
   "source": []
  }
 ],
 "metadata": {
  "kernelspec": {
   "display_name": "Julia 0.4.2",
   "language": "julia",
   "name": "julia-0.4"
  },
  "language_info": {
   "file_extension": ".jl",
   "mimetype": "application/julia",
   "name": "julia",
   "version": "0.4.2"
  }
 },
 "nbformat": 4,
 "nbformat_minor": 0
}
