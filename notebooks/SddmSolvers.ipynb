{
 "cells": [
  {
   "cell_type": "markdown",
   "metadata": {},
   "source": [
    "Here we will check that SDDM solvers are very slow on a particular instance generated from the IPM code. I saved the filed using JLD package, so you will need to add that Julia to load the file."
   ]
  },
  {
   "cell_type": "code",
   "execution_count": 3,
   "metadata": {
    "collapsed": true
   },
   "outputs": [],
   "source": [
    "using Laplacians\n",
    "using JLD"
   ]
  },
  {
   "cell_type": "code",
   "execution_count": 4,
   "metadata": {
    "collapsed": false
   },
   "outputs": [
    {
     "data": {
      "text/plain": [
       "Dict{String,Any} with 1 entry:\n",
       "  \"SDD\" => …"
      ]
     },
     "execution_count": 4,
     "metadata": {},
     "output_type": "execute_result"
    }
   ],
   "source": [
    "sdd = load(\"/tmp/badLap.jld\")"
   ]
  },
  {
   "cell_type": "code",
   "execution_count": 5,
   "metadata": {
    "collapsed": false
   },
   "outputs": [
    {
     "data": {
      "text/plain": [
       "65536×65536 SparseMatrixCSC{Float64,Int64} with 981356 stored entries:\n",
       "  [1    ,     1]  =  5067.85\n",
       "  [2    ,     1]  =  -19.5412\n",
       "  [3    ,     1]  =  -0.071953\n",
       "  [4    ,     1]  =  -0.0271174\n",
       "  [5    ,     1]  =  -0.000494396\n",
       "  [1639 ,     1]  =  -4931.18\n",
       "  [1640 ,     1]  =  -0.580899\n",
       "  [1641 ,     1]  =  -0.0164733\n",
       "  [1642 ,     1]  =  -0.000684913\n",
       "  [3277 ,     1]  =  -6.21587\n",
       "  ⋮\n",
       "  [65370, 65535]  =  -1.03019e-11\n",
       "  [65379, 65535]  =  -1.83204e-11\n",
       "  [65380, 65535]  =  -8.75581e-12\n",
       "  [65491, 65535]  =  -9.25595e-12\n",
       "  [65500, 65535]  =  -1.04291e-11\n",
       "  [65534, 65535]  =  -3.65243e-5\n",
       "  [65535, 65535]  =  3.65554e-5\n",
       "  [65536, 65535]  =  -3.24624e-11\n",
       "  [65520, 65536]  =  -4.45768e-11\n",
       "  [65535, 65536]  =  -3.24624e-11\n",
       "  [65536, 65536]  =  1.77039e-10"
      ]
     },
     "execution_count": 5,
     "metadata": {},
     "output_type": "execute_result"
    }
   ],
   "source": [
    "SDD = sdd[\"SDD\"]"
   ]
  },
  {
   "cell_type": "code",
   "execution_count": 6,
   "metadata": {
    "collapsed": false
   },
   "outputs": [
    {
     "data": {
      "text/plain": [
       "-9.201528428093297e-13"
      ]
     },
     "execution_count": 6,
     "metadata": {},
     "output_type": "execute_result"
    }
   ],
   "source": [
    "b = rand(size(SDD)[1])\n",
    "b = b - mean(b)\n",
    "sum(b)"
   ]
  },
  {
   "cell_type": "code",
   "execution_count": 7,
   "metadata": {
    "collapsed": false
   },
   "outputs": [
    {
     "name": "stdout",
     "output_type": "stream",
     "text": [
      " 40.525596 seconds (4.77 M allocations: 391.118 MiB, 1.15% gc time)\n",
      "  0.399868 seconds (150.26 k allocations: 27.013 MiB)\n",
      "  0.701487 seconds (198.14 k allocations: 31.358 MiB, 21.41% gc time)\n"
     ]
    },
    {
     "data": {
      "text/plain": [
       "0.2260454310425066"
      ]
     },
     "execution_count": 7,
     "metadata": {},
     "output_type": "execute_result"
    }
   ],
   "source": [
    "@time f =  approxCholSddm(SDD)\n",
    "@time norm(SDD*f(b)-b)"
   ]
  },
  {
   "cell_type": "code",
   "execution_count": 8,
   "metadata": {
    "collapsed": false
   },
   "outputs": [
    {
     "name": "stdout",
     "output_type": "stream",
     "text": [
      "  5.414259 seconds (3.86 M allocations: 729.367 MiB, 8.43% gc time)\n",
      "  0.237654 seconds (61.40 k allocations: 46.397 MiB, 3.88% gc time)\n"
     ]
    },
    {
     "data": {
      "text/plain": [
       "7.408780165408602e-5"
      ]
     },
     "execution_count": 8,
     "metadata": {},
     "output_type": "execute_result"
    }
   ],
   "source": [
    "@time f =  augTreeSddm(SDD)\n",
    "@time norm(SDD*f(b)-b)"
   ]
  },
  {
   "cell_type": "code",
   "execution_count": 9,
   "metadata": {
    "collapsed": false
   },
   "outputs": [
    {
     "name": "stdout",
     "output_type": "stream",
     "text": [
      "  1.320983 seconds (130.91 k allocations: 173.432 MiB, 1.17% gc time)\n"
     ]
    },
    {
     "data": {
      "text/plain": [
       "2.3077607267393956e-5"
      ]
     },
     "execution_count": 9,
     "metadata": {},
     "output_type": "execute_result"
    }
   ],
   "source": [
    "@time norm(SDD*(SDD\\b) - b)"
   ]
  },
  {
   "cell_type": "code",
   "execution_count": 10,
   "metadata": {
    "collapsed": false
   },
   "outputs": [
    {
     "name": "stdout",
     "output_type": "stream",
     "text": [
      " 41.596837 seconds (12.76 M allocations: 1.244 GiB, 2.21% gc time)\n",
      "  0.736470 seconds (9.45 M allocations: 224.042 MiB, 22.81% gc time)\n"
     ]
    },
    {
     "data": {
      "text/plain": [
       "0.00012043442193177243"
      ]
     },
     "execution_count": 10,
     "metadata": {},
     "output_type": "execute_result"
    }
   ],
   "source": [
    "@time f =  samplingSDDMSolver(SDD)\n",
    "@time norm(SDD*f(b)-b)"
   ]
  }
 ],
 "metadata": {
  "anaconda-cloud": {},
  "kernelspec": {
   "display_name": "Julia 0.6.0",
   "language": "julia",
   "name": "julia-0.6"
  },
  "language_info": {
   "file_extension": ".jl",
   "mimetype": "application/julia",
   "name": "julia",
   "version": "0.6.0"
  }
 },
 "nbformat": 4,
 "nbformat_minor": 0
}
