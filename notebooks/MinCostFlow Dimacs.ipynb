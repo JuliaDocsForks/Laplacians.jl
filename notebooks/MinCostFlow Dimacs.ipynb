{
 "cells": [
  {
   "cell_type": "code",
   "execution_count": 1,
   "metadata": {
    "collapsed": false,
    "deletable": true,
    "editable": true
   },
   "outputs": [],
   "source": [
    "using Laplacians"
   ]
  },
  {
   "cell_type": "code",
   "execution_count": 2,
   "metadata": {
    "collapsed": false,
    "deletable": true,
    "editable": true
   },
   "outputs": [
    {
     "data": {
      "text/plain": [
       "cutCapacity"
      ]
     },
     "execution_count": 2,
     "metadata": {},
     "output_type": "execute_result"
    }
   ],
   "source": [
    "include(\"/Users/kimonfountoulakis/Desktop/Box Sync/University/Berkeley/postdoc/myPapers/Laplacians.jl/src/flowUtils.jl\")"
   ]
  },
  {
   "cell_type": "code",
   "execution_count": 271,
   "metadata": {
    "collapsed": false,
    "deletable": true,
    "editable": true
   },
   "outputs": [
    {
     "name": "stderr",
     "output_type": "stream",
     "text": [
      "WARNING: Method definition min_cost_flow(Main.MCFproblem{#Tv<:Any, #Ti<:Any}) in module Main at /Users/kimonfountoulakis/Desktop/Box Sync/University/Berkeley/postdoc/myPapers/Laplacians.jl/src/min_cost_flow.jl:18 overwritten at /Users/kimonfountoulakis/Desktop/Box Sync/University/Berkeley/postdoc/myPapers/Laplacians.jl/src/min_cost_flow.jl:18.\n",
      "WARNING: Method definition #min_cost_flow(Array{Any, 1}, Main.#min_cost_flow, Main.MCFproblem{#Tv<:Any, #Ti<:Any}) in module Main overwritten.\n",
      "WARNING: Method definition min_cost_flow(Base.SparseArrays.SparseMatrixCSC{#Tv<:Any, #Ti<:Any}, Array{#Tv<:Any, 1}, Array{#Tv<:Any, 1}, Array{#Tv<:Any, 1}) in module Main at /Users/kimonfountoulakis/Desktop/Box Sync/University/Berkeley/postdoc/myPapers/Laplacians.jl/src/min_cost_flow.jl:41 overwritten at /Users/kimonfountoulakis/Desktop/Box Sync/University/Berkeley/postdoc/myPapers/Laplacians.jl/src/min_cost_flow.jl:41.\n",
      "WARNING: Method definition #min_cost_flow(Array{Any, 1}, Main.#min_cost_flow, Base.SparseArrays.SparseMatrixCSC{#Tv<:Any, #Ti<:Any}, Array{#Tv<:Any, 1}, Array{#Tv<:Any, 1}, Array{#Tv<:Any, 1}) in module Main overwritten.\n",
      "WARNING: Method definition ipm_directions_min_cost_flow(Base.SparseArrays.SparseMatrixCSC{#Tv<:Any, #Ti<:Any}, Base.SparseArrays.SparseMatrixCSC{#Tv<:Any, #Ti<:Any}, Any, Any, Any, Array{#Tv<:Any, 1}, Array{#Tv<:Any, 1}, Array{#Tv<:Any, 1}, Array{#Tv<:Any, 1}, Array{#Tv<:Any, 1}, Array{#Tv<:Any, 1}, Integer, Any) in module Main at /Users/kimonfountoulakis/Desktop/Box Sync/University/Berkeley/postdoc/myPapers/Laplacians.jl/src/min_cost_flow.jl:207 overwritten at /Users/kimonfountoulakis/Desktop/Box Sync/University/Berkeley/postdoc/myPapers/Laplacians.jl/src/min_cost_flow.jl:207.\n",
      "WARNING: Method definition ipm_min_cost_flow_initial_point(Base.SparseArrays.SparseMatrixCSC{#Tv<:Any, #Ti<:Any}, Array{#Tv<:Any, 1}, Array{#Tv<:Any, 1}, Array{#Tv<:Any, 1}, Integer, Integer) in module Main at /Users/kimonfountoulakis/Desktop/Box Sync/University/Berkeley/postdoc/myPapers/Laplacians.jl/src/min_cost_flow.jl:241 overwritten at /Users/kimonfountoulakis/Desktop/Box Sync/University/Berkeley/postdoc/myPapers/Laplacians.jl/src/min_cost_flow.jl:241.\n",
      "WARNING: Method definition #ipm_min_cost_flow_initial_point(Array{Any, 1}, Main.#ipm_min_cost_flow_initial_point, Base.SparseArrays.SparseMatrixCSC{#Tv<:Any, #Ti<:Any}, Array{#Tv<:Any, 1}, Array{#Tv<:Any, 1}, Array{#Tv<:Any, 1}, Integer, Integer) in module Main overwritten.\n",
      "WARNING: Method definition calstepsize(Array{#Tv<:Any, 1}, Array{#Tv<:Any, 1}) in module Main at /Users/kimonfountoulakis/Desktop/Box Sync/University/Berkeley/postdoc/myPapers/Laplacians.jl/src/min_cost_flow.jl:286 overwritten at /Users/kimonfountoulakis/Desktop/Box Sync/University/Berkeley/postdoc/myPapers/Laplacians.jl/src/min_cost_flow.jl:286.\n",
      "WARNING: Method definition calstepsize(Array{#Tv<:Any, 1}, Array{#Tv<:Any, 1}, Float64) in module Main at /Users/kimonfountoulakis/Desktop/Box Sync/University/Berkeley/postdoc/myPapers/Laplacians.jl/src/min_cost_flow.jl:286 overwritten at /Users/kimonfountoulakis/Desktop/Box Sync/University/Berkeley/postdoc/myPapers/Laplacians.jl/src/min_cost_flow.jl:286.\n",
      "WARNING: Method definition makeAdj(Any, Any) in module Main at /Users/kimonfountoulakis/Desktop/Box Sync/University/Berkeley/postdoc/myPapers/Laplacians.jl/src/min_cost_flow.jl:297 overwritten at /Users/kimonfountoulakis/Desktop/Box Sync/University/Berkeley/postdoc/myPapers/Laplacians.jl/src/min_cost_flow.jl:297.\n"
     ]
    },
    {
     "data": {
      "text/plain": [
       "makeAdj (generic function with 1 method)"
      ]
     },
     "execution_count": 271,
     "metadata": {},
     "output_type": "execute_result"
    }
   ],
   "source": [
    "include(\"/Users/kimonfountoulakis/Desktop/Box Sync/University/Berkeley/postdoc/myPapers/Laplacians.jl/src/min_cost_flow.jl\")\n",
    "#include(\"/Users/spielman/Laplacians/src/primalDualIPM.jl\")\n",
    "#include(\"/Users/spielman/Laplacians/src/max_flow_IPM.jl\")"
   ]
  },
  {
   "cell_type": "markdown",
   "metadata": {
    "deletable": true,
    "editable": true
   },
   "source": [
    "We introduce a data type for minimum cost flow problems.\n",
    "It has an edge list, a vector of capacities of edges, a vector of costs, and a vector of demands.\n",
    "We test this with the graph on 4 vertices with source 1 and destination 4.\n",
    "We try to flow 1 unit of flow.  \n",
    "The capacities on all edges are 0.7.\n",
    "The costs on route 1-2-4 are 1, and on route 1-3-4 are 2.\n",
    "So, it should flow most on route 1-2-4, as it does."
   ]
  },
  {
   "cell_type": "code",
   "execution_count": 272,
   "metadata": {
    "collapsed": false,
    "deletable": true,
    "editable": true,
    "scrolled": true
   },
   "outputs": [
    {
     "data": {
      "text/plain": [
       "MCFproblem{Float64,Int64}([1 2; 2 4; 1 3; 3 4],[0.7,0.7,0.7,0.7],[1.0,1.0,2.0,2.0],[1.0,0.0,0.0,-1.0])"
      ]
     },
     "execution_count": 272,
     "metadata": {},
     "output_type": "execute_result"
    }
   ],
   "source": [
    "edges = [1 2; 2 4; 1 3; 3 4]\n",
    "caps = ones(4)*0.7\n",
    "costs = [1.0; 1; 2 ; 2]\n",
    "dems = [1.0;0;0;-1]\n",
    "\n",
    "mcfp = MCFproblem(edges, caps, costs, dems)"
   ]
  },
  {
   "cell_type": "code",
   "execution_count": 273,
   "metadata": {
    "collapsed": false,
    "deletable": true,
    "editable": true
   },
   "outputs": [
    {
     "name": "stdout",
     "output_type": "stream",
     "text": [
      "Iteration 1, ||r_p||/||b||=0.039052, ||r_d||/||c||=1.111421, rel. gap=0.313158, alpha=1.000000\n",
      "Iteration 2, ||r_p||/||b||=0.034663, ||r_d||/||c||=0.986494, rel. gap=0.277381, alpha=0.980100\n",
      "Iteration 3, ||r_p||/||b||=0.030987, ||r_d||/||c||=0.881889, rel. gap=0.249360, alpha=0.980100\n",
      "Iteration 4, ||r_p||/||b||=0.027859, ||r_d||/||c||=0.792860, rel. gap=0.226818, alpha=0.980100\n",
      "Iteration 5, ||r_p||/||b||=0.025176, ||r_d||/||c||=0.716489, rel. gap=0.208323, alpha=0.980100\n",
      "Iteration 6, ||r_p||/||b||=0.022872, ||r_d||/||c||=0.650943, rel. gap=0.192957, alpha=0.980100\n",
      "Iteration 7, ||r_p||/||b||=0.020906, ||r_d||/||c||=0.594983, rel. gap=0.180116, alpha=0.980100\n",
      "Iteration 8, ||r_p||/||b||=0.019242, ||r_d||/||c||=0.547617, rel. gap=0.169372, alpha=0.980100\n",
      "Iteration 9, ||r_p||/||b||=0.017845, ||r_d||/||c||=0.507877, rel. gap=0.160396, alpha=0.980100\n",
      "Iteration 10, ||r_p||/||b||=0.016681, ||r_d||/||c||=0.474726, rel. gap=0.152906, alpha=0.980100\n",
      "Iteration 11, ||r_p||/||b||=0.015709, ||r_d||/||c||=0.447063, rel. gap=0.146648, alpha=0.980100\n",
      "Iteration 12, ||r_p||/||b||=0.014891, ||r_d||/||c||=0.423806, rel. gap=0.141389, alpha=0.980100\n",
      "Iteration 13, ||r_p||/||b||=0.014195, ||r_d||/||c||=0.403985, rel. gap=0.136924, alpha=0.980100\n",
      "Iteration 14, ||r_p||/||b||=0.013521, ||r_d||/||c||=0.384815, rel. gap=0.132376, alpha=0.980100\n",
      "Iteration 15, ||r_p||/||b||=0.012827, ||r_d||/||c||=0.365057, rel. gap=0.127347, alpha=0.980100\n",
      "Iteration 16, ||r_p||/||b||=0.012141, ||r_d||/||c||=0.345522, rel. gap=0.122150, alpha=0.980100\n",
      "Iteration 17, ||r_p||/||b||=0.011480, ||r_d||/||c||=0.326728, rel. gap=0.116995, alpha=0.980100\n",
      "Iteration 18, ||r_p||/||b||=0.010857, ||r_d||/||c||=0.308985, rel. gap=0.112020, alpha=0.980100\n",
      "Iteration 19, ||r_p||/||b||=0.010276, ||r_d||/||c||=0.292452, rel. gap=0.107308, alpha=0.980100\n",
      "Iteration 20, ||r_p||/||b||=0.009740, ||r_d||/||c||=0.277190, rel. gap=0.102904, alpha=0.980100\n",
      "Iteration 21, ||r_p||/||b||=0.009248, ||r_d||/||c||=0.263196, rel. gap=0.098830, alpha=0.980100\n",
      "Iteration 22, ||r_p||/||b||=0.008799, ||r_d||/||c||=0.250429, rel. gap=0.095089, alpha=0.980100\n",
      "Iteration 23, ||r_p||/||b||=0.008392, ||r_d||/||c||=0.238826, rel. gap=0.091675, alpha=0.980100\n",
      "Iteration 24, ||r_p||/||b||=0.008022, ||r_d||/||c||=0.228312, rel. gap=0.088577, alpha=0.980100\n",
      "Iteration 25, ||r_p||/||b||=0.007554, ||r_d||/||c||=0.214982, rel. gap=0.084249, alpha=0.980100\n",
      "Iteration 26, ||r_p||/||b||=0.007049, ||r_d||/||c||=0.200623, rel. gap=0.079372, alpha=0.980100\n",
      "Iteration 27, ||r_p||/||b||=0.006555, ||r_d||/||c||=0.186551, rel. gap=0.074469, alpha=0.980100\n",
      "Iteration 28, ||r_p||/||b||=0.006096, ||r_d||/||c||=0.173480, rel. gap=0.069839, alpha=0.980100\n",
      "Iteration 29, ||r_p||/||b||=0.005682, ||r_d||/||c||=0.161701, rel. gap=0.065619, alpha=0.980100\n",
      "Iteration 30, ||r_p||/||b||=0.005315, ||r_d||/||c||=0.151262, rel. gap=0.061849, alpha=0.980100\n",
      "Iteration 31, ||r_p||/||b||=0.004993, ||r_d||/||c||=0.142090, rel. gap=0.058517, alpha=0.980100\n",
      "Iteration 32, ||r_p||/||b||=0.004711, ||r_d||/||c||=0.134062, rel. gap=0.055589, alpha=0.980100\n",
      "Iteration 33, ||r_p||/||b||=0.004464, ||r_d||/||c||=0.127043, rel. gap=0.053023, alpha=0.980100\n",
      "Iteration 34, ||r_p||/||b||=0.004248, ||r_d||/||c||=0.120902, rel. gap=0.050776, alpha=0.980100\n",
      "Iteration 35, ||r_p||/||b||=0.004059, ||r_d||/||c||=0.115524, rel. gap=0.048809, alpha=0.980100\n",
      "Iteration 36, ||r_p||/||b||=0.003893, ||r_d||/||c||=0.110804, rel. gap=0.047086, alpha=0.980100\n",
      "Iteration 37, ||r_p||/||b||=0.003747, ||r_d||/||c||=0.106653, rel. gap=0.045576, alpha=0.980100\n",
      "Iteration 38, ||r_p||/||b||=0.003619, ||r_d||/||c||=0.102995, rel. gap=0.044252, alpha=0.980100\n",
      "Iteration 39, ||r_p||/||b||=0.003506, ||r_d||/||c||=0.099766, rel. gap=0.043090, alpha=0.980100\n",
      "Iteration 40, ||r_p||/||b||=0.003403, ||r_d||/||c||=0.096842, rel. gap=0.042041, alpha=0.980100\n",
      "Iteration 41, ||r_p||/||b||=0.003303, ||r_d||/||c||=0.094004, rel. gap=0.041011, alpha=0.980100\n",
      "Iteration 42, ||r_p||/||b||=0.003206, ||r_d||/||c||=0.091249, rel. gap=0.040001, alpha=0.980100\n",
      "Iteration 43, ||r_p||/||b||=0.003112, ||r_d||/||c||=0.088575, rel. gap=0.039010, alpha=0.980100\n",
      "Iteration 44, ||r_p||/||b||=0.003021, ||r_d||/||c||=0.085980, rel. gap=0.038037, alpha=0.980100\n",
      "Iteration 45, ||r_p||/||b||=0.002933, ||r_d||/||c||=0.083460, rel. gap=0.037084, alpha=0.980100\n",
      "Iteration 46, ||r_p||/||b||=0.002847, ||r_d||/||c||=0.081014, rel. gap=0.036150, alpha=0.980100\n",
      "Iteration 47, ||r_p||/||b||=0.002763, ||r_d||/||c||=0.078640, rel. gap=0.035235, alpha=0.980100\n",
      "Iteration 48, ||r_p||/||b||=0.002682, ||r_d||/||c||=0.076336, rel. gap=0.034339, alpha=0.980100\n",
      "Iteration 49, ||r_p||/||b||=0.002604, ||r_d||/||c||=0.074099, rel. gap=0.033461, alpha=0.980100\n",
      "Iteration 50, ||r_p||/||b||=0.002527, ||r_d||/||c||=0.071927, rel. gap=0.032602, alpha=0.980100\n",
      "Iteration 51, ||r_p||/||b||=0.002453, ||r_d||/||c||=0.069819, rel. gap=0.031761, alpha=0.980100\n",
      "Iteration 52, ||r_p||/||b||=0.002381, ||r_d||/||c||=0.067773, rel. gap=0.030938, alpha=0.980100\n",
      "Iteration 53, ||r_p||/||b||=0.002312, ||r_d||/||c||=0.065787, rel. gap=0.030133, alpha=0.980100\n",
      "Iteration 54, ||r_p||/||b||=0.002244, ||r_d||/||c||=0.063859, rel. gap=0.029347, alpha=0.980100\n",
      "Iteration 55, ||r_p||/||b||=0.002178, ||r_d||/||c||=0.061988, rel. gap=0.028578, alpha=0.980100\n",
      "Iteration 56, ||r_p||/||b||=0.002114, ||r_d||/||c||=0.060171, rel. gap=0.027826, alpha=0.980100\n",
      "Iteration 57, ||r_p||/||b||=0.002052, ||r_d||/||c||=0.058408, rel. gap=0.027091, alpha=0.980100\n",
      "Iteration 58, ||r_p||/||b||=0.001992, ||r_d||/||c||=0.056696, rel. gap=0.026374, alpha=0.980100\n",
      "Iteration 59, ||r_p||/||b||=0.001934, ||r_d||/||c||=0.055035, rel. gap=0.025673, alpha=0.980100\n",
      "Iteration 60, ||r_p||/||b||=0.001877, ||r_d||/||c||=0.053422, rel. gap=0.024989, alpha=0.980100\n",
      "Iteration 61, ||r_p||/||b||=0.001822, ||r_d||/||c||=0.051857, rel. gap=0.024321, alpha=0.980100\n",
      "Iteration 62, ||r_p||/||b||=0.001769, ||r_d||/||c||=0.050337, rel. gap=0.023669, alpha=0.980100\n",
      "Iteration 63, ||r_p||/||b||=0.001717, ||r_d||/||c||=0.048862, rel. gap=0.023033, alpha=0.980100\n",
      "Iteration 64, ||r_p||/||b||=0.001667, ||r_d||/||c||=0.047430, rel. gap=0.022412, alpha=0.980100\n",
      "Iteration 65, ||r_p||/||b||=0.001618, ||r_d||/||c||=0.046040, rel. gap=0.021806, alpha=0.980100\n",
      "Iteration 66, ||r_p||/||b||=0.001570, ||r_d||/||c||=0.044691, rel. gap=0.021215, alpha=0.980100\n",
      "Iteration 67, ||r_p||/||b||=0.001524, ||r_d||/||c||=0.043381, rel. gap=0.020639, alpha=0.980100\n",
      "Iteration 68, ||r_p||/||b||=0.001480, ||r_d||/||c||=0.042110, rel. gap=0.020077, alpha=0.980100\n",
      "Iteration 69, ||r_p||/||b||=0.001436, ||r_d||/||c||=0.040876, rel. gap=0.019529, alpha=0.980100\n",
      "Iteration 70, ||r_p||/||b||=0.001394, ||r_d||/||c||=0.039678, rel. gap=0.018995, alpha=0.980100\n",
      "Iteration 71, ||r_p||/||b||=0.001353, ||r_d||/||c||=0.038515, rel. gap=0.018475, alpha=0.980100\n",
      "Iteration 72, ||r_p||/||b||=0.001314, ||r_d||/||c||=0.037386, rel. gap=0.017967, alpha=0.980100\n",
      "Iteration 73, ||r_p||/||b||=0.001275, ||r_d||/||c||=0.036291, rel. gap=0.017473, alpha=0.980100\n",
      "Iteration 74, ||r_p||/||b||=0.001238, ||r_d||/||c||=0.035227, rel. gap=0.016991, alpha=0.980100\n",
      "Iteration 75, ||r_p||/||b||=0.001202, ||r_d||/||c||=0.034195, rel. gap=0.016522, alpha=0.980100\n",
      "Iteration 76, ||r_p||/||b||=0.001166, ||r_d||/||c||=0.033193, rel. gap=0.016065, alpha=0.980100\n",
      "Iteration 77, ||r_p||/||b||=0.001132, ||r_d||/||c||=0.032220, rel. gap=0.015620, alpha=0.980100\n",
      "Iteration 78, ||r_p||/||b||=0.001099, ||r_d||/||c||=0.031276, rel. gap=0.015186, alpha=0.980100\n",
      "Iteration 79, ||r_p||/||b||=0.001067, ||r_d||/||c||=0.030359, rel. gap=0.014764, alpha=0.980100\n",
      "Iteration 80, ||r_p||/||b||=0.001035, ||r_d||/||c||=0.029470, rel. gap=0.014353, alpha=0.980100\n",
      "Iteration 81, ||r_p||/||b||=0.001005, ||r_d||/||c||=0.028606, rel. gap=0.013953, alpha=0.980100\n",
      "Iteration 82, ||r_p||/||b||=0.000976, ||r_d||/||c||=0.027768, rel. gap=0.013563, alpha=0.980100\n",
      "Iteration 83, ||r_p||/||b||=0.000947, ||r_d||/||c||=0.026954, rel. gap=0.013184, alpha=0.980100\n",
      "Iteration 84, ||r_p||/||b||=0.000919, ||r_d||/||c||=0.026164, rel. gap=0.012814, alpha=0.980100\n",
      "Iteration 85, ||r_p||/||b||=0.000892, ||r_d||/||c||=0.025397, rel. gap=0.012455, alpha=0.980100\n",
      "Iteration 86, ||r_p||/||b||=0.000866, ||r_d||/||c||=0.024653, rel. gap=0.012105, alpha=0.980100\n",
      "Iteration 87, ||r_p||/||b||=0.000841, ||r_d||/||c||=0.023931, rel. gap=0.011765, alpha=0.980100\n",
      "Iteration 88, ||r_p||/||b||=0.000816, ||r_d||/||c||=0.023229, rel. gap=0.011434, alpha=0.980100\n",
      "Iteration 89, ||r_p||/||b||=0.000792, ||r_d||/||c||=0.022549, rel. gap=0.011111, alpha=0.980100\n",
      "Iteration 90, ||r_p||/||b||=0.000769, ||r_d||/||c||=0.021888, rel. gap=0.010798, alpha=0.980100\n",
      "Iteration 91, ||r_p||/||b||=0.000747, ||r_d||/||c||=0.021246, rel. gap=0.010493, alpha=0.980100\n",
      "Iteration 92, ||r_p||/||b||=0.000725, ||r_d||/||c||=0.020624, rel. gap=0.010196, alpha=0.980100\n",
      "Iteration 93, ||r_p||/||b||=0.000703, ||r_d||/||c||=0.020019, rel. gap=0.009908, alpha=0.980100\n",
      "Iteration 94, ||r_p||/||b||=0.000683, ||r_d||/||c||=0.019433, rel. gap=0.009627, alpha=0.980100\n",
      "Iteration 95, ||r_p||/||b||=0.000663, ||r_d||/||c||=0.018863, rel. gap=0.009354, alpha=0.980100\n",
      "Iteration 96, ||r_p||/||b||=0.000643, ||r_d||/||c||=0.018311, rel. gap=0.009088, alpha=0.980100\n",
      "Iteration 97, ||r_p||/||b||=0.000625, ||r_d||/||c||=0.017774, rel. gap=0.008830, alpha=0.980100\n",
      "Iteration 98, ||r_p||/||b||=0.000606, ||r_d||/||c||=0.017253, rel. gap=0.008579, alpha=0.980100\n",
      "Iteration 99, ||r_p||/||b||=0.000588, ||r_d||/||c||=0.016747, rel. gap=0.008335, alpha=0.980100\n",
      "Iteration 100, ||r_p||/||b||=0.000571, ||r_d||/||c||=0.016257, rel. gap=0.008097, alpha=0.980100\n",
      "Iteration 101, ||r_p||/||b||=0.000554, ||r_d||/||c||=0.015780, rel. gap=0.007866, alpha=0.980100\n",
      "Iteration 102, ||r_p||/||b||=0.000538, ||r_d||/||c||=0.015318, rel. gap=0.007642, alpha=0.980100\n",
      "Iteration 103, ||r_p||/||b||=0.000522, ||r_d||/||c||=0.014869, rel. gap=0.007423, alpha=0.980100\n",
      "Iteration 104, ||r_p||/||b||=0.000507, ||r_d||/||c||=0.014433, rel. gap=0.007211, alpha=0.980100\n",
      "Iteration 105, ||r_p||/||b||=0.000492, ||r_d||/||c||=0.014010, rel. gap=0.007005, alpha=0.980100\n",
      "Iteration 106, ||r_p||/||b||=0.000478, ||r_d||/||c||=0.013600, rel. gap=0.006804, alpha=0.980100\n",
      "Iteration 107, ||r_p||/||b||=0.000464, ||r_d||/||c||=0.013201, rel. gap=0.006610, alpha=0.980100\n",
      "Iteration 108, ||r_p||/||b||=0.000450, ||r_d||/||c||=0.012814, rel. gap=0.006420, alpha=0.980100\n",
      "Iteration 109, ||r_p||/||b||=0.000437, ||r_d||/||c||=0.012439, rel. gap=0.006236, alpha=0.980100\n",
      "Iteration 110, ||r_p||/||b||=0.000424, ||r_d||/||c||=0.012074, rel. gap=0.006057, alpha=0.980100\n",
      "Iteration 111, ||r_p||/||b||=0.000412, ||r_d||/||c||=0.011720, rel. gap=0.005883, alpha=0.980100\n",
      "Iteration 112, ||r_p||/||b||=0.000400, ||r_d||/||c||=0.011377, rel. gap=0.005714, alpha=0.980100\n",
      "Iteration 113, ||r_p||/||b||=0.000388, ||r_d||/||c||=0.011044, rel. gap=0.005550, alpha=0.980100\n",
      "Iteration 114, ||r_p||/||b||=0.000377, ||r_d||/||c||=0.010720, rel. gap=0.005390, alpha=0.980100\n",
      "Iteration 115, ||r_p||/||b||=0.000366, ||r_d||/||c||=0.010406, rel. gap=0.005235, alpha=0.980100\n",
      "Iteration 116, ||r_p||/||b||=0.000355, ||r_d||/||c||=0.010101, rel. gap=0.005084, alpha=0.980100\n",
      "Iteration 117, ||r_p||/||b||=0.000345, ||r_d||/||c||=0.009805, rel. gap=0.004938, alpha=0.980100\n",
      "Iteration 118, ||r_p||/||b||=0.000334, ||r_d||/||c||=0.009517, rel. gap=0.004796, alpha=0.980100\n",
      "Iteration 119, ||r_p||/||b||=0.000325, ||r_d||/||c||=0.009239, rel. gap=0.004657, alpha=0.980100\n",
      "Iteration 120, ||r_p||/||b||=0.000315, ||r_d||/||c||=0.008968, rel. gap=0.004523, alpha=0.980100\n",
      "Iteration 121, ||r_p||/||b||=0.000306, ||r_d||/||c||=0.008705, rel. gap=0.004392, alpha=0.980100\n",
      "Iteration 122, ||r_p||/||b||=0.000297, ||r_d||/||c||=0.008450, rel. gap=0.004265, alpha=0.980100\n",
      "Iteration 123, ||r_p||/||b||=0.000288, ||r_d||/||c||=0.008202, rel. gap=0.004142, alpha=0.980100\n",
      "Iteration 124, ||r_p||/||b||=0.000280, ||r_d||/||c||=0.007962, rel. gap=0.004023, alpha=0.980100\n",
      "Iteration 125, ||r_p||/||b||=0.000272, ||r_d||/||c||=0.007729, rel. gap=0.003906, alpha=0.980100\n",
      "Iteration 126, ||r_p||/||b||=0.000264, ||r_d||/||c||=0.007502, rel. gap=0.003793, alpha=0.980100\n",
      "Iteration 127, ||r_p||/||b||=0.000256, ||r_d||/||c||=0.007282, rel. gap=0.003684, alpha=0.980100\n",
      "Iteration 128, ||r_p||/||b||=0.000248, ||r_d||/||c||=0.007069, rel. gap=0.003577, alpha=0.980100\n",
      "Iteration 129, ||r_p||/||b||=0.000241, ||r_d||/||c||=0.006862, rel. gap=0.003473, alpha=0.980100\n",
      "Iteration 130, ||r_p||/||b||=0.000234, ||r_d||/||c||=0.006661, rel. gap=0.003373, alpha=0.980100\n",
      "Iteration 131, ||r_p||/||b||=0.000227, ||r_d||/||c||=0.006465, rel. gap=0.003275, alpha=0.980100\n",
      "Iteration 132, ||r_p||/||b||=0.000221, ||r_d||/||c||=0.006276, rel. gap=0.003180, alpha=0.980100\n",
      "Iteration 133, ||r_p||/||b||=0.000214, ||r_d||/||c||=0.006092, rel. gap=0.003088, alpha=0.980100\n",
      "Iteration 134, ||r_p||/||b||=0.000208, ||r_d||/||c||=0.005914, rel. gap=0.002998, alpha=0.980100\n",
      "Iteration 135, ||r_p||/||b||=0.000202, ||r_d||/||c||=0.005740, rel. gap=0.002911, alpha=0.980100\n",
      "Iteration 136, ||r_p||/||b||=0.000196, ||r_d||/||c||=0.005572, rel. gap=0.002827, alpha=0.980100\n",
      "Iteration 137, ||r_p||/||b||=0.000190, ||r_d||/||c||=0.005409, rel. gap=0.002745, alpha=0.980100\n",
      "Iteration 138, ||r_p||/||b||=0.000184, ||r_d||/||c||=0.005250, rel. gap=0.002665, alpha=0.980100\n",
      "Iteration 139, ||r_p||/||b||=0.000179, ||r_d||/||c||=0.005096, rel. gap=0.002588, alpha=0.980100\n",
      "Iteration 140, ||r_p||/||b||=0.000174, ||r_d||/||c||=0.004947, rel. gap=0.002513, alpha=0.980100\n",
      "Iteration 141, ||r_p||/||b||=0.000169, ||r_d||/||c||=0.004802, rel. gap=0.002440, alpha=0.980100\n",
      "Iteration 142, ||r_p||/||b||=0.000164, ||r_d||/||c||=0.004661, rel. gap=0.002369, alpha=0.980100\n",
      "Iteration 143, ||r_p||/||b||=0.000159, ||r_d||/||c||=0.004525, rel. gap=0.002300, alpha=0.980100\n",
      "Iteration 144, ||r_p||/||b||=0.000154, ||r_d||/||c||=0.004392, rel. gap=0.002233, alpha=0.980100\n",
      "Iteration 145, ||r_p||/||b||=0.000150, ||r_d||/||c||=0.004263, rel. gap=0.002168, alpha=0.980100\n",
      "Iteration 146, ||r_p||/||b||=0.000145, ||r_d||/||c||=0.004138, rel. gap=0.002105, alpha=0.980100\n",
      "Iteration 147, ||r_p||/||b||=0.000141, ||r_d||/||c||=0.004017, rel. gap=0.002044, alpha=0.980100\n",
      "Iteration 148, ||r_p||/||b||=0.000137, ||r_d||/||c||=0.003899, rel. gap=0.001984, alpha=0.980100\n",
      "Iteration 149, ||r_p||/||b||=0.000133, ||r_d||/||c||=0.003785, rel. gap=0.001926, alpha=0.980100\n",
      "Iteration 150, ||r_p||/||b||=0.000129, ||r_d||/||c||=0.003674, rel. gap=0.001870, alpha=0.980100\n",
      "Iteration 151, ||r_p||/||b||=0.000125, ||r_d||/||c||=0.003567, rel. gap=0.001816, alpha=0.980100\n",
      "Iteration 152, ||r_p||/||b||=0.000122, ||r_d||/||c||=0.003462, rel. gap=0.001763, alpha=0.980100\n",
      "Iteration 153, ||r_p||/||b||=0.000118, ||r_d||/||c||=0.003361, rel. gap=0.001712, alpha=0.980100\n",
      "Iteration 154, ||r_p||/||b||=0.000115, ||r_d||/||c||=0.003262, rel. gap=0.001662, alpha=0.980100\n",
      "Iteration 155, ||r_p||/||b||=0.000111, ||r_d||/||c||=0.003167, rel. gap=0.001613, alpha=0.980100\n",
      "Iteration 156, ||r_p||/||b||=0.000108, ||r_d||/||c||=0.003074, rel. gap=0.001566, alpha=0.980100\n",
      "Iteration 157, ||r_p||/||b||=0.000105, ||r_d||/||c||=0.002984, rel. gap=0.001521, alpha=0.980100\n",
      "Iteration 158, ||r_p||/||b||=0.000102, ||r_d||/||c||=0.002896, rel. gap=0.001476, alpha=0.980100\n",
      "Iteration 159, ||r_p||/||b||=0.000099, ||r_d||/||c||=0.002811, rel. gap=0.001433, alpha=0.980100\n",
      "Iteration 160, ||r_p||/||b||=0.000096, ||r_d||/||c||=0.002729, rel. gap=0.001392, alpha=0.980100\n",
      "Iteration 161, ||r_p||/||b||=0.000093, ||r_d||/||c||=0.002649, rel. gap=0.001351, alpha=0.980100\n",
      "Iteration 162, ||r_p||/||b||=0.000090, ||r_d||/||c||=0.002571, rel. gap=0.001312, alpha=0.980100\n",
      "Iteration 163, ||r_p||/||b||=0.000088, ||r_d||/||c||=0.002496, rel. gap=0.001273, alpha=0.980100\n",
      "Iteration 164, ||r_p||/||b||=0.000085, ||r_d||/||c||=0.002423, rel. gap=0.001236, alpha=0.980100\n",
      "Iteration 165, ||r_p||/||b||=0.000083, ||r_d||/||c||=0.002352, rel. gap=0.001200, alpha=0.980100\n",
      "Iteration 166, ||r_p||/||b||=0.000080, ||r_d||/||c||=0.002283, rel. gap=0.001165, alpha=0.980100\n",
      "Iteration 167, ||r_p||/||b||=0.000078, ||r_d||/||c||=0.002216, rel. gap=0.001131, alpha=0.980100\n",
      "Iteration 168, ||r_p||/||b||=0.000076, ||r_d||/||c||=0.002151, rel. gap=0.001098, alpha=0.980100\n",
      "Iteration 169, ||r_p||/||b||=0.000073, ||r_d||/||c||=0.002088, rel. gap=0.001066, alpha=0.980100\n",
      "Iteration 170, ||r_p||/||b||=0.000071, ||r_d||/||c||=0.002027, rel. gap=0.001035, alpha=0.980100\n",
      "Iteration 171, ||r_p||/||b||=0.000069, ||r_d||/||c||=0.001967, rel. gap=0.001005, alpha=0.980100\n",
      "Iteration 172, ||r_p||/||b||=0.000067, ||r_d||/||c||=0.001910, rel. gap=0.000975, alpha=0.980100\n",
      "Iteration 173, ||r_p||/||b||=0.000065, ||r_d||/||c||=0.001854, rel. gap=0.000947, alpha=0.980100\n",
      "Iteration 174, ||r_p||/||b||=0.000063, ||r_d||/||c||=0.001800, rel. gap=0.000919, alpha=0.980100\n",
      "Iteration 175, ||r_p||/||b||=0.000061, ||r_d||/||c||=0.001747, rel. gap=0.000892, alpha=0.980100\n",
      "Iteration 176, ||r_p||/||b||=0.000060, ||r_d||/||c||=0.001696, rel. gap=0.000866, alpha=0.980100\n",
      "Iteration 177, ||r_p||/||b||=0.000058, ||r_d||/||c||=0.001646, rel. gap=0.000841, alpha=0.980100\n",
      "Iteration 178, ||r_p||/||b||=0.000056, ||r_d||/||c||=0.001598, rel. gap=0.000816, alpha=0.980100\n",
      "Iteration 179, ||r_p||/||b||=0.000054, ||r_d||/||c||=0.001551, rel. gap=0.000792, alpha=0.980100\n",
      "Iteration 180, ||r_p||/||b||=0.000053, ||r_d||/||c||=0.001505, rel. gap=0.000769, alpha=0.980100\n",
      "Iteration 181, ||r_p||/||b||=0.000051, ||r_d||/||c||=0.001461, rel. gap=0.000747, alpha=0.980100\n",
      "Iteration 182, ||r_p||/||b||=0.000050, ||r_d||/||c||=0.001418, rel. gap=0.000725, alpha=0.980100\n",
      "Iteration 183, ||r_p||/||b||=0.000048, ||r_d||/||c||=0.001377, rel. gap=0.000704, alpha=0.980100\n",
      "Iteration 184, ||r_p||/||b||=0.000047, ||r_d||/||c||=0.001337, rel. gap=0.000683, alpha=0.980100\n",
      "Iteration 185, ||r_p||/||b||=0.000046, ||r_d||/||c||=0.001297, rel. gap=0.000663, alpha=0.980100\n",
      "Iteration 186, ||r_p||/||b||=0.000044, ||r_d||/||c||=0.001259, rel. gap=0.000644, alpha=0.980100\n",
      "Iteration 187, ||r_p||/||b||=0.000043, ||r_d||/||c||=0.001222, rel. gap=0.000625, alpha=0.980100\n",
      "Iteration 188, ||r_p||/||b||=0.000042, ||r_d||/||c||=0.001187, rel. gap=0.000607, alpha=0.980100\n",
      "Iteration 189, ||r_p||/||b||=0.000040, ||r_d||/||c||=0.001152, rel. gap=0.000589, alpha=0.980100\n",
      "Iteration 190, ||r_p||/||b||=0.000039, ||r_d||/||c||=0.001118, rel. gap=0.000572, alpha=0.980100\n",
      "Iteration 191, ||r_p||/||b||=0.000038, ||r_d||/||c||=0.001085, rel. gap=0.000555, alpha=0.980100\n",
      "Iteration 192, ||r_p||/||b||=0.000037, ||r_d||/||c||=0.001054, rel. gap=0.000539, alpha=0.980100\n",
      "Iteration 193, ||r_p||/||b||=0.000036, ||r_d||/||c||=0.001023, rel. gap=0.000523, alpha=0.980100\n",
      "Iteration 194, ||r_p||/||b||=0.000035, ||r_d||/||c||=0.000993, rel. gap=0.000508, alpha=0.980100\n",
      "Iteration 195, ||r_p||/||b||=0.000034, ||r_d||/||c||=0.000964, rel. gap=0.000493, alpha=0.980100\n",
      "Iteration 196, ||r_p||/||b||=0.000033, ||r_d||/||c||=0.000935, rel. gap=0.000479, alpha=0.980100\n",
      "Iteration 197, ||r_p||/||b||=0.000032, ||r_d||/||c||=0.000908, rel. gap=0.000465, alpha=0.980100\n",
      "Iteration 198, ||r_p||/||b||=0.000031, ||r_d||/||c||=0.000881, rel. gap=0.000451, alpha=0.980100\n",
      "Iteration 199, ||r_p||/||b||=0.000030, ||r_d||/||c||=0.000856, rel. gap=0.000438, alpha=0.980100\n",
      "Iteration 200, ||r_p||/||b||=0.000029, ||r_d||/||c||=0.000830, rel. gap=0.000425, alpha=0.980100\n",
      "Iteration 201, ||r_p||/||b||=0.000028, ||r_d||/||c||=0.000806, rel. gap=0.000413, alpha=0.980100\n",
      "Iteration 202, ||r_p||/||b||=0.000027, ||r_d||/||c||=0.000782, rel. gap=0.000400, alpha=0.980100\n",
      "Iteration 203, ||r_p||/||b||=0.000027, ||r_d||/||c||=0.000760, rel. gap=0.000389, alpha=0.980100\n",
      "Iteration 204, ||r_p||/||b||=0.000026, ||r_d||/||c||=0.000737, rel. gap=0.000377, alpha=0.980100\n",
      "Iteration 205, ||r_p||/||b||=0.000025, ||r_d||/||c||=0.000716, rel. gap=0.000366, alpha=0.980100\n",
      "Iteration 206, ||r_p||/||b||=0.000024, ||r_d||/||c||=0.000695, rel. gap=0.000356, alpha=0.980100\n",
      "Iteration 207, ||r_p||/||b||=0.000024, ||r_d||/||c||=0.000674, rel. gap=0.000345, alpha=0.980100\n",
      "Iteration 208, ||r_p||/||b||=0.000023, ||r_d||/||c||=0.000655, rel. gap=0.000335, alpha=0.980100\n",
      "Iteration 209, ||r_p||/||b||=0.000022, ||r_d||/||c||=0.000635, rel. gap=0.000325, alpha=0.980100\n",
      "Iteration 210, ||r_p||/||b||=0.000022, ||r_d||/||c||=0.000617, rel. gap=0.000316, alpha=0.980100\n",
      "Iteration 211, ||r_p||/||b||=0.000021, ||r_d||/||c||=0.000599, rel. gap=0.000307, alpha=0.980100\n",
      "Iteration 212, ||r_p||/||b||=0.000020, ||r_d||/||c||=0.000581, rel. gap=0.000298, alpha=0.980100\n",
      "Iteration 213, ||r_p||/||b||=0.000020, ||r_d||/||c||=0.000564, rel. gap=0.000289, alpha=0.980100\n",
      "Iteration 214, ||r_p||/||b||=0.000019, ||r_d||/||c||=0.000548, rel. gap=0.000280, alpha=0.980100\n",
      "Iteration 215, ||r_p||/||b||=0.000019, ||r_d||/||c||=0.000532, rel. gap=0.000272, alpha=0.980100\n",
      "Iteration 216, ||r_p||/||b||=0.000018, ||r_d||/||c||=0.000516, rel. gap=0.000264, alpha=0.980100\n",
      "Iteration 217, ||r_p||/||b||=0.000018, ||r_d||/||c||=0.000501, rel. gap=0.000256, alpha=0.980100\n",
      "Iteration 218, ||r_p||/||b||=0.000017, ||r_d||/||c||=0.000486, rel. gap=0.000249, alpha=0.980100\n",
      "Iteration 219, ||r_p||/||b||=0.000017, ||r_d||/||c||=0.000472, rel. gap=0.000242, alpha=0.980100\n",
      "Iteration 220, ||r_p||/||b||=0.000016, ||r_d||/||c||=0.000458, rel. gap=0.000235, alpha=0.980100\n",
      "Iteration 221, ||r_p||/||b||=0.000016, ||r_d||/||c||=0.000445, rel. gap=0.000228, alpha=0.980100\n",
      "Iteration 222, ||r_p||/||b||=0.000015, ||r_d||/||c||=0.000432, rel. gap=0.000221, alpha=0.980100\n",
      "Iteration 223, ||r_p||/||b||=0.000015, ||r_d||/||c||=0.000419, rel. gap=0.000215, alpha=0.980100\n",
      "Iteration 224, ||r_p||/||b||=0.000014, ||r_d||/||c||=0.000407, rel. gap=0.000208, alpha=0.980100\n",
      "Iteration 225, ||r_p||/||b||=0.000014, ||r_d||/||c||=0.000395, rel. gap=0.000202, alpha=0.980100\n",
      "Iteration 226, ||r_p||/||b||=0.000013, ||r_d||/||c||=0.000383, rel. gap=0.000196, alpha=0.980100\n",
      "Iteration 227, ||r_p||/||b||=0.000013, ||r_d||/||c||=0.000372, rel. gap=0.000191, alpha=0.980100\n",
      "Iteration 228, ||r_p||/||b||=0.000013, ||r_d||/||c||=0.000361, rel. gap=0.000185, alpha=0.980100\n",
      "Iteration 229, ||r_p||/||b||=0.000012, ||r_d||/||c||=0.000351, rel. gap=0.000180, alpha=0.980100\n",
      "Iteration 230, ||r_p||/||b||=0.000012, ||r_d||/||c||=0.000340, rel. gap=0.000174, alpha=0.980100\n",
      "Iteration 231, ||r_p||/||b||=0.000012, ||r_d||/||c||=0.000330, rel. gap=0.000169, alpha=0.980100\n",
      "Iteration 232, ||r_p||/||b||=0.000011, ||r_d||/||c||=0.000321, rel. gap=0.000164, alpha=0.980100\n",
      "Iteration 233, ||r_p||/||b||=0.000011, ||r_d||/||c||=0.000311, rel. gap=0.000159, alpha=0.980100\n",
      "Iteration 234, ||r_p||/||b||=0.000011, ||r_d||/||c||=0.000302, rel. gap=0.000155, alpha=0.980100\n",
      "Iteration 235, ||r_p||/||b||=0.000010, ||r_d||/||c||=0.000293, rel. gap=0.000150, alpha=0.980100\n",
      "Iteration 236, ||r_p||/||b||=0.000010, ||r_d||/||c||=0.000285, rel. gap=0.000146, alpha=0.980100\n",
      "Iteration 237, ||r_p||/||b||=0.000010, ||r_d||/||c||=0.000276, rel. gap=0.000142, alpha=0.980100\n",
      "Iteration 238, ||r_p||/||b||=0.000009, ||r_d||/||c||=0.000268, rel. gap=0.000137, alpha=0.980100\n",
      "Iteration 239, ||r_p||/||b||=0.000009, ||r_d||/||c||=0.000260, rel. gap=0.000133, alpha=0.980100\n",
      "Iteration 240, ||r_p||/||b||=0.000009, ||r_d||/||c||=0.000253, rel. gap=0.000129, alpha=0.980100\n",
      "Iteration 241, ||r_p||/||b||=0.000009, ||r_d||/||c||=0.000245, rel. gap=0.000126, alpha=0.980100\n",
      "Iteration 242, ||r_p||/||b||=0.000008, ||r_d||/||c||=0.000238, rel. gap=0.000122, alpha=0.980100\n",
      "Iteration 243, ||r_p||/||b||=0.000008, ||r_d||/||c||=0.000231, rel. gap=0.000118, alpha=0.980100\n",
      "Iteration 244, ||r_p||/||b||=0.000008, ||r_d||/||c||=0.000224, rel. gap=0.000115, alpha=0.980100\n",
      "Iteration 245, ||r_p||/||b||=0.000008, ||r_d||/||c||=0.000218, rel. gap=0.000112, alpha=0.980100\n",
      "Iteration 246, ||r_p||/||b||=0.000007, ||r_d||/||c||=0.000211, rel. gap=0.000108, alpha=0.980100\n",
      "Iteration 247, ||r_p||/||b||=0.000007, ||r_d||/||c||=0.000205, rel. gap=0.000105, alpha=0.980100\n",
      "Iteration 248, ||r_p||/||b||=0.000007, ||r_d||/||c||=0.000199, rel. gap=0.000102, alpha=0.980100\n",
      "Iteration 249, ||r_p||/||b||=0.000007, ||r_d||/||c||=0.000193, rel. gap=0.000099, alpha=0.980100\n",
      "Iteration 250, ||r_p||/||b||=0.000007, ||r_d||/||c||=0.000188, rel. gap=0.000096, alpha=0.980100\n",
      "Iteration 251, ||r_p||/||b||=0.000006, ||r_d||/||c||=0.000182, rel. gap=0.000093, alpha=0.980100\n",
      "Iteration 252, ||r_p||/||b||=0.000006, ||r_d||/||c||=0.000177, rel. gap=0.000091, alpha=0.980100\n",
      "Iteration 253, ||r_p||/||b||=0.000006, ||r_d||/||c||=0.000172, rel. gap=0.000088, alpha=0.980100\n",
      "Iteration 254, ||r_p||/||b||=0.000006, ||r_d||/||c||=0.000167, rel. gap=0.000085, alpha=0.980100\n",
      "Iteration 255, ||r_p||/||b||=0.000006, ||r_d||/||c||=0.000162, rel. gap=0.000083, alpha=0.980100\n",
      "Iteration 256, ||r_p||/||b||=0.000006, ||r_d||/||c||=0.000157, rel. gap=0.000080, alpha=0.980100\n",
      "Iteration 257, ||r_p||/||b||=0.000005, ||r_d||/||c||=0.000152, rel. gap=0.000078, alpha=0.980100\n",
      "Iteration 258, ||r_p||/||b||=0.000005, ||r_d||/||c||=0.000148, rel. gap=0.000076, alpha=0.980100\n",
      "Iteration 259, ||r_p||/||b||=0.000005, ||r_d||/||c||=0.000144, rel. gap=0.000074, alpha=0.980100\n",
      "Iteration 260, ||r_p||/||b||=0.000005, ||r_d||/||c||=0.000139, rel. gap=0.000071, alpha=0.980100\n",
      "Iteration 261, ||r_p||/||b||=0.000005, ||r_d||/||c||=0.000135, rel. gap=0.000069, alpha=0.980100\n",
      "Iteration 262, ||r_p||/||b||=0.000005, ||r_d||/||c||=0.000131, rel. gap=0.000067, alpha=0.980100\n",
      "Iteration 263, ||r_p||/||b||=0.000004, ||r_d||/||c||=0.000128, rel. gap=0.000065, alpha=0.980100\n",
      "Iteration 264, ||r_p||/||b||=0.000004, ||r_d||/||c||=0.000124, rel. gap=0.000063, alpha=0.980100\n",
      "Iteration 265, ||r_p||/||b||=0.000004, ||r_d||/||c||=0.000120, rel. gap=0.000062, alpha=0.980100\n",
      "Iteration 266, ||r_p||/||b||=0.000004, ||r_d||/||c||=0.000117, rel. gap=0.000060, alpha=0.980100\n",
      "Iteration 267, ||r_p||/||b||=0.000004, ||r_d||/||c||=0.000113, rel. gap=0.000058, alpha=0.980100\n",
      "Iteration 268, ||r_p||/||b||=0.000004, ||r_d||/||c||=0.000110, rel. gap=0.000056, alpha=0.980100\n",
      "Iteration 269, ||r_p||/||b||=0.000004, ||r_d||/||c||=0.000107, rel. gap=0.000055, alpha=0.980100\n",
      "Iteration 270, ||r_p||/||b||=0.000004, ||r_d||/||c||=0.000104, rel. gap=0.000053, alpha=0.980100\n",
      "Iteration 271, ||r_p||/||b||=0.000004, ||r_d||/||c||=0.000101, rel. gap=0.000052, alpha=0.980100\n",
      "Iteration 272, ||r_p||/||b||=0.000003, ||r_d||/||c||=0.000098, rel. gap=0.000050, alpha=0.980100\n",
      "Iteration 273, ||r_p||/||b||=0.000003, ||r_d||/||c||=0.000095, rel. gap=0.000049, alpha=0.980100\n",
      "Iteration 274, ||r_p||/||b||=0.000003, ||r_d||/||c||=0.000092, rel. gap=0.000047, alpha=0.980100\n",
      "Iteration 275, ||r_p||/||b||=0.000003, ||r_d||/||c||=0.000089, rel. gap=0.000046, alpha=0.980100\n",
      "Iteration 276, ||r_p||/||b||=0.000003, ||r_d||/||c||=0.000087, rel. gap=0.000044, alpha=0.980100\n",
      "Iteration 277, ||r_p||/||b||=0.000003, ||r_d||/||c||=0.000084, rel. gap=0.000043, alpha=0.980100\n",
      "Iteration 278, ||r_p||/||b||=0.000003, ||r_d||/||c||=0.000082, rel. gap=0.000042, alpha=0.980100\n",
      "Iteration 279, ||r_p||/||b||=0.000003, ||r_d||/||c||=0.000079, rel. gap=0.000041, alpha=0.980100\n",
      "Iteration 280, ||r_p||/||b||=0.000003, ||r_d||/||c||=0.000077, rel. gap=0.000039, alpha=0.980100\n",
      "Iteration 281, ||r_p||/||b||=0.000003, ||r_d||/||c||=0.000075, rel. gap=0.000038, alpha=0.980100\n",
      "Iteration 282, ||r_p||/||b||=0.000003, ||r_d||/||c||=0.000072, rel. gap=0.000037, alpha=0.980100\n",
      "Iteration 283, ||r_p||/||b||=0.000002, ||r_d||/||c||=0.000070, rel. gap=0.000036, alpha=0.980100\n",
      "Iteration 284, ||r_p||/||b||=0.000002, ||r_d||/||c||=0.000068, rel. gap=0.000035, alpha=0.980100\n",
      "Iteration 285, ||r_p||/||b||=0.000002, ||r_d||/||c||=0.000066, rel. gap=0.000034, alpha=0.980100\n",
      "Iteration 286, ||r_p||/||b||=0.000002, ||r_d||/||c||=0.000064, rel. gap=0.000033, alpha=0.980100\n",
      "Iteration 287, ||r_p||/||b||=0.000002, ||r_d||/||c||=0.000062, rel. gap=0.000032, alpha=0.980100\n",
      "Iteration 288, ||r_p||/||b||=0.000002, ||r_d||/||c||=0.000061, rel. gap=0.000031, alpha=0.980100\n",
      "Iteration 289, ||r_p||/||b||=0.000002, ||r_d||/||c||=0.000059, rel. gap=0.000030, alpha=0.980100\n",
      "Iteration 290, ||r_p||/||b||=0.000002, ||r_d||/||c||=0.000057, rel. gap=0.000029, alpha=0.980100\n",
      "Iteration 291, ||r_p||/||b||=0.000002, ||r_d||/||c||=0.000055, rel. gap=0.000028, alpha=0.980100\n",
      "Iteration 292, ||r_p||/||b||=0.000002, ||r_d||/||c||=0.000054, rel. gap=0.000028, alpha=0.980100\n",
      "Iteration 293, ||r_p||/||b||=0.000002, ||r_d||/||c||=0.000052, rel. gap=0.000027, alpha=0.980100\n",
      "Iteration 294, ||r_p||/||b||=0.000002, ||r_d||/||c||=0.000051, rel. gap=0.000026, alpha=0.980100\n",
      "Iteration 295, ||r_p||/||b||=0.000002, ||r_d||/||c||=0.000049, rel. gap=0.000025, alpha=0.980100\n",
      "Iteration 296, ||r_p||/||b||=0.000002, ||r_d||/||c||=0.000048, rel. gap=0.000025, alpha=0.980100\n",
      "Iteration 297, ||r_p||/||b||=0.000002, ||r_d||/||c||=0.000046, rel. gap=0.000024, alpha=0.980100\n",
      "Iteration 298, ||r_p||/||b||=0.000002, ||r_d||/||c||=0.000045, rel. gap=0.000023, alpha=0.980100\n",
      "Iteration 299, ||r_p||/||b||=0.000002, ||r_d||/||c||=0.000044, rel. gap=0.000022, alpha=0.980100\n",
      "Iteration 300, ||r_p||/||b||=0.000001, ||r_d||/||c||=0.000042, rel. gap=0.000022, alpha=0.980100\n",
      "Iteration 301, ||r_p||/||b||=0.000001, ||r_d||/||c||=0.000041, rel. gap=0.000021, alpha=0.980100\n",
      "Iteration 302, ||r_p||/||b||=0.000001, ||r_d||/||c||=0.000040, rel. gap=0.000020, alpha=0.980100\n",
      "Iteration 303, ||r_p||/||b||=0.000001, ||r_d||/||c||=0.000039, rel. gap=0.000020, alpha=0.980100\n",
      "Iteration 304, ||r_p||/||b||=0.000001, ||r_d||/||c||=0.000038, rel. gap=0.000019, alpha=0.980100\n",
      "Iteration 305, ||r_p||/||b||=0.000001, ||r_d||/||c||=0.000037, rel. gap=0.000019, alpha=0.980100\n",
      "Iteration 306, ||r_p||/||b||=0.000001, ||r_d||/||c||=0.000035, rel. gap=0.000018, alpha=0.980100\n",
      "Iteration 307, ||r_p||/||b||=0.000001, ||r_d||/||c||=0.000034, rel. gap=0.000018, alpha=0.980100\n",
      "Iteration 308, ||r_p||/||b||=0.000001, ||r_d||/||c||=0.000033, rel. gap=0.000017, alpha=0.980100\n",
      "Iteration 309, ||r_p||/||b||=0.000001, ||r_d||/||c||=0.000032, rel. gap=0.000017, alpha=0.980100\n",
      "Iteration 310, ||r_p||/||b||=0.000001, ||r_d||/||c||=0.000032, rel. gap=0.000016, alpha=0.980100\n",
      "Iteration 311, ||r_p||/||b||=0.000001, ||r_d||/||c||=0.000031, rel. gap=0.000016, alpha=0.980100\n",
      "Iteration 312, ||r_p||/||b||=0.000001, ||r_d||/||c||=0.000030, rel. gap=0.000015, alpha=0.980100\n",
      "Iteration 313, ||r_p||/||b||=0.000001, ||r_d||/||c||=0.000029, rel. gap=0.000015, alpha=0.980100\n",
      "Iteration 314, ||r_p||/||b||=0.000001, ||r_d||/||c||=0.000028, rel. gap=0.000014, alpha=0.980100\n",
      "Iteration 315, ||r_p||/||b||=0.000001, ||r_d||/||c||=0.000027, rel. gap=0.000014, alpha=0.980100\n",
      "Iteration 316, ||r_p||/||b||=0.000001, ||r_d||/||c||=0.000026, rel. gap=0.000014, alpha=0.980100\n",
      "Iteration 317, ||r_p||/||b||=0.000001, ||r_d||/||c||=0.000026, rel. gap=0.000013, alpha=0.980100\n",
      "Iteration 318, ||r_p||/||b||=0.000001, ||r_d||/||c||=0.000025, rel. gap=0.000013, alpha=0.980100\n",
      "Iteration 319, ||r_p||/||b||=0.000001, ||r_d||/||c||=0.000024, rel. gap=0.000012, alpha=0.980100\n",
      "Iteration 320, ||r_p||/||b||=0.000001, ||r_d||/||c||=0.000023, rel. gap=0.000012, alpha=0.980100\n",
      "Iteration 321, ||r_p||/||b||=0.000001, ||r_d||/||c||=0.000023, rel. gap=0.000012, alpha=0.980100\n",
      "Iteration 322, ||r_p||/||b||=0.000001, ||r_d||/||c||=0.000022, rel. gap=0.000011, alpha=0.980100\n",
      "Iteration 323, ||r_p||/||b||=0.000001, ||r_d||/||c||=0.000021, rel. gap=0.000011, alpha=0.980100\n",
      "Iteration 324, ||r_p||/||b||=0.000001, ||r_d||/||c||=0.000021, rel. gap=0.000011, alpha=0.980100\n",
      "Iteration 325, ||r_p||/||b||=0.000001, ||r_d||/||c||=0.000020, rel. gap=0.000010, alpha=0.980100\n",
      "Iteration 326, ||r_p||/||b||=0.000001, ||r_d||/||c||=0.000020, rel. gap=0.000010, alpha=0.980100\n",
      "Iteration 327, ||r_p||/||b||=0.000001, ||r_d||/||c||=0.000019, rel. gap=0.000010, alpha=0.980100\n",
      "Iteration 328, ||r_p||/||b||=0.000001, ||r_d||/||c||=0.000018, rel. gap=0.000009, alpha=0.980100\n",
      "Iteration 329, ||r_p||/||b||=0.000001, ||r_d||/||c||=0.000018, rel. gap=0.000009, alpha=0.980100\n",
      "Iteration 330, ||r_p||/||b||=0.000001, ||r_d||/||c||=0.000017, rel. gap=0.000009, alpha=0.980100\n",
      "Iteration 331, ||r_p||/||b||=0.000001, ||r_d||/||c||=0.000017, rel. gap=0.000009, alpha=0.980100\n",
      "Iteration 332, ||r_p||/||b||=0.000001, ||r_d||/||c||=0.000016, rel. gap=0.000008, alpha=0.980100\n",
      "Iteration 333, ||r_p||/||b||=0.000001, ||r_d||/||c||=0.000016, rel. gap=0.000008, alpha=0.980100\n",
      "Iteration 334, ||r_p||/||b||=0.000001, ||r_d||/||c||=0.000015, rel. gap=0.000008, alpha=0.980100\n",
      "Iteration 335, ||r_p||/||b||=0.000001, ||r_d||/||c||=0.000015, rel. gap=0.000008, alpha=0.980100\n",
      "Iteration 336, ||r_p||/||b||=0.000001, ||r_d||/||c||=0.000015, rel. gap=0.000007, alpha=0.980100\n",
      "Iteration 337, ||r_p||/||b||=0.000000, ||r_d||/||c||=0.000014, rel. gap=0.000007, alpha=0.980100\n",
      "Iteration 338, ||r_p||/||b||=0.000000, ||r_d||/||c||=0.000014, rel. gap=0.000007, alpha=0.980100\n",
      "Iteration 339, ||r_p||/||b||=0.000000, ||r_d||/||c||=0.000013, rel. gap=0.000007, alpha=0.980100\n",
      "Iteration 340, ||r_p||/||b||=0.000000, ||r_d||/||c||=0.000013, rel. gap=0.000007, alpha=0.980100\n",
      "Iteration 341, ||r_p||/||b||=0.000000, ||r_d||/||c||=0.000013, rel. gap=0.000006, alpha=0.980100\n",
      "Iteration 342, ||r_p||/||b||=0.000000, ||r_d||/||c||=0.000012, rel. gap=0.000006, alpha=0.980100\n",
      "Iteration 343, ||r_p||/||b||=0.000000, ||r_d||/||c||=0.000012, rel. gap=0.000006, alpha=0.980100\n",
      "Iteration 344, ||r_p||/||b||=0.000000, ||r_d||/||c||=0.000011, rel. gap=0.000006, alpha=0.980100\n",
      "Iteration 345, ||r_p||/||b||=0.000000, ||r_d||/||c||=0.000011, rel. gap=0.000006, alpha=0.980100\n",
      "Iteration 346, ||r_p||/||b||=0.000000, ||r_d||/||c||=0.000011, rel. gap=0.000006, alpha=0.980100\n",
      "Iteration 347, ||r_p||/||b||=0.000000, ||r_d||/||c||=0.000010, rel. gap=0.000005, alpha=0.980100\n",
      "Iteration 348, ||r_p||/||b||=0.000000, ||r_d||/||c||=0.000010, rel. gap=0.000005, alpha=0.980100\n",
      "Iteration 349, ||r_p||/||b||=0.000000, ||r_d||/||c||=0.000010, rel. gap=0.000005, alpha=0.980100\n",
      "Iteration 350, ||r_p||/||b||=0.000000, ||r_d||/||c||=0.000010, rel. gap=0.000005, alpha=0.980100\n",
      "Iteration 351, ||r_p||/||b||=0.000000, ||r_d||/||c||=0.000009, rel. gap=0.000005, alpha=0.980100\n",
      "Iteration 352, ||r_p||/||b||=0.000000, ||r_d||/||c||=0.000009, rel. gap=0.000005, alpha=0.980100\n",
      "Iteration 353, ||r_p||/||b||=0.000000, ||r_d||/||c||=0.000009, rel. gap=0.000004, alpha=0.980100\n",
      "Iteration 354, ||r_p||/||b||=0.000000, ||r_d||/||c||=0.000009, rel. gap=0.000004, alpha=0.980100\n",
      "Iteration 355, ||r_p||/||b||=0.000000, ||r_d||/||c||=0.000008, rel. gap=0.000004, alpha=0.980100\n",
      "Iteration 356, ||r_p||/||b||=0.000000, ||r_d||/||c||=0.000008, rel. gap=0.000004, alpha=0.980100\n",
      "Iteration 357, ||r_p||/||b||=0.000000, ||r_d||/||c||=0.000008, rel. gap=0.000004, alpha=0.980100\n",
      "Iteration 358, ||r_p||/||b||=0.000000, ||r_d||/||c||=0.000008, rel. gap=0.000004, alpha=0.980100\n",
      "Iteration 359, ||r_p||/||b||=0.000000, ||r_d||/||c||=0.000007, rel. gap=0.000004, alpha=0.980100\n",
      "Iteration 360, ||r_p||/||b||=0.000000, ||r_d||/||c||=0.000007, rel. gap=0.000004, alpha=0.980100\n",
      "Iteration 361, ||r_p||/||b||=0.000000, ||r_d||/||c||=0.000007, rel. gap=0.000004, alpha=0.980100\n",
      "Iteration 362, ||r_p||/||b||=0.000000, ||r_d||/||c||=0.000007, rel. gap=0.000003, alpha=0.980100\n",
      "Iteration 363, ||r_p||/||b||=0.000000, ||r_d||/||c||=0.000007, rel. gap=0.000003, alpha=0.980100\n",
      "Iteration 364, ||r_p||/||b||=0.000000, ||r_d||/||c||=0.000006, rel. gap=0.000003, alpha=0.980100\n",
      "Iteration 365, ||r_p||/||b||=0.000000, ||r_d||/||c||=0.000006, rel. gap=0.000003, alpha=0.980100\n",
      "Iteration 366, ||r_p||/||b||=0.000000, ||r_d||/||c||=0.000006, rel. gap=0.000003, alpha=0.980100\n",
      "Iteration 367, ||r_p||/||b||=0.000000, ||r_d||/||c||=0.000006, rel. gap=0.000003, alpha=0.980100\n",
      "Iteration 368, ||r_p||/||b||=0.000000, ||r_d||/||c||=0.000006, rel. gap=0.000003, alpha=0.980100\n",
      "Iteration 369, ||r_p||/||b||=0.000000, ||r_d||/||c||=0.000005, rel. gap=0.000003, alpha=0.980100\n",
      "Iteration 370, ||r_p||/||b||=0.000000, ||r_d||/||c||=0.000005, rel. gap=0.000003, alpha=0.980100\n",
      "Iteration 371, ||r_p||/||b||=0.000000, ||r_d||/||c||=0.000005, rel. gap=0.000003, alpha=0.980100\n",
      "Iteration 372, ||r_p||/||b||=0.000000, ||r_d||/||c||=0.000005, rel. gap=0.000003, alpha=0.980100\n",
      "Iteration 373, ||r_p||/||b||=0.000000, ||r_d||/||c||=0.000005, rel. gap=0.000002, alpha=0.980100\n",
      "Iteration 374, ||r_p||/||b||=0.000000, ||r_d||/||c||=0.000005, rel. gap=0.000002, alpha=0.980100\n",
      "Iteration 375, ||r_p||/||b||=0.000000, ||r_d||/||c||=0.000005, rel. gap=0.000002, alpha=0.980100\n",
      "Iteration 376, ||r_p||/||b||=0.000000, ||r_d||/||c||=0.000004, rel. gap=0.000002, alpha=0.980100\n",
      "Iteration 377, ||r_p||/||b||=0.000000, ||r_d||/||c||=0.000004, rel. gap=0.000002, alpha=0.980100\n",
      "Iteration 378, ||r_p||/||b||=0.000000, ||r_d||/||c||=0.000004, rel. gap=0.000002, alpha=0.980100\n",
      "Iteration 379, ||r_p||/||b||=0.000000, ||r_d||/||c||=0.000004, rel. gap=0.000002, alpha=0.980100\n",
      "Iteration 380, ||r_p||/||b||=0.000000, ||r_d||/||c||=0.000004, rel. gap=0.000002, alpha=0.980100\n",
      "Iteration 381, ||r_p||/||b||=0.000000, ||r_d||/||c||=0.000004, rel. gap=0.000002, alpha=0.980100\n",
      "Iteration 382, ||r_p||/||b||=0.000000, ||r_d||/||c||=0.000004, rel. gap=0.000002, alpha=0.980100\n",
      "Iteration 383, ||r_p||/||b||=0.000000, ||r_d||/||c||=0.000004, rel. gap=0.000002, alpha=0.980100\n",
      "Iteration 384, ||r_p||/||b||=0.000000, ||r_d||/||c||=0.000003, rel. gap=0.000002, alpha=0.980100\n",
      "Iteration 385, ||r_p||/||b||=0.000000, ||r_d||/||c||=0.000003, rel. gap=0.000002, alpha=0.980100\n",
      "Iteration 386, ||r_p||/||b||=0.000000, ||r_d||/||c||=0.000003, rel. gap=0.000002, alpha=0.980100\n",
      "Iteration 387, ||r_p||/||b||=0.000000, ||r_d||/||c||=0.000003, rel. gap=0.000002, alpha=0.980100\n",
      "Iteration 388, ||r_p||/||b||=0.000000, ||r_d||/||c||=0.000003, rel. gap=0.000002, alpha=0.980100\n",
      "Iteration 389, ||r_p||/||b||=0.000000, ||r_d||/||c||=0.000003, rel. gap=0.000002, alpha=0.980100\n",
      "Iteration 390, ||r_p||/||b||=0.000000, ||r_d||/||c||=0.000003, rel. gap=0.000001, alpha=0.980100\n",
      "Iteration 391, ||r_p||/||b||=0.000000, ||r_d||/||c||=0.000003, rel. gap=0.000001, alpha=0.980100\n",
      "Iteration 392, ||r_p||/||b||=0.000000, ||r_d||/||c||=0.000003, rel. gap=0.000001, alpha=0.980100\n",
      "Iteration 393, ||r_p||/||b||=0.000000, ||r_d||/||c||=0.000003, rel. gap=0.000001, alpha=0.980100\n",
      "Iteration 394, ||r_p||/||b||=0.000000, ||r_d||/||c||=0.000003, rel. gap=0.000001, alpha=0.980100\n",
      "Iteration 395, ||r_p||/||b||=0.000000, ||r_d||/||c||=0.000003, rel. gap=0.000001, alpha=0.980100\n",
      "Iteration 396, ||r_p||/||b||=0.000000, ||r_d||/||c||=0.000002, rel. gap=0.000001, alpha=0.980100\n",
      "Iteration 397, ||r_p||/||b||=0.000000, ||r_d||/||c||=0.000002, rel. gap=0.000001, alpha=0.980100\n",
      "Iteration 398, ||r_p||/||b||=0.000000, ||r_d||/||c||=0.000002, rel. gap=0.000001, alpha=0.980100\n",
      "Iteration 399, ||r_p||/||b||=0.000000, ||r_d||/||c||=0.000002, rel. gap=0.000001, alpha=0.980100\n",
      "Iteration 400, ||r_p||/||b||=0.000000, ||r_d||/||c||=0.000002, rel. gap=0.000001, alpha=0.980100\n",
      "Iteration 401, ||r_p||/||b||=0.000000, ||r_d||/||c||=0.000002, rel. gap=0.000001, alpha=0.980100\n",
      "Iteration 402, ||r_p||/||b||=0.000000, ||r_d||/||c||=0.000002, rel. gap=0.000001, alpha=0.980100\n",
      "Iteration 403, ||r_p||/||b||=0.000000, ||r_d||/||c||=0.000002, rel. gap=0.000001, alpha=0.980100\n",
      "Iteration 404, ||r_p||/||b||=0.000000, ||r_d||/||c||=0.000002, rel. gap=0.000001, alpha=0.980100\n",
      "Iteration 405, ||r_p||/||b||=0.000000, ||r_d||/||c||=0.000002, rel. gap=0.000001, alpha=0.980100\n",
      "Iteration 406, ||r_p||/||b||=0.000000, ||r_d||/||c||=0.000002, rel. gap=0.000001, alpha=0.980100\n",
      "Iteration 407, ||r_p||/||b||=0.000000, ||r_d||/||c||=0.000002, rel. gap=0.000001, alpha=0.980100\n",
      "Iteration 408, ||r_p||/||b||=0.000000, ||r_d||/||c||=0.000002, rel. gap=0.000001, alpha=0.980100\n",
      "Iteration 409, ||r_p||/||b||=0.000000, ||r_d||/||c||=0.000002, rel. gap=0.000001, alpha=0.980100\n",
      "Iteration 410, ||r_p||/||b||=0.000000, ||r_d||/||c||=0.000002, rel. gap=0.000001, alpha=0.980100\n",
      "Iteration 411, ||r_p||/||b||=0.000000, ||r_d||/||c||=0.000002, rel. gap=0.000001, alpha=0.980100\n",
      "Iteration 412, ||r_p||/||b||=0.000000, ||r_d||/||c||=0.000002, rel. gap=0.000001, alpha=0.980100\n",
      "Iteration 413, ||r_p||/||b||=0.000000, ||r_d||/||c||=0.000001, rel. gap=0.000001, alpha=0.980100\n",
      "Iteration 414, ||r_p||/||b||=0.000000, ||r_d||/||c||=0.000001, rel. gap=0.000001, alpha=0.980100\n",
      "Iteration 415, ||r_p||/||b||=0.000000, ||r_d||/||c||=0.000001, rel. gap=0.000001, alpha=0.980100\n",
      "Iteration 416, ||r_p||/||b||=0.000000, ||r_d||/||c||=0.000001, rel. gap=0.000001, alpha=0.980100\n",
      "Iteration 417, ||r_p||/||b||=0.000000, ||r_d||/||c||=0.000001, rel. gap=0.000001, alpha=0.980100\n",
      "Iteration 418, ||r_p||/||b||=0.000000, ||r_d||/||c||=0.000001, rel. gap=0.000001, alpha=0.980100\n",
      "Iteration 419, ||r_p||/||b||=0.000000, ||r_d||/||c||=0.000001, rel. gap=0.000001, alpha=0.980100\n",
      "Iteration 420, ||r_p||/||b||=0.000000, ||r_d||/||c||=0.000001, rel. gap=0.000001, alpha=0.980100\n",
      "Iteration 421, ||r_p||/||b||=0.000000, ||r_d||/||c||=0.000001, rel. gap=0.000001, alpha=0.980100\n",
      "Iteration 422, ||r_p||/||b||=0.000000, ||r_d||/||c||=0.000001, rel. gap=0.000001, alpha=0.980100\n",
      "Iteration 423, ||r_p||/||b||=0.000000, ||r_d||/||c||=0.000001, rel. gap=0.000001, alpha=0.980100\n",
      "Iteration 424, ||r_p||/||b||=0.000000, ||r_d||/||c||=0.000001, rel. gap=0.000001, alpha=0.980100\n",
      "Iteration 425, ||r_p||/||b||=0.000000, ||r_d||/||c||=0.000001, rel. gap=0.000001, alpha=0.980100\n",
      "Iteration 426, ||r_p||/||b||=0.000000, ||r_d||/||c||=0.000001, rel. gap=0.000001, alpha=0.980100\n",
      "Iteration 427, ||r_p||/||b||=0.000000, ||r_d||/||c||=0.000001, rel. gap=0.000000, alpha=0.980100\n",
      "Termination tolerance reached.\n"
     ]
    },
    {
     "data": {
      "text/plain": [
       "4-element Array{Float64,1}:\n",
       " 0.7\n",
       " 0.7\n",
       " 0.3\n",
       " 0.3"
      ]
     },
     "execution_count": 273,
     "metadata": {},
     "output_type": "execute_result"
    }
   ],
   "source": [
    "sol = min_cost_flow(mcfp)\n",
    "flow = sol[1]"
   ]
  },
  {
   "cell_type": "markdown",
   "metadata": {
    "deletable": true,
    "editable": true
   },
   "source": [
    "The following cell computes the costs and check that the demands are satisfied."
   ]
  },
  {
   "cell_type": "code",
   "execution_count": 274,
   "metadata": {
    "collapsed": false,
    "deletable": true,
    "editable": true
   },
   "outputs": [
    {
     "name": "stdout",
     "output_type": "stream",
     "text": [
      "Cost: 2.599999850083979\n",
      "Min flow: 0.2999999832706952\n",
      "Min slack: 4.149940124875684e-8\n",
      "Error on demands: 1.1645741221366634e-7\n"
     ]
    }
   ],
   "source": [
    "reportMCFresults(mcfp,flow)"
   ]
  },
  {
   "cell_type": "markdown",
   "metadata": {
    "deletable": true,
    "editable": true
   },
   "source": [
    "Now, let's try computing this using JuMP, an optimization package for Julia."
   ]
  },
  {
   "cell_type": "code",
   "execution_count": 275,
   "metadata": {
    "collapsed": false,
    "deletable": true,
    "editable": true
   },
   "outputs": [],
   "source": [
    "using JuMP\n",
    "using Clp"
   ]
  },
  {
   "cell_type": "code",
   "execution_count": 276,
   "metadata": {
    "collapsed": false,
    "deletable": true,
    "editable": true
   },
   "outputs": [
    {
     "name": "stderr",
     "output_type": "stream",
     "text": [
      "WARNING: Method definition MCFjump(Main.MCFproblem) in module Main at In[261]:2 overwritten at In[276]:2.\n"
     ]
    },
    {
     "data": {
      "text/plain": [
       "MCFjump (generic function with 1 method)"
      ]
     },
     "execution_count": 276,
     "metadata": {},
     "output_type": "execute_result"
    }
   ],
   "source": [
    "function MCFjump(mcfp::MCFproblem)\n",
    "    edge_list = mcfp.edge_list\n",
    "    m = size(edge_list,1)\n",
    "    n = maximum(edge_list)\n",
    "    B = sparse(collect(1:m), edge_list[:,1], 1.0, m, n) -\n",
    "      sparse(collect(1:m), edge_list[:,2], 1.0, m, n)\n",
    " \n",
    "\n",
    "    mod = Model(solver=ClpSolver(PrimalTolerance=1.0e-1,DualTolerance=1.0e-1))\n",
    "    @variable(mod, x[1:m] >= 0)\n",
    "    @constraint(mod, x .<= mcfp.capacities)\n",
    "    @constraint(mod, B'*x .== mcfp.demands)\n",
    "    @objective(mod, Min, (mcfp.costs'*x)[1])\n",
    "    @time status = solve(mod)\n",
    "\n",
    "    f = getvalue(x)\n",
    "    return f\n",
    "    \n",
    "end"
   ]
  },
  {
   "cell_type": "code",
   "execution_count": 277,
   "metadata": {
    "collapsed": false,
    "deletable": true,
    "editable": true
   },
   "outputs": [
    {
     "name": "stdout",
     "output_type": "stream",
     "text": [
      "  0.000386 seconds (110 allocations: 6.969 KB)\n",
      "Cost: 2.6\n",
      "Min flow: 0.30000000000000004\n",
      "Min slack: 0.0\n",
      "Error on demands: 0.0\n"
     ]
    }
   ],
   "source": [
    "f = MCFjump(mcfp)\n",
    "reportMCFresults(mcfp,f)"
   ]
  },
  {
   "cell_type": "markdown",
   "metadata": {
    "deletable": true,
    "editable": true
   },
   "source": [
    "We would like to compare the performance of our code to standard codes on some benchmark examples.  These benchmark examples usually come in the Dimacs format.  \n",
    "In this notebook, we use the example \"goto_8_08a.min\"\n",
    "from <a href=\"http://lime.cs.elte.hu/~kpeter/data/mcf/goto/\">http://lime.cs.elte.hu/~kpeter/data/mcf/goto/</a>."
   ]
  },
  {
   "cell_type": "code",
   "execution_count": 278,
   "metadata": {
    "collapsed": false,
    "deletable": true,
    "editable": true
   },
   "outputs": [
    {
     "data": {
      "text/plain": [
       "MCFproblem{Float64,Int64}([1 2; 1 3; … ; 180 216; 216 252],[8642.0,741.0,453.0,62.0,341.0,1029.0,2640.0,1762.0,155.0,31.0  …  55614.0,55614.0,55614.0,55614.0,55614.0,55614.0,55614.0,55614.0,55614.0,55614.0],[28.0,714.0,451.0,822.0,0.0,7.0,518.0,29.0,298.0,973.0  …  142.0,142.0,142.0,142.0,142.0,142.0,142.0,142.0,142.0,142.0],[55614.0,0.0,0.0,0.0,0.0,0.0,0.0,0.0,0.0,0.0  …  0.0,0.0,0.0,0.0,0.0,-55614.0,0.0,0.0,0.0,0.0])"
      ]
     },
     "execution_count": 278,
     "metadata": {},
     "output_type": "execute_result"
    }
   ],
   "source": [
    "mcfp = readDimacsMCF(\"/Users/kimonfountoulakis/Desktop/temp/goto_8_08a.min\")"
   ]
  },
  {
   "cell_type": "code",
   "execution_count": 280,
   "metadata": {
    "collapsed": false,
    "deletable": true,
    "editable": true
   },
   "outputs": [
    {
     "name": "stdout",
     "output_type": "stream",
     "text": [
      "Iteration 1, ||r_p||/||b||=1.049937, ||r_d||/||c||=57.144463, rel. gap=0.136245, alpha=1.000000\n",
      "Iteration 2, ||r_p||/||b||=1.049605, ||r_d||/||c||=57.126426, rel. gap=0.136243, alpha=0.000331\n",
      "Iteration 3, ||r_p||/||b||=1.048901, ||r_d||/||c||=57.088082, rel. gap=0.136238, alpha=0.000704\n",
      "Iteration 4, ||r_p||/||b||=1.046585, ||r_d||/||c||=56.962012, rel. gap=0.136225, alpha=0.002323\n",
      "Iteration 5, ||r_p||/||b||=1.039698, ||r_d||/||c||=56.587220, rel. gap=0.136196, alpha=0.006994\n",
      "Iteration 6, ||r_p||/||b||=1.017787, ||r_d||/||c||=55.394673, rel. gap=0.136106, alpha=0.023022\n",
      "Iteration 7, ||r_p||/||b||=0.945914, ||r_d||/||c||=51.482861, rel. gap=0.135308, alpha=0.081554\n",
      "Iteration 8, ||r_p||/||b||=0.703305, ||r_d||/||c||=38.278500, rel. gap=0.127741, alpha=0.324087\n",
      "Iteration 9, ||r_p||/||b||=0.299752, ||r_d||/||c||=16.314484, rel. gap=0.085410, alpha=0.980100\n",
      "Iteration 10, ||r_p||/||b||=0.152051, ||r_d||/||c||=8.275592, rel. gap=0.056265, alpha=0.980100\n",
      "Iteration 11, ||r_p||/||b||=0.116712, ||r_d||/||c||=6.352224, rel. gap=0.044387, alpha=0.980100\n",
      "Iteration 12, ||r_p||/||b||=0.097271, ||r_d||/||c||=5.294151, rel. gap=0.037419, alpha=0.980100\n",
      "Iteration 13, ||r_p||/||b||=0.084763, ||r_d||/||c||=4.613355, rel. gap=0.032825, alpha=0.980100\n",
      "Iteration 14, ||r_p||/||b||=0.075755, ||r_d||/||c||=4.123071, rel. gap=0.029489, alpha=0.980100\n",
      "Iteration 15, ||r_p||/||b||=0.069086, ||r_d||/||c||=3.760113, rel. gap=0.027016, alpha=0.980100\n",
      "Iteration 16, ||r_p||/||b||=0.063522, ||r_d||/||c||=3.457305, rel. gap=0.024958, alpha=0.980100\n",
      "Iteration 17, ||r_p||/||b||=0.058699, ||r_d||/||c||=3.194779, rel. gap=0.023181, alpha=0.980100\n",
      "Iteration 18, ||r_p||/||b||=0.054459, ||r_d||/||c||=2.964015, rel. gap=0.021625, alpha=0.980100\n",
      "Iteration 19, ||r_p||/||b||=0.050610, ||r_d||/||c||=2.754548, rel. gap=0.020218, alpha=0.980100\n",
      "Iteration 20, ||r_p||/||b||=0.047086, ||r_d||/||c||=2.562721, rel. gap=0.018934, alpha=0.980100\n",
      "Iteration 21, ||r_p||/||b||=0.043867, ||r_d||/||c||=2.387521, rel. gap=0.017764, alpha=0.980100\n",
      "Iteration 22, ||r_p||/||b||=0.040933, ||r_d||/||c||=2.227837, rel. gap=0.016702, alpha=0.980100\n",
      "Iteration 23, ||r_p||/||b||=0.038263, ||r_d||/||c||=2.082531, rel. gap=0.015740, alpha=0.980100\n",
      "Iteration 24, ||r_p||/||b||=0.035837, ||r_d||/||c||=1.950482, rel. gap=0.014870, alpha=0.980100\n",
      "Iteration 25, ||r_p||/||b||=0.033612, ||r_d||/||c||=1.829382, rel. gap=0.014075, alpha=0.980100\n",
      "Iteration 26, ||r_p||/||b||=0.031493, ||r_d||/||c||=1.714054, rel. gap=0.013318, alpha=0.980100\n",
      "Iteration 27, ||r_p||/||b||=0.029476, ||r_d||/||c||=1.604254, rel. gap=0.012596, alpha=0.980100\n",
      "Iteration 28, ||r_p||/||b||=0.027556, ||r_d||/||c||=1.499782, rel. gap=0.011906, alpha=0.980100\n",
      "Iteration 29, ||r_p||/||b||=0.025731, ||r_d||/||c||=1.400473, rel. gap=0.011249, alpha=0.980100\n",
      "Iteration 30, ||r_p||/||b||=0.023999, ||r_d||/||c||=1.306181, rel. gap=0.010622, alpha=0.980100\n",
      "Iteration 31, ||r_p||/||b||=0.022356, ||r_d||/||c||=1.216779, rel. gap=0.010025, alpha=0.980100\n",
      "Iteration 32, ||r_p||/||b||=0.020801, ||r_d||/||c||=1.132144, rel. gap=0.009458, alpha=0.980100\n",
      "Iteration 33, ||r_p||/||b||=0.019332, ||r_d||/||c||=1.052155, rel. gap=0.008919, alpha=0.980100\n",
      "Iteration 34, ||r_p||/||b||=0.017945, ||r_d||/||c||=0.976697, rel. gap=0.008408, alpha=0.980100\n",
      "Iteration 35, ||r_p||/||b||=0.016640, ||r_d||/||c||=0.905655, rel. gap=0.007926, alpha=0.980100\n",
      "Iteration 36, ||r_p||/||b||=0.015414, ||r_d||/||c||=0.838921, rel. gap=0.007471, alpha=0.980100\n",
      "Iteration 37, ||r_p||/||b||=0.014262, ||r_d||/||c||=0.776252, rel. gap=0.007042, alpha=0.980100\n",
      "Iteration 38, ||r_p||/||b||=0.013176, ||r_d||/||c||=0.717108, rel. gap=0.006635, alpha=0.980100\n",
      "Iteration 39, ||r_p||/||b||=0.012155, ||r_d||/||c||=0.661528, rel. gap=0.006251, alpha=0.980100\n",
      "Iteration 40, ||r_p||/||b||=0.011199, ||r_d||/||c||=0.609538, rel. gap=0.005891, alpha=0.980100\n",
      "Iteration 41, ||r_p||/||b||=0.010310, ||r_d||/||c||=0.561146, rel. gap=0.005555, alpha=0.980100\n",
      "Iteration 42, ||r_p||/||b||=0.009487, ||r_d||/||c||=0.516339, rel. gap=0.005245, alpha=0.980100\n",
      "Iteration 43, ||r_p||/||b||=0.008729, ||r_d||/||c||=0.475085, rel. gap=0.004959, alpha=0.980100\n",
      "Iteration 44, ||r_p||/||b||=0.008035, ||r_d||/||c||=0.437328, rel. gap=0.004700, alpha=0.980100\n",
      "Iteration 45, ||r_p||/||b||=0.007404, ||r_d||/||c||=0.402991, rel. gap=0.004466, alpha=0.980100\n",
      "Iteration 46, ||r_p||/||b||=0.006831, ||r_d||/||c||=0.371789, rel. gap=0.004255, alpha=0.980100\n",
      "Iteration 47, ||r_p||/||b||=0.006214, ||r_d||/||c||=0.338182, rel. gap=0.004002, alpha=0.980100\n",
      "Iteration 48, ||r_p||/||b||=0.005630, ||r_d||/||c||=0.306418, rel. gap=0.003756, alpha=0.980100\n",
      "Iteration 49, ||r_p||/||b||=0.005078, ||r_d||/||c||=0.276381, rel. gap=0.003514, alpha=0.980100\n",
      "Iteration 50, ||r_p||/||b||=0.004394, ||r_d||/||c||=0.239158, rel. gap=0.003160, alpha=0.980100\n",
      "Iteration 51, ||r_p||/||b||=0.003611, ||r_d||/||c||=0.196552, rel. gap=0.002710, alpha=0.980100\n",
      "Iteration 52, ||r_p||/||b||=0.002864, ||r_d||/||c||=0.155855, rel. gap=0.002256, alpha=0.980100\n",
      "Iteration 53, ||r_p||/||b||=0.002208, ||r_d||/||c||=0.120165, rel. gap=0.001839, alpha=0.980100\n",
      "Iteration 54, ||r_p||/||b||=0.001646, ||r_d||/||c||=0.089584, rel. gap=0.001461, alpha=0.980100\n",
      "Iteration 55, ||r_p||/||b||=0.001198, ||r_d||/||c||=0.065224, rel. gap=0.001142, alpha=0.980100\n",
      "Iteration 56, ||r_p||/||b||=0.000861, ||r_d||/||c||=0.046846, rel. gap=0.000883, alpha=0.980100\n",
      "Iteration 57, ||r_p||/||b||=0.000536, ||r_d||/||c||=0.029163, rel. gap=0.000618, alpha=0.980100\n",
      "Iteration 58, ||r_p||/||b||=0.000313, ||r_d||/||c||=0.017039, rel. gap=0.000419, alpha=0.980100\n",
      "Iteration 59, ||r_p||/||b||=0.000184, ||r_d||/||c||=0.010040, rel. gap=0.000285, alpha=0.980100\n",
      "Iteration 60, ||r_p||/||b||=0.000116, ||r_d||/||c||=0.006332, rel. gap=0.000201, alpha=0.980100\n",
      "Iteration 61, ||r_p||/||b||=0.000069, ||r_d||/||c||=0.003769, rel. gap=0.000136, alpha=0.980100\n",
      "Iteration 62, ||r_p||/||b||=0.000037, ||r_d||/||c||=0.001993, rel. gap=0.000088, alpha=0.980100\n",
      "Iteration 63, ||r_p||/||b||=0.000022, ||r_d||/||c||=0.001188, rel. gap=0.000059, alpha=0.980100\n",
      "Iteration 64, ||r_p||/||b||=0.000013, ||r_d||/||c||=0.000714, rel. gap=0.000040, alpha=0.980100\n",
      "Iteration 65, ||r_p||/||b||=0.000007, ||r_d||/||c||=0.000376, rel. gap=0.000025, alpha=0.980100\n",
      "Iteration 66, ||r_p||/||b||=0.000004, ||r_d||/||c||=0.000215, rel. gap=0.000016, alpha=0.980100\n",
      "Iteration 67, ||r_p||/||b||=0.000002, ||r_d||/||c||=0.000103, rel. gap=0.000010, alpha=0.980100\n",
      "Iteration 68, ||r_p||/||b||=0.000001, ||r_d||/||c||=0.000036, rel. gap=0.000006, alpha=0.980100\n",
      "Iteration 69, ||r_p||/||b||=0.000000, ||r_d||/||c||=0.000007, rel. gap=0.000005, alpha=0.973368\n",
      "Iteration 70, ||r_p||/||b||=0.000000, ||r_d||/||c||=0.000001, rel. gap=0.000003, alpha=0.980100\n",
      "Iteration 71, ||r_p||/||b||=0.000000, ||r_d||/||c||=0.000001, rel. gap=0.000002, alpha=0.980100\n",
      "Iteration 72, ||r_p||/||b||=0.000000, ||r_d||/||c||=0.000000, rel. gap=0.000001, alpha=0.980100\n",
      "Iteration 73, ||r_p||/||b||=0.000000, ||r_d||/||c||=0.000000, rel. gap=0.000001, alpha=0.980100\n",
      "Iteration 74, ||r_p||/||b||=0.000000, ||r_d||/||c||=0.000000, rel. gap=0.000001, alpha=0.980100\n",
      "Iteration 75, ||r_p||/||b||=0.000000, ||r_d||/||c||=0.000000, rel. gap=0.000001, alpha=0.980100\n",
      "Iteration 76, ||r_p||/||b||=0.000000, ||r_d||/||c||=0.000000, rel. gap=0.000000, alpha=0.980100\n",
      "Iteration 77, ||r_p||/||b||=0.000000, ||r_d||/||c||=0.000000, rel. gap=0.000000, alpha=0.964525\n",
      "Iteration 78, ||r_p||/||b||=0.000000, ||r_d||/||c||=0.000000, rel. gap=0.000000, alpha=0.980100\n",
      "Iteration 79, ||r_p||/||b||=0.000000, ||r_d||/||c||=0.000000, rel. gap=0.000000, alpha=0.980100\n",
      "Iteration 80, ||r_p||/||b||=0.000000, ||r_d||/||c||=0.000000, rel. gap=0.000000, alpha=0.980100\n",
      "Iteration 81, ||r_p||/||b||=0.000000, ||r_d||/||c||=0.000000, rel. gap=0.000000, alpha=0.980100\n",
      "Iteration 82, ||r_p||/||b||=0.000000, ||r_d||/||c||=0.000000, rel. gap=0.000000, alpha=0.980100\n",
      "Iteration 83, ||r_p||/||b||=0.000000, ||r_d||/||c||=0.000000, rel. gap=0.000000, alpha=0.980100\n",
      "Iteration 84, ||r_p||/||b||=0.000000, ||r_d||/||c||=0.000000, rel. gap=0.000000, alpha=0.980100\n",
      "Iteration 85, ||r_p||/||b||=0.000000, ||r_d||/||c||=0.000000, rel. gap=0.000000, alpha=0.980100\n",
      "Iteration 86, ||r_p||/||b||=0.000000, ||r_d||/||c||=0.000000, rel. gap=0.000000, alpha=0.980100\n",
      "Iteration 87, ||r_p||/||b||=0.000000, ||r_d||/||c||=0.000000, rel. gap=0.000000, alpha=0.980100\n",
      "Iteration 88, ||r_p||/||b||=0.000000, ||r_d||/||c||=0.000000, rel. gap=0.000000, alpha=0.980100\n",
      "Iteration 89, ||r_p||/||b||=0.000000, ||r_d||/||c||=0.000000, rel. gap=0.000000, alpha=0.980100\n",
      "Iteration 90, ||r_p||/||b||=0.000000, ||r_d||/||c||=0.000000, rel. gap=0.000000, alpha=0.980100\n",
      "Iteration 91, ||r_p||/||b||=0.000000, ||r_d||/||c||=0.000000, rel. gap=0.000000, alpha=0.980100\n",
      "Iteration 92, ||r_p||/||b||=0.000000, ||r_d||/||c||=0.000000, rel. gap=0.000000, alpha=0.980100\n",
      "Iteration 93, ||r_p||/||b||=0.000000, ||r_d||/||c||=0.000000, rel. gap=0.000000, alpha=0.980100\n",
      "Iteration 94, ||r_p||/||b||=0.000000, ||r_d||/||c||=0.000000, rel. gap=0.000000, alpha=0.980100\n",
      "Iteration 95, ||r_p||/||b||=0.000000, ||r_d||/||c||=0.000000, rel. gap=0.000000, alpha=0.980100\n",
      "Iteration 96, ||r_p||/||b||=0.000000, ||r_d||/||c||=0.000000, rel. gap=0.000000, alpha=0.980100\n",
      "Iteration 97, ||r_p||/||b||=0.000000, ||r_d||/||c||=0.000000, rel. gap=0.000000, alpha=0.980100\n",
      "Iteration 98, ||r_p||/||b||=0.000000, ||r_d||/||c||=0.000000, rel. gap=0.000000, alpha=0.980100\n",
      "Iteration 99, ||r_p||/||b||=0.000000, ||r_d||/||c||=0.000000, rel. gap=0.000000, alpha=0.980100\n",
      "Iteration 100, ||r_p||/||b||=0.000000, ||r_d||/||c||=0.000000, rel. gap=0.000000, alpha=0.980100\n",
      "Iteration 101, ||r_p||/||b||=0.000000, ||r_d||/||c||=0.000000, rel. gap=0.000000, alpha=0.980100\n",
      "Iteration 102, ||r_p||/||b||=0.000000, ||r_d||/||c||=0.000000, rel. gap=0.000000, alpha=0.980100\n",
      "Iteration 103, ||r_p||/||b||=0.000000, ||r_d||/||c||=0.000000, rel. gap=0.000000, alpha=0.980100\n",
      "Iteration 104, ||r_p||/||b||=0.000000, ||r_d||/||c||=0.000000, rel. gap=0.000000, alpha=0.980100\n",
      "Iteration 105, ||r_p||/||b||=0.000000, ||r_d||/||c||=0.000000, rel. gap=0.000000, alpha=0.980100\n",
      "Iteration 106, ||r_p||/||b||=0.000000, ||r_d||/||c||=0.000000, rel. gap=0.000000, alpha=0.980100\n",
      "Iteration 107, ||r_p||/||b||=0.000000, ||r_d||/||c||=0.000000, rel. gap=0.000000, alpha=0.980100\n",
      "Iteration 108, ||r_p||/||b||=0.000000, ||r_d||/||c||=0.000000, rel. gap=0.000000, alpha=0.980100\n",
      "Iteration 109, ||r_p||/||b||=0.000000, ||r_d||/||c||=0.000000, rel. gap=0.000000, alpha=0.980100\n",
      "Iteration 110, ||r_p||/||b||=0.000000, ||r_d||/||c||=0.000000, rel. gap=0.000000, alpha=0.980100\n",
      "Iteration 111, ||r_p||/||b||=0.000000, ||r_d||/||c||=0.000000, rel. gap=0.000000, alpha=0.980100\n",
      "Iteration 112, ||r_p||/||b||=0.000000, ||r_d||/||c||=0.000000, rel. gap=0.000000, alpha=0.980100\n",
      "Iteration 113, ||r_p||/||b||=0.000000, ||r_d||/||c||=0.000000, rel. gap=0.000000, alpha=0.980100\n",
      "Iteration 114, ||r_p||/||b||=0.000000, ||r_d||/||c||=0.000000, rel. gap=0.000000, alpha=0.980100\n",
      "Iteration 115, ||r_p||/||b||=0.000000, ||r_d||/||c||=0.000000, rel. gap=0.000000, alpha=0.980100\n",
      "Iteration 116, ||r_p||/||b||=0.000000, ||r_d||/||c||=0.000000, rel. gap=0.000000, alpha=0.980100\n",
      "Iteration 117, ||r_p||/||b||=0.000000, ||r_d||/||c||=0.000000, rel. gap=0.000000, alpha=0.980100\n",
      "Iteration 118, ||r_p||/||b||=0.000000, ||r_d||/||c||=0.000000, rel. gap=0.000000, alpha=0.980100\n",
      "Iteration 119, ||r_p||/||b||=0.000000, ||r_d||/||c||=0.000000, rel. gap=0.000000, alpha=0.980100\n",
      "Iteration 120, ||r_p||/||b||=0.000000, ||r_d||/||c||=0.000000, rel. gap=0.000000, alpha=0.980100\n",
      "Iteration 121, ||r_p||/||b||=0.000000, ||r_d||/||c||=0.000000, rel. gap=0.000000, alpha=0.980100\n",
      "Iteration 122, ||r_p||/||b||=0.000000, ||r_d||/||c||=0.000000, rel. gap=0.000000, alpha=0.980100\n",
      "Iteration 123, ||r_p||/||b||=0.000000, ||r_d||/||c||=0.000000, rel. gap=0.000000, alpha=0.980100\n",
      "Iteration 124, ||r_p||/||b||=0.000000, ||r_d||/||c||=0.000000, rel. gap=0.000000, alpha=0.980100\n",
      "Iteration 125, ||r_p||/||b||=0.000000, ||r_d||/||c||=0.000000, rel. gap=0.000000, alpha=0.980100\n",
      "Iteration 126, ||r_p||/||b||=0.000000, ||r_d||/||c||=0.000000, rel. gap=0.000000, alpha=0.980100\n",
      "Iteration 127, ||r_p||/||b||=0.000000, ||r_d||/||c||=0.000000, rel. gap=0.000000, alpha=0.980100\n",
      "Iteration 128, ||r_p||/||b||=0.000000, ||r_d||/||c||=0.000000, rel. gap=0.000000, alpha=0.980100\n",
      "Iteration 129, ||r_p||/||b||=0.000000, ||r_d||/||c||=0.000000, rel. gap=0.000000, alpha=0.980100\n",
      "Iteration 130, ||r_p||/||b||=0.000000, ||r_d||/||c||=0.000000, rel. gap=0.000000, alpha=0.980100\n",
      "Iteration 131, ||r_p||/||b||=0.000000, ||r_d||/||c||=0.000000, rel. gap=0.000000, alpha=0.980100\n",
      "Iteration 132, ||r_p||/||b||=0.000000, ||r_d||/||c||=0.000000, rel. gap=0.000000, alpha=0.980100\n",
      "Iteration 133, ||r_p||/||b||=0.000000, ||r_d||/||c||=0.000000, rel. gap=0.000000, alpha=0.980100\n",
      "Iteration 134, ||r_p||/||b||=0.000000, ||r_d||/||c||=0.000000, rel. gap=0.000000, alpha=0.980100\n",
      "Iteration 135, ||r_p||/||b||=0.000000, ||r_d||/||c||=0.000000, rel. gap=0.000000, alpha=0.980100\n",
      "Iteration 136, ||r_p||/||b||=0.000000, ||r_d||/||c||=0.000000, rel. gap=0.000000, alpha=0.980100\n",
      "Iteration 137, ||r_p||/||b||=0.000000, ||r_d||/||c||=0.000000, rel. gap=0.000000, alpha=0.980100\n",
      "Iteration 138, ||r_p||/||b||=0.000000, ||r_d||/||c||=0.000000, rel. gap=0.000000, alpha=0.980100\n",
      "Iteration 139, ||r_p||/||b||=0.000000, ||r_d||/||c||=0.000000, rel. gap=0.000000, alpha=0.980100\n",
      "Iteration 140, ||r_p||/||b||=0.000000, ||r_d||/||c||=0.000000, rel. gap=0.000000, alpha=0.980100\n",
      "Iteration 141, ||r_p||/||b||=0.000000, ||r_d||/||c||=0.000000, rel. gap=0.000000, alpha=0.980100\n",
      "Iteration 142, ||r_p||/||b||=0.000000, ||r_d||/||c||=0.000000, rel. gap=0.000000, alpha=0.980100\n",
      "Iteration 143, ||r_p||/||b||=0.000000, ||r_d||/||c||=0.000000, rel. gap=0.000000, alpha=0.980100\n",
      "Iteration 144, ||r_p||/||b||=0.000000, ||r_d||/||c||=0.000000, rel. gap=0.000000, alpha=0.980100\n",
      "Iteration 145, ||r_p||/||b||=0.000000, ||r_d||/||c||=0.000000, rel. gap=0.000000, alpha=0.980100\n",
      "Iteration 146, ||r_p||/||b||=0.000000, ||r_d||/||c||=0.000000, rel. gap=0.000000, alpha=0.980100\n",
      "Iteration 147, ||r_p||/||b||=0.000000, ||r_d||/||c||=0.000000, rel. gap=0.000000, alpha=0.980100\n",
      "Iteration 148, ||r_p||/||b||=0.000000, ||r_d||/||c||=0.000000, rel. gap=0.000000, alpha=0.980100\n",
      "Iteration 149, ||r_p||/||b||=0.000000, ||r_d||/||c||=0.000000, rel. gap=0.000000, alpha=0.980100\n",
      "Iteration 150, ||r_p||/||b||=0.000000, ||r_d||/||c||=0.000000, rel. gap=0.000000, alpha=0.980100\n",
      "Iteration 151, ||r_p||/||b||=0.000000, ||r_d||/||c||=0.000000, rel. gap=0.000000, alpha=0.980100\n",
      "Iteration 152, ||r_p||/||b||=0.000000, ||r_d||/||c||=0.000000, rel. gap=0.000000, alpha=0.980100\n",
      "Iteration 153, ||r_p||/||b||=0.000000, ||r_d||/||c||=0.000000, rel. gap=0.000000, alpha=0.980100\n",
      "Iteration 154, ||r_p||/||b||=0.000000, ||r_d||/||c||=0.000000, rel. gap=0.000000, alpha=0.980100\n",
      "Iteration 155, ||r_p||/||b||=0.000000, ||r_d||/||c||=0.000000, rel. gap=0.000000, alpha=0.980100\n",
      "Iteration 156, ||r_p||/||b||=0.000000, ||r_d||/||c||=0.000000, rel. gap=0.000000, alpha=0.980100\n",
      "Iteration 157, ||r_p||/||b||=0.000000, ||r_d||/||c||=0.000000, rel. gap=0.000000, alpha=0.980100\n",
      "Iteration 158, ||r_p||/||b||=0.000000, ||r_d||/||c||=0.000000, rel. gap=0.000000, alpha=0.980100\n",
      "Iteration 159, ||r_p||/||b||=0.000000, ||r_d||/||c||=0.000000, rel. gap=0.000000, alpha=0.980100\n",
      "Iteration 160, ||r_p||/||b||=0.000000, ||r_d||/||c||=0.000000, rel. gap=0.000000, alpha=0.980100\n",
      "Iteration 161, ||r_p||/||b||=0.000000, ||r_d||/||c||=0.000000, rel. gap=0.000000, alpha=0.980100\n",
      "Iteration 162, ||r_p||/||b||=0.000000, ||r_d||/||c||=0.000000, rel. gap=0.000000, alpha=0.980100\n",
      "Iteration 163, ||r_p||/||b||=0.000000, ||r_d||/||c||=0.000000, rel. gap=0.000000, alpha=0.980100\n",
      "Iteration 164, ||r_p||/||b||=0.000000, ||r_d||/||c||=0.000000, rel. gap=0.000000, alpha=0.980100\n",
      "Iteration 165, ||r_p||/||b||=0.000000, ||r_d||/||c||=0.000000, rel. gap=0.000000, alpha=0.980100\n",
      "Iteration 166, ||r_p||/||b||=0.000000, ||r_d||/||c||=0.000000, rel. gap=0.000000, alpha=0.980100\n",
      "Iteration 167, ||r_p||/||b||=0.000000, ||r_d||/||c||=0.000000, rel. gap=0.000000, alpha=0.980100\n",
      "Iteration 168, ||r_p||/||b||=0.000000, ||r_d||/||c||=0.000000, rel. gap=0.000000, alpha=0.980100\n",
      "Iteration 169, ||r_p||/||b||=0.000000, ||r_d||/||c||=0.000000, rel. gap=0.000000, alpha=0.980100\n",
      "Iteration 170, ||r_p||/||b||=0.000000, ||r_d||/||c||=0.000000, rel. gap=0.000000, alpha=0.980100\n",
      "Iteration 171, ||r_p||/||b||=0.000000, ||r_d||/||c||=0.000000, rel. gap=0.000000, alpha=0.980100\n",
      "Iteration 172, ||r_p||/||b||=0.000000, ||r_d||/||c||=0.000000, rel. gap=0.000000, alpha=0.980100\n",
      "Iteration 173, ||r_p||/||b||=0.000000, ||r_d||/||c||=0.000000, rel. gap=0.000000, alpha=0.980100\n"
     ]
    },
    {
     "ename": "LoadError",
     "evalue": "Base.LinAlg.PosDefException(254)",
     "output_type": "error",
     "traceback": [
      "Base.LinAlg.PosDefException(254)",
      "",
      " in #cholfact!#6(::Float64, ::Function, ::Base.SparseArrays.CHOLMOD.Factor{Float64}, ::Base.SparseArrays.CHOLMOD.Sparse{Float64}) at ./sparse/cholmod.jl:1280",
      " in (::Base.LinAlg.#kw##cholfact!)(::Array{Any,1}, ::Base.LinAlg.#cholfact!, ::Base.SparseArrays.CHOLMOD.Factor{Float64}, ::Base.SparseArrays.CHOLMOD.Sparse{Float64}) at ./<missing>:0",
      " in #cholfact#8(::Float64, ::Array{Int64,1}, ::Function, ::Base.SparseArrays.CHOLMOD.Sparse{Float64}) at ./sparse/cholmod.jl:1316",
      " in #cholfact#9(::Array{Any,1}, ::Function, ::SparseMatrixCSC{Float64,Int64}) at ./sparse/cholmod.jl:1355",
      " in #wrapInterface#77(::Int64, ::Float64, ::Float64, ::Bool, ::Array{Int64,1}, ::Array{Any,1}, ::Function, ::Base.LinAlg.#cholfact, ::SparseMatrixCSC{Float64,Int64}) at /Users/kimonfountoulakis/.julia/v0.5/Laplacians/src/solverInterface.jl:36",
      " in (::Laplacians.#kw##wrapInterface)(::Array{Any,1}, ::Laplacians.#wrapInterface, ::Function, ::SparseMatrixCSC{Float64,Int64}) at ./<missing>:0",
      " in (::Laplacians.###82#83#85{Base.LinAlg.#cholfact})(::Float64, ::Float64, ::Float64, ::Bool, ::Array{Int64,1}, ::Array{Any,1}, ::Function, ::SparseMatrixCSC{Float64,Int64}) at /Users/kimonfountoulakis/.julia/v0.5/Laplacians/src/solverInterface.jl:64",
      " in (::Laplacians.#kw###82#84)(::Array{Any,1}, ::Laplacians.##82#84, ::SparseMatrixCSC{Float64,Int64}) at ./<missing>:0",
      " in #lapWrapConnected#86(::Float64, ::Float64, ::Float64, ::Bool, ::Array{Int64,1}, ::Array{Any,1}, ::Function, ::Function, ::SparseMatrixCSC{Float64,Int64}) at /Users/kimonfountoulakis/.julia/v0.5/Laplacians/src/solverInterface.jl:113",
      " in (::Laplacians.#kw##lapWrapConnected)(::Array{Any,1}, ::Laplacians.#lapWrapConnected, ::Function, ::SparseMatrixCSC{Float64,Int64}) at ./<missing>:0",
      " in (::Laplacians.##f#91#93{Laplacians.##82#84})(::Float64, ::Float64, ::Float64, ::Bool, ::Array{Int64,1}, ::Array{Any,1}, ::Function, ::SparseMatrixCSC{Float64,Int64}) at /Users/kimonfountoulakis/.julia/v0.5/Laplacians/src/solverInterface.jl:137",
      " in (::Laplacians.#kw##f#92)(::Array{Any,1}, ::Laplacians.#f#92, ::SparseMatrixCSC{Float64,Int64}) at ./<missing>:0",
      " in #lapWrapComponents#99(::Float64, ::Float64, ::Float64, ::Bool, ::Array{Int64,1}, ::Array{Any,1}, ::Function, ::Function, ::SparseMatrixCSC{Float64,Int64}) at /Users/kimonfountoulakis/.julia/v0.5/Laplacians/src/solverInterface.jl:194",
      " in (::Laplacians.#kw##lapWrapComponents)(::Array{Any,1}, ::Laplacians.#lapWrapComponents, ::Function, ::SparseMatrixCSC{Float64,Int64}) at ./<missing>:0",
      " in (::Laplacians.##f#102#104{Laplacians.#f#92})(::Float64, ::Float64, ::Float64, ::Bool, ::Array{Int64,1}, ::Array{Any,1}, ::Function, ::SparseMatrixCSC{Float64,Int64}) at /Users/kimonfountoulakis/.julia/v0.5/Laplacians/src/solverInterface.jl:237",
      " in #min_cost_flow#226(::Laplacians.#f#103, ::Float64, ::Function, ::SparseMatrixCSC{Float64,Int64}, ::Array{Float64,1}, ::Array{Float64,1}, ::Array{Float64,1}) at /Users/kimonfountoulakis/Desktop/Box Sync/University/Berkeley/postdoc/myPapers/Laplacians.jl/src/min_cost_flow.jl:106",
      " in (::#kw##min_cost_flow)(::Array{Any,1}, ::#min_cost_flow, ::SparseMatrixCSC{Float64,Int64}, ::Array{Float64,1}, ::Array{Float64,1}, ::Array{Float64,1}) at ./<missing>:0",
      " in #min_cost_flow#225(::Function, ::Float64, ::Function, ::MCFproblem{Float64,Int64}) at /Users/kimonfountoulakis/Desktop/Box Sync/University/Berkeley/postdoc/myPapers/Laplacians.jl/src/min_cost_flow.jl:24",
      " in (::#kw##min_cost_flow)(::Array{Any,1}, ::#min_cost_flow, ::MCFproblem{Float64,Int64}) at ./<missing>:0"
     ]
    }
   ],
   "source": [
    "#@time sol = min_cost_flow(mcfp, lapSolver = (h->augTreeLap(h, verbose=false)), tol=1e-9)\n",
    "@time sol = min_cost_flow(mcfp, lapSolver = cholLap, tol = 1.0e-12)\n",
    "flow = sol[1]\n",
    "reportMCFresults(mcfp,flow)"
   ]
  },
  {
   "cell_type": "code",
   "execution_count": 231,
   "metadata": {
    "collapsed": false,
    "deletable": true,
    "editable": true
   },
   "outputs": [
    {
     "name": "stdout",
     "output_type": "stream",
     "text": [
      "Iteration 1, ||r_p||/||b||=1.049937, ||r_d||/||c||=57.144463, rel. gap=0.136245, alpha=1.000000\n",
      "Iteration 2, ||r_p||/||b||=1.049262, ||r_d||/||c||=57.107740, rel. gap=0.136204, alpha=0.000330\n",
      "Iteration 3, ||r_p||/||b||=1.047827, ||r_d||/||c||=57.029612, rel. gap=0.136118, alpha=0.000704\n",
      "Iteration 4, ||r_p||/||b||=1.043102, ||r_d||/||c||=56.772448, rel. gap=0.135837, alpha=0.002324\n",
      "Iteration 5, ||r_p||/||b||=1.028991, ||r_d||/||c||=56.004454, rel. gap=0.135013, alpha=0.007006\n",
      "Iteration 6, ||r_p||/||b||=0.983571, ||r_d||/||c||=53.532379, rel. gap=0.132325, alpha=0.023166\n",
      "Iteration 7, ||r_p||/||b||=0.829276, ||r_d||/||c||=45.134631, rel. gap=0.121805, alpha=0.084741\n",
      "Iteration 8, ||r_p||/||b||=0.487998, ||r_d||/||c||=26.560056, rel. gap=0.087455, alpha=0.240112\n",
      "Iteration 9, ||r_p||/||b||=0.222508, ||r_d||/||c||=12.110338, rel. gap=0.047165, alpha=0.358938\n",
      "Iteration 10, ||r_p||/||b||=0.080002, ||r_d||/||c||=4.354243, rel. gap=0.019614, alpha=0.450106\n",
      "Iteration 11, ||r_p||/||b||=0.011454, ||r_d||/||c||=0.623392, rel. gap=0.003210, alpha=0.686526\n",
      "Iteration 12, ||r_p||/||b||=0.002038, ||r_d||/||c||=0.110910, rel. gap=0.000624, alpha=0.690272\n",
      "Iteration 13, ||r_p||/||b||=0.001290, ||r_d||/||c||=0.070201, rel. gap=0.000493, alpha=0.212622\n",
      "Iteration 14, ||r_p||/||b||=0.000835, ||r_d||/||c||=0.045432, rel. gap=0.000428, alpha=0.195379\n",
      "Iteration 15, ||r_p||/||b||=0.000486, ||r_d||/||c||=0.026428, rel. gap=0.000339, alpha=0.250137\n",
      "Iteration 16, ||r_p||/||b||=0.000268, ||r_d||/||c||=0.014581, rel. gap=0.000258, alpha=0.269612\n",
      "Iteration 17, ||r_p||/||b||=0.000146, ||r_d||/||c||=0.007968, rel. gap=0.000191, alpha=0.274189\n",
      "Iteration 18, ||r_p||/||b||=0.000083, ||r_d||/||c||=0.004534, rel. gap=0.000139, alpha=0.260516\n",
      "Iteration 19, ||r_p||/||b||=0.000039, ||r_d||/||c||=0.002108, rel. gap=0.000085, alpha=0.330168\n",
      "Iteration 20, ||r_p||/||b||=0.000023, ||r_d||/||c||=0.001270, rel. gap=0.000064, alpha=0.218215\n",
      "Iteration 21, ||r_p||/||b||=0.000015, ||r_d||/||c||=0.000812, rel. gap=0.000047, alpha=0.210458\n",
      "Iteration 22, ||r_p||/||b||=0.000010, ||r_d||/||c||=0.000536, rel. gap=0.000035, alpha=0.198658\n",
      "Iteration 23, ||r_p||/||b||=0.000006, ||r_d||/||c||=0.000309, rel. gap=0.000024, alpha=0.254069\n",
      "Iteration 24, ||r_p||/||b||=0.000003, ||r_d||/||c||=0.000159, rel. gap=0.000014, alpha=0.294303\n",
      "Iteration 25, ||r_p||/||b||=0.000001, ||r_d||/||c||=0.000078, rel. gap=0.000008, alpha=0.302238\n",
      "Iteration 26, ||r_p||/||b||=0.000001, ||r_d||/||c||=0.000059, rel. gap=0.000007, alpha=0.127408\n",
      "Iteration 27, ||r_p||/||b||=0.000000, ||r_d||/||c||=0.000023, rel. gap=0.000005, alpha=0.311091\n",
      "Iteration 28, ||r_p||/||b||=0.000000, ||r_d||/||c||=0.000012, rel. gap=0.000003, alpha=0.295392\n",
      "Iteration 29, ||r_p||/||b||=0.000000, ||r_d||/||c||=0.000005, rel. gap=0.000001, alpha=0.368975\n",
      "Iteration 30, ||r_p||/||b||=0.000000, ||r_d||/||c||=0.000002, rel. gap=0.000001, alpha=0.414084\n",
      "Iteration 31, ||r_p||/||b||=0.000000, ||r_d||/||c||=0.000001, rel. gap=0.000000, alpha=0.404152\n",
      "Iteration 32, ||r_p||/||b||=0.000000, ||r_d||/||c||=0.000000, rel. gap=0.000000, alpha=0.295202\n",
      "Iteration 33, ||r_p||/||b||=0.000000, ||r_d||/||c||=0.000000, rel. gap=0.000000, alpha=0.581430\n",
      "Iteration 34, ||r_p||/||b||=0.000000, ||r_d||/||c||=0.000000, rel. gap=0.000000, alpha=0.437480\n",
      "Iteration 35, ||r_p||/||b||=0.000000, ||r_d||/||c||=0.000000, rel. gap=0.000000, alpha=0.553397\n",
      "Iteration 36, ||r_p||/||b||=0.000000, ||r_d||/||c||=0.000000, rel. gap=0.000000, alpha=0.691295\n",
      "Iteration 37, ||r_p||/||b||=0.000000, ||r_d||/||c||=0.000000, rel. gap=0.000000, alpha=0.955112\n",
      "Termination tolerance reached.\n",
      "  0.669706 seconds (814.83 k allocations: 231.761 MB, 6.47% gc time)\n",
      "Cost: 5.608705448048568e8\n",
      "Min flow: 1.6332644794673518e-7\n",
      "Min slack: 1.728879794882232e-7\n",
      "Error on demands: 2.108253306807747e-8\n"
     ]
    }
   ],
   "source": [
    "@time sol = min_cost_flow(mcfp, lapSolver = (h->augTreeLap(h, tol=1e-12)), tol=1e-11)\n",
    "flow = sol[1]\n",
    "reportMCFresults(mcfp,flow)"
   ]
  },
  {
   "cell_type": "markdown",
   "metadata": {
    "deletable": true,
    "editable": true
   },
   "source": [
    "As a sanity check, we compare the results from MCFjump."
   ]
  },
  {
   "cell_type": "code",
   "execution_count": 148,
   "metadata": {
    "collapsed": false,
    "deletable": true,
    "editable": true
   },
   "outputs": [
    {
     "name": "stdout",
     "output_type": "stream",
     "text": [
      "  0.013704 seconds (102 allocations: 671.797 KB)\n"
     ]
    },
    {
     "data": {
      "text/plain": [
       "1-element Array{Float64,1}:\n",
       " 5.60871e8"
      ]
     },
     "execution_count": 148,
     "metadata": {},
     "output_type": "execute_result"
    }
   ],
   "source": [
    "f = MCFjump(mcfp)\n",
    "mcfp.costs'*f"
   ]
  },
  {
   "cell_type": "markdown",
   "metadata": {
    "deletable": true,
    "editable": true
   },
   "source": [
    "This is very similar.  But, JuMP computed a flow of a slightly lower cost.\n",
    "This should not be surprising, because we haven't figured out exactly what tol we want.\n",
    "It might help to know that all the numbers in the Dimacs problems are integers."
   ]
  },
  {
   "cell_type": "code",
   "execution_count": 149,
   "metadata": {
    "collapsed": false,
    "deletable": true,
    "editable": true
   },
   "outputs": [
    {
     "data": {
      "text/plain": [
       "1-element Array{Float64,1}:\n",
       " -0.867158"
      ]
     },
     "execution_count": 149,
     "metadata": {},
     "output_type": "execute_result"
    }
   ],
   "source": [
    "mcfp.costs'*f - mcfp.costs'*flow"
   ]
  },
  {
   "cell_type": "markdown",
   "metadata": {
    "deletable": true,
    "editable": true
   },
   "source": [
    "For comparison, we should also try the code from \"Lemon\", available at\n",
    "\n",
    "<a href=\"http://lemon.cs.elte.hu/trac/lemon\">http://lemon.cs.elte.hu/trac/lemon</a>\n",
    "\n",
    "It was easy to install on my Mac (I just needed cmake, which I got by `brew install cmake`)"
   ]
  },
  {
   "cell_type": "markdown",
   "metadata": {
    "deletable": true,
    "editable": true
   },
   "source": [
    "Here is a transcript of running it:\n",
    "\n",
    "```\n",
    "Dans17:tools spielman$ ./dimacs-solver ~/tmp/goto_8_08a.min \n",
    "Problem type: min\n",
    "Num of nodes: 256\n",
    "Num of arcs:  2048\n",
    "\n",
    "Sum of supply values: 0\n",
    "GEQ supply contraints are used for NetworkSimplex\n",
    "\n",
    "Read the file: u: 0s, s: 0s, cu: 0s, cs: 0s, real: 0.00467205s\n",
    "Setup NetworkSimplex class: u: 0s, s: 0s, cu: 0s, cs: 0s, real: 7.70092e-05s\n",
    "Run NetworkSimplex: u: 0s, s: 0s, cu: 0s, cs: 0s, real: 0.00143886s\n",
    "\n",
    "Feasible flow: found\n",
    "Min flow cost: 560870539\n",
    "```"
   ]
  },
  {
   "cell_type": "markdown",
   "metadata": {
    "deletable": true,
    "editable": true
   },
   "source": [
    "## More Tests"
   ]
  },
  {
   "cell_type": "markdown",
   "metadata": {
    "deletable": true,
    "editable": true
   },
   "source": [
    "Let's just do more tests on the GOTO problems, just to get a feel for the speeds involved.  Keep in mind that different problems will have very different run times, and that our code can be sped up a lot.\n",
    "\n",
    "The Laplacian systems generated by the IPMs can have edge weights varying by 12 orders of magnitude!  This causes some of the solvers to run into numerical issues.  This is interesting to me, as it points out a place where our solvers need more development."
   ]
  },
  {
   "cell_type": "code",
   "execution_count": 150,
   "metadata": {
    "collapsed": false,
    "deletable": true,
    "editable": true
   },
   "outputs": [
    {
     "ename": "LoadError",
     "evalue": "SystemError: opening file /Users/spielman/tmp/goto_8_13a.min: No such file or directory",
     "output_type": "error",
     "traceback": [
      "SystemError: opening file /Users/spielman/tmp/goto_8_13a.min: No such file or directory",
      "",
      " in #systemerror#51 at ./error.jl:34 [inlined]",
      " in systemerror(::String, ::Bool) at ./error.jl:34",
      " in open(::String, ::Bool, ::Bool, ::Bool, ::Bool, ::Bool) at ./iostream.jl:89",
      " in readDimacsMCF(::String) at /Users/kimonfountoulakis/Desktop/Box Sync/University/Berkeley/postdoc/myPapers/Laplacians.jl/src/flowUtils.jl:45"
     ]
    }
   ],
   "source": [
    "mcfp = readDimacsMCF(\"/Users/spielman/tmp/goto_8_13a.min\")"
   ]
  },
  {
   "cell_type": "code",
   "execution_count": 151,
   "metadata": {
    "collapsed": false,
    "deletable": true,
    "editable": true
   },
   "outputs": [
    {
     "name": "stdout",
     "output_type": "stream",
     "text": [
      "  0.012271 seconds (102 allocations: 671.797 KB)\n",
      "Cost: 5.60870539e8\n",
      "Min flow: -0.0\n",
      "Min slack: 0.0\n",
      "Error on demands: 0.0\n"
     ]
    }
   ],
   "source": [
    "flow = MCFjump(mcfp)\n",
    "reportMCFresults(mcfp, flow)"
   ]
  },
  {
   "cell_type": "code",
   "execution_count": 152,
   "metadata": {
    "collapsed": false,
    "deletable": true,
    "editable": true
   },
   "outputs": [
    {
     "name": "stdout",
     "output_type": "stream",
     "text": [
      "Iteration 1, ||r_p||/||b||=1.049937, ||r_d||/||c||=57.144463, rel. gap=0.272490, alpha=1.000000\n",
      "Iteration 2, ||r_p||/||b||=1.049599, ||r_d||/||c||=57.126093, rel. gap=0.272484, alpha=0.000165\n",
      "Iteration 3, ||r_p||/||b||=1.048881, ||r_d||/||c||=57.087018, rel. gap=0.272473, alpha=0.000352\n",
      "Iteration 4, ||r_p||/||b||=1.046517, ||r_d||/||c||=56.958343, rel. gap=0.272436, alpha=0.001161\n",
      "Iteration 5, ||r_p||/||b||=1.039452, ||r_d||/||c||=56.573799, rel. gap=0.272338, alpha=0.003497\n",
      "Iteration 6, ||r_p||/||b||=1.016657, ||r_d||/||c||=55.333139, rel. gap=0.271961, alpha=0.011509\n",
      "Iteration 7, ||r_p||/||b||=0.939708, ||r_d||/||c||=51.145108, rel. gap=0.269187, alpha=0.040778\n",
      "Iteration 8, ||r_p||/||b||=0.666896, ||r_d||/||c||=36.296887, rel. gap=0.245563, alpha=0.163022\n",
      "Iteration 9, ||r_p||/||b||=0.308550, ||r_d||/||c||=16.793330, rel. gap=0.157778, alpha=0.338202\n",
      "Iteration 10, ||r_p||/||b||=0.128807, ||r_d||/||c||=7.010497, rel. gap=0.084705, alpha=0.393424\n",
      "Iteration 11, ||r_p||/||b||=0.019362, ||r_d||/||c||=1.053815, rel. gap=0.015588, alpha=0.681491\n",
      "Iteration 12, ||r_p||/||b||=0.001811, ||r_d||/||c||=0.098549, rel. gap=0.001810, alpha=0.750647\n",
      "Iteration 13, ||r_p||/||b||=0.000917, ||r_d||/||c||=0.049893, rel. gap=0.001288, alpha=0.310567\n",
      "Iteration 14, ||r_p||/||b||=0.000523, ||r_d||/||c||=0.028462, rel. gap=0.001225, alpha=0.240027\n",
      "Iteration 15, ||r_p||/||b||=0.000233, ||r_d||/||c||=0.012669, rel. gap=0.000874, alpha=0.349769\n",
      "Iteration 16, ||r_p||/||b||=0.000073, ||r_d||/||c||=0.003960, rel. gap=0.000548, alpha=0.433660\n",
      "Iteration 17, ||r_p||/||b||=0.000027, ||r_d||/||c||=0.001474, rel. gap=0.000336, alpha=0.402718\n",
      "Iteration 18, ||r_p||/||b||=0.000014, ||r_d||/||c||=0.000768, rel. gap=0.000241, alpha=0.295509\n",
      "Iteration 19, ||r_p||/||b||=0.000006, ||r_d||/||c||=0.000326, rel. gap=0.000142, alpha=0.371645\n",
      "Iteration 20, ||r_p||/||b||=0.000002, ||r_d||/||c||=0.000117, rel. gap=0.000077, alpha=0.406001\n",
      "Iteration 21, ||r_p||/||b||=0.000001, ||r_d||/||c||=0.000039, rel. gap=0.000041, alpha=0.414745\n",
      "Iteration 22, ||r_p||/||b||=0.000000, ||r_d||/||c||=0.000014, rel. gap=0.000029, alpha=0.361990\n",
      "Iteration 23, ||r_p||/||b||=0.000000, ||r_d||/||c||=0.000005, rel. gap=0.000015, alpha=0.420116\n",
      "Iteration 24, ||r_p||/||b||=0.000000, ||r_d||/||c||=0.000001, rel. gap=0.000013, alpha=0.662098\n",
      "Iteration 25, ||r_p||/||b||=0.000000, ||r_d||/||c||=0.000001, rel. gap=0.000007, alpha=0.358303\n",
      "Termination tolerance reached.\n",
      "  0.081368 seconds (38.02 k allocations: 79.905 MB, 11.87% gc time)\n",
      "Cost: 5.64398676886404e8\n",
      "Min flow: 0.091572646158111\n",
      "Min slack: 0.10284618479219887\n",
      "Error on demands: 0.009607099540524425\n"
     ]
    }
   ],
   "source": [
    "@time sol = min_cost_flow(mcfp, lapSolver = cholLap, tol = 1e-5)\n",
    "flow = sol[1]\n",
    "reportMCFresults(mcfp,flow)"
   ]
  },
  {
   "cell_type": "code",
   "execution_count": 153,
   "metadata": {
    "collapsed": false,
    "deletable": true,
    "editable": true
   },
   "outputs": [
    {
     "name": "stdout",
     "output_type": "stream",
     "text": [
      "Iteration 1, ||r_p||/||b||=1.049937, ||r_d||/||c||=57.144463, rel. gap=0.272490, alpha=1.000000\n",
      "Solver build time: 0.008 seconds.\n",
      "PCG BLAS stopped after: 0.001 seconds and 32 iterations with relative error 7.85291442530764e-9.\n",
      "PCG BLAS stopped after: 0.001 seconds and 32 iterations with relative error 6.17655696172033e-9.\n",
      "Iteration 2, ||r_p||/||b||=1.049599, ||r_d||/||c||=57.126093, rel. gap=0.272484, alpha=0.000165\n",
      "Solver build time: 0.002 seconds.\n",
      "PCG BLAS stopped after: 0.001 seconds and 34 iterations with relative error 8.410680463621335e-9.\n",
      "PCG BLAS stopped after: 0.001 seconds and 34 iterations with relative error 7.3928323797411796e-9.\n",
      "Iteration 3, ||r_p||/||b||=1.048881, ||r_d||/||c||=57.087018, rel. gap=0.272473, alpha=0.000352\n",
      "Solver build time: 0.002 seconds.\n",
      "PCG BLAS stopped after: 0.006 seconds and 32 iterations with relative error 5.21412667573984e-9.\n",
      "PCG BLAS stopped after: 0.001 seconds and 32 iterations with relative error 4.943237553921054e-9.\n",
      "Iteration 4, ||r_p||/||b||=1.046517, ||r_d||/||c||=56.958343, rel. gap=0.272436, alpha=0.001161\n",
      "Solver build time: 0.002 seconds.\n",
      "PCG BLAS stopped after: 0.001 seconds and 32 iterations with relative error 6.515686287498397e-9.\n",
      "PCG BLAS stopped after: 0.002 seconds and 32 iterations with relative error 6.395666508740664e-9.\n",
      "Iteration 5, ||r_p||/||b||=1.039452, ||r_d||/||c||=56.573799, rel. gap=0.272338, alpha=0.003497\n",
      "Solver build time: 0.002 seconds.\n",
      "PCG BLAS stopped after: 0.001 seconds and 22 iterations with relative error 3.209445560233493e-9.\n",
      "PCG BLAS stopped after: 0.001 seconds and 22 iterations with relative error 3.3715694536243903e-9.\n",
      "Iteration 6, ||r_p||/||b||=1.016657, ||r_d||/||c||=55.333139, rel. gap=0.271961, alpha=0.011509\n",
      "Solver build time: 0.002 seconds.\n",
      "PCG BLAS stopped after: 0.001 seconds and 30 iterations with relative error 9.088500940208448e-9.\n",
      "PCG BLAS stopped after: 0.007 seconds and 30 iterations with relative error 9.395211690187737e-9.\n",
      "Iteration 7, ||r_p||/||b||=0.939708, ||r_d||/||c||=51.145108, rel. gap=0.269187, alpha=0.040778\n",
      "Solver build time: 0.003 seconds.\n",
      "PCG BLAS stopped after: 0.002 seconds and 29 iterations with relative error 8.069763318343452e-9.\n",
      "PCG BLAS stopped after: 0.002 seconds and 29 iterations with relative error 5.142269816428427e-9.\n",
      "Iteration 8, ||r_p||/||b||=0.666896, ||r_d||/||c||=36.296887, rel. gap=0.245563, alpha=0.163022\n",
      "Solver build time: 0.003 seconds.\n",
      "PCG BLAS stopped after: 0.001 seconds and 24 iterations with relative error 5.85713871800255e-9.\n",
      "PCG BLAS stopped after: 0.001 seconds and 24 iterations with relative error 4.968368546473909e-9.\n",
      "Iteration 9, ||r_p||/||b||=0.308550, ||r_d||/||c||=16.793330, rel. gap=0.157778, alpha=0.338202\n",
      "Solver build time: 0.004 seconds.\n",
      "PCG BLAS stopped after: 0.001 seconds and 15 iterations with relative error 7.537389129630751e-9.\n",
      "PCG BLAS stopped after: 0.001 seconds and 15 iterations with relative error 6.79857899696238e-9.\n",
      "Iteration 10, ||r_p||/||b||=0.128807, ||r_d||/||c||=7.010497, rel. gap=0.084705, alpha=0.393424\n",
      "Solver build time: 0.009 seconds.\n",
      "PCG BLAS stopped after: 0.001 seconds and 14 iterations with relative error 3.4628972685278705e-9.\n",
      "PCG BLAS stopped after: 0.001 seconds and 14 iterations with relative error 4.1369754236160144e-9.\n",
      "Iteration 11, ||r_p||/||b||=0.019362, ||r_d||/||c||=1.053815, rel. gap=0.015588, alpha=0.681491\n",
      "Solver build time: 0.003 seconds.\n",
      "PCG BLAS stopped after: 0.001 seconds and 11 iterations with relative error 5.64558214970884e-9.\n",
      "PCG BLAS stopped after: 0.001 seconds and 11 iterations with relative error 5.8610365003829395e-9.\n",
      "Iteration 12, ||r_p||/||b||=0.001811, ||r_d||/||c||=0.098549, rel. gap=0.001810, alpha=0.750647\n",
      "Solver build time: 0.009 seconds.\n",
      "PCG BLAS stopped after: 0.001 seconds and 11 iterations with relative error 4.453275635090201e-9.\n",
      "PCG BLAS stopped after: 0.001 seconds and 11 iterations with relative error 5.93654498511528e-9.\n",
      "Iteration 13, ||r_p||/||b||=0.000917, ||r_d||/||c||=0.049893, rel. gap=0.001288, alpha=0.310567\n",
      "Solver build time: 0.003 seconds.\n",
      "PCG BLAS stopped after: 0.001 seconds and 12 iterations with relative error 9.631390082754636e-9.\n",
      "PCG BLAS stopped after: 0.001 seconds and 12 iterations with relative error 9.632267586104377e-9.\n",
      "Iteration 14, ||r_p||/||b||=0.000523, ||r_d||/||c||=0.028462, rel. gap=0.001225, alpha=0.240027\n",
      "Solver build time: 0.003 seconds.\n",
      "PCG BLAS stopped after: 0.001 seconds and 12 iterations with relative error 5.30951083613261e-9.\n",
      "PCG BLAS stopped after: 0.001 seconds and 12 iterations with relative error 5.430948551027148e-9.\n",
      "Iteration 15, ||r_p||/||b||=0.000233, ||r_d||/||c||=0.012669, rel. gap=0.000874, alpha=0.349769\n",
      "Solver build time: 0.002 seconds.\n",
      "PCG BLAS stopped after: 0.001 seconds and 15 iterations with relative error 7.517665367698047e-9.\n",
      "PCG BLAS stopped after: 0.001 seconds and 15 iterations with relative error 8.26668687104408e-9.\n",
      "Iteration 16, ||r_p||/||b||=0.000073, ||r_d||/||c||=0.003960, rel. gap=0.000548, alpha=0.433660\n",
      "Solver build time: 0.003 seconds.\n",
      "PCG BLAS stopped after: 0.001 seconds and 12 iterations with relative error 2.0869555600603123e-9.\n",
      "PCG BLAS stopped after: 0.001 seconds and 12 iterations with relative error 3.3553642940823578e-9.\n",
      "Iteration 17, ||r_p||/||b||=0.000027, ||r_d||/||c||=0.001474, rel. gap=0.000336, alpha=0.402718\n",
      "Solver build time: 0.003 seconds.\n",
      "PCG BLAS stopped after: 0.001 seconds and 12 iterations with relative error 3.6814589806998157e-9.\n",
      "PCG BLAS stopped after: 0.001 seconds and 12 iterations with relative error 3.5449771890024425e-9.\n",
      "Iteration 18, ||r_p||/||b||=0.000014, ||r_d||/||c||=0.000768, rel. gap=0.000241, alpha=0.295509\n",
      "Solver build time: 0.003 seconds.\n",
      "PCG BLAS stopped after: 0.001 seconds and 16 iterations with relative error 2.641075920993968e-9.\n",
      "PCG BLAS stopped after: 0.001 seconds and 16 iterations with relative error 2.594765769446609e-9.\n",
      "Iteration 19, ||r_p||/||b||=0.000006, ||r_d||/||c||=0.000326, rel. gap=0.000142, alpha=0.371645\n",
      "Solver build time: 0.003 seconds.\n",
      "PCG BLAS stopped after: 0.001 seconds and 11 iterations with relative error 6.507266687493475e-9.\n",
      "PCG BLAS stopped after: 0.001 seconds and 11 iterations with relative error 4.4427384925715176e-9.\n",
      "Iteration 20, ||r_p||/||b||=0.000002, ||r_d||/||c||=0.000117, rel. gap=0.000077, alpha=0.406001\n",
      "Solver build time: 0.004 seconds.\n",
      "PCG BLAS stopped after: 0.001 seconds and 9 iterations with relative error 4.635837017914196e-9.\n",
      "PCG BLAS stopped after: 0.0 seconds and 9 iterations with relative error 6.576082824229683e-9.\n",
      "Iteration 21, ||r_p||/||b||=0.000001, ||r_d||/||c||=0.000039, rel. gap=0.000041, alpha=0.414745\n",
      "Solver build time: 0.007 seconds.\n",
      "PCG BLAS stopped after: 0.0 seconds and 9 iterations with relative error 5.320831332804197e-9.\n",
      "PCG BLAS stopped after: 0.0 seconds and 9 iterations with relative error 6.218551122281755e-9.\n",
      "Iteration 22, ||r_p||/||b||=0.000000, ||r_d||/||c||=0.000014, rel. gap=0.000029, alpha=0.361990\n",
      "Solver build time: 0.003 seconds.\n",
      "PCG BLAS stopped after: 0.0 seconds and 7 iterations with relative error 9.187397574425183e-9.\n",
      "PCG BLAS stopped after: 0.0 seconds and 7 iterations with relative error 8.731760314991697e-9.\n",
      "Iteration 23, ||r_p||/||b||=0.000000, ||r_d||/||c||=0.000005, rel. gap=0.000015, alpha=0.420116\n",
      "Solver build time: 0.003 seconds.\n",
      "PCG BLAS stopped after: 0.0 seconds and 5 iterations with relative error 6.573982165626291e-9.\n",
      "PCG BLAS stopped after: 0.0 seconds and 5 iterations with relative error 5.928388586261736e-9.\n",
      "Iteration 24, ||r_p||/||b||=0.000000, ||r_d||/||c||=0.000001, rel. gap=0.000013, alpha=0.662098\n",
      "Solver build time: 0.004 seconds.\n",
      "PCG BLAS stopped after: 0.0 seconds and 5 iterations with relative error 4.001040412473622e-9.\n",
      "PCG BLAS stopped after: 0.0 seconds and 5 iterations with relative error 6.108327353299213e-9.\n",
      "Iteration 25, ||r_p||/||b||=0.000000, ||r_d||/||c||=0.000001, rel. gap=0.000007, alpha=0.358303\n",
      "Solver build time: 0.01 seconds.\n",
      "PCG BLAS stopped after: 0.0 seconds and 4 iterations with relative error 2.770822721590251e-10.\n",
      "PCG BLAS stopped after: 0.0 seconds and 4 iterations with relative error 5.316960389360617e-10.\n",
      "Iteration 26, ||r_p||/||b||=0.000000, ||r_d||/||c||=0.000000, rel. gap=0.000003, alpha=0.534912\n",
      "Solver build time: 0.004 seconds.\n",
      "PCG BLAS stopped after: 0.0 seconds and 3 iterations with relative error 7.341877163536837e-10.\n",
      "PCG BLAS stopped after: 0.0 seconds and 3 iterations with relative error 5.992662285097473e-10.\n",
      "Iteration 27, ||r_p||/||b||=0.000000, ||r_d||/||c||=0.000000, rel. gap=0.000001, alpha=0.584600\n",
      "Termination tolerance reached.\n",
      "  0.565332 seconds (647.01 k allocations: 166.043 MB, 6.24% gc time)\n",
      "Cost: 5.613615796483065e8\n",
      "Min flow: 0.013239601600648174\n",
      "Min slack: 0.013923521777869041\n",
      "Error on demands: 0.00025239588436190563\n"
     ]
    }
   ],
   "source": [
    "@time sol = min_cost_flow(mcfp, lapSolver = (h->augTreeLap(h, tol=1e-8, verbose=true, maxits=1000)), tol=1e-6)\n",
    "flow = sol[1]\n",
    "reportMCFresults(mcfp, flow)"
   ]
  },
  {
   "cell_type": "markdown",
   "metadata": {
    "deletable": true,
    "editable": true
   },
   "source": [
    "Here is what Lemon did:\n",
    "\n",
    "```\n",
    "Dans17:tools spielman$ ./dimacs-solver ~/tmp/goto_8_13a.min \n",
    "Problem type: min\n",
    "Num of nodes: 8192\n",
    "Num of arcs:  65536\n",
    "\n",
    "Sum of supply values: 0\n",
    "GEQ supply contraints are used for NetworkSimplex\n",
    "\n",
    "Read the file: u: 0.08s, s: 0s, cu: 0s, cs: 0s, real: 0.0842741s\n",
    "Setup NetworkSimplex class: u: 0s, s: 0s, cu: 0s, cs: 0s, real: 0.00165105s\n",
    "Run NetworkSimplex: u: 0.43s, s: 0s, cu: 0s, cs: 0s, real: 0.439616s\n",
    "\n",
    "Feasible flow: found\n",
    "Min flow cost: 18217956686\n",
    "```\n",
    "\n",
    "It was absurdly faster.  But, I won't worry about that yet.\n"
   ]
  },
  {
   "cell_type": "markdown",
   "metadata": {
    "deletable": true,
    "editable": true
   },
   "source": [
    "Here is how Goldberg's CS2 code does, \n",
    "which I obtained from\n",
    "\n",
    "<a href=\"https://github.com/iveney/cs2\">https://github.com/iveney/cs2</a>\n",
    "\n",
    "```\n",
    "Dans17:cs2 spielman$ time ./cs2 < ~/tmp/goto_8_13a.min > out.txt\n",
    "warning: this program uses gets(), which is unsafe.\n",
    "\n",
    "real\t0m2.425s\n",
    "user\t0m2.344s\n",
    "sys\t0m0.027s\n",
    "\n",
    "Dans17:cs2 spielman$ head out.txt \n",
    "c CS 4.6\n",
    "c Commercial use requires a licence\n",
    "c contact igsys@eclipse.net\n",
    "c\n",
    "c nodes:            8192     arcs:            65536\n",
    "c scale-factor:       12     cut-off-factor:   79.1\n",
    "c\n",
    "c time:             2.25     cost:      18217956686\n",
    "c refines:             4     discharges:    3409417\n",
    "c pushes:        3621130     relabels:      1381573\n",
    "```"
   ]
  },
  {
   "cell_type": "markdown",
   "metadata": {
    "deletable": true,
    "editable": true
   },
   "source": [
    "## goto_8_14b.min"
   ]
  },
  {
   "cell_type": "code",
   "execution_count": 267,
   "metadata": {
    "collapsed": false,
    "deletable": true,
    "editable": true
   },
   "outputs": [
    {
     "data": {
      "text/plain": [
       "MCFproblem{Float64,Int64}([1 2; 1 3; … ; 15120 15750; 15750 16380],[2481.0,951.0,346.0,61.0,8368.0,9891.0,6933.0,783.0,155.0,37.0  …  202084.0,202084.0,202084.0,202084.0,202084.0,202084.0,202084.0,202084.0,202084.0,202084.0],[807.0,189.0,40.0,285.0,4.0,5.0,323.0,675.0,464.0,19.0  …  38.0,38.0,38.0,38.0,38.0,38.0,38.0,38.0,38.0,38.0],[202084.0,0.0,0.0,0.0,0.0,0.0,0.0,0.0,0.0,0.0  …  0.0,0.0,0.0,0.0,0.0,-202084.0,0.0,0.0,0.0,0.0])"
      ]
     },
     "execution_count": 267,
     "metadata": {},
     "output_type": "execute_result"
    }
   ],
   "source": [
    "mcfp = readDimacsMCF(\"/Users/kimonfountoulakis/Desktop/temp/goto_8_14b.min\")"
   ]
  },
  {
   "cell_type": "markdown",
   "metadata": {
    "deletable": true,
    "editable": true
   },
   "source": [
    "Some of these codes run into numerical issues at very low tolerances.  So, I will be more generous for this run."
   ]
  },
  {
   "cell_type": "code",
   "execution_count": 270,
   "metadata": {
    "collapsed": false,
    "deletable": true,
    "editable": true
   },
   "outputs": [
    {
     "name": "stdout",
     "output_type": "stream",
     "text": [
      "Iteration 1, ||r_p||/||b||=2.485507, ||r_d||/||c||=235.856325, rel. gap=0.025382, alpha=1.000000\n",
      "Iteration 2, ||r_p||/||b||=2.485088, ||r_d||/||c||=235.816619, rel. gap=0.025383, alpha=0.000086\n",
      "Iteration 3, ||r_p||/||b||=2.484212, ||r_d||/||c||=235.733448, rel. gap=0.025384, alpha=0.000180\n",
      "Iteration 4, ||r_p||/||b||=2.481308, ||r_d||/||c||=235.457870, rel. gap=0.025386, alpha=0.000598\n",
      "Iteration 5, ||r_p||/||b||=2.472787, ||r_d||/||c||=234.649314, rel. gap=0.025382, alpha=0.001758\n",
      "Iteration 6, ||r_p||/||b||=2.446579, ||r_d||/||c||=232.162421, rel. gap=0.025332, alpha=0.005444\n",
      "Iteration 7, ||r_p||/||b||=2.365324, ||r_d||/||c||=224.451891, rel. gap=0.025054, alpha=0.017204\n",
      "Iteration 8, ||r_p||/||b||=2.108854, ||r_d||/||c||=200.114732, rel. gap=0.023826, alpha=0.056972\n",
      "Iteration 9, ||r_p||/||b||=1.390452, ||r_d||/||c||=131.943639, rel. gap=0.019190, alpha=0.183349\n",
      "Iteration 10, ||r_p||/||b||=1.073522, ||r_d||/||c||=101.869325, rel. gap=0.016680, alpha=0.122330\n",
      "Iteration 11, ||r_p||/||b||=0.730145, ||r_d||/||c||=69.285408, rel. gap=0.012988, alpha=0.183413\n",
      "Iteration 12, ||r_p||/||b||=0.356933, ||r_d||/||c||=33.870303, rel. gap=0.007707, alpha=0.315212\n",
      "Iteration 13, ||r_p||/||b||=0.218102, ||r_d||/||c||=20.696287, rel. gap=0.005361, alpha=0.242060\n",
      "Iteration 14, ||r_p||/||b||=0.164120, ||r_d||/||c||=15.573749, rel. gap=0.004395, alpha=0.147557\n",
      "Iteration 15, ||r_p||/||b||=0.105227, ||r_d||/||c||=9.985235, rel. gap=0.003153, alpha=0.220963\n",
      "Iteration 16, ||r_p||/||b||=0.052977, ||r_d||/||c||=5.027098, rel. gap=0.001802, alpha=0.321698\n",
      "Iteration 17, ||r_p||/||b||=0.016398, ||r_d||/||c||=1.556031, rel. gap=0.000625, alpha=0.493091\n",
      "Iteration 18, ||r_p||/||b||=0.004830, ||r_d||/||c||=0.458326, rel. gap=0.000204, alpha=0.508935\n",
      "Iteration 19, ||r_p||/||b||=0.000728, ||r_d||/||c||=0.069119, rel. gap=0.000033, alpha=0.678825\n",
      "Iteration 20, ||r_p||/||b||=0.000308, ||r_d||/||c||=0.029238, rel. gap=0.000016, alpha=0.400476\n",
      "Iteration 21, ||r_p||/||b||=0.000224, ||r_d||/||c||=0.021249, rel. gap=0.000013, alpha=0.150938\n",
      "Iteration 22, ||r_p||/||b||=0.000163, ||r_d||/||c||=0.015447, rel. gap=0.000012, alpha=0.149133\n",
      "Iteration 23, ||r_p||/||b||=0.000107, ||r_d||/||c||=0.010145, rel. gap=0.000009, alpha=0.193372\n",
      "Iteration 24, ||r_p||/||b||=0.000070, ||r_d||/||c||=0.006669, rel. gap=0.000008, alpha=0.193980\n",
      "Iteration 25, ||r_p||/||b||=0.000045, ||r_d||/||c||=0.004254, rel. gap=0.000006, alpha=0.208057\n",
      "Iteration 26, ||r_p||/||b||=0.000029, ||r_d||/||c||=0.002753, rel. gap=0.000005, alpha=0.201458\n",
      "Iteration 27, ||r_p||/||b||=0.000020, ||r_d||/||c||=0.001856, rel. gap=0.000004, alpha=0.186503\n",
      "Iteration 28, ||r_p||/||b||=0.000014, ||r_d||/||c||=0.001288, rel. gap=0.000003, alpha=0.173677\n",
      "Iteration 29, ||r_p||/||b||=0.000009, ||r_d||/||c||=0.000876, rel. gap=0.000003, alpha=0.182635\n",
      "Iteration 30, ||r_p||/||b||=0.000007, ||r_d||/||c||=0.000641, rel. gap=0.000002, alpha=0.150847\n",
      "Iteration 31, ||r_p||/||b||=0.000005, ||r_d||/||c||=0.000461, rel. gap=0.000002, alpha=0.158613\n",
      "Iteration 32, ||r_p||/||b||=0.000003, ||r_d||/||c||=0.000328, rel. gap=0.000001, alpha=0.164091\n",
      "Iteration 33, ||r_p||/||b||=0.000002, ||r_d||/||c||=0.000234, rel. gap=0.000001, alpha=0.158949\n",
      "Iteration 34, ||r_p||/||b||=0.000002, ||r_d||/||c||=0.000171, rel. gap=0.000001, alpha=0.151181\n",
      "Iteration 35, ||r_p||/||b||=0.000001, ||r_d||/||c||=0.000121, rel. gap=0.000001, alpha=0.163721\n",
      "Iteration 36, ||r_p||/||b||=0.000001, ||r_d||/||c||=0.000089, rel. gap=0.000001, alpha=0.150867\n",
      "Iteration 37, ||r_p||/||b||=0.000001, ||r_d||/||c||=0.000064, rel. gap=0.000001, alpha=0.156143\n",
      "Iteration 38, ||r_p||/||b||=0.000001, ||r_d||/||c||=0.000048, rel. gap=0.000000, alpha=0.135882\n",
      "Iteration 39, ||r_p||/||b||=0.000000, ||r_d||/||c||=0.000034, rel. gap=0.000000, alpha=0.161783\n",
      "Iteration 40, ||r_p||/||b||=0.000000, ||r_d||/||c||=0.000025, rel. gap=0.000000, alpha=0.150354\n",
      "Iteration 41, ||r_p||/||b||=0.000000, ||r_d||/||c||=0.000018, rel. gap=0.000000, alpha=0.155277\n",
      "Iteration 42, ||r_p||/||b||=0.000000, ||r_d||/||c||=0.000012, rel. gap=0.000000, alpha=0.171595\n",
      "Iteration 43, ||r_p||/||b||=0.000000, ||r_d||/||c||=0.000008, rel. gap=0.000000, alpha=0.189237\n",
      "Iteration 44, ||r_p||/||b||=0.000000, ||r_d||/||c||=0.000005, rel. gap=0.000000, alpha=0.192890\n",
      "Iteration 45, ||r_p||/||b||=0.000000, ||r_d||/||c||=0.000004, rel. gap=0.000000, alpha=0.204873\n",
      "Iteration 46, ||r_p||/||b||=0.000000, ||r_d||/||c||=0.000002, rel. gap=0.000000, alpha=0.182178\n",
      "Iteration 47, ||r_p||/||b||=0.000000, ||r_d||/||c||=0.000002, rel. gap=0.000000, alpha=0.181275\n",
      "Iteration 48, ||r_p||/||b||=0.000000, ||r_d||/||c||=0.000001, rel. gap=0.000000, alpha=0.190984\n",
      "Iteration 49, ||r_p||/||b||=0.000000, ||r_d||/||c||=0.000001, rel. gap=0.000000, alpha=0.156374\n",
      "Iteration 50, ||r_p||/||b||=0.000000, ||r_d||/||c||=0.000001, rel. gap=0.000000, alpha=0.166926\n",
      "Iteration 51, ||r_p||/||b||=0.000000, ||r_d||/||c||=0.000000, rel. gap=0.000000, alpha=0.119377\n",
      "Iteration 52, ||r_p||/||b||=0.000000, ||r_d||/||c||=0.000000, rel. gap=0.000000, alpha=0.051181\n",
      "Iteration 53, ||r_p||/||b||=0.000000, ||r_d||/||c||=0.000000, rel. gap=0.000000, alpha=0.023393\n",
      "Iteration 54, ||r_p||/||b||=0.000000, ||r_d||/||c||=0.000000, rel. gap=0.000000, alpha=0.249583\n",
      "Iteration 55, ||r_p||/||b||=0.000000, ||r_d||/||c||=0.000000, rel. gap=0.000000, alpha=0.137550\n",
      "Iteration 56, ||r_p||/||b||=0.000000, ||r_d||/||c||=0.000000, rel. gap=0.000000, alpha=0.212211\n",
      "Iteration 57, ||r_p||/||b||=0.000000, ||r_d||/||c||=0.000000, rel. gap=0.000000, alpha=0.179424\n",
      "Iteration 58, ||r_p||/||b||=0.000000, ||r_d||/||c||=0.000000, rel. gap=0.000000, alpha=0.220223\n",
      "Iteration 59, ||r_p||/||b||=0.000000, ||r_d||/||c||=0.000000, rel. gap=0.000000, alpha=0.285436\n",
      "Iteration 60, ||r_p||/||b||=0.000000, ||r_d||/||c||=0.000000, rel. gap=0.000000, alpha=0.241306\n",
      "Iteration 61, ||r_p||/||b||=0.000000, ||r_d||/||c||=0.000000, rel. gap=0.000000, alpha=0.098933\n",
      "Iteration 62, ||r_p||/||b||=0.000000, ||r_d||/||c||=0.000000, rel. gap=0.000000, alpha=0.135826\n",
      "Iteration 63, ||r_p||/||b||=0.000000, ||r_d||/||c||=0.000000, rel. gap=0.000000, alpha=0.083797\n",
      "Iteration 64, ||r_p||/||b||=0.000000, ||r_d||/||c||=0.000000, rel. gap=0.000000, alpha=0.076963\n",
      "Iteration 65, ||r_p||/||b||=0.000000, ||r_d||/||c||=0.000000, rel. gap=0.000000, alpha=0.078721\n",
      "Iteration 66, ||r_p||/||b||=0.000000, ||r_d||/||c||=0.000000, rel. gap=0.000000, alpha=0.304953\n",
      "Iteration 67, ||r_p||/||b||=0.000000, ||r_d||/||c||=0.000000, rel. gap=0.000000, alpha=0.357806\n",
      "Iteration 68, ||r_p||/||b||=0.000000, ||r_d||/||c||=0.000000, rel. gap=0.000000, alpha=0.376944\n",
      "Iteration 69, ||r_p||/||b||=0.000000, ||r_d||/||c||=0.000000, rel. gap=0.000000, alpha=0.298947\n",
      "Iteration 70, ||r_p||/||b||=0.000000, ||r_d||/||c||=0.000000, rel. gap=0.000000, alpha=0.351894\n",
      "Iteration 71, ||r_p||/||b||=0.000000, ||r_d||/||c||=0.000000, rel. gap=0.000000, alpha=0.320394\n",
      "Iteration 72, ||r_p||/||b||=0.000000, ||r_d||/||c||=0.000000, rel. gap=0.000000, alpha=0.468588\n",
      "Iteration 73, ||r_p||/||b||=0.000000, ||r_d||/||c||=0.000000, rel. gap=0.000000, alpha=0.446687\n"
     ]
    },
    {
     "ename": "LoadError",
     "evalue": "Base.LinAlg.PosDefException(16382)",
     "output_type": "error",
     "traceback": [
      "Base.LinAlg.PosDefException(16382)",
      "",
      " in #cholfact!#6(::Float64, ::Function, ::Base.SparseArrays.CHOLMOD.Factor{Float64}, ::Base.SparseArrays.CHOLMOD.Sparse{Float64}) at ./sparse/cholmod.jl:1280",
      " in (::Base.LinAlg.#kw##cholfact!)(::Array{Any,1}, ::Base.LinAlg.#cholfact!, ::Base.SparseArrays.CHOLMOD.Factor{Float64}, ::Base.SparseArrays.CHOLMOD.Sparse{Float64}) at ./<missing>:0",
      " in #cholfact#8(::Float64, ::Array{Int64,1}, ::Function, ::Base.SparseArrays.CHOLMOD.Sparse{Float64}) at ./sparse/cholmod.jl:1316",
      " in #cholfact#9(::Array{Any,1}, ::Function, ::SparseMatrixCSC{Float64,Int64}) at ./sparse/cholmod.jl:1355",
      " in #wrapInterface#77(::Int64, ::Float64, ::Float64, ::Bool, ::Array{Int64,1}, ::Array{Any,1}, ::Function, ::Base.LinAlg.#cholfact, ::SparseMatrixCSC{Float64,Int64}) at /Users/kimonfountoulakis/.julia/v0.5/Laplacians/src/solverInterface.jl:36",
      " in (::Laplacians.#kw##wrapInterface)(::Array{Any,1}, ::Laplacians.#wrapInterface, ::Function, ::SparseMatrixCSC{Float64,Int64}) at ./<missing>:0",
      " in (::Laplacians.###82#83#85{Base.LinAlg.#cholfact})(::Float64, ::Float64, ::Float64, ::Bool, ::Array{Int64,1}, ::Array{Any,1}, ::Function, ::SparseMatrixCSC{Float64,Int64}) at /Users/kimonfountoulakis/.julia/v0.5/Laplacians/src/solverInterface.jl:64",
      " in (::Laplacians.#kw###82#84)(::Array{Any,1}, ::Laplacians.##82#84, ::SparseMatrixCSC{Float64,Int64}) at ./<missing>:0",
      " in #lapWrapConnected#86(::Float64, ::Float64, ::Float64, ::Bool, ::Array{Int64,1}, ::Array{Any,1}, ::Function, ::Function, ::SparseMatrixCSC{Float64,Int64}) at /Users/kimonfountoulakis/.julia/v0.5/Laplacians/src/solverInterface.jl:113",
      " in (::Laplacians.#kw##lapWrapConnected)(::Array{Any,1}, ::Laplacians.#lapWrapConnected, ::Function, ::SparseMatrixCSC{Float64,Int64}) at ./<missing>:0",
      " in (::Laplacians.##f#91#93{Laplacians.##82#84})(::Float64, ::Float64, ::Float64, ::Bool, ::Array{Int64,1}, ::Array{Any,1}, ::Function, ::SparseMatrixCSC{Float64,Int64}) at /Users/kimonfountoulakis/.julia/v0.5/Laplacians/src/solverInterface.jl:137",
      " in (::Laplacians.#kw##f#92)(::Array{Any,1}, ::Laplacians.#f#92, ::SparseMatrixCSC{Float64,Int64}) at ./<missing>:0",
      " in #lapWrapComponents#99(::Float64, ::Float64, ::Float64, ::Bool, ::Array{Int64,1}, ::Array{Any,1}, ::Function, ::Function, ::SparseMatrixCSC{Float64,Int64}) at /Users/kimonfountoulakis/.julia/v0.5/Laplacians/src/solverInterface.jl:194",
      " in (::Laplacians.#kw##lapWrapComponents)(::Array{Any,1}, ::Laplacians.#lapWrapComponents, ::Function, ::SparseMatrixCSC{Float64,Int64}) at ./<missing>:0",
      " in (::Laplacians.##f#102#104{Laplacians.#f#92})(::Float64, ::Float64, ::Float64, ::Bool, ::Array{Int64,1}, ::Array{Any,1}, ::Function, ::SparseMatrixCSC{Float64,Int64}) at /Users/kimonfountoulakis/.julia/v0.5/Laplacians/src/solverInterface.jl:237",
      " in (::Laplacians.#f#103)(::SparseMatrixCSC{Float64,Int64}) at /Users/kimonfountoulakis/.julia/v0.5/Laplacians/src/solverInterface.jl:237",
      " in #augTreeLapPrecon#123(::Laplacians.AugTreeParams, ::Function, ::SparseMatrixCSC{Float64,Int64}) at /Users/kimonfountoulakis/.julia/v0.5/Laplacians/src/augTreeSolver.jl:271",
      " in (::Laplacians.#kw##augTreeLapPrecon)(::Array{Any,1}, ::Laplacians.#augTreeLapPrecon, ::SparseMatrixCSC{Float64,Int64}) at ./<missing>:0",
      " in #augTreeLap1#125(::Float64, ::Float64, ::Float64, ::Bool, ::Array{Int64,1}, ::Laplacians.AugTreeParams, ::Function, ::SparseMatrixCSC{Float64,Int64}) at /Users/kimonfountoulakis/.julia/v0.5/Laplacians/src/augTreeSolver.jl:294",
      " in (::Laplacians.#kw##augTreeLap1)(::Array{Any,1}, ::Laplacians.#augTreeLap1, ::SparseMatrixCSC{Float64,Int64}) at ./<missing>:0",
      " in #lapWrapComponents#99(::Float64, ::Float64, ::Float64, ::Bool, ::Array{Int64,1}, ::Array{Any,1}, ::Function, ::Function, ::SparseMatrixCSC{Float64,Int64}) at /Users/kimonfountoulakis/.julia/v0.5/Laplacians/src/solverInterface.jl:194",
      " in (::Laplacians.#kw##lapWrapComponents)(::Array{Any,1}, ::Laplacians.#lapWrapComponents, ::Function, ::SparseMatrixCSC{Float64,Int64}) at ./<missing>:0",
      " in (::Laplacians.#kw##augTreeLap)(::Array{Any,1}, ::Laplacians.#augTreeLap, ::SparseMatrixCSC{Float64,Int64}) at ./<missing>:0",
      " in #min_cost_flow#219(::##223#224, ::Float64, ::Function, ::SparseMatrixCSC{Float64,Int64}, ::Array{Float64,1}, ::Array{Float64,1}, ::Array{Float64,1}) at /Users/kimonfountoulakis/Desktop/Box Sync/University/Berkeley/postdoc/myPapers/Laplacians.jl/src/min_cost_flow.jl:106",
      " in (::#kw##min_cost_flow)(::Array{Any,1}, ::#min_cost_flow, ::SparseMatrixCSC{Float64,Int64}, ::Array{Float64,1}, ::Array{Float64,1}, ::Array{Float64,1}) at ./<missing>:0",
      " in #min_cost_flow#218(::Function, ::Float64, ::Function, ::MCFproblem{Float64,Int64}) at /Users/kimonfountoulakis/Desktop/Box Sync/University/Berkeley/postdoc/myPapers/Laplacians.jl/src/min_cost_flow.jl:24",
      " in (::#kw##min_cost_flow)(::Array{Any,1}, ::#min_cost_flow, ::MCFproblem{Float64,Int64}) at ./<missing>:0"
     ]
    }
   ],
   "source": [
    "@time sol = min_cost_flow(mcfp, lapSolver = (h->augTreeLap(h,tol=1.0e-12)), tol=1e-12)\n",
    "flow = sol[1]\n",
    "reportMCFresults(mcfp, flow)"
   ]
  },
  {
   "cell_type": "code",
   "execution_count": 269,
   "metadata": {
    "collapsed": false,
    "deletable": true,
    "editable": true
   },
   "outputs": [
    {
     "name": "stdout",
     "output_type": "stream",
     "text": [
      "Iteration 1, ||r_p||/||b||=2.485507, ||r_d||/||c||=235.856325, rel. gap=0.025382, alpha=1.000000\n",
      "Iteration 2, ||r_p||/||b||=2.485088, ||r_d||/||c||=235.816619, rel. gap=0.025383, alpha=0.000086\n",
      "Iteration 3, ||r_p||/||b||=2.484212, ||r_d||/||c||=235.733448, rel. gap=0.025384, alpha=0.000180\n",
      "Iteration 4, ||r_p||/||b||=2.481308, ||r_d||/||c||=235.457870, rel. gap=0.025386, alpha=0.000598\n",
      "Iteration 5, ||r_p||/||b||=2.472787, ||r_d||/||c||=234.649314, rel. gap=0.025382, alpha=0.001758\n",
      "Iteration 6, ||r_p||/||b||=2.446579, ||r_d||/||c||=232.162421, rel. gap=0.025332, alpha=0.005444\n",
      "Iteration 7, ||r_p||/||b||=2.365324, ||r_d||/||c||=224.451891, rel. gap=0.025054, alpha=0.017204\n",
      "Iteration 8, ||r_p||/||b||=2.108854, ||r_d||/||c||=200.114732, rel. gap=0.023826, alpha=0.056972\n",
      "Iteration 9, ||r_p||/||b||=1.390452, ||r_d||/||c||=131.943639, rel. gap=0.019190, alpha=0.183349\n",
      "Iteration 10, ||r_p||/||b||=1.073522, ||r_d||/||c||=101.869325, rel. gap=0.016680, alpha=0.122330\n",
      "Iteration 11, ||r_p||/||b||=0.730145, ||r_d||/||c||=69.285408, rel. gap=0.012988, alpha=0.183413\n",
      "Iteration 12, ||r_p||/||b||=0.356933, ||r_d||/||c||=33.870303, rel. gap=0.007707, alpha=0.315212\n",
      "Iteration 13, ||r_p||/||b||=0.218102, ||r_d||/||c||=20.696287, rel. gap=0.005361, alpha=0.242060\n",
      "Iteration 14, ||r_p||/||b||=0.164120, ||r_d||/||c||=15.573749, rel. gap=0.004395, alpha=0.147557\n",
      "Iteration 15, ||r_p||/||b||=0.105227, ||r_d||/||c||=9.985235, rel. gap=0.003153, alpha=0.220963\n",
      "Iteration 16, ||r_p||/||b||=0.052977, ||r_d||/||c||=5.027098, rel. gap=0.001802, alpha=0.321698\n",
      "Iteration 17, ||r_p||/||b||=0.016398, ||r_d||/||c||=1.556031, rel. gap=0.000625, alpha=0.493091\n",
      "Iteration 18, ||r_p||/||b||=0.004830, ||r_d||/||c||=0.458326, rel. gap=0.000204, alpha=0.508935\n",
      "Iteration 19, ||r_p||/||b||=0.000728, ||r_d||/||c||=0.069119, rel. gap=0.000033, alpha=0.678825\n",
      "Iteration 20, ||r_p||/||b||=0.000308, ||r_d||/||c||=0.029238, rel. gap=0.000016, alpha=0.400476\n",
      "Iteration 21, ||r_p||/||b||=0.000224, ||r_d||/||c||=0.021249, rel. gap=0.000013, alpha=0.150938\n",
      "Iteration 22, ||r_p||/||b||=0.000163, ||r_d||/||c||=0.015447, rel. gap=0.000012, alpha=0.149133\n",
      "Iteration 23, ||r_p||/||b||=0.000107, ||r_d||/||c||=0.010145, rel. gap=0.000009, alpha=0.193372\n",
      "Iteration 24, ||r_p||/||b||=0.000070, ||r_d||/||c||=0.006669, rel. gap=0.000008, alpha=0.193980\n",
      "Iteration 25, ||r_p||/||b||=0.000045, ||r_d||/||c||=0.004254, rel. gap=0.000006, alpha=0.208057\n",
      "Iteration 26, ||r_p||/||b||=0.000029, ||r_d||/||c||=0.002753, rel. gap=0.000005, alpha=0.201458\n",
      "Iteration 27, ||r_p||/||b||=0.000020, ||r_d||/||c||=0.001856, rel. gap=0.000004, alpha=0.186503\n",
      "Iteration 28, ||r_p||/||b||=0.000014, ||r_d||/||c||=0.001288, rel. gap=0.000003, alpha=0.173677\n",
      "Iteration 29, ||r_p||/||b||=0.000009, ||r_d||/||c||=0.000876, rel. gap=0.000003, alpha=0.182635\n",
      "Iteration 30, ||r_p||/||b||=0.000007, ||r_d||/||c||=0.000641, rel. gap=0.000002, alpha=0.150847\n",
      "Iteration 31, ||r_p||/||b||=0.000005, ||r_d||/||c||=0.000461, rel. gap=0.000002, alpha=0.158613\n",
      "Iteration 32, ||r_p||/||b||=0.000003, ||r_d||/||c||=0.000328, rel. gap=0.000001, alpha=0.164091\n",
      "Iteration 33, ||r_p||/||b||=0.000002, ||r_d||/||c||=0.000234, rel. gap=0.000001, alpha=0.158949\n",
      "Iteration 34, ||r_p||/||b||=0.000002, ||r_d||/||c||=0.000171, rel. gap=0.000001, alpha=0.151181\n",
      "Iteration 35, ||r_p||/||b||=0.000001, ||r_d||/||c||=0.000121, rel. gap=0.000001, alpha=0.163721\n",
      "Iteration 36, ||r_p||/||b||=0.000001, ||r_d||/||c||=0.000089, rel. gap=0.000001, alpha=0.150867\n",
      "Iteration 37, ||r_p||/||b||=0.000001, ||r_d||/||c||=0.000064, rel. gap=0.000001, alpha=0.156143\n",
      "Iteration 38, ||r_p||/||b||=0.000001, ||r_d||/||c||=0.000048, rel. gap=0.000000, alpha=0.135882\n",
      "Iteration 39, ||r_p||/||b||=0.000000, ||r_d||/||c||=0.000034, rel. gap=0.000000, alpha=0.161783\n",
      "Iteration 40, ||r_p||/||b||=0.000000, ||r_d||/||c||=0.000025, rel. gap=0.000000, alpha=0.150354\n",
      "Iteration 41, ||r_p||/||b||=0.000000, ||r_d||/||c||=0.000018, rel. gap=0.000000, alpha=0.155277\n",
      "Iteration 42, ||r_p||/||b||=0.000000, ||r_d||/||c||=0.000012, rel. gap=0.000000, alpha=0.171595\n",
      "Iteration 43, ||r_p||/||b||=0.000000, ||r_d||/||c||=0.000008, rel. gap=0.000000, alpha=0.189237\n",
      "Iteration 44, ||r_p||/||b||=0.000000, ||r_d||/||c||=0.000005, rel. gap=0.000000, alpha=0.192890\n",
      "Iteration 45, ||r_p||/||b||=0.000000, ||r_d||/||c||=0.000004, rel. gap=0.000000, alpha=0.204873\n",
      "Iteration 46, ||r_p||/||b||=0.000000, ||r_d||/||c||=0.000002, rel. gap=0.000000, alpha=0.182178\n",
      "Iteration 47, ||r_p||/||b||=0.000000, ||r_d||/||c||=0.000002, rel. gap=0.000000, alpha=0.181275\n",
      "Iteration 48, ||r_p||/||b||=0.000000, ||r_d||/||c||=0.000001, rel. gap=0.000000, alpha=0.190984\n",
      "Iteration 49, ||r_p||/||b||=0.000000, ||r_d||/||c||=0.000001, rel. gap=0.000000, alpha=0.156374\n",
      "Iteration 50, ||r_p||/||b||=0.000000, ||r_d||/||c||=0.000001, rel. gap=0.000000, alpha=0.166926\n",
      "Iteration 51, ||r_p||/||b||=0.000000, ||r_d||/||c||=0.000000, rel. gap=0.000000, alpha=0.119379\n",
      "Iteration 52, ||r_p||/||b||=0.000000, ||r_d||/||c||=0.000000, rel. gap=0.000000, alpha=0.051182\n",
      "Iteration 53, ||r_p||/||b||=0.000000, ||r_d||/||c||=0.000000, rel. gap=0.000000, alpha=0.023393\n",
      "Iteration 54, ||r_p||/||b||=0.000000, ||r_d||/||c||=0.000000, rel. gap=0.000000, alpha=0.249583\n",
      "Iteration 55, ||r_p||/||b||=0.000000, ||r_d||/||c||=0.000000, rel. gap=0.000000, alpha=0.137550\n",
      "Iteration 56, ||r_p||/||b||=0.000000, ||r_d||/||c||=0.000000, rel. gap=0.000000, alpha=0.212211\n",
      "Iteration 57, ||r_p||/||b||=0.000000, ||r_d||/||c||=0.000000, rel. gap=0.000000, alpha=0.179423\n",
      "Iteration 58, ||r_p||/||b||=0.000000, ||r_d||/||c||=0.000000, rel. gap=0.000000, alpha=0.220222\n",
      "Iteration 59, ||r_p||/||b||=0.000000, ||r_d||/||c||=0.000000, rel. gap=0.000000, alpha=0.285436\n",
      "Iteration 60, ||r_p||/||b||=0.000000, ||r_d||/||c||=0.000000, rel. gap=0.000000, alpha=0.241306\n",
      "Iteration 61, ||r_p||/||b||=0.000000, ||r_d||/||c||=0.000000, rel. gap=0.000000, alpha=0.098932\n",
      "Iteration 62, ||r_p||/||b||=0.000000, ||r_d||/||c||=0.000000, rel. gap=0.000000, alpha=0.135826\n",
      "Iteration 63, ||r_p||/||b||=0.000000, ||r_d||/||c||=0.000000, rel. gap=0.000000, alpha=0.083797\n",
      "Iteration 64, ||r_p||/||b||=0.000000, ||r_d||/||c||=0.000000, rel. gap=0.000000, alpha=0.076962\n",
      "Iteration 65, ||r_p||/||b||=0.000000, ||r_d||/||c||=0.000000, rel. gap=0.000000, alpha=0.078720\n",
      "Iteration 66, ||r_p||/||b||=0.000000, ||r_d||/||c||=0.000000, rel. gap=0.000000, alpha=0.304954\n",
      "Iteration 67, ||r_p||/||b||=0.000000, ||r_d||/||c||=0.000000, rel. gap=0.000000, alpha=0.357807\n",
      "Iteration 68, ||r_p||/||b||=0.000000, ||r_d||/||c||=0.000000, rel. gap=0.000000, alpha=0.376944\n",
      "Iteration 69, ||r_p||/||b||=0.000000, ||r_d||/||c||=0.000000, rel. gap=0.000000, alpha=0.298946\n",
      "Iteration 70, ||r_p||/||b||=0.000000, ||r_d||/||c||=0.000000, rel. gap=0.000000, alpha=0.351895\n",
      "Iteration 71, ||r_p||/||b||=0.000000, ||r_d||/||c||=0.000000, rel. gap=0.000000, alpha=0.320395\n",
      "Iteration 72, ||r_p||/||b||=0.000000, ||r_d||/||c||=0.000000, rel. gap=0.000000, alpha=0.468592\n"
     ]
    },
    {
     "ename": "LoadError",
     "evalue": "Base.LinAlg.PosDefException(16382)",
     "output_type": "error",
     "traceback": [
      "Base.LinAlg.PosDefException(16382)",
      "",
      " in #cholfact!#6(::Float64, ::Function, ::Base.SparseArrays.CHOLMOD.Factor{Float64}, ::Base.SparseArrays.CHOLMOD.Sparse{Float64}) at ./sparse/cholmod.jl:1280",
      " in (::Base.LinAlg.#kw##cholfact!)(::Array{Any,1}, ::Base.LinAlg.#cholfact!, ::Base.SparseArrays.CHOLMOD.Factor{Float64}, ::Base.SparseArrays.CHOLMOD.Sparse{Float64}) at ./<missing>:0",
      " in #cholfact#8(::Float64, ::Array{Int64,1}, ::Function, ::Base.SparseArrays.CHOLMOD.Sparse{Float64}) at ./sparse/cholmod.jl:1316",
      " in #cholfact#9(::Array{Any,1}, ::Function, ::SparseMatrixCSC{Float64,Int64}) at ./sparse/cholmod.jl:1355",
      " in #wrapInterface#77(::Int64, ::Float64, ::Float64, ::Bool, ::Array{Int64,1}, ::Array{Any,1}, ::Function, ::Base.LinAlg.#cholfact, ::SparseMatrixCSC{Float64,Int64}) at /Users/kimonfountoulakis/.julia/v0.5/Laplacians/src/solverInterface.jl:36",
      " in (::Laplacians.#kw##wrapInterface)(::Array{Any,1}, ::Laplacians.#wrapInterface, ::Function, ::SparseMatrixCSC{Float64,Int64}) at ./<missing>:0",
      " in (::Laplacians.###82#83#85{Base.LinAlg.#cholfact})(::Float64, ::Float64, ::Float64, ::Bool, ::Array{Int64,1}, ::Array{Any,1}, ::Function, ::SparseMatrixCSC{Float64,Int64}) at /Users/kimonfountoulakis/.julia/v0.5/Laplacians/src/solverInterface.jl:64",
      " in (::Laplacians.#kw###82#84)(::Array{Any,1}, ::Laplacians.##82#84, ::SparseMatrixCSC{Float64,Int64}) at ./<missing>:0",
      " in #lapWrapConnected#86(::Float64, ::Float64, ::Float64, ::Bool, ::Array{Int64,1}, ::Array{Any,1}, ::Function, ::Function, ::SparseMatrixCSC{Float64,Int64}) at /Users/kimonfountoulakis/.julia/v0.5/Laplacians/src/solverInterface.jl:113",
      " in (::Laplacians.#kw##lapWrapConnected)(::Array{Any,1}, ::Laplacians.#lapWrapConnected, ::Function, ::SparseMatrixCSC{Float64,Int64}) at ./<missing>:0",
      " in (::Laplacians.##f#91#93{Laplacians.##82#84})(::Float64, ::Float64, ::Float64, ::Bool, ::Array{Int64,1}, ::Array{Any,1}, ::Function, ::SparseMatrixCSC{Float64,Int64}) at /Users/kimonfountoulakis/.julia/v0.5/Laplacians/src/solverInterface.jl:137",
      " in (::Laplacians.#kw##f#92)(::Array{Any,1}, ::Laplacians.#f#92, ::SparseMatrixCSC{Float64,Int64}) at ./<missing>:0",
      " in #lapWrapComponents#99(::Float64, ::Float64, ::Float64, ::Bool, ::Array{Int64,1}, ::Array{Any,1}, ::Function, ::Function, ::SparseMatrixCSC{Float64,Int64}) at /Users/kimonfountoulakis/.julia/v0.5/Laplacians/src/solverInterface.jl:194",
      " in (::Laplacians.#kw##lapWrapComponents)(::Array{Any,1}, ::Laplacians.#lapWrapComponents, ::Function, ::SparseMatrixCSC{Float64,Int64}) at ./<missing>:0",
      " in (::Laplacians.##f#102#104{Laplacians.#f#92})(::Float64, ::Float64, ::Float64, ::Bool, ::Array{Int64,1}, ::Array{Any,1}, ::Function, ::SparseMatrixCSC{Float64,Int64}) at /Users/kimonfountoulakis/.julia/v0.5/Laplacians/src/solverInterface.jl:237",
      " in #min_cost_flow#219(::Laplacians.#f#103, ::Float64, ::Function, ::SparseMatrixCSC{Float64,Int64}, ::Array{Float64,1}, ::Array{Float64,1}, ::Array{Float64,1}) at /Users/kimonfountoulakis/Desktop/Box Sync/University/Berkeley/postdoc/myPapers/Laplacians.jl/src/min_cost_flow.jl:106",
      " in (::#kw##min_cost_flow)(::Array{Any,1}, ::#min_cost_flow, ::SparseMatrixCSC{Float64,Int64}, ::Array{Float64,1}, ::Array{Float64,1}, ::Array{Float64,1}) at ./<missing>:0",
      " in #min_cost_flow#218(::Function, ::Float64, ::Function, ::MCFproblem{Float64,Int64}) at /Users/kimonfountoulakis/Desktop/Box Sync/University/Berkeley/postdoc/myPapers/Laplacians.jl/src/min_cost_flow.jl:24",
      " in (::#kw##min_cost_flow)(::Array{Any,1}, ::#min_cost_flow, ::MCFproblem{Float64,Int64}) at ./<missing>:0"
     ]
    }
   ],
   "source": [
    "@time sol = min_cost_flow(mcfp, lapSolver = cholLap , tol=1.0e-11)\n",
    "flow = sol[1]\n",
    "reportMCFresults(mcfp, flow)"
   ]
  },
  {
   "cell_type": "markdown",
   "metadata": {
    "deletable": true,
    "editable": true
   },
   "source": [
    "If I try tol = 1e-4, that solver dies due to numerical issues.  "
   ]
  },
  {
   "cell_type": "markdown",
   "metadata": {
    "deletable": true,
    "editable": true
   },
   "source": [
    "And, here is Lemon:\n",
    "\n",
    "```\n",
    "Dans17:tools spielman$ ./dimacs-solver ~/tmp/goto_8_14b.min \n",
    "Problem type: min\n",
    "Num of nodes: 16384\n",
    "Num of arcs:  131072\n",
    "\n",
    "Sum of supply values: 0\n",
    "GEQ supply contraints are used for NetworkSimplex\n",
    "\n",
    "Read the file: u: 0.18s, s: 0s, cu: 0s, cs: 0s, real: 0.187166s\n",
    "Setup NetworkSimplex class: u: 0s, s: 0s, cu: 0s, cs: 0s, real: 0.00391507s\n",
    "Run NetworkSimplex: u: 1.6s, s: 0.01s, cu: 0s, cs: 0s, real: 1.61133s\n",
    "\n",
    "Feasible flow: found\n",
    "Min flow cost: 41834525746\n",
    "```\n"
   ]
  },
  {
   "cell_type": "markdown",
   "metadata": {
    "deletable": true,
    "editable": true
   },
   "source": [
    "And, here is CS2:\n",
    "\n",
    "```\n",
    "Dans17:cs2 spielman$ time ./cs2 < ~/tmp/goto_8_14b.min > out.txt\n",
    "warning: this program uses gets(), which is unsafe.\n",
    "\n",
    "real\t0m22.478s\n",
    "user\t0m21.870s\n",
    "sys\t0m0.096s\n",
    "Dans17:cs2 spielman$ head out.txt \n",
    "c CS 4.6\n",
    "c Commercial use requires a licence\n",
    "c contact igsys@eclipse.net\n",
    "c\n",
    "c nodes:           16384     arcs:           131072\n",
    "c scale-factor:       12     cut-off-factor:  107.3\n",
    "c\n",
    "c time:            21.70     cost:      41834525746\n",
    "c refines:             5     discharges:    9131788\n",
    "c pushes:        9571379     relabels:      3496218\n",
    "```"
   ]
  },
  {
   "cell_type": "markdown",
   "metadata": {
    "deletable": true,
    "editable": true
   },
   "source": [
    "## goto_8_16a\n",
    "Lemon (which is implementing a network simplex code) starts to scale badly when given this problem, as does CS2.\n",
    "Our scales as we would expect.\n",
    "This problem is 4 times bigger than `goto_8_14b`.\n",
    "\n",
    "I stopped CS2 after 7 minutes, because it was driving me nuts.\n",
    "Here is how Lemon did:\n",
    "\n",
    "```\n",
    "Dans17:tools spielman$ ./dimacs-solver ~/tmp/goto_8_16a.min \n",
    "Problem type: min\n",
    "Num of nodes: 65536\n",
    "Num of arcs:  524288\n",
    "\n",
    "Sum of supply values: 0\n",
    "GEQ supply contraints are used for NetworkSimplex\n",
    "\n",
    "Read the file: u: 0.68s, s: 0.01s, cu: 0s, cs: 0s, real: 0.711415s\n",
    "Setup NetworkSimplex class: u: 0.01s, s: 0.01s, cu: 0s, cs: 0s, real: 0.015645s\n",
    "Run NetworkSimplex: u: 80.66s, s: 0.26s, cu: 0s, cs: 0s, real: 81.4035s\n",
    "```"
   ]
  },
  {
   "cell_type": "code",
   "execution_count": 4,
   "metadata": {
    "collapsed": false,
    "deletable": true,
    "editable": true
   },
   "outputs": [
    {
     "data": {
      "text/plain": [
       "MCFproblem{Float64,Int64}([1 2; 1 3; … ; 62244 63882; 63882 65520],[8642.0,741.0,453.0,62.0,341.0,1029.0,2640.0,1762.0,155.0,31.0  …  331827.0,331827.0,331827.0,331827.0,331827.0,331827.0,331827.0,331827.0,331827.0,331827.0],[28.0,714.0,451.0,822.0,0.0,7.0,518.0,29.0,298.0,973.0  …  25.0,25.0,25.0,25.0,25.0,25.0,25.0,25.0,25.0,25.0],[331827.0,0.0,0.0,0.0,0.0,0.0,0.0,0.0,0.0,0.0  …  0.0,0.0,0.0,0.0,0.0,0.0,0.0,0.0,0.0,0.0])"
      ]
     },
     "execution_count": 4,
     "metadata": {},
     "output_type": "execute_result"
    }
   ],
   "source": [
    "mcfp = readDimacsMCF(\"/Users/spielman/tmp/goto_8_16a.min\")"
   ]
  },
  {
   "cell_type": "code",
   "execution_count": 36,
   "metadata": {
    "collapsed": false,
    "deletable": true,
    "editable": true
   },
   "outputs": [
    {
     "name": "stdout",
     "output_type": "stream",
     "text": [
      "Iteration 1, ||r_p||=1370095.345474, ||r_d||=116864630.148304, mu=20862256364.106258\n",
      "Iteration 2, ||r_p||=1370054.044492, ||r_d||=116861107.310279, mu=20862716994.257442\n",
      "Iteration 3, ||r_p||=1369966.873185, ||r_d||=116853671.884245, mu=20863680411.510319\n",
      "Iteration 4, ||r_p||=1369679.984777, ||r_d||=116829201.245920, mu=20866833498.161743\n",
      "Iteration 5, ||r_p||=1368835.380943, ||r_d||=116757159.314662, mu=20875887167.123146\n",
      "Iteration 6, ||r_p||=1366196.332895, ||r_d||=116532057.189363, mu=20902067158.667389\n",
      "Iteration 7, ||r_p||=1357784.805709, ||r_d||=115814581.564949, mu=20972179454.468510\n",
      "Iteration 8, ||r_p||=1330063.502768, ||r_d||=113450045.530183, mu=21142627083.457748\n",
      "Iteration 9, ||r_p||=1236606.194701, ||r_d||=105478444.299676, mu=21468228709.443768\n",
      "Iteration 10, ||r_p||=897148.187194, ||r_d||=76523791.888600, mu=21175505322.016315\n",
      "Iteration 11, ||r_p||=555327.863769, ||r_d||=47367641.693511, mu=23208513306.810078\n",
      "Iteration 12, ||r_p||=294413.760916, ||r_d||=25112526.214785, mu=16840562554.274521\n",
      "Iteration 13, ||r_p||=290832.292005, ||r_d||=24807038.687182, mu=17040231108.031609\n",
      "Iteration 14, ||r_p||=241255.109276, ||r_d||=20578267.935881, mu=17443422251.339035\n",
      "Iteration 15, ||r_p||=70310.562631, ||r_d||=5997259.916634, mu=6204798528.078006\n",
      "Iteration 16, ||r_p||=36194.522796, ||r_d||=3087273.841161, mu=3867746167.629125\n",
      "Iteration 17, ||r_p||=6299.288036, ||r_d||=537308.566861, mu=805569122.397773\n",
      "Iteration 18, ||r_p||=1403.887888, ||r_d||=119747.022949, mu=292698760.448703\n",
      "Iteration 19, ||r_p||=220.272109, ||r_d||=18788.486920, mu=46185756.016926\n",
      "Iteration 20, ||r_p||=23.798918, ||r_d||=2029.969473, mu=5358683.422921\n",
      "Iteration 21, ||r_p||=14.812177, ||r_d||=1263.430017, mu=5106497.292082\n",
      "Iteration 22, ||r_p||=2.711889, ||r_d||=231.314885, mu=1204472.851092\n",
      "Iteration 23, ||r_p||=1.252175, ||r_d||=106.805303, mu=825562.231289\n",
      "Iteration 24, ||r_p||=0.487001, ||r_d||=41.538835, mu=420476.096753\n",
      "Iteration 25, ||r_p||=0.238786, ||r_d||=20.366934, mu=282126.232264\n",
      "Iteration 26, ||r_p||=0.101316, ||r_d||=8.641279, mu=189246.919521\n",
      "Iteration 27, ||r_p||=0.039598, ||r_d||=3.376821, mu=131790.188267\n",
      "Iteration 28, ||r_p||=0.015211, ||r_d||=1.297124, mu=86150.350172\n",
      "Iteration 29, ||r_p||=0.006825, ||r_d||=0.581986, mu=63389.067160\n",
      "Iteration 30, ||r_p||=0.002284, ||r_d||=0.194758, mu=44159.781368\n",
      "Iteration 31, ||r_p||=0.000143, ||r_d||=0.012036, mu=30070.913007\n",
      "Iteration 32, ||r_p||=0.000025, ||r_d||=0.002124, mu=15781.561705\n",
      "Iteration 33, ||r_p||=0.000019, ||r_d||=0.001081, mu=14192.240538\n",
      "Iteration 34, ||r_p||=0.000028, ||r_d||=0.000431, mu=8107.840064\n",
      "Iteration 35, ||r_p||=0.000046, ||r_d||=0.000198, mu=6129.044645\n",
      "Iteration 36, ||r_p||=0.000061, ||r_d||=0.000089, mu=3877.267104\n",
      "Iteration 37, ||r_p||=0.000086, ||r_d||=0.000031, mu=2748.103489\n",
      "Iteration 38, ||r_p||=0.000096, ||r_d||=0.000015, mu=1823.747294\n",
      "Iteration 39, ||r_p||=0.000106, ||r_d||=0.000008, mu=1159.402771\n",
      "Iteration 40, ||r_p||=0.000084, ||r_d||=0.000003, mu=968.852022\n",
      "Iteration 41, ||r_p||=0.000037, ||r_d||=0.000001, mu=513.166224\n",
      "Iteration 42, ||r_p||=0.000042, ||r_d||=0.000000, mu=354.073691\n",
      "Iteration 43, ||r_p||=0.000058, ||r_d||=0.000000, mu=246.171176\n",
      "Iteration 44, ||r_p||=0.000018, ||r_d||=0.000000, mu=154.783780\n",
      "Iteration 45, ||r_p||=0.000006, ||r_d||=0.000000, mu=157.279955\n",
      "Iteration 46, ||r_p||=0.000008, ||r_d||=0.000000, mu=162.308374\n",
      "Iteration 47, ||r_p||=0.000021, ||r_d||=0.000000, mu=98.050865\n",
      "Iteration 48, ||r_p||=0.000018, ||r_d||=0.000000, mu=111.177538\n",
      "Iteration 49, ||r_p||=0.000012, ||r_d||=0.000000, mu=158.997947\n",
      "Iteration 50, ||r_p||=0.000012, ||r_d||=0.000000, mu=169.767136\n",
      "Iteration 51, ||r_p||=0.000017, ||r_d||=0.000000, mu=102.629040\n",
      "Iteration 52, ||r_p||=0.000016, ||r_d||=0.000000, mu=55.566871\n",
      "Iteration 53, ||r_p||=0.000035, ||r_d||=0.000000, mu=23.872397\n",
      "Iteration 54, ||r_p||=0.000059, ||r_d||=0.000000, mu=19.726072\n",
      "Iteration 55, ||r_p||=0.000026, ||r_d||=0.000000, mu=5.414640\n",
      "Iteration 56, ||r_p||=0.000028, ||r_d||=0.000000, mu=1.861282\n",
      "Iteration 57, ||r_p||=0.000169, ||r_d||=0.000000, mu=0.341391\n",
      "Termination tolerance reached.\n",
      "123.901136 seconds (557.43 k allocations: 50.241 GB, 30.19% gc time)\n",
      "Cost: 2.0566500411895667e11\n",
      "Min flow: 1.149178085264266e-7\n",
      "Min slack: 1.1547231792974344e-7\n",
      "Error on demands: 0.0028380442737689655\n"
     ]
    }
   ],
   "source": [
    "@time sol = min_cost_flow(mcfp, lapSolver = cholLap, tol=1)\n",
    "flow = sol[1]\n",
    "reportMCFresults(mcfp, flow)"
   ]
  },
  {
   "cell_type": "code",
   "execution_count": 37,
   "metadata": {
    "collapsed": false,
    "deletable": true,
    "editable": true
   },
   "outputs": [
    {
     "name": "stdout",
     "output_type": "stream",
     "text": [
      "Iteration 1, ||r_p||=1370095.345474, ||r_d||=116864630.148304, mu=20862256364.106258\n",
      "Iteration 2, ||r_p||=1370054.044492, ||r_d||=116861107.310279, mu=20862716994.257439\n",
      "Iteration 3, ||r_p||=1369966.873185, ||r_d||=116853671.884245, mu=20863680411.510315\n",
      "Iteration 4, ||r_p||=1369679.984777, ||r_d||=116829201.245920, mu=20866833498.161751\n",
      "Iteration 5, ||r_p||=1368835.380943, ||r_d||=116757159.314662, mu=20875887167.123150\n",
      "Iteration 6, ||r_p||=1366196.332895, ||r_d||=116532057.189363, mu=20902067158.667427\n",
      "Iteration 7, ||r_p||=1357784.805709, ||r_d||=115814581.564951, mu=20972179454.468803\n",
      "Iteration 8, ||r_p||=1330063.502768, ||r_d||=113450045.530191, mu=21142627083.458965\n",
      "Iteration 9, ||r_p||=1236606.194702, ||r_d||=105478444.299744, mu=21468228709.455700\n",
      "Iteration 10, ||r_p||=897148.187197, ||r_d||=76523791.888869, mu=21175505322.071014\n",
      "Iteration 11, ||r_p||=555327.863778, ||r_d||=47367641.694227, mu=23208513306.774761\n",
      "Iteration 12, ||r_p||=294413.760965, ||r_d||=25112526.218994, mu=16840562557.563122\n",
      "Iteration 13, ||r_p||=290832.292054, ||r_d||=24807038.691360, mu=17040231111.356438\n",
      "Iteration 14, ||r_p||=241255.109324, ||r_d||=20578267.939865, mu=17443422254.735611\n",
      "Iteration 15, ||r_p||=70310.562606, ||r_d||=5997259.914559, mu=6204798527.236424\n",
      "Iteration 16, ||r_p||=36194.522831, ||r_d||=3087273.843417, mu=3867746171.557304\n",
      "Iteration 17, ||r_p||=6299.288038, ||r_d||=537308.566775, mu=805569122.749863\n",
      "Iteration 18, ||r_p||=1403.887889, ||r_d||=119747.022934, mu=292698760.587426\n",
      "Iteration 19, ||r_p||=220.272089, ||r_d||=18788.486918, mu=46185756.026751\n",
      "Iteration 20, ||r_p||=23.798912, ||r_d||=2029.969475, mu=5358683.429760\n",
      "Iteration 21, ||r_p||=14.812176, ||r_d||=1263.430017, mu=5106497.291024\n",
      "Iteration 22, ||r_p||=2.711882, ||r_d||=231.314883, mu=1204472.848298\n",
      "Iteration 23, ||r_p||=1.252173, ||r_d||=106.805299, mu=825562.212156\n",
      "Iteration 24, ||r_p||=0.487001, ||r_d||=41.538837, mu=420476.116930\n",
      "Iteration 25, ||r_p||=0.238791, ||r_d||=20.366934, mu=282126.228411\n",
      "Iteration 26, ||r_p||=0.101342, ||r_d||=8.641278, mu=189246.926771\n",
      "Iteration 27, ||r_p||=0.039624, ||r_d||=3.376822, mu=131790.191566\n",
      "Iteration 28, ||r_p||=0.015249, ||r_d||=1.297124, mu=86150.358808\n",
      "Iteration 29, ||r_p||=0.006861, ||r_d||=0.581986, mu=63389.067245\n",
      "Iteration 30, ||r_p||=0.002309, ||r_d||=0.194758, mu=44159.787005\n",
      "Iteration 31, ||r_p||=0.000158, ||r_d||=0.012036, mu=30070.910039\n",
      "Iteration 32, ||r_p||=0.000059, ||r_d||=0.002124, mu=15781.563443\n",
      "Iteration 33, ||r_p||=0.000034, ||r_d||=0.001081, mu=14192.239978\n",
      "Iteration 34, ||r_p||=0.000064, ||r_d||=0.000431, mu=8107.839756\n",
      "Iteration 35, ||r_p||=0.000047, ||r_d||=0.000198, mu=6129.044727\n",
      "Iteration 36, ||r_p||=0.000069, ||r_d||=0.000089, mu=3877.266865\n",
      "Iteration 37, ||r_p||=0.000031, ||r_d||=0.000031, mu=2748.103728\n",
      "Iteration 38, ||r_p||=0.000020, ||r_d||=0.000015, mu=1823.747059\n",
      "Iteration 39, ||r_p||=0.000024, ||r_d||=0.000008, mu=1159.402310\n",
      "Iteration 40, ||r_p||=0.000019, ||r_d||=0.000003, mu=968.851333\n",
      "Iteration 41, ||r_p||=0.000009, ||r_d||=0.000001, mu=513.164662\n",
      "Iteration 42, ||r_p||=0.000010, ||r_d||=0.000000, mu=354.073398\n",
      "Iteration 43, ||r_p||=0.000007, ||r_d||=0.000000, mu=246.169554\n",
      "Iteration 44, ||r_p||=0.000020, ||r_d||=0.000000, mu=154.783092\n",
      "Iteration 45, ||r_p||=0.000007, ||r_d||=0.000000, mu=157.280707\n",
      "Iteration 46, ||r_p||=0.000006, ||r_d||=0.000000, mu=162.308721\n",
      "Iteration 47, ||r_p||=0.000006, ||r_d||=0.000000, mu=98.061882\n",
      "Iteration 48, ||r_p||=0.000006, ||r_d||=0.000000, mu=111.189693\n",
      "Iteration 49, ||r_p||=0.000007, ||r_d||=0.000000, mu=159.023056\n",
      "Iteration 50, ||r_p||=0.000007, ||r_d||=0.000000, mu=169.783781\n",
      "Iteration 51, ||r_p||=0.000009, ||r_d||=0.000000, mu=102.652743\n",
      "Iteration 52, ||r_p||=0.000006, ||r_d||=0.000000, mu=55.570942\n",
      "Iteration 53, ||r_p||=0.000007, ||r_d||=0.000000, mu=23.878410\n",
      "Iteration 54, ||r_p||=0.000030, ||r_d||=0.000000, mu=19.728888\n",
      "Iteration 55, ||r_p||=0.000010, ||r_d||=0.000000, mu=5.419894\n",
      "Iteration 56, ||r_p||=0.000016, ||r_d||=0.000000, mu=1.866162\n",
      "Iteration 57, ||r_p||=0.000013, ||r_d||=0.000000, mu=0.341836\n",
      "Termination tolerance reached.\n",
      "186.513756 seconds (189.26 M allocations: 94.509 GB, 29.35% gc time)\n",
      "Cost: 2.0566500405546606e11\n",
      "Min flow: 1.1506785019227385e-7\n",
      "Min slack: 1.1562308088741702e-7\n",
      "Error on demands: 0.0012676936446873069\n"
     ]
    }
   ],
   "source": [
    "@time sol = min_cost_flow(mcfp, lapSolver = (h->augTreeLap(h, tol=1e-10)), tol=1)\n",
    "flow = sol[1]\n",
    "reportMCFresults(mcfp, flow)"
   ]
  },
  {
   "cell_type": "code",
   "execution_count": 159,
   "metadata": {
    "collapsed": false,
    "deletable": true,
    "editable": true
   },
   "outputs": [
    {
     "name": "stderr",
     "output_type": "stream",
     "text": [
      "\u001b[1m\u001b[34mINFO: Precompiling module MATLAB.\n",
      "\u001b[0m"
     ]
    },
    {
     "name": "stdout",
     "output_type": "stream",
     "text": [
      ">> >> >> Connected to Matlab!\n"
     ]
    },
    {
     "data": {
      "text/plain": [
       "matlabCmgLap"
      ]
     },
     "execution_count": 159,
     "metadata": {},
     "output_type": "execute_result"
    }
   ],
   "source": [
    "include(\"/Users/kimonfountoulakis/Desktop/Box Sync/University/Berkeley/postdoc/myPapers/Laplacians.jl/src/matlabSolvers.jl\")"
   ]
  },
  {
   "cell_type": "code",
   "execution_count": 160,
   "metadata": {
    "collapsed": false,
    "deletable": true,
    "editable": true
   },
   "outputs": [
    {
     "name": "stdout",
     "output_type": "stream",
     "text": [
      "Iteration 1, ||r_p||/||b||=2.485507, ||r_d||/||c||=235.856325, rel. gap=0.050764, alpha=1.000000\n"
     ]
    },
    {
     "name": "stderr",
     "output_type": "stream",
     "text": [
      "{\bUndefined function or variable 'cmg_sdd'.\n",
      "}\b \n",
      "{\bUndefined function or variable 'pfun'.\n",
      "}\b \n",
      "{\bError using save\n",
      "Variable 'iter' not found.\n",
      "}\b \n"
     ]
    },
    {
     "ename": "LoadError",
     "evalue": "MATLAB.MEngineError(\"failed to get the variable iter from a MATLAB session\")",
     "output_type": "error",
     "traceback": [
      "MATLAB.MEngineError(\"failed to get the variable iter from a MATLAB session\")",
      "",
      " in get_mvariable(::MATLAB.MSession, ::Symbol) at /Users/kimonfountoulakis/.julia/v0.5/MATLAB/src/engine.jl:151",
      " in #matlabCmgSolver#144(::Float64, ::Float64, ::Bool, ::Array{Any,1}, ::Function, ::SparseMatrixCSC{Float64,Int64}, ::Array{Float64,1}) at /Users/kimonfountoulakis/Desktop/Box Sync/University/Berkeley/postdoc/myPapers/Laplacians.jl/src/matlabSolvers.jl:109",
      " in (::#kw##matlabCmgSolver)(::Array{Any,1}, ::#matlabCmgSolver, ::SparseMatrixCSC{Float64,Int64}, ::Array{Float64,1}) at ./<missing>:0",
      " in (::##f#146#148{SparseMatrixCSC{Float64,Int64}})(::Float64, ::Float64, ::Array{Any,1}, ::Function, ::Array{Float64,1}) at /Users/kimonfountoulakis/Desktop/Box Sync/University/Berkeley/postdoc/myPapers/Laplacians.jl/src/matlabSolvers.jl:132",
      " in (::#kw##f#147)(::Array{Any,1}, ::#f#147{Float64,Float64}, ::Array{Float64,1}) at ./<missing>:0",
      " in (::Laplacians.###87#88#90{Int64,#f#147{Float64,Float64}})(::Float64, ::Float64, ::Float64, ::Bool, ::Array{Int64,1}, ::Function, ::Array{Float64,1}) at /Users/kimonfountoulakis/.julia/v0.5/Laplacians/src/solverInterface.jl:125",
      " in ipm_directions_min_cost_flow(::SparseMatrixCSC{Float64,Int64}, ::SparseMatrixCSC{Float64,Int64}, ::Array{Float64,1}, ::Array{Float64,1}, ::Array{Float64,1}, ::Array{Float64,1}, ::Array{Float64,1}, ::Array{Float64,1}, ::Array{Float64,1}, ::Array{Float64,1}, ::Array{Float64,1}, ::Int64, ::Laplacians.##87#89{Float64,Float64,Float64,Bool,Array{Int64,1}}) at /Users/kimonfountoulakis/Desktop/Box Sync/University/Berkeley/postdoc/myPapers/Laplacians.jl/src/min_cost_flow.jl:209",
      " in #min_cost_flow#128(::##149#150, ::Int64, ::Function, ::SparseMatrixCSC{Float64,Int64}, ::Array{Float64,1}, ::Array{Float64,1}, ::Array{Float64,1}) at /Users/kimonfountoulakis/Desktop/Box Sync/University/Berkeley/postdoc/myPapers/Laplacians.jl/src/min_cost_flow.jl:108",
      " in (::#kw##min_cost_flow)(::Array{Any,1}, ::#min_cost_flow, ::SparseMatrixCSC{Float64,Int64}, ::Array{Float64,1}, ::Array{Float64,1}, ::Array{Float64,1}) at ./<missing>:0",
      " in #min_cost_flow#127(::Function, ::Int64, ::Function, ::MCFproblem{Float64,Int64}) at /Users/kimonfountoulakis/Desktop/Box Sync/University/Berkeley/postdoc/myPapers/Laplacians.jl/src/min_cost_flow.jl:24",
      " in (::#kw##min_cost_flow)(::Array{Any,1}, ::#min_cost_flow, ::MCFproblem{Float64,Int64}) at ./<missing>:0"
     ]
    }
   ],
   "source": [
    "@time sol = min_cost_flow(mcfp, lapSolver = (h->matlabCmgLap(h, tol=1e-8)), tol=1)\n",
    "flow = sol[1]"
   ]
  },
  {
   "cell_type": "code",
   "execution_count": 10,
   "metadata": {
    "collapsed": false,
    "deletable": true,
    "editable": true
   },
   "outputs": [
    {
     "name": "stdout",
     "output_type": "stream",
     "text": [
      "Cost: 2.0566500432805237e11\n",
      "Min flow: 1.1533763144431898e-7\n",
      "Min slack: 1.1589416715196421e-7\n",
      "Error on demands: 1.676119310230133\n"
     ]
    }
   ],
   "source": [
    "reportMCFresults(mcfp, flow)"
   ]
  },
  {
   "cell_type": "code",
   "execution_count": null,
   "metadata": {
    "collapsed": false,
    "deletable": true,
    "editable": true
   },
   "outputs": [],
   "source": [
    "a = [1,2,3,4] "
   ]
  },
  {
   "cell_type": "code",
   "execution_count": 229,
   "metadata": {
    "collapsed": false,
    "deletable": true,
    "editable": true
   },
   "outputs": [
    {
     "data": {
      "text/plain": [
       "4-element BitArray{1}:\n",
       " true\n",
       " true\n",
       " true\n",
       " true"
      ]
     },
     "execution_count": 229,
     "metadata": {},
     "output_type": "execute_result"
    }
   ],
   "source": [
    "a .> ones(4)*0.5"
   ]
  },
  {
   "cell_type": "code",
   "execution_count": null,
   "metadata": {
    "collapsed": false
   },
   "outputs": [],
   "source": []
  },
  {
   "cell_type": "code",
   "execution_count": null,
   "metadata": {
    "collapsed": true
   },
   "outputs": [],
   "source": []
  }
 ],
 "metadata": {
  "kernelspec": {
   "display_name": "Julia 0.5.1",
   "language": "julia",
   "name": "julia-0.5"
  },
  "language_info": {
   "file_extension": ".jl",
   "mimetype": "application/julia",
   "name": "julia",
   "version": "0.5.1"
  }
 },
 "nbformat": 4,
 "nbformat_minor": 2
}
