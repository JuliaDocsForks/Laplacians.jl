{
 "cells": [
  {
   "cell_type": "code",
   "execution_count": 1,
   "metadata": {
    "collapsed": true
   },
   "outputs": [],
   "source": [
    "using Laplacians"
   ]
  },
  {
   "cell_type": "code",
   "execution_count": 2,
   "metadata": {
    "collapsed": false
   },
   "outputs": [
    {
     "data": {
      "text/plain": [
       "cutCapacity"
      ]
     },
     "execution_count": 2,
     "metadata": {},
     "output_type": "execute_result"
    }
   ],
   "source": [
    "include(\"/Users/spielman/Laplacians/src/flowUtils.jl\")"
   ]
  },
  {
   "cell_type": "code",
   "execution_count": 3,
   "metadata": {
    "collapsed": false
   },
   "outputs": [
    {
     "data": {
      "text/plain": [
       "makeAdj (generic function with 1 method)"
      ]
     },
     "execution_count": 3,
     "metadata": {},
     "output_type": "execute_result"
    }
   ],
   "source": [
    "include(\"/Users/spielman/Laplacians/src/min_cost_flow.jl\")\n",
    "#include(\"/Users/spielman/Laplacians/src/primalDualIPM.jl\")\n",
    "#include(\"/Users/spielman/Laplacians/src/max_flow_IPM.jl\")"
   ]
  },
  {
   "cell_type": "markdown",
   "metadata": {},
   "source": [
    "We introduce a data type for minimum cost flow problems.\n",
    "It has an edge list, a vector of capacities of edges, a vector of costs, and a vector of demands.\n",
    "We test this with the graph on 4 vertices with source 1 and destination 4.\n",
    "We try to flow 1 unit of flow.  \n",
    "The capacities on all edges are 0.7.\n",
    "The costs on route 1-2-4 are 1, and on route 1-3-4 are 2.\n",
    "So, it should flow most on route 1-2-4, as it does."
   ]
  },
  {
   "cell_type": "code",
   "execution_count": 4,
   "metadata": {
    "collapsed": false,
    "scrolled": true
   },
   "outputs": [
    {
     "data": {
      "text/plain": [
       "MCFproblem{Float64,Int64}([1 2; 2 4; 1 3; 3 4],[0.7,0.7,0.7,0.7],[1.0,1.0,2.0,2.0],[1.0,0.0,0.0,-1.0])"
      ]
     },
     "execution_count": 4,
     "metadata": {},
     "output_type": "execute_result"
    }
   ],
   "source": [
    "edges = [1 2; 2 4; 1 3; 3 4]\n",
    "caps = ones(4)*0.7\n",
    "costs = [1.0; 1; 2 ; 2]\n",
    "dems = [1.0;0;0;-1]\n",
    "\n",
    "mcfp = MCFproblem(edges, caps, costs, dems)"
   ]
  },
  {
   "cell_type": "code",
   "execution_count": 5,
   "metadata": {
    "collapsed": false
   },
   "outputs": [
    {
     "name": "stdout",
     "output_type": "stream",
     "text": [
      "Iteration 1, ||r_p||=0.094281, ||r_d||=4.626043, mu=2.380000\n",
      "Iteration 2, ||r_p||=0.005625, ||r_d||=0.276011, mu=0.160090\n",
      "Iteration 3, ||r_p||=0.000521, ||r_d||=0.025576, mu=0.035827\n",
      "Iteration 4, ||r_p||=0.000005, ||r_d||=0.000256, mu=0.000358\n",
      "Iteration 5, ||r_p||=0.000000, ||r_d||=0.000003, mu=0.000004\n",
      "Iteration 6, ||r_p||=0.000000, ||r_d||=0.000000, mu=0.000000\n",
      "Termination tolerance reached.\n"
     ]
    },
    {
     "data": {
      "text/plain": [
       "4-element Array{Float64,1}:\n",
       " 0.7\n",
       " 0.7\n",
       " 0.3\n",
       " 0.3"
      ]
     },
     "execution_count": 5,
     "metadata": {},
     "output_type": "execute_result"
    }
   ],
   "source": [
    "sol = min_cost_flow(mcfp)\n",
    "flow = sol[1]"
   ]
  },
  {
   "cell_type": "markdown",
   "metadata": {},
   "source": [
    "The following cells compute the costs and check that the demands are satisfied."
   ]
  },
  {
   "cell_type": "code",
   "execution_count": 6,
   "metadata": {
    "collapsed": false
   },
   "outputs": [
    {
     "name": "stdout",
     "output_type": "stream",
     "text": [
      "Cost: 2.599999998893948\n",
      "Min flow: 0.29999999981555786\n",
      "Min slack: 1.8414170188663093e-10\n",
      "Error on demands: 7.371677157586021e-10\n"
     ]
    }
   ],
   "source": [
    "println(\"Cost: \", (mcfp.costs'*flow)[1])\n",
    "println(\"Min flow: \", minimum(flow))\n",
    "println(\"Min slack: \", minimum(mcfp.capacities-flow))\n",
    "\n",
    "edge_list = mcfp.edge_list\n",
    "m = size(edge_list,1)\n",
    "n = maximum(edge_list)\n",
    "B = sparse(collect(1:m), edge_list[:,1], 1.0, m, n) -\n",
    "  sparse(collect(1:m), edge_list[:,2], 1.0, m, n)\n",
    "\n",
    "println(\"Error on demands: \", sum(abs(B'*flow- dems)))"
   ]
  },
  {
   "cell_type": "markdown",
   "metadata": {},
   "source": [
    "Now, let's try computing this using JuMP, an optimization package for Julia."
   ]
  },
  {
   "cell_type": "code",
   "execution_count": 7,
   "metadata": {
    "collapsed": true
   },
   "outputs": [],
   "source": [
    "using JuMP\n",
    "using Clp"
   ]
  },
  {
   "cell_type": "code",
   "execution_count": 8,
   "metadata": {
    "collapsed": false
   },
   "outputs": [
    {
     "data": {
      "text/plain": [
       "MCFjump (generic function with 1 method)"
      ]
     },
     "execution_count": 8,
     "metadata": {},
     "output_type": "execute_result"
    }
   ],
   "source": [
    "function MCFjump(mcfp::MCFproblem)\n",
    "    edge_list = mcfp.edge_list\n",
    "    m = size(edge_list,1)\n",
    "    n = maximum(edge_list)\n",
    "    B = sparse(collect(1:m), edge_list[:,1], 1.0, m, n) -\n",
    "      sparse(collect(1:m), edge_list[:,2], 1.0, m, n)\n",
    " \n",
    "\n",
    "    mod = Model(solver=ClpSolver())\n",
    "    @variable(mod, x[1:m] >= 0)\n",
    "    @constraint(mod, x .<= mcfp.capacities)\n",
    "    @constraint(mod, B'*x .== mcfp.demands)\n",
    "    @objective(mod, Min, (mcfp.costs'*x)[1])\n",
    "    @time status = solve(mod)\n",
    "\n",
    "    f = getvalue(x)\n",
    "    return f\n",
    "    \n",
    "end"
   ]
  },
  {
   "cell_type": "code",
   "execution_count": 9,
   "metadata": {
    "collapsed": false
   },
   "outputs": [
    {
     "name": "stdout",
     "output_type": "stream",
     "text": [
      "  1.275508 seconds (143.88 k allocations: 6.306 MB)\n"
     ]
    },
    {
     "data": {
      "text/plain": [
       "4-element Array{Float64,1}:\n",
       " 0.7\n",
       " 0.7\n",
       " 0.3\n",
       " 0.3"
      ]
     },
     "execution_count": 9,
     "metadata": {},
     "output_type": "execute_result"
    }
   ],
   "source": [
    "f = MCFjump(mcfp)"
   ]
  },
  {
   "cell_type": "markdown",
   "metadata": {},
   "source": [
    "We would like to compare the performance of our code to standard codes on some benchmark examples.  These benchmark examples usually come in the Dimacs format.  \n",
    "In this notebook, we use the example \"goto_8_08a.min\"\n",
    "from <a href=\"http://lime.cs.elte.hu/~kpeter/data/mcf/goto/\">http://lime.cs.elte.hu/~kpeter/data/mcf/goto/</a>."
   ]
  },
  {
   "cell_type": "code",
   "execution_count": 10,
   "metadata": {
    "collapsed": false
   },
   "outputs": [
    {
     "data": {
      "text/plain": [
       "MCFproblem{Float64,Int64}([1 2; 1 3; … ; 180 216; 216 252],[8642.0,741.0,453.0,62.0,341.0,1029.0,2640.0,1762.0,155.0,31.0  …  55614.0,55614.0,55614.0,55614.0,55614.0,55614.0,55614.0,55614.0,55614.0,55614.0],[28.0,714.0,451.0,822.0,0.0,7.0,518.0,29.0,298.0,973.0  …  142.0,142.0,142.0,142.0,142.0,142.0,142.0,142.0,142.0,142.0],[55614.0,0.0,0.0,0.0,0.0,0.0,0.0,0.0,0.0,0.0  …  0.0,0.0,0.0,0.0,0.0,-55614.0,0.0,0.0,0.0,0.0])"
      ]
     },
     "execution_count": 10,
     "metadata": {},
     "output_type": "execute_result"
    }
   ],
   "source": [
    "mcfp = readDimacsMCF(\"/Users/spielman/tmp/goto_8_08a.min\")"
   ]
  },
  {
   "cell_type": "markdown",
   "metadata": {},
   "source": [
    "To run our code on this problem, we need to set a higher tolerance than we usually do.\n",
    "You will see in a moment that the code generates errors if we do not do this."
   ]
  },
  {
   "cell_type": "code",
   "execution_count": 11,
   "metadata": {
    "collapsed": false
   },
   "outputs": [
    {
     "name": "stdout",
     "output_type": "stream",
     "text": [
      "Iteration 1, ||r_p||=82578.653557, ||r_d||=1092356.429364, mu=629220336.199898\n",
      "Iteration 2, ||r_p||=82564.840913, ||r_d||=1092173.714707, mu=629298827.556181\n",
      "Iteration 3, ||r_p||=82535.269542, ||r_d||=1091782.542463, mu=629463964.755363\n",
      "Iteration 4, ||r_p||=82436.875911, ||r_d||=1090480.984355, mu=629993065.063792\n",
      "Iteration 5, ||r_p||=82134.463833, ||r_d||=1086480.655419, mu=631435849.981872\n",
      "Iteration 6, ||r_p||=81100.918447, ||r_d||=1072808.841952, mu=635028176.950339\n",
      "Iteration 7, ||r_p||=77271.165564, ||r_d||=1022148.592548, mu=640629738.277029\n",
      "Iteration 8, ||r_p||=61444.298970, ||r_d||=812789.651283, mu=625107449.020031\n",
      "Iteration 9, ||r_p||=24622.141586, ||r_d||=325703.477930, mu=426319487.000265\n",
      "Iteration 10, ||r_p||=10954.931848, ||r_d||=144912.634461, mu=288125231.809748\n",
      "Iteration 11, ||r_p||=912.478442, ||r_d||=12070.331131, mu=28295686.973661\n",
      "Iteration 12, ||r_p||=72.245337, ||r_d||=955.666571, mu=2616627.991457\n",
      "Iteration 13, ||r_p||=34.953746, ||r_d||=462.370698, mu=2395909.663421\n",
      "Iteration 14, ||r_p||=6.174839, ||r_d||=81.681220, mu=590877.374760\n",
      "Iteration 15, ||r_p||=2.585069, ||r_d||=34.195486, mu=373442.481058\n",
      "Iteration 16, ||r_p||=0.919764, ||r_d||=12.166707, mu=177165.471218\n",
      "Iteration 17, ||r_p||=0.360109, ||r_d||=4.763544, mu=98920.032048\n",
      "Iteration 18, ||r_p||=0.063465, ||r_d||=0.839517, mu=40389.850668\n",
      "Iteration 19, ||r_p||=0.012895, ||r_d||=0.170577, mu=30102.663294\n",
      "Iteration 20, ||r_p||=0.003601, ||r_d||=0.047632, mu=12866.476651\n",
      "Iteration 21, ||r_p||=0.000940, ||r_d||=0.012438, mu=7665.260370\n",
      "Iteration 22, ||r_p||=0.000009, ||r_d||=0.000124, mu=3446.309024\n",
      "Iteration 23, ||r_p||=0.000000, ||r_d||=0.000001, mu=1163.527756\n",
      "Iteration 24, ||r_p||=0.000000, ||r_d||=0.000000, mu=222.459035\n",
      "Iteration 25, ||r_p||=0.000003, ||r_d||=0.000000, mu=235.210550\n",
      "Iteration 26, ||r_p||=0.000000, ||r_d||=0.000000, mu=165.753705\n",
      "Iteration 27, ||r_p||=0.000001, ||r_d||=0.000000, mu=79.176698\n",
      "Iteration 28, ||r_p||=0.000001, ||r_d||=0.000000, mu=11.112824\n",
      "Iteration 29, ||r_p||=0.000000, ||r_d||=0.000000, mu=0.426760\n",
      "Iteration 30, ||r_p||=0.000000, ||r_d||=0.000000, mu=0.004269\n",
      "Termination tolerance reached.\n",
      "Cost: 5.608705428088815e8\n",
      "Min flow: 1.0653496881456994e-7\n",
      "Min slack: 1.1260060261975013e-7\n",
      "Error on demands: 3.8041835642450314e-7\n"
     ]
    }
   ],
   "source": [
    "sol = min_cost_flow(mcfp, tol=1e-2)\n",
    "flow = sol[1]\n",
    "\n",
    "println(\"Cost: \", (mcfp.costs'*flow)[1])\n",
    "println(\"Min flow: \", minimum(flow))\n",
    "println(\"Min slack: \", minimum(mcfp.capacities-flow))\n",
    "\n",
    "edge_list = mcfp.edge_list\n",
    "m = size(edge_list,1)\n",
    "n = maximum(edge_list)\n",
    "B = sparse(collect(1:m), edge_list[:,1], 1.0, m, n) -\n",
    "  sparse(collect(1:m), edge_list[:,2], 1.0, m, n)\n",
    "\n",
    "println(\"Error on demands: \", sum(abs(B'*flow- mcfp.demands)))"
   ]
  },
  {
   "cell_type": "code",
   "execution_count": 12,
   "metadata": {
    "collapsed": false
   },
   "outputs": [
    {
     "name": "stdout",
     "output_type": "stream",
     "text": [
      "Iteration 1, ||r_p||=82578.653557, ||r_d||=1092356.429364, mu=629220336.199898\n",
      "Iteration 2, ||r_p||=82564.840913, ||r_d||=1092173.714707, mu=629298827.556181\n",
      "Iteration 3, ||r_p||=82535.269542, ||r_d||=1091782.542463, mu=629463964.755363\n",
      "Iteration 4, ||r_p||=82436.875911, ||r_d||=1090480.984355, mu=629993065.063792\n",
      "Iteration 5, ||r_p||=82134.463833, ||r_d||=1086480.655419, mu=631435849.981872\n",
      "Iteration 6, ||r_p||=81100.918447, ||r_d||=1072808.841952, mu=635028176.950339\n",
      "Iteration 7, ||r_p||=77271.165564, ||r_d||=1022148.592548, mu=640629738.277029\n",
      "Iteration 8, ||r_p||=61444.298970, ||r_d||=812789.651283, mu=625107449.020031\n",
      "Iteration 9, ||r_p||=24622.141586, ||r_d||=325703.477930, mu=426319487.000265\n",
      "Iteration 10, ||r_p||=10954.931848, ||r_d||=144912.634461, mu=288125231.809748\n",
      "Iteration 11, ||r_p||=912.478442, ||r_d||=12070.331131, mu=28295686.973661\n",
      "Iteration 12, ||r_p||=72.245337, ||r_d||=955.666571, mu=2616627.991457\n",
      "Iteration 13, ||r_p||=34.953746, ||r_d||=462.370698, mu=2395909.663421\n",
      "Iteration 14, ||r_p||=6.174839, ||r_d||=81.681220, mu=590877.374760\n",
      "Iteration 15, ||r_p||=2.585069, ||r_d||=34.195486, mu=373442.481058\n",
      "Iteration 16, ||r_p||=0.919764, ||r_d||=12.166707, mu=177165.471218\n",
      "Iteration 17, ||r_p||=0.360109, ||r_d||=4.763544, mu=98920.032048\n",
      "Iteration 18, ||r_p||=0.063465, ||r_d||=0.839517, mu=40389.850668\n",
      "Iteration 19, ||r_p||=0.012895, ||r_d||=0.170577, mu=30102.663294\n",
      "Iteration 20, ||r_p||=0.003601, ||r_d||=0.047632, mu=12866.476651\n",
      "Iteration 21, ||r_p||=0.000940, ||r_d||=0.012438, mu=7665.260370\n",
      "Iteration 22, ||r_p||=0.000009, ||r_d||=0.000124, mu=3446.309024\n",
      "Iteration 23, ||r_p||=0.000000, ||r_d||=0.000001, mu=1163.527756\n",
      "Iteration 24, ||r_p||=0.000000, ||r_d||=0.000000, mu=222.459035\n",
      "Iteration 25, ||r_p||=0.000003, ||r_d||=0.000000, mu=235.210550\n",
      "Iteration 26, ||r_p||=0.000000, ||r_d||=0.000000, mu=165.753705\n",
      "Iteration 27, ||r_p||=0.000001, ||r_d||=0.000000, mu=79.176698\n",
      "Iteration 28, ||r_p||=0.000001, ||r_d||=0.000000, mu=11.112824\n",
      "Iteration 29, ||r_p||=0.000000, ||r_d||=0.000000, mu=0.426760\n",
      "Iteration 30, ||r_p||=0.000000, ||r_d||=0.000000, mu=0.004269\n"
     ]
    },
    {
     "ename": "LoadError",
     "evalue": "Base.LinAlg.PosDefException(254)",
     "output_type": "error",
     "traceback": [
      "Base.LinAlg.PosDefException(254)",
      "",
      " in #cholfact!#6(::Float64, ::Function, ::Base.SparseArrays.CHOLMOD.Factor{Float64}, ::Base.SparseArrays.CHOLMOD.Sparse{Float64}) at ./sparse/cholmod.jl:1280",
      " in (::Base.LinAlg.#kw##cholfact!)(::Array{Any,1}, ::Base.LinAlg.#cholfact!, ::Base.SparseArrays.CHOLMOD.Factor{Float64}, ::Base.SparseArrays.CHOLMOD.Sparse{Float64}) at ./<missing>:0",
      " in #cholfact#8(::Float64, ::Array{Int64,1}, ::Function, ::Base.SparseArrays.CHOLMOD.Sparse{Float64}) at ./sparse/cholmod.jl:1316",
      " in #cholfact#9(::Array{Any,1}, ::Function, ::SparseMatrixCSC{Float64,Int64}) at ./sparse/cholmod.jl:1355",
      " in #wrapInterface#78(::Int64, ::Float64, ::Float64, ::Bool, ::Array{Int64,1}, ::Array{Any,1}, ::Function, ::Base.LinAlg.#cholfact, ::SparseMatrixCSC{Float64,Int64}) at /Applications/JuliaPro-0.5.1.1.app/Contents/Resources/pkgs-0.5.1.1/v0.5/Laplacians/src/solverInterface.jl:36",
      " in (::Laplacians.#kw##wrapInterface)(::Array{Any,1}, ::Laplacians.#wrapInterface, ::Function, ::SparseMatrixCSC{Float64,Int64}) at ./<missing>:0",
      " in (::Laplacians.###83#84#86{Base.LinAlg.#cholfact})(::Float64, ::Float64, ::Float64, ::Bool, ::Array{Int64,1}, ::Array{Any,1}, ::Function, ::SparseMatrixCSC{Float64,Int64}) at /Applications/JuliaPro-0.5.1.1.app/Contents/Resources/pkgs-0.5.1.1/v0.5/Laplacians/src/solverInterface.jl:64",
      " in (::Laplacians.#kw###83#85)(::Array{Any,1}, ::Laplacians.##83#85, ::SparseMatrixCSC{Float64,Int64}) at ./<missing>:0",
      " in #lapWrapConnected#87(::Float64, ::Float64, ::Float64, ::Bool, ::Array{Int64,1}, ::Array{Any,1}, ::Function, ::Function, ::SparseMatrixCSC{Float64,Int64}) at /Applications/JuliaPro-0.5.1.1.app/Contents/Resources/pkgs-0.5.1.1/v0.5/Laplacians/src/solverInterface.jl:113",
      " in (::Laplacians.#kw##lapWrapConnected)(::Array{Any,1}, ::Laplacians.#lapWrapConnected, ::Function, ::SparseMatrixCSC{Float64,Int64}) at ./<missing>:0",
      " in (::Laplacians.##f#92#94{Laplacians.##83#85})(::Float64, ::Float64, ::Float64, ::Bool, ::Array{Int64,1}, ::Array{Any,1}, ::Function, ::SparseMatrixCSC{Float64,Int64}) at /Applications/JuliaPro-0.5.1.1.app/Contents/Resources/pkgs-0.5.1.1/v0.5/Laplacians/src/solverInterface.jl:137",
      " in (::Laplacians.#kw##f#93)(::Array{Any,1}, ::Laplacians.#f#93, ::SparseMatrixCSC{Float64,Int64}) at ./<missing>:0",
      " in #lapWrapComponents#100(::Float64, ::Float64, ::Float64, ::Bool, ::Array{Int64,1}, ::Array{Any,1}, ::Function, ::Function, ::SparseMatrixCSC{Float64,Int64}) at /Applications/JuliaPro-0.5.1.1.app/Contents/Resources/pkgs-0.5.1.1/v0.5/Laplacians/src/solverInterface.jl:194",
      " in (::Laplacians.#kw##lapWrapComponents)(::Array{Any,1}, ::Laplacians.#lapWrapComponents, ::Function, ::SparseMatrixCSC{Float64,Int64}) at ./<missing>:0",
      " in (::Laplacians.##f#103#105{Laplacians.#f#93})(::Float64, ::Float64, ::Float64, ::Bool, ::Array{Int64,1}, ::Array{Any,1}, ::Function, ::SparseMatrixCSC{Float64,Int64}) at /Applications/JuliaPro-0.5.1.1.app/Contents/Resources/pkgs-0.5.1.1/v0.5/Laplacians/src/solverInterface.jl:237",
      " in #ipm_directions_min_cost_flow#5(::Laplacians.#f#104, ::Function, ::SparseMatrixCSC{Float64,Int64}, ::Array{Float64,1}, ::Array{Float64,1}, ::Array{Float64,1}, ::Array{Float64,1}, ::Array{Float64,1}, ::Array{Float64,1}, ::Array{Float64,1}, ::Array{Float64,1}, ::Int64) at /Users/spielman/Laplacians/src/min_cost_flow.jl:159",
      " in (::#kw##ipm_directions_min_cost_flow)(::Array{Any,1}, ::#ipm_directions_min_cost_flow, ::SparseMatrixCSC{Float64,Int64}, ::Array{Float64,1}, ::Array{Float64,1}, ::Array{Float64,1}, ::Array{Float64,1}, ::Array{Float64,1}, ::Array{Float64,1}, ::Array{Float64,1}, ::Array{Float64,1}, ::Int64) at ./<missing>:0",
      " in #min_cost_flow#4(::Function, ::Float64, ::Function, ::SparseMatrixCSC{Float64,Int64}, ::Array{Float64,1}, ::Array{Float64,1}, ::Array{Float64,1}) at /Users/spielman/Laplacians/src/min_cost_flow.jl:98",
      " in (::#kw##min_cost_flow)(::Array{Any,1}, ::#min_cost_flow, ::SparseMatrixCSC{Float64,Int64}, ::Array{Float64,1}, ::Array{Float64,1}, ::Array{Float64,1}) at ./<missing>:0",
      " in #min_cost_flow#3(::Function, ::Float64, ::Function, ::MCFproblem{Float64,Int64}) at /Users/spielman/Laplacians/src/min_cost_flow.jl:24",
      " in (::#kw##min_cost_flow)(::Array{Any,1}, ::#min_cost_flow, ::MCFproblem{Float64,Int64}) at ./<missing>:0"
     ]
    }
   ],
   "source": [
    "sol = min_cost_flow(mcfp, tol=1e-6)"
   ]
  },
  {
   "cell_type": "markdown",
   "metadata": {},
   "source": [
    "As a sanity check, we compare the results from MCFjump."
   ]
  },
  {
   "cell_type": "code",
   "execution_count": 13,
   "metadata": {
    "collapsed": false
   },
   "outputs": [
    {
     "name": "stdout",
     "output_type": "stream",
     "text": [
      "  0.016440 seconds (104 allocations: 674.000 KB)\n"
     ]
    },
    {
     "data": {
      "text/plain": [
       "1-element Array{Float64,1}:\n",
       " 5.60871e8"
      ]
     },
     "execution_count": 13,
     "metadata": {},
     "output_type": "execute_result"
    }
   ],
   "source": [
    "f = MCFjump(mcfp)\n",
    "mcfp.costs'*f"
   ]
  },
  {
   "cell_type": "markdown",
   "metadata": {},
   "source": [
    "This is very similar.  But, JuMP computed a flow of a slightly lower cost.\n",
    "This should not be surprising, because we haven't figured out exactly what tol we want.\n",
    "It might help to know that all the numbers in the Dimacs problems are integers."
   ]
  },
  {
   "cell_type": "code",
   "execution_count": 14,
   "metadata": {
    "collapsed": false
   },
   "outputs": [
    {
     "data": {
      "text/plain": [
       "1-element Array{Float64,1}:\n",
       " -3.80888"
      ]
     },
     "execution_count": 14,
     "metadata": {},
     "output_type": "execute_result"
    }
   ],
   "source": [
    "mcfp.costs'*f - mcfp.costs'*flow"
   ]
  },
  {
   "cell_type": "markdown",
   "metadata": {},
   "source": [
    "For comparison, we should also try the code from \"Lemon\", available at\n",
    "\n",
    "<a href=\"http://lemon.cs.elte.hu/trac/lemon\">http://lemon.cs.elte.hu/trac/lemon</a>\n",
    "\n",
    "It was easy to install on my Mac (I just needed cmake, which I got by `brew install cmake`)"
   ]
  },
  {
   "cell_type": "markdown",
   "metadata": {},
   "source": [
    "Here is a transcript of running it:\n",
    "\n",
    "```\n",
    "Dans17:tools spielman$ ./dimacs-solver ~/tmp/goto_8_08a.min \n",
    "Problem type: min\n",
    "Num of nodes: 256\n",
    "Num of arcs:  2048\n",
    "\n",
    "Sum of supply values: 0\n",
    "GEQ supply contraints are used for NetworkSimplex\n",
    "\n",
    "Read the file: u: 0s, s: 0s, cu: 0s, cs: 0s, real: 0.00467205s\n",
    "Setup NetworkSimplex class: u: 0s, s: 0s, cu: 0s, cs: 0s, real: 7.70092e-05s\n",
    "Run NetworkSimplex: u: 0s, s: 0s, cu: 0s, cs: 0s, real: 0.00143886s\n",
    "\n",
    "Feasible flow: found\n",
    "Min flow cost: 560870539\n",
    "```"
   ]
  },
  {
   "cell_type": "code",
   "execution_count": null,
   "metadata": {
    "collapsed": true
   },
   "outputs": [],
   "source": []
  }
 ],
 "metadata": {
  "kernelspec": {
   "display_name": "Julia 0.5.1",
   "language": "julia",
   "name": "julia-0.5"
  },
  "language_info": {
   "file_extension": ".jl",
   "mimetype": "application/julia",
   "name": "julia",
   "version": "0.5.1"
  }
 },
 "nbformat": 4,
 "nbformat_minor": 2
}
