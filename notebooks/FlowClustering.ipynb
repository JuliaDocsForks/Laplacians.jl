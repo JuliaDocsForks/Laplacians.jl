{
 "cells": [
  {
   "cell_type": "code",
   "execution_count": 1,
   "metadata": {
    "collapsed": false
   },
   "outputs": [
    {
     "data": {
      "text/plain": [
       "refineCut (generic function with 1 method)"
      ]
     },
     "execution_count": 1,
     "metadata": {},
     "output_type": "execute_result"
    }
   ],
   "source": [
    "using Laplacians\n",
    "using DataStructures\n",
    "include(\"../src/cutPageRank.jl\")\n",
    "include(\"../src/flowClustering.jl\")\n",
    "include(\"../src/cutHeuristics.jl\")"
   ]
  },
  {
   "cell_type": "code",
   "execution_count": null,
   "metadata": {
    "collapsed": false
   },
   "outputs": [
    {
     "name": "stdout",
     "output_type": "stream",
     "text": [
      "Test 1\n",
      "0.25 0.0 improvement(epsig = 0.010609296685529507) = 100.0% initial set size = 26 improved set size = 2500\n",
      "*************************\n",
      "Test 2\n",
      "0.19469026548672566 0.006211180124223602 improvement(epsig = 0.015744469057178457) = 96.80971202710333% initial set size = 35 improved set size = 54\n",
      "*************************\n",
      "Test 3\n",
      "0.1794871794871795 0.019801980198019802 improvement(epsig = 0.009799079830887838) = 88.96746817538897% initial set size = 23 improved set size = 125\n",
      "*************************\n",
      "Test 4\n",
      "0.19696969696969696 0.0026109660574412533 improvement(epsig = 0.018025040738728952) = 98.67443261699135% initial set size = 56 improved set size = 831\n",
      "*************************\n",
      "Test 5\n",
      "0.14285714285714285 0.029411764705882353 improvement(epsig = 0.004584304932735426) = 79.41176470588235% initial set size = 14 improved set size = 22\n",
      "*************************\n",
      "Test 6\n",
      "0.19550561797752808 0.03187250996015936 improvement(epsig = 0.028919376983356) = 83.69739433072309% initial set size = 147 improved set size = 324\n",
      "*************************\n"
     ]
    }
   ],
   "source": [
    "function condTest()\n",
    "    a = chimera(2500);\n",
    "    s = prn(a, [1,2,3], 0.2, 5);\n",
    "    if length(s) == 0\n",
    "        return\n",
    "    end\n",
    "    \n",
    "    # construct the vector of test EpsSigma values\n",
    "    minEpsSigma = getVolume(a, s) / getVolume(a, setdiff(collect(1:max(a.n, a.m)), s))\n",
    "    aux = [minEpsSigma + 0.0001, minEpsSigma + 0.02, 0.05, 0.1, 0.2, 0.4, 1.0, 2.0, 4.0, 10.0, 30.0]\n",
    "    epsSigma = []\n",
    "    for eS in aux\n",
    "        if eS > minEpsSigma\n",
    "            push!(epsSigma, eS)\n",
    "        end\n",
    "    end\n",
    "    sort!(epsSigma)\n",
    "    \n",
    "    # do the testing\n",
    "    for eS in epsSigma\n",
    "        cut, flow = localImprove(a, s, epsSigma = eS)\n",
    "       \n",
    "        conds = compConductance(a, s)\n",
    "        condcut = compConductance(a, cut)\n",
    "        \n",
    "        if eS == minEpsSigma + 0.0001\n",
    "            println(conds, \" \", condcut, \" improvement(epsig = \", eS,\") = \", 100 * (conds - condcut) / conds, \"%\", \" initial set size = \", length(s), \" improved set size = \", length(cut))\n",
    "        end\n",
    "        if (conds < condcut)\n",
    "            for iter in 1:100\n",
    "                println(\"@@@@@@@@@@@@@@@@@@@@\")\n",
    "            end\n",
    "            println(conds, \" \", condcut, \" improvement(epsig = \", eS,\") = \", 100 * (conds - condcut) / conds, \"%\", \" initial set size = \", length(s), \" improved set size = \", length(cut))\n",
    "            println(a)\n",
    "            println(s)\n",
    "        end\n",
    "    end\n",
    "end\n",
    "\n",
    "for i in 1:10000\n",
    "    println(\"Test \", i)\n",
    "    condTest()\n",
    "    println(\"*************************\")\n",
    "end"
   ]
  },
  {
   "cell_type": "code",
   "execution_count": null,
   "metadata": {
    "collapsed": true
   },
   "outputs": [],
   "source": []
  },
  {
   "cell_type": "code",
   "execution_count": null,
   "metadata": {
    "collapsed": false
   },
   "outputs": [],
   "source": [
    "a = chimera(500);\n",
    "@time x, y = spectralCoords(a);"
   ]
  },
  {
   "cell_type": "code",
   "execution_count": null,
   "metadata": {
    "collapsed": false
   },
   "outputs": [],
   "source": [
    "include(\"../src/cutPageRank.jl\")\n",
    "@time s = prn(a, [100,101,102], 0.2, 4);\n",
    "plotGraph(a,x,y,[0,0,1])\n",
    "plotGraph(a[s,s],x[s],y[s],[1,0,0],setaxis=false)"
   ]
  },
  {
   "cell_type": "code",
   "execution_count": null,
   "metadata": {
    "collapsed": false
   },
   "outputs": [],
   "source": [
    "include(\"../src/flowClustering.jl\")\n",
    "epsSigma = 10.0\n",
    "\n",
    "@time cut, flow = localImprove(a, s, epsSigma)\n",
    "\n",
    "println(compConductance(a, s))\n",
    "println(compConductance(a, cut))\n",
    "\n",
    "plotGraph(a,x,y,[0,0,1])\n",
    "plotGraph(a[cut,cut],x[cut],y[cut],[1,0,0],setaxis=false)"
   ]
  },
  {
   "cell_type": "code",
   "execution_count": null,
   "metadata": {
    "collapsed": false
   },
   "outputs": [],
   "source": []
  },
  {
   "cell_type": "code",
   "execution_count": null,
   "metadata": {
    "collapsed": true
   },
   "outputs": [],
   "source": []
  }
 ],
 "metadata": {
  "kernelspec": {
   "display_name": "Julia 0.4.0",
   "language": "julia",
   "name": "julia-0.4"
  },
  "language_info": {
   "file_extension": ".jl",
   "mimetype": "application/julia",
   "name": "julia",
   "version": "0.4.0"
  }
 },
 "nbformat": 4,
 "nbformat_minor": 0
}
