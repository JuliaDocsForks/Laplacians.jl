{
 "cells": [
  {
   "cell_type": "code",
   "execution_count": null,
   "metadata": {
    "collapsed": false
   },
   "outputs": [],
   "source": [
    "using Laplacians\n",
    "using DataStructures\n",
    "include(\"../src/localClustering.jl\")\n",
    "include(\"../src/cutHeuristics.jl\")"
   ]
  },
  {
   "cell_type": "code",
   "execution_count": null,
   "metadata": {
    "collapsed": false
   },
   "outputs": [],
   "source": [
    "function condTest(minSize)\n",
    "    a = chimera(2500)\n",
    "    s = prn_local(a, [1,2,3], 0.2, 5);\n",
    "    conds = compConductance(a, s)\n",
    "    if length(s) < minSize\n",
    "        return -1,0,0,0\n",
    "    end\n",
    "    \n",
    "    minEpsSigma = getVolume(a, s) / getVolume(a, setdiff(collect(1:max(a.n, a.m)), s))\n",
    "    @time cut, flow = localImprove(a, s, epsSigma = minEpsSigma)\n",
    "    condcut = compConductance(a, cut)\n",
    "    \n",
    "    heur_refcut = refineCut(a, s)\n",
    "    condref = compConductance(a, heur_refcut)\n",
    "    \n",
    "    heur_dumb = dumb(a, s)\n",
    "    conddumb = compConductance(a, heur_dumb)\n",
    "    \n",
    "    println(conds, \" with \", length(s), \" vertices\")\n",
    "    println(condcut, \" with \", length(cut), \" vertices. improvement = \", (conds - condcut) / conds * 100, \" <- flow\")\n",
    "    println(condref, \" with \", length(heur_refcut), \" vertices. improvement = \", (conds - condref) / conds * 100)\n",
    "    println(conddumb, \" with \", length(heur_dumb), \" vertices. improvement = \", (conds - conddumb) / conds * 100)\n",
    "    println(\"*********\")\n",
    "    \n",
    "    \n",
    "    return conds, condcut, condref, conddumb\n",
    "end\n",
    "\n",
    "initial = []\n",
    "flowbased = []\n",
    "heurbased = []\n",
    "dumbbased = []\n",
    "\n",
    "for i in 1:300\n",
    "    println(\"Test \", i)\n",
    "    \n",
    "    x,y,z,t = condTest(30)\n",
    "    if x == -1\n",
    "        continue\n",
    "    end\n",
    "    \n",
    "    push!(initial, x)\n",
    "    push!(flowbased, y)\n",
    "    push!(heurbased, z)\n",
    "    push!(dumbbased, t)\n",
    "end"
   ]
  },
  {
   "cell_type": "code",
   "execution_count": null,
   "metadata": {
    "collapsed": false
   },
   "outputs": [],
   "source": [
    "println(mean(initial), \" \", median(initial))\n",
    "println(mean(flowbased), \" \", median(flowbased))\n",
    "println(mean(heurbased), \" \", median(heurbased))\n",
    "println(mean(dumbbased), \" \", median(dumbbased))"
   ]
  }
 ],
 "metadata": {
  "kernelspec": {
   "display_name": "Julia 0.4.0",
   "language": "julia",
   "name": "julia-0.4"
  },
  "language_info": {
   "file_extension": ".jl",
   "mimetype": "application/julia",
   "name": "julia",
   "version": "0.4.0"
  }
 },
 "nbformat": 4,
 "nbformat_minor": 0
}
