{
 "cells": [
  {
   "cell_type": "code",
   "execution_count": 7,
   "metadata": {
    "collapsed": false
   },
   "outputs": [
    {
     "data": {
      "text/plain": [
       "dumb (generic function with 1 method)"
      ]
     },
     "execution_count": 7,
     "metadata": {},
     "output_type": "execute_result"
    }
   ],
   "source": [
    "using Laplacians\n",
    "using DataStructures\n",
    "include(\"../src/cutPageRank.jl\")\n",
    "include(\"../src/flowClustering.jl\")\n",
    "include(\"../src/cutHeuristics.jl\")"
   ]
  },
  {
   "cell_type": "code",
   "execution_count": null,
   "metadata": {
    "collapsed": false
   },
   "outputs": [
    {
     "name": "stdout",
     "output_type": "stream",
     "text": [
      "Test 1\n",
      "0.19137466307277629 with 86 vertices\n",
      "0.0064516129032258064 with 155 vertices. improvement = 96.62880508859611 <- flow\n",
      "0.10222222222222223 with 109 vertices. improvement = 46.58528951486698\n",
      "0.07151370679380215 with 205 vertices. improvement = 62.631570111970994\n",
      "*********\n",
      "Test 2\n",
      "Test 3"
     ]
    }
   ],
   "source": [
    "function condTest()\n",
    "    a = chimera(2500)\n",
    "    s = prn(a, [1,2,3], 0.2, 5);\n",
    "    conds = compConductance(a, s)\n",
    "    if length(s) < 30\n",
    "        return -1,0,0,0\n",
    "    end\n",
    "    \n",
    "    minEpsSigma = getVolume(a, s) / getVolume(a, setdiff(collect(1:max(a.n, a.m)), s))\n",
    "    cut, flow = localImprove(a, s, epsSigma = minEpsSigma)\n",
    "    condcut = compConductance(a, cut)\n",
    "    \n",
    "    heur_refcut = refineCut(a, s)\n",
    "    condref = compConductance(a, heur_refcut)\n",
    "    \n",
    "    heur_dumb = dumb(a, s)\n",
    "    conddumb = compConductance(a, heur_dumb)\n",
    "    \n",
    "    println(conds, \" with \", length(s), \" vertices\")\n",
    "    println(condcut, \" with \", length(cut), \" vertices. improvement = \", (conds - condcut) / conds * 100, \" <- flow\")\n",
    "    println(condref, \" with \", length(heur_refcut), \" vertices. improvement = \", (conds - condref) / conds * 100)\n",
    "    println(conddumb, \" with \", length(heur_dumb), \" vertices. improvement = \", (conds - conddumb) / conds * 100)\n",
    "    println(\"*********\")\n",
    "    \n",
    "    \n",
    "    return conds, condcut, condref, conddumb\n",
    "end\n",
    "\n",
    "initial = []\n",
    "flowbased = []\n",
    "heurbased = []\n",
    "dumbbased = []\n",
    "\n",
    "for i in 1:300\n",
    "    println(\"Test \", i)\n",
    "    \n",
    "    x,y,z,t = condTest()\n",
    "    if x == -1\n",
    "        continue\n",
    "    end\n",
    "    \n",
    "    push!(initial, x)\n",
    "    push!(flowbased, y)\n",
    "    push!(heurbased, z)\n",
    "    push!(dumbbased, t)\n",
    "end"
   ]
  },
  {
   "cell_type": "code",
   "execution_count": 4,
   "metadata": {
    "collapsed": false
   },
   "outputs": [
    {
     "name": "stdout",
     "output_type": "stream",
     "text": [
      "0.17779807409138323 0.1891891891891892\n",
      "0.0625237525362409 0.03851851851851852\n",
      "0.15191694488648882 0.16543843977966355\n",
      "0.11534092824471844 0.12689914441275602\n"
     ]
    }
   ],
   "source": [
    "println(mean(initial), \" \", median(initial))\n",
    "println(mean(flowbased), \" \", median(flowbased))\n",
    "println(mean(heurbased), \" \", median(heurbased))\n",
    "println(mean(dumbbased), \" \", median(dumbbased))"
   ]
  },
  {
   "cell_type": "code",
   "execution_count": null,
   "metadata": {
    "collapsed": true
   },
   "outputs": [],
   "source": []
  },
  {
   "cell_type": "code",
   "execution_count": null,
   "metadata": {
    "collapsed": true
   },
   "outputs": [],
   "source": []
  },
  {
   "cell_type": "code",
   "execution_count": null,
   "metadata": {
    "collapsed": true
   },
   "outputs": [],
   "source": []
  },
  {
   "cell_type": "code",
   "execution_count": null,
   "metadata": {
    "collapsed": false
   },
   "outputs": [],
   "source": [
    "function condTest()\n",
    "    a = chimera(100);\n",
    "    s = prn(a, [1,2,3], 0.2, 5);\n",
    "    if length(s) == 0\n",
    "        return\n",
    "    end\n",
    "    \n",
    "    # construct the vector of test EpsSigma values\n",
    "    minEpsSigma = getVolume(a, s) / getVolume(a, setdiff(collect(1:max(a.n, a.m)), s))\n",
    "    aux = [minEpsSigma + 0.0001, minEpsSigma + 0.02, 0.05, 0.1, 0.2, 0.4, 1.0, 2.0, 4.0, 10.0, 30.0]\n",
    "    epsSigma = []\n",
    "    for eS in aux\n",
    "        if eS > minEpsSigma\n",
    "            push!(epsSigma, eS)\n",
    "        end\n",
    "    end\n",
    "    sort!(epsSigma)\n",
    "    \n",
    "    refcut = refineCut(a, s)\n",
    "    condref = compConductance(a, refcut)\n",
    "    \n",
    "    # do the testing\n",
    "    for eS in epsSigma\n",
    "        cut, flow = localImprove(a, s, epsSigma = eS)\n",
    "       \n",
    "        conds = compConductance(a, s)\n",
    "        condcut = compConductance(a, cut)\n",
    "        \n",
    "        if eS == minEpsSigma + 0.0001\n",
    "#             println(conds, \" \", condcut, \" improvement(epsig = \", eS,\") = \", 100 * (conds - condcut) / conds, \"%\", \" initial set size = \", length(s), \" improved set size = \", length(cut))\n",
    "#             println(conds, \" \", condref, \" improvement = \", 100 * (conds - condref) / conds, \"%\", \" initial set size = \", length(s), \" improved set size = \", length(refcut))\n",
    "#             println(\"!!!!\")\n",
    "        end\n",
    "        if (conds < condcut)\n",
    "            for iter in 1:100\n",
    "                println(\"@@@@@@@@@@@@@@@@@@@@\")\n",
    "            end\n",
    "            println(conds, \" \", condcut, \" improvement(epsig = \", eS,\") = \", 100 * (conds - condcut) / conds, \"%\", \" initial set size = \", length(s), \" improved set size = \", length(cut))\n",
    "            println(a)\n",
    "            println(s)\n",
    "        end\n",
    "    end\n",
    "end\n",
    "\n",
    "for i in 1:10000\n",
    "    if i % 100 == 1\n",
    "        println(\"Test \", i)\n",
    "    end\n",
    "#     println(\"Test \", i)\n",
    "    condTest()\n",
    "#     println(\"*************************\")\n",
    "end"
   ]
  },
  {
   "cell_type": "code",
   "execution_count": null,
   "metadata": {
    "collapsed": true
   },
   "outputs": [],
   "source": []
  },
  {
   "cell_type": "code",
   "execution_count": null,
   "metadata": {
    "collapsed": false
   },
   "outputs": [],
   "source": [
    "a = chimera(500);\n",
    "@time x, y = spectralCoords(a);"
   ]
  },
  {
   "cell_type": "code",
   "execution_count": null,
   "metadata": {
    "collapsed": false
   },
   "outputs": [],
   "source": [
    "include(\"../src/cutPageRank.jl\")\n",
    "@time s = prn(a, [100,101,102], 0.2, 4);\n",
    "plotGraph(a,x,y,[0,0,1])\n",
    "plotGraph(a[s,s],x[s],y[s],[1,0,0],setaxis=false)"
   ]
  },
  {
   "cell_type": "code",
   "execution_count": null,
   "metadata": {
    "collapsed": false
   },
   "outputs": [],
   "source": [
    "include(\"../src/flowClustering.jl\")\n",
    "epsSigma = 10.0\n",
    "\n",
    "@time cut, flow = localImprove(a, s, epsSigma)\n",
    "\n",
    "println(compConductance(a, s))\n",
    "println(compConductance(a, cut))\n",
    "\n",
    "plotGraph(a,x,y,[0,0,1])\n",
    "plotGraph(a[cut,cut],x[cut],y[cut],[1,0,0],setaxis=false)"
   ]
  },
  {
   "cell_type": "code",
   "execution_count": null,
   "metadata": {
    "collapsed": false
   },
   "outputs": [],
   "source": []
  },
  {
   "cell_type": "code",
   "execution_count": null,
   "metadata": {
    "collapsed": true
   },
   "outputs": [],
   "source": []
  }
 ],
 "metadata": {
  "kernelspec": {
   "display_name": "Julia 0.4.0",
   "language": "julia",
   "name": "julia-0.4"
  },
  "language_info": {
   "file_extension": ".jl",
   "mimetype": "application/julia",
   "name": "julia",
   "version": "0.4.0"
  }
 },
 "nbformat": 4,
 "nbformat_minor": 0
}
