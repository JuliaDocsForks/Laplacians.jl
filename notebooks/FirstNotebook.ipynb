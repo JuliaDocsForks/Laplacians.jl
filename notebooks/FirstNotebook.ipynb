{
 "cells": [
  {
   "cell_type": "markdown",
   "metadata": {
    "toc": "true"
   },
   "source": [
    "# Table of Contents\n",
    " <p><div class=\"lev1 toc-item\"><a href=\"#Graph-Generators\" data-toc-modified-id=\"Graph-Generators-1\"><span class=\"toc-item-num\">1&nbsp;&nbsp;</span>Graph Generators</a></div><div class=\"lev2 toc-item\"><a href=\"#Chimeric-Graphs\" data-toc-modified-id=\"Chimeric-Graphs-11\"><span class=\"toc-item-num\">1.1&nbsp;&nbsp;</span>Chimeric Graphs</a></div><div class=\"lev1 toc-item\"><a href=\"#Reading-and-Writing-graphs\" data-toc-modified-id=\"Reading-and-Writing-graphs-2\"><span class=\"toc-item-num\">2&nbsp;&nbsp;</span>Reading and Writing graphs</a></div><div class=\"lev1 toc-item\"><a href=\"#Solving-systems-of-linear-equations\" data-toc-modified-id=\"Solving-systems-of-linear-equations-3\"><span class=\"toc-item-num\">3&nbsp;&nbsp;</span>Solving systems of linear equations</a></div><div class=\"lev1 toc-item\"><a href=\"#Computing-Low-Stretch-Spanning-Trees\" data-toc-modified-id=\"Computing-Low-Stretch-Spanning-Trees-4\"><span class=\"toc-item-num\">4&nbsp;&nbsp;</span>Computing Low Stretch Spanning Trees</a></div><div class=\"lev1 toc-item\"><a href=\"#Computing-Components,-and-demo-of-percolation\" data-toc-modified-id=\"Computing-Components,-and-demo-of-percolation-5\"><span class=\"toc-item-num\">5&nbsp;&nbsp;</span>Computing Components, and demo of percolation</a></div><div class=\"lev1 toc-item\"><a href=\"#Shortest-Paths\" data-toc-modified-id=\"Shortest-Paths-6\"><span class=\"toc-item-num\">6&nbsp;&nbsp;</span>Shortest Paths</a></div><div class=\"lev1 toc-item\"><a href=\"#Minimum-Spanning-Trees\" data-toc-modified-id=\"Minimum-Spanning-Trees-7\"><span class=\"toc-item-num\">7&nbsp;&nbsp;</span>Minimum Spanning Trees</a></div><div class=\"lev1 toc-item\"><a href=\"#Spectral-Graph-Drawing\" data-toc-modified-id=\"Spectral-Graph-Drawing-8\"><span class=\"toc-item-num\">8&nbsp;&nbsp;</span>Spectral Graph Drawing</a></div><div class=\"lev1 toc-item\"><a href=\"#Here-is-a-look-under-the-hood-of-sparse-matrices\" data-toc-modified-id=\"Here-is-a-look-under-the-hood-of-sparse-matrices-9\"><span class=\"toc-item-num\">9&nbsp;&nbsp;</span>Here is a look under the hood of sparse matrices</a></div>"
   ]
  },
  {
   "cell_type": "markdown",
   "metadata": {},
   "source": [
    "This is a short demo of some of the things you can do with the Laplacians package for Julia, and with Julia itself for those who are new to it.  You need to have Laplacians installed to use this.  If you have not done so already, install it by typing `Pkg.add(\"Laplacians\")`."
   ]
  },
  {
   "cell_type": "code",
   "execution_count": 1,
   "metadata": {
    "ExecuteTime": {
     "end_time": "2017-07-17T20:06:43.586138Z",
     "start_time": "2017-07-17T20:06:41.626Z"
    }
   },
   "outputs": [
    {
     "data": {
      "text/plain": [
       "v\"0.6.0\""
      ]
     },
     "execution_count": 1,
     "metadata": {},
     "output_type": "execute_result"
    }
   ],
   "source": [
    "VERSION"
   ]
  },
  {
   "cell_type": "code",
   "execution_count": 2,
   "metadata": {
    "ExecuteTime": {
     "end_time": "2017-07-17T20:06:51.453716Z",
     "start_time": "2017-07-17T20:06:41.631Z"
    },
    "collapsed": true
   },
   "outputs": [],
   "source": [
    "using Laplacians"
   ]
  },
  {
   "cell_type": "code",
   "execution_count": 3,
   "metadata": {
    "ExecuteTime": {
     "end_time": "2017-07-17T20:06:51.480558Z",
     "start_time": "2017-07-17T20:06:41.633Z"
    },
    "collapsed": true
   },
   "outputs": [],
   "source": [
    "using PyPlot"
   ]
  },
  {
   "cell_type": "markdown",
   "metadata": {},
   "source": [
    "# Graph Generators"
   ]
  },
  {
   "cell_type": "code",
   "execution_count": 4,
   "metadata": {
    "ExecuteTime": {
     "end_time": "2017-07-17T20:06:52.325509Z",
     "start_time": "2017-07-17T20:06:41.636Z"
    }
   },
   "outputs": [
    {
     "data": {
      "text/plain": [
       "16×16 SparseMatrixCSC{Float64,Int64} with 48 stored entries:\n",
       "  [2 ,  1]  =  1.0\n",
       "  [5 ,  1]  =  1.0\n",
       "  [1 ,  2]  =  1.0\n",
       "  [3 ,  2]  =  1.0\n",
       "  [6 ,  2]  =  1.0\n",
       "  [2 ,  3]  =  1.0\n",
       "  [4 ,  3]  =  1.0\n",
       "  [7 ,  3]  =  1.0\n",
       "  [3 ,  4]  =  1.0\n",
       "  [8 ,  4]  =  1.0\n",
       "  ⋮\n",
       "  [16, 12]  =  1.0\n",
       "  [9 , 13]  =  1.0\n",
       "  [14, 13]  =  1.0\n",
       "  [10, 14]  =  1.0\n",
       "  [13, 14]  =  1.0\n",
       "  [15, 14]  =  1.0\n",
       "  [11, 15]  =  1.0\n",
       "  [14, 15]  =  1.0\n",
       "  [16, 15]  =  1.0\n",
       "  [12, 16]  =  1.0\n",
       "  [15, 16]  =  1.0"
      ]
     },
     "execution_count": 4,
     "metadata": {},
     "output_type": "execute_result"
    }
   ],
   "source": [
    "gr = grid2(4)"
   ]
  },
  {
   "cell_type": "code",
   "execution_count": 5,
   "metadata": {
    "ExecuteTime": {
     "end_time": "2017-07-17T20:06:55.321854Z",
     "start_time": "2017-07-17T20:06:41.640Z"
    }
   },
   "outputs": [
    {
     "data": {
      "image/png": "[encoded data removed]",
      "text/plain": [
       "PyPlot.Figure(PyObject <matplotlib.figure.Figure object at 0x120caa2d0>)"
      ]
     },
     "metadata": {},
     "output_type": "display_data"
    },
    {
     "data": {
      "text/plain": [
       "1-element Array{Any,1}:\n",
       " PyObject <matplotlib.lines.Line2D object at 0x12b5c5e50>"
      ]
     },
     "execution_count": 5,
     "metadata": {},
     "output_type": "execute_result"
    }
   ],
   "source": [
    "gr = grid2(4,3)\n",
    "(x,y) = grid2coords(4,3)\n",
    "p = plotGraph(gr,x,y;dots=false)"
   ]
  },
  {
   "cell_type": "code",
   "execution_count": 6,
   "metadata": {
    "ExecuteTime": {
     "end_time": "2017-07-17T20:06:55.940449Z",
     "start_time": "2017-07-17T20:06:41.644Z"
    }
   },
   "outputs": [
    {
     "data": {
      "image/png": "[encoded data removed]",
      "text/plain": [
       "PyPlot.Figure(PyObject <matplotlib.figure.Figure object at 0x12b577e10>)"
      ]
     },
     "metadata": {},
     "output_type": "display_data"
    },
    {
     "data": {
      "text/plain": [
       "PyObject <matplotlib.image.AxesImage object at 0x12eb18090>"
      ]
     },
     "execution_count": 6,
     "metadata": {},
     "output_type": "execute_result"
    }
   ],
   "source": [
    "gr = randRegular(15,3)\n",
    "spy(gr)"
   ]
  },
  {
   "cell_type": "code",
   "execution_count": 7,
   "metadata": {
    "ExecuteTime": {
     "end_time": "2017-07-17T20:06:58.785869Z",
     "start_time": "2017-07-17T20:06:41.647Z"
    }
   },
   "outputs": [
    {
     "data": {
      "image/png": "[encoded data removed]",
      "text/plain": [
       "PyPlot.Figure(PyObject <matplotlib.figure.Figure object at 0x12f0c9ed0>)"
      ]
     },
     "metadata": {},
     "output_type": "display_data"
    },
    {
     "data": {
      "text/plain": [
       "PyObject <matplotlib.image.AxesImage object at 0x12103c690>"
      ]
     },
     "execution_count": 7,
     "metadata": {},
     "output_type": "execute_result"
    }
   ],
   "source": [
    "gr = grownGraph(200,2)\n",
    "spy(gr)"
   ]
  },
  {
   "cell_type": "code",
   "execution_count": 8,
   "metadata": {
    "ExecuteTime": {
     "end_time": "2017-07-17T20:07:00.481752Z",
     "start_time": "2017-07-17T20:06:41.650Z"
    }
   },
   "outputs": [
    {
     "data": {
      "text/plain": [
       "8×8 Array{Float64,2}:\n",
       " 0.0  1.0  1.0  0.0  1.0  0.0  0.0  0.0\n",
       " 1.0  0.0  0.0  1.0  0.0  1.0  0.0  0.0\n",
       " 1.0  0.0  0.0  1.0  0.0  0.0  1.0  0.0\n",
       " 0.0  1.0  1.0  0.0  0.0  0.0  0.0  1.0\n",
       " 1.0  0.0  0.0  0.0  0.0  1.0  1.0  0.0\n",
       " 0.0  1.0  0.0  0.0  1.0  0.0  0.0  1.0\n",
       " 0.0  0.0  1.0  0.0  1.0  0.0  0.0  1.0\n",
       " 0.0  0.0  0.0  1.0  0.0  1.0  1.0  0.0"
      ]
     },
     "execution_count": 8,
     "metadata": {},
     "output_type": "execute_result"
    }
   ],
   "source": [
    "gr = full(hyperCube(3))"
   ]
  },
  {
   "cell_type": "code",
   "execution_count": 9,
   "metadata": {
    "ExecuteTime": {
     "end_time": "2017-07-17T20:07:00.750792Z",
     "start_time": "2017-07-17T20:06:41.654Z"
    }
   },
   "outputs": [
    {
     "data": {
      "image/png": "[encoded data removed]",
      "text/plain": [
       "PyPlot.Figure(PyObject <matplotlib.figure.Figure object at 0x111e19a10>)"
      ]
     },
     "metadata": {},
     "output_type": "display_data"
    },
    {
     "data": {
      "text/plain": [
       "PyObject <matplotlib.image.AxesImage object at 0x12f2f0310>"
      ]
     },
     "execution_count": 9,
     "metadata": {},
     "output_type": "execute_result"
    }
   ],
   "source": [
    "a = completeBinaryTree(15)\n",
    "spy(a)"
   ]
  },
  {
   "cell_type": "code",
   "execution_count": 10,
   "metadata": {
    "ExecuteTime": {
     "end_time": "2017-07-17T20:07:00.756835Z",
     "start_time": "2017-07-17T20:06:41.657Z"
    }
   },
   "outputs": [],
   "source": [
    "a0 = completeBinaryTree(3)\n",
    "a1 = completeBinaryTree(5)\n",
    "a = productGraph(a0,a1);"
   ]
  },
  {
   "cell_type": "code",
   "execution_count": 11,
   "metadata": {
    "ExecuteTime": {
     "end_time": "2017-07-17T20:07:03.113191Z",
     "start_time": "2017-07-17T20:06:41.661Z"
    }
   },
   "outputs": [
    {
     "data": {
      "image/png": "[encoded data removed]",
      "text/plain": [
       "PyPlot.Figure(PyObject <matplotlib.figure.Figure object at 0x12eb4cf90>)"
      ]
     },
     "metadata": {},
     "output_type": "display_data"
    },
    {
     "data": {
      "text/plain": [
       "1-element Array{Any,1}:\n",
       " PyObject <matplotlib.lines.Line2D object at 0x12f138b90>"
      ]
     },
     "execution_count": 11,
     "metadata": {},
     "output_type": "execute_result"
    }
   ],
   "source": [
    "spectralDrawing(a)"
   ]
  },
  {
   "cell_type": "markdown",
   "metadata": {},
   "source": [
    "## Chimeric Graphs"
   ]
  },
  {
   "cell_type": "markdown",
   "metadata": {},
   "source": [
    "The chimeric graphs combine together elementary graphs in strange ways.  If you want to really test your code, try it on a couple thousand of the chimeric graphs.  We also produce graphs with weights.  Here are two. "
   ]
  },
  {
   "cell_type": "code",
   "execution_count": 12,
   "metadata": {
    "ExecuteTime": {
     "end_time": "2017-07-17T20:07:05.135037Z",
     "start_time": "2017-07-17T20:06:41.665Z"
    }
   },
   "outputs": [
    {
     "data": {
      "image/png": "[encoded data removed]",
      "text/plain": [
       "PyPlot.Figure(PyObject <matplotlib.figure.Figure object at 0x12f15de90>)"
      ]
     },
     "metadata": {},
     "output_type": "display_data"
    },
    {
     "data": {
      "text/plain": [
       "1-element Array{Any,1}:\n",
       " PyObject <matplotlib.lines.Line2D object at 0x12f772950>"
      ]
     },
     "execution_count": 12,
     "metadata": {},
     "output_type": "execute_result"
    }
   ],
   "source": [
    "a = chimera(100,1)\n",
    "spectralDrawing(a)"
   ]
  },
  {
   "cell_type": "code",
   "execution_count": 13,
   "metadata": {
    "ExecuteTime": {
     "end_time": "2017-07-17T20:07:05.611357Z",
     "start_time": "2017-07-17T20:06:41.669Z"
    }
   },
   "outputs": [
    {
     "data": {
      "text/plain": [
       "100×100 SparseMatrixCSC{Float64,Int64} with 198 stored entries:\n",
       "  [42 ,   1]  =  0.153256\n",
       "  [52 ,   1]  =  0.0298127\n",
       "  [8  ,   2]  =  4.77015\n",
       "  [46 ,   2]  =  1.78388\n",
       "  [57 ,   2]  =  3.71921\n",
       "  [31 ,   3]  =  0.716919\n",
       "  [43 ,   3]  =  0.765961\n",
       "  [58 ,   3]  =  0.924462\n",
       "  [10 ,   4]  =  1.11511\n",
       "  [25 ,   5]  =  2.2689\n",
       "  ⋮\n",
       "  [21 ,  96]  =  3.17613\n",
       "  [58 ,  96]  =  1.21792\n",
       "  [91 ,  96]  =  0.280694\n",
       "  [6  ,  97]  =  1.66759\n",
       "  [88 ,  98]  =  0.796742\n",
       "  [48 ,  99]  =  1.25528\n",
       "  [49 ,  99]  =  1.38536\n",
       "  [87 ,  99]  =  3.77806\n",
       "  [19 , 100]  =  6.23171\n",
       "  [24 , 100]  =  1.29292\n",
       "  [74 , 100]  =  0.120233"
      ]
     },
     "execution_count": 13,
     "metadata": {},
     "output_type": "execute_result"
    }
   ],
   "source": [
    "a = wtedChimera(100)"
   ]
  },
  {
   "cell_type": "markdown",
   "metadata": {},
   "source": [
    "If you want to see how the graph was generated, turn on `verbose`."
   ]
  },
  {
   "cell_type": "code",
   "execution_count": 14,
   "metadata": {
    "ExecuteTime": {
     "end_time": "2017-07-17T20:07:06.876835Z",
     "start_time": "2017-07-17T20:06:41.672Z"
    }
   },
   "outputs": [
    {
     "name": "stdout",
     "output_type": "stream",
     "text": [
      "joinGraphs(0.3210207588762129*chimera(1543),chimera(121913),4)\n",
      " (grid2(ceil(Integer, sqrt(1543))))[1:1543, 1:1543]\n",
      " joinGraphs(0.033972949189623916*chimera(30646),chimera(91267),68)\n",
      "  generalizedNecklace(0.005954260162334253*chimera(265),chimera(115),3)\n",
      "   joinGraphs(0.4421198845344965*chimera(17),chimera(248),4)\n",
      "    completeBinaryTree(17)\n",
      "    joinGraphs(0.005056860197144417*chimera(50),chimera(198),4)\n",
      "     joinGraphs(0.1172173549425972*chimera(22),chimera(28),2)\n",
      "      grownGraph(22, 2)\n",
      "      randRegular(28, 3)\n",
      "     joinGraphs(0.41862780708649383*chimera(99),chimera(99),6)\n",
      "      ErdosRenyiClusterFix(99, 2)\n",
      "      joinGraphs(0.00894662042684672*chimera(21),chimera(78),3)\n",
      "       (grid2(ceil(Integer, sqrt(21))))[1:21, 1:21]\n",
      "       joinGraphs(0.18706090207162224*chimera(17),chimera(61),2)\n",
      "        grownGraph(17, 2)\n",
      "        joinGraphs(0.634252615131663*chimera(18),chimera(43),4)\n",
      "         ErdosRenyiClusterFix(18, 2)\n",
      "         joinGraphs(0.1418048261689702*chimera(25),chimera(18),4)\n",
      "          (grid2(ceil(Integer, sqrt(25))))[1:25, 1:25]\n",
      "          ErdosRenyiClusterFix(18, 2)\n",
      "   joinGraphs(0.8514933204322058*chimera(83),chimera(32),7)\n",
      "    joinGraphs(0.36599068678201996*chimera(19),chimera(64),10)\n",
      "     ringGraph(19)\n",
      "     joinGraphs(0.95863161886898*chimera(11),chimera(53),2)\n",
      "      (grid2(ceil(Integer, sqrt(11))))[1:11, 1:11]\n",
      "      joinGraphs(0.23948955441773218*chimera(13),chimera(40),6)\n",
      "       randRegular(13, 3)\n",
      "       joinGraphs(0.0005273899377983811*chimera(15),chimera(25),2)\n",
      "        ErdosRenyiClusterFix(15, 2)\n",
      "        completeBinaryTree(25)\n",
      "    joinGraphs(0.4550682797376712*chimera(19),chimera(13),4)\n",
      "     ringGraph(19)\n",
      "     ErdosRenyiClusterFix(13, 2)\n",
      "  joinGraphs(gr,chimera(171),2)\n",
      "   (grid2(ceil(Integer, sqrt(171))))[1:171, 1:171]\n",
      "  completeBinaryTree(91267)\n"
     ]
    }
   ],
   "source": [
    "a = wtedChimera(123456,4,verbose=true);"
   ]
  },
  {
   "cell_type": "markdown",
   "metadata": {},
   "source": [
    "# Reading and Writing graphs"
   ]
  },
  {
   "cell_type": "markdown",
   "metadata": {},
   "source": [
    "We can read and write graphs as ijv lists.  These routines just want the adjacency matrix, and only store the upper-triangular portion."
   ]
  },
  {
   "cell_type": "code",
   "execution_count": 15,
   "metadata": {
    "ExecuteTime": {
     "end_time": "2017-07-17T20:07:07.207127Z",
     "start_time": "2017-07-17T20:06:41.676Z"
    }
   },
   "outputs": [
    {
     "name": "stdout",
     "output_type": "stream",
     "text": [
      "1,2,0.029775229947216816\n",
      "2,3,0.056729962111148315\n",
      "1,6,0.28563908135457255\n",
      "5,6,0.15309518562466962\n",
      "1,7,0.7676378891517891\n",
      "3,7,0.7406831569878576\n",
      "7,9,1.9747784784908053\n",
      "8,9,3.057614612270626\n",
      "4,10,3.210622405260286\n",
      "9,10,3.221289497211861\n",
      "4,11,3.3697497468793065\n",
      "5,12,0.8889175308224911\n",
      "6,12,0.7358223451978215\n",
      "2,13,1.134432797880638\n",
      "12,13,1.5548408317766702\n",
      "8,14,3.594616635439335\n",
      "10,14,3.7582915203805705\n",
      "11,14,3.917418861999591\n",
      "8,15,3.323686153216891\n",
      "11,15,3.646488379777147\n",
      "13,15,2.577869698218703\n"
     ]
    }
   ],
   "source": [
    "a = wtedChimera(15,2)\n",
    "writeIJV(\"aGraph.ijv\",a)\n",
    "run(`cat aGraph.ijv`)"
   ]
  },
  {
   "cell_type": "markdown",
   "metadata": {},
   "source": [
    "We can, of course, read this back in."
   ]
  },
  {
   "cell_type": "code",
   "execution_count": 16,
   "metadata": {
    "ExecuteTime": {
     "end_time": "2017-07-17T20:07:08.959513Z",
     "start_time": "2017-07-17T20:06:41.680Z"
    }
   },
   "outputs": [
    {
     "data": {
      "text/plain": [
       "15×15 SparseMatrixCSC{Float64,Int64} with 0 stored entries"
      ]
     },
     "execution_count": 16,
     "metadata": {},
     "output_type": "execute_result"
    }
   ],
   "source": [
    "a2 = readIJV(\"aGraph.ijv\")\n",
    "a2-a"
   ]
  },
  {
   "cell_type": "markdown",
   "metadata": {},
   "source": [
    "You can use routines like this to communicate with Matlab.\n",
    "First, you need to tell Matlab where to find Julia.  Hopefully it is in your search path.\n",
    "If not, we will try to find it.  And, tell Matlab where to find some m-files.\n",
    "<pre>\n",
    ">> cd('~/.julia/v0.6/Laplacians/matlab')\n",
    ">> init\n",
    ">> a = readIJV('aGraph.ijv')\n",
    "\n",
    "a =\n",
    "\n",
    "   (8,1)       1.0658\n",
    "  (11,1)       1.0978\n",
    "  (15,1)       0.6688\n",
    "   (3,2)       4.0888\n",
    "   (5,2)       4.6810\n",
    "   (2,3)       4.0888\n",
    "  (14,3)       4.3929\n",
    "   (6,4)       0.6851\n",
    "   (9,4)       1.6401\n",
    "  (15,4)       0.4751\n",
    "   (2,5)       4.6810\n",
    "   (9,5)       3.9026\n",
    "  (14,5)       4.9851\n",
    "   (4,6)       0.6851\n",
    "   (7,6)       2.0197\n",
    "  (14,6)       3.4076\n",
    "   (6,7)       2.0197\n",
    "  (10,7)       1.5522\n",
    "  (13,7)       1.7009\n",
    "   (1,8)       1.0658\n",
    "  (10,8)       1.0896\n",
    "  (12,8)       0.8409\n",
    "   (4,9)       1.6401\n",
    "   (5,9)       3.9026\n",
    "  (12,9)       1.6089\n",
    "   (7,10)      1.5522\n",
    "   (8,10)      1.0896\n",
    "   (1,11)      1.0978\n",
    "  (13,11)      1.2704\n",
    "  (15,11)      0.4290\n",
    "   (8,12)      0.8409\n",
    "   (9,12)      1.6089\n",
    "  (13,12)      0.3975\n",
    "   (7,13)      1.7009\n",
    "  (11,13)      1.2704\n",
    "  (12,13)      0.3975\n",
    "   (3,14)      4.3929\n",
    "   (5,14)      4.9851\n",
    "   (6,14)      3.4076\n",
    "   (1,15)      0.6688\n",
    "   (4,15)      0.4751\n",
    "  (11,15)      0.4290\n",
    "</pre>"
   ]
  },
  {
   "cell_type": "markdown",
   "metadata": {},
   "source": [
    "You can also save graphs from Matlab, and read them back in to Julia.\n",
    "<pre>\n",
    ">> a2 = 2*a;\n",
    ">> writeIJV('a2Graph.ijv',a2);\n",
    "</pre>\n"
   ]
  },
  {
   "cell_type": "code",
   "execution_count": 17,
   "metadata": {
    "ExecuteTime": {
     "end_time": "2017-07-17T20:07:08.965343Z",
     "start_time": "2017-07-17T20:06:41.876Z"
    },
    "scrolled": false
   },
   "outputs": [
    {
     "data": {
      "text/plain": [
       "15×15 SparseMatrixCSC{Float64,Int64} with 42 stored entries:\n",
       "  [2 ,  1]  =  5.56637e-12\n",
       "  [6 ,  1]  =  2.90855e-10\n",
       "  [7 ,  1]  =  1.69642e-9\n",
       "  [1 ,  2]  =  5.56637e-12\n",
       "  [3 ,  2]  =  -2.22297e-10\n",
       "  [13,  2]  =  4.23872e-9\n",
       "  [2 ,  3]  =  -2.22297e-10\n",
       "  [7 ,  3]  =  -3.97572e-9\n",
       "  [10,  4]  =  -5.20572e-10\n",
       "  [11,  4]  =  -3.75861e-9\n",
       "  ⋮\n",
       "  [6 , 12]  =  -3.95643e-10\n",
       "  [13, 12]  =  -3.55334e-9\n",
       "  [2 , 13]  =  4.23872e-9\n",
       "  [12, 13]  =  -3.55334e-9\n",
       "  [15, 13]  =  3.56259e-9\n",
       "  [8 , 14]  =  -8.7867e-10\n",
       "  [10, 14]  =  -7.6114e-10\n",
       "  [11, 14]  =  -3.99918e-9\n",
       "  [8 , 15]  =  3.56622e-9\n",
       "  [11, 15]  =  4.45707e-10\n",
       "  [13, 15]  =  3.56259e-9"
      ]
     },
     "execution_count": 17,
     "metadata": {},
     "output_type": "execute_result"
    }
   ],
   "source": [
    "a2 = readIJV(\"a2Graph.ijv\")\n",
    "a2 - 2*a"
   ]
  },
  {
   "cell_type": "markdown",
   "metadata": {},
   "source": [
    "Alternatively, you can read and write .mat files using the MATLAB.jl package."
   ]
  },
  {
   "cell_type": "markdown",
   "metadata": {},
   "source": [
    "# Solving systems of linear equations"
   ]
  },
  {
   "cell_type": "markdown",
   "metadata": {},
   "source": [
    "This package contains code for solving systems of linear equations in Laplacian and SDDM matrices.  You may form the Laplacian matrix of a graph as follows."
   ]
  },
  {
   "cell_type": "code",
   "execution_count": 18,
   "metadata": {
    "ExecuteTime": {
     "end_time": "2017-07-17T20:07:08.977797Z",
     "start_time": "2017-07-17T20:06:41.881Z"
    }
   },
   "outputs": [
    {
     "data": {
      "text/plain": [
       "5×5 Array{Float64,2}:\n",
       "  2.0  -1.0   0.0   0.0  -1.0\n",
       " -1.0   2.0  -1.0   0.0   0.0\n",
       "  0.0  -1.0   2.0  -1.0   0.0\n",
       "  0.0   0.0  -1.0   2.0  -1.0\n",
       " -1.0   0.0   0.0  -1.0   2.0"
      ]
     },
     "execution_count": 18,
     "metadata": {},
     "output_type": "execute_result"
    }
   ],
   "source": [
    "a = ringGraph(5)\n",
    "full(lap(a))"
   ]
  },
  {
   "cell_type": "markdown",
   "metadata": {},
   "source": [
    "Solvers for Laplacians take the adjacency matrices as input.  To use them, you first construct a function that applies the inverse.  You then apply it to a vector."
   ]
  },
  {
   "cell_type": "code",
   "execution_count": 19,
   "metadata": {
    "ExecuteTime": {
     "end_time": "2017-07-17T20:07:11.749046Z",
     "start_time": "2017-07-17T20:06:41.885Z"
    }
   },
   "outputs": [
    {
     "data": {
      "text/plain": [
       "6.998982512628094e-7"
      ]
     },
     "execution_count": 19,
     "metadata": {},
     "output_type": "execute_result"
    }
   ],
   "source": [
    "a = wtedChimera(123456,1)\n",
    "solver = approxCholLap(a);\n",
    "b = randn(123456); b = b - mean(b);\n",
    "x = solver(b)\n",
    "norm(lap(a)*x - b)/norm(b)"
   ]
  },
  {
   "cell_type": "markdown",
   "metadata": {},
   "source": [
    "You can adjust the accuracy, get reports about how the code performs, and much more.  To see a docstring for a function, just type a `?` followed by its name."
   ]
  },
  {
   "cell_type": "code",
   "execution_count": 20,
   "metadata": {
    "ExecuteTime": {
     "end_time": "2017-07-17T20:07:12.944031Z",
     "start_time": "2017-07-17T20:06:41.890Z"
    }
   },
   "outputs": [
    {
     "name": "stdout",
     "output_type": "stream",
     "text": [
      "search: \u001b[1ma\u001b[22m\u001b[1mp\u001b[22m\u001b[1mp\u001b[22m\u001b[1mr\u001b[22m\u001b[1mo\u001b[22m\u001b[1mx\u001b[22m\u001b[1mC\u001b[22m\u001b[1mh\u001b[22m\u001b[1mo\u001b[22m\u001b[1ml\u001b[22m\u001b[1mL\u001b[22m\u001b[1ma\u001b[22m\u001b[1mp\u001b[22m \u001b[1ma\u001b[22m\u001b[1mp\u001b[22m\u001b[1mp\u001b[22m\u001b[1mr\u001b[22m\u001b[1mo\u001b[22m\u001b[1mx\u001b[22m\u001b[1mC\u001b[22m\u001b[1mh\u001b[22m\u001b[1mo\u001b[22m\u001b[1ml\u001b[22mSddm \u001b[1mA\u001b[22m\u001b[1mp\u001b[22m\u001b[1mp\u001b[22m\u001b[1mr\u001b[22m\u001b[1mo\u001b[22m\u001b[1mx\u001b[22m\u001b[1mC\u001b[22m\u001b[1mh\u001b[22m\u001b[1mo\u001b[22m\u001b[1ml\u001b[22mParams\n",
      "\n"
     ]
    },
    {
     "data": {
      "text/markdown": [
       "```\n",
       "solver = approxCholLap(a; tol::Real=1e-6, maxits=1000, maxtime=Inf, verbose=false, pcgIts=Int[], params=ApproxCholParams())\n",
       "```\n",
       "\n",
       "A heuristic by Daniel Spielman inspired by the linear system solver in https://arxiv.org/abs/1605.02353 by Rasmus Kyng and Sushant Sachdeva.  Whereas that paper eliminates vertices one at a time, this eliminates edges one at a time.  It is probably possible to analyze it. The `ApproxCholParams` let you choose one of three orderings to perform the elimination.\n",
       "\n",
       "  * ApproxCholParams(:given) - in the order given.   This is the fastest for construction the preconditioner, but the slowest solve.\n",
       "  * ApproxCholParams(:deg) - always eliminate the node of lowest degree.   This is the slowest build, but the fastest solve.\n",
       "  * ApproxCholParams(:wdeg) - go by a perturbed order of wted degree.   This is the sweet spot in between.\n"
      ],
      "text/plain": [
       "```\n",
       "solver = approxCholLap(a; tol::Real=1e-6, maxits=1000, maxtime=Inf, verbose=false, pcgIts=Int[], params=ApproxCholParams())\n",
       "```\n",
       "\n",
       "A heuristic by Daniel Spielman inspired by the linear system solver in https://arxiv.org/abs/1605.02353 by Rasmus Kyng and Sushant Sachdeva.  Whereas that paper eliminates vertices one at a time, this eliminates edges one at a time.  It is probably possible to analyze it. The `ApproxCholParams` let you choose one of three orderings to perform the elimination.\n",
       "\n",
       "  * ApproxCholParams(:given) - in the order given.   This is the fastest for construction the preconditioner, but the slowest solve.\n",
       "  * ApproxCholParams(:deg) - always eliminate the node of lowest degree.   This is the slowest build, but the fastest solve.\n",
       "  * ApproxCholParams(:wdeg) - go by a perturbed order of wted degree.   This is the sweet spot in between.\n"
      ]
     },
     "execution_count": 20,
     "metadata": {},
     "output_type": "execute_result"
    }
   ],
   "source": [
    "?approxCholLap"
   ]
  },
  {
   "cell_type": "code",
   "execution_count": 21,
   "metadata": {
    "ExecuteTime": {
     "end_time": "2017-07-17T20:07:13.941298Z",
     "start_time": "2017-07-17T20:06:41.894Z"
    }
   },
   "outputs": [
    {
     "name": "stdout",
     "output_type": "stream",
     "text": [
      "Using greedy degree ordering. Factorization time: 0.3640310764312744\n",
      "Ratio of operator edges to original edges: 2.180983326902378\n",
      "ratio of max to min diagonal of laplacian : 247.16882853630895\n",
      "Solver build time: 0.414 seconds.\n",
      "PCG stopped after: 0.494 seconds and 47 iterations with relative error 9.921863455238039e-11.\n"
     ]
    },
    {
     "data": {
      "text/plain": [
       "9.921964411656143e-11"
      ]
     },
     "execution_count": 21,
     "metadata": {},
     "output_type": "execute_result"
    }
   ],
   "source": [
    "solver = approxCholLap(a,verbose=true,tol=1e-10);\n",
    "x = solver(b)\n",
    "norm(lap(a)*x - b)/norm(b)"
   ]
  },
  {
   "cell_type": "markdown",
   "metadata": {},
   "source": [
    "The code for solving systems in SDDM matrices takes the actual matrix as input.  These should NOT be singular (Laplacians)."
   ]
  },
  {
   "cell_type": "code",
   "execution_count": 22,
   "metadata": {
    "ExecuteTime": {
     "end_time": "2017-07-17T20:07:20.916750Z",
     "start_time": "2017-07-17T20:06:41.899Z"
    }
   },
   "outputs": [
    {
     "name": "stdout",
     "output_type": "stream",
     "text": [
      "PCG stopped after: 0.341 seconds and 29 iterations with relative error 8.688117677101686e-7.\n",
      "  0.412351 seconds (17.40 k allocations: 61.253 MiB, 21.78% gc time)\n"
     ]
    },
    {
     "data": {
      "text/plain": [
       "8.687658721743067e-7"
      ]
     },
     "execution_count": 22,
     "metadata": {},
     "output_type": "execute_result"
    }
   ],
   "source": [
    "la = lap(a)\n",
    "la[1,1] += 1\n",
    "solver = approxCholSddm(la)\n",
    "x = solver(b,verbose=true)\n",
    "norm(la*x-b)/norm(b)"
   ]
  },
  {
   "cell_type": "markdown",
   "metadata": {},
   "source": [
    "# Computing Low Stretch Spanning Trees"
   ]
  },
  {
   "cell_type": "markdown",
   "metadata": {},
   "source": [
    "We have implemented a variant of the low-stretch spanning tree code of Alon, Karp, Peleg and West.  It produces a matrix whose entries are the stretches of all the edges in the original graph.  So that you can visualize it, we first do a small dense example."
   ]
  },
  {
   "cell_type": "code",
   "execution_count": 23,
   "metadata": {
    "ExecuteTime": {
     "end_time": "2017-07-17T20:07:21.819734Z",
     "start_time": "2017-07-17T20:06:41.904Z"
    }
   },
   "outputs": [
    {
     "data": {
      "text/plain": [
       "5×5 Array{Float64,2}:\n",
       " 0.0  1.0  0.0  0.0  1.0\n",
       " 1.0  0.0  1.0  0.0  0.0\n",
       " 0.0  1.0  0.0  1.0  0.0\n",
       " 0.0  0.0  1.0  0.0  0.0\n",
       " 1.0  0.0  0.0  0.0  0.0"
      ]
     },
     "execution_count": 23,
     "metadata": {},
     "output_type": "execute_result"
    }
   ],
   "source": [
    "a = ringGraph(5);\n",
    "t = akpw(a);\n",
    "full(t)"
   ]
  },
  {
   "cell_type": "code",
   "execution_count": 24,
   "metadata": {
    "ExecuteTime": {
     "end_time": "2017-07-17T20:07:22.033569Z",
     "start_time": "2017-07-17T20:06:41.910Z"
    }
   },
   "outputs": [
    {
     "data": {
      "text/plain": [
       "5×5 Array{Float64,2}:\n",
       " 0.0  1.0  0.0  0.0  1.0\n",
       " 1.0  0.0  1.0  0.0  0.0\n",
       " 0.0  1.0  0.0  1.0  0.0\n",
       " 0.0  0.0  1.0  0.0  4.0\n",
       " 1.0  0.0  0.0  4.0  0.0"
      ]
     },
     "execution_count": 24,
     "metadata": {},
     "output_type": "execute_result"
    }
   ],
   "source": [
    "st = compStretches(t,a)\n",
    "full(st)"
   ]
  },
  {
   "cell_type": "markdown",
   "metadata": {},
   "source": [
    "You can use this to compute the average stretch of the tree."
   ]
  },
  {
   "cell_type": "code",
   "execution_count": 25,
   "metadata": {
    "ExecuteTime": {
     "end_time": "2017-07-17T20:07:30.419121Z",
     "start_time": "2017-07-17T20:06:42.134Z"
    }
   },
   "outputs": [
    {
     "name": "stdout",
     "output_type": "stream",
     "text": [
      "  6.926496 seconds (65.77 M allocations: 3.841 GiB, 30.88% gc time)\n"
     ]
    },
    {
     "data": {
      "text/plain": [
       "31.646543434343435"
      ]
     },
     "execution_count": 25,
     "metadata": {},
     "output_type": "execute_result"
    }
   ],
   "source": [
    "a = grid3(100);\n",
    "@time t = akpw(a);\n",
    "sum(compStretches(t,a))/nnz(a)"
   ]
  },
  {
   "cell_type": "markdown",
   "metadata": {},
   "source": [
    "Note that 31.6 is very close to log(n)"
   ]
  },
  {
   "cell_type": "code",
   "execution_count": 26,
   "metadata": {
    "ExecuteTime": {
     "end_time": "2017-07-17T20:07:30.426220Z",
     "start_time": "2017-07-17T20:06:42.139Z"
    }
   },
   "outputs": [
    {
     "data": {
      "text/plain": [
       "27.631021115928547"
      ]
     },
     "execution_count": 26,
     "metadata": {},
     "output_type": "execute_result"
    }
   ],
   "source": [
    "log(length(a))"
   ]
  },
  {
   "cell_type": "code",
   "execution_count": 27,
   "metadata": {
    "ExecuteTime": {
     "end_time": "2017-07-17T20:07:47.068124Z",
     "start_time": "2017-07-17T20:06:42.144Z"
    }
   },
   "outputs": [
    {
     "name": "stdout",
     "output_type": "stream",
     "text": [
      "  5.837395 seconds (37.87 M allocations: 1.851 GiB, 26.23% gc time)\n"
     ]
    },
    {
     "data": {
      "text/plain": [
       "3.8155152346687147"
      ]
     },
     "execution_count": 27,
     "metadata": {},
     "output_type": "execute_result"
    }
   ],
   "source": [
    "a = wtedChimera(1000000);\n",
    "@time t = akpw(a);\n",
    "sum(compStretches(t,a))/nnz(a)"
   ]
  },
  {
   "cell_type": "markdown",
   "metadata": {},
   "source": [
    "# Computing Components, and demo of percolation"
   ]
  },
  {
   "cell_type": "markdown",
   "metadata": {},
   "source": [
    "The following code computes a 30-by-30 grid graph, samples edges with probability 1/2, and then computes the components."
   ]
  },
  {
   "cell_type": "code",
   "execution_count": 28,
   "metadata": {
    "ExecuteTime": {
     "end_time": "2017-07-17T20:07:47.143053Z",
     "start_time": "2017-07-17T20:06:42.150Z"
    }
   },
   "outputs": [],
   "source": [
    "gr = grid2(30);\n",
    "grs = subsampleEdges(gr,.5);\n"
   ]
  },
  {
   "cell_type": "code",
   "execution_count": 29,
   "metadata": {
    "ExecuteTime": {
     "end_time": "2017-07-17T20:07:47.652625Z",
     "start_time": "2017-07-17T20:06:42.155Z"
    }
   },
   "outputs": [
    {
     "data": {
      "text/plain": [
       "900-element Array{Int64,1}:\n",
       "   1\n",
       "   1\n",
       "   1\n",
       "   2\n",
       "   3\n",
       "   3\n",
       "   3\n",
       "   4\n",
       "   4\n",
       "   4\n",
       "   4\n",
       "   5\n",
       "   5\n",
       "   ⋮\n",
       "  91\n",
       "  91\n",
       "  91\n",
       " 103\n",
       "   9\n",
       "   9\n",
       "   9\n",
       "   9\n",
       "   9\n",
       "   9\n",
       "   9\n",
       "   9"
      ]
     },
     "execution_count": 29,
     "metadata": {},
     "output_type": "execute_result"
    }
   ],
   "source": [
    "co = components(grs)"
   ]
  },
  {
   "cell_type": "code",
   "execution_count": 30,
   "metadata": {
    "ExecuteTime": {
     "end_time": "2017-07-17T20:07:48.385440Z",
     "start_time": "2017-07-17T20:06:42.159Z"
    }
   },
   "outputs": [
    {
     "data": {
      "text/plain": [
       "103-element Array{Array{Int64,1},1}:\n",
       " [1, 2, 3, 32, 62]                                                                               \n",
       " [4]                                                                                             \n",
       " [5, 6, 7, 33, 34, 35, 36, 64, 65, 66, 94, 96]                                                   \n",
       " [8, 9, 10, 11, 37, 38, 39, 40, 67, 68  …  276, 277, 278, 307, 308, 309, 310, 338, 339, 340]     \n",
       " [12, 13, 16, 17, 41, 42, 43, 44, 45, 46  …  72, 74, 75, 105, 135, 136, 137, 165, 166, 167]      \n",
       " [14]                                                                                            \n",
       " [15]                                                                                            \n",
       " [18, 19, 48, 49, 77, 78, 79, 107, 108, 109, 138]                                                \n",
       " [20, 50, 51, 80, 81, 82, 83, 111, 112, 113  …  884, 885, 893, 894, 895, 896, 897, 898, 899, 900]\n",
       " [21]                                                                                            \n",
       " [22, 23]                                                                                        \n",
       " [24, 25, 55, 84, 85, 114, 115, 116, 117]                                                        \n",
       " [26, 27, 28, 29, 30, 56, 57, 58, 59, 60, 86, 87, 88, 89, 90, 118, 119, 120, 149]                \n",
       " ⋮                                                                                               \n",
       " [800, 801]                                                                                      \n",
       " [803, 833]                                                                                      \n",
       " [814]                                                                                           \n",
       " [815, 816, 845, 846]                                                                            \n",
       " [832, 862]                                                                                      \n",
       " [841, 842, 843, 844, 871, 872, 873, 874, 875]                                                   \n",
       " [863]                                                                                           \n",
       " [864]                                                                                           \n",
       " [879]                                                                                           \n",
       " [880, 881, 882]                                                                                 \n",
       " [886]                                                                                           \n",
       " [892]                                                                                           "
      ]
     },
     "execution_count": 30,
     "metadata": {},
     "output_type": "execute_result"
    }
   ],
   "source": [
    "comps = vecToComps(co)"
   ]
  },
  {
   "cell_type": "code",
   "execution_count": 31,
   "metadata": {
    "ExecuteTime": {
     "end_time": "2017-07-17T20:07:49.055092Z",
     "start_time": "2017-07-17T20:06:42.164Z"
    }
   },
   "outputs": [
    {
     "data": {
      "image/png": "[encoded data removed]",
      "text/plain": [
       "PyPlot.Figure(PyObject <matplotlib.figure.Figure object at 0x12fc32150>)"
      ]
     },
     "metadata": {},
     "output_type": "display_data"
    },
    {
     "data": {
      "text/plain": [
       "1-element Array{Any,1}:\n",
       " PyObject <matplotlib.lines.Line2D object at 0x12fe28690>"
      ]
     },
     "execution_count": 31,
     "metadata": {},
     "output_type": "execute_result"
    }
   ],
   "source": [
    "(x,y) = grid2coords(30,30)\n",
    "for i = 1:length(comps)\n",
    "    ind = comps[i]\n",
    "    \n",
    "    plotGraph(grs[ind,ind],x[ind],y[ind],rand(3);dots=false,setaxis=false)\n",
    "end\n",
    "pm = plot(x,y,marker=\"o\",linestyle=\"none\",color=\"black\",markersize=2)"
   ]
  },
  {
   "cell_type": "markdown",
   "metadata": {},
   "source": [
    "# Shortest Paths"
   ]
  },
  {
   "cell_type": "markdown",
   "metadata": {},
   "source": [
    "I will now compare the running time of the shortest paths code that I wrote in Julia against matlab_bgl and my java code.   It could be sped up some more, but this proves the point that we can write fast code in Julia.  You may notice that we should speed up chimera."
   ]
  },
  {
   "cell_type": "code",
   "execution_count": 32,
   "metadata": {
    "ExecuteTime": {
     "end_time": "2017-07-17T20:07:58.147478Z",
     "start_time": "2017-07-17T20:06:42.170Z"
    }
   },
   "outputs": [],
   "source": [
    "a = wtedChimera(1000000,1);"
   ]
  },
  {
   "cell_type": "code",
   "execution_count": 33,
   "metadata": {
    "ExecuteTime": {
     "end_time": "2017-07-17T20:07:59.820319Z",
     "start_time": "2017-07-17T20:06:42.176Z"
    }
   },
   "outputs": [
    {
     "name": "stdout",
     "output_type": "stream",
     "text": [
      "  1.181817 seconds (51.13 k allocations: 56.832 MiB, 1.27% gc time)\n"
     ]
    },
    {
     "data": {
      "text/plain": [
       "([0.0, 153.0, 427.416, 417.139, 342.139, 175.0, 270.139, 196.0, 207.0, 133.0  …  157.0, 160.0, 84.0, 171.0, 163.0, 170.0, 213.0, 149.0, 246.277, 133.0], [1, 54458, 667876, 58658, 197874, 147883, 685775, 949453, 879777, 337686  …  361912, 784578, 207140, 505199, 995462, 282088, 342591, 654415, 155583, 801443])"
      ]
     },
     "execution_count": 33,
     "metadata": {},
     "output_type": "execute_result"
    }
   ],
   "source": [
    "@time dists, pArray = shortestPaths(a,1)"
   ]
  },
  {
   "cell_type": "markdown",
   "metadata": {},
   "source": [
    "Here are the results in Matlab, using matlab_bgl.\n",
    "<pre>\n",
    ">> a = wtedChimera(1000000,1);\n",
    ">> tic; [d,pa] = shortest_paths(a,1); toc\n",
    "Elapsed time is 2.414358 seconds.\n",
    "</pre>"
   ]
  },
  {
   "cell_type": "markdown",
   "metadata": {},
   "source": [
    "This is a very clear win for Julia!  But, it turns out that it wasn't an idential comparision: the shortest path code in Julia treats edges weights as reciprocals of distances, whereas the matlab code treats weights as distances.  So, go make a fair comparison, we should take the reciprocals in one of them.  Let's run 10 times, taking reciprocals in Julia."
   ]
  },
  {
   "cell_type": "code",
   "execution_count": 34,
   "metadata": {
    "ExecuteTime": {
     "end_time": "2017-07-17T20:09:19.497549Z",
     "start_time": "2017-07-17T20:06:42.183Z"
    }
   },
   "outputs": [
    {
     "name": "stdout",
     "output_type": "stream",
     "text": [
      "elapsed time: 0.795272822 seconds\n",
      "elapsed time: 1.363164792 seconds\n",
      "elapsed time: 1.528304293 seconds\n",
      "elapsed time: 1.085489443 seconds\n",
      "elapsed time: 1.699104363 seconds\n",
      "Total time = 6.471335713\n"
     ]
    }
   ],
   "source": [
    "time = 0\n",
    "for i in 1:5\n",
    "    a = wtedChimera(1000000,i);\n",
    "    for i in 1:length(a.nzval)\n",
    "        a.nzval[i] = 1./a.nzval[i];\n",
    "    end\n",
    "    tic()\n",
    "    dists, pArray = shortestPaths(a,1)\n",
    "    time = time + toc()\n",
    "end\n",
    "println(\"Total time = \", time)"
   ]
  },
  {
   "cell_type": "markdown",
   "metadata": {},
   "source": [
    "So that you can check what I'm saying about distances being reciprocals of weights, here are the distances to the first 5 nodes in the last graph.  I'll compute the same ones in Matlab."
   ]
  },
  {
   "cell_type": "code",
   "execution_count": 35,
   "metadata": {
    "ExecuteTime": {
     "end_time": "2017-07-17T20:09:19.913924Z",
     "start_time": "2017-07-17T20:06:42.188Z"
    },
    "scrolled": true
   },
   "outputs": [
    {
     "data": {
      "text/plain": [
       "5-element Array{Float64,1}:\n",
       "   0.0   \n",
       " 107.299 \n",
       "  57.1345\n",
       "  90.325 \n",
       "  59.2636"
      ]
     },
     "execution_count": 35,
     "metadata": {},
     "output_type": "execute_result"
    }
   ],
   "source": [
    "dists[1:5]"
   ]
  },
  {
   "cell_type": "markdown",
   "metadata": {},
   "source": [
    "<pre>\n",
    ">> time = 0;\n",
    ">> for i = 1:10\n",
    "a = wtedChimera(1000000,i);\n",
    "tic; [d,pa] = shortest_paths(a,1); this = toc;\n",
    "fprintf([num2str(this), ' seconds\\n']);\n",
    "time = time + this;\n",
    "end\n",
    "\n",
    "2.3238 seconds\n",
    "3.3475 seconds\n",
    "1.6888 seconds\n",
    "2.9162 seconds\n",
    "4.4944 seconds\n",
    "4.7069 seconds\n",
    "2.6662 seconds\n",
    "1.7989 seconds\n",
    "2.7447 seconds\n",
    "2.9934 seconds\n",
    "\n",
    ">> time\n",
    "\n",
    "time =\n",
    "\n",
    "   29.6808\n",
    "   \n",
    ">> d(1:5)\n",
    "\n",
    "ans =\n",
    "\n",
    "         0\n",
    "   53.3683\n",
    "   75.2115\n",
    "   53.5149\n",
    "   49.1598   \n",
    "</pre>"
   ]
  },
  {
   "cell_type": "markdown",
   "metadata": {},
   "source": [
    "# Minimum Spanning Trees"
   ]
  },
  {
   "cell_type": "markdown",
   "metadata": {},
   "source": [
    "We will also compare the running time of mst code.  We will see that the Julia code is over twice as fast as the matlab_bgl."
   ]
  },
  {
   "cell_type": "code",
   "execution_count": 36,
   "metadata": {
    "ExecuteTime": {
     "end_time": "2017-07-17T20:09:30.646104Z",
     "start_time": "2017-07-17T20:06:42.193Z"
    }
   },
   "outputs": [
    {
     "name": "stdout",
     "output_type": "stream",
     "text": [
      "  3.097692 seconds (15.33 k allocations: 241.983 MiB, 11.07% gc time)\n"
     ]
    }
   ],
   "source": [
    "a = wtedChimera(1000000,11)\n",
    "@time tree = kruskal(a);"
   ]
  },
  {
   "cell_type": "markdown",
   "metadata": {},
   "source": [
    "<pre>\n",
    ">> a = wtedChimera(1000000,11);\n",
    ">> tic; t = kruskal_mst(a); toc\n",
    "Elapsed time is 7.008127 seconds.\n",
    "</pre>"
   ]
  },
  {
   "cell_type": "markdown",
   "metadata": {},
   "source": [
    "By default, this computes the minimum spanning tree.  To get the max, do this."
   ]
  },
  {
   "cell_type": "code",
   "execution_count": 37,
   "metadata": {
    "ExecuteTime": {
     "end_time": "2017-07-17T20:09:34.322812Z",
     "start_time": "2017-07-17T20:06:42.199Z"
    }
   },
   "outputs": [
    {
     "name": "stdout",
     "output_type": "stream",
     "text": [
      "sum(triu(tree).nzval) = 545404.8643494495\n",
      "sum(triu(maxTree).nzval) = 545404.8643494495\n"
     ]
    },
    {
     "data": {
      "text/plain": [
       "545404.8643494495"
      ]
     },
     "execution_count": 37,
     "metadata": {},
     "output_type": "execute_result"
    }
   ],
   "source": [
    "@show sum(triu(tree).nzval)\n",
    "maxTree = kruskal(a,kind=:max)\n",
    "@show sum(triu(maxTree).nzval)"
   ]
  },
  {
   "cell_type": "markdown",
   "metadata": {},
   "source": [
    "# Spectral Graph Drawing"
   ]
  },
  {
   "cell_type": "code",
   "execution_count": 38,
   "metadata": {
    "ExecuteTime": {
     "end_time": "2017-07-17T20:09:34.324846Z",
     "start_time": "2017-07-17T20:06:42.206Z"
    }
   },
   "outputs": [
    {
     "data": {
      "text/plain": [
       "9×9 SparseMatrixCSC{Float64,Int64} with 33 stored entries:\n",
       "  [1, 1]  =  2.0\n",
       "  [2, 1]  =  -1.0\n",
       "  [4, 1]  =  -1.0\n",
       "  [1, 2]  =  -1.0\n",
       "  [2, 2]  =  3.0\n",
       "  [3, 2]  =  -1.0\n",
       "  [5, 2]  =  -1.0\n",
       "  [2, 3]  =  -1.0\n",
       "  [3, 3]  =  2.0\n",
       "  [6, 3]  =  -1.0\n",
       "  ⋮\n",
       "  [9, 6]  =  -1.0\n",
       "  [4, 7]  =  -1.0\n",
       "  [7, 7]  =  2.0\n",
       "  [8, 7]  =  -1.0\n",
       "  [5, 8]  =  -1.0\n",
       "  [7, 8]  =  -1.0\n",
       "  [8, 8]  =  3.0\n",
       "  [9, 8]  =  -1.0\n",
       "  [6, 9]  =  -1.0\n",
       "  [8, 9]  =  -1.0\n",
       "  [9, 9]  =  2.0"
      ]
     },
     "execution_count": 38,
     "metadata": {},
     "output_type": "execute_result"
    }
   ],
   "source": [
    "la = lap(grid2(3))"
   ]
  },
  {
   "cell_type": "code",
   "execution_count": 39,
   "metadata": {
    "ExecuteTime": {
     "end_time": "2017-07-17T20:09:34.335713Z",
     "start_time": "2017-07-17T20:06:42.213Z"
    }
   },
   "outputs": [
    {
     "data": {
      "text/plain": [
       "9×3 Array{Float64,2}:\n",
       " 0.333333   0.250412      0.520218   \n",
       " 0.333333  -0.134903      0.385315   \n",
       " 0.333333  -0.520218      0.250412   \n",
       " 0.333333   0.385315      0.134903   \n",
       " 0.333333  -5.55112e-17   1.11022e-16\n",
       " 0.333333  -0.385315     -0.134903   \n",
       " 0.333333   0.520218     -0.250412   \n",
       " 0.333333   0.134903     -0.385315   \n",
       " 0.333333  -0.250412     -0.520218   "
      ]
     },
     "execution_count": 39,
     "metadata": {},
     "output_type": "execute_result"
    }
   ],
   "source": [
    "E = eigs(la, nev = 3, which=:SR)\n",
    "V = E[2]"
   ]
  },
  {
   "cell_type": "markdown",
   "metadata": {},
   "source": [
    "You would think that you should use\n",
    "<pre>\n",
    "E = eigs(la, nev = 3, which=:SM)\n",
    "</pre>\n",
    "But, that gives horrible results."
   ]
  },
  {
   "cell_type": "code",
   "execution_count": 40,
   "metadata": {
    "ExecuteTime": {
     "end_time": "2017-07-17T20:09:34.581917Z",
     "start_time": "2017-07-17T20:06:42.220Z"
    }
   },
   "outputs": [
    {
     "data": {
      "image/png": "[encoded data removed]",
      "text/plain": [
       "PyPlot.Figure(PyObject <matplotlib.figure.Figure object at 0x12fe28cd0>)"
      ]
     },
     "metadata": {},
     "output_type": "display_data"
    },
    {
     "data": {
      "text/plain": [
       "1-element Array{Any,1}:\n",
       " PyObject <matplotlib.lines.Line2D object at 0x130005e50>"
      ]
     },
     "execution_count": 40,
     "metadata": {},
     "output_type": "execute_result"
    }
   ],
   "source": [
    "plotGraph(la,V[:,2],V[:,3])"
   ]
  },
  {
   "cell_type": "code",
   "execution_count": 41,
   "metadata": {
    "ExecuteTime": {
     "end_time": "2017-07-17T20:09:34.798104Z",
     "start_time": "2017-07-17T20:06:42.227Z"
    }
   },
   "outputs": [
    {
     "data": {
      "image/png": "[encoded data removed]",
      "text/plain": [
       "PyPlot.Figure(PyObject <matplotlib.figure.Figure object at 0x13049bf90>)"
      ]
     },
     "metadata": {},
     "output_type": "display_data"
    },
    {
     "data": {
      "text/plain": [
       "1-element Array{Any,1}:\n",
       " PyObject <matplotlib.lines.Line2D object at 0x130517350>"
      ]
     },
     "execution_count": 41,
     "metadata": {},
     "output_type": "execute_result"
    }
   ],
   "source": [
    "a = hyperCube(3)\n",
    "la = lap(a)\n",
    "E = eigs(la, nev = 3, which=:SR)\n",
    "V = E[2]\n",
    "plotGraph(a,V[:,2],V[:,3])"
   ]
  },
  {
   "cell_type": "markdown",
   "metadata": {},
   "source": [
    "# Here is a look under the hood of sparse matrices"
   ]
  },
  {
   "cell_type": "code",
   "execution_count": 42,
   "metadata": {
    "ExecuteTime": {
     "end_time": "2017-07-17T20:09:34.895714Z",
     "start_time": "2017-07-17T20:06:42.233Z"
    }
   },
   "outputs": [
    {
     "data": {
      "text/plain": [
       "SparseMatrixCSC{Float64,Int64}"
      ]
     },
     "execution_count": 42,
     "metadata": {},
     "output_type": "execute_result"
    }
   ],
   "source": [
    "a = grid2(5)\n",
    "typeof(a)"
   ]
  },
  {
   "cell_type": "code",
   "execution_count": 43,
   "metadata": {
    "ExecuteTime": {
     "end_time": "2017-07-17T20:09:35.471170Z",
     "start_time": "2017-07-17T20:06:42.240Z"
    }
   },
   "outputs": [
    {
     "data": {
      "text/plain": [
       "5-element Array{Symbol,1}:\n",
       " :m     \n",
       " :n     \n",
       " :colptr\n",
       " :rowval\n",
       " :nzval "
      ]
     },
     "execution_count": 43,
     "metadata": {},
     "output_type": "execute_result"
    }
   ],
   "source": [
    "fieldnames(SparseMatrixCSC)"
   ]
  },
  {
   "cell_type": "code",
   "execution_count": null,
   "metadata": {
    "collapsed": true
   },
   "outputs": [],
   "source": []
  }
 ],
 "metadata": {
  "kernelspec": {
   "display_name": "Julia 0.6.0",
   "language": "julia",
   "name": "julia-0.6"
  },
  "language_info": {
   "file_extension": ".jl",
   "mimetype": "application/julia",
   "name": "julia",
   "version": "0.6.0"
  },
  "toc": {
   "colors": {
    "hover_highlight": "#DAA520",
    "navigate_num": "#000000",
    "navigate_text": "#333333",
    "running_highlight": "#FF0000",
    "selected_highlight": "#FFD700",
    "sidebar_border": "#EEEEEE",
    "wrapper_background": "#FFFFFF"
   },
   "moveMenuLeft": true,
   "nav_menu": {
    "height": "195px",
    "width": "252px"
   },
   "navigate_menu": true,
   "number_sections": true,
   "sideBar": true,
   "threshold": 4,
   "toc_cell": true,
   "toc_section_display": "block",
   "toc_window_display": true,
   "widenNotebook": false
  }
 },
 "nbformat": 4,
 "nbformat_minor": 1
}
