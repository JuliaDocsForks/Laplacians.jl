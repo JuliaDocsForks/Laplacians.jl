{
 "cells": [
  {
   "cell_type": "code",
   "execution_count": 1,
   "metadata": {
    "collapsed": true
   },
   "outputs": [],
   "source": [
    "using Laplacians"
   ]
  },
  {
   "cell_type": "code",
   "execution_count": 2,
   "metadata": {
    "collapsed": false
   },
   "outputs": [
    {
     "data": {
      "text/plain": [
       "3-element Array{ByteString,1}:\n",
       " \"/usr/local/Cellar/julia/0.4.5/local/share/julia/site/v0.4\"\n",
       " \"/usr/local/Cellar/julia/0.4.5/share/julia/site/v0.4\"      \n",
       " \"../Laplacians.jl/src\"                                     "
      ]
     },
     "execution_count": 2,
     "metadata": {},
     "output_type": "execute_result"
    }
   ],
   "source": [
    "push!(LOAD_PATH,\"../Laplacians.jl/src\")"
   ]
  },
  {
   "cell_type": "code",
   "execution_count": 3,
   "metadata": {
    "collapsed": false
   },
   "outputs": [
    {
     "data": {
      "text/plain": [
       "tomatrix (generic function with 1 method)"
      ]
     },
     "execution_count": 3,
     "metadata": {},
     "output_type": "execute_result"
    }
   ],
   "source": [
    "include(\"../src/samplingSolver.jl\")"
   ]
  },
  {
   "cell_type": "markdown",
   "metadata": {},
   "source": [
    "Note: Below, we're setting the rng seed at each round so it's easier to re-run a single round"
   ]
  },
  {
   "cell_type": "code",
   "execution_count": 4,
   "metadata": {
    "collapsed": false
   },
   "outputs": [
    {
     "name": "stdout",
     "output_type": "stream",
     "text": [
      "n = 10, run = 1\n",
      "  1.563338 seconds (857.75 k allocations: 39.054 MB, 0.73% gc time)\n"
     ]
    },
    {
     "ename": "LoadError",
     "evalue": "LoadError: samp USE err!\nwhile loading In[4], in expression starting on line 3",
     "output_type": "error",
     "traceback": [
      "LoadError: samp USE err!\nwhile loading In[4], in expression starting on line 3",
      ""
     ]
    }
   ],
   "source": [
    "scales = 3\n",
    "graphsPerScale = 2\n",
    "for i = 1:scales\n",
    "    n = 10^i\n",
    "    for j = 1:graphsPerScale\n",
    "        println(\"n = \",n, \", run = \",j)\n",
    "        srand(i*j)\n",
    "        @time a = chimera(n,j)\n",
    "        @time f,gOp = buildSolver(a)\n",
    "        println(\" checkError = \", checkError(gOp))\n",
    "    end\n",
    "end"
   ]
  },
  {
   "cell_type": "code",
   "execution_count": 5,
   "metadata": {
    "collapsed": false
   },
   "outputs": [
    {
     "name": "stdout",
     "output_type": "stream",
     "text": [
      "n = 1000, run = 2\n",
      "  1.130111 seconds (1.31 M allocations: 58.748 MB, 1.66% gc time)\n"
     ]
    },
    {
     "ename": "LoadError",
     "evalue": "LoadError: samp USE err!\nwhile loading In[5], in expression starting on line 155",
     "output_type": "error",
     "traceback": [
      "LoadError: samp USE err!\nwhile loading In[5], in expression starting on line 155",
      ""
     ]
    }
   ],
   "source": [
    "i,j = 3,2\n",
    "n = 10^i\n",
    "println(\"n = \",n, \", run = \",j)\n",
    "srand(i*j)\n",
    "@time a = chimera(n,j)\n",
    "@time f,gOp = buildSolver(a)\n",
    "println(\" checkError = \", checkError(gOp))"
   ]
  },
  {
   "cell_type": "code",
   "execution_count": null,
   "metadata": {
    "collapsed": true
   },
   "outputs": [],
   "source": []
  }
 ],
 "metadata": {
  "kernelspec": {
   "display_name": "Julia 0.4.5",
   "language": "julia",
   "name": "julia-0.4"
  },
  "language_info": {
   "file_extension": ".jl",
   "mimetype": "application/julia",
   "name": "julia",
   "version": "0.4.5"
  }
 },
 "nbformat": 4,
 "nbformat_minor": 0
}
