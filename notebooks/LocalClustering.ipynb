{
 "cells": [
  {
   "cell_type": "code",
   "execution_count": 1,
   "metadata": {
    "collapsed": false
   },
   "outputs": [],
   "source": [
    "using Laplacians"
   ]
  },
  {
   "cell_type": "code",
   "execution_count": null,
   "metadata": {
    "collapsed": false
   },
   "outputs": [
    {
     "name": "stdout",
     "output_type": "stream",
     "text": [
      "Test 1\n",
      "  0.498996 seconds (580.58 k allocations: 128.134 MB, 5.32% gc time)\n",
      "0.19463087248322147 with 95 vertices\n",
      "0.15714285714285714 with 30 vertices. improvement = 19.261083743842363% <- flow\n",
      "0.18284424379232506 with 94 vertices. improvement = 6.055888534288159%\n",
      "0.18306636155606407 with 186 vertices. improvement = 5.941765959125702%\n",
      "*********\n",
      "Test 2\n",
      "  0.137926 seconds (688.70 k allocations: 128.910 MB, 20.34% gc time)\n",
      "0.19837232960325535 with 160 vertices\n",
      "0.08287292817679558 with 90 vertices. improvement = 58.22354441138972% <- flow\n",
      "0.13617021276595745 with 156 vertices. improvement = 31.356246590289143%\n",
      "0.1411764705882353 with 295 vertices. improvement = 28.83257918552037%\n",
      "*********\n",
      "Test 3\n",
      "Test 4\n",
      "Test 5\n",
      "  0.223772 seconds (1.50 M allocations: 137.084 MB, 8.51% gc time)\n",
      "0.19839357429718876 with 418 vertices\n",
      "0.10861423220973783 with 283 vertices. improvement = 45.25315016148843% <- flow\n",
      "0.13905579399141632 with 410 vertices. improvement = 29.909124081249672%\n",
      "0.13538666075781078 with 786 vertices. improvement = 31.758545488471896%\n",
      "*********\n",
      "Test 6\n",
      "  "
     ]
    }
   ],
   "source": [
    "function condTest(minSize)\n",
    "    a = chimera(2500)\n",
    "    s = prn(a, [1,2,3], 0.2, 5);\n",
    "    conds = compConductance(a, s)\n",
    "    if length(s) < minSize\n",
    "        return -1,0,0,0\n",
    "    end\n",
    "    \n",
    "    minEpsSigma = getVolume(a, s) / getVolume(a, setdiff(collect(1:max(a.n, a.m)), s))\n",
    "    @time cut, flow = localImprove(a, s, epsSigma = minEpsSigma)\n",
    "    condcut = compConductance(a, cut)\n",
    "    \n",
    "    heur_refcut = refineCut(a, s)\n",
    "    condref = compConductance(a, heur_refcut)\n",
    "    \n",
    "    heur_dumb = dumb(a, s)\n",
    "    conddumb = compConductance(a, heur_dumb)\n",
    "    \n",
    "    println(conds, \" with \", length(s), \" vertices\")\n",
    "    println(condcut, \" with \", length(cut), \" vertices. improvement = \", (conds - condcut) / conds * 100, \"% <- flow\")\n",
    "    println(condref, \" with \", length(heur_refcut), \" vertices. improvement = \", (conds - condref) / conds * 100, \"%\")\n",
    "    println(conddumb, \" with \", length(heur_dumb), \" vertices. improvement = \", (conds - conddumb) / conds * 100, \"%\")\n",
    "    println(\"*********\")\n",
    "    \n",
    "    \n",
    "    return conds, condcut, condref, conddumb\n",
    "end\n",
    "\n",
    "initial = []\n",
    "flowbased = []\n",
    "heurbased = []\n",
    "dumbbased = []\n",
    "\n",
    "for i in 1:300\n",
    "    println(\"Test \", i)\n",
    "    \n",
    "    x,y,z,t = condTest(30)\n",
    "    if x == -1\n",
    "        continue\n",
    "    end\n",
    "    \n",
    "    push!(initial, x)\n",
    "    push!(flowbased, y)\n",
    "    push!(heurbased, z)\n",
    "    push!(dumbbased, t)\n",
    "end"
   ]
  },
  {
   "cell_type": "code",
   "execution_count": null,
   "metadata": {
    "collapsed": false
   },
   "outputs": [],
   "source": [
    "println(mean(initial), \" \", median(initial))\n",
    "println(mean(flowbased), \" \", median(flowbased))\n",
    "println(mean(heurbased), \" \", median(heurbased))\n",
    "println(mean(dumbbased), \" \", median(dumbbased))"
   ]
  }
 ],
 "metadata": {
  "kernelspec": {
   "display_name": "Julia 0.4.0",
   "language": "julia",
   "name": "julia-0.4"
  },
  "language_info": {
   "file_extension": ".jl",
   "mimetype": "application/julia",
   "name": "julia",
   "version": "0.4.0"
  }
 },
 "nbformat": 4,
 "nbformat_minor": 0
}
