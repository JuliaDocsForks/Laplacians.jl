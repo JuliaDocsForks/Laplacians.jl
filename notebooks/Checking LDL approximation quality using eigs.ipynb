{
 "cells": [
  {
   "cell_type": "markdown",
   "metadata": {},
   "source": [
    "We test the SqLinOp wrapper for computing eigenvalues of implicitly represented square linear operators.\n",
    "\n",
    "It seems that the power method code eigvals_power from the *IterativeSolvers* package is broken?\n",
    "\n",
    "But eigvals_lanczos might be working, however it's not clear how to get only the largest eig, since a call for one eig seems to sometime produce a smaller eig?\n",
    "\n",
    "It's probably better just to go for the *eigs* function from standard julia lin alg.\n",
    "\n",
    "*Tentatively* it seems that using :LM option for eigs gives the eigenvalue that's largest in magnitude, which is good enough for our purposes?"
   ]
  },
  {
   "cell_type": "markdown",
   "metadata": {},
   "source": [
    "Testing with our LDL\n",
    "--------------------"
   ]
  },
  {
   "cell_type": "code",
   "execution_count": 1,
   "metadata": {
    "collapsed": false
   },
   "outputs": [],
   "source": [
    "using Laplacians"
   ]
  },
  {
   "cell_type": "code",
   "execution_count": 2,
   "metadata": {
    "collapsed": false
   },
   "outputs": [
    {
     "data": {
      "text/plain": [
       "purge (generic function with 1 method)"
      ]
     },
     "execution_count": 2,
     "metadata": {},
     "output_type": "execute_result"
    }
   ],
   "source": [
    "include(\"../src/samplingSolver.jl\")"
   ]
  },
  {
   "cell_type": "code",
   "execution_count": 3,
   "metadata": {
    "collapsed": true
   },
   "outputs": [],
   "source": [
    "A = chimera(10,1);"
   ]
  },
  {
   "cell_type": "code",
   "execution_count": 4,
   "metadata": {
    "collapsed": false
   },
   "outputs": [
    {
     "data": {
      "text/plain": [
       "10"
      ]
     },
     "execution_count": 4,
     "metadata": {},
     "output_type": "execute_result"
    }
   ],
   "source": [
    "n = A.n"
   ]
  },
  {
   "cell_type": "code",
   "execution_count": 13,
   "metadata": {
    "collapsed": false
   },
   "outputs": [],
   "source": [
    "f,gOp,U,d = buildSolver(A);"
   ]
  },
  {
   "cell_type": "code",
   "execution_count": 6,
   "metadata": {
    "collapsed": false
   },
   "outputs": [
    {
     "data": {
      "text/plain": [
       "SqLinOp{Float64,Int64}(true,1.0,10,(anonymous function))"
      ]
     },
     "execution_count": 6,
     "metadata": {},
     "output_type": "execute_result"
    }
   ],
   "source": [
    "fOp = SqLinOp(true,1.0,n,f)"
   ]
  },
  {
   "cell_type": "code",
   "execution_count": 8,
   "metadata": {
    "collapsed": false
   },
   "outputs": [
    {
     "name": "stdout",
     "output_type": "stream",
     "text": [
      "  0.000609 seconds (491 allocations: 55.266 KB)\n"
     ]
    },
    {
     "data": {
      "text/plain": [
       "2.1604506204523295"
      ]
     },
     "execution_count": 8,
     "metadata": {},
     "output_type": "execute_result"
    }
   ],
   "source": [
    "@time eigs(fOp;nev=1,which=:LM)[1][1]"
   ]
  },
  {
   "cell_type": "code",
   "execution_count": 9,
   "metadata": {
    "collapsed": true
   },
   "outputs": [],
   "source": [
    "L = lap(A);"
   ]
  },
  {
   "cell_type": "code",
   "execution_count": 10,
   "metadata": {
    "collapsed": false
   },
   "outputs": [
    {
     "data": {
      "text/plain": [
       "0.0"
      ]
     },
     "execution_count": 10,
     "metadata": {},
     "output_type": "execute_result"
    }
   ],
   "source": [
    "norm(Symmetric(L)-L)"
   ]
  },
  {
   "cell_type": "code",
   "execution_count": 11,
   "metadata": {
    "collapsed": false
   },
   "outputs": [
    {
     "data": {
      "text/plain": [
       "2.1888891924987695"
      ]
     },
     "execution_count": 11,
     "metadata": {},
     "output_type": "execute_result"
    }
   ],
   "source": [
    "eigs(Symmetric(pinv(full(L)));nev=1,which=:LM)[1][1]"
   ]
  },
  {
   "cell_type": "markdown",
   "metadata": {},
   "source": [
    "looks reasonable?"
   ]
  },
  {
   "cell_type": "code",
   "execution_count": 15,
   "metadata": {
    "collapsed": false
   },
   "outputs": [
    {
     "name": "stdout",
     "output_type": "stream",
     "text": [
      "  0.000626 seconds (781 allocations: 59.797 KB)\n"
     ]
    },
    {
     "data": {
      "text/plain": [
       "-0.04724310116513397"
      ]
     },
     "execution_count": 15,
     "metadata": {},
     "output_type": "execute_result"
    }
   ],
   "source": [
    "@time eigs(gOp;nev=1,which=:LM)[1][1]"
   ]
  },
  {
   "cell_type": "code",
   "execution_count": 16,
   "metadata": {
    "collapsed": false
   },
   "outputs": [
    {
     "name": "stdout",
     "output_type": "stream",
     "text": [
      "  0.002700 seconds (1.37 k allocations: 93.650 KB)\n"
     ]
    },
    {
     "data": {
      "text/plain": [
       "6-element Array{Float64,1}:\n",
       " -0.0472431 \n",
       "  0.0280675 \n",
       " -0.00772168\n",
       "  0.00672949\n",
       "  0.00456993\n",
       "  6.61894e-5"
      ]
     },
     "execution_count": 16,
     "metadata": {},
     "output_type": "execute_result"
    }
   ],
   "source": [
    "@time eigs(gOp)[1]"
   ]
  },
  {
   "cell_type": "code",
   "execution_count": 17,
   "metadata": {
    "collapsed": false
   },
   "outputs": [
    {
     "data": {
      "text/plain": [
       "0.09518690709748781"
      ]
     },
     "execution_count": 17,
     "metadata": {},
     "output_type": "execute_result"
    }
   ],
   "source": [
    "norm(full(L - U * spdiagm(d) * U'))"
   ]
  },
  {
   "cell_type": "code",
   "execution_count": 18,
   "metadata": {
    "collapsed": false
   },
   "outputs": [
    {
     "data": {
      "text/plain": [
       "1x10 Array{Float64,2}:\n",
       " 0.57735  0.609961  0.617282  0.707107  …  0.887277  0.965056  1.1522  0.0"
      ]
     },
     "execution_count": 18,
     "metadata": {},
     "output_type": "execute_result"
    }
   ],
   "source": [
    "dih = zeros(n); dih[1:(n-1)] = d[1:(n-1)].^(-1/2); dih'"
   ]
  },
  {
   "cell_type": "code",
   "execution_count": 19,
   "metadata": {
    "collapsed": false
   },
   "outputs": [],
   "source": [
    "Ui = full(U)^(-1);"
   ]
  },
  {
   "cell_type": "code",
   "execution_count": 20,
   "metadata": {
    "collapsed": false
   },
   "outputs": [],
   "source": [
    "Papx = diagm(dih)*Ui*L*Ui'*diagm(dih);"
   ]
  },
  {
   "cell_type": "code",
   "execution_count": 21,
   "metadata": {
    "collapsed": false
   },
   "outputs": [],
   "source": [
    "P = eye(n); P[n,n] = 0;"
   ]
  },
  {
   "cell_type": "code",
   "execution_count": 23,
   "metadata": {
    "collapsed": false
   },
   "outputs": [
    {
     "name": "stdout",
     "output_type": "stream",
     "text": [
      "  0.016323 seconds (5.19 k allocations: 275.069 KB, 35.04% gc time)\n"
     ]
    },
    {
     "data": {
      "text/plain": [
       "-0.04724310116513395"
      ]
     },
     "execution_count": 23,
     "metadata": {},
     "output_type": "execute_result"
    }
   ],
   "source": [
    "@time eigs(Symmetric(Papx-P);nev=1,which=:LM)[1][1]"
   ]
  },
  {
   "cell_type": "markdown",
   "metadata": {
    "collapsed": false
   },
   "source": [
    "> eigs(gOp;nev=1,which=:LM)[1][1]\n",
    "\n",
    "agrees with\n",
    "\n",
    "> eigs(Symmetric(Papx-P);nev=1,which=:LM)[1][1]\n",
    "\n",
    "so I think the implicit representation is working."
   ]
  },
  {
   "cell_type": "markdown",
   "metadata": {},
   "source": [
    "How to do the check\n",
    "-------------------"
   ]
  },
  {
   "cell_type": "code",
   "execution_count": 3,
   "metadata": {
    "collapsed": false
   },
   "outputs": [
    {
     "data": {
      "text/plain": [
       "700"
      ]
     },
     "execution_count": 3,
     "metadata": {},
     "output_type": "execute_result"
    }
   ],
   "source": [
    "A = chimera(700,1); n = A.n"
   ]
  },
  {
   "cell_type": "code",
   "execution_count": null,
   "metadata": {
    "collapsed": false
   },
   "outputs": [],
   "source": [
    "@time for i in 1:10\n",
    "    f,gOp,U,d = buildSolver(A);\n",
    "end"
   ]
  },
  {
   "cell_type": "code",
   "execution_count": 14,
   "metadata": {
    "collapsed": false
   },
   "outputs": [
    {
     "data": {
      "text/plain": [
       "true"
      ]
     },
     "execution_count": 14,
     "metadata": {},
     "output_type": "execute_result"
    }
   ],
   "source": [
    "abs(checkError(gOp)) < 0.5"
   ]
  },
  {
   "cell_type": "code",
   "execution_count": 15,
   "metadata": {
    "collapsed": false
   },
   "outputs": [
    {
     "data": {
      "text/plain": [
       "0.04387413598875789"
      ]
     },
     "execution_count": 15,
     "metadata": {},
     "output_type": "execute_result"
    }
   ],
   "source": [
    "checkError(gOp)"
   ]
  },
  {
   "cell_type": "code",
   "execution_count": 74,
   "metadata": {
    "collapsed": false
   },
   "outputs": [],
   "source": [
    "Lapx = U * spdiagm(d) * U';"
   ]
  },
  {
   "cell_type": "code",
   "execution_count": 77,
   "metadata": {
    "collapsed": false
   },
   "outputs": [
    {
     "data": {
      "text/plain": [
       "200x200 Array{Float64,2}:\n",
       "  0.360271     -0.00588109   -0.000990261  …  -0.00524851   -0.00799241\n",
       " -0.00588109    0.445984      0.000636373      0.00220823   -0.00638217\n",
       " -0.000990261   0.000636373   0.564645        -0.00375238   -0.00892213\n",
       " -0.00797588   -0.0059753    -0.00918831      -0.00760754    0.108593  \n",
       "  0.0373765    -0.00671127   -0.00582073      -0.00570369   -0.00771565\n",
       "  0.0235354    -0.00628711   -0.00558339   …  -0.00193305   -0.00757222\n",
       " -0.00643732   -0.0053051    -0.00741875      -0.0061257     0.0654419 \n",
       " -0.000195251  -0.00611914    0.00288022      -0.0068299    -0.00777341\n",
       " -0.00530052   -0.0065231    -0.00676912      -0.00512698   -0.0081187 \n",
       "  0.000983122   0.00186865   -0.00650931      -0.00338515   -0.00538942\n",
       "  0.00581447   -0.00747657   -0.00554944   …  -0.00399302   -0.00827748\n",
       " -0.00751793   -0.00441592   -0.00878342      -0.00735153    0.0509908 \n",
       " -0.000925103  -0.00708319   -0.00536065       0.00511356   -0.00822426\n",
       "  ⋮                                        ⋱                           \n",
       " -0.00668066    0.0310687    -0.00561476       0.00543652   -0.0072014 \n",
       " -0.00619034   -0.00468491   -0.00812577      -0.00332262   -0.00420996\n",
       " -0.0061752    -0.00579505   -0.00859236   …  -0.00410543   -0.00219392\n",
       "  0.0216893    -0.00624456   -0.00637609      -0.00777923   -0.00793377\n",
       " -0.00729211   -0.00741729   -0.00763988       0.000957576  -0.00844497\n",
       " -0.00598051   -0.00469892   -0.00805687      -0.0054888     0.0329412 \n",
       " -0.00466232   -0.00052472   -0.00737948      -0.00725992   -0.00622117\n",
       " -0.00642647   -0.00531291   -0.00723851   …  -0.00110942   -0.00781634\n",
       " -0.00203282   -0.00635375   -0.00383434      -0.00489602   -0.00723658\n",
       " -0.00497045   -0.00637128   -0.006793        -0.00518513   -0.00757046\n",
       " -0.00524851    0.00220823   -0.00375238       0.413634     -0.00734682\n",
       " -0.00799241   -0.00638217   -0.00892213      -0.00734682    0.571073  "
      ]
     },
     "execution_count": 77,
     "metadata": {},
     "output_type": "execute_result"
    }
   ],
   "source": [
    "Lapxih = real(pinv(full(Lapx))^(1/2))"
   ]
  },
  {
   "cell_type": "code",
   "execution_count": 80,
   "metadata": {
    "collapsed": false
   },
   "outputs": [
    {
     "data": {
      "text/plain": [
       "0.03085431012087925"
      ]
     },
     "execution_count": 80,
     "metadata": {},
     "output_type": "execute_result"
    }
   ],
   "source": [
    "norm(Lapxih*lap(A)*Lapxih - (eye(n)-ones(n,n)/n))"
   ]
  },
  {
   "cell_type": "code",
   "execution_count": null,
   "metadata": {
    "collapsed": true
   },
   "outputs": [],
   "source": []
  }
 ],
 "metadata": {
  "kernelspec": {
   "display_name": "Julia 0.4.5",
   "language": "julia",
   "name": "julia-0.4"
  },
  "language_info": {
   "file_extension": ".jl",
   "mimetype": "application/julia",
   "name": "julia",
   "version": "0.4.5"
  }
 },
 "nbformat": 4,
 "nbformat_minor": 0
}
