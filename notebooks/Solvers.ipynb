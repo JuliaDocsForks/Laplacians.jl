{
 "cells": [
  {
   "cell_type": "markdown",
   "metadata": {},
   "source": [
    "This is a demo/instructions for solving equations in Laplacian and SDD matrices.\n",
    "The sections are:\n",
    "* <a href=\"#direct\">Direct solvers for SDD systems</a>\n",
    "* <a href=\"#lap\">Solving Laplacian systems</a>\n",
    "* <a href=\"#cg\">Using Conjugate Gradient</a>\n",
    "* <a href=\"#stretch\">Computing Stretch</a>\n",
    "* <a href=\"#precon\">A preconditioned spanning tree solver</a>\n"
   ]
  },
  {
   "cell_type": "code",
   "execution_count": 1,
   "metadata": {
    "collapsed": false
   },
   "outputs": [],
   "source": [
    "using Laplacians"
   ]
  },
  {
   "cell_type": "markdown",
   "metadata": {},
   "source": [
    "# <a name=\"direct\">Direct solvers for SDD systems</a>"
   ]
  },
  {
   "cell_type": "markdown",
   "metadata": {},
   "source": [
    "We first generate a SDD, Positive Definite, system, and solve it using a direct solver.  This uses the amd ordering, and is very fast."
   ]
  },
  {
   "cell_type": "code",
   "execution_count": 2,
   "metadata": {
    "collapsed": false
   },
   "outputs": [
    {
     "data": {
      "text/plain": [
       "Base.SparseMatrix.CHOLMOD.Factor{Float64}\n",
       "type:          LLt\n",
       "method: simplicial\n",
       "maxnnz:        102\n",
       "nnz:           102\n"
      ]
     },
     "execution_count": 2,
     "metadata": {},
     "output_type": "execute_result"
    }
   ],
   "source": [
    "a = grid2(5)\n",
    "la = lap(a)\n",
    "la[1,1] = la[1,1] + 1\n",
    "F = cholfact(la)"
   ]
  },
  {
   "cell_type": "markdown",
   "metadata": {
    "collapsed": false
   },
   "source": [
    "We can now use F to solve systems in this matrix, la.  It is a complex structure that encodes a cholesky factorization, but it is much more than that."
   ]
  },
  {
   "cell_type": "code",
   "execution_count": 3,
   "metadata": {
    "collapsed": false
   },
   "outputs": [
    {
     "data": {
      "text/plain": [
       "5.143087378554464e-15"
      ]
     },
     "execution_count": 3,
     "metadata": {},
     "output_type": "execute_result"
    }
   ],
   "source": [
    "n = size(a)[1]\n",
    "b = randn(n)\n",
    "x = F \\ b\n",
    "norm(la*x-b)"
   ]
  },
  {
   "cell_type": "markdown",
   "metadata": {},
   "source": [
    "Let's poke around to see what F has inside it."
   ]
  },
  {
   "cell_type": "code",
   "execution_count": 4,
   "metadata": {
    "collapsed": false
   },
   "outputs": [
    {
     "data": {
      "text/plain": [
       "Base.SparseMatrix.CHOLMOD.Factor{Float64}\n",
       "type:          LLt\n",
       "method: simplicial\n",
       "maxnnz:        102\n",
       "nnz:           102\n"
      ]
     },
     "execution_count": 4,
     "metadata": {},
     "output_type": "execute_result"
    }
   ],
   "source": [
    "F"
   ]
  },
  {
   "cell_type": "code",
   "execution_count": 5,
   "metadata": {
    "collapsed": false
   },
   "outputs": [
    {
     "data": {
      "text/plain": [
       "Factorization{Float64}"
      ]
     },
     "execution_count": 5,
     "metadata": {},
     "output_type": "execute_result"
    }
   ],
   "source": [
    "super(typeof(F))"
   ]
  },
  {
   "cell_type": "code",
   "execution_count": 6,
   "metadata": {
    "collapsed": false
   },
   "outputs": [
    {
     "data": {
      "text/plain": [
       "true"
      ]
     },
     "execution_count": 6,
     "metadata": {},
     "output_type": "execute_result"
    }
   ],
   "source": [
    "isa(F,Factorization)"
   ]
  },
  {
   "cell_type": "code",
   "execution_count": 7,
   "metadata": {
    "collapsed": false
   },
   "outputs": [
    {
     "data": {
      "text/plain": [
       "1-element Array{Symbol,1}:\n",
       " :p"
      ]
     },
     "execution_count": 7,
     "metadata": {},
     "output_type": "execute_result"
    }
   ],
   "source": [
    "fieldnames(F)"
   ]
  },
  {
   "cell_type": "markdown",
   "metadata": {},
   "source": [
    "## Testing the speed of that"
   ]
  },
  {
   "cell_type": "markdown",
   "metadata": {},
   "source": [
    "Let's see how long this will take on biggish grids, and on random regular graphs (which will have a lot of fill)"
   ]
  },
  {
   "cell_type": "code",
   "execution_count": 8,
   "metadata": {
    "collapsed": false
   },
   "outputs": [
    {
     "name": "stdout",
     "output_type": "stream",
     "text": [
      "  "
     ]
    }
   ],
   "source": [
    "n = 500;\n",
    "a = grid2(n)\n",
    "la = lap(a)\n",
    "la[1,1] = la[1,1] + 1\n",
    "@time F = cholfact(la);"
   ]
  },
  {
   "cell_type": "markdown",
   "metadata": {
    "collapsed": false
   },
   "source": [
    "For a 500-by-500 grid, it took 1.5 seconds.  We will now see that to use the solver, it takes 0.4 seconds."
   ]
  },
  {
   "cell_type": "code",
   "execution_count": 9,
   "metadata": {
    "collapsed": false
   },
   "outputs": [
    {
     "name": "stdout",
     "output_type": "stream",
     "text": [
      "1.527121 seconds (205 allocations: 256.844 MB, 6.59% gc time)\n",
      "  "
     ]
    },
    {
     "data": {
      "text/plain": [
       "2.976278365938353e-10"
      ]
     },
     "execution_count": 9,
     "metadata": {},
     "output_type": "execute_result"
    }
   ],
   "source": [
    "N = size(la)[1]\n",
    "b = randn(N)\n",
    "@time x = F \\ b\n",
    "norm(la*x-b)"
   ]
  },
  {
   "cell_type": "markdown",
   "metadata": {},
   "source": [
    "For a random regular graph, we hit 1.5 seconds at around 20k vertices."
   ]
  },
  {
   "cell_type": "code",
   "execution_count": 10,
   "metadata": {
    "collapsed": false
   },
   "outputs": [
    {
     "name": "stdout",
     "output_type": "stream",
     "text": [
      "0.377724 seconds (19 allocations: 7.634 MB, 1.35% gc time)\n",
      "  "
     ]
    }
   ],
   "source": [
    "N = 20000;\n",
    "a = randRegular(N,3)\n",
    "la = lap(a)\n",
    "la[1,1] = la[1,1] + 1\n",
    "@time F = cholfact(la);"
   ]
  },
  {
   "cell_type": "markdown",
   "metadata": {
    "collapsed": true
   },
   "source": [
    "The time required for the solve is then around 0.05 seconds."
   ]
  },
  {
   "cell_type": "code",
   "execution_count": 11,
   "metadata": {
    "collapsed": false
   },
   "outputs": [
    {
     "data": {
      "text/plain": [
       "2.069855996116447e-12"
      ]
     },
     "execution_count": 11,
     "metadata": {},
     "output_type": "execute_result"
    }
   ],
   "source": [
    "b = randn(N)\n",
    "@time x = F \\ b\n",
    "norm(la*x-b)"
   ]
  },
  {
   "cell_type": "markdown",
   "metadata": {
    "collapsed": true
   },
   "source": [
    "## What about just using \\ ?"
   ]
  },
  {
   "cell_type": "code",
   "execution_count": 12,
   "metadata": {
    "collapsed": false
   },
   "outputs": [
    {
     "name": "stdout",
     "output_type": "stream",
     "text": [
      "1.434061 seconds (59 allocations: 259.422 MB, 0.89% gc time)\n",
      "  0.053558 seconds (19 allocations: 648.281 KB)\n",
      "  "
     ]
    },
    {
     "data": {
      "text/plain": [
       "3.047155955006307e-10"
      ]
     },
     "execution_count": 12,
     "metadata": {},
     "output_type": "execute_result"
    }
   ],
   "source": [
    "n = 500;\n",
    "a = grid2(n)\n",
    "la = lap(a)\n",
    "la[1,1] = la[1,1] + 1\n",
    "N = size(la)[1]\n",
    "b = randn(N)\n",
    "@time x = la \\ b\n",
    "norm(la*x-b)"
   ]
  },
  {
   "cell_type": "markdown",
   "metadata": {},
   "source": [
    "Just using \\ appears to be right, so it is probably using cholfact."
   ]
  },
  {
   "cell_type": "markdown",
   "metadata": {},
   "source": [
    "# <a name=\"lap\">Solving Laplacian Systems</a>"
   ]
  },
  {
   "cell_type": "markdown",
   "metadata": {},
   "source": [
    "We solve Laplacian systems by solving a system in the induced submatrix.\n",
    "Here are the steps, which I will then put into a wrapper function.  It works by solving in a submatrix, like this:"
   ]
  },
  {
   "cell_type": "code",
   "execution_count": 13,
   "metadata": {
    "collapsed": false
   },
   "outputs": [],
   "source": [
    "la = lap(grid2(500))\n",
    "N = size(la)[1]\n",
    "lasub = la[1:(N-1),1:(N-1)]\n",
    "Fsub = cholfact(lasub);"
   ]
  },
  {
   "cell_type": "code",
   "execution_count": 14,
   "metadata": {
    "collapsed": false
   },
   "outputs": [
    {
     "name": "stdout",
     "output_type": "stream",
     "text": [
      "1.980881 seconds (139.37 k allocations: 274.019 MB, 4.79% gc time)\n"
     ]
    },
    {
     "data": {
      "text/plain": [
       "5.809541011026003e-9"
      ]
     },
     "execution_count": 14,
     "metadata": {},
     "output_type": "execute_result"
    }
   ],
   "source": [
    "b = randn(N)\n",
    "b = b - mean(b)\n",
    "bs = b[1:(N-1)]\n",
    "xs = Fsub \\ bs;\n",
    "x = [xs;0]\n",
    "x = x - mean(x)\n",
    "norm(la*x-b)"
   ]
  },
  {
   "cell_type": "markdown",
   "metadata": {},
   "source": [
    "The following wraps a solver for SDD systems into a solver for Laplacian systems.  We really need to work on the types of solver, and actually for everything else inside."
   ]
  },
  {
   "cell_type": "markdown",
   "metadata": {},
   "source": [
    "Let's see this work."
   ]
  },
  {
   "cell_type": "code",
   "execution_count": 15,
   "metadata": {
    "collapsed": false
   },
   "outputs": [
    {
     "data": {
      "text/plain": [
       "2.621755646216747e-9"
      ]
     },
     "execution_count": 15,
     "metadata": {},
     "output_type": "execute_result"
    }
   ],
   "source": [
    "la = lap(a);\n",
    "f = lapWrapSolver(cholfact,la)\n",
    "b = randn(size(a)[1]); b = b - mean(b);\n",
    "norm(la*f(b) - b)"
   ]
  },
  {
   "cell_type": "markdown",
   "metadata": {},
   "source": [
    "We now make two more versions: one that just takes the solver, and one that takes b as well."
   ]
  },
  {
   "cell_type": "code",
   "execution_count": 16,
   "metadata": {
    "collapsed": false
   },
   "outputs": [
    {
     "data": {
      "text/plain": [
       "(anonymous function)"
      ]
     },
     "execution_count": 16,
     "metadata": {},
     "output_type": "execute_result"
    }
   ],
   "source": [
    "lapChol2 = lapWrapSolver(cholfact)"
   ]
  },
  {
   "cell_type": "code",
   "execution_count": 17,
   "metadata": {
    "collapsed": false
   },
   "outputs": [
    {
     "data": {
      "text/plain": [
       "(anonymous function)"
      ]
     },
     "execution_count": 17,
     "metadata": {},
     "output_type": "execute_result"
    }
   ],
   "source": [
    "f = lapChol(la)"
   ]
  },
  {
   "cell_type": "code",
   "execution_count": 18,
   "metadata": {
    "collapsed": false
   },
   "outputs": [
    {
     "data": {
      "text/plain": [
       "2.621755646216747e-9"
      ]
     },
     "execution_count": 18,
     "metadata": {},
     "output_type": "execute_result"
    }
   ],
   "source": [
    "norm(la*f(b) - b)"
   ]
  },
  {
   "cell_type": "code",
   "execution_count": 19,
   "metadata": {
    "collapsed": false
   },
   "outputs": [
    {
     "data": {
      "text/plain": [
       "2.621755646216747e-9"
      ]
     },
     "execution_count": 19,
     "metadata": {},
     "output_type": "execute_result"
    }
   ],
   "source": [
    "x = lapWrapSolver(cholfact,la,b)\n",
    "norm(la*x - b)"
   ]
  },
  {
   "cell_type": "code",
   "execution_count": null,
   "metadata": {
    "collapsed": true
   },
   "outputs": [],
   "source": []
  },
  {
   "cell_type": "markdown",
   "metadata": {},
   "source": [
    "I really like the fact that Julia lets me type the following.  It still needs reasonable types."
   ]
  },
  {
   "cell_type": "markdown",
   "metadata": {},
   "source": [
    "# <a name=\"cg\">Using Conjugate Gradient</a>"
   ]
  },
  {
   "cell_type": "markdown",
   "metadata": {},
   "source": [
    "Here are examples of how to solve systems using the Conjugate Gradient."
   ]
  },
  {
   "cell_type": "code",
   "execution_count": 20,
   "metadata": {
    "collapsed": false
   },
   "outputs": [
    {
     "data": {
      "text/plain": [
       "6.530265309919312e-6"
      ]
     },
     "execution_count": 20,
     "metadata": {},
     "output_type": "execute_result"
    }
   ],
   "source": [
    "n = 50\n",
    "a = randn(n,n); a = a * a';\n",
    "b = randn(n)\n",
    "x = cg(a,b,maxits=100)\n",
    "norm(a*x - b)"
   ]
  },
  {
   "cell_type": "code",
   "execution_count": 21,
   "metadata": {
    "collapsed": false
   },
   "outputs": [
    {
     "data": {
      "text/plain": [
       "3.408504794566293816762470763584253827015914440348506316254697226173169945005103e-37"
      ]
     },
     "execution_count": 21,
     "metadata": {},
     "output_type": "execute_result"
    }
   ],
   "source": [
    "bbig = convert(Array{BigFloat,1},b);\n",
    "xbig = cg(a,bbig,maxits=100)\n",
    "norm(a*xbig - bbig)"
   ]
  },
  {
   "cell_type": "code",
   "execution_count": 22,
   "metadata": {
    "collapsed": false
   },
   "outputs": [],
   "source": [
    "la = lap(grid2(200))\n",
    "n = size(la)[1]\n",
    "b = randn(n)\n",
    "b = b - mean(b);"
   ]
  },
  {
   "cell_type": "code",
   "execution_count": 23,
   "metadata": {
    "collapsed": false
   },
   "outputs": [
    {
     "name": "stdout",
     "output_type": "stream",
     "text": [
      "  "
     ]
    },
    {
     "data": {
      "text/plain": [
       "0.00019928918001516186"
      ]
     },
     "execution_count": 23,
     "metadata": {},
     "output_type": "execute_result"
    }
   ],
   "source": [
    "@time x = cg(la,b,maxits=1000)\n",
    "norm(la*x-b)"
   ]
  },
  {
   "cell_type": "code",
   "execution_count": 24,
   "metadata": {
    "collapsed": true
   },
   "outputs": [],
   "source": [
    "a = mapweight(grid2(200),x->1/(rand(1)[1]));\n",
    "la = lap(a)\n",
    "n = size(la)[1]\n",
    "b = randn(n)\n",
    "b = b - mean(b);"
   ]
  },
  {
   "cell_type": "code",
   "execution_count": 25,
   "metadata": {
    "collapsed": false
   },
   "outputs": [
    {
     "name": "stdout",
     "output_type": "stream",
     "text": [
      "0.816791 seconds (29.34 k allocations: 207.333 MB, 3.30% gc time)\n",
      "  "
     ]
    },
    {
     "data": {
      "text/plain": [
       "97.96603417977055"
      ]
     },
     "execution_count": 25,
     "metadata": {},
     "output_type": "execute_result"
    }
   ],
   "source": [
    "@time x = cg(la,b,maxits=4000)\n",
    "norm(la*x-b)"
   ]
  },
  {
   "cell_type": "markdown",
   "metadata": {
    "collapsed": true
   },
   "source": [
    "Now, let's try a diagonal preconditioner."
   ]
  },
  {
   "cell_type": "code",
   "execution_count": 26,
   "metadata": {
    "collapsed": false
   },
   "outputs": [
    {
     "name": "stdout",
     "output_type": "stream",
     "text": [
      "4.563222 seconds (16.01 k allocations: 1.193 GB, 3.50% gc time)\n",
      "  "
     ]
    },
    {
     "data": {
      "text/plain": [
       "19.882642385705193"
      ]
     },
     "execution_count": 26,
     "metadata": {},
     "output_type": "execute_result"
    }
   ],
   "source": [
    "d = diag(la)\n",
    "pre(x) = x ./ d\n",
    "@time x = pcg(la,b,pre,tol=1e-1,maxits=10^5)\n",
    "norm(la*x-b)"
   ]
  },
  {
   "cell_type": "code",
   "execution_count": 27,
   "metadata": {
    "collapsed": false
   },
   "outputs": [
    {
     "name": "stdout",
     "output_type": "stream",
     "text": [
      "1.198206 seconds (484.48 k allocations: 307.148 MB, 3.73% gc time)\n",
      "  "
     ]
    },
    {
     "data": {
      "text/plain": [
       "19.590092408356856"
      ]
     },
     "execution_count": 27,
     "metadata": {},
     "output_type": "execute_result"
    }
   ],
   "source": [
    "@time x = cg(la,b,tol=1e-1,maxits=10^5)\n",
    "norm(la*x-b)"
   ]
  },
  {
   "cell_type": "markdown",
   "metadata": {},
   "source": [
    "It is very different for a random regular graph of the same size"
   ]
  },
  {
   "cell_type": "code",
   "execution_count": 28,
   "metadata": {
    "collapsed": false
   },
   "outputs": [],
   "source": [
    "n = 1000000\n",
    "la = lap(randRegular(n,3))\n",
    "b = randn(n)\n",
    "b = b - mean(b);\n"
   ]
  },
  {
   "cell_type": "code",
   "execution_count": 29,
   "metadata": {
    "collapsed": false
   },
   "outputs": [
    {
     "name": "stdout",
     "output_type": "stream",
     "text": [
      "7.891222 seconds (27.15 k allocations: 2.024 GB, 3.64% gc time)\n",
      "  "
     ]
    },
    {
     "data": {
      "text/plain": [
       "0.0007745578882358395"
      ]
     },
     "execution_count": 29,
     "metadata": {},
     "output_type": "execute_result"
    }
   ],
   "source": [
    "@time x = cg(la,b,maxits=100)\n",
    "norm(la*x-b)"
   ]
  },
  {
   "cell_type": "markdown",
   "metadata": {},
   "source": [
    "# <a name=\"stretch\">Computing Stretch</a>\n"
   ]
  },
  {
   "cell_type": "markdown",
   "metadata": {},
   "source": [
    "The following is a test of our stretch computation code.\n",
    "I begin by creating a grid graph with random weights, using our stretch computation,\n",
    "and checking that it agrees with the trace computation.\n"
   ]
  },
  {
   "cell_type": "code",
   "execution_count": 30,
   "metadata": {
    "collapsed": false
   },
   "outputs": [],
   "source": [
    "a = grid2(3)\n",
    "a = uniformWeight(a)\n",
    "a = a + a';"
   ]
  },
  {
   "cell_type": "code",
   "execution_count": 31,
   "metadata": {
    "collapsed": false
   },
   "outputs": [
    {
     "data": {
      "text/plain": [
       "9x9 sparse matrix with 16 Float64 entries:\n",
       "\t[2, 1]  =  0.718277\n",
       "\t[4, 1]  =  1.30955\n",
       "\t[1, 2]  =  0.718277\n",
       "\t[3, 2]  =  0.656996\n",
       "\t[2, 3]  =  0.656996\n",
       "\t[6, 3]  =  0.640175\n",
       "\t[1, 4]  =  1.30955\n",
       "\t[6, 5]  =  1.22709\n",
       "\t[3, 6]  =  0.640175\n",
       "\t[5, 6]  =  1.22709\n",
       "\t[9, 6]  =  0.587062\n",
       "\t[8, 7]  =  0.360802\n",
       "\t[7, 8]  =  0.360802\n",
       "\t[9, 8]  =  1.02741\n",
       "\t[6, 9]  =  0.587062\n",
       "\t[8, 9]  =  1.02741"
      ]
     },
     "execution_count": 31,
     "metadata": {},
     "output_type": "execute_result"
    },
    {
     "name": "stdout",
     "output_type": "stream",
     "text": [
      "2.854674 seconds (172 allocations: 328.068 MB, 4.00% gc time)\n"
     ]
    }
   ],
   "source": [
    "mst = kruskal(a)"
   ]
  },
  {
   "cell_type": "markdown",
   "metadata": {},
   "source": [
    "The following computes a matrix with entries corresponding to the nonzeros of a.  For each nonzero, it puts in the stretch.\n",
    "So, to find the total stretch, we should sum them all and then divide by 2."
   ]
  },
  {
   "cell_type": "code",
   "execution_count": 32,
   "metadata": {
    "collapsed": false
   },
   "outputs": [
    {
     "data": {
      "text/plain": [
       "9x9 sparse matrix with 24 Float64 entries:\n",
       "\t[2, 1]  =  1.0\n",
       "\t[4, 1]  =  1.0\n",
       "\t[1, 2]  =  1.0\n",
       "\t[3, 2]  =  1.0\n",
       "\t[5, 2]  =  6.45151\n",
       "\t[2, 3]  =  1.0\n",
       "\t[6, 3]  =  1.0\n",
       "\t[1, 4]  =  1.0\n",
       "\t[5, 4]  =  12.0766\n",
       "\t[7, 4]  =  14.5912\n",
       "\t⋮\n",
       "\t[8, 5]  =  6.03562\n",
       "\t[3, 6]  =  1.0\n",
       "\t[5, 6]  =  1.0\n",
       "\t[9, 6]  =  1.0\n",
       "\t[4, 7]  =  14.5912\n",
       "\t[8, 7]  =  1.0\n",
       "\t[5, 8]  =  6.03562\n",
       "\t[7, 8]  =  1.0\n",
       "\t[9, 8]  =  1.0\n",
       "\t[6, 9]  =  1.0\n",
       "\t[8, 9]  =  1.0"
      ]
     },
     "execution_count": 32,
     "metadata": {},
     "output_type": "execute_result"
    }
   ],
   "source": [
    "st = compStretches(mst,a)"
   ]
  },
  {
   "cell_type": "code",
   "execution_count": 33,
   "metadata": {
    "collapsed": false
   },
   "outputs": [
    {
     "data": {
      "text/plain": [
       "47.15492426761423"
      ]
     },
     "execution_count": 33,
     "metadata": {},
     "output_type": "execute_result"
    }
   ],
   "source": [
    "sum(st)/2"
   ]
  },
  {
   "cell_type": "markdown",
   "metadata": {},
   "source": [
    "We now check that we got the right answer by using the algebraic formula."
   ]
  },
  {
   "cell_type": "code",
   "execution_count": 34,
   "metadata": {
    "collapsed": false
   },
   "outputs": [
    {
     "data": {
      "text/plain": [
       "47.154924267614184"
      ]
     },
     "execution_count": 34,
     "metadata": {},
     "output_type": "execute_result"
    }
   ],
   "source": [
    "trace( pinv( full(lap(mst))) * lap(a)  )"
   ]
  },
  {
   "cell_type": "markdown",
   "metadata": {
    "collapsed": false
   },
   "source": [
    "Now, let's do a speed test on a randomly weighted grid of side 2000."
   ]
  },
  {
   "cell_type": "code",
   "execution_count": 35,
   "metadata": {
    "collapsed": false
   },
   "outputs": [
    {
     "name": "stdout",
     "output_type": "stream",
     "text": [
      "  2.406615 seconds (31.98 M allocations: 1.609 GB, 15.55% gc time)\n",
      "  1.107632 seconds (35 allocations: 823.610 MB, 17.57% gc time)\n",
      "  8.919166 seconds (94 allocations: 1.103 GB, 7.60% gc time)\n",
      "  "
     ]
    }
   ],
   "source": [
    "a = grid2(2000)\n",
    "@time a = uniformWeight(a)\n",
    "@time a = a + a';\n",
    "@time mst = kruskal(a);\n",
    "@time st = compStretches(mst,a);"
   ]
  },
  {
   "cell_type": "code",
   "execution_count": null,
   "metadata": {
    "collapsed": true
   },
   "outputs": [],
   "source": []
  },
  {
   "cell_type": "markdown",
   "metadata": {},
   "source": [
    "# <a name=\"precon\">Preconditioned Solvers</a>"
   ]
  },
  {
   "cell_type": "markdown",
   "metadata": {},
   "source": [
    "Here is my a simple solver that uses an augmented spanning tree.\n",
    "It should never be too bad.  It wants a positive definite system."
   ]
  },
  {
   "cell_type": "code",
   "execution_count": 36,
   "metadata": {
    "collapsed": false
   },
   "outputs": [
    {
     "name": "stdout",
     "output_type": "stream",
     "text": [
      "3.746014 seconds (79 allocations: 1.467 GB, 15.42% gc time)\n",
      "  2.534656 seconds (1.74 M allocations: 508.631 MB, 12.85% gc time)\n",
      "  "
     ]
    },
    {
     "data": {
      "text/plain": [
       "49.93092418950264"
      ]
     },
     "execution_count": 36,
     "metadata": {},
     "output_type": "execute_result"
    }
   ],
   "source": [
    "a = mapweight(grid2(500),x->1/(rand(1)[1]));\n",
    "la = lap(a)\n",
    "n = size(la)[1]\n",
    "la[1,1] = la[1,1] + 1\n",
    "@time F = augTreeSolver(la,tol=1e-1,maxits=1000)\n",
    "b = randn(n)\n",
    "@time x = F(b)\n",
    "norm(la*x - b)"
   ]
  },
  {
   "cell_type": "code",
   "execution_count": 37,
   "metadata": {
    "collapsed": false
   },
   "outputs": [
    {
     "name": "stdout",
     "output_type": "stream",
     "text": [
      "4.106294 seconds (5.89 k allocations: 3.254 GB, 9.19% gc time)\n",
      "  1.520148 seconds (1.08 M allocations: 523.226 MB, 18.93% gc time)\n",
      "  "
     ]
    },
    {
     "data": {
      "text/plain": [
       "49.82364163609152"
      ]
     },
     "execution_count": 37,
     "metadata": {},
     "output_type": "execute_result"
    }
   ],
   "source": [
    "@time F = augTreeSolver(la,tol=1e-1,maxits=1000,treeAlg=randishPrim)\n",
    "b = randn(n)\n",
    "@time x = F(b)\n",
    "norm(la*x - b)"
   ]
  },
  {
   "cell_type": "markdown",
   "metadata": {},
   "source": [
    "Compare to the running time of CG"
   ]
  },
  {
   "cell_type": "code",
   "execution_count": 38,
   "metadata": {
    "collapsed": false
   },
   "outputs": [
    {
     "name": "stdout",
     "output_type": "stream",
     "text": [
      "4.837599 seconds (6.04 k allocations: 3.597 GB, 8.72% gc time)\n",
      "  "
     ]
    },
    {
     "data": {
      "text/plain": [
       "519.1489086730564"
      ]
     },
     "execution_count": 38,
     "metadata": {},
     "output_type": "execute_result"
    }
   ],
   "source": [
    "@time y = cg(la,b,tol=1e-1,maxits=1000)\n",
    "norm(la*y-b)"
   ]
  },
  {
   "cell_type": "code",
   "execution_count": 39,
   "metadata": {
    "collapsed": false
   },
   "outputs": [
    {
     "name": "stdout",
     "output_type": "stream",
     "text": [
      "7.434149 seconds (4.01 k allocations: 1.868 GB, 4.28% gc time)\n",
      "  0.174792 seconds (121.18 k allocations: 66.463 MB, 4.97% gc time)\n",
      "  "
     ]
    },
    {
     "data": {
      "text/plain": [
       "20.639305575286002"
      ]
     },
     "execution_count": 39,
     "metadata": {},
     "output_type": "execute_result"
    }
   ],
   "source": [
    "n = 40000\n",
    "la = lap(randRegular(n,3))\n",
    "la[1,1] = la[1,1] + 1\n",
    "@time F = augTreeSolver(la)\n",
    "b = randn(n)\n",
    "@time x = F(b)\n",
    "norm(la*x - b)"
   ]
  },
  {
   "cell_type": "markdown",
   "metadata": {},
   "source": [
    "Compare to the running time of a direct method."
   ]
  },
  {
   "cell_type": "code",
   "execution_count": 40,
   "metadata": {
    "collapsed": false
   },
   "outputs": [
    {
     "name": "stdout",
     "output_type": "stream",
     "text": [
      "0.299919 seconds (2.52 k allocations: 247.258 MB, 6.75% gc time)\n",
      "  8.628694 seconds (68 allocations: 1015.664 MB, 0.04% gc time)\n",
      "  "
     ]
    },
    {
     "data": {
      "text/plain": [
       "1.1468469752650618e-11"
      ]
     },
     "execution_count": 40,
     "metadata": {},
     "output_type": "execute_result"
    }
   ],
   "source": [
    "@time Fc = cholfact(la)\n",
    "@time x = Fc \\ b\n",
    "norm(la*x - b)"
   ]
  },
  {
   "cell_type": "markdown",
   "metadata": {},
   "source": [
    "Now, let's try wrapping for singular systems.\n"
   ]
  },
  {
   "cell_type": "code",
   "execution_count": 41,
   "metadata": {
    "collapsed": false
   },
   "outputs": [
    {
     "data": {
      "text/plain": [
       "(anonymous function)"
      ]
     },
     "execution_count": 41,
     "metadata": {},
     "output_type": "execute_result"
    },
    {
     "name": "stdout",
     "output_type": "stream",
     "text": [
      "0.128699 seconds (19 allocations: 1.266 MB)\n"
     ]
    }
   ],
   "source": [
    "n = 40000\n",
    "la = lap(randRegular(n,3))\n",
    "f = lapWrapSolver(augTreeSolver,la,tol=1e-6,maxits=1000)"
   ]
  },
  {
   "cell_type": "code",
   "execution_count": 42,
   "metadata": {
    "collapsed": false
   },
   "outputs": [
    {
     "data": {
      "text/plain": [
       "48.24403503503503"
      ]
     },
     "execution_count": 42,
     "metadata": {},
     "output_type": "execute_result"
    }
   ],
   "source": [
    "a = grid2(1000)\n",
    "t = randishKruskal(a);\n",
    "st = compStretches(t,a);\n",
    "sum(st)/nnz(a)"
   ]
  },
  {
   "cell_type": "code",
   "execution_count": 43,
   "metadata": {
    "collapsed": false
   },
   "outputs": [
    {
     "data": {
      "text/plain": [
       "32.09173773773774"
      ]
     },
     "execution_count": 43,
     "metadata": {},
     "output_type": "execute_result"
    }
   ],
   "source": [
    "t = randishPrim(a);\n",
    "st = compStretches(t,a);\n",
    "sum(st)/nnz(a)"
   ]
  }
 ],
 "metadata": {
  "kernelspec": {
   "display_name": "Julia 0.4.0",
   "language": "julia",
   "name": "julia-0.4"
  },
  "language_info": {
   "file_extension": ".jl",
   "mimetype": "application/julia",
   "name": "julia",
   "version": "0.4.0"
  }
 },
 "nbformat": 4,
 "nbformat_minor": 0
}
