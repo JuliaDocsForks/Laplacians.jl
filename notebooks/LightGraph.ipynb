{
 "cells": [
  {
   "cell_type": "markdown",
   "metadata": {},
   "source": [
    "We test out the LightGraph package, to see how easy it is to use with ours, and to compare its speed.  It is easy to make a LightGraphs data type.  You just put in the adjacency matrix.  Since this also works for directed graphs, it could be nice to use their directed graph routines.  But, they are slower."
   ]
  },
  {
   "cell_type": "code",
   "execution_count": 1,
   "metadata": {
    "collapsed": false
   },
   "outputs": [],
   "source": [
    "using Laplacians\n",
    "using LightGraphs"
   ]
  },
  {
   "cell_type": "code",
   "execution_count": 21,
   "metadata": {
    "collapsed": false
   },
   "outputs": [
    {
     "data": {
      "text/plain": [
       "{1000000, 1998000} undirected graph"
      ]
     },
     "execution_count": 21,
     "metadata": {},
     "output_type": "execute_result"
    }
   ],
   "source": [
    "a = grid2(1000) # Laplacians style graph\n",
    "lg = Graph(a)   # LightGraphs style"
   ]
  },
  {
   "cell_type": "code",
   "execution_count": 22,
   "metadata": {
    "collapsed": false
   },
   "outputs": [
    {
     "name": "stdout",
     "output_type": "stream",
     "text": [
      "  "
     ]
    },
    {
     "data": {
      "text/plain": [
       "true"
      ]
     },
     "execution_count": 22,
     "metadata": {},
     "output_type": "execute_result"
    },
    {
     "name": "stdout",
     "output_type": "stream",
     "text": [
      "0.450431 seconds (44 allocations: 31.890 MB)\n"
     ]
    }
   ],
   "source": [
    "@time is_connected(lg)"
   ]
  },
  {
   "cell_type": "code",
   "execution_count": 23,
   "metadata": {
    "collapsed": false
   },
   "outputs": [
    {
     "name": "stdout",
     "output_type": "stream",
     "text": [
      "  "
     ]
    },
    {
     "data": {
      "text/plain": [
       "true"
      ]
     },
     "execution_count": 23,
     "metadata": {},
     "output_type": "execute_result"
    },
    {
     "name": "stdout",
     "output_type": "stream",
     "text": [
      "0.142486 seconds (8 allocations: 15.259 MB)\n"
     ]
    }
   ],
   "source": [
    "@time isConnected(a)"
   ]
  },
  {
   "cell_type": "markdown",
   "metadata": {},
   "source": [
    "Let's subsample, and test out the speed of connected components routines."
   ]
  },
  {
   "cell_type": "code",
   "execution_count": 24,
   "metadata": {
    "collapsed": false
   },
   "outputs": [
    {
     "data": {
      "text/plain": [
       "{1000000, 998947} undirected graph"
      ]
     },
     "execution_count": 24,
     "metadata": {},
     "output_type": "execute_result"
    }
   ],
   "source": [
    "as = subsampleEdges(a,0.5);\n",
    "lgs = Graph(as)"
   ]
  },
  {
   "cell_type": "code",
   "execution_count": 27,
   "metadata": {
    "collapsed": false
   },
   "outputs": [
    {
     "name": "stdout",
     "output_type": "stream",
     "text": [
      "  0.061239 seconds (8 allocations: 15.259 MB)\n"
     ]
    }
   ],
   "source": [
    "@time c = components(as);"
   ]
  },
  {
   "cell_type": "code",
   "execution_count": 28,
   "metadata": {
    "collapsed": false
   },
   "outputs": [
    {
     "name": "stdout",
     "output_type": "stream",
     "text": [
      "  0.437358 seconds (572.18 k allocations: 73.131 MB)\n"
     ]
    }
   ],
   "source": [
    "@time lgc = connected_components(lgs);"
   ]
  },
  {
   "cell_type": "markdown",
   "metadata": {},
   "source": [
    "Let's check if they give the same answers."
   ]
  },
  {
   "cell_type": "code",
   "execution_count": 29,
   "metadata": {
    "collapsed": false
   },
   "outputs": [
    {
     "data": {
      "text/plain": [
       "98859-element Array{Array{Int64,1},1}:\n",
       " [1]                                                                                              \n",
       " [2,1001,1002,2001,2002,3001]                                                                     \n",
       " [3,4,1004]                                                                                       \n",
       " [5]                                                                                              \n",
       " [6]                                                                                              \n",
       " [7]                                                                                              \n",
       " [8,1008,1009]                                                                                    \n",
       " [9]                                                                                              \n",
       " [10]                                                                                             \n",
       " [11,12,13,14,15,16,17,18,23,1003  …  13024,13025,13026,13027,13028,13029,14009,14015,14016,14027]\n",
       " [19,20,21]                                                                                       \n",
       " [22]                                                                                             \n",
       " [24,25,26]                                                                                       \n",
       " ⋮                                                                                                \n",
       " [999966]                                                                                         \n",
       " [999970]                                                                                         \n",
       " [999974,999975,999976]                                                                           \n",
       " [999977,999978]                                                                                  \n",
       " [999985]                                                                                         \n",
       " [999986]                                                                                         \n",
       " [999987]                                                                                         \n",
       " [999988,999989]                                                                                  \n",
       " [999990,999991]                                                                                  \n",
       " [999995]                                                                                         \n",
       " [999996]                                                                                         \n",
       " [999997]                                                                                         "
      ]
     },
     "execution_count": 29,
     "metadata": {},
     "output_type": "execute_result"
    }
   ],
   "source": [
    "vecToComps(c)"
   ]
  },
  {
   "cell_type": "code",
   "execution_count": 30,
   "metadata": {
    "collapsed": false
   },
   "outputs": [
    {
     "data": {
      "text/plain": [
       "98859-element Array{Array{Int64,1},1}:\n",
       " [1]                                                                                              \n",
       " [2,1001,1002,2001,2002,3001]                                                                     \n",
       " [3,4,1004]                                                                                       \n",
       " [5]                                                                                              \n",
       " [6]                                                                                              \n",
       " [7]                                                                                              \n",
       " [8,1008,1009]                                                                                    \n",
       " [9]                                                                                              \n",
       " [10]                                                                                             \n",
       " [11,12,13,14,15,16,17,18,23,1003  …  13024,13025,13026,13027,13028,13029,14009,14015,14016,14027]\n",
       " [19,20,21]                                                                                       \n",
       " [22]                                                                                             \n",
       " [24,25,26]                                                                                       \n",
       " ⋮                                                                                                \n",
       " [999966]                                                                                         \n",
       " [999970]                                                                                         \n",
       " [999974,999975,999976]                                                                           \n",
       " [999977,999978]                                                                                  \n",
       " [999985]                                                                                         \n",
       " [999986]                                                                                         \n",
       " [999987]                                                                                         \n",
       " [999988,999989]                                                                                  \n",
       " [999990,999991]                                                                                  \n",
       " [999995]                                                                                         \n",
       " [999996]                                                                                         \n",
       " [999997]                                                                                         "
      ]
     },
     "execution_count": 30,
     "metadata": {},
     "output_type": "execute_result"
    }
   ],
   "source": [
    "lgc"
   ]
  },
  {
   "cell_type": "markdown",
   "metadata": {},
   "source": [
    "To be sure that we are not being unfair in running time, let's time the vecToComps, too."
   ]
  },
  {
   "cell_type": "code",
   "execution_count": 31,
   "metadata": {
    "collapsed": false
   },
   "outputs": [
    {
     "name": "stdout",
     "output_type": "stream",
     "text": [
      "  0.032858 seconds (98.90 k allocations: 16.559 MB)\n"
     ]
    }
   ],
   "source": [
    "@time v = vecToComps(c);"
   ]
  },
  {
   "cell_type": "code",
   "execution_count": null,
   "metadata": {
    "collapsed": true
   },
   "outputs": [],
   "source": []
  }
 ],
 "metadata": {
  "kernelspec": {
   "display_name": "Julia 0.4.0",
   "language": "julia",
   "name": "julia-0.4"
  },
  "language_info": {
   "file_extension": ".jl",
   "mimetype": "application/julia",
   "name": "julia",
   "version": "0.4.0"
  }
 },
 "nbformat": 4,
 "nbformat_minor": 0
}
