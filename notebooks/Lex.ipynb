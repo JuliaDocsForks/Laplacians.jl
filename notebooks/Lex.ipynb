{
 "cells": [
  {
   "cell_type": "markdown",
   "metadata": {},
   "source": [
    "# Lex-Minimizer #\n",
    "In this notebook, we will demonstrate the use of functions that computes the inf-minimizer (`CompInfMin`) and lex-minimizer (`CompLexMin`), as well as other experiments. You can find all source code in `lex.jl`."
   ]
  },
  {
   "cell_type": "code",
   "execution_count": 1,
   "metadata": {
    "collapsed": false
   },
   "outputs": [
    {
     "data": {
      "text/plain": [
       "\"/home/xshi0x63/Desktop/YINS/Laplacians.jl/notebooks\""
      ]
     },
     "execution_count": 1,
     "metadata": {},
     "output_type": "execute_result"
    }
   ],
   "source": [
    "pwd()"
   ]
  },
  {
   "cell_type": "code",
   "execution_count": 3,
   "metadata": {
    "collapsed": false
   },
   "outputs": [],
   "source": [
    "push!(LOAD_PATH,\"../src\")\n",
    "using Laplacians"
   ]
  },
  {
   "cell_type": "code",
   "execution_count": 4,
   "metadata": {
    "collapsed": true
   },
   "outputs": [],
   "source": [
    "using PyPlot"
   ]
  },
  {
   "cell_type": "code",
   "execution_count": 51,
   "metadata": {
    "collapsed": false
   },
   "outputs": [
    {
     "data": {
      "text/plain": [
       "ModDijkstra (generic function with 1 method)"
      ]
     },
     "execution_count": 51,
     "metadata": {},
     "output_type": "execute_result"
    }
   ],
   "source": [
    "include(\"../src/lex.jl\") # for development"
   ]
  },
  {
   "cell_type": "markdown",
   "metadata": {},
   "source": [
    "### IterLex Functions ###\n",
    "* `simIterLexUnwtd(...)` runs IterLex on a **uniformly weighted** graph for a specific number of iterations;\n",
    "\n",
    "* `checkLexUnwtd(...)` checks the correctness of the assignment up to `LEX_EPS`;\n",
    "\n",
    "* `simIterLex(...)` runs IterLex on any weighted graph;\n",
    "\n",
    "* `checkLex(...)` checks the correctness of the assignment up to `LEX_EPS`;"
   ]
  },
  {
   "cell_type": "markdown",
   "metadata": {},
   "source": [
    "## Simple examples ##\n",
    "### Path Graphs ###\n",
    "A path graph with `n` vertices. Let vertex `1` and `n` be terminals, with voltages `0` and `1` respectively."
   ]
  },
  {
   "cell_type": "code",
   "execution_count": 52,
   "metadata": {
    "collapsed": false
   },
   "outputs": [
    {
     "data": {
      "text/plain": [
       "1.0"
      ]
     },
     "execution_count": 52,
     "metadata": {},
     "output_type": "execute_result"
    }
   ],
   "source": [
    "# Set up\n",
    "n = 10\n",
    "Pn = pathGraph(n)\n",
    "\n",
    "isTerm = zeros(Bool, n)\n",
    "isTerm[1] = true\n",
    "isTerm[n] = true\n",
    "\n",
    "initVal = zeros(n)\n",
    "initVal[n] = 1.0\n"
   ]
  },
  {
   "cell_type": "code",
   "execution_count": 53,
   "metadata": {
    "collapsed": false
   },
   "outputs": [
    {
     "data": {
      "text/plain": [
       "1.0e-12"
      ]
     },
     "execution_count": 53,
     "metadata": {},
     "output_type": "execute_result"
    }
   ],
   "source": [
    "# default error tolerance\n",
    "LEX_EPS"
   ]
  },
  {
   "cell_type": "code",
   "execution_count": 54,
   "metadata": {
    "collapsed": false
   },
   "outputs": [
    {
     "name": "stdout",
     "output_type": "stream",
     "text": [
      "After 5 iterations: false\n",
      "After 500 iterations: true\n"
     ]
    }
   ],
   "source": [
    "t1 = 5\n",
    "asgnmt = simIterLexUnwtd(t1, Pn, isTerm, initVal)\n",
    "@printf(\"After %d iterations: %s\\n\", t1, checkLexUnwtd(Pn, isTerm, initVal, asgnmt, fatal = false))\n",
    "\n",
    "t2 = 500\n",
    "asgnmt = simIterLexUnwtd(t2, Pn, isTerm, initVal)\n",
    "@printf(\"After %d iterations: %s\\n\", t2, checkLexUnwtd(Pn, isTerm, initVal, asgnmt, fatal = false))\n"
   ]
  },
  {
   "cell_type": "markdown",
   "metadata": {
    "collapsed": false
   },
   "source": [
    "### Star Graph ###"
   ]
  },
  {
   "cell_type": "code",
   "execution_count": 55,
   "metadata": {
    "collapsed": false
   },
   "outputs": [
    {
     "data": {
      "text/plain": [
       "5-element Array{Float64,1}:\n",
       "  3.33333\n",
       " 20.0    \n",
       " -5.0    \n",
       " -5.0    \n",
       " 17.0    "
      ]
     },
     "execution_count": 55,
     "metadata": {},
     "output_type": "execute_result"
    }
   ],
   "source": [
    "# Star Graph\n",
    "n = 5\n",
    "Sn = zeros(n, n)\n",
    "Sn[1,:] = a = [0, 1/20, 1/20, 1/10, 1/18]\n",
    "Sn[:,1] = a'\n",
    "Sn = sparse(Sn)\n",
    "\n",
    "isTerm = ones(Bool, n)\n",
    "isTerm[1] = false\n",
    "\n",
    "initVal = [0.0, 20, -5, -5, 17]\n",
    "\n",
    "asgnmt = simIterLex(1, Sn, isTerm, initVal)"
   ]
  },
  {
   "cell_type": "code",
   "execution_count": 56,
   "metadata": {
    "collapsed": false
   },
   "outputs": [
    {
     "data": {
      "text/plain": [
       "true"
      ]
     },
     "execution_count": 56,
     "metadata": {},
     "output_type": "execute_result"
    }
   ],
   "source": [
    "checkLex(Sn, isTerm, initVal, asgnmt, fatal = false)"
   ]
  },
  {
   "cell_type": "code",
   "execution_count": null,
   "metadata": {
    "collapsed": false
   },
   "outputs": [],
   "source": []
  },
  {
   "cell_type": "code",
   "execution_count": null,
   "metadata": {
    "collapsed": false
   },
   "outputs": [],
   "source": []
  },
  {
   "cell_type": "code",
   "execution_count": null,
   "metadata": {
    "collapsed": false
   },
   "outputs": [],
   "source": []
  },
  {
   "cell_type": "code",
   "execution_count": null,
   "metadata": {
    "collapsed": false
   },
   "outputs": [],
   "source": []
  },
  {
   "cell_type": "code",
   "execution_count": null,
   "metadata": {
    "collapsed": false
   },
   "outputs": [],
   "source": []
  },
  {
   "cell_type": "code",
   "execution_count": null,
   "metadata": {
    "collapsed": false
   },
   "outputs": [],
   "source": []
  },
  {
   "cell_type": "code",
   "execution_count": null,
   "metadata": {
    "collapsed": true
   },
   "outputs": [],
   "source": []
  }
 ],
 "metadata": {
  "kernelspec": {
   "display_name": "Julia 0.4.0",
   "language": "julia",
   "name": "julia-0.4"
  },
  "language_info": {
   "file_extension": ".jl",
   "mimetype": "application/julia",
   "name": "julia",
   "version": "0.4.2"
  }
 },
 "nbformat": 4,
 "nbformat_minor": 0
}
