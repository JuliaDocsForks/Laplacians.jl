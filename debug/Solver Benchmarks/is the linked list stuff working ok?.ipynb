{
 "cells": [
  {
   "cell_type": "code",
   "execution_count": 1,
   "metadata": {
    "collapsed": true
   },
   "outputs": [],
   "source": [
    "using Laplacians\n",
    "using ProfileView"
   ]
  },
  {
   "cell_type": "code",
   "execution_count": 2,
   "metadata": {
    "collapsed": false
   },
   "outputs": [
    {
     "data": {
      "text/plain": [
       "moduloNext (generic function with 1 method)"
      ]
     },
     "execution_count": 2,
     "metadata": {},
     "output_type": "execute_result"
    }
   ],
   "source": [
    "include(\"../../src/linkedListStorage.jl\")"
   ]
  },
  {
   "cell_type": "code",
   "execution_count": 3,
   "metadata": {
    "collapsed": false
   },
   "outputs": [],
   "source": [
    "a = chimera(5,1);\n",
    "rho = 1;"
   ]
  },
  {
   "cell_type": "code",
   "execution_count": 4,
   "metadata": {
    "collapsed": false
   },
   "outputs": [
    {
     "data": {
      "text/plain": [
       "LinkedListStorage{Float64,Int64}([#undef,#undef,#undef,#undef,#undef,#undef,#undef,#undef,#undef,#undef,#undef,#undef,#undef,#undef,#undef,#undef,#undef,#undef,#undef,#undef],[1,2,3,4,5,6,7,8,9,10,11,12,13,14,15,16,17,18,19,20],20,20,[-1,-1,-1,-1,-1],[-1,-1,-1,-1,-1],5,20)"
      ]
     },
     "execution_count": 4,
     "metadata": {},
     "output_type": "execute_result"
    }
   ],
   "source": [
    "l = llsInit(a, rho)"
   ]
  },
  {
   "cell_type": "code",
   "execution_count": 5,
   "metadata": {
    "collapsed": false
   },
   "outputs": [
    {
     "data": {
      "text/plain": [
       "20-element Array{element{Float64,Int64},1}:\n",
       "    element{Float64,Int64}(1.0,3,4,2) \n",
       "    element{Float64,Int64}(1.0,3,4,3) \n",
       "    element{Float64,Int64}(1.0,3,4,4) \n",
       "    element{Float64,Int64}(1.0,3,4,5) \n",
       "    element{Float64,Int64}(1.0,3,4,7) \n",
       "    element{Float64,Int64}(1.0,3,4,-1)\n",
       "    element{Float64,Int64}(1.0,3,4,8) \n",
       "    element{Float64,Int64}(1.0,3,4,9) \n",
       "    element{Float64,Int64}(1.0,3,4,10)\n",
       "    element{Float64,Int64}(1.0,3,4,11)\n",
       "    element{Float64,Int64}(1.0,3,4,-1)\n",
       " #undef                               \n",
       " #undef                               \n",
       " #undef                               \n",
       " #undef                               \n",
       " #undef                               \n",
       " #undef                               \n",
       " #undef                               \n",
       " #undef                               \n",
       " #undef                               "
      ]
     },
     "execution_count": 5,
     "metadata": {},
     "output_type": "execute_result"
    }
   ],
   "source": [
    "for i in 1:5\n",
    "    llsAdd(l, 1, (1.0, 3, 4));\n",
    "end\n",
    "llsAdd(l, 2, (1.0, 3, 4))\n",
    "for i in 1:5\n",
    "    llsAdd(l, 1, (1.0, 3, 4));\n",
    "end\n",
    "\n",
    "l.val"
   ]
  },
  {
   "cell_type": "code",
   "execution_count": 23,
   "metadata": {
    "collapsed": false
   },
   "outputs": [
    {
     "data": {
      "text/plain": [
       "5-element Array{Int64,1}:\n",
       " -1\n",
       "  6\n",
       " -1\n",
       " -1\n",
       " -1"
      ]
     },
     "execution_count": 23,
     "metadata": {},
     "output_type": "execute_result"
    }
   ],
   "source": [
    "l.start"
   ]
  },
  {
   "cell_type": "code",
   "execution_count": 24,
   "metadata": {
    "collapsed": false
   },
   "outputs": [
    {
     "data": {
      "text/plain": [
       "5-element Array{Int64,1}:\n",
       " -1\n",
       "  4\n",
       " -1\n",
       " -1\n",
       " -1"
      ]
     },
     "execution_count": 24,
     "metadata": {},
     "output_type": "execute_result"
    }
   ],
   "source": [
    "l.last"
   ]
  },
  {
   "cell_type": "code",
   "execution_count": 8,
   "metadata": {
    "collapsed": false
   },
   "outputs": [
    {
     "name": "stdout",
     "output_type": "stream",
     "text": [
      "1\n",
      "2\n",
      "3\n",
      "4\n",
      "5\n",
      "7\n",
      "8\n",
      "9\n",
      "10\n",
      "11\n"
     ]
    },
    {
     "data": {
      "text/plain": [
       "(10.0,[10.0],30,[30],[4])"
      ]
     },
     "execution_count": 8,
     "metadata": {},
     "output_type": "execute_result"
    }
   ],
   "source": [
    "auxVal = zeros(Float64, 5)\n",
    "auxMult = zeros(Int64, 5)\n",
    "llsPurge(l, 1, auxVal, auxMult)"
   ]
  },
  {
   "cell_type": "code",
   "execution_count": 9,
   "metadata": {
    "collapsed": false
   },
   "outputs": [
    {
     "data": {
      "text/plain": [
       "20-element Array{element{Float64,Int64},1}:\n",
       "    element{Float64,Int64}(-1.0,-1,-1,-1)\n",
       "    element{Float64,Int64}(-1.0,-1,-1,-1)\n",
       "    element{Float64,Int64}(-1.0,-1,-1,-1)\n",
       "    element{Float64,Int64}(-1.0,-1,-1,-1)\n",
       "    element{Float64,Int64}(-1.0,-1,-1,-1)\n",
       "    element{Float64,Int64}(1.0,3,4,-1)   \n",
       "    element{Float64,Int64}(-1.0,-1,-1,-1)\n",
       "    element{Float64,Int64}(-1.0,-1,-1,-1)\n",
       "    element{Float64,Int64}(-1.0,-1,-1,-1)\n",
       "    element{Float64,Int64}(-1.0,-1,-1,-1)\n",
       "    element{Float64,Int64}(-1.0,-1,-1,-1)\n",
       " #undef                                  \n",
       " #undef                                  \n",
       " #undef                                  \n",
       " #undef                                  \n",
       " #undef                                  \n",
       " #undef                                  \n",
       " #undef                                  \n",
       " #undef                                  \n",
       " #undef                                  "
      ]
     },
     "execution_count": 9,
     "metadata": {},
     "output_type": "execute_result"
    }
   ],
   "source": [
    "l.val"
   ]
  },
  {
   "cell_type": "code",
   "execution_count": 32,
   "metadata": {
    "collapsed": false
   },
   "outputs": [
    {
     "data": {
      "text/plain": [
       "20-element Array{element{Float64,Int64},1}:\n",
       " element{Float64,Int64}(1.0,3,4,2) \n",
       " element{Float64,Int64}(1.0,3,4,3) \n",
       " element{Float64,Int64}(1.0,3,4,4) \n",
       " element{Float64,Int64}(1.0,3,4,5) \n",
       " element{Float64,Int64}(1.0,3,4,7) \n",
       " element{Float64,Int64}(1.0,3,4,12)\n",
       " element{Float64,Int64}(1.0,3,4,8) \n",
       " element{Float64,Int64}(1.0,3,4,9) \n",
       " element{Float64,Int64}(1.0,3,4,10)\n",
       " element{Float64,Int64}(1.0,3,4,11)\n",
       " element{Float64,Int64}(1.0,3,4,12)\n",
       " element{Float64,Int64}(1.0,3,4,-1)\n",
       " element{Float64,Int64}(1.0,3,4,14)\n",
       " element{Float64,Int64}(1.0,3,4,15)\n",
       " element{Float64,Int64}(1.0,3,4,16)\n",
       " element{Float64,Int64}(1.0,3,4,17)\n",
       " element{Float64,Int64}(1.0,3,4,18)\n",
       " element{Float64,Int64}(1.0,3,4,19)\n",
       " element{Float64,Int64}(1.0,3,4,20)\n",
       " element{Float64,Int64}(1.0,3,4,1) "
      ]
     },
     "execution_count": 32,
     "metadata": {},
     "output_type": "execute_result"
    }
   ],
   "source": [
    "llsAdd(l, 2, (1.0, 3, 4));\n",
    "l.val"
   ]
  },
  {
   "cell_type": "code",
   "execution_count": 34,
   "metadata": {
    "collapsed": false
   },
   "outputs": [
    {
     "data": {
      "text/plain": [
       "12"
      ]
     },
     "execution_count": 34,
     "metadata": {},
     "output_type": "execute_result"
    }
   ],
   "source": [
    "l.left"
   ]
  },
  {
   "cell_type": "code",
   "execution_count": 35,
   "metadata": {
    "collapsed": false
   },
   "outputs": [
    {
     "data": {
      "text/plain": [
       "10"
      ]
     },
     "execution_count": 35,
     "metadata": {},
     "output_type": "execute_result"
    }
   ],
   "source": [
    "l.right\n"
   ]
  },
  {
   "cell_type": "code",
   "execution_count": null,
   "metadata": {
    "collapsed": true
   },
   "outputs": [],
   "source": []
  }
 ],
 "metadata": {
  "kernelspec": {
   "display_name": "Julia 0.4.5",
   "language": "julia",
   "name": "julia-0.4"
  },
  "language_info": {
   "file_extension": ".jl",
   "mimetype": "application/julia",
   "name": "julia",
   "version": "0.4.5"
  }
 },
 "nbformat": 4,
 "nbformat_minor": 0
}
