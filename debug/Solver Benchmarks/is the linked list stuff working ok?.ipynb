{
 "cells": [
  {
   "cell_type": "code",
   "execution_count": 1,
   "metadata": {
    "collapsed": true
   },
   "outputs": [],
   "source": [
    "using Laplacians\n",
    "using ProfileView"
   ]
  },
  {
   "cell_type": "code",
   "execution_count": 2,
   "metadata": {
    "collapsed": false
   },
   "outputs": [
    {
     "data": {
      "text/plain": [
       "moduloNext (generic function with 1 method)"
      ]
     },
     "execution_count": 2,
     "metadata": {},
     "output_type": "execute_result"
    }
   ],
   "source": [
    "include(\"../../src/linkedListStorage.jl\")"
   ]
  },
  {
   "cell_type": "code",
   "execution_count": 3,
   "metadata": {
    "collapsed": false
   },
   "outputs": [],
   "source": [
    "a = chimera(5,1);\n",
    "rho = 1;"
   ]
  },
  {
   "cell_type": "code",
   "execution_count": 4,
   "metadata": {
    "collapsed": false
   },
   "outputs": [
    {
     "data": {
      "text/plain": [
       "LinkedListStorage{Float64,Int64}([#undef,#undef,#undef,#undef,#undef,#undef,#undef,#undef,#undef,#undef,#undef,#undef,#undef,#undef,#undef,#undef,#undef,#undef,#undef,#undef],[1,2,3,4,5,6,7,8,9,10,11,12,13,14,15,16,17,18,19,20],20,20,[-1,-1,-1,-1,-1],[-1,-1,-1,-1,-1],5,20)"
      ]
     },
     "execution_count": 4,
     "metadata": {},
     "output_type": "execute_result"
    }
   ],
   "source": [
    "l = llsInit(a, rho)"
   ]
  },
  {
   "cell_type": "code",
   "execution_count": 5,
   "metadata": {
    "collapsed": false
   },
   "outputs": [
    {
     "data": {
      "text/plain": [
       "20-element Array{element{Float64,Int64},1}:\n",
       "    element{Float64,Int64}(1.0,3,4,2) \n",
       "    element{Float64,Int64}(1.0,3,4,3) \n",
       "    element{Float64,Int64}(1.0,3,4,4) \n",
       "    element{Float64,Int64}(1.0,3,4,5) \n",
       "    element{Float64,Int64}(1.0,3,4,7) \n",
       "    element{Float64,Int64}(1.0,3,4,-1)\n",
       "    element{Float64,Int64}(1.0,3,4,8) \n",
       "    element{Float64,Int64}(1.0,3,4,9) \n",
       "    element{Float64,Int64}(1.0,3,4,10)\n",
       "    element{Float64,Int64}(1.0,3,4,11)\n",
       "    element{Float64,Int64}(1.0,3,4,-1)\n",
       " #undef                               \n",
       " #undef                               \n",
       " #undef                               \n",
       " #undef                               \n",
       " #undef                               \n",
       " #undef                               \n",
       " #undef                               \n",
       " #undef                               \n",
       " #undef                               "
      ]
     },
     "execution_count": 5,
     "metadata": {},
     "output_type": "execute_result"
    }
   ],
   "source": [
    "for i in 1:5\n",
    "    llsAdd(l, 1, (1.0, 3, 4));\n",
    "end\n",
    "llsAdd(l, 2, (1.0, 3, 4))\n",
    "for i in 1:5\n",
    "    llsAdd(l, 1, (1.0, 3, 4));\n",
    "end\n",
    "\n",
    "l.val"
   ]
  },
  {
   "cell_type": "code",
   "execution_count": 6,
   "metadata": {
    "collapsed": false
   },
   "outputs": [
    {
     "ename": "LoadError",
     "evalue": "LoadError: type LinkedListStorage has no field start\nwhile loading In[6], in expression starting on line 1",
     "output_type": "error",
     "traceback": [
      "LoadError: type LinkedListStorage has no field start\nwhile loading In[6], in expression starting on line 1",
      ""
     ]
    }
   ],
   "source": [
    "l.start"
   ]
  },
  {
   "cell_type": "code",
   "execution_count": 7,
   "metadata": {
    "collapsed": false
   },
   "outputs": [
    {
     "data": {
      "text/plain": [
       "5-element Array{Int64,1}:\n",
       " 11\n",
       "  6\n",
       " -1\n",
       " -1\n",
       " -1"
      ]
     },
     "execution_count": 7,
     "metadata": {},
     "output_type": "execute_result"
    }
   ],
   "source": [
    "l.last"
   ]
  },
  {
   "cell_type": "code",
   "execution_count": 8,
   "metadata": {
    "collapsed": false
   },
   "outputs": [
    {
     "name": "stdout",
     "output_type": "stream",
     "text": [
      "Variables:\n",
      "  lls::LinkedListStorage{Float64,Int64}\n",
      "  pos::Int64\n",
      "  auxVal::Array{Float64,1}\n",
      "  auxMult::Array{Int64,1}\n",
      "  multSum::Int64\n",
      "  diag::Float64\n",
      "  res::Array{Float64,1}\n",
      "  mult::Array{Int64,1}\n",
      "  ind::Array{Int64,1}\n",
      "  i::Int64\n",
      "  actualMult::Int64\n",
      "  #65#neigh::Int64\n",
      "  w::Float64\n",
      "  e::Int64\n",
      "  #64#neigh::Int64\n",
      "  ####fy#7614#8376::Float64\n",
      "  _var0::Int64\n",
      "\n",
      "Body:\n",
      "  begin  # /Users/serbanstan/git/Laplacians.jl/src/linkedListStorage.jl, line 79:\n",
      "      NewvarNode(:res)\n",
      "      NewvarNode(:mult)\n",
      "      NewvarNode(:ind)\n",
      "      multSum = 0 # /Users/serbanstan/git/Laplacians.jl/src/linkedListStorage.jl, line 80:\n",
      "      diag = (Base.box)(Float64,(Base.sitofp)(Float64,0)) # /Users/serbanstan/git/Laplacians.jl/src/linkedListStorage.jl, line 82:\n",
      "      i = (Base.arrayref)((top(getfield))(lls::LinkedListStorage{Float64,Int64},:first)::Array{Int64,1},pos::Int64)::Int64 # /Users/serbanstan/git/Laplacians.jl/src/linkedListStorage.jl, line 83:\n",
      "      NewvarNode(symbol(\"#64#neigh\"))\n",
      "      NewvarNode(:w)\n",
      "      NewvarNode(:e)\n",
      "      unless (Base.box)(Base.Bool,(Base.not_int)(i::Int64 === -1::Bool)) goto 1\n",
      "      2:  # /Users/serbanstan/git/Laplacians.jl/src/linkedListStorage.jl, line 84:\n",
      "      #64#neigh = (top(getfield))((Base.arrayref)((top(getfield))(lls::LinkedListStorage{Float64,Int64},:val)::Array{element{Float64,Int64},1},i::Int64)::element{Float64,Int64},:neighbor)::Int64 # /Users/serbanstan/git/Laplacians.jl/src/linkedListStorage.jl, line 85:\n",
      "      w = (top(getfield))((Base.arrayref)((top(getfield))(lls::LinkedListStorage{Float64,Int64},:val)::Array{element{Float64,Int64},1},i::Int64)::element{Float64,Int64},:edgeWeight)::Float64 # /Users/serbanstan/git/Laplacians.jl/src/linkedListStorage.jl, line 86:\n",
      "      e = (top(getfield))((Base.arrayref)((top(getfield))(lls::LinkedListStorage{Float64,Int64},:val)::Array{element{Float64,Int64},1},i::Int64)::element{Float64,Int64},:edgeCount)::Int64 # /Users/serbanstan/git/Laplacians.jl/src/linkedListStorage.jl, line 88:\n",
      "      GenSym(0) = (Base.box)(Base.Float64,(Base.add_float)((Base.arrayref)(auxVal::Array{Float64,1},#64#neigh::Int64)::Float64,w::Float64))\n",
      "      (Base.arrayset)(auxVal::Array{Float64,1},GenSym(0),#64#neigh::Int64)::Array{Float64,1} # /Users/serbanstan/git/Laplacians.jl/src/linkedListStorage.jl, line 89:\n",
      "      diag = (Base.box)(Base.Float64,(Base.add_float)(diag::Float64,w::Float64)) # /Users/serbanstan/git/Laplacians.jl/src/linkedListStorage.jl, line 90:\n",
      "      GenSym(1) = (Base.box)(Base.Int,(Base.add_int)((Base.arrayref)(auxMult::Array{Int64,1},#64#neigh::Int64)::Int64,e::Int64))\n",
      "      (Base.arrayset)(auxMult::Array{Int64,1},GenSym(1),#64#neigh::Int64)::Array{Int64,1} # /Users/serbanstan/git/Laplacians.jl/src/linkedListStorage.jl, line 92:\n",
      "      i = (top(getfield))((Base.arrayref)((top(getfield))(lls::LinkedListStorage{Float64,Int64},:val)::Array{element{Float64,Int64},1},i::Int64)::element{Float64,Int64},:next)::Int64\n",
      "      3: \n",
      "      unless (Base.box)(Base.Bool,(Base.not_int)((Base.box)(Base.Bool,(Base.not_int)(i::Int64 === -1::Bool)))) goto 2\n",
      "      1: \n",
      "      0:  # /Users/serbanstan/git/Laplacians.jl/src/linkedListStorage.jl, line 95:\n",
      "      res = (Main.getindex)(Tv)::Array{Float64,1} # /Users/serbanstan/git/Laplacians.jl/src/linkedListStorage.jl, line 96:\n",
      "      mult = (Main.getindex)(Ti)::Array{Int64,1} # /Users/serbanstan/git/Laplacians.jl/src/linkedListStorage.jl, line 97:\n",
      "      ind = (Main.getindex)(Ti)::Array{Int64,1} # /Users/serbanstan/git/Laplacians.jl/src/linkedListStorage.jl, line 99:\n",
      "      i = (Base.arrayref)((top(getfield))(lls::LinkedListStorage{Float64,Int64},:first)::Array{Int64,1},pos::Int64)::Int64 # /Users/serbanstan/git/Laplacians.jl/src/linkedListStorage.jl, line 100:\n",
      "      NewvarNode(symbol(\"#65#neigh\"))\n",
      "      NewvarNode(:actualMult)\n",
      "      unless (Base.box)(Base.Bool,(Base.not_int)(i::Int64 === -1::Bool)) goto 5\n",
      "      6:  # /Users/serbanstan/git/Laplacians.jl/src/linkedListStorage.jl, line 101:\n",
      "      #65#neigh = (top(getfield))((Base.arrayref)((top(getfield))(lls::LinkedListStorage{Float64,Int64},:val)::Array{element{Float64,Int64},1},i::Int64)::element{Float64,Int64},:neighbor)::Int64 # /Users/serbanstan/git/Laplacians.jl/src/linkedListStorage.jl, line 103:\n",
      "      GenSym(2) = (Base.arrayref)(auxVal::Array{Float64,1},#65#neigh::Int64)::Float64\n",
      "      ####fy#7614#8376 = (Base.box)(Float64,(Base.sitofp)(Float64,0))\n",
      "      unless (Base.box)(Base.Bool,(Base.not_int)((Base.box)(Base.Bool,(Base.and_int)((Base.box)(Base.Bool,(Base.and_int)((Base.eq_float)(GenSym(2),####fy#7614#8376::Float64)::Bool,(Base.ne_float)(####fy#7614#8376::Float64,9.223372036854776e18)::Bool)),0 === (Base.box)(Int64,(Base.fptosi)(Int64,####fy#7614#8376::Float64))::Bool)))) goto 13 # /Users/serbanstan/git/Laplacians.jl/src/linkedListStorage.jl, line 104:\n",
      "      unless (Base.slt_int)(pos::Int64,#65#neigh::Int64)::Bool goto 8\n",
      "      goto 9\n",
      "      8: \n",
      "      ((top(getfield))(Base,:throw)::F)(((top(getfield))((top(getfield))((top(getfield))(Base,:Main)::ANY,:Base)::ANY,:AssertionError)::ANY)(\"current element < neigh in purge\")::ANY)::UNION{}\n",
      "      9:  # /Users/serbanstan/git/Laplacians.jl/src/linkedListStorage.jl, line 105:\n",
      "      unless #65#neigh::Int64 === pos::Int64::Bool goto 12 # /Users/serbanstan/git/Laplacians.jl/src/linkedListStorage.jl, line 106:\n",
      "      unless false goto 10\n",
      "      goto 11\n",
      "      10: \n",
      "      ((top(getfield))(Base,:throw)::F)(((top(getfield))((top(getfield))((top(getfield))(Base,:Main)::ANY,:Base)::ANY,:AssertionError)::ANY)(\"current element = neigh in purge\")::ANY)::UNION{}\n",
      "      11: \n",
      "      goto 13\n",
      "      12:  # /Users/serbanstan/git/Laplacians.jl/src/linkedListStorage.jl, line 109:\n",
      "      actualMult = (Base.arrayref)(auxMult::Array{Int64,1},#65#neigh::Int64)::Int64 # /Users/serbanstan/git/Laplacians.jl/src/linkedListStorage.jl, line 111:\n",
      "      GenSym(3) = (Base.arrayref)(auxVal::Array{Float64,1},#65#neigh::Int64)::Float64\n",
      "      GenSym(4) = (Base.box)(UInt64,(Base.check_top_bit)(1))\n",
      "      (top(ccall))(:jl_array_grow_end,Base.Void,(top(svec))(Base.Any,Base.UInt)::SimpleVector,res::Array{Float64,1},0,GenSym(4),0)::Void\n",
      "      GenSym(5) = (Base.arraylen)(res::Array{Float64,1})::Int64\n",
      "      (Base.arrayset)(res::Array{Float64,1},GenSym(3),GenSym(5))::Array{Float64,1}\n",
      "      res::Array{Float64,1} # /Users/serbanstan/git/Laplacians.jl/src/linkedListStorage.jl, line 112:\n",
      "      GenSym(6) = (Base.box)(UInt64,(Base.check_top_bit)(1))\n",
      "      (top(ccall))(:jl_array_grow_end,Base.Void,(top(svec))(Base.Any,Base.UInt)::SimpleVector,mult::Array{Int64,1},0,GenSym(6),0)::Void\n",
      "      GenSym(7) = (Base.arraylen)(mult::Array{Int64,1})::Int64\n",
      "      (Base.arrayset)(mult::Array{Int64,1},actualMult::Int64,GenSym(7))::Array{Int64,1}\n",
      "      mult::Array{Int64,1} # /Users/serbanstan/git/Laplacians.jl/src/linkedListStorage.jl, line 113:\n",
      "      GenSym(8) = (Base.box)(UInt64,(Base.check_top_bit)(1))\n",
      "      (top(ccall))(:jl_array_grow_end,Base.Void,(top(svec))(Base.Any,Base.UInt)::SimpleVector,ind::Array{Int64,1},0,GenSym(8),0)::Void\n",
      "      GenSym(9) = (Base.arraylen)(ind::Array{Int64,1})::Int64\n",
      "      (Base.arrayset)(ind::Array{Int64,1},#65#neigh::Int64,GenSym(9))::Array{Int64,1}\n",
      "      ind::Array{Int64,1} # /Users/serbanstan/git/Laplacians.jl/src/linkedListStorage.jl, line 115:\n",
      "      multSum = (Base.box)(Base.Int,(Base.add_int)(multSum::Int64,actualMult::Int64)) # /Users/serbanstan/git/Laplacians.jl/src/linkedListStorage.jl, line 117:\n",
      "      (Base.arrayset)(auxVal::Array{Float64,1},(Base.box)(Float64,(Base.sitofp)(Float64,0)),#65#neigh::Int64)::Array{Float64,1} # /Users/serbanstan/git/Laplacians.jl/src/linkedListStorage.jl, line 118:\n",
      "      (Base.arrayset)(auxMult::Array{Int64,1},0,#65#neigh::Int64)::Array{Int64,1}\n",
      "      13:  # /Users/serbanstan/git/Laplacians.jl/src/linkedListStorage.jl, line 123:\n",
      "      GenSym(11) = (top(getfield))(lls::LinkedListStorage{Float64,Int64},:right)::Int64\n",
      "      GenSym(10) = (top(getfield))(lls::LinkedListStorage{Float64,Int64},:size)::Int64\n",
      "      unless (Base.slt_int)(GenSym(11),GenSym(10))::Bool goto 49\n",
      "      _var0 = (Base.box)(Base.Int,(Base.add_int)(GenSym(11),1))\n",
      "      goto 50\n",
      "      49: \n",
      "      _var0 = 1\n",
      "      50: \n",
      "      (top(setfield!))(lls::LinkedListStorage{Float64,Int64},:right,_var0::Int64)::Int64 # /Users/serbanstan/git/Laplacians.jl/src/linkedListStorage.jl, line 124:\n",
      "      GenSym(13) = (top(getfield))(lls::LinkedListStorage{Float64,Int64},:free)::Array{Int64,1}\n",
      "      GenSym(12) = (top(getfield))(lls::LinkedListStorage{Float64,Int64},:right)::Int64\n",
      "      (Base.arrayset)(GenSym(13),i::Int64,GenSym(12))::Array{Int64,1} # /Users/serbanstan/git/Laplacians.jl/src/linkedListStorage.jl, line 126:\n",
      "      i = (top(getfield))((Base.arrayref)((top(getfield))(lls::LinkedListStorage{Float64,Int64},:val)::Array{element{Float64,Int64},1},i::Int64)::element{Float64,Int64},:next)::Int64\n",
      "      7: \n",
      "      unless (Base.box)(Base.Bool,(Base.not_int)((Base.box)(Base.Bool,(Base.not_int)(i::Int64 === -1::Bool)))) goto 6\n",
      "      5: \n",
      "      4:  # /Users/serbanstan/git/Laplacians.jl/src/linkedListStorage.jl, line 129:\n",
      "      return (top(tuple))(diag::Float64,res::Array{Float64,1},multSum::Int64,mult::Array{Int64,1},ind::Array{Int64,1})::Tuple{Float64,Array{Float64,1},Int64,Array{Int64,1},Array{Int64,1}}\n",
      "  end::Tuple{Float64,Array{Float64,1},Int64,Array{Int64,1},Array{Int64,1}}\n"
     ]
    }
   ],
   "source": [
    "auxVal = zeros(Float64, 5)\n",
    "auxMult = zeros(Int64, 5)\n",
    "@code_warntype llsPurge(l, 1, auxVal, auxMult)"
   ]
  },
  {
   "cell_type": "code",
   "execution_count": 9,
   "metadata": {
    "collapsed": false
   },
   "outputs": [
    {
     "data": {
      "text/plain": [
       "20-element Array{element{Float64,Int64},1}:\n",
       "    element{Float64,Int64}(-1.0,-1,-1,-1)\n",
       "    element{Float64,Int64}(-1.0,-1,-1,-1)\n",
       "    element{Float64,Int64}(-1.0,-1,-1,-1)\n",
       "    element{Float64,Int64}(-1.0,-1,-1,-1)\n",
       "    element{Float64,Int64}(-1.0,-1,-1,-1)\n",
       "    element{Float64,Int64}(1.0,3,4,-1)   \n",
       "    element{Float64,Int64}(-1.0,-1,-1,-1)\n",
       "    element{Float64,Int64}(-1.0,-1,-1,-1)\n",
       "    element{Float64,Int64}(-1.0,-1,-1,-1)\n",
       "    element{Float64,Int64}(-1.0,-1,-1,-1)\n",
       "    element{Float64,Int64}(-1.0,-1,-1,-1)\n",
       " #undef                                  \n",
       " #undef                                  \n",
       " #undef                                  \n",
       " #undef                                  \n",
       " #undef                                  \n",
       " #undef                                  \n",
       " #undef                                  \n",
       " #undef                                  \n",
       " #undef                                  "
      ]
     },
     "execution_count": 9,
     "metadata": {},
     "output_type": "execute_result"
    }
   ],
   "source": [
    "l.val"
   ]
  },
  {
   "cell_type": "code",
   "execution_count": 32,
   "metadata": {
    "collapsed": false
   },
   "outputs": [
    {
     "data": {
      "text/plain": [
       "20-element Array{element{Float64,Int64},1}:\n",
       " element{Float64,Int64}(1.0,3,4,2) \n",
       " element{Float64,Int64}(1.0,3,4,3) \n",
       " element{Float64,Int64}(1.0,3,4,4) \n",
       " element{Float64,Int64}(1.0,3,4,5) \n",
       " element{Float64,Int64}(1.0,3,4,7) \n",
       " element{Float64,Int64}(1.0,3,4,12)\n",
       " element{Float64,Int64}(1.0,3,4,8) \n",
       " element{Float64,Int64}(1.0,3,4,9) \n",
       " element{Float64,Int64}(1.0,3,4,10)\n",
       " element{Float64,Int64}(1.0,3,4,11)\n",
       " element{Float64,Int64}(1.0,3,4,12)\n",
       " element{Float64,Int64}(1.0,3,4,-1)\n",
       " element{Float64,Int64}(1.0,3,4,14)\n",
       " element{Float64,Int64}(1.0,3,4,15)\n",
       " element{Float64,Int64}(1.0,3,4,16)\n",
       " element{Float64,Int64}(1.0,3,4,17)\n",
       " element{Float64,Int64}(1.0,3,4,18)\n",
       " element{Float64,Int64}(1.0,3,4,19)\n",
       " element{Float64,Int64}(1.0,3,4,20)\n",
       " element{Float64,Int64}(1.0,3,4,1) "
      ]
     },
     "execution_count": 32,
     "metadata": {},
     "output_type": "execute_result"
    }
   ],
   "source": [
    "llsAdd(l, 2, (1.0, 3, 4));\n",
    "l.val"
   ]
  },
  {
   "cell_type": "code",
   "execution_count": 34,
   "metadata": {
    "collapsed": false
   },
   "outputs": [
    {
     "data": {
      "text/plain": [
       "12"
      ]
     },
     "execution_count": 34,
     "metadata": {},
     "output_type": "execute_result"
    }
   ],
   "source": [
    "l.left"
   ]
  },
  {
   "cell_type": "code",
   "execution_count": 35,
   "metadata": {
    "collapsed": false
   },
   "outputs": [
    {
     "data": {
      "text/plain": [
       "10"
      ]
     },
     "execution_count": 35,
     "metadata": {},
     "output_type": "execute_result"
    }
   ],
   "source": [
    "l.right\n"
   ]
  },
  {
   "cell_type": "code",
   "execution_count": null,
   "metadata": {
    "collapsed": true
   },
   "outputs": [],
   "source": []
  }
 ],
 "metadata": {
  "kernelspec": {
   "display_name": "Julia 0.4.5",
   "language": "julia",
   "name": "julia-0.4"
  },
  "language_info": {
   "file_extension": ".jl",
   "mimetype": "application/julia",
   "name": "julia",
   "version": "0.4.5"
  }
 },
 "nbformat": 4,
 "nbformat_minor": 0
}
