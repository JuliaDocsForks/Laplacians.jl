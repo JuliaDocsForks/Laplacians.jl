{
 "cells": [
  {
   "cell_type": "code",
   "execution_count": 1,
   "metadata": {
    "collapsed": false
   },
   "outputs": [],
   "source": [
    "using Laplacians"
   ]
  },
  {
   "cell_type": "code",
   "execution_count": 2,
   "metadata": {
    "collapsed": false
   },
   "outputs": [
    {
     "data": {
      "text/plain": [
       "constructLowerTriangularMat (generic function with 1 method)"
      ]
     },
     "execution_count": 2,
     "metadata": {},
     "output_type": "execute_result"
    }
   ],
   "source": [
    "include(\"../../../src/samplingTreeSolver.jl\")"
   ]
  },
  {
   "cell_type": "code",
   "execution_count": 22,
   "metadata": {
    "collapsed": true
   },
   "outputs": [],
   "source": [
    "n = 10000;\n",
    "a = wtedChimera(n, 1);\n",
    "b = rand(n); b = b - mean(b);"
   ]
  },
  {
   "cell_type": "code",
   "execution_count": 23,
   "metadata": {
    "collapsed": false
   },
   "outputs": [
    {
     "name": "stdout",
     "output_type": "stream",
     "text": [
      "rho = 7\n",
      "Average stretch = 0.9023262787314972\n",
      "Maximum stretch = 4.191504349580277\n",
      "Time to build the tree and compute the stretch: elapsed time: 0.117600168 seconds\n",
      "  0.222343 seconds (1.48 M allocations: 86.977 MB, 8.03% gc time)\n"
     ]
    }
   ],
   "source": [
    "@time f = samplingSolver(a, eps = 0.5, sampConst = 0.02, k = 0.5, beta = 100.0);"
   ]
  },
  {
   "cell_type": "code",
   "execution_count": 30,
   "metadata": {
    "collapsed": false
   },
   "outputs": [
    {
     "name": "stdout",
     "output_type": "stream",
     "text": [
      "PCG stopped after: 80 iterations with relative error 9.397334014984522e-7.\n",
      "  0.100017 seconds (1.60 M allocations: 63.255 MB, 5.83% gc time)\n"
     ]
    },
    {
     "data": {
      "text/plain": [
       "2.7183055456704313e-5"
      ]
     },
     "execution_count": 30,
     "metadata": {},
     "output_type": "execute_result"
    }
   ],
   "source": [
    "@time norm(lap(a) * f(b) - b)"
   ]
  },
  {
   "cell_type": "code",
   "execution_count": null,
   "metadata": {
    "collapsed": true
   },
   "outputs": [],
   "source": []
  },
  {
   "cell_type": "code",
   "execution_count": null,
   "metadata": {
    "collapsed": true
   },
   "outputs": [],
   "source": []
  },
  {
   "cell_type": "code",
   "execution_count": null,
   "metadata": {
    "collapsed": true
   },
   "outputs": [],
   "source": []
  },
  {
   "cell_type": "code",
   "execution_count": 6,
   "metadata": {
    "collapsed": false
   },
   "outputs": [
    {
     "name": "stdout",
     "output_type": "stream",
     "text": [
      "rho = 7\n",
      "Average stretch = 0.9023262787314972\n",
      "Maximum stretch = 4.191504349580277\n",
      "Time to build the tree and compute the stretch: elapsed time: 0.131691386 seconds\n",
      "computing the condition number takes: elapsed time: 5.493446458 seconds\n",
      "  5.706455 seconds (40.80 M allocations: 941.548 MB, 2.19% gc time)\n"
     ]
    }
   ],
   "source": [
    "@time f,gOp,_,_,_,cn,_ = buildSolver(a, eps = 0.5, sampConst = 0.02, k = 0.5, beta = 100.0, returnCN = true);"
   ]
  },
  {
   "cell_type": "code",
   "execution_count": 7,
   "metadata": {
    "collapsed": false
   },
   "outputs": [
    {
     "name": "stdout",
     "output_type": "stream",
     "text": [
      "  0.311368 seconds (2.10 M allocations: 48.620 MB, 2.04% gc time)\n"
     ]
    },
    {
     "data": {
      "text/plain": [
       "0.7978029990908337"
      ]
     },
     "execution_count": 7,
     "metadata": {},
     "output_type": "execute_result"
    }
   ],
   "source": [
    "@time checkError(gOp)"
   ]
  },
  {
   "cell_type": "code",
   "execution_count": 8,
   "metadata": {
    "collapsed": false
   },
   "outputs": [
    {
     "data": {
      "text/plain": [
       "(143.08429623266892,147.29954662552993)"
      ]
     },
     "execution_count": 8,
     "metadata": {},
     "output_type": "execute_result"
    }
   ],
   "source": [
    "cn"
   ]
  }
 ],
 "metadata": {
  "kernelspec": {
   "display_name": "Julia 0.4.5",
   "language": "julia",
   "name": "julia-0.4"
  },
  "language_info": {
   "file_extension": ".jl",
   "mimetype": "application/julia",
   "name": "julia",
   "version": "0.4.5"
  }
 },
 "nbformat": 4,
 "nbformat_minor": 0
}
