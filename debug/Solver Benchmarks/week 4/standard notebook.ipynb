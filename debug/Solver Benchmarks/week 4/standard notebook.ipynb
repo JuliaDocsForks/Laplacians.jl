{
 "cells": [
  {
   "cell_type": "code",
   "execution_count": 1,
   "metadata": {
    "collapsed": false
   },
   "outputs": [],
   "source": [
    "using Laplacians"
   ]
  },
  {
   "cell_type": "code",
   "execution_count": 2,
   "metadata": {
    "collapsed": false
   },
   "outputs": [
    {
     "data": {
      "text/plain": [
       "constructLowerTriangularMat (generic function with 1 method)"
      ]
     },
     "execution_count": 2,
     "metadata": {},
     "output_type": "execute_result"
    }
   ],
   "source": [
    "include(\"../../../src/samplingTreeSolver.jl\")"
   ]
  },
  {
   "cell_type": "code",
   "execution_count": 3,
   "metadata": {
    "collapsed": false
   },
   "outputs": [
    {
     "data": {
      "text/plain": [
       "100000"
      ]
     },
     "execution_count": 3,
     "metadata": {},
     "output_type": "execute_result"
    }
   ],
   "source": [
    "n = 100000"
   ]
  },
  {
   "cell_type": "code",
   "execution_count": 6,
   "metadata": {
    "collapsed": false
   },
   "outputs": [
    {
     "name": "stdout",
     "output_type": "stream",
     "text": [
      "rho = 11\n",
      "Average stretch = 0.4060427599406871\n",
      "Maximum stretch = 1.1200000000000006\n",
      "Time to build the tree and compute the stretch: elapsed time: 1.866205815 seconds\n",
      " 12.906836 seconds (84.89 M allocations: 5.746 GB, 12.99% gc time)\n",
      "0.3403279518764833\n",
      " 15.413027 seconds (64.53 M allocations: 1.431 GB, 4.55% gc time)\n"
     ]
    }
   ],
   "source": [
    "a = chimera(n, 1);\n",
    "@time _,gOp,_,_,_,cn,str = buildSolver(a, eps = 0.5, sampConst = 0.02, k = 0.5, beta = 100.0);\n",
    "@time println(checkError(gOp))"
   ]
  },
  {
   "cell_type": "code",
   "execution_count": 7,
   "metadata": {
    "collapsed": false
   },
   "outputs": [
    {
     "name": "stdout",
     "output_type": "stream",
     "text": [
      "rho = 11\n",
      "Average stretch = 1.009989899999228\n",
      "Maximum stretch = 999.9899999992356\n",
      "Time to build the tree and compute the stretch: elapsed time: 0.724734297 seconds\n",
      "  1.565142 seconds (12.41 M allocations: 808.864 MB, 14.30% gc time)\n",
      "0.37422166577983684\n",
      "  1.267842 seconds (13.98 M allocations: 324.734 MB, 14.52% gc time)\n"
     ]
    }
   ],
   "source": [
    "a = chimera(n, 25)\n",
    "@time _,gOp,_,_,_,cn,str = buildSolver(a, eps = 0.5, sampConst = 0.02, k = 0.5, beta = 100.0);\n",
    "@time println(checkError(gOp))"
   ]
  },
  {
   "cell_type": "code",
   "execution_count": null,
   "metadata": {
    "collapsed": true
   },
   "outputs": [],
   "source": []
  },
  {
   "cell_type": "code",
   "execution_count": null,
   "metadata": {
    "collapsed": true
   },
   "outputs": [],
   "source": []
  },
  {
   "cell_type": "code",
   "execution_count": 3,
   "metadata": {
    "collapsed": false
   },
   "outputs": [
    {
     "name": "stdout",
     "output_type": "stream",
     "text": [
      "rho = 11\n",
      "Average stretch = 0.3214408107578261\n",
      "Maximum stretch = 1.694112756230704\n",
      "Time to build the tree and compute the stretch: elapsed time: 2.256747768 seconds\n",
      "computing the condition number takes: elapsed time: 86.65716761 seconds\n",
      " 98.057356 seconds (715.40 M allocations: 17.638 GB, 3.50% gc time)\n",
      "-0.3334836126468777\n",
      "  7.284756 seconds (41.97 M allocations: 936.193 MB, 2.26% gc time)\n",
      "i: (112.13291713187303,114.70536660550427) (0.3214408107578261,1.694112756230704)\n",
      "rho = 11\n",
      "Average stretch = 0.7551418424379207\n",
      "Maximum stretch = 4.599148775153018\n",
      "Time to build the tree and compute the stretch: elapsed time: 0.951281101 seconds\n",
      "computing the condition number takes: elapsed time: 38.587447 seconds\n",
      " 40.319153 seconds (483.13 M allocations: 10.498 GB, 6.62% gc time)\n",
      "0.4534065721166963\n",
      "  5.823242 seconds (62.91 M allocations: 1.359 GB, 5.07% gc time)\n",
      "i: (114.21901942562954,116.88921369967142) (0.7551418424379207,4.599148775153018)\n",
      "rho = 11\n",
      "Average stretch = 0.5308829449053966\n",
      "Maximum stretch = 2.9939348937188015\n",
      "Time to build the tree and compute the stretch: elapsed time: 1.148677152 seconds\n",
      "computing the condition number takes: elapsed time: 33.087644989 seconds\n",
      " 36.294472 seconds (395.05 M allocations: 9.241 GB, 4.38% gc time)\n",
      "0.794956750196366\n",
      "  2.926354 seconds (27.96 M allocations: 629.607 MB, 2.37% gc time)\n",
      "i: (134.88795741476218,138.62780161490895) (0.5308829449053966,2.9939348937188015)\n",
      "rho = 11\n",
      "Average stretch = 0.48937975903598074\n",
      "Maximum stretch = 1.0000000000000155\n",
      "Time to build the tree and compute the stretch: elapsed time: 1.489713539 seconds\n",
      "computing the condition number takes: elapsed time: 55.890693998 seconds\n",
      " 60.944982 seconds (502.21 M allocations: 11.996 GB, 3.71% gc time)\n",
      "-0.3200079938497378\n",
      "  5.835549 seconds (41.94 M allocations: 934.481 MB, 1.87% gc time)\n",
      "i: (112.99431128122636,115.60689559054933) (0.48937975903598074,1.0000000000000155)\n",
      "rho = 11\n",
      "Average stretch = 0.39025629247685434\n",
      "Maximum stretch = 3.8504381776698438\n",
      "Time to build the tree and compute the stretch: elapsed time: 1.238052482 seconds\n",
      "computing the condition number takes: elapsed time: 32.346606455 seconds\n",
      " 35.128162 seconds (430.13 M allocations: 9.707 GB, 4.24% gc time)\n",
      "0.414987472220499\n",
      "  5.104237 seconds (55.92 M allocations: 1.210 GB, 2.50% gc time)\n",
      "i: (118.43988523872844,121.31355801660618) (0.39025629247685434,3.8504381776698438)\n",
      "rho = 11\n",
      "Average stretch = 0.5547994339547161\n",
      "Maximum stretch = 1.0000000000000009\n",
      "Time to build the tree and compute the stretch: elapsed time: 1.174417786 seconds\n",
      "computing the condition number takes: elapsed time: 75.723333445 seconds\n",
      " 79.435948 seconds (815.19 M allocations: 17.894 GB, 3.32% gc time)\n",
      "0.25782219244995935\n",
      " 10.341354 seconds (83.88 M allocations: 1.806 GB, 1.90% gc time)\n",
      "i: (112.48906920551983,115.07807429827515) (0.5547994339547161,1.0000000000000009)\n",
      "rho = 11\n",
      "Average stretch = 0.5685617588298378\n",
      "Maximum stretch = 1.9506520263149287\n",
      "Time to build the tree and compute the stretch: elapsed time: 1.3036361 seconds\n",
      "computing the condition number takes: elapsed time: 54.146520435 seconds\n",
      " 57.834429 seconds (611.72 M allocations: 13.631 GB, 3.60% gc time)\n",
      "0.48158548858256467\n",
      "  4.855281 seconds (41.94 M allocations: 934.480 MB, 1.94% gc time)\n",
      "i: (123.92518107193887,127.07473292953095) (0.5685617588298378,1.9506520263149287)\n",
      "rho = 11\n",
      "Average stretch = 0.34534452646216973\n",
      "Maximum stretch = 8.768927242951019\n",
      "Time to build the tree and compute the stretch: elapsed time: 1.463693618 seconds\n",
      "computing the condition number takes: elapsed time: 39.396689352 seconds\n",
      " 43.609359 seconds (444.76 M allocations: 10.865 GB, 4.28% gc time)\n",
      "0.44161853454587086\n",
      "  6.279561 seconds (55.92 M allocations: 1.210 GB, 1.92% gc time)\n",
      "i: (121.37142978773574,124.39093081281139) (0.34534452646216973,8.768927242951019)\n",
      "rho = 11\n",
      "Average stretch = 0.43535584312577535\n",
      "Maximum stretch = 13.292202729511711\n",
      "Time to build the tree and compute the stretch: elapsed time: 1.961365784 seconds\n",
      "computing the condition number takes: elapsed time: 45.243522053 seconds\n",
      " 50.359102 seconds (441.94 M allocations: 11.324 GB, 4.57% gc time)\n",
      "0.5606372761527616\n",
      "  4.289969 seconds (34.95 M allocations: 782.044 MB, 1.89% gc time)\n",
      "i: (117.48061458961129,120.30737137537933) (0.43535584312577535,13.292202729511711)\n",
      "rho = 11\n",
      "Average stretch = 0.9978318681466938\n",
      "Maximum stretch = 1.000000000439322\n",
      "Time to build the tree and compute the stretch: elapsed time: 1.094520533 seconds\n",
      "computing the condition number takes: elapsed time: 2.735818396 seconds\n",
      "  4.349084 seconds (35.78 M allocations: 1.391 GB, 13.58% gc time)\n",
      "-0.20921083483327904\n",
      "  1.685018 seconds (20.97 M allocations: 477.171 MB, 3.79% gc time)\n",
      "i: (64.94880728503136,65.80358009346246) (0.9978318681466938,1.000000000439322)\n",
      "rho = 11\n",
      "Average stretch = 0.46056480538960387\n",
      "Maximum stretch = 3.1915354428546454\n",
      "Time to build the tree and compute the stretch: elapsed time: 1.429837519 seconds\n",
      "computing the condition number takes: elapsed time: 64.392452749 seconds\n",
      " 68.781490 seconds (675.09 M allocations: 15.535 GB, 3.54% gc time)\n",
      "0.3473331677497223\n",
      " 12.172057 seconds (97.86 M allocations: 2.103 GB, 1.93% gc time)\n",
      "i: (115.52006497033727,118.25216451588899) (0.46056480538960387,3.1915354428546454)\n",
      "rho = 11\n",
      "Average stretch = 0.23597738918271471\n",
      "Maximum stretch = 2.355538639399837\n",
      "Time to build the tree and compute the stretch: elapsed time: 2.841979683 seconds\n",
      "computing the condition number takes: elapsed time: 45.846152795 seconds\n",
      " 58.673293 seconds (291.45 M allocations: 9.506 GB, 4.91% gc time)\n",
      "0.320775693525321\n",
      "  9.600864 seconds (48.93 M allocations: 1.061 GB, 2.41% gc time)\n",
      "i: (107.70543863824315,110.07660851911547) (0.23597738918271471,2.355538639399837)\n",
      "rho = 11\n",
      "Average stretch = 0.420690375\n",
      "Maximum stretch = 1.1900000000000006\n",
      "Time to build the tree and compute the stretch: elapsed time: 1.581457457 seconds\n",
      "computing the condition number takes: elapsed time: 116.207855622 seconds\n",
      "133.138859 seconds (582.68 M allocations: 17.006 GB, 4.51% gc time)\n",
      "0.35001473190966903\n",
      " 23.825620 seconds (76.89 M allocations: 1.657 GB, 1.45% gc time)\n",
      "i: (118.09803155523996,120.9549396102097) (0.420690375,1.1900000000000006)\n",
      "rho = 11\n",
      "Average stretch = 0.3548582303026677\n",
      "Maximum stretch = 13.486009370354747\n",
      "Time to build the tree and compute the stretch: elapsed time: 2.72420792 seconds\n",
      "computing the condition number takes: elapsed time: 106.764624691 seconds\n",
      "120.634970 seconds (839.92 M allocations: 20.052 GB, 3.57% gc time)\n",
      "0.4778107594007177\n",
      "  5.934594 seconds (34.95 M allocations: 782.044 MB, 1.41% gc time)\n",
      "i: (112.90779996682495,115.51633910862017) (0.3548582303026677,13.486009370354747)\n",
      "rho = 11\n",
      "Average stretch = 0.515310519145198\n",
      "Maximum stretch = 2.0800000000000014\n",
      "Time to build the tree and compute the stretch: elapsed time: 1.154111545 seconds\n",
      "computing the condition number takes: elapsed time: 54.597161565 seconds\n",
      " 58.115907 seconds (499.71 M allocations: 11.780 GB, 3.54% gc time)\n",
      "0.45829848732176814\n",
      "  6.024305 seconds (48.93 M allocations: 1.061 GB, 1.91% gc time)\n",
      "i: (120.55135560505181,123.52968992053013) (0.515310519145198,2.0800000000000014)\n",
      "rho = 11\n",
      "Average stretch = 0.6349320006312097\n",
      "Maximum stretch = 14.082070925797927\n",
      "Time to build the tree and compute the stretch: elapsed time: 1.561151276 seconds\n",
      "computing the condition number takes: elapsed time: 43.009363699 seconds\n",
      " 46.490409 seconds (517.43 M allocations: 11.786 GB, 4.42% gc time)\n",
      "0.5316941188494666\n",
      "  3.649971 seconds (34.95 M allocations: 782.044 MB, 2.42% gc time)\n",
      "i: (125.21941336597578,128.43594818329888) (0.6349320006312097,14.082070925797927)\n",
      "rho = 11\n",
      "Average stretch = 0.5295764118094605\n",
      "Maximum stretch = 2.393258775113044\n",
      "Time to build the tree and compute the stretch: elapsed time: 1.286943721 seconds\n",
      "computing the condition number takes: elapsed time: 36.979094454 seconds\n",
      " 39.482022 seconds (487.60 M allocations: 10.783 GB, 4.15% gc time)\n",
      "0.3742610613008853\n",
      "  4.517839 seconds (48.93 M allocations: 1.061 GB, 2.45% gc time)\n",
      "i: (118.50598414370758,121.3829042489564) (0.5295764118094605,2.393258775113044)\n",
      "rho = 11\n",
      "Average stretch = 0.32510270855774864\n",
      "Maximum stretch = 9.420948329800508\n",
      "Time to build the tree and compute the stretch: elapsed time: 2.287133031 seconds\n",
      "computing the condition number takes: elapsed time: 45.746160934 seconds\n",
      " 49.989903 seconds (474.46 M allocations: 11.407 GB, 4.77% gc time)\n",
      "-0.42592698680142227\n",
      "  4.064992 seconds (34.95 M allocations: 782.044 MB, 2.14% gc time)\n",
      "i: (123.35071099168538,126.47076269120966) (0.32510270855774864,9.420948329800508)\n",
      "rho = 11\n",
      "Average stretch = 0.8897517547337377\n",
      "Maximum stretch = 3.7471662843521147\n",
      "Time to build the tree and compute the stretch: elapsed time: 1.728996399 seconds\n",
      "computing the condition number takes: elapsed time: 10.442105661 seconds\n",
      " 13.350140 seconds (96.05 M allocations: 2.701 GB, 5.95% gc time)\n",
      "0.4585661768123893\n",
      "  5.119899 seconds (55.92 M allocations: 1.210 GB, 2.84% gc time)\n",
      "i: (116.66641008214177,119.45365592370294) (0.8897517547337377,3.7471662843521147)\n",
      "rho = 11\n",
      "Average stretch = 0.4346545101209813\n",
      "Maximum stretch = 1.7700000000000014\n",
      "Time to build the tree and compute the stretch: elapsed time: 1.463395571 seconds\n",
      "computing the condition number takes: elapsed time: 103.794159966 seconds\n",
      "124.084517 seconds (561.33 M allocations: 16.942 GB, 4.01% gc time)\n",
      "0.3940334398723706\n",
      " 19.089044 seconds (62.91 M allocations: 1.359 GB, 0.97% gc time)\n",
      "i: (119.14533460339949,122.05376186274765) (0.4346545101209813,1.7700000000000014)\n",
      "rho = 11\n",
      "Average stretch = 0.32006040330424107\n",
      "Maximum stretch = 1.4943209248055134\n",
      "Time to build the tree and compute the stretch: elapsed time: 2.327438174 seconds\n",
      "computing the condition number takes: elapsed time: 72.43139997 seconds\n",
      " 83.788091 seconds (510.18 M allocations: 13.835 GB, 3.77% gc time)\n",
      "0.33604250461664376\n",
      " 10.186032 seconds (55.92 M allocations: 1.210 GB, 3.10% gc time)\n",
      "i: (113.04740226201974,115.6624706308241) (0.32006040330424107,1.4943209248055134)\n",
      "rho = 11\n",
      "Average stretch = 0.5961422984292357\n",
      "Maximum stretch = 1.0675203607154988\n",
      "Time to build the tree and compute the stretch: elapsed time: 1.614603587 seconds\n",
      "computing the condition number takes: elapsed time: 41.12250875 seconds\n",
      " 45.268347 seconds (454.35 M allocations: 10.720 GB, 4.01% gc time)\n",
      "0.4709018635277029\n",
      "  7.205357 seconds (62.91 M allocations: 1.359 GB, 2.00% gc time)\n",
      "i: (128.00579028656222,131.36898852563627) (0.5961422984292357,1.0675203607154988)\n",
      "rho = 11\n",
      "Average stretch = 0.3320299841421597\n",
      "Maximum stretch = 14.383384208007895\n",
      "Time to build the tree and compute the stretch: elapsed time: 2.347427574 seconds\n",
      "computing the condition number takes: elapsed time: 96.986272371 seconds\n",
      "105.788372 seconds (772.71 M allocations: 18.996 GB, 3.11% gc time)\n",
      "0.5174863605970057\n",
      "  6.768140 seconds (34.95 M allocations: 782.044 MB, 1.25% gc time)\n",
      "i: (111.88318713807443,114.4440603830091) (0.3320299841421597,14.383384208007895)\n",
      "rho = 11\n",
      "Average stretch = 0.3309397479240768\n",
      "Maximum stretch = 24.14706172793131\n",
      "Time to build the tree and compute the stretch: elapsed time: 1.94138788 seconds\n",
      "computing the condition number takes: elapsed time: 133.63030017 seconds\n",
      "147.869240 seconds (823.10 M allocations: 21.660 GB, 2.84% gc time)\n",
      "0.34251829415101337\n",
      " 12.731173 seconds (55.92 M allocations: 1.210 GB, 1.07% gc time)\n",
      "i: (109.9854484027297,112.4592240393274) (0.3309397479240768,24.14706172793131)\n",
      "rho = 11\n",
      "Average stretch = 1.0025050074965842\n",
      "Maximum stretch = 251.50074914606228\n",
      "Time to build the tree and compute the stretch: elapsed time: 1.053788365 seconds\n",
      "computing the condition number takes: elapsed time: 2.282397599 seconds\n",
      "  4.064295 seconds (40.38 M allocations: 1.619 GB, 10.57% gc time)\n",
      "0.35269687438812714\n",
      "  1.069687 seconds (13.98 M allocations: 324.735 MB, 3.29% gc time)\n",
      "i: (110.8796201202873,113.39424222053547) (1.0025050074965842,251.50074914606228)\n"
     ]
    }
   ],
   "source": [
    "for i in 1:25\n",
    "    a = wtedChimera(n, i)\n",
    "    \n",
    "    @time _,gOp,_,_,_,cn,str = buildSolver(a, eps = 0.5, sampConst = 0.02, k = 0.5, \n",
    "                        beta = 100.0, returnCN = true);\n",
    "    @time println(checkError(gOp))\n",
    "    \n",
    "    println(\"i: \", cn, \" \", str)\n",
    "end"
   ]
  },
  {
   "cell_type": "code",
   "execution_count": null,
   "metadata": {
    "collapsed": true
   },
   "outputs": [],
   "source": []
  }
 ],
 "metadata": {
  "kernelspec": {
   "display_name": "Julia 0.4.5",
   "language": "julia",
   "name": "julia-0.4"
  },
  "language_info": {
   "file_extension": ".jl",
   "mimetype": "application/julia",
   "name": "julia",
   "version": "0.4.5"
  }
 },
 "nbformat": 4,
 "nbformat_minor": 0
}
