{
 "cells": [
  {
   "cell_type": "code",
   "execution_count": 1,
   "metadata": {
    "collapsed": false
   },
   "outputs": [],
   "source": [
    "using Laplacians"
   ]
  },
  {
   "cell_type": "code",
   "execution_count": 2,
   "metadata": {
    "collapsed": false
   },
   "outputs": [
    {
     "data": {
      "text/plain": [
       "constructLowerTriangularMat (generic function with 1 method)"
      ]
     },
     "execution_count": 2,
     "metadata": {},
     "output_type": "execute_result"
    }
   ],
   "source": [
    "include(\"../../../src/samplingJohnLindSolver.jl\")"
   ]
  },
  {
   "cell_type": "code",
   "execution_count": 3,
   "metadata": {
    "collapsed": true
   },
   "outputs": [],
   "source": [
    "n = 20000;\n",
    "a = chimera(n, 1);\n",
    "b = rand(n); b = b - mean(b);"
   ]
  },
  {
   "cell_type": "code",
   "execution_count": 4,
   "metadata": {
    "collapsed": false
   },
   "outputs": [
    {
     "name": "stdout",
     "output_type": "stream",
     "text": [
      "rho = 156.92650512518082\n",
      "Johnson-Lindenstrauss takes elapsed time: 95.456736917 seconds\n",
      "Total leverage = 20007.204302255683\n",
      "101.344092 seconds (27.89 M allocations: 64.107 GB, 7.04% gc time)\n"
     ]
    }
   ],
   "source": [
    "@time f = samplingSolver(a, eps = 0.5, sampConst = 0.4);"
   ]
  },
  {
   "cell_type": "code",
   "execution_count": 5,
   "metadata": {
    "collapsed": false
   },
   "outputs": [
    {
     "name": "stdout",
     "output_type": "stream",
     "text": [
      "PCG stopped after: 8 iterations with relative error 8.247550776543842e-7.\n",
      "elapsed time: 0.160893804 seconds\n",
      "PCG stopped after: 8 iterations with relative error 8.247550776543842e-7.\n",
      "elapsed time: 0.060948754 seconds\n",
      "PCG stopped after: 8 iterations with relative error 8.247550776543842e-7.\n",
      "elapsed time: 0.056268214 seconds\n",
      "PCG stopped after: 8 iterations with relative error 8.247550776543842e-7.\n",
      "elapsed time: 0.062046584 seconds\n",
      "PCG stopped after: 8 iterations with relative error 8.247550776543842e-7.\n",
      "elapsed time: 0.059421804 seconds\n",
      "PCG stopped after: 8 iterations with relative error 8.247550776543842e-7.\n",
      "elapsed time: 0.055154455 seconds\n",
      "PCG stopped after: 8 iterations with relative error 8.247550776543842e-7.\n",
      "elapsed time: 0.054253303 seconds\n",
      "PCG stopped after: 8 iterations with relative error 8.247550776543842e-7.\n",
      "elapsed time: 0.058875379 seconds\n",
      "PCG stopped after: 8 iterations with relative error 8.247550776543842e-7.\n",
      "elapsed time: 0.052876598 seconds\n",
      "PCG stopped after: 8 iterations with relative error 8.247550776543842e-7.\n",
      "elapsed time: 0.060812397 seconds\n",
      "PCG stopped after: 8 iterations with relative error 8.247550776543842e-7.\n",
      "elapsed time: 0.051907947 seconds\n",
      "PCG stopped after: 8 iterations with relative error 8.247550776543842e-7.\n",
      "elapsed time: 0.060905823 seconds\n",
      "PCG stopped after: 8 iterations with relative error 8.247550776543842e-7.\n",
      "elapsed time: 0.053473043 seconds\n",
      "PCG stopped after: 8 iterations with relative error 8.247550776543842e-7.\n",
      "elapsed time: 0.06338731 seconds\n",
      "PCG stopped after: 8 iterations with relative error 8.247550776543842e-7.\n",
      "elapsed time: 0.055068948 seconds\n",
      "PCG stopped after: 8 iterations with relative error 8.247550776543842e-7.\n",
      "elapsed time: 0.057700922 seconds\n",
      "PCG stopped after: 8 iterations with relative error 8.247550776543842e-7.\n",
      "elapsed time: 0.058001019 seconds\n",
      "PCG stopped after: 8 iterations with relative error 8.247550776543842e-7.\n",
      "elapsed time: 0.060276118 seconds\n",
      "PCG stopped after: 8 iterations with relative error 8.247550776543842e-7.\n",
      "elapsed time: 0.055962378 seconds\n",
      "PCG stopped after: 8 iterations with relative error 8.247550776543842e-7.\n",
      "elapsed time: 0.060175274 seconds\n",
      "PCG stopped after: 8 iterations with relative error 8.247550776543842e-7.\n",
      "elapsed time: 0.053963048 seconds\n",
      "PCG stopped after: 8 iterations with relative error 8.247550776543842e-7.\n",
      "elapsed time: 0.061732688 seconds\n",
      "PCG stopped after: 8 iterations with relative error 8.247550776543842e-7.\n",
      "elapsed time: 0.05299425 seconds\n",
      "PCG stopped after: 8 iterations with relative error 8.247550776543842e-7.\n",
      "elapsed time: 0.062215133 seconds\n",
      "PCG stopped after: 8 iterations with relative error 8.247550776543842e-7.\n",
      "elapsed time: 0.051618711 seconds\n",
      "PCG stopped after: 8 iterations with relative error 8.247550776543842e-7.\n",
      "elapsed time: 0.063608745 seconds\n",
      "PCG stopped after: 8 iterations with relative error 8.247550776543842e-7.\n",
      "elapsed time: 0.05260648 seconds\n",
      "PCG stopped after: 8 iterations with relative error 8.247550776543842e-7.\n",
      "elapsed time: 0.064098322 seconds\n",
      "PCG stopped after: 8 iterations with relative error 8.247550776543842e-7.\n",
      "elapsed time: 0.05430883 seconds\n",
      "PCG stopped after: 8 iterations with relative error 8.247550776543842e-7.\n",
      "elapsed time: 0.064514145 seconds\n",
      "PCG stopped after: 8 iterations with relative error 8.247550776543842e-7.\n",
      "elapsed time: 0.05730461 seconds\n",
      "PCG stopped after: 8 iterations with relative error 8.247550776543842e-7.\n",
      "elapsed time: 0.063841616 seconds\n",
      "PCG stopped after: 8 iterations with relative error 8.247550776543842e-7.\n",
      "elapsed time: 0.05482077 seconds\n",
      "PCG stopped after: 8 iterations with relative error 8.247550776543842e-7.\n",
      "elapsed time: 0.061976956 seconds\n",
      "PCG stopped after: 8 iterations with relative error 8.247550776543842e-7.\n",
      "elapsed time: 0.053735321 seconds\n",
      "PCG stopped after: 8 iterations with relative error 8.247550776543842e-7.\n",
      "elapsed time: 0.065189008 seconds\n",
      "PCG stopped after: 8 iterations with relative error 8.247550776543842e-7.\n",
      "elapsed time: 0.057135112 seconds\n",
      "PCG stopped after: 8 iterations with relative error 8.247550776543842e-7.\n",
      "elapsed time: 0.065026395 seconds\n",
      "PCG stopped after: 8 iterations with relative error 8.247550776543842e-7.\n",
      "elapsed time: 0.051948435 seconds\n",
      "PCG stopped after: 8 iterations with relative error 8.247550776543842e-7.\n",
      "elapsed time: 0.061740123 seconds\n",
      "PCG stopped after: 8 iterations with relative error 8.247550776543842e-7.\n",
      "elapsed time: 0.052633679 seconds\n",
      "PCG stopped after: 8 iterations with relative error 8.247550776543842e-7.\n",
      "elapsed time: 0.062197634 seconds\n",
      "PCG stopped after: 8 iterations with relative error 8.247550776543842e-7.\n",
      "elapsed time: 0.054021969 seconds\n",
      "PCG stopped after: 8 iterations with relative error 8.247550776543842e-7.\n",
      "elapsed time: 0.059101918 seconds\n",
      "PCG stopped after: 8 iterations with relative error 8.247550776543842e-7.\n",
      "elapsed time: 0.056624188 seconds\n",
      "PCG stopped after: 8 iterations with relative error 8.247550776543842e-7.\n",
      "elapsed time: 0.066671175 seconds\n",
      "PCG stopped after: 8 iterations with relative error 8.247550776543842e-7.\n",
      "elapsed time: 0.053603589 seconds\n",
      "PCG stopped after: 8 iterations with relative error 8.247550776543842e-7.\n",
      "elapsed time: 0.063989628 seconds\n",
      "PCG stopped after: 8 iterations with relative error 8.247550776543842e-7.\n",
      "elapsed time: 0.054523848 seconds\n",
      "PCG stopped after: 8 iterations with relative error 8.247550776543842e-7.\n",
      "elapsed time: 0.065279969 seconds\n",
      "PCG stopped after: 8 iterations with relative error 8.247550776543842e-7.\n",
      "elapsed time: 0.052993517 seconds\n",
      "PCG stopped after: 8 iterations with relative error 8.247550776543842e-7.\n",
      "elapsed time: 0.065707411 seconds\n",
      "PCG stopped after: 8 iterations with relative error 8.247550776543842e-7.\n",
      "elapsed time: 0.051526218 seconds\n",
      "PCG stopped after: 8 iterations with relative error 8.247550776543842e-7.\n",
      "elapsed time: 0.068322612 seconds\n",
      "PCG stopped after: 8 iterations with relative error 8.247550776543842e-7.\n",
      "elapsed time: 0.055321586 seconds\n",
      "PCG stopped after: 8 iterations with relative error 8.247550776543842e-7.\n",
      "elapsed time: 0.06441838 seconds\n",
      "PCG stopped after: 8 iterations with relative error 8.247550776543842e-7.\n",
      "elapsed time: 0.055509378 seconds\n",
      "PCG stopped after: 8 iterations with relative error 8.247550776543842e-7.\n",
      "elapsed time: 0.064465408 seconds\n",
      "PCG stopped after: 8 iterations with relative error 8.247550776543842e-7.\n",
      "elapsed time: 0.056787401 seconds\n",
      "PCG stopped after: 8 iterations with relative error 8.247550776543842e-7.\n",
      "elapsed time: 0.065385324 seconds\n",
      "PCG stopped after: 8 iterations with relative error 8.247550776543842e-7.\n",
      "elapsed time: 0.057385456 seconds\n",
      "PCG stopped after: 8 iterations with relative error 8.247550776543842e-7.\n",
      "elapsed time: 0.067473605 seconds\n",
      "PCG stopped after: 8 iterations with relative error 8.247550776543842e-7.\n",
      "elapsed time: 0.056334708 seconds\n",
      "PCG stopped after: 8 iterations with relative error 8.247550776543842e-7.\n",
      "elapsed time: 0.069517883 seconds\n",
      "PCG stopped after: 8 iterations with relative error 8.247550776543842e-7.\n",
      "elapsed time: 0.054163158 seconds\n",
      "PCG stopped after: 8 iterations with relative error 8.247550776543842e-7.\n",
      "elapsed time: 0.063580929 seconds\n",
      "PCG stopped after: 8 iterations with relative error 8.247550776543842e-7.\n",
      "elapsed time: 0.05252471 seconds\n",
      "PCG stopped after: 8 iterations with relative error 8.247550776543842e-7.\n",
      "elapsed time: 0.084541301 seconds\n",
      "PCG stopped after: 8 iterations with relative error 8.247550776543842e-7.\n",
      "elapsed time: 0.078419066 seconds\n",
      "PCG stopped after: 8 iterations with relative error 8.247550776543842e-7.\n",
      "elapsed time: 0.070600812 seconds\n",
      "PCG stopped after: 8 iterations with relative error 8.247550776543842e-7.\n",
      "elapsed time: 0.075096222 seconds\n",
      "PCG stopped after: 8 iterations with relative error 8.247550776543842e-7.\n",
      "elapsed time: 0.094747993 seconds\n",
      "PCG stopped after: 8 iterations with relative error 8.247550776543842e-7.\n",
      "elapsed time: 0.098434041 seconds\n",
      "PCG stopped after: 8 iterations with relative error 8.247550776543842e-7.\n",
      "elapsed time: 0.132904769 seconds\n",
      "PCG stopped after: 8 iterations with relative error 8.247550776543842e-7.\n",
      "elapsed time: 0.109331135 seconds\n",
      "PCG stopped after: 8 iterations with relative error 8.247550776543842e-7.\n",
      "elapsed time: 0.084673687 seconds\n",
      "PCG stopped after: 8 iterations with relative error 8.247550776543842e-7.\n",
      "elapsed time: 0.059396249 seconds\n",
      "PCG stopped after: 8 iterations with relative error 8.247550776543842e-7.\n",
      "elapsed time: 0.069151789 seconds\n",
      "PCG stopped after: 8 iterations with relative error 8.247550776543842e-7.\n",
      "elapsed time: 0.055625238 seconds\n",
      "PCG stopped after: 8 iterations with relative error 8.247550776543842e-7.\n",
      "elapsed time: 0.063977826 seconds\n",
      "PCG stopped after: 8 iterations with relative error 8.247550776543842e-7.\n",
      "elapsed time: 0.058564866 seconds\n",
      "PCG stopped after: 8 iterations with relative error 8.247550776543842e-7.\n",
      "elapsed time: 0.066361669 seconds\n",
      "PCG stopped after: 8 iterations with relative error 8.247550776543842e-7.\n",
      "elapsed time: 0.055212314 seconds\n",
      "PCG stopped after: 8 iterations with relative error 8.247550776543842e-7.\n",
      "elapsed time: 0.070256824 seconds\n",
      "PCG stopped after: 8 iterations with relative error 8.247550776543842e-7.\n",
      "elapsed time: 0.064739405 seconds\n",
      "PCG stopped after: 8 iterations with relative error 8.247550776543842e-7.\n",
      "elapsed time: 0.064412949 seconds\n",
      "PCG stopped after: 8 iterations with relative error 8.247550776543842e-7.\n",
      "elapsed time: 0.064971949 seconds\n",
      "PCG stopped after: 8 iterations with relative error 8.247550776543842e-7.\n",
      "elapsed time: 0.068532278 seconds\n",
      "PCG stopped after: 8 iterations with relative error 8.247550776543842e-7.\n",
      "elapsed time: 0.060709515 seconds\n",
      "PCG stopped after: 8 iterations with relative error 8.247550776543842e-7.\n",
      "elapsed time: 0.061303908 seconds\n",
      "PCG stopped after: 8 iterations with relative error 8.247550776543842e-7.\n",
      "elapsed time: 0.054338612 seconds\n",
      "PCG stopped after: 8 iterations with relative error 8.247550776543842e-7.\n",
      "elapsed time: 0.061962747 seconds\n",
      "PCG stopped after: 8 iterations with relative error 8.247550776543842e-7.\n",
      "elapsed time: 0.057042629 seconds\n",
      "PCG stopped after: 8 iterations with relative error 8.247550776543842e-7.\n",
      "elapsed time: 0.062446392 seconds\n",
      "PCG stopped after: 8 iterations with relative error 8.247550776543842e-7.\n",
      "elapsed time: 0.052079403 seconds\n",
      "PCG stopped after: 8 iterations with relative error 8.247550776543842e-7.\n",
      "elapsed time: 0.065073454 seconds\n",
      "PCG stopped after: 8 iterations with relative error 8.247550776543842e-7.\n",
      "elapsed time: 0.053355001 seconds\n",
      "PCG stopped after: 8 iterations with relative error 8.247550776543842e-7.\n",
      "elapsed time: 0.066768453 seconds\n",
      "PCG stopped after: 8 iterations with relative error 8.247550776543842e-7.\n",
      "elapsed time: 0.056616517 seconds\n",
      "PCG stopped after: 8 iterations with relative error 8.247550776543842e-7.\n",
      "elapsed time: 0.063186411 seconds\n"
     ]
    }
   ],
   "source": [
    "meanRuntime = 0\n",
    "ntest = 100\n",
    "for i in 1:ntest\n",
    "    tic()\n",
    "    norm(lap(a) * f(b) - b)\n",
    "    meanRuntime += toc();\n",
    "end"
   ]
  },
  {
   "cell_type": "code",
   "execution_count": 6,
   "metadata": {
    "collapsed": false
   },
   "outputs": [
    {
     "data": {
      "text/plain": [
       "0.06347689477000001"
      ]
     },
     "execution_count": 6,
     "metadata": {},
     "output_type": "execute_result"
    }
   ],
   "source": [
    "meanRuntime / ntest"
   ]
  },
  {
   "cell_type": "code",
   "execution_count": null,
   "metadata": {
    "collapsed": true
   },
   "outputs": [],
   "source": []
  },
  {
   "cell_type": "code",
   "execution_count": null,
   "metadata": {
    "collapsed": true
   },
   "outputs": [],
   "source": []
  },
  {
   "cell_type": "code",
   "execution_count": 13,
   "metadata": {
    "collapsed": false
   },
   "outputs": [
    {
     "name": "stdout",
     "output_type": "stream",
     "text": [
      "rho = 156.92650512518082\n",
      "Johnson-Lindenstrauss takes elapsed time: 93.825444143 seconds\n",
      "Total leverage = 20009.360939005837\n",
      "computing the condition number takes: elapsed time: 2.136071693 seconds\n",
      "104.577069 seconds (77.91 M allocations: 68.704 GB, 7.65% gc time)\n"
     ]
    }
   ],
   "source": [
    "@time f,gOp,_,_,cn = buildSolver(a, eps = 0.5, sampConst = 0.4, returnCN = true, resetMultCounts = false);"
   ]
  },
  {
   "cell_type": "code",
   "execution_count": 14,
   "metadata": {
    "collapsed": false
   },
   "outputs": [
    {
     "name": "stdout",
     "output_type": "stream",
     "text": [
      "  1.414411 seconds (9.73 M allocations: 216.540 MB, 9.09% gc time)\n"
     ]
    },
    {
     "data": {
      "text/plain": [
       "0.29259769447152534"
      ]
     },
     "execution_count": 14,
     "metadata": {},
     "output_type": "execute_result"
    }
   ],
   "source": [
    "@time checkError(gOp)"
   ]
  },
  {
   "cell_type": "code",
   "execution_count": 15,
   "metadata": {
    "collapsed": false
   },
   "outputs": [
    {
     "data": {
      "text/plain": [
       "(1.6030743918302641,1.6035885261705316)"
      ]
     },
     "execution_count": 15,
     "metadata": {},
     "output_type": "execute_result"
    }
   ],
   "source": [
    "cn"
   ]
  },
  {
   "cell_type": "code",
   "execution_count": null,
   "metadata": {
    "collapsed": true
   },
   "outputs": [],
   "source": []
  }
 ],
 "metadata": {
  "kernelspec": {
   "display_name": "Julia 0.4.5",
   "language": "julia",
   "name": "julia-0.4"
  },
  "language_info": {
   "file_extension": ".jl",
   "mimetype": "application/julia",
   "name": "julia",
   "version": "0.4.5"
  }
 },
 "nbformat": 4,
 "nbformat_minor": 0
}
