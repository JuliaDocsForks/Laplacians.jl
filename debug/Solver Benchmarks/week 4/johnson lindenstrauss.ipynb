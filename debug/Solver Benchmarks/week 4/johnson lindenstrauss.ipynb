{
 "cells": [
  {
   "cell_type": "code",
   "execution_count": 2,
   "metadata": {
    "collapsed": false
   },
   "outputs": [],
   "source": [
    "using Laplacians"
   ]
  },
  {
   "cell_type": "code",
   "execution_count": 13,
   "metadata": {
    "collapsed": false
   },
   "outputs": [],
   "source": [
    "n = 20;\n",
    "a = wtedChimera(n, 1);"
   ]
  },
  {
   "cell_type": "code",
   "execution_count": 14,
   "metadata": {
    "collapsed": false
   },
   "outputs": [
    {
     "name": "stdout",
     "output_type": "stream",
     "text": [
      "dhat = 2477\n",
      "the diff is: 8.881784197001252e-16\n",
      "elapsed time: 2.8442e-5 seconds\n",
      "Tree build time: (20,2477)\n",
      "  0.597224 seconds (807.05 k allocations: 77.601 MB, 7.31% gc time)\n"
     ]
    }
   ],
   "source": [
    "include(\"../../../src/johnlind.jl\")\n",
    "@time reff = johnlind(a, 0.2);"
   ]
  },
  {
   "cell_type": "code",
   "execution_count": 15,
   "metadata": {
    "collapsed": false
   },
   "outputs": [
    {
     "data": {
      "text/plain": [
       "20x20 Array{Float64,2}:\n",
       " 0.0       0.0       0.0       0.0       …  0.0        0.0       0.0     \n",
       " 0.0       0.0       0.0       0.0          0.0        0.0       0.0     \n",
       " 0.0       0.0       0.0       0.0          0.0        0.0       0.625807\n",
       " 0.0       0.0       0.0       0.0          0.0        0.0       0.0     \n",
       " 0.0       0.0       0.0       0.509038     0.0        0.0       0.0     \n",
       " 0.0       0.634409  0.0       0.0       …  0.0        0.0       0.228516\n",
       " 0.896104  0.0       0.532831  0.533469     0.0        0.0       0.0     \n",
       " 0.0       0.0       0.0       0.0          0.0536984  0.0       0.0     \n",
       " 0.0       0.0       0.0       0.0          0.0        0.0       0.0     \n",
       " 0.0       0.409713  0.0       0.0          0.0        0.0       0.35217 \n",
       " 0.0       0.0       0.0       0.0       …  0.796284   0.546006  0.0     \n",
       " 1.00637   0.0       0.0       0.265521     0.0        0.0       0.0     \n",
       " 0.0       0.0       0.70211   0.0          0.262745   0.682409  0.0     \n",
       " 0.0       0.0       0.0       0.0          0.0        0.0       0.271808\n",
       " 0.0       0.0       0.0       0.0          0.0        0.0       0.0     \n",
       " 0.0       0.70354   0.0       0.0       …  0.0        0.0       0.0     \n",
       " 0.961067  0.0       0.578582  0.0          0.0        0.917617  0.0     \n",
       " 0.0       0.0       0.0       0.0          0.0        0.0       0.0     \n",
       " 0.0       0.0       0.0       0.0          0.0        0.0       0.0     \n",
       " 0.0       0.0       0.625807  0.0          0.0        0.0       0.0     "
      ]
     },
     "execution_count": 15,
     "metadata": {},
     "output_type": "execute_result"
    }
   ],
   "source": [
    "full(reff)"
   ]
  },
  {
   "cell_type": "code",
   "execution_count": 16,
   "metadata": {
    "collapsed": false
   },
   "outputs": [
    {
     "data": {
      "text/plain": [
       "19.001102869009557"
      ]
     },
     "execution_count": 16,
     "metadata": {},
     "output_type": "execute_result"
    }
   ],
   "source": [
    "levScore = copy(a);\n",
    "for i in 1:length(a.nzval)\n",
    "    levScore.nzval[i] = a.nzval[i] * reff.nzval[i]\n",
    "end\n",
    "sum(levScore.nzval) / 2"
   ]
  },
  {
   "cell_type": "code",
   "execution_count": 232,
   "metadata": {
    "collapsed": false
   },
   "outputs": [
    {
     "name": "stdout",
     "output_type": "stream",
     "text": [
      "7 1 -> [0.8906047685920313]\n",
      "12 1 -> [0.9868575973840644]\n",
      "17 1 -> [0.9574872860240742]\n",
      "6 2 -> [0.5906368228719505]\n",
      "10 2 -> [0.40092975428882316]\n",
      "16 2 -> [0.7161392930129218]\n",
      "7 3 -> [0.5268476290902109]\n",
      "13 3 -> [0.7096672868381041]\n",
      "17 3 -> [0.5793190203084784]\n",
      "20 3 -> [0.6269914311100404]\n",
      "5 4 -> [0.48628383169109807]\n",
      "7 4 -> [0.5445077685289976]\n",
      "12 4 -> [0.2653588510032765]\n",
      "14 5 -> [0.5296332389460829]\n",
      "15 5 -> [0.14675658063538632]\n",
      "9 6 -> [0.45008795867224793]\n",
      "20 6 -> [0.22569309882853594]\n",
      "14 7 -> [0.6755671326131885]\n",
      "10 8 -> [0.34426886794772715]\n",
      "16 8 -> [0.8610470456276673]\n",
      "18 8 -> [0.053851306036720836]\n",
      "14 9 -> [0.3089243898107056]\n",
      "15 9 -> [0.5025922373093137]\n",
      "13 10 -> [0.40871786269727306]\n",
      "20 10 -> [0.35805630318606935]\n",
      "18 11 -> [0.8109636504125346]\n",
      "19 11 -> [0.5417724304229694]\n",
      "18 13 -> [0.2752516700455072]\n",
      "19 13 -> [0.6858289493826616]\n",
      "20 14 -> [0.27612486425080557]\n",
      "19 17 -> [0.9142514202913337]\n"
     ]
    },
    {
     "data": {
      "text/plain": [
       "1-element Array{Float64,1}:\n",
       " 19.0"
      ]
     },
     "execution_count": 232,
     "metadata": {},
     "output_type": "execute_result"
    }
   ],
   "source": [
    "inv = pinv(full(lap(a)));\n",
    "totLevScore = 0\n",
    "pos = 1\n",
    "for i in 1:length(a.nzval)\n",
    "    while a.colptr[pos + 1] <= i\n",
    "        pos = pos + 1\n",
    "    end\n",
    "\n",
    "    p = a.rowval[i]\n",
    "    q = pos\n",
    "    w = a.nzval[i]\n",
    "    \n",
    "    if p > q\n",
    "        edge = zeros(a.n)\n",
    "        edge[p] = 1\n",
    "        edge[q] = -1\n",
    "        totLevScore += w * edge' * inv * edge\n",
    "        \n",
    "        println(p, \" \", q, \" -> \", edge' * inv * edge)\n",
    "    end\n",
    "end\n",
    "totLevScore"
   ]
  },
  {
   "cell_type": "code",
   "execution_count": null,
   "metadata": {
    "collapsed": true
   },
   "outputs": [],
   "source": []
  },
  {
   "cell_type": "code",
   "execution_count": null,
   "metadata": {
    "collapsed": true
   },
   "outputs": [],
   "source": []
  }
 ],
 "metadata": {
  "kernelspec": {
   "display_name": "Julia 0.4.5",
   "language": "julia",
   "name": "julia-0.4"
  },
  "language_info": {
   "file_extension": ".jl",
   "mimetype": "application/julia",
   "name": "julia",
   "version": "0.4.5"
  }
 },
 "nbformat": 4,
 "nbformat_minor": 0
}
