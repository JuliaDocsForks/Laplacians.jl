{
 "cells": [
  {
   "cell_type": "code",
   "execution_count": 1,
   "metadata": {
    "collapsed": false
   },
   "outputs": [],
   "source": [
    "using Laplacians"
   ]
  },
  {
   "cell_type": "code",
   "execution_count": 7,
   "metadata": {
    "collapsed": false
   },
   "outputs": [],
   "source": [
    "n = 100;\n",
    "a = wtedChimera(n, 1);"
   ]
  },
  {
   "cell_type": "code",
   "execution_count": 8,
   "metadata": {
    "collapsed": false
   },
   "outputs": [
    {
     "name": "stdout",
     "output_type": "stream",
     "text": [
      "dhat = 3604\n",
      "the diff is: 3.552713678800501e-15\n",
      "elapsed time: 0.000204693 seconds\n",
      "Tree build time: (100,3604)\n",
      "  3.130585 seconds (2.28 M allocations: 813.686 MB, 8.27% gc time)\n"
     ]
    }
   ],
   "source": [
    "include(\"../../../src/johnlind.jl\")\n",
    "@time reff = johnlind(a, 0.2);"
   ]
  },
  {
   "cell_type": "code",
   "execution_count": 9,
   "metadata": {
    "collapsed": false
   },
   "outputs": [
    {
     "data": {
      "text/plain": [
       "99.24966972948425"
      ]
     },
     "execution_count": 9,
     "metadata": {},
     "output_type": "execute_result"
    }
   ],
   "source": [
    "levScore = copy(a);\n",
    "for i in 1:length(a.nzval)\n",
    "    levScore.nzval[i] = a.nzval[i] * reff.nzval[i]\n",
    "end\n",
    "sum(levScore.nzval) / 2"
   ]
  },
  {
   "cell_type": "code",
   "execution_count": 10,
   "metadata": {
    "collapsed": false
   },
   "outputs": [
    {
     "data": {
      "text/plain": [
       "1-element Array{Float64,1}:\n",
       " 99.0"
      ]
     },
     "execution_count": 10,
     "metadata": {},
     "output_type": "execute_result"
    }
   ],
   "source": [
    "inv = pinv(full(lap(a)));\n",
    "totLevScore = 0\n",
    "pos = 1\n",
    "for i in 1:length(a.nzval)\n",
    "    while a.colptr[pos + 1] <= i\n",
    "        pos = pos + 1\n",
    "    end\n",
    "\n",
    "    p = a.rowval[i]\n",
    "    q = pos\n",
    "    w = a.nzval[i]\n",
    "    \n",
    "    if p > q\n",
    "        edge = zeros(a.n)\n",
    "        edge[p] = 1\n",
    "        edge[q] = -1\n",
    "        totLevScore += w * edge' * inv * edge\n",
    "    end\n",
    "end\n",
    "totLevScore"
   ]
  },
  {
   "cell_type": "code",
   "execution_count": null,
   "metadata": {
    "collapsed": true
   },
   "outputs": [],
   "source": []
  },
  {
   "cell_type": "code",
   "execution_count": null,
   "metadata": {
    "collapsed": true
   },
   "outputs": [],
   "source": []
  }
 ],
 "metadata": {
  "kernelspec": {
   "display_name": "Julia 0.4.5",
   "language": "julia",
   "name": "julia-0.4"
  },
  "language_info": {
   "file_extension": ".jl",
   "mimetype": "application/julia",
   "name": "julia",
   "version": "0.4.5"
  }
 },
 "nbformat": 4,
 "nbformat_minor": 0
}
