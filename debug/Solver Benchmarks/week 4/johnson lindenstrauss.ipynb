{
 "cells": [
  {
   "cell_type": "code",
   "execution_count": 1,
   "metadata": {
    "collapsed": false
   },
   "outputs": [],
   "source": [
    "using Laplacians\n",
    "using ProfileView"
   ]
  },
  {
   "cell_type": "code",
   "execution_count": 21,
   "metadata": {
    "collapsed": false
   },
   "outputs": [],
   "source": [
    "n = 100000;\n",
    "a = wtedChimera(n, 1);"
   ]
  },
  {
   "cell_type": "code",
   "execution_count": 22,
   "metadata": {
    "collapsed": false
   },
   "outputs": [
    {
     "name": "stdout",
     "output_type": "stream",
     "text": [
      "2580.903470 seconds (13.83 M allocations: 1.272 TB, 6.34% gc time)\n"
     ]
    }
   ],
   "source": [
    "include(\"../../../src/johnlind.jl\")\n",
    "@time reff = johnlind(a, 0.5);"
   ]
  },
  {
   "cell_type": "code",
   "execution_count": 25,
   "metadata": {
    "collapsed": true
   },
   "outputs": [],
   "source": [
    "n = 20000;\n",
    "a = wtedChimera(n, 1);"
   ]
  },
  {
   "cell_type": "code",
   "execution_count": 26,
   "metadata": {
    "collapsed": false
   },
   "outputs": [
    {
     "name": "stdout",
     "output_type": "stream",
     "text": [
      "134.896436 seconds (2.77 M allocations: 75.485 GB, 8.05% gc time)\n"
     ]
    }
   ],
   "source": [
    "@time reff = johnlind(a, 0.5);"
   ]
  },
  {
   "cell_type": "code",
   "execution_count": 18,
   "metadata": {
    "collapsed": false,
    "scrolled": true
   },
   "outputs": [],
   "source": [
    "# Profile.clear()\n",
    "# @profile reff = johnlind(a, 0.5);\n",
    "# ProfileView.view()"
   ]
  },
  {
   "cell_type": "code",
   "execution_count": null,
   "metadata": {
    "collapsed": true
   },
   "outputs": [],
   "source": []
  },
  {
   "cell_type": "code",
   "execution_count": 23,
   "metadata": {
    "collapsed": false
   },
   "outputs": [
    {
     "data": {
      "text/plain": [
       "99992.68098732586"
      ]
     },
     "execution_count": 23,
     "metadata": {},
     "output_type": "execute_result"
    }
   ],
   "source": [
    "levScore = copy(a);\n",
    "for i in 1:length(a.nzval)\n",
    "    levScore.nzval[i] = a.nzval[i] * reff.nzval[i]\n",
    "end\n",
    "sum(levScore.nzval) / 2"
   ]
  },
  {
   "cell_type": "code",
   "execution_count": 17,
   "metadata": {
    "collapsed": false
   },
   "outputs": [
    {
     "name": "stdout",
     "output_type": "stream",
     "text": [
      "149.522583 seconds (9.53 M allocations: 121.897 GB, 7.72% gc time)\n",
      "1.8281275763348757\n"
     ]
    }
   ],
   "source": [
    "include(\"../../../src/johnlind.jl\")\n",
    "reffMin = copy(a);\n",
    "reffMin.nzval = ones(length(a.nzval)) * 2 * n\n",
    "reffMax = copy(a);\n",
    "reffMax.nzval = zeros(length(a.nzval))\n",
    "\n",
    "@time for test in 1:10\n",
    "    reff = johnlind(a, 0.5)\n",
    "    for i in 1:length(reff.nzval)\n",
    "        reffMin.nzval[i] = min(reffMin.nzval[i], reff.nzval[i])\n",
    "        reffMax.nzval[i] = max(reffMax.nzval[i], reff.nzval[i])\n",
    "    end\n",
    "end\n",
    "\n",
    "ratioMax = 0\n",
    "for i in 1:length(reff.nzval)\n",
    "    ratioMax = max(ratioMax, reffMax.nzval[i] / reffMin.nzval[i])\n",
    "end\n",
    "println(ratioMax)"
   ]
  },
  {
   "cell_type": "code",
   "execution_count": null,
   "metadata": {
    "collapsed": true
   },
   "outputs": [],
   "source": []
  },
  {
   "cell_type": "code",
   "execution_count": null,
   "metadata": {
    "collapsed": true
   },
   "outputs": [],
   "source": []
  },
  {
   "cell_type": "code",
   "execution_count": 10,
   "metadata": {
    "collapsed": false
   },
   "outputs": [
    {
     "data": {
      "text/plain": [
       "1-element Array{Float64,1}:\n",
       " 99.0"
      ]
     },
     "execution_count": 10,
     "metadata": {},
     "output_type": "execute_result"
    }
   ],
   "source": [
    "inv = pinv(full(lap(a)));\n",
    "totLevScore = 0\n",
    "pos = 1\n",
    "for i in 1:length(a.nzval)\n",
    "    while a.colptr[pos + 1] <= i\n",
    "        pos = pos + 1\n",
    "    end\n",
    "\n",
    "    p = a.rowval[i]\n",
    "    q = pos\n",
    "    w = a.nzval[i]\n",
    "    \n",
    "    if p > q\n",
    "        edge = zeros(a.n)\n",
    "        edge[p] = 1\n",
    "        edge[q] = -1\n",
    "        totLevScore += w * edge' * inv * edge\n",
    "    end\n",
    "end\n",
    "totLevScore"
   ]
  },
  {
   "cell_type": "code",
   "execution_count": null,
   "metadata": {
    "collapsed": true
   },
   "outputs": [],
   "source": []
  },
  {
   "cell_type": "code",
   "execution_count": null,
   "metadata": {
    "collapsed": true
   },
   "outputs": [],
   "source": []
  }
 ],
 "metadata": {
  "kernelspec": {
   "display_name": "Julia 0.4.5",
   "language": "julia",
   "name": "julia-0.4"
  },
  "language_info": {
   "file_extension": ".jl",
   "mimetype": "application/julia",
   "name": "julia",
   "version": "0.4.5"
  }
 },
 "nbformat": 4,
 "nbformat_minor": 0
}
