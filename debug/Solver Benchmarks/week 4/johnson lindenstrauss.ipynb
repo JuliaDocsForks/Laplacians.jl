{
 "cells": [
  {
   "cell_type": "code",
   "execution_count": 215,
   "metadata": {
    "collapsed": true
   },
   "outputs": [],
   "source": [
    "using Laplacians"
   ]
  },
  {
   "cell_type": "code",
   "execution_count": 222,
   "metadata": {
    "collapsed": false
   },
   "outputs": [],
   "source": [
    "n = 20;\n",
    "a = wtedChimera(n, 1);"
   ]
  },
  {
   "cell_type": "code",
   "execution_count": 229,
   "metadata": {
    "collapsed": false
   },
   "outputs": [
    {
     "name": "stdout",
     "output_type": "stream",
     "text": [
      "dhat = 2477\n",
      "the diff is: 8.881784197001252e-16\n",
      "elapsed time: 3.2064e-5 seconds\n",
      "Tree build time: (20,62)\n",
      "  0.095280 seconds (77.10 k allocations: 5.244 MB, 11.39% gc time)\n"
     ]
    }
   ],
   "source": [
    "include(\"../../../src/johnlind.jl\")\n",
    "@time reff = johnlind(a, 0.2);"
   ]
  },
  {
   "cell_type": "code",
   "execution_count": 230,
   "metadata": {
    "collapsed": false
   },
   "outputs": [
    {
     "data": {
      "text/plain": [
       "20x20 Array{Float64,2}:\n",
       " 0.0       0.0       0.0       0.0       …  0.0        0.0       0.0     \n",
       " 0.0       0.0       0.0       0.0          0.0        0.0       0.0     \n",
       " 0.0       0.0       0.0       0.0          0.0        0.0       0.626991\n",
       " 0.0       0.0       0.0       0.0          0.0        0.0       0.0     \n",
       " 0.0       0.0       0.0       0.486284     0.0        0.0       0.0     \n",
       " 0.0       0.590637  0.0       0.0       …  0.0        0.0       0.225693\n",
       " 0.890605  0.0       0.526848  0.544508     0.0        0.0       0.0     \n",
       " 0.0       0.0       0.0       0.0          0.0538513  0.0       0.0     \n",
       " 0.0       0.0       0.0       0.0          0.0        0.0       0.0     \n",
       " 0.0       0.40093   0.0       0.0          0.0        0.0       0.358056\n",
       " 0.0       0.0       0.0       0.0       …  0.810964   0.541772  0.0     \n",
       " 0.986858  0.0       0.0       0.265359     0.0        0.0       0.0     \n",
       " 0.0       0.0       0.709667  0.0          0.275252   0.685829  0.0     \n",
       " 0.0       0.0       0.0       0.0          0.0        0.0       0.276125\n",
       " 0.0       0.0       0.0       0.0          0.0        0.0       0.0     \n",
       " 0.0       0.716139  0.0       0.0       …  0.0        0.0       0.0     \n",
       " 0.957487  0.0       0.579319  0.0          0.0        0.914251  0.0     \n",
       " 0.0       0.0       0.0       0.0          0.0        0.0       0.0     \n",
       " 0.0       0.0       0.0       0.0          0.0        0.0       0.0     \n",
       " 0.0       0.0       0.626991  0.0          0.0        0.0       0.0     "
      ]
     },
     "execution_count": 230,
     "metadata": {},
     "output_type": "execute_result"
    }
   ],
   "source": [
    "full(reff)"
   ]
  },
  {
   "cell_type": "code",
   "execution_count": 231,
   "metadata": {
    "collapsed": false
   },
   "outputs": [
    {
     "data": {
      "text/plain": [
       "18.999999999992106"
      ]
     },
     "execution_count": 231,
     "metadata": {},
     "output_type": "execute_result"
    }
   ],
   "source": [
    "levScore = copy(a);\n",
    "for i in 1:length(a.nzval)\n",
    "    levScore.nzval[i] = a.nzval[i] * reff.nzval[i]\n",
    "end\n",
    "sum(levScore.nzval) / 2"
   ]
  },
  {
   "cell_type": "code",
   "execution_count": 232,
   "metadata": {
    "collapsed": false
   },
   "outputs": [
    {
     "name": "stdout",
     "output_type": "stream",
     "text": [
      "7 1 -> [0.8906047685920313]\n",
      "12 1 -> [0.9868575973840644]\n",
      "17 1 -> [0.9574872860240742]\n",
      "6 2 -> [0.5906368228719505]\n",
      "10 2 -> [0.40092975428882316]\n",
      "16 2 -> [0.7161392930129218]\n",
      "7 3 -> [0.5268476290902109]\n",
      "13 3 -> [0.7096672868381041]\n",
      "17 3 -> [0.5793190203084784]\n",
      "20 3 -> [0.6269914311100404]\n",
      "5 4 -> [0.48628383169109807]\n",
      "7 4 -> [0.5445077685289976]\n",
      "12 4 -> [0.2653588510032765]\n",
      "14 5 -> [0.5296332389460829]\n",
      "15 5 -> [0.14675658063538632]\n",
      "9 6 -> [0.45008795867224793]\n",
      "20 6 -> [0.22569309882853594]\n",
      "14 7 -> [0.6755671326131885]\n",
      "10 8 -> [0.34426886794772715]\n",
      "16 8 -> [0.8610470456276673]\n",
      "18 8 -> [0.053851306036720836]\n",
      "14 9 -> [0.3089243898107056]\n",
      "15 9 -> [0.5025922373093137]\n",
      "13 10 -> [0.40871786269727306]\n",
      "20 10 -> [0.35805630318606935]\n",
      "18 11 -> [0.8109636504125346]\n",
      "19 11 -> [0.5417724304229694]\n",
      "18 13 -> [0.2752516700455072]\n",
      "19 13 -> [0.6858289493826616]\n",
      "20 14 -> [0.27612486425080557]\n",
      "19 17 -> [0.9142514202913337]\n"
     ]
    },
    {
     "data": {
      "text/plain": [
       "1-element Array{Float64,1}:\n",
       " 19.0"
      ]
     },
     "execution_count": 232,
     "metadata": {},
     "output_type": "execute_result"
    }
   ],
   "source": [
    "inv = pinv(full(lap(a)));\n",
    "totLevScore = 0\n",
    "pos = 1\n",
    "for i in 1:length(a.nzval)\n",
    "    while a.colptr[pos + 1] <= i\n",
    "        pos = pos + 1\n",
    "    end\n",
    "\n",
    "    p = a.rowval[i]\n",
    "    q = pos\n",
    "    w = a.nzval[i]\n",
    "    \n",
    "    if p > q\n",
    "        edge = zeros(a.n)\n",
    "        edge[p] = 1\n",
    "        edge[q] = -1\n",
    "        totLevScore += w * edge' * inv * edge\n",
    "        \n",
    "        println(p, \" \", q, \" -> \", edge' * inv * edge)\n",
    "    end\n",
    "end\n",
    "totLevScore"
   ]
  },
  {
   "cell_type": "code",
   "execution_count": null,
   "metadata": {
    "collapsed": true
   },
   "outputs": [],
   "source": []
  },
  {
   "cell_type": "code",
   "execution_count": null,
   "metadata": {
    "collapsed": true
   },
   "outputs": [],
   "source": []
  }
 ],
 "metadata": {
  "kernelspec": {
   "display_name": "Julia 0.4.5",
   "language": "julia",
   "name": "julia-0.4"
  },
  "language_info": {
   "file_extension": ".jl",
   "mimetype": "application/julia",
   "name": "julia",
   "version": "0.4.5"
  }
 },
 "nbformat": 4,
 "nbformat_minor": 0
}
