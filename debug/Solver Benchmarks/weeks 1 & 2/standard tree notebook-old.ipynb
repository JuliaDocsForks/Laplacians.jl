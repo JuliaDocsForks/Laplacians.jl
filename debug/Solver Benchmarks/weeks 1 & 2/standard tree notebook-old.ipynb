{
 "cells": [
  {
   "cell_type": "code",
   "execution_count": 1,
   "metadata": {
    "collapsed": false
   },
   "outputs": [],
   "source": [
    "using Laplacians\n",
    "using ProfileView"
   ]
  },
  {
   "cell_type": "code",
   "execution_count": 2,
   "metadata": {
    "collapsed": false
   },
   "outputs": [
    {
     "data": {
      "text/plain": [
       "constructLowerTriangularMat (generic function with 1 method)"
      ]
     },
     "execution_count": 2,
     "metadata": {},
     "output_type": "execute_result"
    }
   ],
   "source": [
    "include(\"../../src/samplingTreeSolver.jl\")"
   ]
  },
  {
   "cell_type": "code",
   "execution_count": 3,
   "metadata": {
    "collapsed": false
   },
   "outputs": [],
   "source": [
    "n = 100000;\n",
    "a = chimera(n, 1);\n",
    "b = rand(n); b = b - mean(b);"
   ]
  },
  {
   "cell_type": "code",
   "execution_count": 4,
   "metadata": {
    "collapsed": false
   },
   "outputs": [
    {
     "ename": "LoadError",
     "evalue": "LoadError: InterruptException:\nwhile loading In[4], in expression starting on line 1",
     "output_type": "error",
     "traceback": [
      "LoadError: InterruptException:\nwhile loading In[4], in expression starting on line 1",
      "",
      " in sample at /Users/serbanstan/git/Laplacians.jl/src/sampler.jl:56",
      " in pop! at /Users/serbanstan/git/Laplacians.jl/src/sampler.jl:91",
      " in randishKruskal at /Users/serbanstan/git/Laplacians.jl/src/randTrees.jl:21",
      " in buildSolver at /Users/serbanstan/git/Laplacians.jl/src/samplingTreeSolver.jl:40",
      " in samplingSolver at /Users/serbanstan/git/Laplacians.jl/src/samplingTreeSolver.jl:13"
     ]
    }
   ],
   "source": [
    "samplingSolver(a, eps = 0.5, sampConst = 0.005, k = 5.0, beta = 5.0);"
   ]
  },
  {
   "cell_type": "code",
   "execution_count": null,
   "metadata": {
    "collapsed": true
   },
   "outputs": [],
   "source": []
  },
  {
   "cell_type": "code",
   "execution_count": 5,
   "metadata": {
    "collapsed": false
   },
   "outputs": [
    {
     "name": "stdout",
     "output_type": "stream",
     "text": [
      "Time to build the tree and compute the stretch: elapsed time: 1.075132383 seconds\n",
      " 22.358363 seconds (15.72 M allocations: 7.297 GB, 43.99% gc time)\n"
     ]
    }
   ],
   "source": [
    "@time f = samplingSolver(a, eps = 0.5, sampConst = 0.005, k = 5.0, beta = 5.0);"
   ]
  },
  {
   "cell_type": "code",
   "execution_count": 6,
   "metadata": {
    "collapsed": false
   },
   "outputs": [
    {
     "name": "stdout",
     "output_type": "stream",
     "text": [
      "PCG stopped after: 21 iterations with relative error 6.044060156738863e-7.\n",
      "  3.227875 seconds (5.18 M allocations: 234.225 MB, 5.82% gc time)\n"
     ]
    },
    {
     "data": {
      "text/plain": [
       "5.5177195438715074e-5"
      ]
     },
     "execution_count": 6,
     "metadata": {},
     "output_type": "execute_result"
    }
   ],
   "source": [
    "@time norm(lap(a) * f(b) - b)"
   ]
  },
  {
   "cell_type": "code",
   "execution_count": null,
   "metadata": {
    "collapsed": true
   },
   "outputs": [],
   "source": []
  },
  {
   "cell_type": "code",
   "execution_count": 6,
   "metadata": {
    "collapsed": false
   },
   "outputs": [
    {
     "name": "stdout",
     "output_type": "stream",
     "text": [
      "Time to build the tree and compute the stretch: elapsed time: 1.10594937 seconds\n",
      "  7.386419 seconds (6.83 M allocations: 3.714 GB, 28.64% gc time)\n"
     ]
    }
   ],
   "source": [
    "@time _,gOp,_,_,_ = buildSolver(a, eps = 0.5, sampConst = 0.001, k = 30.0, beta = 15.0);"
   ]
  },
  {
   "cell_type": "code",
   "execution_count": 8,
   "metadata": {
    "collapsed": false
   },
   "outputs": [
    {
     "name": "stdout",
     "output_type": "stream",
     "text": [
      " 11.269240 seconds (58.35 M allocations: 1.321 GB, 6.86% gc time)\n"
     ]
    },
    {
     "data": {
      "text/plain": [
       "0.9458546772197076"
      ]
     },
     "execution_count": 8,
     "metadata": {},
     "output_type": "execute_result"
    }
   ],
   "source": [
    "@time checkError(gOp)"
   ]
  },
  {
   "cell_type": "code",
   "execution_count": 9,
   "metadata": {
    "collapsed": false
   },
   "outputs": [
    {
     "name": "stdout",
     "output_type": "stream",
     "text": [
      "PCG stopped after: 21 iterations with relative error 6.044060156738863e-7.\n",
      "  2.142113 seconds (4.20 M allocations: 190.155 MB, 4.66% gc time)\n"
     ]
    },
    {
     "data": {
      "text/plain": [
       "5.5177195438715074e-5"
      ]
     },
     "execution_count": 9,
     "metadata": {},
     "output_type": "execute_result"
    }
   ],
   "source": [
    "@time norm(lap(a) * f(b) - b)"
   ]
  },
  {
   "cell_type": "code",
   "execution_count": null,
   "metadata": {
    "collapsed": true
   },
   "outputs": [],
   "source": []
  }
 ],
 "metadata": {
  "kernelspec": {
   "display_name": "Julia 0.4.5",
   "language": "julia",
   "name": "julia-0.4"
  },
  "language_info": {
   "file_extension": ".jl",
   "mimetype": "application/julia",
   "name": "julia",
   "version": "0.4.5"
  }
 },
 "nbformat": 4,
 "nbformat_minor": 0
}
