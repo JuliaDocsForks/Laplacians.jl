{
 "cells": [
  {
   "cell_type": "code",
   "execution_count": 5,
   "metadata": {
    "collapsed": false
   },
   "outputs": [],
   "source": [
    "using Laplacians"
   ]
  },
  {
   "cell_type": "code",
   "execution_count": 6,
   "metadata": {
    "collapsed": false
   },
   "outputs": [
    {
     "data": {
      "text/plain": [
       "epsequal (generic function with 1 method)"
      ]
     },
     "execution_count": 6,
     "metadata": {},
     "output_type": "execute_result"
    }
   ],
   "source": [
    "include(\"../src/newFastSampler2.jl\")"
   ]
  },
  {
   "cell_type": "markdown",
   "metadata": {},
   "source": [
    "## bounds error"
   ]
  },
  {
   "cell_type": "code",
   "execution_count": null,
   "metadata": {
    "collapsed": false
   },
   "outputs": [],
   "source": [
    "p = reshape(readdlm(\"boundsErr.txt\"),96)"
   ]
  },
  {
   "cell_type": "code",
   "execution_count": null,
   "metadata": {
    "collapsed": false
   },
   "outputs": [],
   "source": [
    "newSampler(p)"
   ]
  },
  {
   "cell_type": "code",
   "execution_count": null,
   "metadata": {
    "collapsed": false
   },
   "outputs": [],
   "source": [
    "Tv = Float64"
   ]
  },
  {
   "cell_type": "code",
   "execution_count": null,
   "metadata": {
    "collapsed": false
   },
   "outputs": [],
   "source": [
    "    n = length(p)\n",
    "\n",
    "    # generate the Sampler\n",
    "    F = Array{Tv}(n)\n",
    "    A = Array{Int64}(n)\n",
    "    V = Array{Int64}(n)\n",
    "    \n",
    "    # generate a normalized p, so that it sums up to n\n",
    "    newp = n * copy(p) / sum(p)\n",
    "\n",
    "    # fill up the arays A and V\n",
    "    pos = 0                        # number of filled or half filled buckets\n",
    "    posFilled = 0                # number of filled buckets\n",
    "\n",
    "    for i in 1:n\n",
    "        if newp[i] < 1 #&& !epsequal(newp[i], 1)\n",
    "            pos = pos + 1\n",
    "            A[pos] = i\n",
    "            F[pos] = newp[i]\n",
    "        end\n",
    "    end\n",
    "\n",
    "    #residualError = 0\n",
    "\n",
    "    for i in 1:n\n",
    "        if newp[i] >= 1 #|| epsequal(newp[i], 1)\n",
    "            val = newp[i]\n",
    "            assert(!(pos == n && i < n))\n",
    "            while val >= 1 #|| epsequal(val, 1)\n",
    "                if posFilled < pos\n",
    "                    # fill up a bucket already containing a small element, and subtract that value from the current element\n",
    "                    posFilled = posFilled + 1\n",
    "                    V[posFilled] = i\n",
    "                    val = val - (1 - F[posFilled])\n",
    "                else\n",
    "                    # if pos == n\n",
    "                    #     writedlm(\"boundsErr.txt\",p)\n",
    "                    # end\n",
    "                    \n",
    "                    # create a bucket with only one large element. note posFilled = pos\n",
    "                    pos = pos + 1\n",
    "                    posFilled = posFilled + 1\n",
    "                    A[pos] = V[pos] = i\n",
    "                    F[pos] = 1\n",
    "                    val = val - 1\n",
    "                end\n",
    "            end\n",
    "\n",
    "            # treat the case in which val becomes smaller than 1. Have to do the pos < n check because of precision errors\n",
    "            if val > 0 && pos < n #&& !epsequal(val, 0) && pos < n\n",
    "                pos = pos + 1\n",
    "                A[pos] = i\n",
    "                F[pos] = val\n",
    "            end\n",
    "\n",
    "            # residualError += val\n",
    "        end\n",
    "    end\n",
    "\n",
    "err = 0\n",
    " while posFilled < n\n",
    "     # if we are in this case, posFilled should be equal to pos - 1\n",
    "     posFilled = posFilled + 1\n",
    "     V[posFilled] = A[posFilled]\n",
    "    err += 1-F[posFilled]\n",
    " end \n",
    "\n",
    "println(\"err = \",err)"
   ]
  },
  {
   "cell_type": "code",
   "execution_count": null,
   "metadata": {
    "collapsed": false
   },
   "outputs": [],
   "source": [
    "(pos,posFilled)"
   ]
  },
  {
   "cell_type": "code",
   "execution_count": 10,
   "metadata": {
    "collapsed": false
   },
   "outputs": [
    {
     "data": {
      "text/plain": [
       "MersenneTwister(Base.dSFMT.DSFMT_state(Int32[748398797,1073523691,-1738140313,1073664641,-1492392947,1073490074,-1625281839,1073254801,1875112882,1073717145  …  943540191,1073626624,1091647724,1073372234,-1273625233,-823628301,835224507,991807863,382,-842150451]),[1.29034,1.69045,1.17545,1.75888,1.62698,1.50235,1.0131,1.68214,1.94385,1.13279  …  1.22344,1.11442,1.5363,1.49708,1.59543,1.29545,1.74436,1.17272,1.46399,1.15197],382,UInt32[0x00000000])"
      ]
     },
     "execution_count": 10,
     "metadata": {},
     "output_type": "execute_result"
    }
   ],
   "source": [
    "srand(0)"
   ]
  },
  {
   "cell_type": "code",
   "execution_count": 29,
   "metadata": {
    "collapsed": false,
    "scrolled": false
   },
   "outputs": [
    {
     "name": "stdout",
     "output_type": "stream",
     "text": [
      " 76.396014 seconds (199.87 k allocations: 59.610 GB, 8.00% gc time)\n"
     ]
    },
    {
     "data": {
      "text/plain": [
       "5.49582601649945e-12"
      ]
     },
     "execution_count": 29,
     "metadata": {},
     "output_type": "execute_result"
    }
   ],
   "source": [
    "m = 0\n",
    "@time for i = 1:10000\n",
    "    p = rand(1:100,100000)\n",
    "    m = max(newSampler(p*1.0),m)\n",
    "end\n",
    "m"
   ]
  },
  {
   "cell_type": "code",
   "execution_count": 20,
   "metadata": {
    "collapsed": false
   },
   "outputs": [
    {
     "data": {
      "text/plain": [
       "1000-element Array{Int64,1}:\n",
       " 72\n",
       " 16\n",
       " 71\n",
       " 45\n",
       " 24\n",
       "  7\n",
       " 26\n",
       " 21\n",
       " 80\n",
       "  7\n",
       " 56\n",
       " 35\n",
       " 57\n",
       "  ⋮\n",
       " 57\n",
       " 38\n",
       "  2\n",
       " 67\n",
       " 30\n",
       " 15\n",
       " 17\n",
       " 71\n",
       " 31\n",
       " 42\n",
       " 20\n",
       " 80"
      ]
     },
     "execution_count": 20,
     "metadata": {},
     "output_type": "execute_result"
    }
   ],
   "source": [
    "rand(1:80,1000)"
   ]
  },
  {
   "cell_type": "code",
   "execution_count": null,
   "metadata": {
    "collapsed": true
   },
   "outputs": [],
   "source": []
  }
 ],
 "metadata": {
  "kernelspec": {
   "display_name": "Julia 0.4.5",
   "language": "julia",
   "name": "julia-0.4"
  },
  "language_info": {
   "file_extension": ".jl",
   "mimetype": "application/julia",
   "name": "julia",
   "version": "0.4.5"
  }
 },
 "nbformat": 4,
 "nbformat_minor": 0
}
