{
 "cells": [
  {
   "cell_type": "code",
   "execution_count": 1,
   "metadata": {
    "collapsed": false
   },
   "outputs": [
    {
     "name": "stderr",
     "output_type": "stream",
     "text": [
      "objc[66285]: Class TKApplication is implemented in both /Users/serbanstan/anaconda/lib/libtk8.5.dylib and /System/Library/Frameworks/Tk.framework/Versions/8.5/Tk. One of the two will be used. Which one is undefined.\n",
      "objc[66285]: Class TKMenu is implemented in both /Users/serbanstan/anaconda/lib/libtk8.5.dylib and /System/Library/Frameworks/Tk.framework/Versions/8.5/Tk. One of the two will be used. Which one is undefined.\n",
      "objc[66285]: Class TKContentView is implemented in both /Users/serbanstan/anaconda/lib/libtk8.5.dylib and /System/Library/Frameworks/Tk.framework/Versions/8.5/Tk. One of the two will be used. Which one is undefined.\n",
      "objc[66285]: Class TKWindow is implemented in both /Users/serbanstan/anaconda/lib/libtk8.5.dylib and /System/Library/Frameworks/Tk.framework/Versions/8.5/Tk. One of the two will be used. Which one is undefined.\n"
     ]
    }
   ],
   "source": [
    "using Laplacians"
   ]
  },
  {
   "cell_type": "code",
   "execution_count": 2,
   "metadata": {
    "collapsed": false
   },
   "outputs": [],
   "source": [
    "n = 10000;\n",
    "a = wtedChimera(n,15); la = lap(a);\n",
    "b = rand(n); b = b - mean(b);"
   ]
  },
  {
   "cell_type": "markdown",
   "metadata": {},
   "source": [
    "### Sampling Solver"
   ]
  },
  {
   "cell_type": "code",
   "execution_count": 3,
   "metadata": {
    "collapsed": false
   },
   "outputs": [
    {
     "ename": "LoadError",
     "evalue": "LoadError: UndefVarError: symPermuteCSC not defined\nwhile loading In[3], in expression starting on line 155",
     "output_type": "error",
     "traceback": [
      "LoadError: UndefVarError: symPermuteCSC not defined\nwhile loading In[3], in expression starting on line 155",
      "",
      " in buildSolver at /Users/serbanstan/git/Laplacians.jl/src/samplingSolver.jl:128",
      " in samplingSolver at /Users/serbanstan/git/Laplacians.jl/src/samplingSolver.jl:48",
      " in samplingSolver at /Users/serbanstan/git/Laplacians.jl/src/samplingSolver.jl:33"
     ]
    }
   ],
   "source": [
    "@time f = samplingSolver(a, tol=1e-3, \n",
    "params=samplingParams(0.5,0.02,1e3,1000,20,false,false,false,1e-3));\n",
    "@time x = f(b);\n",
    "norm(la * x - b) / norm(b)"
   ]
  },
  {
   "cell_type": "markdown",
   "metadata": {},
   "source": [
    "### KMP Solver"
   ]
  },
  {
   "cell_type": "code",
   "execution_count": 4,
   "metadata": {
    "collapsed": false
   },
   "outputs": [
    {
     "ename": "LoadError",
     "evalue": "LoadError: UndefVarError: symPermuteCSC not defined\nwhile loading In[4], in expression starting on line 155",
     "output_type": "error",
     "traceback": [
      "LoadError: UndefVarError: symPermuteCSC not defined\nwhile loading In[4], in expression starting on line 155",
      "",
      " in KMPLapSolver1 at /Users/serbanstan/git/Laplacians.jl/src/KMPSolver.jl:310",
      " in KMPLapSolver at /Users/serbanstan/git/Laplacians.jl/src/KMPSolver.jl:238"
     ]
    }
   ],
   "source": [
    "@time f = KMPLapSolver(a, tol=1e-3);\n",
    "@time x = f(b);\n",
    "norm(la * x - b) / norm(b)"
   ]
  },
  {
   "cell_type": "markdown",
   "metadata": {},
   "source": [
    "### Hybrid Solver"
   ]
  },
  {
   "cell_type": "code",
   "execution_count": 5,
   "metadata": {
    "collapsed": false
   },
   "outputs": [
    {
     "ename": "LoadError",
     "evalue": "LoadError: UndefVarError: symPermuteCSC not defined\nwhile loading In[5], in expression starting on line 155",
     "output_type": "error",
     "traceback": [
      "LoadError: UndefVarError: symPermuteCSC not defined\nwhile loading In[5], in expression starting on line 155",
      "",
      " in hybridLapSolver1 at /Users/serbanstan/git/Laplacians.jl/src/hybridSolver.jl:290",
      " in hybridLapSolver at /Users/serbanstan/git/Laplacians.jl/src/hybridSolver.jl:233"
     ]
    }
   ],
   "source": [
    "sampParams = samplingParams(0.5,0.2,1.0,1000,20,false,false,false,1e-3)\n",
    "@time f = hybridLapSolver(a, tol=1e-3, params=hybridParams(1/100,6,:akpw,sampParams,));\n",
    "@time x = f(b);\n",
    "norm(la * x - b) / norm(b)"
   ]
  },
  {
   "cell_type": "markdown",
   "metadata": {},
   "source": [
    "### AugTree Solver"
   ]
  },
  {
   "cell_type": "code",
   "execution_count": 6,
   "metadata": {
    "collapsed": false
   },
   "outputs": [
    {
     "name": "stdout",
     "output_type": "stream",
     "text": [
      "  1.107951 seconds (1.19 M allocations: 79.139 MB, 1.89% gc time)\n",
      "  0.479592 seconds (364.80 k allocations: 64.667 MB, 5.72% gc time)\n"
     ]
    },
    {
     "data": {
      "text/plain": [
       "0.0008912565370879846"
      ]
     },
     "execution_count": 6,
     "metadata": {},
     "output_type": "execute_result"
    }
   ],
   "source": [
    "@time f = augTreeSolver(la + speye(n) * 1e-15, tol=1e-3);\n",
    "@time x = f(b);\n",
    "norm(la * x - b) / norm(b)"
   ]
  },
  {
   "cell_type": "markdown",
   "metadata": {},
   "source": [
    "### AMG Solver"
   ]
  },
  {
   "cell_type": "code",
   "execution_count": 7,
   "metadata": {
    "collapsed": false
   },
   "outputs": [
    {
     "name": "stdout",
     "output_type": "stream",
     "text": [
      "  0.720953 seconds (629.94 k allocations: 26.685 MB, 0.80% gc time)\n",
      "  0.925861 seconds (599.20 k allocations: 36.364 MB, 1.78% gc time)\n"
     ]
    },
    {
     "data": {
      "text/plain": [
       "0.0004357235079816229"
      ]
     },
     "execution_count": 7,
     "metadata": {},
     "output_type": "execute_result"
    }
   ],
   "source": [
    "@time f = AMGSolver(la, tol=1e-3);\n",
    "@time x = f(b);\n",
    "norm(la * x - b) / norm(b)"
   ]
  },
  {
   "cell_type": "code",
   "execution_count": null,
   "metadata": {
    "collapsed": true
   },
   "outputs": [],
   "source": []
  }
 ],
 "metadata": {
  "kernelspec": {
   "display_name": "Julia 0.4.6",
   "language": "julia",
   "name": "julia-0.4"
  },
  "language_info": {
   "file_extension": ".jl",
   "mimetype": "application/julia",
   "name": "julia",
   "version": "0.4.6"
  }
 },
 "nbformat": 4,
 "nbformat_minor": 0
}
