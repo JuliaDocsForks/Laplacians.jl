{
 "cells": [
  {
   "cell_type": "markdown",
   "metadata": {
    "collapsed": false
   },
   "source": [
    "Julia has a built-in profiler, but I propose using the ProfileView package. The good thing about this package is that we get a nice visual representation of the time spent in each function. "
   ]
  },
  {
   "cell_type": "code",
   "execution_count": 1,
   "metadata": {
    "collapsed": false
   },
   "outputs": [],
   "source": [
    "using Laplacians"
   ]
  },
  {
   "cell_type": "code",
   "execution_count": 2,
   "metadata": {
    "collapsed": false
   },
   "outputs": [],
   "source": [
    "PROFILEVIEW_USEGTK = true\n",
    "using ProfileView"
   ]
  },
  {
   "cell_type": "code",
   "execution_count": 3,
   "metadata": {
    "collapsed": false
   },
   "outputs": [
    {
     "data": {
      "text/plain": [
       "2-element Array{Int64,1}:\n",
       " 100\n",
       " 200"
      ]
     },
     "execution_count": 3,
     "metadata": {},
     "output_type": "execute_result"
    }
   ],
   "source": [
    "M = [100,200]"
   ]
  },
  {
   "cell_type": "code",
   "execution_count": 32,
   "metadata": {
    "collapsed": false
   },
   "outputs": [
    {
     "name": "stdout",
     "output_type": "stream",
     "text": [
      "  2.503612 seconds (10.00 M allocations: 305.176 MB, 3.56% gc time)\n"
     ]
    }
   ],
   "source": [
    "@time for i = 1:1e7\n",
    "    t = rand(1:M[1])\n",
    "end"
   ]
  },
  {
   "cell_type": "code",
   "execution_count": 33,
   "metadata": {
    "collapsed": false
   },
   "outputs": [
    {
     "name": "stdout",
     "output_type": "stream",
     "text": [
      "  0.843543 seconds\n"
     ]
    }
   ],
   "source": [
    "@time for i = 1:1e7\n",
    "    t = rand(1:100)\n",
    "end"
   ]
  },
  {
   "cell_type": "code",
   "execution_count": 36,
   "metadata": {
    "collapsed": false
   },
   "outputs": [
    {
     "name": "stdout",
     "output_type": "stream",
     "text": [
      "  0.062625 seconds\n"
     ]
    }
   ],
   "source": [
    "@time for i = 1:1e7\n",
    "    t = rand()*ceil(Int64,100)\n",
    "end"
   ]
  },
  {
   "cell_type": "code",
   "execution_count": 35,
   "metadata": {
    "collapsed": false
   },
   "outputs": [
    {
     "data": {
      "text/plain": [
       "2.967971994314457"
      ]
     },
     "execution_count": 35,
     "metadata": {},
     "output_type": "execute_result"
    }
   ],
   "source": [
    "2.503612/0.843543"
   ]
  },
  {
   "cell_type": "code",
   "execution_count": 37,
   "metadata": {
    "collapsed": false
   },
   "outputs": [
    {
     "data": {
      "text/plain": [
       "13.469748502994012"
      ]
     },
     "execution_count": 37,
     "metadata": {},
     "output_type": "execute_result"
    }
   ],
   "source": [
    "0.843543/0.062625"
   ]
  },
  {
   "cell_type": "code",
   "execution_count": 31,
   "metadata": {
    "collapsed": false
   },
   "outputs": [
    {
     "data": {
      "text/plain": [
       "epsequal (generic function with 1 method)"
      ]
     },
     "execution_count": 31,
     "metadata": {},
     "output_type": "execute_result"
    }
   ],
   "source": [
    "include(\"../src/fastSampler.jl\")"
   ]
  },
  {
   "cell_type": "code",
   "execution_count": 32,
   "metadata": {
    "collapsed": false
   },
   "outputs": [
    {
     "data": {
      "text/plain": [
       "1x100 Array{Float64,2}:\n",
       " 1.0  1.0  1.0  1.0  1.0  1.0  1.0  1.0  …  1.0  1.0  1.0  1.0  1.0  1.0  1.0"
      ]
     },
     "execution_count": 32,
     "metadata": {},
     "output_type": "execute_result"
    }
   ],
   "source": [
    "p = ones(100); p'"
   ]
  },
  {
   "cell_type": "code",
   "execution_count": 33,
   "metadata": {
    "collapsed": false
   },
   "outputs": [
    {
     "data": {
      "text/plain": [
       "Sampler{Float64,Int32}([1.0,1.0,1.0,1.0,1.0,1.0,1.0,1.0,1.0,1.0  …  1.0,1.0,1.0,1.0,1.0,1.0,1.0,1.0,1.0,1.0],Int32[1,2,3,4,5,6,7,8,9,10  …  91,92,93,94,95,96,97,98,99,100],Int32[1,2,3,4,5,6,7,8,9,10  …  91,92,93,94,95,96,97,98,99,100],100)"
      ]
     },
     "execution_count": 33,
     "metadata": {},
     "output_type": "execute_result"
    }
   ],
   "source": [
    "Sp = sampler(p)"
   ]
  },
  {
   "cell_type": "code",
   "execution_count": 34,
   "metadata": {
    "collapsed": false
   },
   "outputs": [
    {
     "name": "stdout",
     "output_type": "stream",
     "text": [
      "  2.949322 seconds (30.04 M allocations: 611.924 MB, 3.55% gc time)\n"
     ]
    }
   ],
   "source": [
    "@time for i = 1:1e7\n",
    "    sample(Sp)\n",
    "end"
   ]
  },
  {
   "cell_type": "code",
   "execution_count": 6,
   "metadata": {
    "collapsed": false
   },
   "outputs": [
    {
     "data": {
      "text/plain": [
       "epsequal (generic function with 1 method)"
      ]
     },
     "execution_count": 6,
     "metadata": {},
     "output_type": "execute_result"
    }
   ],
   "source": [
    "include(\"../src/newFastSampler.jl\")"
   ]
  },
  {
   "cell_type": "code",
   "execution_count": 7,
   "metadata": {
    "collapsed": false
   },
   "outputs": [
    {
     "data": {
      "text/plain": [
       "NewSampler{Float64,Int64}([1.0,1.0,1.0,1.0,1.0,1.0,1.0,1.0,1.0,1.0  …  1.0,1.0,1.0,1.0,1.0,1.0,1.0,1.0,1.0,1.0],[1,2,3,4,5,6,7,8,9,10  …  91,92,93,94,95,96,97,98,99,100],[1,2,3,4,5,6,7,8,9,10  …  91,92,93,94,95,96,97,98,99,100],100)"
      ]
     },
     "execution_count": 7,
     "metadata": {},
     "output_type": "execute_result"
    }
   ],
   "source": [
    "nSp = newSampler(p)"
   ]
  },
  {
   "cell_type": "code",
   "execution_count": 10,
   "metadata": {
    "collapsed": false
   },
   "outputs": [
    {
     "name": "stdout",
     "output_type": "stream",
     "text": [
      "  0.661902 seconds\n"
     ]
    }
   ],
   "source": [
    "@time for i = 1:1e7\n",
    "    newSample(nSp)\n",
    "end"
   ]
  },
  {
   "cell_type": "code",
   "execution_count": 11,
   "metadata": {
    "collapsed": false
   },
   "outputs": [
    {
     "data": {
      "text/plain": [
       "4.332302969321742"
      ]
     },
     "execution_count": 11,
     "metadata": {},
     "output_type": "execute_result"
    }
   ],
   "source": [
    "2.86756/0.661902"
   ]
  },
  {
   "cell_type": "markdown",
   "metadata": {},
   "source": [
    "This is the speed-up from making sure n is typed!"
   ]
  },
  {
   "cell_type": "code",
   "execution_count": 3,
   "metadata": {
    "collapsed": false
   },
   "outputs": [
    {
     "data": {
      "text/plain": [
       "NewSampler{Float64,Int64}([1.0,1.0,1.0,1.0,1.0,1.0,1.0,1.0,1.0,1.0  …  1.0,1.0,1.0,1.0,1.0,1.0,1.0,1.0,1.0,1.0],[1,2,3,4,5,6,7,8,9,10  …  91,92,93,94,95,96,97,98,99,100],[1,2,3,4,5,6,7,8,9,10  …  91,92,93,94,95,96,97,98,99,100],100)"
      ]
     },
     "execution_count": 3,
     "metadata": {},
     "output_type": "execute_result"
    }
   ],
   "source": [
    "nSp = newSampler(p)"
   ]
  },
  {
   "cell_type": "code",
   "execution_count": 6,
   "metadata": {
    "collapsed": false
   },
   "outputs": [
    {
     "name": "stdout",
     "output_type": "stream",
     "text": [
      "  0.352735 seconds\n"
     ]
    }
   ],
   "source": [
    "@time for i = 1:1e7\n",
    "    newSample(nSp)\n",
    "end"
   ]
  },
  {
   "cell_type": "code",
   "execution_count": 7,
   "metadata": {
    "collapsed": false
   },
   "outputs": [
    {
     "data": {
      "text/plain": [
       "1.876485180092704"
      ]
     },
     "execution_count": 7,
     "metadata": {},
     "output_type": "execute_result"
    }
   ],
   "source": [
    "0.661902/0.352735"
   ]
  },
  {
   "cell_type": "markdown",
   "metadata": {},
   "source": [
    "Speed-up from switching to ceil(Ti,rand()*n)"
   ]
  },
  {
   "cell_type": "markdown",
   "metadata": {},
   "source": [
    "Total speed-up from type and ceil"
   ]
  },
  {
   "cell_type": "code",
   "execution_count": 8,
   "metadata": {
    "collapsed": false
   },
   "outputs": [
    {
     "data": {
      "text/plain": [
       "8.129502317603867"
      ]
     },
     "execution_count": 8,
     "metadata": {},
     "output_type": "execute_result"
    }
   ],
   "source": [
    "2.86756/0.352735"
   ]
  },
  {
   "cell_type": "markdown",
   "metadata": {},
   "source": [
    "Time compared to single sample w/o look-ups:"
   ]
  },
  {
   "cell_type": "code",
   "execution_count": 11,
   "metadata": {
    "collapsed": false
   },
   "outputs": [
    {
     "data": {
      "text/plain": [
       "5.63249500998004"
      ]
     },
     "execution_count": 11,
     "metadata": {},
     "output_type": "execute_result"
    }
   ],
   "source": [
    "0.352735/0.062625"
   ]
  },
  {
   "cell_type": "code",
   "execution_count": 13,
   "metadata": {
    "collapsed": false
   },
   "outputs": [
    {
     "data": {
      "text/plain": [
       "NewSampler{Float64,Int64}([1.0,1.0,1.0,1.0,1.0,1.0,1.0,1.0,1.0,1.0  …  1.0,1.0,1.0,1.0,1.0,1.0,1.0,1.0,1.0,1.0],[1,2,3,4,5,6,7,8,9,10  …  91,92,93,94,95,96,97,98,99,100],[1,2,3,4,5,6,7,8,9,10  …  91,92,93,94,95,96,97,98,99,100],100)"
      ]
     },
     "execution_count": 13,
     "metadata": {},
     "output_type": "execute_result"
    }
   ],
   "source": [
    "nSp = newSampler(p)"
   ]
  },
  {
   "cell_type": "code",
   "execution_count": 28,
   "metadata": {
    "collapsed": false
   },
   "outputs": [
    {
     "name": "stdout",
     "output_type": "stream",
     "text": [
      "  0.159039 seconds (7 allocations: 76.294 MB, 4.81% gc time)\n"
     ]
    }
   ],
   "source": [
    "@time t = newSampleMany(nSp,round(Int64,1e7));"
   ]
  },
  {
   "cell_type": "markdown",
   "metadata": {},
   "source": [
    "Speed-up from sampling many at once:"
   ]
  },
  {
   "cell_type": "code",
   "execution_count": 22,
   "metadata": {
    "collapsed": false
   },
   "outputs": [
    {
     "data": {
      "text/plain": [
       "2.2233392792985867"
      ]
     },
     "execution_count": 22,
     "metadata": {},
     "output_type": "execute_result"
    }
   ],
   "source": [
    "0.352735/0.158651"
   ]
  },
  {
   "cell_type": "markdown",
   "metadata": {},
   "source": [
    "Total speed up from type, ceil, and many-at-once:"
   ]
  },
  {
   "cell_type": "code",
   "execution_count": 23,
   "metadata": {
    "collapsed": false
   },
   "outputs": [
    {
     "data": {
      "text/plain": [
       "18.07464182387757"
      ]
     },
     "execution_count": 23,
     "metadata": {},
     "output_type": "execute_result"
    }
   ],
   "source": [
    "2.86756/0.158651"
   ]
  },
  {
   "cell_type": "markdown",
   "metadata": {},
   "source": [
    "Time compared to single sample w/o look-ups:"
   ]
  },
  {
   "cell_type": "code",
   "execution_count": 24,
   "metadata": {
    "collapsed": false
   },
   "outputs": [
    {
     "data": {
      "text/plain": [
       "2.5333493013972053"
      ]
     },
     "execution_count": 24,
     "metadata": {},
     "output_type": "execute_result"
    }
   ],
   "source": [
    "0.158651/0.062625"
   ]
  },
  {
   "cell_type": "markdown",
   "metadata": {},
   "source": [
    "Wow, pretty good"
   ]
  },
  {
   "cell_type": "code",
   "execution_count": 1,
   "metadata": {
    "collapsed": false
   },
   "outputs": [
    {
     "data": {
      "text/plain": [
       "17.974"
      ]
     },
     "execution_count": 1,
     "metadata": {},
     "output_type": "execute_result"
    }
   ],
   "source": [
    "4.3*1.9*2.2"
   ]
  },
  {
   "cell_type": "markdown",
   "metadata": {},
   "source": [
    "# Sampling w different distribution"
   ]
  },
  {
   "cell_type": "code",
   "execution_count": 29,
   "metadata": {
    "collapsed": false
   },
   "outputs": [
    {
     "data": {
      "text/plain": [
       "10000000"
      ]
     },
     "execution_count": 29,
     "metadata": {},
     "output_type": "execute_result"
    }
   ],
   "source": [
    "distrSize = round(Int64,1e4)\n",
    "sampCount = round(Int64,1e7)"
   ]
  },
  {
   "cell_type": "markdown",
   "metadata": {},
   "source": [
    "Compare it to the old sampler again"
   ]
  },
  {
   "cell_type": "code",
   "execution_count": 30,
   "metadata": {
    "collapsed": false
   },
   "outputs": [
    {
     "data": {
      "text/plain": [
       "epsequal (generic function with 1 method)"
      ]
     },
     "execution_count": 30,
     "metadata": {},
     "output_type": "execute_result"
    }
   ],
   "source": [
    "include(\"../src/fastSampler.jl\")"
   ]
  },
  {
   "cell_type": "code",
   "execution_count": 31,
   "metadata": {
    "collapsed": false
   },
   "outputs": [
    {
     "data": {
      "text/plain": [
       "1x10000 Array{Float64,2}:\n",
       " 0.942461  0.672257  0.211922  0.18137  …  0.439821  0.0888726  0.394198"
      ]
     },
     "execution_count": 31,
     "metadata": {},
     "output_type": "execute_result"
    }
   ],
   "source": [
    "p = rand(distrSize); p'"
   ]
  },
  {
   "cell_type": "code",
   "execution_count": 32,
   "metadata": {
    "collapsed": false
   },
   "outputs": [
    {
     "data": {
      "text/plain": [
       "NewSampler{Float64,Int64}([0.423718,0.362632,0.908496,0.959493,0.0102091,0.716698,0.139153,0.664286,0.660671,0.555271  …  0.596707,0.744528,0.997771,0.998678,0.879132,0.915059,0.975977,0.867482,0.963732,1.0],[3,4,5,9,10,11,12,14,16,17  …  9973,9975,9979,9981,9983,9985,9986,9989,9995,9996],[1,1,2,2,2,6,6,7,7,7  …  9989,9989,9995,9995,9995,9995,9996,9996,9996,9996],10000)"
      ]
     },
     "execution_count": 32,
     "metadata": {},
     "output_type": "execute_result"
    }
   ],
   "source": [
    "nSp = newSampler(p)"
   ]
  },
  {
   "cell_type": "code",
   "execution_count": 34,
   "metadata": {
    "collapsed": false
   },
   "outputs": [
    {
     "name": "stdout",
     "output_type": "stream",
     "text": [
      "  0.620302 seconds (6 allocations: 76.294 MB, 0.48% gc time)\n"
     ]
    }
   ],
   "source": [
    "@time t = newSampleMany(nSp,sampCount);"
   ]
  },
  {
   "cell_type": "code",
   "execution_count": 35,
   "metadata": {
    "collapsed": false
   },
   "outputs": [
    {
     "data": {
      "text/plain": [
       "Sampler{Float64,Int32}([0.423718,0.362632,0.908496,0.959493,0.0102091,0.716698,0.139153,0.664286,0.660671,0.555271  …  0.596707,0.744528,0.997771,0.998678,0.879132,0.915059,0.975977,0.867482,0.963732,1.0],Int32[3,4,5,9,10,11,12,14,16,17  …  9973,9975,9979,9981,9983,9985,9986,9989,9995,9996],Int32[1,1,2,2,2,6,6,7,7,7  …  9989,9989,9995,9995,9995,9995,9996,9996,9996,9996],10000)"
      ]
     },
     "execution_count": 35,
     "metadata": {},
     "output_type": "execute_result"
    }
   ],
   "source": [
    "sp = sampler(p)"
   ]
  },
  {
   "cell_type": "code",
   "execution_count": 38,
   "metadata": {
    "collapsed": false
   },
   "outputs": [
    {
     "name": "stdout",
     "output_type": "stream",
     "text": [
      " 10.846836 seconds (78.97 M allocations: 1.475 GB, 2.19% gc time)\n"
     ]
    }
   ],
   "source": [
    "@time for i = 1:sampCount\n",
    "    sample(sp)\n",
    "end"
   ]
  },
  {
   "cell_type": "code",
   "execution_count": 27,
   "metadata": {
    "collapsed": false
   },
   "outputs": [
    {
     "data": {
      "text/plain": [
       "21.428571428571427"
      ]
     },
     "execution_count": 27,
     "metadata": {},
     "output_type": "execute_result"
    }
   ],
   "source": [
    "6/0.28"
   ]
  },
  {
   "cell_type": "markdown",
   "metadata": {},
   "source": [
    "# Looking at prelloc of randomness"
   ]
  },
  {
   "cell_type": "code",
   "execution_count": 1,
   "metadata": {
    "collapsed": false
   },
   "outputs": [
    {
     "data": {
      "text/plain": [
       "epsequal (generic function with 1 method)"
      ]
     },
     "execution_count": 1,
     "metadata": {},
     "output_type": "execute_result"
    }
   ],
   "source": [
    "include(\"../src/newFastSampler.jl\")"
   ]
  },
  {
   "cell_type": "code",
   "execution_count": 65,
   "metadata": {
    "collapsed": false
   },
   "outputs": [
    {
     "data": {
      "text/plain": [
       "10000000"
      ]
     },
     "execution_count": 65,
     "metadata": {},
     "output_type": "execute_result"
    }
   ],
   "source": [
    "distrSize = round(Int64,1e4)\n",
    "sampCount = round(Int64,1e7)"
   ]
  },
  {
   "cell_type": "code",
   "execution_count": 68,
   "metadata": {
    "collapsed": false
   },
   "outputs": [
    {
     "name": "stdout",
     "output_type": "stream",
     "text": [
      "  1.967678 seconds (40.00 M allocations: 762.924 MB, 8.29% gc time)\n"
     ]
    }
   ],
   "source": [
    "@time for i=1:sampCount\n",
    "    t = rand()\n",
    "end"
   ]
  },
  {
   "cell_type": "code",
   "execution_count": 69,
   "metadata": {
    "collapsed": false
   },
   "outputs": [
    {
     "name": "stdout",
     "output_type": "stream",
     "text": [
      "  0.042698 seconds (8 allocations: 76.294 MB, 6.43% gc time)\n"
     ]
    }
   ],
   "source": [
    "@time rand(sampCount);"
   ]
  },
  {
   "cell_type": "code",
   "execution_count": 70,
   "metadata": {
    "collapsed": true
   },
   "outputs": [],
   "source": [
    "p = rand(distrSize);"
   ]
  },
  {
   "cell_type": "code",
   "execution_count": 71,
   "metadata": {
    "collapsed": false
   },
   "outputs": [
    {
     "data": {
      "text/plain": [
       "NewSampler{Float64,Int64}([0.409884,0.202567,0.587932,0.74016,0.913545,0.930345,0.344543,0.536824,0.134419,0.616749  …  0.923074,0.785685,0.997634,0.773605,0.781762,0.729834,0.970726,0.951223,0.828569,1.0],[3,4,5,6,10,11,15,19,24,28  …  9977,9978,9981,9982,9984,9985,9992,9994,9995,9998],[1,2,7,7,8,8,8,9,12,13  …  9995,9995,9998,9998,9998,9998,9998,9998,9998,9998],10000)"
      ]
     },
     "execution_count": 71,
     "metadata": {},
     "output_type": "execute_result"
    }
   ],
   "source": [
    "nSp = newSampler(p)"
   ]
  },
  {
   "cell_type": "markdown",
   "metadata": {},
   "source": [
    "let's do prealloc randomness:"
   ]
  },
  {
   "cell_type": "code",
   "execution_count": 75,
   "metadata": {
    "collapsed": false
   },
   "outputs": [
    {
     "name": "stdout",
     "output_type": "stream",
     "text": [
      "  0.264126 seconds (6 allocations: 76.294 MB, 14.76% gc time)\n"
     ]
    }
   ],
   "source": [
    "@time t = newSampleMany(nSp,sampCount);"
   ]
  },
  {
   "cell_type": "code",
   "execution_count": 76,
   "metadata": {
    "collapsed": false
   },
   "outputs": [
    {
     "name": "stdout",
     "output_type": "stream",
     "text": [
      "  0.261617 seconds (12 allocations: 152.588 MB, 8.19% gc time)\n"
     ]
    }
   ],
   "source": [
    "@time t = newSampleManyPrealloc(nSp,sampCount);"
   ]
  },
  {
   "cell_type": "markdown",
   "metadata": {},
   "source": [
    "wow, that's slow: but maybe it's mainly the memory alloc?"
   ]
  },
  {
   "cell_type": "code",
   "execution_count": 89,
   "metadata": {
    "collapsed": false
   },
   "outputs": [
    {
     "data": {
      "text/plain": [
       "10000"
      ]
     },
     "execution_count": 89,
     "metadata": {},
     "output_type": "execute_result"
    }
   ],
   "source": [
    "distrSize = round(Int64,1e4)\n",
    "sampCount = round(Int64,1e4)"
   ]
  },
  {
   "cell_type": "code",
   "execution_count": 90,
   "metadata": {
    "collapsed": false
   },
   "outputs": [
    {
     "name": "stdout",
     "output_type": "stream",
     "text": [
      "  0.000524 seconds (6 allocations: 78.344 KB)\n"
     ]
    }
   ],
   "source": [
    "@time t = newSampleMany(nSp,sampCount);"
   ]
  },
  {
   "cell_type": "code",
   "execution_count": 91,
   "metadata": {
    "collapsed": false
   },
   "outputs": [
    {
     "name": "stdout",
     "output_type": "stream",
     "text": [
      "  0.000544 seconds (12 allocations: 156.594 KB)\n"
     ]
    }
   ],
   "source": [
    "@time t = newSampleManyPrealloc(nSp,sampCount);"
   ]
  },
  {
   "cell_type": "markdown",
   "metadata": {},
   "source": [
    "# Should rand be allocating the array"
   ]
  },
  {
   "cell_type": "code",
   "execution_count": 96,
   "metadata": {
    "collapsed": false
   },
   "outputs": [
    {
     "data": {
      "text/plain": [
       "10000000"
      ]
     },
     "execution_count": 96,
     "metadata": {},
     "output_type": "execute_result"
    }
   ],
   "source": [
    "sampCount = round(Int64,1e7)"
   ]
  },
  {
   "cell_type": "code",
   "execution_count": 97,
   "metadata": {
    "collapsed": false
   },
   "outputs": [
    {
     "name": "stdout",
     "output_type": "stream",
     "text": [
      "  0.270408 seconds (40 allocations: 762.940 MB, 22.10% gc time)\n"
     ]
    }
   ],
   "source": [
    "@time for i = 1:10\n",
    "    t = rand(sampCount);\n",
    "end"
   ]
  },
  {
   "cell_type": "code",
   "execution_count": 98,
   "metadata": {
    "collapsed": false
   },
   "outputs": [
    {
     "name": "stdout",
     "output_type": "stream",
     "text": [
      "  0.270643 seconds (20 allocations: 762.940 MB, 21.38% gc time)\n"
     ]
    }
   ],
   "source": [
    "@time for i = 1:10\n",
    "    t = Array{Float64,1}(sampCount)\n",
    "    rand!(t);\n",
    "end"
   ]
  },
  {
   "cell_type": "markdown",
   "metadata": {},
   "source": [
    "Preallocating this array does very little?"
   ]
  },
  {
   "cell_type": "markdown",
   "metadata": {
    "collapsed": true
   },
   "source": [
    "# Optimization macros?\n",
    "## @inbounds and @simd?"
   ]
  },
  {
   "cell_type": "code",
   "execution_count": 1,
   "metadata": {
    "collapsed": false
   },
   "outputs": [
    {
     "data": {
      "text/plain": [
       "epsequal (generic function with 1 method)"
      ]
     },
     "execution_count": 1,
     "metadata": {},
     "output_type": "execute_result"
    }
   ],
   "source": [
    "include(\"../src/newFastSampler.jl\")"
   ]
  },
  {
   "cell_type": "code",
   "execution_count": 2,
   "metadata": {
    "collapsed": false
   },
   "outputs": [
    {
     "data": {
      "text/plain": [
       "100000000"
      ]
     },
     "execution_count": 2,
     "metadata": {},
     "output_type": "execute_result"
    }
   ],
   "source": [
    "distrSize = round(Int64,1e4)\n",
    "sampCount = round(Int64,1e8)"
   ]
  },
  {
   "cell_type": "code",
   "execution_count": 3,
   "metadata": {
    "collapsed": true
   },
   "outputs": [],
   "source": [
    "p = rand(distrSize);\n",
    "nSp = newSampler(p);"
   ]
  },
  {
   "cell_type": "code",
   "execution_count": 19,
   "metadata": {
    "collapsed": false
   },
   "outputs": [
    {
     "name": "stdout",
     "output_type": "stream",
     "text": [
      "  3.453693 seconds (6 allocations: 762.940 MB, 2.68% gc time)\n"
     ]
    }
   ],
   "source": [
    "@time t = newSampleMany(nSp,sampCount);"
   ]
  },
  {
   "cell_type": "code",
   "execution_count": 20,
   "metadata": {
    "collapsed": false
   },
   "outputs": [
    {
     "name": "stdout",
     "output_type": "stream",
     "text": [
      "  3.253960 seconds (6 allocations: 762.940 MB, 2.22% gc time)\n"
     ]
    }
   ],
   "source": [
    "@time t = newSampleManyInbounds(nSp,sampCount);"
   ]
  },
  {
   "cell_type": "code",
   "execution_count": 21,
   "metadata": {
    "collapsed": false
   },
   "outputs": [
    {
     "name": "stdout",
     "output_type": "stream",
     "text": [
      "  3.176713 seconds (6 allocations: 762.940 MB, 2.58% gc time)\n"
     ]
    }
   ],
   "source": [
    "@time t = newSampleManyInboundsLines(nSp,sampCount);"
   ]
  },
  {
   "cell_type": "code",
   "execution_count": 22,
   "metadata": {
    "collapsed": false
   },
   "outputs": [
    {
     "name": "stdout",
     "output_type": "stream",
     "text": [
      "  3.284361 seconds (6 allocations: 762.940 MB, 2.99% gc time)\n"
     ]
    }
   ],
   "source": [
    "@time t = newSampleManyInboundsSgnFn(nSp,sampCount);"
   ]
  },
  {
   "cell_type": "code",
   "execution_count": 23,
   "metadata": {
    "collapsed": false
   },
   "outputs": [
    {
     "name": "stdout",
     "output_type": "stream",
     "text": [
      "  3.405632 seconds (6 allocations: 762.940 MB, 2.41% gc time)\n"
     ]
    }
   ],
   "source": [
    "@time t = newSampleManyInboundsSgnFnSimd(nSp,sampCount);"
   ]
  },
  {
   "cell_type": "markdown",
   "metadata": {},
   "source": [
    "I don't think the @simd  macro is \"active\" since there is a random array access pattern"
   ]
  },
  {
   "cell_type": "markdown",
   "metadata": {},
   "source": [
    "Rerunning the above, there's quite a lot of variance.\n",
    "It seems perhaps that @inbounds does help a little.\n",
    "Maybe pick newSampleManyInboundsSgnFn?"
   ]
  },
  {
   "cell_type": "code",
   "execution_count": 13,
   "metadata": {
    "collapsed": false
   },
   "outputs": [
    {
     "ename": "LoadError",
     "evalue": "LoadError: MethodError: `isless` has no method matching isless(::Float64, ::Void)\nClosest candidates are:\n  isless(::Float64, !Matched::Float64)\n  isless(::AbstractFloat, !Matched::AbstractFloat)\n  isless(::Real, !Matched::AbstractFloat)\n  ...\nwhile loading In[13], in expression starting on line 155",
     "output_type": "error",
     "traceback": [
      "LoadError: MethodError: `isless` has no method matching isless(::Float64, ::Void)\nClosest candidates are:\n  isless(::Float64, !Matched::Float64)\n  isless(::AbstractFloat, !Matched::AbstractFloat)\n  isless(::Real, !Matched::AbstractFloat)\n  ...\nwhile loading In[13], in expression starting on line 155",
      "",
      " in < at operators.jl:33",
      " in newSampleManyInboundsAllSgnFnSimd at /Users/rjkyng/Box Sync/Research_on_Box/Repos/Laplacians.jl/src/newFastSampler.jl:104"
     ]
    }
   ],
   "source": [
    "@time t = newSampleManyInboundsAllSgnFnSimd(nSp,sampCount);"
   ]
  },
  {
   "cell_type": "code",
   "execution_count": null,
   "metadata": {
    "collapsed": true
   },
   "outputs": [],
   "source": []
  }
 ],
 "metadata": {
  "kernelspec": {
   "display_name": "Julia 0.4.5",
   "language": "julia",
   "name": "julia-0.4"
  },
  "language_info": {
   "file_extension": ".jl",
   "mimetype": "application/julia",
   "name": "julia",
   "version": "0.4.5"
  }
 },
 "nbformat": 4,
 "nbformat_minor": 0
}
