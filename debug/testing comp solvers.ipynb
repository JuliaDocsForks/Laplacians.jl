{
 "cells": [
  {
   "cell_type": "code",
   "execution_count": 1,
   "metadata": {
    "collapsed": false
   },
   "outputs": [
    {
     "data": {
      "text/plain": [
       "\"/Users/serbanstan/git/Laplacians.jl/speedTests\""
      ]
     },
     "execution_count": 1,
     "metadata": {},
     "output_type": "execute_result"
    }
   ],
   "source": [
    "# go to the right dir\n",
    "cd(\"../speedTests/\")\n",
    "pwd()"
   ]
  },
  {
   "cell_type": "code",
   "execution_count": 2,
   "metadata": {
    "collapsed": true
   },
   "outputs": [],
   "source": [
    "using Laplacians"
   ]
  },
  {
   "cell_type": "code",
   "execution_count": 3,
   "metadata": {
    "collapsed": false
   },
   "outputs": [],
   "source": [
    "lapSolvers = [augTreeLapSolver, KMPLapSolver, samplingLapSolver, hybridLapSolver, AMGLapSolver];"
   ]
  },
  {
   "cell_type": "code",
   "execution_count": 4,
   "metadata": {
    "collapsed": false
   },
   "outputs": [],
   "source": [
    "SDDSolvers = [augTreeSolver, KMPSDDSolver, samplingSDDSolver, hybridSDDSolver, AMGSolver];"
   ]
  },
  {
   "cell_type": "code",
   "execution_count": 5,
   "metadata": {
    "collapsed": false
   },
   "outputs": [],
   "source": [
    "n = 10000;\n",
    "a = chimera(n,1);\n",
    "excess = zeros(n); excess[1] = excess[n] = 1e-10;\n",
    "la = lap(a);\n",
    "sdd = la + spdiagm(excess);\n",
    "b = rand(n); b = b - mean(b);"
   ]
  },
  {
   "cell_type": "code",
   "execution_count": 6,
   "metadata": {
    "collapsed": false
   },
   "outputs": [
    {
     "name": "stdout",
     "output_type": "stream",
     "text": [
      "  3.122722 seconds (3.26 M allocations: 167.454 MB, 1.55% gc time)\n",
      "  0.801661 seconds (598.21 k allocations: 67.051 MB, 4.92% gc time)\n",
      "0.0007878140702604707\n",
      "  1.521014 seconds (1.75 M allocations: 98.686 MB, 1.81% gc time)\n",
      "  0.089043 seconds (8.36 k allocations: 71.062 MB, 14.61% gc time)\n",
      "0.000932551459972386\n",
      "  2.170366 seconds (2.50 M allocations: 161.527 MB, 2.51% gc time)\n",
      "  0.186479 seconds (2.08 M allocations: 95.351 MB, 7.31% gc time)\n",
      "0.0013796848899965942\n",
      "  2.174446 seconds (3.02 M allocations: 148.341 MB, 2.47% gc time)\n",
      "  0.163870 seconds (147.98 k allocations: 42.369 MB, 6.43% gc time)\n",
      "0.0009242048201904229\n",
      "  1.027336 seconds (655.94 k allocations: 28.997 MB, 0.57% gc time)\n",
      "  0.913896 seconds (639.62 k allocations: 29.265 MB, 0.71% gc time)\n",
      "0.00022370918789182376\n"
     ]
    }
   ],
   "source": [
    "for F in lapSolvers\n",
    "    @time f = F(a, tol=1e-3, maxits=100, maxtime=10.2);\n",
    "    @time x = f(b);\n",
    "    println(norm(la * x - b) / norm(b))\n",
    "end"
   ]
  },
  {
   "cell_type": "code",
   "execution_count": 7,
   "metadata": {
    "collapsed": false
   },
   "outputs": [
    {
     "name": "stdout",
     "output_type": "stream",
     "text": [
      "  0.367341 seconds (468.65 k allocations: 37.838 MB, 4.61% gc time)\n",
      "  0.036714 seconds (1.63 k allocations: 26.081 MB, 20.03% gc time)\n",
      "0.0009473643448761856\n",
      "  0.736559 seconds (861.57 k allocations: 63.093 MB, 2.33% gc time)\n",
      "  0.255432 seconds (152.09 k allocations: 78.476 MB, 6.34% gc time)\n",
      "0.0009231368300056176\n",
      "  0.250058 seconds (623.47 k allocations: 84.250 MB, 7.57% gc time)\n",
      "  0.112403 seconds (2.01 M allocations: 92.455 MB, 12.51% gc time)\n",
      "0.0009856458907386858\n",
      "  0.116326 seconds (263.60 k allocations: 30.938 MB, 3.02% gc time)\n",
      "  0.079326 seconds (109.94 k allocations: 37.836 MB, 10.21% gc time)\n",
      "0.0009597670325065781\n",
      "  0.064036 seconds (18.93 k allocations: 1.343 MB)\n",
      "  0.070607 seconds (9.04 k allocations: 2.347 MB)\n",
      "0.00022370919025193318\n"
     ]
    }
   ],
   "source": [
    "for F in SDDSolvers\n",
    "    @time f = F(sdd, tol=1e-3, maxits=100, maxtime=10.2);\n",
    "    @time x = f(b);\n",
    "    println(norm(sdd * x - b) / norm(b))\n",
    "end"
   ]
  }
 ],
 "metadata": {
  "kernelspec": {
   "display_name": "Julia 0.4.6",
   "language": "julia",
   "name": "julia-0.4"
  },
  "language_info": {
   "file_extension": ".jl",
   "mimetype": "application/julia",
   "name": "julia",
   "version": "0.4.6"
  }
 },
 "nbformat": 4,
 "nbformat_minor": 0
}
