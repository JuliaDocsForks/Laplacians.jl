{
 "cells": [
  {
   "cell_type": "code",
   "execution_count": 1,
   "metadata": {
    "collapsed": true
   },
   "outputs": [],
   "source": [
    "using Laplacians"
   ]
  },
  {
   "cell_type": "code",
   "execution_count": 2,
   "metadata": {
    "collapsed": false
   },
   "outputs": [
    {
     "data": {
      "text/plain": [
       "appendcsv (generic function with 1 method)"
      ]
     },
     "execution_count": 2,
     "metadata": {},
     "output_type": "execute_result"
    }
   ],
   "source": [
    "include(\"../speedTests/compareSolvers.jl\")"
   ]
  },
  {
   "cell_type": "code",
   "execution_count": 3,
   "metadata": {
    "collapsed": true
   },
   "outputs": [],
   "source": [
    "lapSolvers = [augTreeLapSolver, KMPLapSolver, samplingLapSolver, hybridLapSolver, AMGLapSolver];\n",
    "SDDSolvers = [augTreeSolver, KMPSDDSolver, samplingSDDSolver, hybridSDDSolver, AMGSolver];"
   ]
  },
  {
   "cell_type": "code",
   "execution_count": 4,
   "metadata": {
    "collapsed": false
   },
   "outputs": [
    {
     "name": "stdout",
     "output_type": "stream",
     "text": [
      "........."
     ]
    }
   ],
   "source": [
    "tab = compareSolversOut(100000,lapSolvers,1e-5,0.04);"
   ]
  },
  {
   "cell_type": "code",
   "execution_count": 7,
   "metadata": {
    "collapsed": false
   },
   "outputs": [
    {
     "data": {
      "text/plain": [
       "(\"hybridLapSolverBuild\",\"hybridLapSolverSolveTime\",\"hybridLapSolverRelativeError\")"
      ]
     },
     "execution_count": 7,
     "metadata": {},
     "output_type": "execute_result"
    }
   ],
   "source": [
    "tab[1,13], tab[1,14],tab[1,15]"
   ]
  },
  {
   "cell_type": "code",
   "execution_count": 8,
   "metadata": {
    "collapsed": false
   },
   "outputs": [
    {
     "data": {
      "text/plain": [
       "(1.824511929,0.097498924,0.0008866342158864961)"
      ]
     },
     "execution_count": 8,
     "metadata": {},
     "output_type": "execute_result"
    }
   ],
   "source": [
    "tab[2,13], tab[2,14],tab[2,15]"
   ]
  },
  {
   "cell_type": "code",
   "execution_count": 9,
   "metadata": {
    "collapsed": false
   },
   "outputs": [
    {
     "data": {
      "text/plain": [
       "(1.824511929,0.097498924,0.0008866342158864961)"
      ]
     },
     "execution_count": 9,
     "metadata": {},
     "output_type": "execute_result"
    }
   ],
   "source": [
    "tab[2,13], tab[2,14],tab[2,15]"
   ]
  },
  {
   "cell_type": "code",
   "execution_count": null,
   "metadata": {
    "collapsed": true
   },
   "outputs": [],
   "source": []
  },
  {
   "cell_type": "code",
   "execution_count": null,
   "metadata": {
    "collapsed": true
   },
   "outputs": [],
   "source": []
  },
  {
   "cell_type": "code",
   "execution_count": 3,
   "metadata": {
    "collapsed": false
   },
   "outputs": [],
   "source": [
    "lapSolvers = [augTreeLapSolver, KMPLapSolver, samplingLapSolver, hybridLapSolver, AMGLapSolver];"
   ]
  },
  {
   "cell_type": "code",
   "execution_count": 4,
   "metadata": {
    "collapsed": false
   },
   "outputs": [],
   "source": [
    "SDDSolvers = [augTreeSolver, KMPSDDSolver, samplingSDDSolver, hybridSDDSolver, AMGSolver];"
   ]
  },
  {
   "cell_type": "code",
   "execution_count": 20,
   "metadata": {
    "collapsed": false
   },
   "outputs": [],
   "source": [
    "n = 1000;\n",
    "a = chimera(n,1);\n",
    "excess = zeros(n); excess[1] = excess[n] = 1e-10;\n",
    "la = lap(a);\n",
    "sdd = la + spdiagm(excess);\n",
    "b = rand(n); b = b - mean(b);"
   ]
  },
  {
   "cell_type": "code",
   "execution_count": 21,
   "metadata": {
    "collapsed": false
   },
   "outputs": [
    {
     "name": "stdout",
     "output_type": "stream",
     "text": [
      "  0.013524 seconds (37.82 k allocations: 5.209 MB)\n",
      "  0.016761 seconds (6.79 k allocations: 7.360 MB)\n",
      "0.0009033473100835736\n",
      "  0.014553 seconds (37.88 k allocations: 5.269 MB, 54.63% gc time)\n",
      "  0.008342 seconds (3.85 k allocations: 6.909 MB)\n",
      "0.0009175721947596668\n",
      "  0.010475 seconds (84.00 k allocations: 9.542 MB)\n",
      "  0.017914 seconds (149.40 k allocations: 6.871 MB, 35.64% gc time)\n",
      "0.0008622898345368579\n",
      "  0.004467 seconds (40.87 k allocations: 5.950 MB)\n",
      "  0.072648 seconds (309.47 k allocations: 22.711 MB, 6.34% gc time)\n",
      "0.0009863223372207036\n",
      "  0.027476 seconds (4.20 k allocations: 562.781 KB)\n",
      "  0.071112 seconds (1.38 k allocations: 172.021 KB)\n",
      "0.00040254580213453287\n"
     ]
    }
   ],
   "source": [
    "for solver in lapSolvers\n",
    "    @time f = solver(a, tol=1e-3, maxits=100, maxtime=10.2);\n",
    "    @time x = f(b);\n",
    "    println(norm(la * x - b) / norm(b))\n",
    "end"
   ]
  },
  {
   "cell_type": "code",
   "execution_count": 22,
   "metadata": {
    "collapsed": false
   },
   "outputs": [
    {
     "name": "stdout",
     "output_type": "stream",
     "text": [
      "  0.350229 seconds (384.25 k allocations: 19.445 MB, 2.06% gc time)\n",
      "  0.012490 seconds (2.22 k allocations: 5.059 MB)\n",
      "0.0009351580303521839\n",
      "  0.820640 seconds (752.48 k allocations: 39.941 MB, 1.95% gc time)\n",
      "  0.200578 seconds (151.43 k allocations: 14.515 MB, 3.48% gc time)\n",
      "0.0008393949190635887\n",
      "  0.136276 seconds (203.49 k allocations: 16.786 MB)\n",
      "  0.039640 seconds (149.59 k allocations: 6.917 MB, 21.34% gc time)\n",
      "0.0009718710649837244\n",
      "  0.087423 seconds (162.29 k allocations: 12.552 MB)\n",
      "  0.068860 seconds (248.78 k allocations: 20.461 MB, 9.50% gc time)\n",
      "0.0009243590247078427\n",
      "  0.042341 seconds (18.93 k allocations: 933.531 KB)\n",
      "  0.052137 seconds (1.37 k allocations: 171.559 KB)\n",
      "0.00040254580213451476\n"
     ]
    }
   ],
   "source": [
    "for solver in SDDSolvers\n",
    "    @time f = solver(sdd, tol=1e-3, maxits=100, maxtime=10.2);\n",
    "    @time x = f(b);\n",
    "    println(norm(sdd * x - b) / norm(b))\n",
    "end"
   ]
  },
  {
   "cell_type": "code",
   "execution_count": null,
   "metadata": {
    "collapsed": true
   },
   "outputs": [],
   "source": []
  }
 ],
 "metadata": {
  "anaconda-cloud": {},
  "kernelspec": {
   "display_name": "Julia 0.4.6",
   "language": "julia",
   "name": "julia-0.4"
  },
  "language_info": {
   "file_extension": ".jl",
   "mimetype": "application/julia",
   "name": "julia",
   "version": "0.4.6"
  }
 },
 "nbformat": 4,
 "nbformat_minor": 0
}
