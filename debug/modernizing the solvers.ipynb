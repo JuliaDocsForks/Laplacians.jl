{
 "cells": [
  {
   "cell_type": "code",
   "execution_count": 1,
   "metadata": {
    "collapsed": true
   },
   "outputs": [],
   "source": [
    "using Laplacians"
   ]
  },
  {
   "cell_type": "code",
   "execution_count": 2,
   "metadata": {
    "collapsed": true
   },
   "outputs": [],
   "source": [
    "n = 100;\n",
    "a = chimera(n,1);\n",
    "excess = zeros(n); excess[1] = excess[n] = 1e-10;\n",
    "la = lap(a);\n",
    "sdd = la + spdiagm(excess);\n",
    "b = rand(n); b = b - mean(b);"
   ]
  },
  {
   "cell_type": "code",
   "execution_count": 3,
   "metadata": {
    "collapsed": false
   },
   "outputs": [],
   "source": [
    "augTreeSolver(sdd, tol=1e-3);\n",
    "KMPSDDSolver(sdd, tol=1e-3);\n",
    "hybridSDDSolver(sdd, tol=1e-3);\n",
    "samplingSDDSolver(sdd, tol=1e-3);\n",
    "AMGSolver(sdd, tol=1e-3);"
   ]
  },
  {
   "cell_type": "code",
   "execution_count": 4,
   "metadata": {
    "collapsed": false
   },
   "outputs": [],
   "source": [
    "augTreeLapSolver(a, tol=1e-3);\n",
    "KMPLapSolver(a, tol=1e-3);\n",
    "hybridLapSolver(a, tol=1e-3);\n",
    "samplingLapSolver(a, tol=1e-3);\n",
    "AMGSolver(la, tol=1e-3);"
   ]
  },
  {
   "cell_type": "code",
   "execution_count": null,
   "metadata": {
    "collapsed": true
   },
   "outputs": [],
   "source": []
  }
 ],
 "metadata": {
  "anaconda-cloud": {},
  "kernelspec": {
   "display_name": "Julia 0.4.6",
   "language": "julia",
   "name": "julia-0.4"
  },
  "language_info": {
   "file_extension": ".jl",
   "mimetype": "application/julia",
   "name": "julia",
   "version": "0.4.6"
  }
 },
 "nbformat": 4,
 "nbformat_minor": 0
}
