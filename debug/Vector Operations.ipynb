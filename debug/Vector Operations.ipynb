{
 "cells": [
  {
   "cell_type": "code",
   "execution_count": 1,
   "metadata": {
    "collapsed": false
   },
   "outputs": [
    {
     "data": {
      "text/plain": [
       "100000"
      ]
     },
     "execution_count": 1,
     "metadata": {},
     "output_type": "execute_result"
    }
   ],
   "source": [
    "n = 100\n",
    "t = 100000"
   ]
  },
  {
   "cell_type": "code",
   "execution_count": 5,
   "metadata": {
    "collapsed": false
   },
   "outputs": [
    {
     "name": "stdout",
     "output_type": "stream",
     "text": [
      "  1.767157 seconds (21.10 M allocations: 686.630 MB, 4.65% gc time)\n"
     ]
    }
   ],
   "source": [
    "# adding elements one by one\n",
    "@time for cnt in 1:t\n",
    "    a = []\n",
    "    for i in 1:n\n",
    "        push!(a, rand())\n",
    "    end\n",
    "end"
   ]
  },
  {
   "cell_type": "code",
   "execution_count": 3,
   "metadata": {
    "collapsed": false
   },
   "outputs": [
    {
     "name": "stdout",
     "output_type": "stream",
     "text": [
      "  2.069134 seconds (20.50 M allocations: 552.376 MB, 2.89% gc time)\n"
     ]
    }
   ],
   "source": [
    "# creating an array with junk and setting the elements to their correct values one by one\n",
    "\n",
    "@time for cnt in 1:t\n",
    "    a = Array{Float64,1}(n)\n",
    "    for i in 1:n\n",
    "        a[i] = rand()\n",
    "    end\n",
    "end"
   ]
  },
  {
   "cell_type": "code",
   "execution_count": 4,
   "metadata": {
    "collapsed": false
   },
   "outputs": [
    {
     "name": "stdout",
     "output_type": "stream",
     "text": [
      "  2.852381 seconds (21.20 M allocations: 691.208 MB, 2.80% gc time)\n"
     ]
    }
   ],
   "source": [
    "# doubling an array and appending \n",
    "\n",
    "@time for cnt in 1:t\n",
    "    a = [1.0]\n",
    "    \n",
    "    maxpos = 1\n",
    "    \n",
    "    for i in 1:n\n",
    "        if maxpos < i\n",
    "            maxpos *= 2\n",
    "            append!(a, a)\n",
    "        end\n",
    "        \n",
    "        a[i] = rand()\n",
    "    end\n",
    "    \n",
    "    while length(a) != n\n",
    "        pop!(a)\n",
    "    end\n",
    "    \n",
    "#     println(sum(a))\n",
    "    \n",
    "end"
   ]
  },
  {
   "cell_type": "code",
   "execution_count": null,
   "metadata": {
    "collapsed": true
   },
   "outputs": [],
   "source": []
  }
 ],
 "metadata": {
  "kernelspec": {
   "display_name": "Julia 0.4.5",
   "language": "julia",
   "name": "julia-0.4"
  },
  "language_info": {
   "file_extension": ".jl",
   "mimetype": "application/julia",
   "name": "julia",
   "version": "0.4.5"
  }
 },
 "nbformat": 4,
 "nbformat_minor": 0
}
