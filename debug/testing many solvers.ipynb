{
 "cells": [
  {
   "cell_type": "code",
   "execution_count": 1,
   "metadata": {
    "collapsed": true
   },
   "outputs": [],
   "source": [
    "using Laplacians"
   ]
  },
  {
   "cell_type": "code",
   "execution_count": 2,
   "metadata": {
    "collapsed": false
   },
   "outputs": [],
   "source": [
    "n = 10000;\n",
    "a = chimera(n,1);\n",
    "excess = zeros(n); excess[1] = excess[n] = 1e-3;\n",
    "la = lap(a);\n",
    "sdd = la + spdiagm(excess);\n",
    "b = rand(n); b = b - mean(b);"
   ]
  },
  {
   "cell_type": "code",
   "execution_count": 3,
   "metadata": {
    "collapsed": false
   },
   "outputs": [
    {
     "name": "stdout",
     "output_type": "stream",
     "text": [
      "Laplacians.augTreeLapSolver\n",
      "  2.942864 seconds (3.26 M allocations: 167.552 MB, 1.72% gc time)\n",
      "  0.735254 seconds (601.13 k allocations: 67.228 MB, 5.57% gc time)\n",
      "0.0007878140702604707\n",
      "\n",
      "Laplacians.KMPLapSolver\n",
      "  1.520623 seconds (1.90 M allocations: 104.870 MB, 2.34% gc time)\n",
      "  0.098568 seconds (8.46 k allocations: 71.064 MB, 15.82% gc time)\n",
      "0.000932551459972386\n",
      "\n",
      "Laplacians.hybridLapSolver\n",
      "  4.248260 seconds (4.90 M allocations: 234.113 MB, 2.03% gc time)\n",
      "  0.258838 seconds (185.31 k allocations: 37.230 MB, 4.29% gc time)\n",
      "0.000968781405613113\n",
      "\n",
      "Laplacians.samplingLapSolver\n",
      "  0.126856 seconds (508.30 k allocations: 71.482 MB, 12.36% gc time)\n",
      "  0.092450 seconds (1.55 M allocations: 71.089 MB, 11.24% gc time)\n",
      "0.0009546668535284252\n",
      "\n",
      "Laplacians.AMGLapSolver\n",
      "  0.834180 seconds (663.09 k allocations: 29.247 MB, 1.48% gc time)\n",
      "  0.877668 seconds (641.20 k allocations: 29.312 MB, 0.80% gc time)\n",
      "0.0002237091878803874\n",
      "\n"
     ]
    }
   ],
   "source": [
    "for solver in LapSolvers\n",
    "    println(solver)\n",
    "    @time f = solver(a, tol=1e-3, maxits=100, maxtime=10);\n",
    "    @time x = f(b);\n",
    "    println(norm(la * x - b) / norm(b))\n",
    "    println()\n",
    "end"
   ]
  },
  {
   "cell_type": "code",
   "execution_count": 4,
   "metadata": {
    "collapsed": false
   },
   "outputs": [
    {
     "name": "stdout",
     "output_type": "stream",
     "text": [
      "Laplacians.augTreeSolver\n",
      "  0.473822 seconds (468.67 k allocations: 37.838 MB, 3.80% gc time)\n",
      "  0.040764 seconds (1.72 k allocations: 26.846 MB, 11.24% gc time)\n",
      "0.0008028838582185944\n",
      "\n",
      "Laplacians.KMPSDDSolver\n",
      "  0.994429 seconds (861.24 k allocations: 63.091 MB, 1.91% gc time)\n",
      "  0.313547 seconds (152.06 k allocations: 76.340 MB, 3.63% gc time)\n",
      "0.0009178901164738133\n",
      "\n",
      "Laplacians.hybridSDDSolver\n",
      "  0.196816 seconds (266.80 k allocations: 31.107 MB, 5.63% gc time)\n",
      "  0.120107 seconds (112.02 k allocations: 35.448 MB, 2.54% gc time)\n",
      "0.000841472998628145\n",
      "\n",
      "Laplacians.samplingSDDSolver\n",
      "  0.307911 seconds (631.60 k allocations: 84.742 MB, 9.00% gc time)\n",
      "  0.109873 seconds (1.55 M allocations: 71.380 MB, 14.72% gc time)\n",
      "0.0009280592142500055\n",
      "\n",
      "Laplacians.AMGSolver\n",
      "  0.099329 seconds (20.16 k allocations: 1.381 MB)\n",
      "  0.126748 seconds (9.82 k allocations: 4.508 MB)\n",
      "0.0002142924133659589\n",
      "\n"
     ]
    }
   ],
   "source": [
    "for solver in SDDSolvers\n",
    "    println(solver)\n",
    "    @time f = solver(sdd, tol=1e-3, maxits=100, maxtime=10.2);\n",
    "    @time x = f(b);\n",
    "    println(norm(sdd * x - b) / norm(b))\n",
    "    println()\n",
    "end"
   ]
  },
  {
   "cell_type": "code",
   "execution_count": null,
   "metadata": {
    "collapsed": true
   },
   "outputs": [],
   "source": []
  }
 ],
 "metadata": {
  "anaconda-cloud": {},
  "kernelspec": {
   "display_name": "Julia 0.4.6",
   "language": "julia",
   "name": "julia-0.4"
  },
  "language_info": {
   "file_extension": ".jl",
   "mimetype": "application/julia",
   "name": "julia",
   "version": "0.4.6"
  }
 },
 "nbformat": 4,
 "nbformat_minor": 0
}
