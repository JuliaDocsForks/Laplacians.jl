{
 "cells": [
  {
   "cell_type": "code",
   "execution_count": 1,
   "metadata": {
    "collapsed": true
   },
   "outputs": [],
   "source": [
    "using Laplacians"
   ]
  },
  {
   "cell_type": "code",
   "execution_count": 2,
   "metadata": {
    "collapsed": false
   },
   "outputs": [
    {
     "data": {
      "text/plain": [
       "purge (generic function with 1 method)"
      ]
     },
     "execution_count": 2,
     "metadata": {},
     "output_type": "execute_result"
    }
   ],
   "source": [
    "include(\"../../src/samplingSolver.jl\")"
   ]
  },
  {
   "cell_type": "code",
   "execution_count": 4,
   "metadata": {
    "collapsed": false
   },
   "outputs": [],
   "source": [
    "ns = []\n",
    "sc = []\n",
    "sampConst = 0.02;\n",
    "n = 5;"
   ]
  },
  {
   "cell_type": "code",
   "execution_count": 5,
   "metadata": {
    "collapsed": false
   },
   "outputs": [
    {
     "name": "stdout",
     "output_type": "stream",
     "text": [
      "  0.790440 seconds (612.93 k allocations: 25.184 MB, 1.89% gc time)\n",
      "  0.000065 seconds (308 allocations: 23.734 KB)\n",
      "  0.000063 seconds (315 allocations: 24.469 KB)\n",
      "  0.000074 seconds (294 allocations: 22.141 KB)\n",
      "  0.000062 seconds (299 allocations: 22.813 KB)\n",
      "  0.000059 seconds (309 allocations: 23.313 KB)\n",
      "  0.000058 seconds (308 allocations: 23.313 KB)\n",
      "  0.000052 seconds (305 allocations: 23.203 KB)\n",
      "  0.000113 seconds (300 allocations: 22.813 KB)\n",
      "  0.000113 seconds (325 allocations: 25.938 KB)\n",
      "  0.000084 seconds (311 allocations: 24.469 KB)\n",
      "  0.000088 seconds (317 allocations: 25.078 KB)\n",
      "  0.000042 seconds (317 allocations: 25.141 KB)\n",
      "  0.000077 seconds (327 allocations: 26.625 KB)\n",
      "Done for 10 with sampConst = 0.069045424287862\n",
      "elapsed time: 3.909419307 seconds\n",
      "  0.000112 seconds (670 allocations: 66.375 KB)\n",
      "Done for 20 with sampConst = 0.069045424287862\n",
      "elapsed time: 0.010278697 seconds\n",
      "  0.000157 seconds (1.16 k allocations: 99.203 KB)\n",
      "  0.000322 seconds (1.17 k allocations: 100.781 KB)\n",
      "  0.000194 seconds (1.18 k allocations: 101.375 KB)\n",
      "  0.000190 seconds (1.20 k allocations: 107.938 KB)\n",
      "  0.000197 seconds (1.20 k allocations: 108.359 KB)\n",
      "  0.000264 seconds (1.21 k allocations: 113.563 KB)\n",
      "  0.000166 seconds (1.21 k allocations: 114.766 KB)\n",
      "  0.000174 seconds (1.21 k allocations: 118.203 KB)\n",
      "  0.000284 seconds (1.25 k allocations: 133.203 KB)\n",
      "  0.000344 seconds (1.25 k allocations: 129.469 KB)\n",
      "  0.000377 seconds (1.26 k allocations: 138.688 KB)\n",
      "  0.000264 seconds (1.26 k allocations: 140.063 KB)\n",
      "  0.000213 seconds (1.26 k allocations: 140.828 KB)\n",
      "  0.000153 seconds (1.28 k allocations: 145.141 KB)\n",
      "Done for 40 with sampConst = 0.23836353075454414\n",
      "elapsed time: 0.42306417 seconds\n",
      "  0.001128 seconds (3.45 k allocations: 1.377 MB)\n",
      "Done for 80 with sampConst = 0.23836353075454414\n",
      "elapsed time: 1.525259489 seconds\n",
      "  0.006625 seconds (7.89 k allocations: 6.434 MB)\n",
      "Done for 160 with sampConst = 0.23836353075454414\n",
      "elapsed time: 0.079699089 seconds\n",
      "  0.012145 seconds (14.40 k allocations: 8.461 MB)\n",
      "Done for 320 with sampConst = 0.23836353075454414\n",
      "elapsed time: 0.089890403 seconds\n",
      "  0.028315 seconds (30.54 k allocations: 25.712 MB, 8.57% gc time)\n",
      "Done for 640 with sampConst = 0.23836353075454414\n",
      "elapsed time: 0.209937158 seconds\n",
      "  0.067436 seconds (61.68 k allocations: 60.693 MB, 6.73% gc time)\n",
      "Done for 1280 with sampConst = 0.23836353075454414\n",
      "elapsed time: 0.450609979 seconds\n",
      "  0.541827 seconds (159.09 k allocations: 493.386 MB, 7.27% gc time)\n",
      "Done for 2560 with sampConst = 0.23836353075454414\n",
      "elapsed time: 2.276035188 seconds\n",
      "  1.427063 seconds (323.79 k allocations: 1.113 GB, 7.22% gc time)\n",
      "Done for 5120 with sampConst = 0.23836353075454414\n",
      "elapsed time: 7.50553083 seconds\n",
      " 12.753542 seconds (749.82 k allocations: 4.576 GB, 19.93% gc time)\n",
      "Done for 10240 with sampConst = 0.23836353075454414\n",
      "elapsed time: 38.734767268 seconds\n",
      " 20.638473 seconds (1.36 M allocations: 6.730 GB, 31.01% gc time)\n",
      "Done for 20480 with sampConst = 0.23836353075454414\n",
      "elapsed time: 61.770715005 seconds\n",
      "  1.390469 seconds (1.62 M allocations: 1.068 GB, 11.37% gc time)\n",
      "Done for 40960 with sampConst = 0.23836353075454414\n",
      "elapsed time: 10.322376233 seconds\n"
     ]
    },
    {
     "ename": "LoadError",
     "evalue": "LoadError: InterruptException:\nwhile loading In[5], in expression starting on line 1",
     "output_type": "error",
     "traceback": [
      "LoadError: InterruptException:\nwhile loading In[5], in expression starting on line 1",
      "",
      " in samplingLDL at /Users/serbanstan/git/Laplacians.jl/src/samplingSolver.jl:228",
      " in buildSolver at /Users/serbanstan/git/Laplacians.jl/src/samplingSolver.jl:26",
      " [inlined code] from util.jl:155",
      " in anonymous at no file:0"
     ]
    }
   ],
   "source": [
    "while n < 2000000\n",
    "    \n",
    "    n = n * 2\n",
    "    \n",
    "    tic()\n",
    "    a = chimera(n, 1);\n",
    "    \n",
    "    isGood = false\n",
    "    while !isGood\n",
    "        isGood = true\n",
    "    \n",
    "        @time _,gOp1,_,_ = buildSolver(a, eps = 0.5, sampConst = sampConst)\n",
    "        err1 = checkError(gOp1)\n",
    "        \n",
    "        _,gOp2,_,_ = buildSolver(a, eps = 0.5, sampConst = sampConst)\n",
    "        err2 = checkError(gOp2)\n",
    "        \n",
    "        _,gOp3,_,_ = buildSolver(a, eps = 0.5, sampConst = sampConst)\n",
    "        err3 = checkError(gOp3)\n",
    "        \n",
    "        if err1 < 1 && err2 < 1 && err3 < 1\n",
    "            push!(sc, sampConst)\n",
    "        else\n",
    "            sampConst = sampConst + 1/10 * sampConst\n",
    "            isGood = false\n",
    "        end\n",
    "    end\n",
    "    \n",
    "    \n",
    "    println(\"Done for \", n, \" with sampConst = \", sampConst)\n",
    "    toc()\n",
    "    \n",
    "    gc()\n",
    "    \n",
    "end"
   ]
  },
  {
   "cell_type": "code",
   "execution_count": null,
   "metadata": {
    "collapsed": true
   },
   "outputs": [],
   "source": []
  }
 ],
 "metadata": {
  "kernelspec": {
   "display_name": "Julia 0.4.5",
   "language": "julia",
   "name": "julia-0.4"
  },
  "language_info": {
   "file_extension": ".jl",
   "mimetype": "application/julia",
   "name": "julia",
   "version": "0.4.5"
  }
 },
 "nbformat": 4,
 "nbformat_minor": 0
}
