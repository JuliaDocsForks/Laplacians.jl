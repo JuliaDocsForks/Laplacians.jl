{
 "cells": [
  {
   "cell_type": "code",
   "execution_count": 1,
   "metadata": {
    "collapsed": true
   },
   "outputs": [],
   "source": [
    "using Laplacians"
   ]
  },
  {
   "cell_type": "code",
   "execution_count": 2,
   "metadata": {
    "collapsed": false
   },
   "outputs": [
    {
     "data": {
      "text/plain": [
       "\"/Users/serbanstan/git/Laplacians.jl/debug/Solver Testing\""
      ]
     },
     "execution_count": 2,
     "metadata": {},
     "output_type": "execute_result"
    }
   ],
   "source": [
    "pwd()"
   ]
  },
  {
   "cell_type": "code",
   "execution_count": 3,
   "metadata": {
    "collapsed": false
   },
   "outputs": [],
   "source": [
    "include(\"../../src/primalDualIPM.jl\");"
   ]
  },
  {
   "cell_type": "code",
   "execution_count": 4,
   "metadata": {
    "collapsed": false
   },
   "outputs": [
    {
     "data": {
      "text/plain": [
       "5400"
      ]
     },
     "execution_count": 4,
     "metadata": {},
     "output_type": "execute_result"
    }
   ],
   "source": [
    "a = wGrid3(10, weightGen=rand);\n",
    "nnz(a)"
   ]
  },
  {
   "cell_type": "code",
   "execution_count": 5,
   "metadata": {
    "collapsed": false
   },
   "outputs": [],
   "source": [
    "Bt = -dirEdgeVertexMat(a);\n",
    "Bt = Bt';\n",
    "c1 = rand(size(Bt)[2]);\n",
    "u = 0.25*ones(size(Bt)[2]);\n",
    "b1 = 0.25*Bt*rand(size(Bt)[2]);\n",
    "\n",
    "m = size(Bt)[2]\n",
    "n = size(Bt)[1]\n",
    "A = [Bt spzeros(n,m); speye(m) speye(m)];\n",
    "b = [b1;u];"
   ]
  },
  {
   "cell_type": "code",
   "execution_count": 6,
   "metadata": {
    "collapsed": false
   },
   "outputs": [
    {
     "name": "stdout",
     "output_type": "stream",
     "text": [
      "  6.047872 seconds (5.62 M allocations: 747.100 MB, 3.01% gc time)\n"
     ]
    },
    {
     "data": {
      "text/plain": [
       "(4.3025222792311336e-10,15)"
      ]
     },
     "execution_count": 6,
     "metadata": {},
     "output_type": "execute_result"
    }
   ],
   "source": [
    "mysolver = (H -> lapWrapSolver(augTreeSolver,H,tol=1e-8,maxits=1000))\n",
    "@time (x1,y1,s1,numIter) = minCostFlow(Bt,b1,c1,u; lapSolver=mysolver, tol = 1e-6);\n",
    "norm(A * x1 - b) / norm(b), numIter"
   ]
  },
  {
   "cell_type": "code",
   "execution_count": 7,
   "metadata": {
    "collapsed": false
   },
   "outputs": [
    {
     "name": "stdout",
     "output_type": "stream",
     "text": [
      "  4.528173 seconds (4.93 M allocations: 720.543 MB, 3.28% gc time)\n"
     ]
    },
    {
     "data": {
      "text/plain": [
       "(6.235038217603406e-11,15)"
      ]
     },
     "execution_count": 7,
     "metadata": {},
     "output_type": "execute_result"
    }
   ],
   "source": [
    "mysolver = (H -> lapWrapSolver(KMPSDDSolver,H,tol=1e-8,maxits=1000))\n",
    "@time (x1,y1,s1,numIter) = minCostFlow(Bt,b1,c1,u; lapSolver=mysolver, tol = 1e-6);\n",
    "norm(A * x1 - b) / norm(b), numIter"
   ]
  },
  {
   "cell_type": "code",
   "execution_count": 8,
   "metadata": {
    "collapsed": false
   },
   "outputs": [
    {
     "name": "stdout",
     "output_type": "stream",
     "text": [
      "  2.893933 seconds (6.85 M allocations: 682.483 MB, 4.88% gc time)\n"
     ]
    },
    {
     "data": {
      "text/plain": [
       "(3.766732423911992e-12,15)"
      ]
     },
     "execution_count": 8,
     "metadata": {},
     "output_type": "execute_result"
    }
   ],
   "source": [
    "mysolver = (H -> lapWrapSolver(samplingSDDSolver,H,tol=1e-8,maxits=1000))\n",
    "@time (x1,y1,s1,numIter) = minCostFlow(Bt,b1,c1,u; lapSolver=mysolver, tol = 1e-6);\n",
    "norm(A * x1 - b) / norm(b), numIter"
   ]
  },
  {
   "cell_type": "code",
   "execution_count": 9,
   "metadata": {
    "collapsed": false
   },
   "outputs": [
    {
     "name": "stdout",
     "output_type": "stream",
     "text": [
      " 10.383274 seconds (1.55 M allocations: 376.700 MB, 1.00% gc time)\n"
     ]
    },
    {
     "data": {
      "text/plain": [
       "(4.5103383732681834e-10,15)"
      ]
     },
     "execution_count": 9,
     "metadata": {},
     "output_type": "execute_result"
    }
   ],
   "source": [
    "mysolver = (H -> lapWrapSolver(AMGSolver,H,tol=1e-8,maxits=1000))\n",
    "@time (x1,y1,s1,numIter) = minCostFlow(Bt,b1,c1,u; lapSolver=mysolver, tol = 1e-6);\n",
    "norm(A * x1 - b) / norm(b), numIter"
   ]
  },
  {
   "cell_type": "code",
   "execution_count": null,
   "metadata": {
    "collapsed": true
   },
   "outputs": [],
   "source": []
  }
 ],
 "metadata": {
  "kernelspec": {
   "display_name": "Julia 0.4.6",
   "language": "julia",
   "name": "julia-0.4"
  },
  "language_info": {
   "file_extension": ".jl",
   "mimetype": "application/julia",
   "name": "julia",
   "version": "0.4.6"
  }
 },
 "nbformat": 4,
 "nbformat_minor": 0
}
