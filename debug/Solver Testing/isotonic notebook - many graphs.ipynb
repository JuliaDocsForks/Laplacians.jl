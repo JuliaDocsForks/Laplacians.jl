{
 "cells": [
  {
   "cell_type": "code",
   "execution_count": 1,
   "metadata": {
    "collapsed": true
   },
   "outputs": [],
   "source": [
    "using Laplacians"
   ]
  },
  {
   "cell_type": "code",
   "execution_count": 2,
   "metadata": {
    "collapsed": false
   },
   "outputs": [
    {
     "data": {
      "text/plain": [
       "\"/Users/serbanstan/git/Laplacians.jl/debug/Solver Testing\""
      ]
     },
     "execution_count": 2,
     "metadata": {},
     "output_type": "execute_result"
    }
   ],
   "source": [
    "pwd()"
   ]
  },
  {
   "cell_type": "code",
   "execution_count": 3,
   "metadata": {
    "collapsed": false
   },
   "outputs": [],
   "source": [
    "include(\"../../src/isotonicIPM.jl\");"
   ]
  },
  {
   "cell_type": "code",
   "execution_count": 4,
   "metadata": {
    "collapsed": false
   },
   "outputs": [
    {
     "data": {
      "text/plain": [
       "4-element Array{Function,1}:\n",
       " Laplacians.augTreeSolver    \n",
       " Laplacians.KMPSDDSolver     \n",
       " Laplacians.samplingSDDSolver\n",
       " Laplacians.AMGSolver        "
      ]
     },
     "execution_count": 4,
     "metadata": {},
     "output_type": "execute_result"
    }
   ],
   "source": [
    "solvers = [augTreeSolver, KMPSDDSolver, samplingSDDSolver, AMGSolver]"
   ]
  },
  {
   "cell_type": "code",
   "execution_count": 5,
   "metadata": {
    "collapsed": false
   },
   "outputs": [
    {
     "data": {
      "text/plain": [
       "generateInput (generic function with 1 method)"
      ]
     },
     "execution_count": 5,
     "metadata": {},
     "output_type": "execute_result"
    }
   ],
   "source": [
    "function generateInput(a)\n",
    "    n = a.n\n",
    "    \n",
    "    b = zeros(Float64,n);\n",
    "    b[1] = 1;\n",
    "    b[n] = -1;\n",
    "    f = KMPLapSolver(a, verbose=false, tol=1e-1); # use any other solver\n",
    "    v = f(b)\n",
    "    v = v / (v[1] - v[n])\n",
    "\n",
    "    p = sortperm(v);\n",
    "    ap = symPermuteCSC(a, p);\n",
    "    # vp = v[p]\n",
    "    vp = v[p] + rand(n) / sqrt(n);\n",
    "    at = triu(ap);\n",
    "    \n",
    "    return at,vp\n",
    "end"
   ]
  },
  {
   "cell_type": "code",
   "execution_count": null,
   "metadata": {
    "collapsed": false
   },
   "outputs": [
    {
     "name": "stdout",
     "output_type": "stream",
     "text": [
      " 11.409156 seconds (13.23 M allocations: 2.405 GB, 6.27% gc time)\n",
      "elapsed time: 11.777641191 seconds\n",
      " 10.224259 seconds (15.64 M allocations: 3.537 GB, 7.32% gc time)\n",
      "elapsed time: 10.225922202 seconds\n",
      " 16.752509 seconds (48.92 M allocations: 5.701 GB, 10.33% gc time)\n",
      "elapsed time: 16.753447979 seconds\n",
      " 25.071789 seconds (3.85 M allocations: 865.933 MB, 1.22% gc time)\n",
      "elapsed time: 25.074894218 seconds\n",
      "Done for 1\n",
      "  4.962978 seconds (9.81 M allocations: 1.850 GB, 9.38% gc time)\n",
      "elapsed time: 4.963826911 seconds\n",
      "  6.610295 seconds (12.86 M allocations: 3.052 GB, 9.53% gc time)\n",
      "elapsed time: 6.615754849 seconds\n",
      " 10.988314 seconds (46.05 M allocations: 5.225 GB, 13.49% gc time)\n",
      "elapsed time: 10.992078744 seconds\n",
      " 15.802687 seconds (2.39 M allocations: 618.879 MB, 1.02% gc time)\n",
      "elapsed time: 15.803603989 seconds\n",
      "Done for 2\n",
      "  8.460018 seconds (17.40 M allocations: 3.574 GB, 8.98% gc time)\n",
      "elapsed time: 8.462265384 seconds\n",
      " 11.123969 seconds (20.66 M allocations: 5.204 GB, 11.47% gc time)\n",
      "elapsed time: 11.125163551 seconds\n",
      " 17.325416 seconds (60.42 M allocations: 7.838 GB, 15.90% gc time)\n",
      "elapsed time: 17.330942521 seconds\n",
      " 34.041379 seconds (2.93 M allocations: 1.428 GB, 1.52% gc time)\n",
      "elapsed time: 34.044923978 seconds\n",
      "Done for 3\n",
      " "
     ]
    }
   ],
   "source": [
    "n = 3000\n",
    "\n",
    "curSolver = []\n",
    "time = []\n",
    "edges = []\n",
    "iters = []\n",
    "precision = []\n",
    "\n",
    "for i in 1:100\n",
    "    a = wtedChimera(n,i)\n",
    "    a,v = generateInput(a);\n",
    "    \n",
    "    for solver in solvers\n",
    "        try\n",
    "            mysolver = (H -> solver(H,tol=1e-1,maxits=1000,maxtime=20))\n",
    "            tic()\n",
    "            @time x,acc,itercount = isotonicIPMrelEps(a,v,1e-5,mysolver)\n",
    "\n",
    "            push!(time, toc())\n",
    "            push!(curSolver, solver)\n",
    "            push!(edges, nnz(a))\n",
    "            push!(iters, itercount)\n",
    "            push!(precision, acc)\n",
    "        catch\n",
    "            print(\"Error for \", i, \" and \", solver)\n",
    "        end\n",
    "    end\n",
    "    \n",
    "    println(\"Done for \", i)\n",
    "end"
   ]
  },
  {
   "cell_type": "code",
   "execution_count": null,
   "metadata": {
    "collapsed": true
   },
   "outputs": [],
   "source": []
  }
 ],
 "metadata": {
  "kernelspec": {
   "display_name": "Julia 0.4.6",
   "language": "julia",
   "name": "julia-0.4"
  },
  "language_info": {
   "file_extension": ".jl",
   "mimetype": "application/julia",
   "name": "julia",
   "version": "0.4.6"
  }
 },
 "nbformat": 4,
 "nbformat_minor": 0
}
