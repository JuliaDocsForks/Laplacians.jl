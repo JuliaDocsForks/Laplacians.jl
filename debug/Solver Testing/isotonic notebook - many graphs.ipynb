{
 "cells": [
  {
   "cell_type": "code",
   "execution_count": 1,
   "metadata": {
    "collapsed": true
   },
   "outputs": [],
   "source": [
    "using Laplacians"
   ]
  },
  {
   "cell_type": "code",
   "execution_count": 2,
   "metadata": {
    "collapsed": false
   },
   "outputs": [
    {
     "data": {
      "text/plain": [
       "\"/Users/serbanstan/git/Laplacians.jl/debug/Solver Testing\""
      ]
     },
     "execution_count": 2,
     "metadata": {},
     "output_type": "execute_result"
    }
   ],
   "source": [
    "pwd()"
   ]
  },
  {
   "cell_type": "code",
   "execution_count": 3,
   "metadata": {
    "collapsed": false
   },
   "outputs": [],
   "source": [
    "include(\"../../src/isotonicIPM.jl\");"
   ]
  },
  {
   "cell_type": "code",
   "execution_count": 4,
   "metadata": {
    "collapsed": false
   },
   "outputs": [
    {
     "data": {
      "text/plain": [
       "4-element Array{Function,1}:\n",
       " Laplacians.augTreeSolver    \n",
       " Laplacians.KMPSDDSolver     \n",
       " Laplacians.samplingSDDSolver\n",
       " Laplacians.AMGSolver        "
      ]
     },
     "execution_count": 4,
     "metadata": {},
     "output_type": "execute_result"
    }
   ],
   "source": [
    "solvers = [augTreeSolver, KMPSDDSolver, samplingSDDSolver, AMGSolver]"
   ]
  },
  {
   "cell_type": "code",
   "execution_count": 5,
   "metadata": {
    "collapsed": false
   },
   "outputs": [
    {
     "data": {
      "text/plain": [
       "generateInput (generic function with 1 method)"
      ]
     },
     "execution_count": 5,
     "metadata": {},
     "output_type": "execute_result"
    }
   ],
   "source": [
    "function generateInput(a)\n",
    "    n = a.n\n",
    "    \n",
    "    b = zeros(Float64,n);\n",
    "    b[1] = 1;\n",
    "    b[n] = -1;\n",
    "    f = KMPLapSolver(a, verbose=false, tol=1e-1); # use any other solver\n",
    "    v = f(b)\n",
    "    v = v / (v[1] - v[n])\n",
    "\n",
    "    p = sortperm(v);\n",
    "    ap = symPermuteCSC(a, p);\n",
    "    # vp = v[p]\n",
    "    vp = v[p] + rand(n) / sqrt(n);\n",
    "    at = triu(ap);\n",
    "    \n",
    "    return at,vp\n",
    "end"
   ]
  },
  {
   "cell_type": "code",
   "execution_count": 6,
   "metadata": {
    "collapsed": false
   },
   "outputs": [
    {
     "name": "stdout",
     "output_type": "stream",
     "text": [
      "elapsed time: 28.288614889 seconds\n",
      "elapsed time: 24.121227419 seconds\n",
      "elapsed time: 41.758927382 seconds\n",
      "elapsed time: 33.783402356 seconds\n",
      "Done for 1\n",
      "elapsed time: 13.101008912 seconds\n",
      "elapsed time: 19.410475539 seconds\n",
      "elapsed time: 31.965511861 seconds\n",
      "elapsed time: 23.257051724 seconds\n",
      "Done for 2\n"
     ]
    }
   ],
   "source": [
    "n = 10000\n",
    "\n",
    "nlist = []\n",
    "ilist = []\n",
    "edges = []\n",
    "targetTol = []\n",
    "\n",
    "iters = [Array{Float64,1}(0) for s in solvers]\n",
    "precision = [Array{Float64,1}(0) for s in solvers]\n",
    "times = [Array{Float64,1}(0) for s in solvers]\n",
    "\n",
    "for i in 1:200\n",
    "    a = wtedChimera(n,i)\n",
    "    a,v = generateInput(a);\n",
    "    \n",
    "    push!(nlist, a.n)\n",
    "    push!(ilist, i)\n",
    "    push!(edges, nnz(a))\n",
    "    push!(targetTol, 1e-5)\n",
    "    \n",
    "    for si in 1:length(solvers)\n",
    "        solver = solvers[si]\n",
    "        \n",
    "        try\n",
    "            mysolver = (H -> solver(H,tol=1e-1,maxits=1000,maxtime=20))\n",
    "            \n",
    "            tic()\n",
    "            x,acc,itercount = isotonicIPMrelEps(a,v,1e-5,mysolver)\n",
    "            push!(times[si], toc())\n",
    "\n",
    "            push!(iters[si], itercount)\n",
    "            push!(precision[si], acc)\n",
    "        catch\n",
    "            push!(times[si], Inf)\n",
    "            push!(iters[si], Inf)\n",
    "            push!(precision[si], Inf)\n",
    "            \n",
    "            println(\"Error for \", i, \" and \", solver)\n",
    "        end\n",
    "    end\n",
    "    \n",
    "    println(\"Done for \", i)\n",
    "end"
   ]
  },
  {
   "cell_type": "code",
   "execution_count": 7,
   "metadata": {
    "collapsed": true
   },
   "outputs": [],
   "source": [
    "tab = [\"nlist\"; nlist]\n",
    "tab = [tab [\"ilist\"; ilist]]\n",
    "tab = [tab [\"edges\"; edges]]\n",
    "tab = [tab [\"targetTol\"; targetTol]]\n",
    "\n",
    "for i in 1:length(solvers)\n",
    "    name = split(string(solvers[i]), \".\")[2]\n",
    "\n",
    "    \n",
    "    tab = [tab [name * \"_runtime\"; times[i]]]\n",
    "    tab = [tab [name * \"_iterations\"; iters[i]]]\n",
    "    tab = [tab [name * \"_convergence\"; precision[i]]]\n",
    "end"
   ]
  },
  {
   "cell_type": "code",
   "execution_count": 8,
   "metadata": {
    "collapsed": true
   },
   "outputs": [],
   "source": [
    "fn = string(\"isotonicIPMResults.csv\");\n",
    "writecsv(fn,tab);"
   ]
  },
  {
   "cell_type": "code",
   "execution_count": null,
   "metadata": {
    "collapsed": true
   },
   "outputs": [],
   "source": []
  }
 ],
 "metadata": {
  "anaconda-cloud": {},
  "kernelspec": {
   "display_name": "Julia 0.4.6",
   "language": "julia",
   "name": "julia-0.4"
  },
  "language_info": {
   "file_extension": ".jl",
   "mimetype": "application/julia",
   "name": "julia",
   "version": "0.4.6"
  }
 },
 "nbformat": 4,
 "nbformat_minor": 0
}
