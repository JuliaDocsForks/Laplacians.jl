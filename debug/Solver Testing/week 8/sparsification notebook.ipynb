{
 "cells": [
  {
   "cell_type": "code",
   "execution_count": 1,
   "metadata": {
    "collapsed": false
   },
   "outputs": [
    {
     "name": "stderr",
     "output_type": "stream",
     "text": [
      "objc[35457]: Class TKApplication is implemented in both /Users/serbanstan/anaconda/lib/libtk8.5.dylib and /System/Library/Frameworks/Tk.framework/Versions/8.5/Tk. One of the two will be used. Which one is undefined.\n",
      "objc[35457]: Class TKMenu is implemented in both /Users/serbanstan/anaconda/lib/libtk8.5.dylib and /System/Library/Frameworks/Tk.framework/Versions/8.5/Tk. One of the two will be used. Which one is undefined.\n",
      "objc[35457]: Class TKContentView is implemented in both /Users/serbanstan/anaconda/lib/libtk8.5.dylib and /System/Library/Frameworks/Tk.framework/Versions/8.5/Tk. One of the two will be used. Which one is undefined.\n",
      "objc[35457]: Class TKWindow is implemented in both /Users/serbanstan/anaconda/lib/libtk8.5.dylib and /System/Library/Frameworks/Tk.framework/Versions/8.5/Tk. One of the two will be used. Which one is undefined.\n"
     ]
    }
   ],
   "source": [
    "using Laplacians"
   ]
  },
  {
   "cell_type": "code",
   "execution_count": 2,
   "metadata": {
    "collapsed": false
   },
   "outputs": [
    {
     "data": {
      "text/plain": [
       "sparsify (generic function with 1 method)"
      ]
     },
     "execution_count": 2,
     "metadata": {},
     "output_type": "execute_result"
    }
   ],
   "source": [
    "include(\"../../../src/sparsify.jl\")"
   ]
  },
  {
   "cell_type": "code",
   "execution_count": 3,
   "metadata": {
    "collapsed": false
   },
   "outputs": [],
   "source": [
    "n = 10000;"
   ]
  },
  {
   "cell_type": "code",
   "execution_count": 4,
   "metadata": {
    "collapsed": false
   },
   "outputs": [],
   "source": [
    "a = chimera(n,23);"
   ]
  },
  {
   "cell_type": "code",
   "execution_count": 7,
   "metadata": {
    "collapsed": false
   },
   "outputs": [
    {
     "name": "stdout",
     "output_type": "stream",
     "text": [
      "5856 23424\n",
      "Trying a sparsifier with 5856 edges\n",
      "Got condition number between (1.0000000000000395,1.1111111111111598)\n",
      "  0.256220 seconds (758.04 k allocations: 76.962 MB, 2.73% gc time)\n"
     ]
    }
   ],
   "source": [
    "@time sp = sparsify(a, 0.5, cnTol=1e-1, verbose=true);"
   ]
  },
  {
   "cell_type": "code",
   "execution_count": null,
   "metadata": {
    "collapsed": true
   },
   "outputs": [],
   "source": []
  },
  {
   "cell_type": "code",
   "execution_count": null,
   "metadata": {
    "collapsed": true
   },
   "outputs": [],
   "source": []
  },
  {
   "cell_type": "code",
   "execution_count": 25,
   "metadata": {
    "collapsed": false
   },
   "outputs": [
    {
     "name": "stdout",
     "output_type": "stream",
     "text": [
      "  0.861750 seconds (699.89 k allocations: 111.419 MB, 23.84% gc time)\n"
     ]
    }
   ],
   "source": [
    "@time ldltfact(lap(chimera(30000,1)));"
   ]
  },
  {
   "cell_type": "code",
   "execution_count": 26,
   "metadata": {
    "collapsed": false
   },
   "outputs": [
    {
     "name": "stdout",
     "output_type": "stream",
     "text": [
      "search: ldltfact ldltfact!\n",
      "\n"
     ]
    },
    {
     "data": {
      "text/latex": [
       "\\begin{verbatim}\n",
       "ldltfact(::Union{SparseMatrixCSC,Symmetric{Float64,SparseMatrixCSC{Flaot64,SuiteSparse_long}},Hermitian{Complex{Float64},SparseMatrixCSC{Complex{Float64},SuiteSparse_long}}}; shift=0, perm=Int[]) -> CHOLMOD.Factor\n",
       "\\end{verbatim}\n",
       "Compute the \\texttt{LDLt} factorization of a sparse symmetric or Hermitian matrix. A fill-reducing permutation is used. \\texttt{F = ldltfact(A)} is most frequently used to solve systems of equations \\texttt{A*x = b} with \\texttt{F\\b}, but also the methods \\texttt{diag}, \\texttt{det}, \\texttt{logdet} are defined for \\texttt{F}. You can also extract individual factors from \\texttt{F}, using \\texttt{F[:L]}. However, since pivoting is on by default, the factorization is internally represented as \\texttt{A == P'*L*D*L'*P} with a permutation matrix \\texttt{P}; using just \\texttt{L} without accounting for \\texttt{P} will give incorrect answers. To include the effects of permutation, it's typically preferable to extact \"combined\" factors like \\texttt{PtL = F[:PtL]} (the equivalent of \\texttt{P'*L}) and \\texttt{LtP = F[:UP]} (the equivalent of \\texttt{L'*P}). The complete list of supported factors is \\texttt{:L, :PtL, :D, :UP, :U, :LD, :DU, :PtLD, :DUP}.\n",
       "Setting optional \\texttt{shift} keyword argument computes the factorization of \\texttt{A+shift*I} instead of \\texttt{A}. If the \\texttt{perm} argument is nonempty, it should be a permutation of \\texttt{1:size(A,1)} giving the ordering to use (instead of CHOLMOD's default AMD ordering).\n",
       "The function calls the C library CHOLMOD and many other functions from the library are wrapped but not exported.\n",
       "\\begin{verbatim}\n",
       "ldltfact(::SymTridiagonal) -> LDLt\n",
       "\\end{verbatim}\n",
       "Compute an \\texttt{LDLt} factorization of a real symmetric tridiagonal matrix such that \\texttt{A = L*Diagonal(d)*L'} where \\texttt{L} is a unit lower triangular matrix and \\texttt{d} is a vector. The main use of an \\texttt{LDLt} factorization \\texttt{F = ldltfact(A)} is to solve the linear system of equations \\texttt{Ax = b} with \\texttt{F\\b}.\n"
      ],
      "text/markdown": [
       "```\n",
       "ldltfact(::Union{SparseMatrixCSC,Symmetric{Float64,SparseMatrixCSC{Flaot64,SuiteSparse_long}},Hermitian{Complex{Float64},SparseMatrixCSC{Complex{Float64},SuiteSparse_long}}}; shift=0, perm=Int[]) -> CHOLMOD.Factor\n",
       "```\n",
       "\n",
       "Compute the `LDLt` factorization of a sparse symmetric or Hermitian matrix. A fill-reducing permutation is used. `F = ldltfact(A)` is most frequently used to solve systems of equations `A*x = b` with `F\\b`, but also the methods `diag`, `det`, `logdet` are defined for `F`. You can also extract individual factors from `F`, using `F[:L]`. However, since pivoting is on by default, the factorization is internally represented as `A == P'*L*D*L'*P` with a permutation matrix `P`; using just `L` without accounting for `P` will give incorrect answers. To include the effects of permutation, it's typically preferable to extact \"combined\" factors like `PtL = F[:PtL]` (the equivalent of `P'*L`) and `LtP = F[:UP]` (the equivalent of `L'*P`). The complete list of supported factors is `:L, :PtL, :D, :UP, :U, :LD, :DU, :PtLD, :DUP`.\n",
       "\n",
       "Setting optional `shift` keyword argument computes the factorization of `A+shift*I` instead of `A`. If the `perm` argument is nonempty, it should be a permutation of `1:size(A,1)` giving the ordering to use (instead of CHOLMOD's default AMD ordering).\n",
       "\n",
       "The function calls the C library CHOLMOD and many other functions from the library are wrapped but not exported.\n",
       "\n",
       "```\n",
       "ldltfact(::SymTridiagonal) -> LDLt\n",
       "```\n",
       "\n",
       "Compute an `LDLt` factorization of a real symmetric tridiagonal matrix such that `A = L*Diagonal(d)*L'` where `L` is a unit lower triangular matrix and `d` is a vector. The main use of an `LDLt` factorization `F = ldltfact(A)` is to solve the linear system of equations `Ax = b` with `F\\b`.\n"
      ],
      "text/plain": [
       "```\n",
       "ldltfact(::Union{SparseMatrixCSC,Symmetric{Float64,SparseMatrixCSC{Flaot64,SuiteSparse_long}},Hermitian{Complex{Float64},SparseMatrixCSC{Complex{Float64},SuiteSparse_long}}}; shift=0, perm=Int[]) -> CHOLMOD.Factor\n",
       "```\n",
       "\n",
       "Compute the `LDLt` factorization of a sparse symmetric or Hermitian matrix. A fill-reducing permutation is used. `F = ldltfact(A)` is most frequently used to solve systems of equations `A*x = b` with `F\\b`, but also the methods `diag`, `det`, `logdet` are defined for `F`. You can also extract individual factors from `F`, using `F[:L]`. However, since pivoting is on by default, the factorization is internally represented as `A == P'*L*D*L'*P` with a permutation matrix `P`; using just `L` without accounting for `P` will give incorrect answers. To include the effects of permutation, it's typically preferable to extact \"combined\" factors like `PtL = F[:PtL]` (the equivalent of `P'*L`) and `LtP = F[:UP]` (the equivalent of `L'*P`). The complete list of supported factors is `:L, :PtL, :D, :UP, :U, :LD, :DU, :PtLD, :DUP`.\n",
       "\n",
       "Setting optional `shift` keyword argument computes the factorization of `A+shift*I` instead of `A`. If the `perm` argument is nonempty, it should be a permutation of `1:size(A,1)` giving the ordering to use (instead of CHOLMOD's default AMD ordering).\n",
       "\n",
       "The function calls the C library CHOLMOD and many other functions from the library are wrapped but not exported.\n",
       "\n",
       "```\n",
       "ldltfact(::SymTridiagonal) -> LDLt\n",
       "```\n",
       "\n",
       "Compute an `LDLt` factorization of a real symmetric tridiagonal matrix such that `A = L*Diagonal(d)*L'` where `L` is a unit lower triangular matrix and `d` is a vector. The main use of an `LDLt` factorization `F = ldltfact(A)` is to solve the linear system of equations `Ax = b` with `F\\b`.\n"
      ]
     },
     "execution_count": 26,
     "metadata": {},
     "output_type": "execute_result"
    }
   ],
   "source": [
    "?ldltfact"
   ]
  },
  {
   "cell_type": "code",
   "execution_count": null,
   "metadata": {
    "collapsed": true
   },
   "outputs": [],
   "source": []
  },
  {
   "cell_type": "code",
   "execution_count": null,
   "metadata": {
    "collapsed": true
   },
   "outputs": [],
   "source": []
  },
  {
   "cell_type": "code",
   "execution_count": null,
   "metadata": {
    "collapsed": true
   },
   "outputs": [],
   "source": []
  },
  {
   "cell_type": "code",
   "execution_count": null,
   "metadata": {
    "collapsed": true
   },
   "outputs": [],
   "source": []
  },
  {
   "cell_type": "code",
   "execution_count": null,
   "metadata": {
    "collapsed": true
   },
   "outputs": [],
   "source": []
  },
  {
   "cell_type": "code",
   "execution_count": 35,
   "metadata": {
    "collapsed": false
   },
   "outputs": [
    {
     "data": {
      "text/plain": [
       "false"
      ]
     },
     "execution_count": 35,
     "metadata": {},
     "output_type": "execute_result"
    }
   ],
   "source": [
    "isposdef(lap(a))"
   ]
  },
  {
   "cell_type": "code",
   "execution_count": 47,
   "metadata": {
    "collapsed": false
   },
   "outputs": [
    {
     "name": "stdout",
     "output_type": "stream",
     "text": [
      "search: ldltfact ldltfact!\n",
      "\n"
     ]
    },
    {
     "data": {
      "text/latex": [
       "\\begin{verbatim}\n",
       "ldltfact(::Union{SparseMatrixCSC,Symmetric{Float64,SparseMatrixCSC{Flaot64,SuiteSparse_long}},Hermitian{Complex{Float64},SparseMatrixCSC{Complex{Float64},SuiteSparse_long}}}; shift=0, perm=Int[]) -> CHOLMOD.Factor\n",
       "\\end{verbatim}\n",
       "Compute the \\texttt{LDLt} factorization of a sparse symmetric or Hermitian matrix. A fill-reducing permutation is used. \\texttt{F = ldltfact(A)} is most frequently used to solve systems of equations \\texttt{A*x = b} with \\texttt{F\\b}, but also the methods \\texttt{diag}, \\texttt{det}, \\texttt{logdet} are defined for \\texttt{F}. You can also extract individual factors from \\texttt{F}, using \\texttt{F[:L]}. However, since pivoting is on by default, the factorization is internally represented as \\texttt{A == P'*L*D*L'*P} with a permutation matrix \\texttt{P}; using just \\texttt{L} without accounting for \\texttt{P} will give incorrect answers. To include the effects of permutation, it's typically preferable to extact \"combined\" factors like \\texttt{PtL = F[:PtL]} (the equivalent of \\texttt{P'*L}) and \\texttt{LtP = F[:UP]} (the equivalent of \\texttt{L'*P}). The complete list of supported factors is \\texttt{:L, :PtL, :D, :UP, :U, :LD, :DU, :PtLD, :DUP}.\n",
       "Setting optional \\texttt{shift} keyword argument computes the factorization of \\texttt{A+shift*I} instead of \\texttt{A}. If the \\texttt{perm} argument is nonempty, it should be a permutation of \\texttt{1:size(A,1)} giving the ordering to use (instead of CHOLMOD's default AMD ordering).\n",
       "The function calls the C library CHOLMOD and many other functions from the library are wrapped but not exported.\n",
       "\\begin{verbatim}\n",
       "ldltfact(::SymTridiagonal) -> LDLt\n",
       "\\end{verbatim}\n",
       "Compute an \\texttt{LDLt} factorization of a real symmetric tridiagonal matrix such that \\texttt{A = L*Diagonal(d)*L'} where \\texttt{L} is a unit lower triangular matrix and \\texttt{d} is a vector. The main use of an \\texttt{LDLt} factorization \\texttt{F = ldltfact(A)} is to solve the linear system of equations \\texttt{Ax = b} with \\texttt{F\\b}.\n"
      ],
      "text/markdown": [
       "```\n",
       "ldltfact(::Union{SparseMatrixCSC,Symmetric{Float64,SparseMatrixCSC{Flaot64,SuiteSparse_long}},Hermitian{Complex{Float64},SparseMatrixCSC{Complex{Float64},SuiteSparse_long}}}; shift=0, perm=Int[]) -> CHOLMOD.Factor\n",
       "```\n",
       "\n",
       "Compute the `LDLt` factorization of a sparse symmetric or Hermitian matrix. A fill-reducing permutation is used. `F = ldltfact(A)` is most frequently used to solve systems of equations `A*x = b` with `F\\b`, but also the methods `diag`, `det`, `logdet` are defined for `F`. You can also extract individual factors from `F`, using `F[:L]`. However, since pivoting is on by default, the factorization is internally represented as `A == P'*L*D*L'*P` with a permutation matrix `P`; using just `L` without accounting for `P` will give incorrect answers. To include the effects of permutation, it's typically preferable to extact \"combined\" factors like `PtL = F[:PtL]` (the equivalent of `P'*L`) and `LtP = F[:UP]` (the equivalent of `L'*P`). The complete list of supported factors is `:L, :PtL, :D, :UP, :U, :LD, :DU, :PtLD, :DUP`.\n",
       "\n",
       "Setting optional `shift` keyword argument computes the factorization of `A+shift*I` instead of `A`. If the `perm` argument is nonempty, it should be a permutation of `1:size(A,1)` giving the ordering to use (instead of CHOLMOD's default AMD ordering).\n",
       "\n",
       "The function calls the C library CHOLMOD and many other functions from the library are wrapped but not exported.\n",
       "\n",
       "```\n",
       "ldltfact(::SymTridiagonal) -> LDLt\n",
       "```\n",
       "\n",
       "Compute an `LDLt` factorization of a real symmetric tridiagonal matrix such that `A = L*Diagonal(d)*L'` where `L` is a unit lower triangular matrix and `d` is a vector. The main use of an `LDLt` factorization `F = ldltfact(A)` is to solve the linear system of equations `Ax = b` with `F\\b`.\n"
      ],
      "text/plain": [
       "```\n",
       "ldltfact(::Union{SparseMatrixCSC,Symmetric{Float64,SparseMatrixCSC{Flaot64,SuiteSparse_long}},Hermitian{Complex{Float64},SparseMatrixCSC{Complex{Float64},SuiteSparse_long}}}; shift=0, perm=Int[]) -> CHOLMOD.Factor\n",
       "```\n",
       "\n",
       "Compute the `LDLt` factorization of a sparse symmetric or Hermitian matrix. A fill-reducing permutation is used. `F = ldltfact(A)` is most frequently used to solve systems of equations `A*x = b` with `F\\b`, but also the methods `diag`, `det`, `logdet` are defined for `F`. You can also extract individual factors from `F`, using `F[:L]`. However, since pivoting is on by default, the factorization is internally represented as `A == P'*L*D*L'*P` with a permutation matrix `P`; using just `L` without accounting for `P` will give incorrect answers. To include the effects of permutation, it's typically preferable to extact \"combined\" factors like `PtL = F[:PtL]` (the equivalent of `P'*L`) and `LtP = F[:UP]` (the equivalent of `L'*P`). The complete list of supported factors is `:L, :PtL, :D, :UP, :U, :LD, :DU, :PtLD, :DUP`.\n",
       "\n",
       "Setting optional `shift` keyword argument computes the factorization of `A+shift*I` instead of `A`. If the `perm` argument is nonempty, it should be a permutation of `1:size(A,1)` giving the ordering to use (instead of CHOLMOD's default AMD ordering).\n",
       "\n",
       "The function calls the C library CHOLMOD and many other functions from the library are wrapped but not exported.\n",
       "\n",
       "```\n",
       "ldltfact(::SymTridiagonal) -> LDLt\n",
       "```\n",
       "\n",
       "Compute an `LDLt` factorization of a real symmetric tridiagonal matrix such that `A = L*Diagonal(d)*L'` where `L` is a unit lower triangular matrix and `d` is a vector. The main use of an `LDLt` factorization `F = ldltfact(A)` is to solve the linear system of equations `Ax = b` with `F\\b`.\n"
      ]
     },
     "execution_count": 47,
     "metadata": {},
     "output_type": "execute_result"
    }
   ],
   "source": [
    "?ldltfact"
   ]
  },
  {
   "cell_type": "code",
   "execution_count": 85,
   "metadata": {
    "collapsed": true
   },
   "outputs": [],
   "source": [
    "la = lap(a) + speye(n)\n",
    "ldl = ldltfact(la);"
   ]
  },
  {
   "cell_type": "code",
   "execution_count": 78,
   "metadata": {
    "collapsed": false
   },
   "outputs": [
    {
     "name": "stdout",
     "output_type": "stream",
     "text": [
      "search: ldl ldltfact ldltfact! foldl mapfoldl Libdl InlineDisplay\n",
      "\n"
     ]
    },
    {
     "data": {
      "text/latex": [
       "No documentation found.\n",
       "\\texttt{ldl} is of type \\texttt{Base.SparseMatrix.CHOLMOD.Factor{Float64}}:\n",
       "\\textbf{Summary:}\n",
       "\\begin{verbatim}\n",
       "type Base.SparseMatrix.CHOLMOD.Factor{Float64} <: Factorization{Float64}\n",
       "\\end{verbatim}\n",
       "\\textbf{Fields:}\n",
       "\\begin{verbatim}\n",
       "p :: Ptr{Base.SparseMatrix.CHOLMOD.C_Factor{Float64}}\n",
       "\\end{verbatim}\n"
      ],
      "text/markdown": [
       "No documentation found.\n",
       "\n",
       "`ldl` is of type `Base.SparseMatrix.CHOLMOD.Factor{Float64}`:\n",
       "\n",
       "**Summary:**\n",
       "\n",
       "```julia\n",
       "type Base.SparseMatrix.CHOLMOD.Factor{Float64} <: Factorization{Float64}\n",
       "```\n",
       "\n",
       "**Fields:**\n",
       "\n",
       "```julia\n",
       "p :: Ptr{Base.SparseMatrix.CHOLMOD.C_Factor{Float64}}\n",
       "```\n"
      ],
      "text/plain": [
       "No documentation found.\n",
       "\n",
       "`ldl` is of type `Base.SparseMatrix.CHOLMOD.Factor{Float64}`:\n",
       "\n",
       "**Summary:**\n",
       "\n",
       "```julia\n",
       "type Base.SparseMatrix.CHOLMOD.Factor{Float64} <: Factorization{Float64}\n",
       "```\n",
       "\n",
       "**Fields:**\n",
       "\n",
       "```julia\n",
       "p :: Ptr{Base.SparseMatrix.CHOLMOD.C_Factor{Float64}}\n",
       "```\n"
      ]
     },
     "execution_count": 78,
     "metadata": {},
     "output_type": "execute_result"
    }
   ],
   "source": [
    "?ldl"
   ]
  },
  {
   "cell_type": "code",
   "execution_count": 79,
   "metadata": {
    "collapsed": false
   },
   "outputs": [
    {
     "data": {
      "text/plain": [
       "Base.SparseMatrix.CHOLMOD.FactorComponent{Float64,:UP}\n",
       "type:         LDLt\n",
       "method: simplicial\n",
       "maxnnz:     153716\n",
       "nnz:        153716\n"
      ]
     },
     "execution_count": 79,
     "metadata": {},
     "output_type": "execute_result"
    }
   ],
   "source": [
    "ldl[:UP]"
   ]
  },
  {
   "cell_type": "code",
   "execution_count": 95,
   "metadata": {
    "collapsed": false
   },
   "outputs": [],
   "source": [
    "d = 1 ./ (ldl[:D] \\ ones(n));\n",
    "d = spdiagm(d);"
   ]
  },
  {
   "cell_type": "code",
   "execution_count": 86,
   "metadata": {
    "collapsed": true
   },
   "outputs": [],
   "source": [
    "b = rand(n); b = b - norm(b);"
   ]
  },
  {
   "cell_type": "code",
   "execution_count": 96,
   "metadata": {
    "collapsed": false
   },
   "outputs": [
    {
     "data": {
      "text/plain": [
       "10000-element Array{Float64,1}:\n",
       " -57.2097\n",
       " -57.1982\n",
       " -57.0314\n",
       " -57.2329\n",
       " -57.2074\n",
       " -57.1006\n",
       " -56.9697\n",
       " -57.067 \n",
       " -57.1572\n",
       " -57.2308\n",
       " -57.2049\n",
       " -56.9963\n",
       " -57.148 \n",
       "   ⋮     \n",
       " -57.1183\n",
       " -56.9274\n",
       " -57.1561\n",
       " -57.1667\n",
       " -57.1879\n",
       " -57.2712\n",
       " -57.1183\n",
       " -57.2965\n",
       " -57.0781\n",
       " -57.1829\n",
       " -57.2686\n",
       " -57.1155"
      ]
     },
     "execution_count": 96,
     "metadata": {},
     "output_type": "execute_result"
    }
   ],
   "source": [
    "x = ldl[:UP] \\ (d \\ (ldl[:PtL] \\ b))"
   ]
  },
  {
   "cell_type": "code",
   "execution_count": 97,
   "metadata": {
    "collapsed": false
   },
   "outputs": [
    {
     "data": {
      "text/plain": [
       "7.817717187280283e-12"
      ]
     },
     "execution_count": 97,
     "metadata": {},
     "output_type": "execute_result"
    }
   ],
   "source": [
    "norm((lap(a) + speye(n)) * x - b)"
   ]
  },
  {
   "cell_type": "code",
   "execution_count": null,
   "metadata": {
    "collapsed": true
   },
   "outputs": [],
   "source": []
  }
 ],
 "metadata": {
  "kernelspec": {
   "display_name": "Julia 0.4.6",
   "language": "julia",
   "name": "julia-0.4"
  },
  "language_info": {
   "file_extension": ".jl",
   "mimetype": "application/julia",
   "name": "julia",
   "version": "0.4.6"
  }
 },
 "nbformat": 4,
 "nbformat_minor": 0
}
