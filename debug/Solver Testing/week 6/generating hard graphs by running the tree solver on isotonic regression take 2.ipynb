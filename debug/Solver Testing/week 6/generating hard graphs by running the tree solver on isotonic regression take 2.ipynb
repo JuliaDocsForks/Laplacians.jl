{
 "cells": [
  {
   "cell_type": "code",
   "execution_count": 1,
   "metadata": {
    "collapsed": true
   },
   "outputs": [],
   "source": [
    "using Laplacians"
   ]
  },
  {
   "cell_type": "code",
   "execution_count": 2,
   "metadata": {
    "collapsed": false
   },
   "outputs": [
    {
     "data": {
      "text/plain": [
       "computeCN (generic function with 1 method)"
      ]
     },
     "execution_count": 2,
     "metadata": {},
     "output_type": "execute_result"
    }
   ],
   "source": [
    "include(\"../../../src/isotonicIPMSolverDebug.jl\")\n",
    "include(\"../../../src/samplingSolver.jl\")"
   ]
  },
  {
   "cell_type": "code",
   "execution_count": 3,
   "metadata": {
    "collapsed": true
   },
   "outputs": [],
   "source": [
    "sqroot = 300\n",
    "n = sqroot^2\n",
    "A = grid2(sqroot,sqroot)\n",
    "A = triu(A);\n",
    "v = randn(n)+collect(1:n)/2;\n",
    "isoTestValues = collect(1:n);\n",
    "newOrder = randperm(n)\n",
    "permMat = (speye(n))[1:n,newOrder];\n",
    "A = permMat*A*permMat';\n",
    "v = permMat*v;"
   ]
  },
  {
   "cell_type": "code",
   "execution_count": 4,
   "metadata": {
    "collapsed": false
   },
   "outputs": [
    {
     "name": "stdout",
     "output_type": "stream",
     "text": [
      "*****************\n",
      "\n",
      "rho = 1561.5934988752717\n",
      "Average number of multiedges = 522.6096165861338\n",
      "Maximum number of multiedges = 1561.5934988752717\n",
      "Time to build the tree and compute the stretch: elapsed time: 0.992246924 seconds\n",
      "\n",
      "The total size of the linked list data structure should be at most 423925497\n",
      "The actual size is 107820\n",
      "\n",
      "nnz in U matrix: 1010898\n",
      "computing the condition number takes: elapsed time: 3.958358336 seconds\n",
      "\n",
      "Eps error: -0.2790737817553946\n",
      "Condition number: (862.2369353306705,1041.9119242145107)\n",
      "\n",
      "My build time: elapsed time: 31.099149825 seconds\n",
      "PCG stopped after: 105 iterations with relative error 9.811372875527039e-7.\n",
      "My solve time: elapsed time: 2.465637812 seconds\n",
      "9.813360020528987e-7\n",
      "\n",
      "Dan's build time: elapsed time: 0.711524686 seconds\n",
      "PCG stopped after: 155 iterations with relative error 8.421852715456851e-7.\n",
      "Dan's solve time: elapsed time: 1.440418426 seconds\n",
      "8.421892401722261e-7\n",
      "\n",
      "*****************\n",
      "\n",
      "rho = 1561.5934988752717\n",
      "Average number of multiedges = 522.6086151189477\n",
      "Maximum number of multiedges = 1561.5934988752717\n",
      "Time to build the tree and compute the stretch: elapsed time: 1.013087476 seconds\n",
      "\n",
      "The total size of the linked list data structure should be at most 423924957\n",
      "The actual size is 107820\n",
      "\n",
      "nnz in U matrix: 1059605\n",
      "computing the condition number takes: elapsed time: 4.130199571 seconds\n",
      "\n",
      "Eps error: -0.6990016416666532\n",
      "Condition number: (354.5570123882112,381.61808608320484)\n",
      "\n",
      "My build time: elapsed time: 32.957327938 seconds\n",
      "PCG stopped after: 100 iterations with relative error 9.134536219171429e-7.\n",
      "My solve time: elapsed time: 2.593247277 seconds\n",
      "9.136371181132866e-7\n",
      "\n",
      "Dan's build time: elapsed time: 0.854000343 seconds\n",
      "PCG stopped after: 138 iterations with relative error 9.752308463709747e-7.\n",
      "Dan's solve time: elapsed time: 1.259934177 seconds\n",
      "9.752313939404406e-7\n",
      "\n",
      "*****************\n",
      "\n",
      "rho = 1561.5934988752717\n",
      "Average number of multiedges = 522.6053575553487\n",
      "Maximum number of multiedges = 1561.5934988752717\n",
      "Time to build the tree and compute the stretch: elapsed time: 1.035611684 seconds\n",
      "\n",
      "The total size of the linked list data structure should be at most 423923202\n",
      "The actual size is 107820\n",
      "\n",
      "nnz in U matrix: 1043360\n",
      "computing the condition number takes: elapsed time: 6.832129674 seconds\n",
      "\n",
      "Eps error: -0.8527472376221914\n",
      "Condition number: (249.4262666205003,262.52225585714837)\n",
      "\n",
      "My build time: elapsed time: 32.78566407 seconds\n",
      "PCG stopped after: 97 iterations with relative error 9.541271927812205e-7.\n",
      "My solve time: elapsed time: 1.821547148 seconds\n",
      "9.543172167545294e-7\n",
      "\n",
      "Dan's build time: elapsed time: 0.752314036 seconds\n",
      "PCG stopped after: 114 iterations with relative error 8.862429975379938e-7.\n",
      "Dan's solve time: elapsed time: 1.146850443 seconds\n",
      "8.862437097729963e-7\n",
      "\n",
      "*****************\n",
      "\n",
      "rho = 1561.5934988752717\n",
      "Average number of multiedges = 522.6071870679259\n",
      "Maximum number of multiedges = 1561.5934988752717\n",
      "Time to build the tree and compute the stretch: elapsed time: 1.008359861 seconds\n",
      "\n",
      "The total size of the linked list data structure should be at most 423924188\n",
      "The actual size is 107820\n",
      "\n",
      "nnz in U matrix: 1043990\n",
      "computing the condition number takes: elapsed time: 4.007136977 seconds\n",
      "\n",
      "Eps error: 0.6545644189942639\n",
      "Condition number: (1584.566694876973,2319.715469923216)\n",
      "\n",
      "My build time: elapsed time: 34.174018945 seconds\n",
      "PCG stopped after: 111 iterations with relative error 9.00920551816745e-7.\n",
      "My solve time: elapsed time: 2.103200473 seconds\n",
      "9.010994547602171e-7\n",
      "\n",
      "Dan's build time: elapsed time: 0.830177941 seconds\n",
      "PCG stopped at maxtime.\n",
      "PCG stopped after: 2019 iterations with relative error 0.000653172743139513.\n",
      "Dan's solve time: elapsed time: 20.016001056 seconds\n",
      "0.0006531727397767203\n",
      "\n",
      "188.156109 seconds (1.22 G allocations: 68.377 GB, 7.53% gc time)\n"
     ]
    }
   ],
   "source": [
    "@time (x,acc,itercount) = isotonicIPMrelEps(A,v,0.01);"
   ]
  },
  {
   "cell_type": "code",
   "execution_count": 5,
   "metadata": {
    "collapsed": false
   },
   "outputs": [
    {
     "data": {
      "text/plain": [
       "\"hard graph\""
      ]
     },
     "execution_count": 5,
     "metadata": {},
     "output_type": "execute_result"
    }
   ],
   "source": [
    "la = copy(x); b = copy(acc);\n",
    "itercount"
   ]
  },
  {
   "cell_type": "code",
   "execution_count": 6,
   "metadata": {
    "collapsed": false
   },
   "outputs": [
    {
     "name": "stdout",
     "output_type": "stream",
     "text": [
      "  0.939301 seconds (1.49 M allocations: 299.196 MB, 16.82% gc time)\n"
     ]
    },
    {
     "data": {
      "text/plain": [
       "f (generic function with 1 method)"
      ]
     },
     "execution_count": 6,
     "metadata": {},
     "output_type": "execute_result"
    }
   ],
   "source": [
    "@time f = augTreeSolver(la,tol=1e-6,maxits=Inf,maxtime=20,verbose=true)"
   ]
  },
  {
   "cell_type": "code",
   "execution_count": 7,
   "metadata": {
    "collapsed": false
   },
   "outputs": [
    {
     "name": "stdout",
     "output_type": "stream",
     "text": [
      "PCG stopped at maxtime.\n",
      "PCG stopped after: 2017 iterations with relative error 0.02642392873125351.\n",
      " 20.015755 seconds (50.69 k allocations: 10.828 GB, 7.17% gc time)\n"
     ]
    }
   ],
   "source": [
    "@time x = f(b);"
   ]
  },
  {
   "cell_type": "code",
   "execution_count": 8,
   "metadata": {
    "collapsed": false
   },
   "outputs": [
    {
     "data": {
      "text/plain": [
       "0.026423928727888596"
      ]
     },
     "execution_count": 8,
     "metadata": {},
     "output_type": "execute_result"
    }
   ],
   "source": [
    "norm(la * x - b) / norm(b)"
   ]
  },
  {
   "cell_type": "markdown",
   "metadata": {},
   "source": [
    "### to save the graph"
   ]
  },
  {
   "cell_type": "code",
   "execution_count": 11,
   "metadata": {
    "collapsed": false
   },
   "outputs": [],
   "source": [
    "writeToFile(\"myfile.txt\", la)\n",
    "rhs = open(\"myRightHandSide.txt\", \"w\")\n",
    "for i in 1:length(b)\n",
    "    print(rhs, b[i], \" \")\n",
    "end\n",
    "close(rhs)"
   ]
  },
  {
   "cell_type": "code",
   "execution_count": null,
   "metadata": {
    "collapsed": true
   },
   "outputs": [],
   "source": []
  }
 ],
 "metadata": {
  "kernelspec": {
   "display_name": "Julia 0.4.5",
   "language": "julia",
   "name": "julia-0.4"
  },
  "language_info": {
   "file_extension": ".jl",
   "mimetype": "application/julia",
   "name": "julia",
   "version": "0.4.5"
  }
 },
 "nbformat": 4,
 "nbformat_minor": 0
}
