{
 "cells": [
  {
   "cell_type": "code",
   "execution_count": 1,
   "metadata": {
    "collapsed": true
   },
   "outputs": [],
   "source": [
    "using Laplacians"
   ]
  },
  {
   "cell_type": "code",
   "execution_count": 2,
   "metadata": {
    "collapsed": false
   },
   "outputs": [
    {
     "data": {
      "text/plain": [
       "computeCN (generic function with 1 method)"
      ]
     },
     "execution_count": 2,
     "metadata": {},
     "output_type": "execute_result"
    }
   ],
   "source": [
    "include(\"../../../src/isotonicIPMSolverDebug.jl\")\n",
    "include(\"../../../src/samplingSolver.jl\")"
   ]
  },
  {
   "cell_type": "code",
   "execution_count": 3,
   "metadata": {
    "collapsed": true
   },
   "outputs": [],
   "source": [
    "sqroot = 300\n",
    "n = sqroot^2\n",
    "A = grid2(sqroot,sqroot)\n",
    "A = triu(A);\n",
    "v = randn(n)+collect(1:n)/2;\n",
    "isoTestValues = collect(1:n);\n",
    "newOrder = randperm(n)\n",
    "permMat = (speye(n))[1:n,newOrder];\n",
    "A = permMat*A*permMat';\n",
    "v = permMat*v;"
   ]
  },
  {
   "cell_type": "code",
   "execution_count": 4,
   "metadata": {
    "collapsed": false
   },
   "outputs": [
    {
     "name": "stdout",
     "output_type": "stream",
     "text": [
      "*****************\n",
      "\n",
      "rho = 156.15934988752716\n",
      "Average number of multiedges = 52.169959321700595\n",
      "Maximum number of multiedges = 156.15934988752716\n",
      "Time to build the tree and compute the stretch: elapsed time: 0.890877136 seconds\n",
      "\n",
      "The total size of the linked list data structure should be at most 43963536\n",
      "The actual size is 107820\n",
      "\n",
      "nnz in U matrix: 360099\n",
      "computing the condition number takes: elapsed time: 3.235007389 seconds\n",
      "\n",
      "Eps error: 0.7195032873644356\n",
      "Condition number: (82402.59758535838,98662.727676092)\n",
      "\n",
      "My build time: elapsed time: 7.698326271 seconds\n",
      "PCG stopped after: 140 iterations with relative error 9.76850738382966e-7.\n",
      "My solve time: elapsed time: 1.596004736 seconds\n",
      "9.772973211233543e-7\n",
      "\n",
      "Dan's build time: elapsed time: 0.670402775 seconds\n",
      "PCG stopped at maxtime.\n",
      "PCG stopped after: 2421 iterations with relative error 0.005916569322979862.\n",
      "Dan's solve time: elapsed time: 20.028755966 seconds\n",
      "0.005916569329904848\n",
      "\n",
      " 38.317267 seconds (91.53 M allocations: 17.400 GB, 7.38% gc time)\n"
     ]
    }
   ],
   "source": [
    "@time (x,acc,itercount) = isotonicIPMrelEps(A,v,0.01);"
   ]
  },
  {
   "cell_type": "code",
   "execution_count": 5,
   "metadata": {
    "collapsed": false
   },
   "outputs": [
    {
     "data": {
      "text/plain": [
       "\"hard graph\""
      ]
     },
     "execution_count": 5,
     "metadata": {},
     "output_type": "execute_result"
    }
   ],
   "source": [
    "la = copy(x); b = copy(acc);\n",
    "itercount"
   ]
  },
  {
   "cell_type": "code",
   "execution_count": 6,
   "metadata": {
    "collapsed": false
   },
   "outputs": [
    {
     "name": "stdout",
     "output_type": "stream",
     "text": [
      "  0.701948 seconds (1.34 M allocations: 264.765 MB, 19.08% gc time)\n"
     ]
    },
    {
     "data": {
      "text/plain": [
       "f (generic function with 1 method)"
      ]
     },
     "execution_count": 6,
     "metadata": {},
     "output_type": "execute_result"
    }
   ],
   "source": [
    "@time f = augTreeSolver(la,tol=1e-6,maxits=Inf,maxtime=20,verbose=true)"
   ]
  },
  {
   "cell_type": "code",
   "execution_count": 7,
   "metadata": {
    "collapsed": false
   },
   "outputs": [
    {
     "name": "stdout",
     "output_type": "stream",
     "text": [
      "PCG stopped at maxtime.\n",
      "PCG stopped after: 2406 iterations with relative error 0.03272724175265224.\n",
      " 20.008687 seconds (60.42 k allocations: 12.915 GB, 7.78% gc time)\n"
     ]
    }
   ],
   "source": [
    "@time x = f(b);"
   ]
  },
  {
   "cell_type": "code",
   "execution_count": 8,
   "metadata": {
    "collapsed": false
   },
   "outputs": [
    {
     "data": {
      "text/plain": [
       "0.03272724175472181"
      ]
     },
     "execution_count": 8,
     "metadata": {},
     "output_type": "execute_result"
    }
   ],
   "source": [
    "norm(la * x - b) / norm(b)"
   ]
  },
  {
   "cell_type": "markdown",
   "metadata": {},
   "source": [
    "### to save the graph"
   ]
  },
  {
   "cell_type": "code",
   "execution_count": 9,
   "metadata": {
    "collapsed": false
   },
   "outputs": [],
   "source": [
    "writeToFile(\"myfile.txt\", la)\n",
    "rhs = open(\"myRightHandSide.txt\", \"w\")\n",
    "for i in 1:length(b)\n",
    "    print(rhs, b[i], \" \")\n",
    "end\n",
    "close(rhs)"
   ]
  },
  {
   "cell_type": "code",
   "execution_count": null,
   "metadata": {
    "collapsed": true
   },
   "outputs": [],
   "source": []
  }
 ],
 "metadata": {
  "kernelspec": {
   "display_name": "Julia 0.4.5",
   "language": "julia",
   "name": "julia-0.4"
  },
  "language_info": {
   "file_extension": ".jl",
   "mimetype": "application/julia",
   "name": "julia",
   "version": "0.4.5"
  }
 },
 "nbformat": 4,
 "nbformat_minor": 0
}
