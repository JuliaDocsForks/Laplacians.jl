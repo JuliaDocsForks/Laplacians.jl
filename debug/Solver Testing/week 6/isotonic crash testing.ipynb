{
 "cells": [
  {
   "cell_type": "code",
   "execution_count": 1,
   "metadata": {
    "collapsed": false
   },
   "outputs": [
    {
     "name": "stderr",
     "output_type": "stream",
     "text": [
      "objc[47201]: Class TKApplication is implemented in both /Users/serbanstan/anaconda/lib/libtk8.5.dylib and /System/Library/Frameworks/Tk.framework/Versions/8.5/Tk. One of the two will be used. Which one is undefined.\n",
      "objc[47201]: Class TKMenu is implemented in both /Users/serbanstan/anaconda/lib/libtk8.5.dylib and /System/Library/Frameworks/Tk.framework/Versions/8.5/Tk. One of the two will be used. Which one is undefined.\n",
      "objc[47201]: Class TKContentView is implemented in both /Users/serbanstan/anaconda/lib/libtk8.5.dylib and /System/Library/Frameworks/Tk.framework/Versions/8.5/Tk. One of the two will be used. Which one is undefined.\n",
      "objc[47201]: Class TKWindow is implemented in both /Users/serbanstan/anaconda/lib/libtk8.5.dylib and /System/Library/Frameworks/Tk.framework/Versions/8.5/Tk. One of the two will be used. Which one is undefined.\n"
     ]
    }
   ],
   "source": [
    "using Laplacians"
   ]
  },
  {
   "cell_type": "code",
   "execution_count": 2,
   "metadata": {
    "collapsed": false
   },
   "outputs": [
    {
     "data": {
      "text/plain": [
       "computeCN (generic function with 1 method)"
      ]
     },
     "execution_count": 2,
     "metadata": {},
     "output_type": "execute_result"
    }
   ],
   "source": [
    "include(\"../../../src/isotonicIPM.jl\")\n",
    "include(\"../../../src/KMPSolver.jl\")\n",
    "include(\"../../../src/SamplingSolver.jl\")"
   ]
  },
  {
   "cell_type": "code",
   "execution_count": 3,
   "metadata": {
    "collapsed": false
   },
   "outputs": [
    {
     "data": {
      "text/plain": [
       "generateInput (generic function with 1 method)"
      ]
     },
     "execution_count": 3,
     "metadata": {},
     "output_type": "execute_result"
    }
   ],
   "source": [
    "function generateInput(n,i)\n",
    "    a = wtedChimera(n,i);\n",
    "    b = zeros(Float64,n);\n",
    "    b[1] = 1;\n",
    "    b[n] = -1;\n",
    "    \n",
    "    F = KMPLapSolver(a, tol = 1e-2, maxits = 1000, verbose=true)\n",
    "    v = F(b)\n",
    "    \n",
    "    v = v / (v[1] - v[n])\n",
    "\n",
    "    p = sortperm(v);\n",
    "    ap = a[p,p];\n",
    "    # vp = v[p]\n",
    "    vp = v[p] + rand(n) / sqrt(n);\n",
    "    at = triu(ap);\n",
    "    \n",
    "    return at,vp\n",
    "end"
   ]
  },
  {
   "cell_type": "code",
   "execution_count": 5,
   "metadata": {
    "collapsed": false
   },
   "outputs": [
    {
     "name": "stdout",
     "output_type": "stream",
     "text": [
      "aveStretch : 1.8291227425505827 fac : 0.7595267784345257\n",
      "level 0. Dimension 10 off-tree edges : 4\n",
      "PCG stopped after: 4 iterations with relative error 0.00597476473898283.\n",
      "  0.002874 seconds (1.89 k allocations: 128.031 KB)\n"
     ]
    }
   ],
   "source": [
    "@time a,v = generateInput(10,22);"
   ]
  },
  {
   "cell_type": "code",
   "execution_count": 6,
   "metadata": {
    "collapsed": false
   },
   "outputs": [
    {
     "data": {
      "text/plain": [
       "1.0e-5"
      ]
     },
     "execution_count": 6,
     "metadata": {},
     "output_type": "execute_result"
    }
   ],
   "source": [
    "eps = 0.00001"
   ]
  },
  {
   "cell_type": "code",
   "execution_count": 7,
   "metadata": {
    "collapsed": false
   },
   "outputs": [
    {
     "name": "stdout",
     "output_type": "stream",
     "text": [
      "  3.301031 seconds (4.12 M allocations: 227.954 MB, 2.48% gc time)\n"
     ]
    }
   ],
   "source": [
    "@time (x_samp,acc_samp,itercount_samp) = isotonicIPMrelEps(a,v,eps,\n",
    "(H -> samplingSolver(adj(H)[1], adj(H)[2], eps=0.5, sampConst=0.3, beta=1e5, tol=1e-1,maxits=1000)));"
   ]
  },
  {
   "cell_type": "markdown",
   "metadata": {},
   "source": [
    "### now to do profiling"
   ]
  },
  {
   "cell_type": "code",
   "execution_count": 8,
   "metadata": {
    "collapsed": false
   },
   "outputs": [
    {
     "name": "stdout",
     "output_type": "stream",
     "text": [
      "aveStretch : 5.459226349279237 fac : 11.334473366262541\n",
      "level 0. Dimension 100000 off-tree edges : 178691\n",
      "level 1. Dimension 17383 off-tree edges : 6871\n",
      "PCG stopped after: 89 iterations with relative error 0.009463757283850117.\n",
      "  6.246452 seconds (7.84 M allocations: 2.172 GB, 8.66% gc time)\n"
     ]
    }
   ],
   "source": [
    "@time a,v = generateInput(100000,47);"
   ]
  },
  {
   "cell_type": "code",
   "execution_count": 9,
   "metadata": {
    "collapsed": false
   },
   "outputs": [
    {
     "name": "stdout",
     "output_type": "stream",
     "text": [
      "1138.823538 seconds (7.39 G allocations: 579.882 GB, 17.47% gc time)\n"
     ]
    }
   ],
   "source": [
    "@time (x_samp,acc_samp,itercount_samp) = isotonicIPMrelEps(a,v,eps,\n",
    "(H -> samplingSolver(adj(H)[1], adj(H)[2], eps=0.5, sampConst=0.3, beta=1e5, tol=1e-1,maxits=1000, verbose=false)));"
   ]
  },
  {
   "cell_type": "code",
   "execution_count": 10,
   "metadata": {
    "collapsed": false
   },
   "outputs": [
    {
     "name": "stdout",
     "output_type": "stream",
     "text": [
      "861.337006 seconds (860.18 M allocations: 499.272 GB, 14.15% gc time)\n"
     ]
    }
   ],
   "source": [
    "@time (x,acc,itercount) = isotonicIPMrelEps(a,v,eps);"
   ]
  },
  {
   "cell_type": "code",
   "execution_count": null,
   "metadata": {
    "collapsed": false
   },
   "outputs": [
    {
     "name": "stdout",
     "output_type": "stream",
     "text": [
      "rho = 159.05721962330156\n",
      "Initial number of edges = 757380\n",
      "Average number of multiedges = 42.003245888398745\n",
      "Maximum number of multiedges = 159.05721962330156\n",
      "Time to build the tree and compute the stretch: elapsed time: 0.892173792 seconds\n",
      "\n",
      "The total size of the linked list data structure should be at most 49718161\n",
      "The actual size is 2156400\n",
      "\n",
      "nnz in U matrix: 480632\n",
      "computing the condition number takes: elapsed time: 55.906508494 seconds\n",
      "\n",
      "Eps error: -0.8431405983113103\n",
      "Condition number: (10950.961790120406,11196.179661456268)\n",
      "\n",
      "PCG stopped after: 56 iterations with relative error 0.09240578637416101.\n",
      "rho = 159.05721962330156\n",
      "Initial number of edges = 757380\n",
      "Average number of multiedges = 42.0032189893803\n",
      "Maximum number of multiedges = 159.05721962330156\n",
      "Time to build the tree and compute the stretch: elapsed time: 0.836766402 seconds\n"
     ]
    }
   ],
   "source": [
    "@time (x_samp,acc_samp,itercount_samp) = isotonicIPMrelEps(a,v,eps,\n",
    "(H -> samplingSolver(adj(H)[1], adj(H)[2], eps=0.5, sampConst=0.3, beta=1e5, tol=1e-1,maxits=1000, verbose=true)));"
   ]
  },
  {
   "cell_type": "code",
   "execution_count": null,
   "metadata": {
    "collapsed": true
   },
   "outputs": [],
   "source": []
  }
 ],
 "metadata": {
  "anaconda-cloud": {},
  "kernelspec": {
   "display_name": "Julia 0.4.6",
   "language": "julia",
   "name": "julia-0.4"
  },
  "language_info": {
   "file_extension": ".jl",
   "mimetype": "application/julia",
   "name": "julia",
   "version": "0.4.6"
  }
 },
 "nbformat": 4,
 "nbformat_minor": 0
}
