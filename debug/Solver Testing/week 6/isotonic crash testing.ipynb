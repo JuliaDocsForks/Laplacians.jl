{
 "cells": [
  {
   "cell_type": "code",
   "execution_count": 1,
   "metadata": {
    "collapsed": false
   },
   "outputs": [
    {
     "name": "stderr",
     "output_type": "stream",
     "text": [
      "objc[27412]: Class TKApplication is implemented in both /Users/serbanstan/anaconda/lib/libtk8.5.dylib and /System/Library/Frameworks/Tk.framework/Versions/8.5/Tk. One of the two will be used. Which one is undefined.\n",
      "objc[27412]: Class TKMenu is implemented in both /Users/serbanstan/anaconda/lib/libtk8.5.dylib and /System/Library/Frameworks/Tk.framework/Versions/8.5/Tk. One of the two will be used. Which one is undefined.\n",
      "objc[27412]: Class TKContentView is implemented in both /Users/serbanstan/anaconda/lib/libtk8.5.dylib and /System/Library/Frameworks/Tk.framework/Versions/8.5/Tk. One of the two will be used. Which one is undefined.\n",
      "objc[27412]: Class TKWindow is implemented in both /Users/serbanstan/anaconda/lib/libtk8.5.dylib and /System/Library/Frameworks/Tk.framework/Versions/8.5/Tk. One of the two will be used. Which one is undefined.\n"
     ]
    }
   ],
   "source": [
    "using Laplacians"
   ]
  },
  {
   "cell_type": "code",
   "execution_count": 11,
   "metadata": {
    "collapsed": false
   },
   "outputs": [
    {
     "data": {
      "text/plain": [
       "computeCN (generic function with 1 method)"
      ]
     },
     "execution_count": 11,
     "metadata": {},
     "output_type": "execute_result"
    }
   ],
   "source": [
    "include(\"../../../src/isotonicIPM.jl\")\n",
    "include(\"../../../src/KMPSolver.jl\")\n",
    "include(\"../../../src/SamplingSolver.jl\")"
   ]
  },
  {
   "cell_type": "code",
   "execution_count": 5,
   "metadata": {
    "collapsed": false
   },
   "outputs": [
    {
     "data": {
      "text/plain": [
       "generateInput (generic function with 1 method)"
      ]
     },
     "execution_count": 5,
     "metadata": {},
     "output_type": "execute_result"
    }
   ],
   "source": [
    "function generateInput(n,i)\n",
    "    a = wtedChimera(n,i);\n",
    "    b = zeros(Float64,n);\n",
    "    b[1] = 1;\n",
    "    b[n] = -1;\n",
    "    \n",
    "    F = KMPLapSolver(a, tol = 1e-6, maxits = 10000)\n",
    "    v = F(b)\n",
    "    \n",
    "    v = v / (v[1] - v[n])\n",
    "\n",
    "    p = sortperm(v);\n",
    "    ap = a[p,p];\n",
    "    # vp = v[p]\n",
    "    vp = v[p] + rand(n) / sqrt(n);\n",
    "    at = triu(ap);\n",
    "    \n",
    "    return at,vp\n",
    "end"
   ]
  },
  {
   "cell_type": "code",
   "execution_count": 7,
   "metadata": {
    "collapsed": false
   },
   "outputs": [
    {
     "name": "stdout",
     "output_type": "stream",
     "text": [
      "  0.002514 seconds (1.49 k allocations: 118.273 KB)\n"
     ]
    }
   ],
   "source": [
    "@time a,v = generateInput(10,22);"
   ]
  },
  {
   "cell_type": "code",
   "execution_count": 8,
   "metadata": {
    "collapsed": false
   },
   "outputs": [
    {
     "data": {
      "text/plain": [
       "1.0e-5"
      ]
     },
     "execution_count": 8,
     "metadata": {},
     "output_type": "execute_result"
    }
   ],
   "source": [
    "eps = 0.00001"
   ]
  },
  {
   "cell_type": "code",
   "execution_count": 9,
   "metadata": {
    "collapsed": false
   },
   "outputs": [
    {
     "ename": "LoadError",
     "evalue": "LoadError: UndefVarError: samplingSolver not defined\nwhile loading In[9], in expression starting on line 155",
     "output_type": "error",
     "traceback": [
      "LoadError: UndefVarError: samplingSolver not defined\nwhile loading In[9], in expression starting on line 155",
      "",
      " in anonymous at In[9]:2",
      " in l2NewtonStep at /Users/serbanstan/git/Laplacians.jl/src/isotonicIPM.jl:149",
      " in isotonicIPM at /Users/serbanstan/git/Laplacians.jl/src/isotonicIPM.jl:95",
      " in isotonicIPMrelEps at /Users/serbanstan/git/Laplacians.jl/src/isotonicIPM.jl:24"
     ]
    }
   ],
   "source": [
    "@time (x_samp,acc_samp,itercount_samp) = isotonicIPMrelEps(a,v,eps,\n",
    "(H -> samplingSolver(adj(H)[1], adj(H)[2], eps=0.5, sampConst=0.3, beta=1e5, tol=1e-1,maxits=1000)));"
   ]
  },
  {
   "cell_type": "markdown",
   "metadata": {},
   "source": [
    "### now to do profiling"
   ]
  },
  {
   "cell_type": "code",
   "execution_count": 10,
   "metadata": {
    "collapsed": false
   },
   "outputs": [
    {
     "name": "stdout",
     "output_type": "stream",
     "text": [
      " 10.882373 seconds (8.38 M allocations: 5.706 GB, 9.50% gc time)\n"
     ]
    }
   ],
   "source": [
    "@time a,v = generateInput(100000,193);"
   ]
  },
  {
   "cell_type": "code",
   "execution_count": 8,
   "metadata": {
    "collapsed": false
   },
   "outputs": [
    {
     "ename": "LoadError",
     "evalue": "LoadError: InterruptException:\nwhile loading In[8], in expression starting on line 155",
     "output_type": "error",
     "traceback": [
      "LoadError: InterruptException:\nwhile loading In[8], in expression starting on line 155",
      "",
      " in A_mul_B! at sparse/linalg.jl:67",
      " in * at linalg/matmul.jl:87",
      " in pcgBLAS at /Users/serbanstan/git/Laplacians.jl/src/pcg.jl:260",
      " in f at /Users/serbanstan/git/Laplacians.jl/src/samplingSolver.jl:53",
      " in l2NewtonStep at /Users/serbanstan/git/Laplacians.jl/src/isotonicIPM.jl:150",
      " in isotonicIPM at /Users/serbanstan/git/Laplacians.jl/src/isotonicIPM.jl:95",
      " in isotonicIPMrelEps at /Users/serbanstan/git/Laplacians.jl/src/isotonicIPM.jl:24"
     ]
    }
   ],
   "source": [
    "@time (x_samp,acc_samp,itercount_samp) = isotonicIPMrelEps(a,v,eps,\n",
    "(H -> samplingSolver(adj(H)[1], adj(H)[2], eps=0.5, sampConst=0.3, beta=1e5, tol=1e-1,maxits=1000, verbose=false)));"
   ]
  },
  {
   "cell_type": "code",
   "execution_count": 9,
   "metadata": {
    "collapsed": false
   },
   "outputs": [
    {
     "ename": "LoadError",
     "evalue": "LoadError: InterruptException:\nwhile loading In[9], in expression starting on line 155",
     "output_type": "error",
     "traceback": [
      "LoadError: InterruptException:\nwhile loading In[9], in expression starting on line 155",
      ""
     ]
    }
   ],
   "source": [
    "@time (x,acc,itercount) = isotonicIPMrelEps(a,v,eps);"
   ]
  },
  {
   "cell_type": "code",
   "execution_count": null,
   "metadata": {
    "collapsed": true
   },
   "outputs": [],
   "source": []
  }
 ],
 "metadata": {
  "anaconda-cloud": {},
  "kernelspec": {
   "display_name": "Julia 0.4.6",
   "language": "julia",
   "name": "julia-0.4"
  },
  "language_info": {
   "file_extension": ".jl",
   "mimetype": "application/julia",
   "name": "julia",
   "version": "0.4.6"
  }
 },
 "nbformat": 4,
 "nbformat_minor": 0
}
