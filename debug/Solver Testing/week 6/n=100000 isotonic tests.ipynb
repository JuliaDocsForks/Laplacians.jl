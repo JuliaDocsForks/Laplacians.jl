{
 "cells": [
  {
   "cell_type": "code",
   "execution_count": 1,
   "metadata": {
    "collapsed": false
   },
   "outputs": [
    {
     "name": "stderr",
     "output_type": "stream",
     "text": [
      "objc[36253]: Class TKApplication is implemented in both /Users/serbanstan/anaconda/lib/libtk8.5.dylib and /System/Library/Frameworks/Tk.framework/Versions/8.5/Tk. One of the two will be used. Which one is undefined.\n",
      "objc[36253]: Class TKMenu is implemented in both /Users/serbanstan/anaconda/lib/libtk8.5.dylib and /System/Library/Frameworks/Tk.framework/Versions/8.5/Tk. One of the two will be used. Which one is undefined.\n",
      "objc[36253]: Class TKContentView is implemented in both /Users/serbanstan/anaconda/lib/libtk8.5.dylib and /System/Library/Frameworks/Tk.framework/Versions/8.5/Tk. One of the two will be used. Which one is undefined.\n",
      "objc[36253]: Class TKWindow is implemented in both /Users/serbanstan/anaconda/lib/libtk8.5.dylib and /System/Library/Frameworks/Tk.framework/Versions/8.5/Tk. One of the two will be used. Which one is undefined.\n"
     ]
    }
   ],
   "source": [
    "using Laplacians\n",
    "using PyPlot"
   ]
  },
  {
   "cell_type": "code",
   "execution_count": 2,
   "metadata": {
    "collapsed": false
   },
   "outputs": [
    {
     "data": {
      "text/plain": [
       "computeCN (generic function with 1 method)"
      ]
     },
     "execution_count": 2,
     "metadata": {},
     "output_type": "execute_result"
    }
   ],
   "source": [
    "include(\"../../../src/isotonicIPM.jl\")\n",
    "include(\"../../../src/samplingSolver.jl\")"
   ]
  },
  {
   "cell_type": "code",
   "execution_count": 3,
   "metadata": {
    "collapsed": false
   },
   "outputs": [
    {
     "data": {
      "text/plain": [
       "generateInput (generic function with 1 method)"
      ]
     },
     "execution_count": 3,
     "metadata": {},
     "output_type": "execute_result"
    }
   ],
   "source": [
    "function generateInput(n,i)\n",
    "    a = wtedChimera(n,i);\n",
    "    b = zeros(Float64,n);\n",
    "    b[1] = 1;\n",
    "    b[n] = -1;\n",
    "    v = cg(lap(a),b,verbose=true); # use any other solver\n",
    "    v = v / (v[1] - v[n])\n",
    "\n",
    "    p = sortperm(v);\n",
    "    ap = a[p,p];\n",
    "    # vp = v[p]\n",
    "    vp = v[p] + rand(n) / sqrt(n);\n",
    "    at = triu(ap);\n",
    "    \n",
    "    return at,vp\n",
    "end"
   ]
  },
  {
   "cell_type": "markdown",
   "metadata": {},
   "source": [
    "### First, testing the isotonic regression with augTree solver"
   ]
  },
  {
   "cell_type": "code",
   "execution_count": null,
   "metadata": {
    "collapsed": false
   },
   "outputs": [],
   "source": [
    "ts_aug = []\n",
    "accs_aug = []\n",
    "itercounts_aug = []\n",
    "epss_aug = []\n",
    "\n",
    "for i in 1:10\n",
    "    for eps in [0.01, 0.001, 0.0001]\n",
    "        a,v = generateInput(100000,i)\n",
    "        tic()\n",
    "        (x,acc,itercount) = isotonicIPMrelEps(a,v,eps);\n",
    "        push!(ts_aug, toc());\n",
    "        push!(accs_aug, acc)\n",
    "        push!(itercounts_aug, itercount)\n",
    "        push!(epss_aug, eps)\n",
    "    end\n",
    "    \n",
    "    println()\n",
    "    println(\"Done for \", i)\n",
    "    println()\n",
    "end"
   ]
  },
  {
   "cell_type": "markdown",
   "metadata": {},
   "source": [
    "### Now, isotonic regression with samplingSolver"
   ]
  },
  {
   "cell_type": "code",
   "execution_count": null,
   "metadata": {
    "collapsed": false
   },
   "outputs": [],
   "source": [
    "ts_samp = []\n",
    "accs_samp = []\n",
    "itercounts_samp = []\n",
    "epss_samp = []\n",
    "\n",
    "for i in 1:10\n",
    "    for eps in [0.01, 0.001, 0.0001]\n",
    "        a,v = generateInput(100000,i)\n",
    "        tic()\n",
    "        (x,acc,itercount) = isotonicIPMrelEps(a,v,eps,\n",
    "            (H -> samplingSolver(adj(H)[1], adj(H)[2], eps=0.5, sampConst=0.3, beta=1e5, tol=1e-1,maxits=1000)));\n",
    "        push!(ts_samp, toc());\n",
    "        push!(accs_samp, acc)\n",
    "        push!(itercounts_samp, itercount)\n",
    "        push!(epss_samp, eps)\n",
    "    end\n",
    "    \n",
    "    println()\n",
    "    println(\"Done for \", i)\n",
    "    println()\n",
    "end"
   ]
  },
  {
   "cell_type": "code",
   "execution_count": null,
   "metadata": {
    "collapsed": true
   },
   "outputs": [],
   "source": []
  },
  {
   "cell_type": "code",
   "execution_count": null,
   "metadata": {
    "collapsed": true
   },
   "outputs": [],
   "source": []
  }
 ],
 "metadata": {
  "kernelspec": {
   "display_name": "Julia 0.4.6",
   "language": "julia",
   "name": "julia-0.4"
  },
  "language_info": {
   "file_extension": ".jl",
   "mimetype": "application/julia",
   "name": "julia",
   "version": "0.4.6"
  }
 },
 "nbformat": 4,
 "nbformat_minor": 0
}
