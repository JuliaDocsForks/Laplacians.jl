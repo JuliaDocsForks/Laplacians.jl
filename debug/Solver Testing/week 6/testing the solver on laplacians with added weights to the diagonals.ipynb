{
 "cells": [
  {
   "cell_type": "code",
   "execution_count": 1,
   "metadata": {
    "collapsed": false
   },
   "outputs": [],
   "source": [
    "using Laplacians"
   ]
  },
  {
   "cell_type": "code",
   "execution_count": 2,
   "metadata": {
    "collapsed": false
   },
   "outputs": [
    {
     "data": {
      "text/plain": [
       "computeCN (generic function with 1 method)"
      ]
     },
     "execution_count": 2,
     "metadata": {},
     "output_type": "execute_result"
    }
   ],
   "source": [
    "include(\"../../../src/samplingSolver.jl\")"
   ]
  },
  {
   "cell_type": "code",
   "execution_count": 3,
   "metadata": {
    "collapsed": false
   },
   "outputs": [],
   "source": [
    "n = 100000;\n",
    "a = wtedChimera(n,1);\n",
    "dExtra = rand(n)\n",
    "la = lap(a)\n",
    "for i in 1:n\n",
    "    la[i,i] = la[i,i] + dExtra[i]\n",
    "end\n",
    "b = rand(n); b = b - mean(b);"
   ]
  },
  {
   "cell_type": "code",
   "execution_count": 4,
   "metadata": {
    "collapsed": false
   },
   "outputs": [
    {
     "name": "stdout",
     "output_type": "stream",
     "text": [
      "rho = 10.603814641553438\n",
      "Average number of multiedges = 2.240717568296393\n",
      "Maximum number of multiedges = 10.603814641553438\n",
      "Time to build the tree and compute the stretch: elapsed time: 2.029644536 seconds\n",
      "\n",
      "The total size of the linked list data structure should be at most 5213086\n",
      "The actual size is 107820\n",
      "\n",
      "nnz in U matrix: 599892\n",
      "computing the condition number takes: elapsed time: 43.931965674 seconds\n",
      "\n",
      "Eps error: 0.5262204807057868\n",
      "Condition number: (1014.7223446021734,1273.0886431812235)\n",
      "\n",
      " 55.940390 seconds (463.17 M allocations: 10.439 GB, 5.51% gc time)\n"
     ]
    }
   ],
   "source": [
    "@time f = samplingSolver(a, dExtra, sampConst = 0.02, verbose=true, maxits=200);"
   ]
  },
  {
   "cell_type": "code",
   "execution_count": 5,
   "metadata": {
    "collapsed": false
   },
   "outputs": [
    {
     "name": "stdout",
     "output_type": "stream",
     "text": [
      "PCG stopped after: 167 iterations with relative error 9.531828688580723e-7.\n",
      "  3.307088 seconds (33.74 M allocations: 1.267 GB, 5.77% gc time)\n"
     ]
    },
    {
     "data": {
      "text/plain": [
       "8.709100541377992e-5"
      ]
     },
     "execution_count": 5,
     "metadata": {},
     "output_type": "execute_result"
    }
   ],
   "source": [
    "@time norm(la * f(b) - b)"
   ]
  },
  {
   "cell_type": "code",
   "execution_count": null,
   "metadata": {
    "collapsed": true
   },
   "outputs": [],
   "source": []
  }
 ],
 "metadata": {
  "kernelspec": {
   "display_name": "Julia 0.4.5",
   "language": "julia",
   "name": "julia-0.4"
  },
  "language_info": {
   "file_extension": ".jl",
   "mimetype": "application/julia",
   "name": "julia",
   "version": "0.4.5"
  }
 },
 "nbformat": 4,
 "nbformat_minor": 0
}
