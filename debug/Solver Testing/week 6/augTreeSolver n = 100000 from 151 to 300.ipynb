{
 "cells": [
  {
   "cell_type": "code",
   "execution_count": 1,
   "metadata": {
    "collapsed": false
   },
   "outputs": [
    {
     "name": "stderr",
     "output_type": "stream",
     "text": [
      "objc[26360]: Class TKApplication is implemented in both /Users/serbanstan/anaconda/lib/libtk8.5.dylib and /System/Library/Frameworks/Tk.framework/Versions/8.5/Tk. One of the two will be used. Which one is undefined.\n",
      "objc[26360]: Class TKMenu is implemented in both /Users/serbanstan/anaconda/lib/libtk8.5.dylib and /System/Library/Frameworks/Tk.framework/Versions/8.5/Tk. One of the two will be used. Which one is undefined.\n",
      "objc[26360]: Class TKContentView is implemented in both /Users/serbanstan/anaconda/lib/libtk8.5.dylib and /System/Library/Frameworks/Tk.framework/Versions/8.5/Tk. One of the two will be used. Which one is undefined.\n",
      "objc[26360]: Class TKWindow is implemented in both /Users/serbanstan/anaconda/lib/libtk8.5.dylib and /System/Library/Frameworks/Tk.framework/Versions/8.5/Tk. One of the two will be used. Which one is undefined.\n"
     ]
    }
   ],
   "source": [
    "using Laplacians\n",
    "using PyPlot"
   ]
  },
  {
   "cell_type": "code",
   "execution_count": 2,
   "metadata": {
    "collapsed": false
   },
   "outputs": [
    {
     "data": {
      "text/plain": [
       "notFeasible (generic function with 1 method)"
      ]
     },
     "execution_count": 2,
     "metadata": {},
     "output_type": "execute_result"
    }
   ],
   "source": [
    "include(\"../../../src/isotonicIPM.jl\")\n",
    "include(\"../../../src/KMPSolver.jl\")"
   ]
  },
  {
   "cell_type": "code",
   "execution_count": 3,
   "metadata": {
    "collapsed": false
   },
   "outputs": [
    {
     "data": {
      "text/plain": [
       "generateInput (generic function with 1 method)"
      ]
     },
     "execution_count": 3,
     "metadata": {},
     "output_type": "execute_result"
    }
   ],
   "source": [
    "function generateInput(n,i)\n",
    "    a = wtedChimera(n,i);\n",
    "    b = zeros(Float64,n);\n",
    "    b[1] = 1;\n",
    "    b[n] = -1;\n",
    "    \n",
    "    F = KMPLapSolver(a, tol = 1e-6, maxits = 10000)\n",
    "    v = F(b)\n",
    "    \n",
    "    v = v / (v[1] - v[n])\n",
    "\n",
    "    p = sortperm(v);\n",
    "    ap = a[p,p];\n",
    "    # vp = v[p]\n",
    "    vp = v[p] + rand(n) / sqrt(n);\n",
    "    at = triu(ap);\n",
    "    \n",
    "    return at,vp\n",
    "end"
   ]
  },
  {
   "cell_type": "code",
   "execution_count": 5,
   "metadata": {
    "collapsed": false
   },
   "outputs": [
    {
     "name": "stdout",
     "output_type": "stream",
     "text": [
      "elapsed time: 0.015953372 seconds\n",
      "\n",
      "Done for 1\n",
      "\n",
      "elapsed time: 0.028250742 seconds\n",
      "\n",
      "Done for 2\n",
      "\n",
      "elapsed time: 0.024116528 seconds\n",
      "\n",
      "Done for 3\n",
      "\n",
      "elapsed time: 0.017930452 seconds\n",
      "\n",
      "Done for 4\n",
      "\n",
      "elapsed time: 0.01134536 seconds\n",
      "\n",
      "Done for 5\n",
      "\n",
      "elapsed time: 0.0104428 seconds\n",
      "\n",
      "Done for 6\n",
      "\n",
      "elapsed time: 0.02099036 seconds\n",
      "\n",
      "Done for 7\n",
      "\n",
      "elapsed time: 0.016520716 seconds\n",
      "\n",
      "Done for 8\n",
      "\n",
      "elapsed time: 0.012832561 seconds\n",
      "\n",
      "Done for 9\n",
      "\n",
      "elapsed time: 0.015821136 seconds\n",
      "\n",
      "Done for 10\n",
      "\n"
     ]
    }
   ],
   "source": [
    "edgecnts = []\n",
    "\n",
    "ts = []\n",
    "tperiters = []\n",
    "\n",
    "accs = []\n",
    "itercounts = []\n",
    "epss = []\n",
    "\n",
    "for i in 151:300\n",
    "    for eps in [0.00001]\n",
    "        a,v = generateInput(100000,i)\n",
    "        push!(edgecnts, nnz(a))\n",
    "        \n",
    "        tic()\n",
    "        (x,acc,itercount) = isotonicIPMrelEps(a,v,eps);\n",
    "        push!(ts, toc());\n",
    "        push!(tperiters, ts[i] / itercount)\n",
    "        push!(accs, acc)\n",
    "        push!(itercounts, itercount)\n",
    "        push!(epss, eps)\n",
    "    end\n",
    "    \n",
    "    println()\n",
    "    println(\"Done for \", i)\n",
    "    println()\n",
    "end"
   ]
  },
  {
   "cell_type": "code",
   "execution_count": null,
   "metadata": {
    "collapsed": true
   },
   "outputs": [],
   "source": []
  }
 ],
 "metadata": {
  "kernelspec": {
   "display_name": "Julia 0.4.6",
   "language": "julia",
   "name": "julia-0.4"
  },
  "language_info": {
   "file_extension": ".jl",
   "mimetype": "application/julia",
   "name": "julia",
   "version": "0.4.6"
  }
 },
 "nbformat": 4,
 "nbformat_minor": 0
}
