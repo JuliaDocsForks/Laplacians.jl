{
 "cells": [
  {
   "cell_type": "code",
   "execution_count": 1,
   "metadata": {
    "collapsed": false
   },
   "outputs": [
    {
     "name": "stderr",
     "output_type": "stream",
     "text": [
      "objc[86016]: Class TKApplication is implemented in both /Users/serbanstan/anaconda/lib/libtk8.5.dylib and /System/Library/Frameworks/Tk.framework/Versions/8.5/Tk. One of the two will be used. Which one is undefined.\n",
      "objc[86016]: Class TKMenu is implemented in both /Users/serbanstan/anaconda/lib/libtk8.5.dylib and /System/Library/Frameworks/Tk.framework/Versions/8.5/Tk. One of the two will be used. Which one is undefined.\n",
      "objc[86016]: Class TKContentView is implemented in both /Users/serbanstan/anaconda/lib/libtk8.5.dylib and /System/Library/Frameworks/Tk.framework/Versions/8.5/Tk. One of the two will be used. Which one is undefined.\n",
      "objc[86016]: Class TKWindow is implemented in both /Users/serbanstan/anaconda/lib/libtk8.5.dylib and /System/Library/Frameworks/Tk.framework/Versions/8.5/Tk. One of the two will be used. Which one is undefined.\n"
     ]
    }
   ],
   "source": [
    "using Laplacians"
   ]
  },
  {
   "cell_type": "code",
   "execution_count": 2,
   "metadata": {
    "collapsed": false
   },
   "outputs": [
    {
     "data": {
      "text/plain": [
       "checkError (generic function with 1 method)"
      ]
     },
     "execution_count": 2,
     "metadata": {},
     "output_type": "execute_result"
    }
   ],
   "source": [
    "include(\"../../../src/samplingResetSolver.jl\")"
   ]
  },
  {
   "cell_type": "code",
   "execution_count": 19,
   "metadata": {
    "collapsed": false
   },
   "outputs": [],
   "source": [
    "n = 100000; #a = grid2(300); d = ones(nnz(a));\n",
    "a = wtedChimera(n,47); d = zeros(n); d[1] = d[n] = 1e-3;\n",
    "b = rand(n); b = b - mean(b);"
   ]
  },
  {
   "cell_type": "code",
   "execution_count": 20,
   "metadata": {
    "collapsed": false
   },
   "outputs": [
    {
     "name": "stdout",
     "output_type": "stream",
     "text": [
      "\n",
      "\n",
      "\n",
      "rho = 10.603814641553438\n",
      "Initial number of multiedges = 2327597 . Nonzeros in a = 557384\n",
      "Average number of multiedges = 4.175929976726731\n",
      "Maximum number of multiedges = 10.603814641553438\n",
      "Time to build the tree and compute the stretch: elapsed time: 0.847405075 seconds\n",
      "Resetting the data structures takes elapsed time: 0.809418497 seconds\n",
      "Resetting the data structures takes elapsed time: 0.171316021 seconds\n",
      "\n",
      "The total size of the linked list data structure should be at most 3590594\n",
      "The actual size is 526400\n",
      "\n",
      "nnz in U matrix: 840812\n",
      "\n",
      "Eps error: 4.65589641996611\n",
      "Condition number: (0.0,0.0)\n",
      "\n",
      "  6.114810 seconds (41.47 M allocations: 2.179 GB, 13.90% gc time)\n"
     ]
    },
    {
     "data": {
      "text/plain": [
       "f (generic function with 1 method)"
      ]
     },
     "execution_count": 20,
     "metadata": {},
     "output_type": "execute_result"
    }
   ],
   "source": [
    "@time f = samplingSolver(a, d, eps=0.5, sampConst=0.02, beta=1e2, returnCN=false,verbose=true, tol=1e-1,maxits=1000)"
   ]
  },
  {
   "cell_type": "code",
   "execution_count": 21,
   "metadata": {
    "collapsed": false
   },
   "outputs": [
    {
     "name": "stdout",
     "output_type": "stream",
     "text": [
      "PCG stopped after: 37 iterations with relative error 0.08991160019628429.\n",
      "  0.659686 seconds (7.40 M allocations: 289.183 MB, 14.78% gc time)\n"
     ]
    }
   ],
   "source": [
    "@time f(b);"
   ]
  },
  {
   "cell_type": "code",
   "execution_count": null,
   "metadata": {
    "collapsed": true
   },
   "outputs": [],
   "source": []
  }
 ],
 "metadata": {
  "kernelspec": {
   "display_name": "Julia 0.4.6",
   "language": "julia",
   "name": "julia-0.4"
  },
  "language_info": {
   "file_extension": ".jl",
   "mimetype": "application/julia",
   "name": "julia",
   "version": "0.4.6"
  }
 },
 "nbformat": 4,
 "nbformat_minor": 0
}
