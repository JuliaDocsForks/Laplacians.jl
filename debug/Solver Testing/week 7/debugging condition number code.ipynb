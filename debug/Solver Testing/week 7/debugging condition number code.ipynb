{
 "cells": [
  {
   "cell_type": "code",
   "execution_count": 1,
   "metadata": {
    "collapsed": false
   },
   "outputs": [
    {
     "name": "stderr",
     "output_type": "stream",
     "text": [
      "objc[5162]: Class TKApplication is implemented in both /Users/serbanstan/anaconda/lib/libtk8.5.dylib and /System/Library/Frameworks/Tk.framework/Versions/8.5/Tk. One of the two will be used. Which one is undefined.\n",
      "objc[5162]: Class TKMenu is implemented in both /Users/serbanstan/anaconda/lib/libtk8.5.dylib and /System/Library/Frameworks/Tk.framework/Versions/8.5/Tk. One of the two will be used. Which one is undefined.\n",
      "objc[5162]: Class TKContentView is implemented in both /Users/serbanstan/anaconda/lib/libtk8.5.dylib and /System/Library/Frameworks/Tk.framework/Versions/8.5/Tk. One of the two will be used. Which one is undefined.\n",
      "objc[5162]: Class TKWindow is implemented in both /Users/serbanstan/anaconda/lib/libtk8.5.dylib and /System/Library/Frameworks/Tk.framework/Versions/8.5/Tk. One of the two will be used. Which one is undefined.\n"
     ]
    }
   ],
   "source": [
    "using Laplacians"
   ]
  },
  {
   "cell_type": "code",
   "execution_count": 2,
   "metadata": {
    "collapsed": false
   },
   "outputs": [
    {
     "data": {
      "text/plain": [
       "testId (generic function with 1 method)"
      ]
     },
     "execution_count": 2,
     "metadata": {},
     "output_type": "execute_result"
    }
   ],
   "source": [
    "include(\"../../../src/sqLinOpWrapper.jl\")"
   ]
  },
  {
   "cell_type": "code",
   "execution_count": 3,
   "metadata": {
    "collapsed": false
   },
   "outputs": [
    {
     "data": {
      "text/plain": [
       "computeCN (generic function with 1 method)"
      ]
     },
     "execution_count": 3,
     "metadata": {},
     "output_type": "execute_result"
    }
   ],
   "source": [
    "include(\"../../../src/condNumber.jl\")"
   ]
  },
  {
   "cell_type": "code",
   "execution_count": 4,
   "metadata": {
    "collapsed": true
   },
   "outputs": [],
   "source": [
    "n = 100; a = chimera(n,1); la = lap(a) + speye(n);"
   ]
  },
  {
   "cell_type": "code",
   "execution_count": 5,
   "metadata": {
    "collapsed": false
   },
   "outputs": [],
   "source": [
    "f = cholfact(la, perm=collect(1:n)); U = f[:UP]; d = ones(n);"
   ]
  },
  {
   "cell_type": "code",
   "execution_count": 7,
   "metadata": {
    "collapsed": false
   },
   "outputs": [
    {
     "data": {
      "text/plain": [
       "(1.000000000000001,1.0010010010010022)"
      ]
     },
     "execution_count": 7,
     "metadata": {},
     "output_type": "execute_result"
    }
   ],
   "source": [
    "condNumber(la, la, tol=1e-3)"
   ]
  },
  {
   "cell_type": "code",
   "execution_count": 8,
   "metadata": {
    "collapsed": false
   },
   "outputs": [
    {
     "data": {
      "text/plain": [
       "Base.SparseMatrix.CHOLMOD.FactorComponent{Float64,:U}\n",
       "type:          LLt\n",
       "method: simplicial\n",
       "maxnnz:       1305\n",
       "nnz:          1305\n"
      ]
     },
     "execution_count": 8,
     "metadata": {},
     "output_type": "execute_result"
    }
   ],
   "source": [
    "f[:U]"
   ]
  },
  {
   "cell_type": "code",
   "execution_count": 8,
   "metadata": {
    "collapsed": false
   },
   "outputs": [
    {
     "name": "stdout",
     "output_type": "stream",
     "text": [
      "search: cholfact cholfact!\n",
      "\n"
     ]
    },
    {
     "data": {
      "text/latex": [
       "\\begin{verbatim}\n",
       "cholfact(A, [LU=:U[,pivot=Val{false}]][;tol=-1.0]) -> Cholesky\n",
       "\\end{verbatim}\n",
       "Compute the Cholesky factorization of a dense symmetric positive (semi)definite matrix \\texttt{A} and return either a \\texttt{Cholesky} if \\texttt{pivot==Val{false}} or \\texttt{CholeskyPivoted} if \\texttt{pivot==Val{true}}. \\texttt{LU} may be \\texttt{:L} for using the lower part or \\texttt{:U} for the upper part. The default is to use \\texttt{:U}. The triangular matrix can be obtained from the factorization \\texttt{F} with: \\texttt{F[:L]} and \\texttt{F[:U]}. The following functions are available for \\texttt{Cholesky} objects: \\texttt{size}, \\texttt{\\}, \\texttt{inv}, \\texttt{det}. For \\texttt{CholeskyPivoted} there is also defined a \\texttt{rank}. If \\texttt{pivot==Val{false}} a \\texttt{PosDefException} exception is thrown in case the matrix is not positive definite. The argument \\texttt{tol} determines the tolerance for determining the rank. For negative values, the tolerance is the machine precision.\n",
       "\\begin{verbatim}\n",
       "cholfact(A; shift=0, perm=Int[]) -> CHOLMOD.Factor\n",
       "\\end{verbatim}\n",
       "Compute the Cholesky factorization of a sparse positive definite matrix \\texttt{A}. A fill-reducing permutation is used. \\texttt{F = cholfact(A)} is most frequently used to solve systems of equations with \\texttt{F\\b}, but also the methods \\texttt{diag}, \\texttt{det}, \\texttt{logdet} are defined for \\texttt{F}. You can also extract individual factors from \\texttt{F}, using \\texttt{F[:L]}. However, since pivoting is on by default, the factorization is internally represented as \\texttt{A == P'*L*L'*P} with a permutation matrix \\texttt{P}; using just \\texttt{L} without accounting for \\texttt{P} will give incorrect answers. To include the effects of permutation, it's typically preferable to extact \"combined\" factors like \\texttt{PtL = F[:PtL]} (the equivalent of \\texttt{P'*L}) and \\texttt{LtP = F[:UP]} (the equivalent of \\texttt{L'*P}).\n",
       "Setting optional \\texttt{shift} keyword argument computes the factorization of \\texttt{A+shift*I} instead of \\texttt{A}. If the \\texttt{perm} argument is nonempty, it should be a permutation of \\texttt{1:size(A,1)} giving the ordering to use (instead of CHOLMOD's default AMD ordering).\n",
       "The function calls the C library CHOLMOD and many other functions from the library are wrapped but not exported.\n"
      ],
      "text/markdown": [
       "```\n",
       "cholfact(A, [LU=:U[,pivot=Val{false}]][;tol=-1.0]) -> Cholesky\n",
       "```\n",
       "\n",
       "Compute the Cholesky factorization of a dense symmetric positive (semi)definite matrix `A` and return either a `Cholesky` if `pivot==Val{false}` or `CholeskyPivoted` if `pivot==Val{true}`. `LU` may be `:L` for using the lower part or `:U` for the upper part. The default is to use `:U`. The triangular matrix can be obtained from the factorization `F` with: `F[:L]` and `F[:U]`. The following functions are available for `Cholesky` objects: `size`, `\\`, `inv`, `det`. For `CholeskyPivoted` there is also defined a `rank`. If `pivot==Val{false}` a `PosDefException` exception is thrown in case the matrix is not positive definite. The argument `tol` determines the tolerance for determining the rank. For negative values, the tolerance is the machine precision.\n",
       "\n",
       "```\n",
       "cholfact(A; shift=0, perm=Int[]) -> CHOLMOD.Factor\n",
       "```\n",
       "\n",
       "Compute the Cholesky factorization of a sparse positive definite matrix `A`. A fill-reducing permutation is used. `F = cholfact(A)` is most frequently used to solve systems of equations with `F\\b`, but also the methods `diag`, `det`, `logdet` are defined for `F`. You can also extract individual factors from `F`, using `F[:L]`. However, since pivoting is on by default, the factorization is internally represented as `A == P'*L*L'*P` with a permutation matrix `P`; using just `L` without accounting for `P` will give incorrect answers. To include the effects of permutation, it's typically preferable to extact \"combined\" factors like `PtL = F[:PtL]` (the equivalent of `P'*L`) and `LtP = F[:UP]` (the equivalent of `L'*P`).\n",
       "\n",
       "Setting optional `shift` keyword argument computes the factorization of `A+shift*I` instead of `A`. If the `perm` argument is nonempty, it should be a permutation of `1:size(A,1)` giving the ordering to use (instead of CHOLMOD's default AMD ordering).\n",
       "\n",
       "The function calls the C library CHOLMOD and many other functions from the library are wrapped but not exported.\n"
      ],
      "text/plain": [
       "```\n",
       "cholfact(A, [LU=:U[,pivot=Val{false}]][;tol=-1.0]) -> Cholesky\n",
       "```\n",
       "\n",
       "Compute the Cholesky factorization of a dense symmetric positive (semi)definite matrix `A` and return either a `Cholesky` if `pivot==Val{false}` or `CholeskyPivoted` if `pivot==Val{true}`. `LU` may be `:L` for using the lower part or `:U` for the upper part. The default is to use `:U`. The triangular matrix can be obtained from the factorization `F` with: `F[:L]` and `F[:U]`. The following functions are available for `Cholesky` objects: `size`, `\\`, `inv`, `det`. For `CholeskyPivoted` there is also defined a `rank`. If `pivot==Val{false}` a `PosDefException` exception is thrown in case the matrix is not positive definite. The argument `tol` determines the tolerance for determining the rank. For negative values, the tolerance is the machine precision.\n",
       "\n",
       "```\n",
       "cholfact(A; shift=0, perm=Int[]) -> CHOLMOD.Factor\n",
       "```\n",
       "\n",
       "Compute the Cholesky factorization of a sparse positive definite matrix `A`. A fill-reducing permutation is used. `F = cholfact(A)` is most frequently used to solve systems of equations with `F\\b`, but also the methods `diag`, `det`, `logdet` are defined for `F`. You can also extract individual factors from `F`, using `F[:L]`. However, since pivoting is on by default, the factorization is internally represented as `A == P'*L*L'*P` with a permutation matrix `P`; using just `L` without accounting for `P` will give incorrect answers. To include the effects of permutation, it's typically preferable to extact \"combined\" factors like `PtL = F[:PtL]` (the equivalent of `P'*L`) and `LtP = F[:UP]` (the equivalent of `L'*P`).\n",
       "\n",
       "Setting optional `shift` keyword argument computes the factorization of `A+shift*I` instead of `A`. If the `perm` argument is nonempty, it should be a permutation of `1:size(A,1)` giving the ordering to use (instead of CHOLMOD's default AMD ordering).\n",
       "\n",
       "The function calls the C library CHOLMOD and many other functions from the library are wrapped but not exported.\n"
      ]
     },
     "execution_count": 8,
     "metadata": {},
     "output_type": "execute_result"
    }
   ],
   "source": [
    "?cholfact"
   ]
  }
 ],
 "metadata": {
  "kernelspec": {
   "display_name": "Julia 0.4.6",
   "language": "julia",
   "name": "julia-0.4"
  },
  "language_info": {
   "file_extension": ".jl",
   "mimetype": "application/julia",
   "name": "julia",
   "version": "0.4.6"
  }
 },
 "nbformat": 4,
 "nbformat_minor": 0
}
