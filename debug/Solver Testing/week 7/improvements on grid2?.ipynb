{
 "cells": [
  {
   "cell_type": "code",
   "execution_count": 1,
   "metadata": {
    "collapsed": false
   },
   "outputs": [
    {
     "name": "stderr",
     "output_type": "stream",
     "text": [
      "objc[22145]: Class TKApplication is implemented in both /Users/serbanstan/anaconda/lib/libtk8.5.dylib and /System/Library/Frameworks/Tk.framework/Versions/8.5/Tk. One of the two will be used. Which one is undefined.\n",
      "objc[22145]: Class TKMenu is implemented in both /Users/serbanstan/anaconda/lib/libtk8.5.dylib and /System/Library/Frameworks/Tk.framework/Versions/8.5/Tk. One of the two will be used. Which one is undefined.\n",
      "objc[22145]: Class TKContentView is implemented in both /Users/serbanstan/anaconda/lib/libtk8.5.dylib and /System/Library/Frameworks/Tk.framework/Versions/8.5/Tk. One of the two will be used. Which one is undefined.\n",
      "objc[22145]: Class TKWindow is implemented in both /Users/serbanstan/anaconda/lib/libtk8.5.dylib and /System/Library/Frameworks/Tk.framework/Versions/8.5/Tk. One of the two will be used. Which one is undefined.\n"
     ]
    }
   ],
   "source": [
    "using Laplacians"
   ]
  },
  {
   "cell_type": "code",
   "execution_count": 2,
   "metadata": {
    "collapsed": false
   },
   "outputs": [
    {
     "data": {
      "text/plain": [
       "checkError (generic function with 1 method)"
      ]
     },
     "execution_count": 2,
     "metadata": {},
     "output_type": "execute_result"
    }
   ],
   "source": [
    "include(\"../../../src/samplingSolver.jl\")"
   ]
  },
  {
   "cell_type": "code",
   "execution_count": 3,
   "metadata": {
    "collapsed": true
   },
   "outputs": [],
   "source": [
    "a = grid2(100);"
   ]
  },
  {
   "cell_type": "code",
   "execution_count": 4,
   "metadata": {
    "collapsed": false
   },
   "outputs": [
    {
     "data": {
      "text/plain": [
       "10000"
      ]
     },
     "execution_count": 4,
     "metadata": {},
     "output_type": "execute_result"
    }
   ],
   "source": [
    "n = size(a)[1]"
   ]
  },
  {
   "cell_type": "code",
   "execution_count": 5,
   "metadata": {
    "collapsed": true
   },
   "outputs": [],
   "source": [
    "la = lap(a);"
   ]
  },
  {
   "cell_type": "code",
   "execution_count": 6,
   "metadata": {
    "collapsed": false
   },
   "outputs": [],
   "source": [
    "nr = 0\n",
    "for p in 1:n\n",
    "    if deg(a,p) < 4\n",
    "        la[p,p] = 0\n",
    "        \n",
    "        for i in 1:deg(a,p)\n",
    "            q = nbri(a,p,i)\n",
    "            \n",
    "            la[p,q] = la[q,p] = 0\n",
    "        end\n",
    "    end\n",
    "end"
   ]
  },
  {
   "cell_type": "code",
   "execution_count": 7,
   "metadata": {
    "collapsed": false
   },
   "outputs": [],
   "source": [
    "vmin = minimum(la.rowval)\n",
    "U,V,W = findnz(la)\n",
    "U = U - vmin + 1\n",
    "V = V - vmin + 1\n",
    "la = sparse(U,V,W);"
   ]
  },
  {
   "cell_type": "code",
   "execution_count": 8,
   "metadata": {
    "collapsed": false
   },
   "outputs": [
    {
     "name": "stdout",
     "output_type": "stream",
     "text": [
      "\n",
      "\n",
      "\n",
      "rho = 0.6786576940290442\n",
      "Initial number of multiedges = 8199 . Nonzeros in a = 69600\n",
      "Average number of multiedges = 0.1375534386555514\n",
      "Maximum number of multiedges = 0.6786576940290442\n",
      "Time to build the tree and compute the stretch: elapsed time: 0.479157866 seconds\n"
     ]
    },
    {
     "ename": "LoadError",
     "evalue": "LoadError: AssertionError: The probability vector has a negative entry\nwhile loading In[8], in expression starting on line 155",
     "output_type": "error",
     "traceback": [
      "LoadError: AssertionError: The probability vector has a negative entry\nwhile loading In[8], in expression starting on line 155",
      "",
      " in FastSampler at /Users/serbanstan/git/Laplacians.jl/src/fastSampler.jl:40",
      " in samplingLDL at /Users/serbanstan/git/Laplacians.jl/src/samplingSolver.jl:281",
      " in buildSolver at /Users/serbanstan/git/Laplacians.jl/src/samplingSolver.jl:146",
      " in samplingSolver at /Users/serbanstan/git/Laplacians.jl/src/samplingSolver.jl:29"
     ]
    }
   ],
   "source": [
    "@time f = samplingSolver(lap(a), 0.1 * ones(n), eps=0.5, sampConst=0.002, beta=1e2, verbose=true, tol=1e-1,maxits=1000)"
   ]
  },
  {
   "cell_type": "code",
   "execution_count": 9,
   "metadata": {
    "collapsed": false
   },
   "outputs": [
    {
     "ename": "LoadError",
     "evalue": "LoadError: UndefVarError: f not defined\nwhile loading In[9], in expression starting on line 155",
     "output_type": "error",
     "traceback": [
      "LoadError: UndefVarError: f not defined\nwhile loading In[9], in expression starting on line 155",
      ""
     ]
    }
   ],
   "source": [
    "@time f(rand(n));"
   ]
  }
 ],
 "metadata": {
  "kernelspec": {
   "display_name": "Julia 0.4.6",
   "language": "julia",
   "name": "julia-0.4"
  },
  "language_info": {
   "file_extension": ".jl",
   "mimetype": "application/julia",
   "name": "julia",
   "version": "0.4.6"
  }
 },
 "nbformat": 4,
 "nbformat_minor": 0
}
