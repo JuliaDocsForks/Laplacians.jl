{
 "cells": [
  {
   "cell_type": "code",
   "execution_count": 1,
   "metadata": {
    "collapsed": false
   },
   "outputs": [
    {
     "name": "stderr",
     "output_type": "stream",
     "text": [
      "objc[11699]: Class TKApplication is implemented in both /Users/serbanstan/anaconda/lib/libtk8.5.dylib and /System/Library/Frameworks/Tk.framework/Versions/8.5/Tk. One of the two will be used. Which one is undefined.\n",
      "objc[11699]: Class TKMenu is implemented in both /Users/serbanstan/anaconda/lib/libtk8.5.dylib and /System/Library/Frameworks/Tk.framework/Versions/8.5/Tk. One of the two will be used. Which one is undefined.\n",
      "objc[11699]: Class TKContentView is implemented in both /Users/serbanstan/anaconda/lib/libtk8.5.dylib and /System/Library/Frameworks/Tk.framework/Versions/8.5/Tk. One of the two will be used. Which one is undefined.\n",
      "objc[11699]: Class TKWindow is implemented in both /Users/serbanstan/anaconda/lib/libtk8.5.dylib and /System/Library/Frameworks/Tk.framework/Versions/8.5/Tk. One of the two will be used. Which one is undefined.\n"
     ]
    }
   ],
   "source": [
    "using Laplacians"
   ]
  },
  {
   "cell_type": "code",
   "execution_count": 2,
   "metadata": {
    "collapsed": false
   },
   "outputs": [
    {
     "data": {
      "text/plain": [
       "checkError (generic function with 1 method)"
      ]
     },
     "execution_count": 2,
     "metadata": {},
     "output_type": "execute_result"
    }
   ],
   "source": [
    "include(\"../../../src/isotonicIPMSolverDebug.jl\")\n",
    "include(\"../../../src/samplingSolver.jl\")"
   ]
  },
  {
   "cell_type": "code",
   "execution_count": 3,
   "metadata": {
    "collapsed": true
   },
   "outputs": [],
   "source": [
    "sqroot = 300\n",
    "n = sqroot^2\n",
    "A = grid2(sqroot,sqroot)\n",
    "A = triu(A);\n",
    "v = randn(n)+collect(1:n)/2;\n",
    "isoTestValues = collect(1:n);\n",
    "newOrder = randperm(n)\n",
    "permMat = (speye(n))[1:n,newOrder];\n",
    "A = permMat*A*permMat';\n",
    "v = permMat*v;"
   ]
  },
  {
   "cell_type": "code",
   "execution_count": 4,
   "metadata": {
    "collapsed": false
   },
   "outputs": [
    {
     "name": "stdout",
     "output_type": "stream",
     "text": [
      "*****************\n",
      "\n",
      "rho = 156.15934988752716\n",
      "Initial number of edges = 538800\n",
      "Average number of multiedges = 52.169961276805466\n",
      "Maximum number of multiedges = 156.15934988752716\n",
      "Time to build the tree and compute the stretch: elapsed time: 0.845670539 seconds\n",
      "\n",
      "The total size of the linked list data structure should be at most 43963537\n",
      "The actual size is 2156400\n",
      "\n",
      "nnz in U matrix: 360254\n",
      "\n",
      "Eps error: 1.0557984282780777\n",
      "Condition number: (0.0,0.0)\n",
      "\n",
      "My build time: elapsed time: 6.377634034 seconds\n",
      "PCG stopped after: 136 iterations with relative error 9.097640784780065e-7.\n",
      "My solve time: elapsed time: 2.07266859 seconds\n",
      "9.097943247651477e-7\n",
      "\n",
      "Dan's build time: elapsed time: 0.956554439 seconds\n",
      "PCG stopped after: 101 iterations with relative error 9.15393828921728e-7.\n",
      "Dan's solve time: elapsed time: 1.312064977 seconds\n",
      "9.153942990131533e-7\n",
      "\n",
      "*****************\n",
      "\n",
      "rho = 156.15934988752716\n",
      "Initial number of edges = 538800\n",
      "Average number of multiedges = 52.16995896720064\n",
      "Maximum number of multiedges = 156.15934988752716\n",
      "Time to build the tree and compute the stretch: elapsed time: 0.856650041 seconds\n",
      "\n",
      "The total size of the linked list data structure should be at most 43963536\n",
      "The actual size is 2156400\n",
      "\n",
      "nnz in U matrix: 360581\n",
      "\n",
      "Eps error: 0.9571779926286604\n",
      "Condition number: (0.0,0.0)\n",
      "\n",
      "My build time: elapsed time: 3.639318311 seconds\n",
      "PCG stopped after: 135 iterations with relative error 9.672852794724412e-7.\n",
      "My solve time: elapsed time: 1.946185521 seconds\n",
      "9.673132612018526e-7\n",
      "\n",
      "Dan's build time: elapsed time: 1.014298173 seconds\n",
      "PCG stopped after: 105 iterations with relative error 9.256598657114921e-7.\n",
      "Dan's solve time: elapsed time: 1.102252238 seconds\n",
      "9.256601265299562e-7\n",
      "\n",
      "*****************\n",
      "\n",
      "rho = 156.15934988752716\n",
      "Initial number of edges = 538800\n",
      "Average number of multiedges = 52.169958791287634\n",
      "Maximum number of multiedges = 156.15934988752716\n",
      "Time to build the tree and compute the stretch: elapsed time: 0.724051312 seconds\n",
      "\n",
      "The total size of the linked list data structure should be at most 43963536\n",
      "The actual size is 2156400\n",
      "\n",
      "nnz in U matrix: 360811\n",
      "\n",
      "Eps error: 0.9111085261250298\n",
      "Condition number: (0.0,0.0)\n",
      "\n",
      "My build time: elapsed time: 3.621401179 seconds\n",
      "PCG stopped after: 132 iterations with relative error 9.085576574265931e-7.\n",
      "My solve time: elapsed time: 1.839429172 seconds\n",
      "9.085805384424705e-7\n",
      "\n",
      "Dan's build time: elapsed time: 0.815104452 seconds\n",
      "PCG stopped at maxtime.\n",
      "PCG stopped after: 2009 iterations with relative error 0.006505500291784611.\n",
      "Dan's solve time: elapsed time: 20.017290552 seconds\n",
      "0.006505500290244226\n",
      "\n",
      " 59.741878 seconds (150.40 M allocations: 22.118 GB, 8.42% gc time)\n"
     ]
    }
   ],
   "source": [
    "@time (x,acc,itercount) = isotonicIPMrelEps(A,v,0.01);"
   ]
  },
  {
   "cell_type": "code",
   "execution_count": 5,
   "metadata": {
    "collapsed": false
   },
   "outputs": [
    {
     "data": {
      "text/plain": [
       "\"hard graph\""
      ]
     },
     "execution_count": 5,
     "metadata": {},
     "output_type": "execute_result"
    }
   ],
   "source": [
    "la = copy(x); b = copy(acc);\n",
    "itercount"
   ]
  },
  {
   "cell_type": "code",
   "execution_count": 6,
   "metadata": {
    "collapsed": false
   },
   "outputs": [
    {
     "name": "stdout",
     "output_type": "stream",
     "text": [
      "  0.816703 seconds (1.49 M allocations: 300.438 MB, 16.98% gc time)\n"
     ]
    },
    {
     "data": {
      "text/plain": [
       "f (generic function with 1 method)"
      ]
     },
     "execution_count": 6,
     "metadata": {},
     "output_type": "execute_result"
    }
   ],
   "source": [
    "@time f = augTreeSolver(la,tol=1e-6,maxits=Inf,maxtime=20,verbose=true)"
   ]
  },
  {
   "cell_type": "code",
   "execution_count": 7,
   "metadata": {
    "collapsed": false
   },
   "outputs": [
    {
     "name": "stdout",
     "output_type": "stream",
     "text": [
      "PCG stopped after: 101 iterations with relative error 9.688573831346637e-7.\n",
      "  0.984802 seconds (2.77 k allocations: 556.942 MB, 7.35% gc time)\n"
     ]
    }
   ],
   "source": [
    "@time x = f(b);"
   ]
  },
  {
   "cell_type": "code",
   "execution_count": 8,
   "metadata": {
    "collapsed": false
   },
   "outputs": [
    {
     "data": {
      "text/plain": [
       "9.688573367764802e-7"
      ]
     },
     "execution_count": 8,
     "metadata": {},
     "output_type": "execute_result"
    }
   ],
   "source": [
    "norm(la * x - b) / norm(b)"
   ]
  },
  {
   "cell_type": "markdown",
   "metadata": {},
   "source": [
    "### to save the graph"
   ]
  },
  {
   "cell_type": "code",
   "execution_count": 9,
   "metadata": {
    "collapsed": false
   },
   "outputs": [],
   "source": [
    "writeToFile(\"myfile.txt\", la)\n",
    "rhs = open(\"myRightHandSide.txt\", \"w\")\n",
    "for i in 1:length(b)\n",
    "    print(rhs, b[i], \" \")\n",
    "end\n",
    "close(rhs)"
   ]
  },
  {
   "cell_type": "code",
   "execution_count": null,
   "metadata": {
    "collapsed": true
   },
   "outputs": [],
   "source": []
  }
 ],
 "metadata": {
  "kernelspec": {
   "display_name": "Julia 0.4.6",
   "language": "julia",
   "name": "julia-0.4"
  },
  "language_info": {
   "file_extension": ".jl",
   "mimetype": "application/julia",
   "name": "julia",
   "version": "0.4.6"
  }
 },
 "nbformat": 4,
 "nbformat_minor": 0
}
