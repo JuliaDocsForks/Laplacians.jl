{
 "cells": [
  {
   "cell_type": "code",
   "execution_count": 1,
   "metadata": {
    "collapsed": false
   },
   "outputs": [
    {
     "name": "stderr",
     "output_type": "stream",
     "text": [
      "objc[64492]: Class TKApplication is implemented in both /Users/serbanstan/anaconda/lib/libtk8.5.dylib and /System/Library/Frameworks/Tk.framework/Versions/8.5/Tk. One of the two will be used. Which one is undefined.\n",
      "objc[64492]: Class TKMenu is implemented in both /Users/serbanstan/anaconda/lib/libtk8.5.dylib and /System/Library/Frameworks/Tk.framework/Versions/8.5/Tk. One of the two will be used. Which one is undefined.\n",
      "objc[64492]: Class TKContentView is implemented in both /Users/serbanstan/anaconda/lib/libtk8.5.dylib and /System/Library/Frameworks/Tk.framework/Versions/8.5/Tk. One of the two will be used. Which one is undefined.\n",
      "objc[64492]: Class TKWindow is implemented in both /Users/serbanstan/anaconda/lib/libtk8.5.dylib and /System/Library/Frameworks/Tk.framework/Versions/8.5/Tk. One of the two will be used. Which one is undefined.\n"
     ]
    }
   ],
   "source": [
    "using Laplacians"
   ]
  },
  {
   "cell_type": "code",
   "execution_count": 2,
   "metadata": {
    "collapsed": false
   },
   "outputs": [],
   "source": [
    "n = 10000;\n",
    "a = wtedChimera(n,15); la = lap(a);\n",
    "b = rand(n); b = b - mean(b);"
   ]
  },
  {
   "cell_type": "markdown",
   "metadata": {},
   "source": [
    "### Sampling Solver"
   ]
  },
  {
   "cell_type": "code",
   "execution_count": 3,
   "metadata": {
    "collapsed": false
   },
   "outputs": [
    {
     "name": "stdout",
     "output_type": "stream",
     "text": [
      "  3.092698 seconds (4.32 M allocations: 255.624 MB, 2.54% gc time)\n",
      "  0.486406 seconds (1.93 M allocations: 88.423 MB, 4.64% gc time)\n"
     ]
    },
    {
     "data": {
      "text/plain": [
       "0.000990413014897165"
      ]
     },
     "execution_count": 3,
     "metadata": {},
     "output_type": "execute_result"
    }
   ],
   "source": [
    "@time f = samplingSolver(a, tol=1e-3, \n",
    "params=samplingParams(0.5,0.02,1e3,1000,20,false,false,false,1e-3));\n",
    "@time x = f(b);\n",
    "norm(la * x - b) / norm(b)"
   ]
  },
  {
   "cell_type": "markdown",
   "metadata": {},
   "source": [
    "### KMP Solver"
   ]
  },
  {
   "cell_type": "code",
   "execution_count": 4,
   "metadata": {
    "collapsed": false
   },
   "outputs": [
    {
     "name": "stdout",
     "output_type": "stream",
     "text": [
      "  1.353579 seconds (1.92 M allocations: 114.291 MB, 2.46% gc time)\n",
      "  0.397641 seconds (281.01 k allocations: 81.712 MB, 10.18% gc time)\n"
     ]
    },
    {
     "data": {
      "text/plain": [
       "0.0008940258012978597"
      ]
     },
     "execution_count": 4,
     "metadata": {},
     "output_type": "execute_result"
    }
   ],
   "source": [
    "@time f = KMPLapSolver(a, tol=1e-3);\n",
    "@time x = f(b);\n",
    "norm(la * x - b) / norm(b)"
   ]
  },
  {
   "cell_type": "markdown",
   "metadata": {},
   "source": [
    "### Hybrid Solver"
   ]
  },
  {
   "cell_type": "code",
   "execution_count": 5,
   "metadata": {
    "collapsed": false
   },
   "outputs": [
    {
     "name": "stdout",
     "output_type": "stream",
     "text": [
      "  1.805300 seconds (3.05 M allocations: 160.491 MB, 2.70% gc time)\n",
      "  0.190408 seconds (595.10 k allocations: 89.259 MB, 13.50% gc time)\n"
     ]
    },
    {
     "data": {
      "text/plain": [
       "0.0009238124864599873"
      ]
     },
     "execution_count": 5,
     "metadata": {},
     "output_type": "execute_result"
    }
   ],
   "source": [
    "sampParams = samplingParams(0.5,0.2,1.0,1000,20,false,false,false,1e-3)\n",
    "@time f = hybridLapSolver(a, tol=1e-3, params=hybridParams(1/100,6,:akpw,sampParams,));\n",
    "@time x = f(b);\n",
    "norm(la * x - b) / norm(b)"
   ]
  },
  {
   "cell_type": "markdown",
   "metadata": {},
   "source": [
    "### AugTree Solver"
   ]
  },
  {
   "cell_type": "code",
   "execution_count": 9,
   "metadata": {
    "collapsed": false
   },
   "outputs": [
    {
     "name": "stdout",
     "output_type": "stream",
     "text": [
      "  0.074919 seconds (230.06 k allocations: 37.801 MB, 15.38% gc time)\n",
      "  0.060586 seconds (8.82 k allocations: 42.465 MB, 11.14% gc time)\n"
     ]
    },
    {
     "data": {
      "text/plain": [
       "0.0009122293220608977"
      ]
     },
     "execution_count": 9,
     "metadata": {},
     "output_type": "execute_result"
    }
   ],
   "source": [
    "@time f = augTreeSolver(la + speye(n) * 1e-15, tol=1e-3);\n",
    "@time x = f(b);\n",
    "norm(la * x - b) / norm(b)"
   ]
  },
  {
   "cell_type": "markdown",
   "metadata": {},
   "source": [
    "### AMG Solver"
   ]
  },
  {
   "cell_type": "code",
   "execution_count": 10,
   "metadata": {
    "collapsed": false
   },
   "outputs": [
    {
     "name": "stdout",
     "output_type": "stream",
     "text": [
      "  0.042485 seconds (171 allocations: 875.563 KB)\n",
      "  0.959740 seconds (578.29 k allocations: 35.404 MB, 1.40% gc time)\n"
     ]
    },
    {
     "data": {
      "text/plain": [
       "0.0004357235068672713"
      ]
     },
     "execution_count": 10,
     "metadata": {},
     "output_type": "execute_result"
    }
   ],
   "source": [
    "@time f = AMGSolver(la, tol=1e-3);\n",
    "@time x = f(b);\n",
    "norm(la * x - b) / norm(b)"
   ]
  }
 ],
 "metadata": {
  "kernelspec": {
   "display_name": "Julia 0.4.6",
   "language": "julia",
   "name": "julia-0.4"
  },
  "language_info": {
   "file_extension": ".jl",
   "mimetype": "application/julia",
   "name": "julia",
   "version": "0.4.6"
  }
 },
 "nbformat": 4,
 "nbformat_minor": 0
}
