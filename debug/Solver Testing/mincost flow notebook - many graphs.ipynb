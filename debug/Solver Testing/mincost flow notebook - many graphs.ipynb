{
 "cells": [
  {
   "cell_type": "code",
   "execution_count": 1,
   "metadata": {
    "collapsed": true
   },
   "outputs": [],
   "source": [
    "using Laplacians"
   ]
  },
  {
   "cell_type": "code",
   "execution_count": 2,
   "metadata": {
    "collapsed": false
   },
   "outputs": [
    {
     "data": {
      "text/plain": [
       "\"/Users/serbanstan/git/Laplacians.jl/debug/Solver Testing\""
      ]
     },
     "execution_count": 2,
     "metadata": {},
     "output_type": "execute_result"
    }
   ],
   "source": [
    "pwd()"
   ]
  },
  {
   "cell_type": "code",
   "execution_count": 3,
   "metadata": {
    "collapsed": false
   },
   "outputs": [],
   "source": [
    "include(\"../../src/primalDualIPM.jl\");"
   ]
  },
  {
   "cell_type": "code",
   "execution_count": 4,
   "metadata": {
    "collapsed": false
   },
   "outputs": [
    {
     "data": {
      "text/plain": [
       "4-element Array{Function,1}:\n",
       " Laplacians.augTreeSolver    \n",
       " Laplacians.KMPSDDSolver     \n",
       " Laplacians.samplingSDDSolver\n",
       " Laplacians.AMGSolver        "
      ]
     },
     "execution_count": 4,
     "metadata": {},
     "output_type": "execute_result"
    }
   ],
   "source": [
    "solvers = [augTreeSolver, KMPSDDSolver, samplingSDDSolver, AMGSolver]"
   ]
  },
  {
   "cell_type": "code",
   "execution_count": 5,
   "metadata": {
    "collapsed": false
   },
   "outputs": [
    {
     "name": "stdout",
     "output_type": "stream",
     "text": [
      "elapsed time: 11.998283828 seconds\n",
      "elapsed time: 7.315041759 seconds\n",
      "elapsed time: 7.316607 seconds\n",
      "Method exceeded time set by user. Stopped after 12 iterations.\n",
      "elapsed time: 77.857497267 seconds\n",
      "Done for 1\n",
      "elapsed time: 7.776100888 seconds\n",
      "elapsed time: 6.089627398 seconds\n",
      "elapsed time: 7.769638209 seconds\n",
      "Method exceeded time set by user. Stopped after 15 iterations.\n",
      "elapsed time: 67.486531644 seconds\n",
      "Done for 2\n"
     ]
    }
   ],
   "source": [
    "n = 10000\n",
    "\n",
    "nlist = []\n",
    "ilist = []\n",
    "edges = []\n",
    "targetTol = []\n",
    "\n",
    "iters = [Array{Float64,1}(0) for s in solvers]\n",
    "precision = [Array{Float64,1}(0) for s in solvers]\n",
    "times = [Array{Float64,1}(0) for s in solvers]\n",
    "\n",
    "for i in 1:200\n",
    "    a = wtedChimera(n,i)\n",
    "    \n",
    "    Bt = -dirEdgeVertexMat(a);\n",
    "    Bt = Bt';\n",
    "    c1 = rand(size(Bt)[2]);\n",
    "    u = 0.25*ones(size(Bt)[2]);\n",
    "    b1 = 0.25*Bt*rand(size(Bt)[2]);\n",
    "\n",
    "    m = size(Bt)[2]\n",
    "    n = size(Bt)[1]\n",
    "    A = [Bt spzeros(n,m); speye(m) speye(m)];\n",
    "    b = [b1;u];\n",
    "    \n",
    "    push!(nlist, n)\n",
    "    push!(ilist, i)\n",
    "    push!(edges, nnz(a))\n",
    "    push!(targetTol, 1e-6)\n",
    "    \n",
    "    tmin = Inf\n",
    "    for si in 1:length(solvers)\n",
    "        solver = solvers[si]\n",
    "        \n",
    "        try\n",
    "            # we set 20s as the max time per solve\n",
    "            mysolver = (H -> lapWrapSolver(solver,H,tol=1e-8,maxits=1000,maxtime=20))\n",
    "            \n",
    "            tic()\n",
    "            (x1,y1,s1,numIter) = minCostFlow(Bt,b1,c1,u, lapSolver=mysolver, tol=1e-6, maxtime=(10*tmin));\n",
    "            push!(times[si], toc())\n",
    "            \n",
    "            tmin = min(tmin, times[si][end])\n",
    "            \n",
    "            push!(iters[si], numIter)\n",
    "            push!(precision[si], norm(A * x1 - b) / norm(b))\n",
    "        catch\n",
    "            push!(times[si], Inf)\n",
    "            push!(iters[si], Inf)\n",
    "            push!(precision[si], Inf)\n",
    "            \n",
    "            println(\"Error for \", i, \" and \", solver)\n",
    "        end\n",
    "    end\n",
    "    \n",
    "    println(\"Done for \", i)\n",
    "end"
   ]
  },
  {
   "cell_type": "code",
   "execution_count": 6,
   "metadata": {
    "collapsed": false
   },
   "outputs": [],
   "source": [
    "tab = [\"nlist\"; nlist]\n",
    "tab = [tab [\"ilist\"; ilist]]\n",
    "tab = [tab [\"edges\"; edges]]\n",
    "tab = [tab [\"targetTol\"; targetTol]]\n",
    "\n",
    "for i in 1:length(solvers)\n",
    "    name = split(string(solvers[i]), \".\")[2]\n",
    "\n",
    "    \n",
    "    tab = [tab [name * \"_runtime\"; times[i]]]\n",
    "    tab = [tab [name * \"_iterations\"; iters[i]]]\n",
    "    tab = [tab [name * \"_convergence\"; precision[i]]]\n",
    "end"
   ]
  },
  {
   "cell_type": "code",
   "execution_count": 7,
   "metadata": {
    "collapsed": false
   },
   "outputs": [],
   "source": [
    "fn = string(\"minFlowIPMResults.csv\");\n",
    "writecsv(fn,tab);"
   ]
  },
  {
   "cell_type": "code",
   "execution_count": null,
   "metadata": {
    "collapsed": true
   },
   "outputs": [],
   "source": []
  }
 ],
 "metadata": {
  "anaconda-cloud": {},
  "kernelspec": {
   "display_name": "Julia 0.4.6",
   "language": "julia",
   "name": "julia-0.4"
  },
  "language_info": {
   "file_extension": ".jl",
   "mimetype": "application/julia",
   "name": "julia",
   "version": "0.4.6"
  }
 },
 "nbformat": 4,
 "nbformat_minor": 0
}
