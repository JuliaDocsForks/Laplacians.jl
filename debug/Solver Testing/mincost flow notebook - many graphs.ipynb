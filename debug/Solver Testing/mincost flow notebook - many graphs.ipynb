{
 "cells": [
  {
   "cell_type": "code",
   "execution_count": 1,
   "metadata": {
    "collapsed": true
   },
   "outputs": [],
   "source": [
    "using Laplacians"
   ]
  },
  {
   "cell_type": "code",
   "execution_count": 2,
   "metadata": {
    "collapsed": false
   },
   "outputs": [
    {
     "data": {
      "text/plain": [
       "\"/Users/serbanstan/git/Laplacians.jl/debug/Solver Testing\""
      ]
     },
     "execution_count": 2,
     "metadata": {},
     "output_type": "execute_result"
    }
   ],
   "source": [
    "pwd()"
   ]
  },
  {
   "cell_type": "code",
   "execution_count": 3,
   "metadata": {
    "collapsed": false
   },
   "outputs": [],
   "source": [
    "include(\"../../src/primalDualIPM.jl\");"
   ]
  },
  {
   "cell_type": "code",
   "execution_count": 4,
   "metadata": {
    "collapsed": false
   },
   "outputs": [
    {
     "data": {
      "text/plain": [
       "4-element Array{Function,1}:\n",
       " Laplacians.augTreeSolver    \n",
       " Laplacians.KMPSDDSolver     \n",
       " Laplacians.samplingSDDSolver\n",
       " Laplacians.AMGSolver        "
      ]
     },
     "execution_count": 4,
     "metadata": {},
     "output_type": "execute_result"
    }
   ],
   "source": [
    "solvers = [augTreeSolver, KMPSDDSolver, samplingSDDSolver, AMGSolver]"
   ]
  },
  {
   "cell_type": "code",
   "execution_count": null,
   "metadata": {
    "collapsed": false
   },
   "outputs": [
    {
     "name": "stdout",
     "output_type": "stream",
     "text": [
      "elapsed time: 9.951754705 seconds\n",
      "elapsed time: 9.553145114 seconds\n",
      "elapsed time: 6.670870856 seconds\n",
      "elapsed time: 21.749794858 seconds\n",
      "Done for 1\n",
      "elapsed time: 1.620957936 seconds\n",
      "elapsed time: 1.262048678 seconds\n",
      "elapsed time: 1.759752057 seconds\n",
      "elapsed time: 20.164783541 seconds\n",
      "Done for 2\n",
      "elapsed time: 5.453728366 seconds\n",
      "elapsed time: 5.062706715 seconds\n",
      "elapsed time: 7.942506821 seconds\n",
      "Error for 3 and Laplacians.AMGSolverDone for 3\n",
      "elapsed time: "
     ]
    }
   ],
   "source": [
    "n = 3000\n",
    "\n",
    "curSolver = []\n",
    "time = []\n",
    "edges = []\n",
    "iters = []\n",
    "precision = []\n",
    "\n",
    "for i in 1:100\n",
    "    a = wtedChimera(n,i)\n",
    "    \n",
    "    Bt = -dirEdgeVertexMat(a);\n",
    "    Bt = Bt';\n",
    "    c1 = rand(size(Bt)[2]);\n",
    "    u = 0.25*ones(size(Bt)[2]);\n",
    "    b1 = 0.25*Bt*rand(size(Bt)[2]);\n",
    "\n",
    "    m = size(Bt)[2]\n",
    "    n = size(Bt)[1]\n",
    "    A = [Bt spzeros(n,m); speye(m) speye(m)];\n",
    "    b = [b1;u];\n",
    "    \n",
    "    for solver in solvers\n",
    "        try\n",
    "            mysolver = (H -> lapWrapSolver(solver,H,tol=1e-8,maxits=1000,maxtime=20))\n",
    "            tic()\n",
    "            (x1,y1,s1,numIter) = minCostFlow(Bt,b1,c1,u; lapSolver=mysolver, tol = 1e-6);\n",
    "\n",
    "            push!(time, toc())\n",
    "            push!(curSolver, solver)\n",
    "            push!(edges, nnz(a))\n",
    "            push!(iters, numIter)\n",
    "            push!(precision, norm(A * x1 - b) / norm(b))\n",
    "        catch\n",
    "            print(\"Error for \", i, \" and \", solver)\n",
    "        end\n",
    "    end\n",
    "    \n",
    "    println(\"Done for \", i)\n",
    "end"
   ]
  },
  {
   "cell_type": "code",
   "execution_count": null,
   "metadata": {
    "collapsed": true
   },
   "outputs": [],
   "source": []
  }
 ],
 "metadata": {
  "anaconda-cloud": {},
  "kernelspec": {
   "display_name": "Julia 0.4.6",
   "language": "julia",
   "name": "julia-0.4"
  },
  "language_info": {
   "file_extension": ".jl",
   "mimetype": "application/julia",
   "name": "julia",
   "version": "0.4.6"
  }
 },
 "nbformat": 4,
 "nbformat_minor": 0
}
