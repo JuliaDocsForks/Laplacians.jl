{
 "cells": [
  {
   "cell_type": "code",
   "execution_count": 1,
   "metadata": {
    "collapsed": false
   },
   "outputs": [
    {
     "name": "stderr",
     "output_type": "stream",
     "text": [
      "objc[48083]: Class TKApplication is implemented in both /Users/serbanstan/anaconda/lib/libtk8.5.dylib and /System/Library/Frameworks/Tk.framework/Versions/8.5/Tk. One of the two will be used. Which one is undefined.\n",
      "objc[48083]: Class TKMenu is implemented in both /Users/serbanstan/anaconda/lib/libtk8.5.dylib and /System/Library/Frameworks/Tk.framework/Versions/8.5/Tk. One of the two will be used. Which one is undefined.\n",
      "objc[48083]: Class TKContentView is implemented in both /Users/serbanstan/anaconda/lib/libtk8.5.dylib and /System/Library/Frameworks/Tk.framework/Versions/8.5/Tk. One of the two will be used. Which one is undefined.\n",
      "objc[48083]: Class TKWindow is implemented in both /Users/serbanstan/anaconda/lib/libtk8.5.dylib and /System/Library/Frameworks/Tk.framework/Versions/8.5/Tk. One of the two will be used. Which one is undefined.\n"
     ]
    }
   ],
   "source": [
    "using Laplacians"
   ]
  },
  {
   "cell_type": "code",
   "execution_count": 2,
   "metadata": {
    "collapsed": false
   },
   "outputs": [
    {
     "data": {
      "text/plain": [
       "1024"
      ]
     },
     "execution_count": 2,
     "metadata": {},
     "output_type": "execute_result"
    }
   ],
   "source": [
    "set_bigfloat_precision(1024)"
   ]
  },
  {
   "cell_type": "code",
   "execution_count": 66,
   "metadata": {
    "collapsed": false
   },
   "outputs": [
    {
     "data": {
      "text/plain": [
       "300"
      ]
     },
     "execution_count": 66,
     "metadata": {},
     "output_type": "execute_result"
    }
   ],
   "source": [
    "u = Array{Int64,1}(0)\n",
    "v = Array{Int64,1}(0)\n",
    "w = Array{Float64,1}(0)\n",
    "\n",
    "n = 200\n",
    "for i in 1:(n-1)\n",
    "    val = rand() * 10^9;\n",
    "    \n",
    "    push!(u, i)\n",
    "    push!(v, i+1)\n",
    "    push!(w, val)\n",
    "    \n",
    "    push!(u, i+1)\n",
    "    push!(v, i)\n",
    "    push!(w, val)\n",
    "end\n",
    "\n",
    "utree = Array{Int64,1}(0)\n",
    "vtree = Array{Int64,1}(0)\n",
    "wtree = Array{Float64,1}(0)\n",
    "\n",
    "extra = n\n",
    "for i in 1:(n-1)\n",
    "    if i % 2 == 1\n",
    "        extra = extra + 1\n",
    "        \n",
    "        push!(u, i)\n",
    "        push!(v, extra)\n",
    "        push!(w, 1)\n",
    "        \n",
    "        push!(u, extra)\n",
    "        push!(v, i)\n",
    "        push!(w, 1)\n",
    "        \n",
    "        push!(u, i + 1)\n",
    "        push!(v, extra)\n",
    "        push!(w, 1)\n",
    "        \n",
    "        push!(u, extra)\n",
    "        push!(v, i + 1)\n",
    "        push!(w, 1)\n",
    "        \n",
    "        \n",
    "        \n",
    "        \n",
    "        \n",
    "        push!(utree, i)\n",
    "        push!(vtree, extra)\n",
    "        push!(wtree, 1)\n",
    "        \n",
    "        push!(utree, extra)\n",
    "        push!(vtree, i)\n",
    "        push!(wtree, 1)\n",
    "        \n",
    "        push!(utree, i + 1)\n",
    "        push!(vtree, extra)\n",
    "        push!(wtree, 1)\n",
    "        \n",
    "        push!(utree, extra)\n",
    "        push!(vtree, i + 1)\n",
    "        push!(wtree, 1)\n",
    "    end\n",
    "end\n",
    "\n",
    "a = sparse(u,v,w); la = lap(a);\n",
    "tree = lap(sparse(utree,vtree,wtree));\n",
    "n = a.n"
   ]
  },
  {
   "cell_type": "code",
   "execution_count": 67,
   "metadata": {
    "collapsed": false
   },
   "outputs": [],
   "source": [
    "# n = 1250;\n",
    "# a = chimera(n,44); la = lap(a);\n",
    "x = rand(n);\n",
    "b = la * x; b = b - mean(b);"
   ]
  },
  {
   "cell_type": "code",
   "execution_count": 68,
   "metadata": {
    "collapsed": false
   },
   "outputs": [],
   "source": [
    "srand(1)\n",
    "# tree = lap(akpw(a)); \n",
    "cf = cholfact(tree,shift=1e-7);\n",
    "p = cf[:p]\n",
    "invp = invperm(p)\n",
    "L = sparse(cf[:L])\n",
    "U = L';"
   ]
  },
  {
   "cell_type": "code",
   "execution_count": 69,
   "metadata": {
    "collapsed": false
   },
   "outputs": [
    {
     "data": {
      "text/plain": [
       "(anonymous function)"
      ]
     },
     "execution_count": 69,
     "metadata": {},
     "output_type": "execute_result"
    }
   ],
   "source": [
    "F = function(b)\n",
    "    return cf \\ (b - mean(b))\n",
    "end"
   ]
  },
  {
   "cell_type": "code",
   "execution_count": 70,
   "metadata": {
    "collapsed": false
   },
   "outputs": [
    {
     "name": "stdout",
     "output_type": "stream",
     "text": [
      "PCG stopped after: 2101 iterations with relative error 8.847073924930903e-8.\n",
      "  0.099173 seconds (51.93 k allocations: 54.770 MB, 17.88% gc time)\n"
     ]
    }
   ],
   "source": [
    "@time f = pcg(la, b, F, tol=1e-7, verbose=true);"
   ]
  },
  {
   "cell_type": "code",
   "execution_count": 71,
   "metadata": {
    "collapsed": false
   },
   "outputs": [
    {
     "data": {
      "text/plain": [
       "to1024 (generic function with 2 methods)"
      ]
     },
     "execution_count": 71,
     "metadata": {},
     "output_type": "execute_result"
    }
   ],
   "source": [
    "function to1024{Tv,Ti}(mat::SparseMatrixCSC{Tv,Ti})\n",
    "    u,v,w = findnz(mat)\n",
    "    w1024 = Array{BigFloat,1}(0)\n",
    "    for val in w\n",
    "        push!(w1024, BigFloat(val))\n",
    "    end\n",
    "    return sparse(u,v,w1024)\n",
    "end\n",
    "\n",
    "function to1024{Tv}(v::Array{Tv,1})\n",
    "    res = Array{BigFloat,1}(0)\n",
    "    for val in v\n",
    "        push!(res, BigFloat(val))\n",
    "    end\n",
    "    return res\n",
    "end"
   ]
  },
  {
   "cell_type": "code",
   "execution_count": 72,
   "metadata": {
    "collapsed": false
   },
   "outputs": [],
   "source": [
    "la1024 = to1024(la)\n",
    "U1024 = UpperTriangular(to1024(U))\n",
    "b1024 = to1024(b);"
   ]
  },
  {
   "cell_type": "code",
   "execution_count": 73,
   "metadata": {
    "collapsed": false
   },
   "outputs": [
    {
     "data": {
      "text/plain": [
       "(anonymous function)"
      ]
     },
     "execution_count": 73,
     "metadata": {},
     "output_type": "execute_result"
    }
   ],
   "source": [
    "F1024 = function(b::Array{BigFloat,1})\n",
    "    res = (copy(b) - mean(b))[p]\n",
    "\n",
    "    res = U1024' \\ res\n",
    "    res = U1024 \\ res\n",
    "\n",
    "    return res[invp]\n",
    "end"
   ]
  },
  {
   "cell_type": "code",
   "execution_count": 74,
   "metadata": {
    "collapsed": false
   },
   "outputs": [
    {
     "name": "stdout",
     "output_type": "stream",
     "text": [
      "PCG stopped after: 371 iterations with relative error 9.218965260662450393247146629134324175787506136521877774486824038320657017029347043142194791503024840659829206314570551513338007909889076358317005934377191068548975882311329024460166770105719385594613151004744684761301024876003008621300428915566358188356552402594873659272756447198457175441897061874764473362993e-04.\n",
      " 29.111861 seconds (158.48 M allocations: 9.851 GB, 42.44% gc time)\n"
     ]
    }
   ],
   "source": [
    "@time f = pcg(la1024, b1024, F1024, tol=1e-3, verbose=true);"
   ]
  },
  {
   "cell_type": "code",
   "execution_count": null,
   "metadata": {
    "collapsed": true
   },
   "outputs": [],
   "source": []
  }
 ],
 "metadata": {
  "kernelspec": {
   "display_name": "Julia 0.4.6",
   "language": "julia",
   "name": "julia-0.4"
  },
  "language_info": {
   "file_extension": ".jl",
   "mimetype": "application/julia",
   "name": "julia",
   "version": "0.4.6"
  }
 },
 "nbformat": 4,
 "nbformat_minor": 0
}
