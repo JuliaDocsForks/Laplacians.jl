{
 "cells": [
  {
   "cell_type": "code",
   "execution_count": 1,
   "metadata": {
    "collapsed": false
   },
   "outputs": [
    {
     "name": "stderr",
     "output_type": "stream",
     "text": [
      "objc[44522]: Class TKApplication is implemented in both /Users/serbanstan/anaconda/lib/libtk8.5.dylib and /System/Library/Frameworks/Tk.framework/Versions/8.5/Tk. One of the two will be used. Which one is undefined.\n",
      "objc[44522]: Class TKMenu is implemented in both /Users/serbanstan/anaconda/lib/libtk8.5.dylib and /System/Library/Frameworks/Tk.framework/Versions/8.5/Tk. One of the two will be used. Which one is undefined.\n",
      "objc[44522]: Class TKContentView is implemented in both /Users/serbanstan/anaconda/lib/libtk8.5.dylib and /System/Library/Frameworks/Tk.framework/Versions/8.5/Tk. One of the two will be used. Which one is undefined.\n",
      "objc[44522]: Class TKWindow is implemented in both /Users/serbanstan/anaconda/lib/libtk8.5.dylib and /System/Library/Frameworks/Tk.framework/Versions/8.5/Tk. One of the two will be used. Which one is undefined.\n"
     ]
    }
   ],
   "source": [
    "using Laplacians"
   ]
  },
  {
   "cell_type": "code",
   "execution_count": 2,
   "metadata": {
    "collapsed": false
   },
   "outputs": [
    {
     "data": {
      "text/plain": [
       "1024"
      ]
     },
     "execution_count": 2,
     "metadata": {},
     "output_type": "execute_result"
    }
   ],
   "source": [
    "set_bigfloat_precision(1024)"
   ]
  },
  {
   "cell_type": "code",
   "execution_count": 34,
   "metadata": {
    "collapsed": true
   },
   "outputs": [],
   "source": [
    "n = 1250;\n",
    "a = chimera(n,44); la = lap(a);\n",
    "x = rand(n);\n",
    "b = la * x; b = b - mean(b);"
   ]
  },
  {
   "cell_type": "code",
   "execution_count": 35,
   "metadata": {
    "collapsed": false
   },
   "outputs": [],
   "source": [
    "srand(1)\n",
    "tree = lap(akpw(a)); \n",
    "cf = cholfact(tree,shift=1e-15);\n",
    "p = cf[:p]\n",
    "invp = invperm(p)\n",
    "L = sparse(cf[:L])\n",
    "U = L';"
   ]
  },
  {
   "cell_type": "code",
   "execution_count": 36,
   "metadata": {
    "collapsed": false
   },
   "outputs": [
    {
     "data": {
      "text/plain": [
       "(anonymous function)"
      ]
     },
     "execution_count": 36,
     "metadata": {},
     "output_type": "execute_result"
    }
   ],
   "source": [
    "F = function(b)\n",
    "    return cf \\ (b - mean(b))\n",
    "end"
   ]
  },
  {
   "cell_type": "code",
   "execution_count": 37,
   "metadata": {
    "collapsed": false
   },
   "outputs": [
    {
     "name": "stdout",
     "output_type": "stream",
     "text": [
      "PCG stopped after: 28 iterations with relative error 0.08917886584058253.\n",
      "  0.006768 seconds (919 allocations: 2.979 MB)\n"
     ]
    }
   ],
   "source": [
    "@time f = pcg(la, b, F, tol=1e-1, verbose=true);"
   ]
  },
  {
   "cell_type": "code",
   "execution_count": 38,
   "metadata": {
    "collapsed": false
   },
   "outputs": [
    {
     "data": {
      "text/plain": [
       "to1024 (generic function with 2 methods)"
      ]
     },
     "execution_count": 38,
     "metadata": {},
     "output_type": "execute_result"
    }
   ],
   "source": [
    "function to1024{Tv,Ti}(mat::SparseMatrixCSC{Tv,Ti})\n",
    "    u,v,w = findnz(mat)\n",
    "    w1024 = Array{BigFloat,1}(0)\n",
    "    for val in w\n",
    "        push!(w1024, BigFloat(val))\n",
    "    end\n",
    "    return sparse(u,v,w1024)\n",
    "end\n",
    "\n",
    "function to1024{Tv}(v::Array{Tv,1})\n",
    "    res = Array{BigFloat,1}(0)\n",
    "    for val in v\n",
    "        push!(res, BigFloat(val))\n",
    "    end\n",
    "    return res\n",
    "end"
   ]
  },
  {
   "cell_type": "code",
   "execution_count": 39,
   "metadata": {
    "collapsed": false
   },
   "outputs": [],
   "source": [
    "la1024 = to1024(la)\n",
    "U1024 = UpperTriangular(to1024(U))\n",
    "b1024 = to1024(b);"
   ]
  },
  {
   "cell_type": "code",
   "execution_count": 40,
   "metadata": {
    "collapsed": false
   },
   "outputs": [
    {
     "data": {
      "text/plain": [
       "(anonymous function)"
      ]
     },
     "execution_count": 40,
     "metadata": {},
     "output_type": "execute_result"
    }
   ],
   "source": [
    "F1024 = function(b::Array{BigFloat,1})\n",
    "    res = (copy(b) - mean(b))[p]\n",
    "\n",
    "    res = U1024' \\ res\n",
    "    res = U1024 \\ res\n",
    "\n",
    "    return res[invp]\n",
    "end"
   ]
  },
  {
   "cell_type": "code",
   "execution_count": 41,
   "metadata": {
    "collapsed": false
   },
   "outputs": [
    {
     "name": "stdout",
     "output_type": "stream",
     "text": [
      "PCG stopped after: 25 iterations with relative error 9.269389465694072485985781903153963402614951052108239043860994925138819148495447332827251563655621499317190359215691082440522056765280922915835569081871240504540613254748629253398530324824666742509384580906655045361732608146185248975495378433839614700876854422087438410906868465751089805144162611329514596869406e-02.\n",
      " 35.821287 seconds (178.37 M allocations: 11.078 GB, 43.02% gc time)\n"
     ]
    }
   ],
   "source": [
    "@time f = pcg(la1024, b1024, F1024, tol=1e-1, verbose=true);"
   ]
  },
  {
   "cell_type": "code",
   "execution_count": null,
   "metadata": {
    "collapsed": true
   },
   "outputs": [],
   "source": []
  }
 ],
 "metadata": {
  "kernelspec": {
   "display_name": "Julia 0.4.6",
   "language": "julia",
   "name": "julia-0.4"
  },
  "language_info": {
   "file_extension": ".jl",
   "mimetype": "application/julia",
   "name": "julia",
   "version": "0.4.6"
  }
 },
 "nbformat": 4,
 "nbformat_minor": 0
}
