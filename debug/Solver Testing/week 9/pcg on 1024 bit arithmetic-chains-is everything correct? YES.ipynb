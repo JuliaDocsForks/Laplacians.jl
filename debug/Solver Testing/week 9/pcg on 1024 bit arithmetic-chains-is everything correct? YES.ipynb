{
 "cells": [
  {
   "cell_type": "code",
   "execution_count": 1,
   "metadata": {
    "collapsed": false
   },
   "outputs": [
    {
     "name": "stderr",
     "output_type": "stream",
     "text": [
      "objc[51879]: Class TKApplication is implemented in both /Users/serbanstan/anaconda/lib/libtk8.5.dylib and /System/Library/Frameworks/Tk.framework/Versions/8.5/Tk. One of the two will be used. Which one is undefined.\n",
      "objc[51879]: Class TKMenu is implemented in both /Users/serbanstan/anaconda/lib/libtk8.5.dylib and /System/Library/Frameworks/Tk.framework/Versions/8.5/Tk. One of the two will be used. Which one is undefined.\n",
      "objc[51879]: Class TKContentView is implemented in both /Users/serbanstan/anaconda/lib/libtk8.5.dylib and /System/Library/Frameworks/Tk.framework/Versions/8.5/Tk. One of the two will be used. Which one is undefined.\n",
      "objc[51879]: Class TKWindow is implemented in both /Users/serbanstan/anaconda/lib/libtk8.5.dylib and /System/Library/Frameworks/Tk.framework/Versions/8.5/Tk. One of the two will be used. Which one is undefined.\n"
     ]
    }
   ],
   "source": [
    "using Laplacians"
   ]
  },
  {
   "cell_type": "code",
   "execution_count": 2,
   "metadata": {
    "collapsed": false
   },
   "outputs": [
    {
     "data": {
      "text/plain": [
       "1024"
      ]
     },
     "execution_count": 2,
     "metadata": {},
     "output_type": "execute_result"
    }
   ],
   "source": [
    "set_bigfloat_precision(1024)"
   ]
  },
  {
   "cell_type": "code",
   "execution_count": 4,
   "metadata": {
    "collapsed": false
   },
   "outputs": [],
   "source": [
    "u = Array{Int64,1}(0)\n",
    "v = Array{Int64,1}(0)\n",
    "w = Array{Float64,1}(0)\n",
    "\n",
    "n = 1000\n",
    "for i in 1:(n-1)\n",
    "    push!(u, i)\n",
    "    push!(v, i+1)\n",
    "    push!(w, 1.0)\n",
    "    \n",
    "    push!(u, i+1)\n",
    "    push!(v, i)\n",
    "    push!(w, 1.0)\n",
    "end\n",
    "\n",
    "valpool = rand() * exp(20 * rand(n));\n",
    "\n",
    "for i in 1:(n-2)\n",
    "    if i % 3 == 1\n",
    "        val = valpool[i]\n",
    "#        println(val)\n",
    "        \n",
    "        push!(u, i)\n",
    "        push!(v, i+2)\n",
    "        push!(w, val)\n",
    "        \n",
    "        push!(u, i+2)\n",
    "        push!(v, i)\n",
    "        push!(w, val)\n",
    "    end\n",
    "end\n",
    "\n",
    "a = sparse(u,v,w); la = lap(a); n = a.n;\n",
    "\n",
    "utree = collect(1:(n-1))\n",
    "append!(utree, collect(2:n))\n",
    "\n",
    "vtree = collect(2:n)\n",
    "append!(vtree, collect(1:(n-1)))\n",
    "\n",
    "wtree = ones(2 * n - 2)\n",
    "tree = lap(sparse(utree,vtree,wtree));"
   ]
  },
  {
   "cell_type": "code",
   "execution_count": 24,
   "metadata": {
    "collapsed": false
   },
   "outputs": [
    {
     "data": {
      "text/plain": [
       "5.194406658622964e9"
      ]
     },
     "execution_count": 24,
     "metadata": {},
     "output_type": "execute_result"
    }
   ],
   "source": [
    "adjt = adj(tree)[1]\n",
    "sum(compStretches(adjt, a).nzval)"
   ]
  },
  {
   "cell_type": "code",
   "execution_count": 15,
   "metadata": {
    "collapsed": false
   },
   "outputs": [
    {
     "data": {
      "text/plain": [
       "stretchSample (generic function with 1 method)"
      ]
     },
     "execution_count": 15,
     "metadata": {},
     "output_type": "execute_result"
    }
   ],
   "source": [
    "include(\"../../../src/KMPSolver.jl\")"
   ]
  },
  {
   "cell_type": "code",
   "execution_count": 29,
   "metadata": {
    "collapsed": false
   },
   "outputs": [
    {
     "data": {
      "text/plain": [
       "1"
      ]
     },
     "execution_count": 29,
     "metadata": {},
     "output_type": "execute_result"
    }
   ],
   "source": [
    "maximum(components(adjt)')"
   ]
  },
  {
   "cell_type": "code",
   "execution_count": 30,
   "metadata": {
    "collapsed": false
   },
   "outputs": [
    {
     "data": {
      "text/plain": [
       "1"
      ]
     },
     "execution_count": 30,
     "metadata": {},
     "output_type": "execute_result"
    }
   ],
   "source": [
    "maximum(components(a)')"
   ]
  },
  {
   "cell_type": "code",
   "execution_count": null,
   "metadata": {
    "collapsed": true
   },
   "outputs": [],
   "source": []
  }
 ],
 "metadata": {
  "kernelspec": {
   "display_name": "Julia 0.4.6",
   "language": "julia",
   "name": "julia-0.4"
  },
  "language_info": {
   "file_extension": ".jl",
   "mimetype": "application/julia",
   "name": "julia",
   "version": "0.4.6"
  }
 },
 "nbformat": 4,
 "nbformat_minor": 0
}
