{
 "cells": [
  {
   "cell_type": "code",
   "execution_count": 1,
   "metadata": {
    "collapsed": false
   },
   "outputs": [
    {
     "name": "stderr",
     "output_type": "stream",
     "text": [
      "objc[12379]: Class TKApplication is implemented in both /Users/serbanstan/anaconda/lib/libtk8.5.dylib and /System/Library/Frameworks/Tk.framework/Versions/8.5/Tk. One of the two will be used. Which one is undefined.\n",
      "objc[12379]: Class TKMenu is implemented in both /Users/serbanstan/anaconda/lib/libtk8.5.dylib and /System/Library/Frameworks/Tk.framework/Versions/8.5/Tk. One of the two will be used. Which one is undefined.\n",
      "objc[12379]: Class TKContentView is implemented in both /Users/serbanstan/anaconda/lib/libtk8.5.dylib and /System/Library/Frameworks/Tk.framework/Versions/8.5/Tk. One of the two will be used. Which one is undefined.\n",
      "objc[12379]: Class TKWindow is implemented in both /Users/serbanstan/anaconda/lib/libtk8.5.dylib and /System/Library/Frameworks/Tk.framework/Versions/8.5/Tk. One of the two will be used. Which one is undefined.\n"
     ]
    }
   ],
   "source": [
    "using Laplacians"
   ]
  },
  {
   "cell_type": "code",
   "execution_count": 2,
   "metadata": {
    "collapsed": false
   },
   "outputs": [
    {
     "data": {
      "text/plain": [
       "checkError (generic function with 1 method)"
      ]
     },
     "execution_count": 2,
     "metadata": {},
     "output_type": "execute_result"
    }
   ],
   "source": [
    "include(\"../../../src/samplingSolver.jl\")"
   ]
  },
  {
   "cell_type": "code",
   "execution_count": 3,
   "metadata": {
    "collapsed": true
   },
   "outputs": [],
   "source": [
    "n = 100000;\n",
    "a = chimera(n,23);\n",
    "b = rand(n); b = b - mean(b);"
   ]
  },
  {
   "cell_type": "code",
   "execution_count": 5,
   "metadata": {
    "collapsed": false
   },
   "outputs": [
    {
     "name": "stdout",
     "output_type": "stream",
     "text": [
      "rho = 10.603796220956797\n",
      "Initial number of multiedges = 2228495 . Nonzeros in a = 675524\n",
      "Average number of multiedges = 3.298911681465513\n",
      "Maximum number of multiedges = 10.603796220956797\n",
      "Time to build the tree and compute the stretch: elapsed time: 0.939158761 seconds\n",
      "From last checkpoint until 50000 we have elapsed time: 0.37532572 seconds\n",
      "From last checkpoint until 66667 we have elapsed time: 0.180676416 seconds\n",
      "From last checkpoint until 75000 we have elapsed time: 0.107700316 seconds\n",
      "From last checkpoint until 87500 we have elapsed time: 0.246949617 seconds\n",
      "From last checkpoint until 92308 we have elapsed time: 0.11438088 seconds\n",
      "From last checkpoint until 95000 we have elapsed time: 0.14698177 seconds\n",
      "From last checkpoint until 98361 we have elapsed time: 0.137734932 seconds\n",
      "From last checkpoint until 99999 we have elapsed time: 0.073723012 seconds\n",
      "\n",
      "The total size of the linked list data structure should be at most 5288864\n",
      "The actual size is 2156400\n",
      "\n",
      "nnz in U matrix: 1668837\n",
      "  3.217158 seconds (16.54 M allocations: 1.401 GB, 18.70% gc time)\n"
     ]
    },
    {
     "data": {
      "text/plain": [
       "0.693957362986164"
      ]
     },
     "execution_count": 5,
     "metadata": {},
     "output_type": "execute_result"
    }
   ],
   "source": [
    "@time f,gOp,U,d,ord,cn,cntime = buildSolver(a, eps = 0.5, sampConst = 0.02, beta = (1e3)-50, verbose=true);\n",
    "checkError(gOp)"
   ]
  },
  {
   "cell_type": "code",
   "execution_count": 6,
   "metadata": {
    "collapsed": true
   },
   "outputs": [],
   "source": [
    "n = 100000;\n",
    "a = chimera(n,19);\n",
    "b = rand(n); b = b - mean(b);"
   ]
  },
  {
   "cell_type": "code",
   "execution_count": 7,
   "metadata": {
    "collapsed": false
   },
   "outputs": [
    {
     "name": "stdout",
     "output_type": "stream",
     "text": [
      "rho = 10.603796220956797\n",
      "Initial number of multiedges = 2127235 . Nonzeros in a = 227240\n",
      "Average number of multiedges = 9.361181687792781\n",
      "Maximum number of multiedges = 10.603796220956797\n",
      "Time to build the tree and compute the stretch: elapsed time: 0.356281564 seconds\n",
      "From last checkpoint until 50000 we have elapsed time: 0.179623994 seconds\n",
      "From last checkpoint until 66667 we have elapsed time: 0.064426331 seconds\n",
      "From last checkpoint until 75000 we have elapsed time: 0.017271234 seconds\n",
      "From last checkpoint until 87500 we have elapsed time: 0.036751563 seconds\n",
      "From last checkpoint until 92308 we have elapsed time: 0.014189333 seconds\n",
      "From last checkpoint until 95000 we have elapsed time: 0.005834521 seconds\n",
      "From last checkpoint until 98361 we have elapsed time: 0.007357202 seconds\n",
      "From last checkpoint until 99999 we have elapsed time: 0.013818284 seconds\n",
      "\n",
      "The total size of the linked list data structure should be at most 5187604\n",
      "The actual size is 2156400\n",
      "\n",
      "nnz in U matrix: 249541\n",
      "  1.090433 seconds (5.30 M allocations: 611.463 MB, 23.49% gc time)\n"
     ]
    },
    {
     "data": {
      "text/plain": [
       "1.4357801751883332"
      ]
     },
     "execution_count": 7,
     "metadata": {},
     "output_type": "execute_result"
    }
   ],
   "source": [
    "@time f,gOp,U,d,ord,cn,cntime = buildSolver(a, eps = 0.5, sampConst = 0.02, beta = (1e3)-50, verbose=true);\n",
    "checkError(gOp)"
   ]
  },
  {
   "cell_type": "code",
   "execution_count": 8,
   "metadata": {
    "collapsed": true
   },
   "outputs": [],
   "source": [
    "n = 100000;\n",
    "a = chimera(n,44);\n",
    "b = rand(n); b = b - mean(b);"
   ]
  },
  {
   "cell_type": "code",
   "execution_count": 9,
   "metadata": {
    "collapsed": false
   },
   "outputs": [
    {
     "name": "stdout",
     "output_type": "stream",
     "text": [
      "rho = 10.603796220956797\n",
      "Initial number of multiedges = 2230446 . Nonzeros in a = 799966\n",
      "Average number of multiedges = 2.788175502881571\n",
      "Maximum number of multiedges = 10.603796220956797\n",
      "Time to build the tree and compute the stretch: elapsed time: 1.171425864 seconds\n",
      "From last checkpoint until 50000 we have elapsed time: 0.415695992 seconds\n",
      "From last checkpoint until 66667 we have elapsed time: 0.163830211 seconds\n",
      "From last checkpoint until 75000 we have elapsed time: 0.096612296 seconds\n",
      "From last checkpoint until 87500 we have elapsed time: 0.163465639 seconds\n",
      "From last checkpoint until 92308 we have elapsed time: 0.109127787 seconds\n",
      "From last checkpoint until 95000 we have elapsed time: 0.065891161 seconds\n",
      "From last checkpoint until 98361 we have elapsed time: 0.058185531 seconds\n",
      "From last checkpoint until 99999 we have elapsed time: 0.028923658 seconds\n",
      "\n",
      "The total size of the linked list data structure should be at most 5290815\n",
      "The actual size is 2156400\n",
      "\n",
      "nnz in U matrix: 1435816\n",
      "  3.049412 seconds (15.74 M allocations: 1.387 GB, 23.16% gc time)\n"
     ]
    },
    {
     "data": {
      "text/plain": [
       "0.7478996822115149"
      ]
     },
     "execution_count": 9,
     "metadata": {},
     "output_type": "execute_result"
    }
   ],
   "source": [
    "@time f,gOp,U,d,ord,cn,cntime = buildSolver(a, eps = 0.5, sampConst = 0.02, beta = (1e3)-50, verbose=true);\n",
    "checkError(gOp)"
   ]
  },
  {
   "cell_type": "code",
   "execution_count": 10,
   "metadata": {
    "collapsed": true
   },
   "outputs": [],
   "source": [
    "n = 100000;\n",
    "a = wtedChimera(n,4);\n",
    "b = rand(n); b = b - mean(b);"
   ]
  },
  {
   "cell_type": "code",
   "execution_count": 11,
   "metadata": {
    "collapsed": false
   },
   "outputs": [
    {
     "name": "stdout",
     "output_type": "stream",
     "text": [
      "rho = 10.603796220956797\n",
      "Initial number of multiedges = 2138470 . Nonzeros in a = 450130\n",
      "Average number of multiedges = 4.750781614341922\n",
      "Maximum number of multiedges = 10.603796220956797\n",
      "Time to build the tree and compute the stretch: elapsed time: 0.80767921 seconds\n",
      "From last checkpoint until 50000 we have elapsed time: 0.20970387 seconds\n",
      "From last checkpoint until 66667 we have elapsed time: 0.078703879 seconds\n",
      "From last checkpoint until 75000 we have elapsed time: 0.034885113 seconds\n",
      "From last checkpoint until 87500 we have elapsed time: 0.065250335 seconds\n",
      "From last checkpoint until 92308 we have elapsed time: 0.025155445 seconds\n",
      "From last checkpoint until 95000 we have elapsed time: 0.009118464 seconds\n",
      "From last checkpoint until 98361 we have elapsed time: 0.02707211 seconds\n",
      "From last checkpoint until 99999 we have elapsed time: 0.00598042 seconds\n",
      "\n",
      "The total size of the linked list data structure should be at most 5198839\n",
      "The actual size is 2156400\n",
      "\n",
      "nnz in U matrix: 456833\n",
      "  1.757192 seconds (7.30 M allocations: 803.672 MB, 18.26% gc time)\n"
     ]
    },
    {
     "data": {
      "text/plain": [
       "0.5841952026162773"
      ]
     },
     "execution_count": 11,
     "metadata": {},
     "output_type": "execute_result"
    }
   ],
   "source": [
    "@time f,gOp,U,d,ord,cn,cntime = buildSolver(a, eps = 0.5, sampConst = 0.02, beta = (1e3)-50, verbose=true);\n",
    "checkError(gOp)"
   ]
  },
  {
   "cell_type": "code",
   "execution_count": null,
   "metadata": {
    "collapsed": true
   },
   "outputs": [],
   "source": []
  }
 ],
 "metadata": {
  "kernelspec": {
   "display_name": "Julia 0.4.6",
   "language": "julia",
   "name": "julia-0.4"
  },
  "language_info": {
   "file_extension": ".jl",
   "mimetype": "application/julia",
   "name": "julia",
   "version": "0.4.6"
  }
 },
 "nbformat": 4,
 "nbformat_minor": 0
}
