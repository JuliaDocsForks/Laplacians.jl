{
 "cells": [
  {
   "cell_type": "code",
   "execution_count": 1,
   "metadata": {
    "collapsed": false
   },
   "outputs": [
    {
     "name": "stderr",
     "output_type": "stream",
     "text": [
      "objc[21750]: Class TKApplication is implemented in both /Users/serbanstan/anaconda/lib/libtk8.5.dylib and /System/Library/Frameworks/Tk.framework/Versions/8.5/Tk. One of the two will be used. Which one is undefined.\n",
      "objc[21750]: Class TKMenu is implemented in both /Users/serbanstan/anaconda/lib/libtk8.5.dylib and /System/Library/Frameworks/Tk.framework/Versions/8.5/Tk. One of the two will be used. Which one is undefined.\n",
      "objc[21750]: Class TKContentView is implemented in both /Users/serbanstan/anaconda/lib/libtk8.5.dylib and /System/Library/Frameworks/Tk.framework/Versions/8.5/Tk. One of the two will be used. Which one is undefined.\n",
      "objc[21750]: Class TKWindow is implemented in both /Users/serbanstan/anaconda/lib/libtk8.5.dylib and /System/Library/Frameworks/Tk.framework/Versions/8.5/Tk. One of the two will be used. Which one is undefined.\n"
     ]
    }
   ],
   "source": [
    "using Laplacians"
   ]
  },
  {
   "cell_type": "code",
   "execution_count": 2,
   "metadata": {
    "collapsed": false
   },
   "outputs": [
    {
     "data": {
      "text/plain": [
       "checkError (generic function with 1 method)"
      ]
     },
     "execution_count": 2,
     "metadata": {},
     "output_type": "execute_result"
    }
   ],
   "source": [
    "include(\"../../../src/samplingSolver.jl\")"
   ]
  },
  {
   "cell_type": "code",
   "execution_count": 3,
   "metadata": {
    "collapsed": true
   },
   "outputs": [],
   "source": [
    "n = 100000;\n",
    "a = chimera(n,23);\n",
    "b = rand(n); b = b - mean(b);"
   ]
  },
  {
   "cell_type": "code",
   "execution_count": 12,
   "metadata": {
    "collapsed": false
   },
   "outputs": [
    {
     "name": "stdout",
     "output_type": "stream",
     "text": [
      "rho = 10.603796220956797\n",
      "Initial number of multiedges = 2138470 . Nonzeros in a = 450130\n",
      "Average number of multiedges = 4.750781614341922\n",
      "Maximum number of multiedges = 10.603796220956797\n",
      "Time to build the tree and compute the stretch: elapsed time: 0.754974935 seconds\n",
      "From last checkpoint until 50000 we have elapsed time: 0.186843449 seconds\n",
      "From last checkpoint until 75000 we have elapsed time: 0.108689579 seconds\n",
      "From last checkpoint until 99999 we have elapsed time: 0.108080618 seconds\n",
      "\n",
      "The total size of the linked list data structure should be at most 5198839\n",
      "The actual size is 2156400\n",
      "\n",
      "nnz in U matrix: 461085\n",
      "  1.573109 seconds (7.33 M allocations: 806.022 MB, 21.63% gc time)\n"
     ]
    },
    {
     "data": {
      "text/plain": [
       "0.6834102690896618"
      ]
     },
     "execution_count": 12,
     "metadata": {},
     "output_type": "execute_result"
    }
   ],
   "source": [
    "@time f,gOp,U,d,ord,cn,cntime = buildSolver(a, eps = 0.5, sampConst = 0.02, beta = (1e3)-50, verbose=true);\n",
    "checkError(gOp)"
   ]
  },
  {
   "cell_type": "code",
   "execution_count": 5,
   "metadata": {
    "collapsed": true
   },
   "outputs": [],
   "source": [
    "n = 100000;\n",
    "a = chimera(n,19);\n",
    "b = rand(n); b = b - mean(b);"
   ]
  },
  {
   "cell_type": "code",
   "execution_count": 6,
   "metadata": {
    "collapsed": false
   },
   "outputs": [
    {
     "name": "stdout",
     "output_type": "stream",
     "text": [
      "rho = 10.603796220956797\n",
      "Initial number of multiedges = 2127235 . Nonzeros in a = 227240\n",
      "Average number of multiedges = 9.361181687792781\n",
      "Maximum number of multiedges = 10.603796220956797\n",
      "Time to build the tree and compute the stretch: elapsed time: 0.344024604 seconds\n",
      "From last checkpoint until 50000 we have elapsed time: 0.145245036 seconds\n",
      "From last checkpoint until 75000 we have elapsed time: 0.072010428 seconds\n",
      "From last checkpoint until 99999 we have elapsed time: 0.066805789 seconds\n",
      "\n",
      "The total size of the linked list data structure should be at most 5187604\n",
      "The actual size is 2156400\n",
      "\n",
      "nnz in U matrix: 249541\n",
      "  1.021300 seconds (5.30 M allocations: 611.424 MB, 24.13% gc time)\n"
     ]
    },
    {
     "data": {
      "text/plain": [
       "1.435780175188343"
      ]
     },
     "execution_count": 6,
     "metadata": {},
     "output_type": "execute_result"
    }
   ],
   "source": [
    "@time f,gOp,U,d,ord,cn,cntime = buildSolver(a, eps = 0.5, sampConst = 0.02, beta = (1e3)-50, verbose=true);\n",
    "checkError(gOp)"
   ]
  },
  {
   "cell_type": "code",
   "execution_count": 7,
   "metadata": {
    "collapsed": true
   },
   "outputs": [],
   "source": [
    "n = 100000;\n",
    "a = chimera(n,44);\n",
    "b = rand(n); b = b - mean(b);"
   ]
  },
  {
   "cell_type": "code",
   "execution_count": 8,
   "metadata": {
    "collapsed": false
   },
   "outputs": [
    {
     "name": "stdout",
     "output_type": "stream",
     "text": [
      "rho = 10.603796220956797\n",
      "Initial number of multiedges = 2230446 . Nonzeros in a = 799966\n",
      "Average number of multiedges = 2.788175502881571\n",
      "Maximum number of multiedges = 10.603796220956797\n",
      "Time to build the tree and compute the stretch: elapsed time: 1.226890024 seconds\n",
      "From last checkpoint until 50000 we have elapsed time: 0.435701594 seconds\n",
      "From last checkpoint until 75000 we have elapsed time: 0.28616787 seconds\n",
      "From last checkpoint until 99999 we have elapsed time: 0.397141024 seconds\n",
      "\n",
      "The total size of the linked list data structure should be at most 5290815\n",
      "The actual size is 2156400\n",
      "\n",
      "nnz in U matrix: 1435816\n",
      "  3.401932 seconds (15.74 M allocations: 1.387 GB, 27.75% gc time)\n"
     ]
    },
    {
     "data": {
      "text/plain": [
       "0.7478996822115118"
      ]
     },
     "execution_count": 8,
     "metadata": {},
     "output_type": "execute_result"
    }
   ],
   "source": [
    "@time f,gOp,U,d,ord,cn,cntime = buildSolver(a, eps = 0.5, sampConst = 0.02, beta = (1e3)-50, verbose=true);\n",
    "checkError(gOp)"
   ]
  },
  {
   "cell_type": "code",
   "execution_count": 9,
   "metadata": {
    "collapsed": true
   },
   "outputs": [],
   "source": [
    "n = 100000;\n",
    "a = wtedChimera(n,4);\n",
    "b = rand(n); b = b - mean(b);"
   ]
  },
  {
   "cell_type": "code",
   "execution_count": 10,
   "metadata": {
    "collapsed": false
   },
   "outputs": [
    {
     "name": "stdout",
     "output_type": "stream",
     "text": [
      "rho = 10.603796220956797\n",
      "Initial number of multiedges = 2138470 . Nonzeros in a = 450130\n",
      "Average number of multiedges = 4.750781614341922\n",
      "Maximum number of multiedges = 10.603796220956797\n",
      "Time to build the tree and compute the stretch: elapsed time: 0.753834757 seconds\n",
      "From last checkpoint until 50000 we have elapsed time: 0.209152694 seconds\n",
      "From last checkpoint until 75000 we have elapsed time: 0.125520679 seconds\n",
      "From last checkpoint until 99999 we have elapsed time: 0.125313464 seconds\n",
      "\n",
      "The total size of the linked list data structure should be at most 5198839\n",
      "The actual size is 2156400\n",
      "\n",
      "nnz in U matrix: 456833\n",
      "  1.726217 seconds (7.30 M allocations: 803.647 MB, 20.05% gc time)\n"
     ]
    },
    {
     "data": {
      "text/plain": [
       "0.5841952026162813"
      ]
     },
     "execution_count": 10,
     "metadata": {},
     "output_type": "execute_result"
    }
   ],
   "source": [
    "@time f,gOp,U,d,ord,cn,cntime = buildSolver(a, eps = 0.5, sampConst = 0.02, beta = (1e3)-50, verbose=true);\n",
    "checkError(gOp)"
   ]
  },
  {
   "cell_type": "code",
   "execution_count": null,
   "metadata": {
    "collapsed": true
   },
   "outputs": [],
   "source": []
  }
 ],
 "metadata": {
  "kernelspec": {
   "display_name": "Julia 0.4.6",
   "language": "julia",
   "name": "julia-0.4"
  },
  "language_info": {
   "file_extension": ".jl",
   "mimetype": "application/julia",
   "name": "julia",
   "version": "0.4.6"
  }
 },
 "nbformat": 4,
 "nbformat_minor": 0
}
