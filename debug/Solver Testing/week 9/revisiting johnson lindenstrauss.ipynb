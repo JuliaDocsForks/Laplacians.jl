{
 "cells": [
  {
   "cell_type": "code",
   "execution_count": 1,
   "metadata": {
    "collapsed": false
   },
   "outputs": [
    {
     "name": "stderr",
     "output_type": "stream",
     "text": [
      "objc[29617]: Class TKApplication is implemented in both /Users/serbanstan/anaconda/lib/libtk8.5.dylib and /System/Library/Frameworks/Tk.framework/Versions/8.5/Tk. One of the two will be used. Which one is undefined.\n",
      "objc[29617]: Class TKMenu is implemented in both /Users/serbanstan/anaconda/lib/libtk8.5.dylib and /System/Library/Frameworks/Tk.framework/Versions/8.5/Tk. One of the two will be used. Which one is undefined.\n",
      "objc[29617]: Class TKContentView is implemented in both /Users/serbanstan/anaconda/lib/libtk8.5.dylib and /System/Library/Frameworks/Tk.framework/Versions/8.5/Tk. One of the two will be used. Which one is undefined.\n",
      "objc[29617]: Class TKWindow is implemented in both /Users/serbanstan/anaconda/lib/libtk8.5.dylib and /System/Library/Frameworks/Tk.framework/Versions/8.5/Tk. One of the two will be used. Which one is undefined.\n"
     ]
    }
   ],
   "source": [
    "using Laplacians"
   ]
  },
  {
   "cell_type": "code",
   "execution_count": 2,
   "metadata": {
    "collapsed": false
   },
   "outputs": [
    {
     "data": {
      "text/plain": [
       "checkError (generic function with 1 method)"
      ]
     },
     "execution_count": 2,
     "metadata": {},
     "output_type": "execute_result"
    }
   ],
   "source": [
    "include(\"../../../src/samplingJLSolver.jl\")"
   ]
  },
  {
   "cell_type": "code",
   "execution_count": 3,
   "metadata": {
    "collapsed": true
   },
   "outputs": [],
   "source": [
    "n = 1000;\n",
    "a = chimera(n,23);\n",
    "b = rand(n); b = b - mean(b);"
   ]
  },
  {
   "cell_type": "code",
   "execution_count": 7,
   "metadata": {
    "collapsed": false
   },
   "outputs": [
    {
     "name": "stdout",
     "output_type": "stream",
     "text": [
      "rho = 3.817366639544446\n",
      "Time to build the augTree and run JL : elapsed time: 0.21228201 seconds\n",
      "Sum of leverage scores: 991.3791044698352\n",
      "\n",
      "The size of the linked list data structure is 40000\n",
      "\n",
      "nnz in U matrix: 11820\n",
      "\n",
      "Eps error: 4.068291236581792\n",
      "Condition number: (0.0,0.0)\n",
      "\n",
      "  0.251489 seconds (357.08 k allocations: 164.785 MB, 14.34% gc time)\n"
     ]
    },
    {
     "data": {
      "text/plain": [
       "f (generic function with 1 method)"
      ]
     },
     "execution_count": 7,
     "metadata": {},
     "output_type": "execute_result"
    }
   ],
   "source": [
    "@time f = samplingSolver(a, verbose=true, eps=0.5, sampConst=0.02)"
   ]
  },
  {
   "cell_type": "code",
   "execution_count": 11,
   "metadata": {
    "collapsed": false
   },
   "outputs": [
    {
     "name": "stdout",
     "output_type": "stream",
     "text": [
      "PCG stopped after: 20 iterations with relative error 5.483969613577109e-7.\n",
      "  0.003826 seconds (40.49 k allocations: 1.620 MB)\n"
     ]
    },
    {
     "ename": "LoadError",
     "evalue": "LoadError: DimensionMismatch(\"\")\nwhile loading In[11], in expression starting on line 2",
     "output_type": "error",
     "traceback": [
      "LoadError: DimensionMismatch(\"\")\nwhile loading In[11], in expression starting on line 2",
      "",
      " in A_mul_B! at sparse/linalg.jl:47",
      " in * at linalg/matmul.jl:87"
     ]
    }
   ],
   "source": [
    "@time x = f(b);\n",
    "lap(a) * x"
   ]
  },
  {
   "cell_type": "code",
   "execution_count": 12,
   "metadata": {
    "collapsed": false
   },
   "outputs": [
    {
     "data": {
      "text/plain": [
       "999-element Array{Float64,1}:\n",
       "  0.393961 \n",
       "  0.0803622\n",
       "  0.440346 \n",
       "  0.61584  \n",
       " -0.218909 \n",
       "  0.364105 \n",
       " -0.108419 \n",
       "  0.38559  \n",
       "  0.381966 \n",
       "  0.100405 \n",
       "  0.320112 \n",
       "  0.203658 \n",
       "  0.200569 \n",
       "  ⋮        \n",
       "  0.393254 \n",
       "  0.486557 \n",
       "  0.317519 \n",
       "  0.122056 \n",
       "  0.68788  \n",
       "  0.137798 \n",
       "  0.269136 \n",
       "  0.384148 \n",
       "  0.316798 \n",
       "  0.117028 \n",
       "  0.390652 \n",
       "  0.152008 "
      ]
     },
     "execution_count": 12,
     "metadata": {},
     "output_type": "execute_result"
    }
   ],
   "source": []
  },
  {
   "cell_type": "code",
   "execution_count": null,
   "metadata": {
    "collapsed": true
   },
   "outputs": [],
   "source": []
  }
 ],
 "metadata": {
  "kernelspec": {
   "display_name": "Julia 0.4.6",
   "language": "julia",
   "name": "julia-0.4"
  },
  "language_info": {
   "file_extension": ".jl",
   "mimetype": "application/julia",
   "name": "julia",
   "version": "0.4.6"
  }
 },
 "nbformat": 4,
 "nbformat_minor": 0
}
