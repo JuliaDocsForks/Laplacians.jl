{
 "cells": [
  {
   "cell_type": "code",
   "execution_count": 1,
   "metadata": {
    "collapsed": false
   },
   "outputs": [
    {
     "name": "stderr",
     "output_type": "stream",
     "text": [
      "objc[53069]: Class TKApplication is implemented in both /Users/serbanstan/anaconda/lib/libtk8.5.dylib and /System/Library/Frameworks/Tk.framework/Versions/8.5/Tk. One of the two will be used. Which one is undefined.\n",
      "objc[53069]: Class TKMenu is implemented in both /Users/serbanstan/anaconda/lib/libtk8.5.dylib and /System/Library/Frameworks/Tk.framework/Versions/8.5/Tk. One of the two will be used. Which one is undefined.\n",
      "objc[53069]: Class TKContentView is implemented in both /Users/serbanstan/anaconda/lib/libtk8.5.dylib and /System/Library/Frameworks/Tk.framework/Versions/8.5/Tk. One of the two will be used. Which one is undefined.\n",
      "objc[53069]: Class TKWindow is implemented in both /Users/serbanstan/anaconda/lib/libtk8.5.dylib and /System/Library/Frameworks/Tk.framework/Versions/8.5/Tk. One of the two will be used. Which one is undefined.\n"
     ]
    }
   ],
   "source": [
    "using Laplacians"
   ]
  },
  {
   "cell_type": "code",
   "execution_count": 2,
   "metadata": {
    "collapsed": false
   },
   "outputs": [
    {
     "data": {
      "text/plain": [
       "checkError (generic function with 1 method)"
      ]
     },
     "execution_count": 2,
     "metadata": {},
     "output_type": "execute_result"
    }
   ],
   "source": [
    "include(\"../../../src/samplingJLSolver.jl\")"
   ]
  },
  {
   "cell_type": "code",
   "execution_count": 10,
   "metadata": {
    "collapsed": true
   },
   "outputs": [],
   "source": [
    "n = 10000;\n",
    "a = chimera(n,23);\n",
    "b = rand(n); b = b - mean(b);"
   ]
  },
  {
   "cell_type": "code",
   "execution_count": 13,
   "metadata": {
    "collapsed": false
   },
   "outputs": [
    {
     "data": {
      "text/plain": [
       "23424"
      ]
     },
     "execution_count": 13,
     "metadata": {},
     "output_type": "execute_result"
    }
   ],
   "source": [
    "nnz(a)"
   ]
  },
  {
   "cell_type": "code",
   "execution_count": 14,
   "metadata": {
    "collapsed": false
   },
   "outputs": [
    {
     "name": "stdout",
     "output_type": "stream",
     "text": [
      "rho = 6.786429581412351\n",
      "Working on the 10th iteration\n",
      "Working on the 10th iteration\n",
      "Working on the 10th iteration\n",
      "Working on the 10th iteration\n",
      "Working on the 10th iteration\n",
      "Working on the 10th iteration\n",
      "Working on the 10th iteration\n",
      "Working on the 10th iteration\n",
      "Working on the 10th iteration\n",
      "Working on the 10th iteration\n",
      "Working on the 10th iteration\n",
      "Working on the 10th iteration\n",
      "Working on the 10th iteration\n",
      "Working on the 10th iteration\n",
      "Working on the 10th iteration\n",
      "Working on the 10th iteration\n",
      "Working on the 10th iteration\n",
      "Working on the 10th iteration\n",
      "Working on the 10th iteration\n",
      "Working on the 10th iteration\n",
      "Working on the 10th iteration\n",
      "Working on the 10th iteration\n",
      "Working on the 10th iteration\n",
      "Working on the 10th iteration\n",
      "Working on the 10th iteration\n",
      "Working on the 10th iteration\n",
      "Working on the 10th iteration\n",
      "Working on the 10th iteration\n",
      "Working on the 10th iteration\n",
      "Working on the 10th iteration\n",
      "Working on the 10th iteration\n",
      "Working on the 10th iteration\n",
      "Working on the 10th iteration\n",
      "Working on the 10th iteration\n",
      "Working on the 10th iteration\n",
      "Working on the 10th iteration\n",
      "Working on the 10th iteration\n",
      "Working on the 10th iteration\n",
      "Working on the 10th iteration\n",
      "Working on the 10th iteration\n",
      "Working on the 10th iteration\n",
      "Working on the 10th iteration\n",
      "Working on the 10th iteration\n",
      "Working on the 10th iteration\n",
      "Working on the 10th iteration\n",
      "Working on the 10th iteration\n",
      "Working on the 10th iteration\n",
      "Working on the 10th iteration\n",
      "Working on the 10th iteration\n",
      "Working on the 10th iteration\n",
      "Working on the 10th iteration\n",
      "Working on the 10th iteration\n",
      "Working on the 10th iteration\n",
      "Working on the 10th iteration\n",
      "Working on the 10th iteration\n",
      "Working on the 10th iteration\n",
      "Working on the 10th iteration\n",
      "Working on the 10th iteration\n",
      "Working on the 10th iteration\n",
      "Working on the 10th iteration\n",
      "Working on the 10th iteration\n",
      "Working on the 10th iteration\n",
      "Working on the 10th iteration\n",
      "Working on the 10th iteration\n",
      "Working on the 10th iteration\n",
      "Working on the 10th iteration\n",
      "Working on the 10th iteration\n",
      "Working on the 10th iteration\n",
      "Working on the 10th iteration\n",
      "Working on the 10th iteration\n",
      "Working on the 10th iteration\n",
      "Working on the 10th iteration\n",
      "Working on the 10th iteration\n",
      "Working on the 10th iteration\n",
      "Working on the 10th iteration\n",
      "Working on the 10th iteration\n",
      "Working on the 10th iteration\n",
      "Working on the 10th iteration\n",
      "Working on the 10th iteration\n",
      "Working on the 10th iteration\n",
      "Working on the 10th iteration\n",
      "Working on the 10th iteration\n",
      "Working on the 10th iteration\n",
      "Working on the 10th iteration\n",
      "Working on the 10th iteration\n",
      "Working on the 10th iteration\n",
      "Working on the 10th iteration\n",
      "Working on the 10th iteration\n",
      "Working on the 10th iteration\n",
      "Working on the 10th iteration\n",
      "Working on the 10th iteration\n",
      "Working on the 10th iteration\n",
      "Working on the 10th iteration\n",
      "Working on the 10th iteration\n",
      "Working on the 10th iteration\n",
      "Working on the 10th iteration\n",
      "Working on the 10th iteration\n",
      "Working on the 10th iteration\n",
      "Working on the 10th iteration\n",
      "Working on the 10th iteration\n",
      "Working on the 10th iteration\n",
      "Working on the 10th iteration\n",
      "Working on the 10th iteration\n",
      "Working on the 10th iteration\n",
      "Working on the 10th iteration\n",
      "Working on the 10th iteration\n",
      "Working on the 10th iteration\n",
      "Working on the 10th iteration\n",
      "Working on the 10th iteration\n",
      "Working on the 10th iteration\n",
      "Working on the 10th iteration\n",
      "Working on the 10th iteration\n",
      "Working on the 10th iteration\n",
      "Working on the 10th iteration\n",
      "Working on the 10th iteration\n",
      "Working on the 10th iteration\n",
      "Working on the 10th iteration\n",
      "Working on the 10th iteration\n",
      "Working on the 10th iteration\n",
      "Working on the 10th iteration\n",
      "Working on the 10th iteration\n",
      "Working on the 10th iteration\n",
      "Working on the 10th iteration\n",
      "Working on the 10th iteration\n",
      "Working on the 10th iteration\n",
      "Working on the 10th iteration\n",
      "Working on the 10th iteration\n",
      "Working on the 10th iteration\n",
      "Working on the 10th iteration\n",
      "Working on the 10th iteration\n",
      "Working on the 10th iteration\n",
      "Working on the 10th iteration\n",
      "Working on the 10th iteration\n",
      "Working on the 10th iteration\n",
      "Working on the 10th iteration\n",
      "Working on the 10th iteration\n",
      "Working on the 10th iteration\n",
      "Working on the 10th iteration\n",
      "Working on the 10th iteration\n",
      "Working on the 10th iteration\n",
      "Working on the 10th iteration\n",
      "Working on the 10th iteration\n",
      "Working on the 10th iteration\n",
      "Working on the 10th iteration\n",
      "Working on the 10th iteration\n",
      "Working on the 10th iteration\n",
      "Working on the 10th iteration\n",
      "Working on the 10th iteration\n",
      "Working on the 10th iteration\n",
      "Working on the 10th iteration\n",
      "Working on the 10th iteration\n",
      "Working on the 10th iteration\n",
      "Working on the 10th iteration\n",
      "Working on the 10th iteration\n",
      "Working on the 10th iteration\n",
      "Working on the 10th iteration\n",
      "Working on the 10th iteration\n",
      "Working on the 10th iteration\n",
      "Working on the 10th iteration\n",
      "Working on the 10th iteration\n",
      "Working on the 10th iteration\n",
      "Time to build the augTree and run JL : elapsed time: 3.068873722 seconds\n",
      "Sum of leverage scores: 9947.732986560186\n",
      "\n",
      "The size of the linked list data structure is 242000\n",
      "\n",
      "nnz in U matrix: 93895\n",
      "\n",
      "Eps error: 33.66939198147108\n",
      "Condition number: (0.0,0.0)\n",
      "\n",
      "  3.630672 seconds (3.35 M allocations: 2.362 GB, 17.71% gc time)\n"
     ]
    },
    {
     "data": {
      "text/plain": [
       "f (generic function with 1 method)"
      ]
     },
     "execution_count": 14,
     "metadata": {},
     "output_type": "execute_result"
    }
   ],
   "source": [
    "@time f = samplingSolver(a, verbose=true, tol=1e-10, eps=0.5, sampConst=0.02)"
   ]
  },
  {
   "cell_type": "code",
   "execution_count": 12,
   "metadata": {
    "collapsed": false
   },
   "outputs": [
    {
     "name": "stdout",
     "output_type": "stream",
     "text": [
      "Working on the 10th iteration\n",
      "Working on the 20th iteration\n",
      "Working on the 30th iteration\n",
      "Working on the 40th iteration\n",
      "Working on the 50th iteration\n",
      "Working on the 60th iteration\n",
      "Working on the 70th iteration\n",
      "PCG stopped after: 73 iterations with relative error 7.998297419722059e-11.\n",
      "  0.136888 seconds (1.46 M allocations: 67.373 MB, 7.00% gc time)\n"
     ]
    },
    {
     "data": {
      "text/plain": [
       "7.99828108150017e-11"
      ]
     },
     "execution_count": 12,
     "metadata": {},
     "output_type": "execute_result"
    }
   ],
   "source": [
    "@time x = f(b);\n",
    "norm(lap(a) * x - b) / norm(b)"
   ]
  },
  {
   "cell_type": "code",
   "execution_count": null,
   "metadata": {
    "collapsed": true
   },
   "outputs": [],
   "source": []
  }
 ],
 "metadata": {
  "kernelspec": {
   "display_name": "Julia 0.4.6",
   "language": "julia",
   "name": "julia-0.4"
  },
  "language_info": {
   "file_extension": ".jl",
   "mimetype": "application/julia",
   "name": "julia",
   "version": "0.4.6"
  }
 },
 "nbformat": 4,
 "nbformat_minor": 0
}
