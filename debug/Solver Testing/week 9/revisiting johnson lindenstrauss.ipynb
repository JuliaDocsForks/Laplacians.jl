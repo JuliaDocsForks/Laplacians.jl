{
 "cells": [
  {
   "cell_type": "code",
   "execution_count": 1,
   "metadata": {
    "collapsed": false
   },
   "outputs": [
    {
     "name": "stderr",
     "output_type": "stream",
     "text": [
      "objc[53069]: Class TKApplication is implemented in both /Users/serbanstan/anaconda/lib/libtk8.5.dylib and /System/Library/Frameworks/Tk.framework/Versions/8.5/Tk. One of the two will be used. Which one is undefined.\n",
      "objc[53069]: Class TKMenu is implemented in both /Users/serbanstan/anaconda/lib/libtk8.5.dylib and /System/Library/Frameworks/Tk.framework/Versions/8.5/Tk. One of the two will be used. Which one is undefined.\n",
      "objc[53069]: Class TKContentView is implemented in both /Users/serbanstan/anaconda/lib/libtk8.5.dylib and /System/Library/Frameworks/Tk.framework/Versions/8.5/Tk. One of the two will be used. Which one is undefined.\n",
      "objc[53069]: Class TKWindow is implemented in both /Users/serbanstan/anaconda/lib/libtk8.5.dylib and /System/Library/Frameworks/Tk.framework/Versions/8.5/Tk. One of the two will be used. Which one is undefined.\n"
     ]
    }
   ],
   "source": [
    "using Laplacians"
   ]
  },
  {
   "cell_type": "code",
   "execution_count": 2,
   "metadata": {
    "collapsed": false
   },
   "outputs": [
    {
     "data": {
      "text/plain": [
       "checkError (generic function with 1 method)"
      ]
     },
     "execution_count": 2,
     "metadata": {},
     "output_type": "execute_result"
    }
   ],
   "source": [
    "include(\"../../../src/samplingJLSolver.jl\")"
   ]
  },
  {
   "cell_type": "code",
   "execution_count": 3,
   "metadata": {
    "collapsed": true
   },
   "outputs": [],
   "source": [
    "n = 1000;\n",
    "a = chimera(n,23);\n",
    "b = rand(n); b = b - mean(b);"
   ]
  },
  {
   "cell_type": "code",
   "execution_count": 5,
   "metadata": {
    "collapsed": false
   },
   "outputs": [
    {
     "name": "stdout",
     "output_type": "stream",
     "text": [
      "rho = 3.817366639544446\n",
      "Working on the 10th iteration\n",
      "Working on the 10th iteration\n",
      "Working on the 10th iteration\n",
      "Working on the 10th iteration\n",
      "Working on the 10th iteration\n",
      "Working on the 10th iteration\n",
      "Working on the 10th iteration\n",
      "Working on the 10th iteration\n",
      "Working on the 10th iteration\n",
      "Working on the 10th iteration\n",
      "Working on the 10th iteration\n",
      "Working on the 10th iteration\n",
      "Working on the 10th iteration\n",
      "Working on the 10th iteration\n",
      "Working on the 10th iteration\n",
      "Working on the 10th iteration\n",
      "Working on the 10th iteration\n",
      "Working on the 10th iteration\n",
      "Working on the 10th iteration\n",
      "Working on the 10th iteration\n",
      "Working on the 10th iteration\n",
      "Working on the 10th iteration\n",
      "Working on the 10th iteration\n",
      "Working on the 10th iteration\n",
      "Working on the 10th iteration\n",
      "Working on the 10th iteration\n",
      "Working on the 10th iteration\n",
      "Working on the 10th iteration\n",
      "Working on the 10th iteration\n",
      "Working on the 10th iteration\n",
      "Working on the 10th iteration\n",
      "Working on the 10th iteration\n",
      "Working on the 10th iteration\n",
      "Working on the 10th iteration\n",
      "Working on the 10th iteration\n",
      "Working on the 10th iteration\n",
      "Working on the 10th iteration\n",
      "Working on the 10th iteration\n",
      "Working on the 10th iteration\n",
      "Working on the 10th iteration\n",
      "Working on the 10th iteration\n",
      "Working on the 10th iteration\n",
      "Working on the 10th iteration\n",
      "Working on the 10th iteration\n",
      "Working on the 10th iteration\n",
      "Working on the 10th iteration\n",
      "Working on the 10th iteration\n",
      "Working on the 10th iteration\n",
      "Working on the 10th iteration\n",
      "Working on the 10th iteration\n",
      "Working on the 10th iteration\n",
      "Working on the 10th iteration\n",
      "Working on the 10th iteration\n",
      "Working on the 10th iteration\n",
      "Working on the 10th iteration\n",
      "Working on the 10th iteration\n",
      "Working on the 10th iteration\n",
      "Working on the 10th iteration\n",
      "Working on the 10th iteration\n",
      "Working on the 10th iteration\n",
      "Working on the 10th iteration\n",
      "Working on the 10th iteration\n",
      "Working on the 10th iteration\n",
      "Working on the 10th iteration\n",
      "Working on the 10th iteration\n",
      "Working on the 10th iteration\n",
      "Working on the 10th iteration\n",
      "Working on the 10th iteration\n",
      "Working on the 10th iteration\n",
      "Working on the 10th iteration\n",
      "Working on the 10th iteration\n",
      "Working on the 10th iteration\n",
      "Working on the 10th iteration\n",
      "Working on the 10th iteration\n",
      "Working on the 10th iteration\n",
      "Working on the 10th iteration\n",
      "Working on the 10th iteration\n",
      "Working on the 10th iteration\n",
      "Working on the 10th iteration\n",
      "Working on the 10th iteration\n",
      "Working on the 10th iteration\n",
      "Working on the 10th iteration\n",
      "Working on the 10th iteration\n",
      "Working on the 10th iteration\n",
      "Working on the 10th iteration\n",
      "Working on the 10th iteration\n",
      "Working on the 10th iteration\n",
      "Working on the 10th iteration\n",
      "Working on the 10th iteration\n",
      "Working on the 10th iteration\n",
      "Working on the 10th iteration\n",
      "Working on the 10th iteration\n",
      "Working on the 10th iteration\n",
      "Working on the 10th iteration\n",
      "Working on the 10th iteration\n",
      "Working on the 10th iteration\n",
      "Working on the 10th iteration\n",
      "Working on the 10th iteration\n",
      "Working on the 10th iteration\n",
      "Working on the 10th iteration\n",
      "Working on the 10th iteration\n",
      "Working on the 10th iteration\n",
      "Working on the 10th iteration\n",
      "Working on the 10th iteration\n",
      "Working on the 10th iteration\n",
      "Working on the 10th iteration\n",
      "Working on the 10th iteration\n",
      "Working on the 10th iteration\n",
      "Working on the 10th iteration\n",
      "Working on the 10th iteration\n",
      "Working on the 10th iteration\n",
      "Working on the 10th iteration\n",
      "Working on the 10th iteration\n",
      "Working on the 10th iteration\n",
      "Working on the 10th iteration\n",
      "Working on the 10th iteration\n",
      "Working on the 10th iteration\n",
      "Working on the 10th iteration\n",
      "Working on the 10th iteration\n",
      "Working on the 10th iteration\n",
      "Working on the 10th iteration\n",
      "Working on the 10th iteration\n",
      "Working on the 10th iteration\n",
      "Working on the 10th iteration\n",
      "Working on the 10th iteration\n",
      "Working on the 10th iteration\n",
      "Working on the 10th iteration\n",
      "Working on the 10th iteration\n",
      "Working on the 10th iteration\n",
      "Working on the 10th iteration\n",
      "Working on the 10th iteration\n",
      "Working on the 10th iteration\n",
      "Working on the 10th iteration\n",
      "Time to build the augTree and run JL : elapsed time: 0.282233596 seconds\n",
      "Sum of leverage scores: 991.9234619044352\n",
      "\n",
      "The size of the linked list data structure is 40000\n",
      "\n",
      "nnz in U matrix: 11532\n",
      "\n",
      "Eps error: 5.08374070117787\n",
      "Condition number: (0.0,0.0)\n",
      "\n",
      "  0.343833 seconds (372.88 k allocations: 197.208 MB, 9.84% gc time)\n"
     ]
    },
    {
     "data": {
      "text/plain": [
       "f (generic function with 1 method)"
      ]
     },
     "execution_count": 5,
     "metadata": {},
     "output_type": "execute_result"
    }
   ],
   "source": [
    "@time f = samplingSolver(a, verbose=true, eps=0.5, sampConst=0.02)"
   ]
  },
  {
   "cell_type": "code",
   "execution_count": 6,
   "metadata": {
    "collapsed": false
   },
   "outputs": [
    {
     "name": "stdout",
     "output_type": "stream",
     "text": [
      "Working on the 10th iteration\n",
      "Working on the 20th iteration\n",
      "PCG stopped after: 21 iterations with relative error 7.893108718062111e-7.\n",
      "  0.096857 seconds (98.64 k allocations: 4.823 MB)\n"
     ]
    },
    {
     "data": {
      "text/plain": [
       "1000-element Array{Float64,1}:\n",
       " -0.0845899\n",
       " -0.414562 \n",
       "  0.390028 \n",
       "  0.382752 \n",
       " -0.385643 \n",
       "  0.387705 \n",
       " -0.471486 \n",
       "  0.493765 \n",
       "  0.278419 \n",
       " -0.293317 \n",
       "  0.33278  \n",
       " -0.424556 \n",
       " -0.0904562\n",
       "  ⋮        \n",
       "  0.121606 \n",
       "  0.0491536\n",
       " -0.147284 \n",
       "  0.471289 \n",
       " -0.437655 \n",
       "  0.28167  \n",
       " -0.105175 \n",
       "  0.066287 \n",
       "  0.0479582\n",
       " -0.0396684\n",
       " -0.323828 \n",
       " -0.488897 "
      ]
     },
     "execution_count": 6,
     "metadata": {},
     "output_type": "execute_result"
    }
   ],
   "source": [
    "@time x = f(b);\n",
    "lap(a) * x"
   ]
  },
  {
   "cell_type": "code",
   "execution_count": 12,
   "metadata": {
    "collapsed": false
   },
   "outputs": [
    {
     "data": {
      "text/plain": [
       "999-element Array{Float64,1}:\n",
       "  0.393961 \n",
       "  0.0803622\n",
       "  0.440346 \n",
       "  0.61584  \n",
       " -0.218909 \n",
       "  0.364105 \n",
       " -0.108419 \n",
       "  0.38559  \n",
       "  0.381966 \n",
       "  0.100405 \n",
       "  0.320112 \n",
       "  0.203658 \n",
       "  0.200569 \n",
       "  ⋮        \n",
       "  0.393254 \n",
       "  0.486557 \n",
       "  0.317519 \n",
       "  0.122056 \n",
       "  0.68788  \n",
       "  0.137798 \n",
       "  0.269136 \n",
       "  0.384148 \n",
       "  0.316798 \n",
       "  0.117028 \n",
       "  0.390652 \n",
       "  0.152008 "
      ]
     },
     "execution_count": 12,
     "metadata": {},
     "output_type": "execute_result"
    }
   ],
   "source": []
  },
  {
   "cell_type": "code",
   "execution_count": null,
   "metadata": {
    "collapsed": true
   },
   "outputs": [],
   "source": []
  }
 ],
 "metadata": {
  "kernelspec": {
   "display_name": "Julia 0.4.6",
   "language": "julia",
   "name": "julia-0.4"
  },
  "language_info": {
   "file_extension": ".jl",
   "mimetype": "application/julia",
   "name": "julia",
   "version": "0.4.6"
  }
 },
 "nbformat": 4,
 "nbformat_minor": 0
}
