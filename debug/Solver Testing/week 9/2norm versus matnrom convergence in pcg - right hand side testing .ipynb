{
 "cells": [
  {
   "cell_type": "code",
   "execution_count": 1,
   "metadata": {
    "collapsed": false
   },
   "outputs": [
    {
     "name": "stderr",
     "output_type": "stream",
     "text": [
      "objc[32047]: Class TKApplication is implemented in both /Users/serbanstan/anaconda/lib/libtk8.5.dylib and /System/Library/Frameworks/Tk.framework/Versions/8.5/Tk. One of the two will be used. Which one is undefined.\n",
      "objc[32047]: Class TKMenu is implemented in both /Users/serbanstan/anaconda/lib/libtk8.5.dylib and /System/Library/Frameworks/Tk.framework/Versions/8.5/Tk. One of the two will be used. Which one is undefined.\n",
      "objc[32047]: Class TKContentView is implemented in both /Users/serbanstan/anaconda/lib/libtk8.5.dylib and /System/Library/Frameworks/Tk.framework/Versions/8.5/Tk. One of the two will be used. Which one is undefined.\n",
      "objc[32047]: Class TKWindow is implemented in both /Users/serbanstan/anaconda/lib/libtk8.5.dylib and /System/Library/Frameworks/Tk.framework/Versions/8.5/Tk. One of the two will be used. Which one is undefined.\n"
     ]
    }
   ],
   "source": [
    "using Laplacians"
   ]
  },
  {
   "cell_type": "code",
   "execution_count": 2,
   "metadata": {
    "collapsed": false
   },
   "outputs": [
    {
     "data": {
      "text/plain": [
       "checkError (generic function with 1 method)"
      ]
     },
     "execution_count": 2,
     "metadata": {},
     "output_type": "execute_result"
    }
   ],
   "source": [
    "include(\"../../../src/pcgMatNorm.jl\")\n",
    "include(\"../../../src/fastCSC.jl\")\n",
    "include(\"../../../src/KMPSolver.jl\")\n",
    "include(\"../../../src/samplingSolver.jl\")"
   ]
  },
  {
   "cell_type": "code",
   "execution_count": 3,
   "metadata": {
    "collapsed": true
   },
   "outputs": [],
   "source": [
    "n = 100000;\n",
    "a = wtedChimera(n,23); la = lap(a) + speye(n) * 1e-15;\n",
    "truex = exp(randn(n)); b = la * truex;"
   ]
  },
  {
   "cell_type": "markdown",
   "metadata": {},
   "source": [
    "### Trying out augTreeSolver"
   ]
  },
  {
   "cell_type": "code",
   "execution_count": 4,
   "metadata": {
    "collapsed": false
   },
   "outputs": [],
   "source": [
    "F = augTreePrecon(la, treeAlg=akpw);"
   ]
  },
  {
   "cell_type": "code",
   "execution_count": 5,
   "metadata": {
    "collapsed": false
   },
   "outputs": [
    {
     "data": {
      "text/plain": [
       "fat (generic function with 1 method)"
      ]
     },
     "execution_count": 5,
     "metadata": {},
     "output_type": "execute_result"
    }
   ],
   "source": [
    "function fat(b; tol=1e-4, maxits=Inf, maxtime=Inf, verbose=false)\n",
    "    return pcg(la, b, F, tol=tol, maxits=maxits, maxtime=maxtime, verbose=verbose)\n",
    "end"
   ]
  },
  {
   "cell_type": "code",
   "execution_count": 6,
   "metadata": {
    "collapsed": false
   },
   "outputs": [
    {
     "name": "stdout",
     "output_type": "stream",
     "text": [
      "PCG stopped after: 118 iterations with relative error 6.982909171149705e-5.\n",
      "  2.140369 seconds (608.51 k allocations: 928.486 MB, 7.30% gc time)\n"
     ]
    }
   ],
   "source": [
    "@time fat(b, verbose=true);"
   ]
  },
  {
   "cell_type": "code",
   "execution_count": 7,
   "metadata": {
    "collapsed": false
   },
   "outputs": [
    {
     "data": {
      "text/plain": [
       "fatMN (generic function with 1 method)"
      ]
     },
     "execution_count": 7,
     "metadata": {},
     "output_type": "execute_result"
    }
   ],
   "source": [
    "function fatMN(b; tol=1e-4, maxits=Inf, maxtime=Inf, verbose=false)\n",
    "    return pcgMatNorm(la, b, F, truex, tol=tol, maxits=maxits, maxtime=maxtime, verbose=verbose)\n",
    "end"
   ]
  },
  {
   "cell_type": "code",
   "execution_count": 8,
   "metadata": {
    "collapsed": false
   },
   "outputs": [
    {
     "name": "stdout",
     "output_type": "stream",
     "text": [
      "PCG stopped after: 777 iterations with relative error 9.908102470601774e-5.\n",
      " 14.251148 seconds (465.89 k allocations: 8.129 GB, 8.06% gc time)\n"
     ]
    }
   ],
   "source": [
    "@time fatMN(b, verbose=true);"
   ]
  },
  {
   "cell_type": "markdown",
   "metadata": {},
   "source": [
    "### Trying for KMP"
   ]
  },
  {
   "cell_type": "code",
   "execution_count": 9,
   "metadata": {
    "collapsed": false
   },
   "outputs": [
    {
     "name": "stdout",
     "output_type": "stream",
     "text": [
      "aveStretch : 5.378693867716532 fac : 11.167271420603699\n",
      "level 0. Dimension 100000 off-tree edges : 237763\n",
      "level 1. Dimension 22069 off-tree edges : 8371\n"
     ]
    }
   ],
   "source": [
    "params = KMPparams(1/36, 6, 0.125, 600, :akpw);\n",
    "\n",
    "a2 = copy(a);\n",
    "tree = akpw(a2);\n",
    "ord = Laplacians.dfsOrder(tree);\n",
    "aord = symPermuteCSC(a2,ord);\n",
    "tord = symPermuteCSC(tree,ord)\n",
    "la = lap(aord);\n",
    "fsub = KMPLapPrecon(aord, tord, params, verbose=true);"
   ]
  },
  {
   "cell_type": "code",
   "execution_count": 10,
   "metadata": {
    "collapsed": false
   },
   "outputs": [
    {
     "data": {
      "text/plain": [
       "fkmp (generic function with 1 method)"
      ]
     },
     "execution_count": 10,
     "metadata": {},
     "output_type": "execute_result"
    }
   ],
   "source": [
    "function fkmp(b::Array{Float64,1}; tol=1e-4, maxits=Inf, verbose=false)\n",
    "    bord = b[ord]\n",
    "\n",
    "    xord = pcg(la, bord, fsub, tol=tol, maxits=maxits, verbose=verbose)\n",
    "\n",
    "    x = zeros(Float64,n)\n",
    "    x[ord] = xord\n",
    "    subMean!(x)\n",
    "    return x\n",
    "end"
   ]
  },
  {
   "cell_type": "code",
   "execution_count": 11,
   "metadata": {
    "collapsed": false
   },
   "outputs": [
    {
     "name": "stdout",
     "output_type": "stream",
     "text": [
      "PCG stopped after: 95 iterations with relative error 8.832949531571389e-5.\n",
      "  2.638736 seconds (274.53 k allocations: 1.915 GB, 9.52% gc time)\n"
     ]
    }
   ],
   "source": [
    "@time fkmp(b, verbose=true);"
   ]
  },
  {
   "cell_type": "code",
   "execution_count": 12,
   "metadata": {
    "collapsed": false
   },
   "outputs": [
    {
     "data": {
      "text/plain": [
       "fkmpMN (generic function with 1 method)"
      ]
     },
     "execution_count": 12,
     "metadata": {},
     "output_type": "execute_result"
    }
   ],
   "source": [
    "function fkmpMN(b::Array{Float64,1}; tol=1e-4, maxits=Inf, verbose=false)\n",
    "    bord = b[ord]\n",
    "\n",
    "    xord = pcgMatNorm(la, bord, fsub, truex[ord], tol=tol, maxits=maxits, verbose=verbose)\n",
    "\n",
    "    x = zeros(Float64,n)\n",
    "    x[ord] = xord\n",
    "    subMean!(x)\n",
    "    return x\n",
    "end"
   ]
  },
  {
   "cell_type": "code",
   "execution_count": 13,
   "metadata": {
    "collapsed": false
   },
   "outputs": [
    {
     "name": "stdout",
     "output_type": "stream",
     "text": [
      "PCG stopped after: 317 iterations with relative error 9.964371557888412e-5.\n",
      "  9.572105 seconds (243.65 k allocations: 7.301 GB, 10.12% gc time)\n"
     ]
    }
   ],
   "source": [
    "@time fkmpMN(b, verbose=true);"
   ]
  },
  {
   "cell_type": "markdown",
   "metadata": {},
   "source": [
    "### Sampling Solver"
   ]
  },
  {
   "cell_type": "code",
   "execution_count": 14,
   "metadata": {
    "collapsed": false
   },
   "outputs": [
    {
     "name": "stdout",
     "output_type": "stream",
     "text": [
      "  3.857845 seconds (12.33 M allocations: 1.103 GB, 11.22% gc time)\n"
     ]
    },
    {
     "data": {
      "text/plain": [
       "0.9004205343191517"
      ]
     },
     "execution_count": 14,
     "metadata": {},
     "output_type": "execute_result"
    }
   ],
   "source": [
    "@time F,gOp,U,d,ord,cn,cntime = buildSolver(a, eps=0.5, sampConst=0.02, beta=1e3, verbose=false);\n",
    "checkError(gOp)"
   ]
  },
  {
   "cell_type": "code",
   "execution_count": 15,
   "metadata": {
    "collapsed": false
   },
   "outputs": [],
   "source": [
    "la = lap(symPermuteCSC(a, ord));"
   ]
  },
  {
   "cell_type": "code",
   "execution_count": 16,
   "metadata": {
    "collapsed": false
   },
   "outputs": [
    {
     "data": {
      "text/plain": [
       "fss (generic function with 1 method)"
      ]
     },
     "execution_count": 16,
     "metadata": {},
     "output_type": "execute_result"
    }
   ],
   "source": [
    "function fss(b)\n",
    "    auxb = copy(b)\n",
    "    push!(auxb, -sum(auxb))\n",
    "\n",
    "    ret = pcg(la, auxb[ord], F, tol=1e-4, maxits=Inf, maxtime=Inf, verbose=true)\n",
    "    ret = ret[invperm(ord)]\n",
    "\n",
    "    # We want to discard the nth element of ret (which corresponds to the first element in the permutation)\n",
    "    ret = ret - ret[n]\n",
    "\n",
    "    pop!(ret)\n",
    "\n",
    "    return ret\n",
    "end"
   ]
  },
  {
   "cell_type": "code",
   "execution_count": 17,
   "metadata": {
    "collapsed": false
   },
   "outputs": [
    {
     "name": "stdout",
     "output_type": "stream",
     "text": [
      "PCG stopped after: 130 iterations with relative error 9.557084200008583e-5.\n",
      "  2.326338 seconds (26.02 M allocations: 1.168 GB, 7.89% gc time)\n"
     ]
    }
   ],
   "source": [
    "@time fss(b);"
   ]
  },
  {
   "cell_type": "code",
   "execution_count": 18,
   "metadata": {
    "collapsed": false
   },
   "outputs": [
    {
     "data": {
      "text/plain": [
       "fssMN (generic function with 1 method)"
      ]
     },
     "execution_count": 18,
     "metadata": {},
     "output_type": "execute_result"
    }
   ],
   "source": [
    "function fssMN(b)\n",
    "    auxb = copy(b)\n",
    "    push!(auxb, -sum(auxb))\n",
    "\n",
    "    ret = pcgMatNorm(la, auxb[ord], F, truex[ord], tol=1e-4, maxits=Inf, maxtime=Inf, verbose=true)\n",
    "    ret = ret[invperm(ord)]\n",
    "\n",
    "    # We want to discard the nth element of ret (which corresponds to the first element in the permutation)\n",
    "    ret = ret - ret[n]\n",
    "\n",
    "    pop!(ret)\n",
    "\n",
    "    return ret\n",
    "end"
   ]
  },
  {
   "cell_type": "code",
   "execution_count": 19,
   "metadata": {
    "collapsed": false
   },
   "outputs": [
    {
     "name": "stdout",
     "output_type": "stream",
     "text": [
      "PCG stopped after: 269 iterations with relative error 9.964456706126148e-5.\n",
      "  6.270604 seconds (53.81 M allocations: 3.216 GB, 8.24% gc time)\n"
     ]
    }
   ],
   "source": [
    "@time fssMN(b);"
   ]
  },
  {
   "cell_type": "code",
   "execution_count": null,
   "metadata": {
    "collapsed": true
   },
   "outputs": [],
   "source": []
  }
 ],
 "metadata": {
  "kernelspec": {
   "display_name": "Julia 0.4.6",
   "language": "julia",
   "name": "julia-0.4"
  },
  "language_info": {
   "file_extension": ".jl",
   "mimetype": "application/julia",
   "name": "julia",
   "version": "0.4.6"
  }
 },
 "nbformat": 4,
 "nbformat_minor": 0
}
