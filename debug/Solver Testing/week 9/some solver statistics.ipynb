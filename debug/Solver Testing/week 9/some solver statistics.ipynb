{
 "cells": [
  {
   "cell_type": "code",
   "execution_count": 1,
   "metadata": {
    "collapsed": false
   },
   "outputs": [
    {
     "name": "stderr",
     "output_type": "stream",
     "text": [
      "objc[14664]: Class TKApplication is implemented in both /Users/serbanstan/anaconda/lib/libtk8.5.dylib and /System/Library/Frameworks/Tk.framework/Versions/8.5/Tk. One of the two will be used. Which one is undefined.\n",
      "objc[14664]: Class TKMenu is implemented in both /Users/serbanstan/anaconda/lib/libtk8.5.dylib and /System/Library/Frameworks/Tk.framework/Versions/8.5/Tk. One of the two will be used. Which one is undefined.\n",
      "objc[14664]: Class TKContentView is implemented in both /Users/serbanstan/anaconda/lib/libtk8.5.dylib and /System/Library/Frameworks/Tk.framework/Versions/8.5/Tk. One of the two will be used. Which one is undefined.\n",
      "objc[14664]: Class TKWindow is implemented in both /Users/serbanstan/anaconda/lib/libtk8.5.dylib and /System/Library/Frameworks/Tk.framework/Versions/8.5/Tk. One of the two will be used. Which one is undefined.\n"
     ]
    }
   ],
   "source": [
    "using Laplacians"
   ]
  },
  {
   "cell_type": "code",
   "execution_count": 2,
   "metadata": {
    "collapsed": false
   },
   "outputs": [
    {
     "data": {
      "text/plain": [
       "stretchSample (generic function with 1 method)"
      ]
     },
     "execution_count": 2,
     "metadata": {},
     "output_type": "execute_result"
    }
   ],
   "source": [
    "include(\"../../../src/samplingSolver.jl\")\n",
    "include(\"../../../src/KMPSolver.jl\")"
   ]
  },
  {
   "cell_type": "code",
   "execution_count": 7,
   "metadata": {
    "collapsed": true
   },
   "outputs": [],
   "source": [
    "n = 100000;\n",
    "a = chimera(n, 1); la = lap(a);\n",
    "b = rand(n); b = b - mean(b);"
   ]
  },
  {
   "cell_type": "code",
   "execution_count": 8,
   "metadata": {
    "collapsed": false
   },
   "outputs": [
    {
     "name": "stdout",
     "output_type": "stream",
     "text": [
      "  3.373774 seconds (14.66 M allocations: 1.431 GB, 24.04% gc time)\n",
      "  5.667775 seconds (48.00 M allocations: 1.794 GB, 5.98% gc time)\n"
     ]
    },
    {
     "data": {
      "text/plain": [
       "9.808139197082472e-7"
      ]
     },
     "execution_count": 8,
     "metadata": {},
     "output_type": "execute_result"
    }
   ],
   "source": [
    "@time f = samplingSolver(a,tol=1e-6,eps = 0.5, sampConst = 0.02, beta = 1e3, verbose=false);\n",
    "@time x = f(b);\n",
    "norm(la * x - b) / norm(b)"
   ]
  },
  {
   "cell_type": "code",
   "execution_count": 9,
   "metadata": {
    "collapsed": false
   },
   "outputs": [
    {
     "name": "stdout",
     "output_type": "stream",
     "text": [
      "  1.648330 seconds (3.98 M allocations: 500.651 MB, 18.37% gc time)\n",
      " 14.958865 seconds (298.53 k allocations: 10.421 GB, 9.73% gc time)\n"
     ]
    },
    {
     "data": {
      "text/plain": [
       "9.86941059873391e-7"
      ]
     },
     "execution_count": 9,
     "metadata": {},
     "output_type": "execute_result"
    }
   ],
   "source": [
    "@time fKmp = KMPLapSolver(a,tol=1e-6);\n",
    "@time xKmp = fKmp(b);\n",
    "norm(la * xKmp - b) / norm(b)"
   ]
  },
  {
   "cell_type": "code",
   "execution_count": 10,
   "metadata": {
    "collapsed": false
   },
   "outputs": [
    {
     "name": "stdout",
     "output_type": "stream",
     "text": [
      "  2.199309 seconds (3.66 M allocations: 464.608 MB, 14.64% gc time)\n",
      "  7.156728 seconds (17.36 k allocations: 4.139 GB, 6.74% gc time)\n"
     ]
    },
    {
     "data": {
      "text/plain": [
       "9.908186454590134e-7"
      ]
     },
     "execution_count": 10,
     "metadata": {},
     "output_type": "execute_result"
    }
   ],
   "source": [
    "@time faug = augTreeSolver(la,tol=1e-6);\n",
    "@time xaug = faug(b);\n",
    "norm(la * xaug - b) / norm(b)"
   ]
  },
  {
   "cell_type": "markdown",
   "metadata": {
    "collapsed": true
   },
   "source": [
    "### a larger n"
   ]
  },
  {
   "cell_type": "code",
   "execution_count": 11,
   "metadata": {
    "collapsed": true
   },
   "outputs": [],
   "source": [
    "n = 500000;\n",
    "a = chimera(n, 23); la = lap(a);\n",
    "b = rand(n); b = b - mean(b);"
   ]
  },
  {
   "cell_type": "code",
   "execution_count": 12,
   "metadata": {
    "collapsed": false
   },
   "outputs": [
    {
     "name": "stdout",
     "output_type": "stream",
     "text": [
      " 10.745930 seconds (37.00 M allocations: 3.697 GB, 22.54% gc time)\n",
      " 22.912702 seconds (321.01 M allocations: 11.988 GB, 9.53% gc time)\n"
     ]
    },
    {
     "data": {
      "text/plain": [
       "9.900541853426106e-7"
      ]
     },
     "execution_count": 12,
     "metadata": {},
     "output_type": "execute_result"
    }
   ],
   "source": [
    "@time f = samplingSolver(a,tol=1e-6,eps = 0.5, sampConst = 0.02, beta = 1e3, verbose=false);\n",
    "@time x = f(b);\n",
    "norm(la * x - b) / norm(b)"
   ]
  },
  {
   "cell_type": "code",
   "execution_count": 13,
   "metadata": {
    "collapsed": false
   },
   "outputs": [
    {
     "name": "stdout",
     "output_type": "stream",
     "text": [
      "  4.833901 seconds (10.34 M allocations: 1.395 GB, 20.49% gc time)\n",
      " 33.874156 seconds (233.31 k allocations: 22.079 GB, 10.61% gc time)\n"
     ]
    },
    {
     "data": {
      "text/plain": [
       "9.931499209278243e-7"
      ]
     },
     "execution_count": 13,
     "metadata": {},
     "output_type": "execute_result"
    }
   ],
   "source": [
    "@time fKmp = KMPLapSolver(a,tol=1e-6);\n",
    "@time xKmp = fKmp(b);\n",
    "norm(la * xKmp - b) / norm(b)"
   ]
  },
  {
   "cell_type": "code",
   "execution_count": 14,
   "metadata": {
    "collapsed": false
   },
   "outputs": [
    {
     "name": "stdout",
     "output_type": "stream",
     "text": [
      "  6.483741 seconds (9.34 M allocations: 1.426 GB, 13.07% gc time)\n",
      " 44.198403 seconds (19.04 k allocations: 22.691 GB, 4.83% gc time)\n"
     ]
    },
    {
     "data": {
      "text/plain": [
       "9.951217212250907e-7"
      ]
     },
     "execution_count": 14,
     "metadata": {},
     "output_type": "execute_result"
    }
   ],
   "source": [
    "@time faug = augTreeSolver(la,tol=1e-6);\n",
    "@time xaug = faug(b);\n",
    "norm(la * xaug - b) / norm(b)"
   ]
  },
  {
   "cell_type": "markdown",
   "metadata": {
    "collapsed": true
   },
   "source": [
    "### so far, samplingSolver is pretty good. Testing with lower precision..."
   ]
  },
  {
   "cell_type": "code",
   "execution_count": 20,
   "metadata": {
    "collapsed": false
   },
   "outputs": [
    {
     "name": "stdout",
     "output_type": "stream",
     "text": [
      " 12.315969 seconds (37.00 M allocations: 3.697 GB, 24.03% gc time)\n",
      "  5.729234 seconds (73.00 M allocations: 2.749 GB, 9.56% gc time)\n"
     ]
    },
    {
     "data": {
      "text/plain": [
       "0.09747112750587891"
      ]
     },
     "execution_count": 20,
     "metadata": {},
     "output_type": "execute_result"
    }
   ],
   "source": [
    "@time f = samplingSolver(a,tol=1e-1,eps = 0.5, sampConst = 0.02, beta = 1e3, verbose=false);\n",
    "@time x = f(b);\n",
    "norm(la * x - b) / norm(b)"
   ]
  },
  {
   "cell_type": "code",
   "execution_count": 16,
   "metadata": {
    "collapsed": false
   },
   "outputs": [
    {
     "name": "stdout",
     "output_type": "stream",
     "text": [
      "  4.743854 seconds (10.34 M allocations: 1.395 GB, 20.73% gc time)\n",
      "  7.270485 seconds (42.22 k allocations: 4.009 GB, 10.44% gc time)\n"
     ]
    },
    {
     "data": {
      "text/plain": [
       "0.09805948108615913"
      ]
     },
     "execution_count": 16,
     "metadata": {},
     "output_type": "execute_result"
    }
   ],
   "source": [
    "@time fKmp = KMPLapSolver(a,tol=1e-1);\n",
    "@time xKmp = fKmp(b);\n",
    "norm(la * xKmp - b) / norm(b)"
   ]
  },
  {
   "cell_type": "code",
   "execution_count": 17,
   "metadata": {
    "collapsed": false
   },
   "outputs": [
    {
     "name": "stdout",
     "output_type": "stream",
     "text": [
      "  6.706874 seconds (9.34 M allocations: 1.392 GB, 12.99% gc time)\n",
      " 10.161863 seconds (3.79 k allocations: 4.511 GB, 4.60% gc time)\n"
     ]
    },
    {
     "data": {
      "text/plain": [
       "0.0984144417019903"
      ]
     },
     "execution_count": 17,
     "metadata": {},
     "output_type": "execute_result"
    }
   ],
   "source": [
    "@time faug = augTreeSolver(la,tol=1e-1);\n",
    "@time xaug = faug(b);\n",
    "norm(la * xaug - b) / norm(b)"
   ]
  },
  {
   "cell_type": "markdown",
   "metadata": {},
   "source": [
    "### testing on a group of low stretch trees"
   ]
  },
  {
   "cell_type": "code",
   "execution_count": 50,
   "metadata": {
    "collapsed": true
   },
   "outputs": [],
   "source": [
    "n = 500000;\n",
    "a = wtedChimera(n, 23); \n",
    "t1 = akpw(a);\n",
    "t2 = randishKruskal(a);\n",
    "a = t1 + t2\n",
    "la = lap(a);\n",
    "b = rand(n); b = b - mean(b);"
   ]
  },
  {
   "cell_type": "code",
   "execution_count": 51,
   "metadata": {
    "collapsed": false
   },
   "outputs": [
    {
     "data": {
      "text/plain": [
       "1449596"
      ]
     },
     "execution_count": 51,
     "metadata": {},
     "output_type": "execute_result"
    }
   ],
   "source": [
    "nnz(a)"
   ]
  },
  {
   "cell_type": "code",
   "execution_count": 52,
   "metadata": {
    "collapsed": false
   },
   "outputs": [
    {
     "name": "stdout",
     "output_type": "stream",
     "text": [
      " 11.496989 seconds (30.70 M allocations: 3.214 GB, 23.85% gc time)\n",
      "  6.212778 seconds (72.00 M allocations: 2.712 GB, 10.11% gc time)\n"
     ]
    },
    {
     "data": {
      "text/plain": [
       "0.09531279830942449"
      ]
     },
     "execution_count": 52,
     "metadata": {},
     "output_type": "execute_result"
    }
   ],
   "source": [
    "@time f = samplingSolver(a,tol=1e-1,eps = 0.5, sampConst = 0.02, beta = 1e3, verbose=false);\n",
    "@time x = f(b);\n",
    "norm(la * x - b) / norm(b)"
   ]
  },
  {
   "cell_type": "code",
   "execution_count": 53,
   "metadata": {
    "collapsed": false
   },
   "outputs": [
    {
     "name": "stdout",
     "output_type": "stream",
     "text": [
      "  4.212277 seconds (8.26 M allocations: 1.158 GB, 18.62% gc time)\n",
      "  4.998873 seconds (38.82 k allocations: 2.467 GB, 10.97% gc time)\n"
     ]
    },
    {
     "data": {
      "text/plain": [
       "0.09989153687374058"
      ]
     },
     "execution_count": 53,
     "metadata": {},
     "output_type": "execute_result"
    }
   ],
   "source": [
    "@time fKmp = KMPLapSolver(a,tol=1e-1);\n",
    "@time xKmp = fKmp(b);\n",
    "norm(la * xKmp - b) / norm(b)"
   ]
  },
  {
   "cell_type": "code",
   "execution_count": 54,
   "metadata": {
    "collapsed": false
   },
   "outputs": [
    {
     "name": "stdout",
     "output_type": "stream",
     "text": [
      "  6.380130 seconds (7.26 M allocations: 1.221 GB, 12.83% gc time)\n",
      "  6.624369 seconds (2.54 k allocations: 3.021 GB, 6.35% gc time)\n"
     ]
    },
    {
     "data": {
      "text/plain": [
       "0.09927828438524139"
      ]
     },
     "execution_count": 54,
     "metadata": {},
     "output_type": "execute_result"
    }
   ],
   "source": [
    "# need to add something to the diagonal here\n",
    "la2 = la + speye(n) * 1e-15\n",
    "@time faug = augTreeSolver(la2,tol=1e-1);\n",
    "@time xaug = faug(b);\n",
    "norm(la * xaug - b) / norm(b)"
   ]
  },
  {
   "cell_type": "code",
   "execution_count": null,
   "metadata": {
    "collapsed": true
   },
   "outputs": [],
   "source": []
  }
 ],
 "metadata": {
  "kernelspec": {
   "display_name": "Julia 0.4.6",
   "language": "julia",
   "name": "julia-0.4"
  },
  "language_info": {
   "file_extension": ".jl",
   "mimetype": "application/julia",
   "name": "julia",
   "version": "0.4.6"
  }
 },
 "nbformat": 4,
 "nbformat_minor": 0
}
