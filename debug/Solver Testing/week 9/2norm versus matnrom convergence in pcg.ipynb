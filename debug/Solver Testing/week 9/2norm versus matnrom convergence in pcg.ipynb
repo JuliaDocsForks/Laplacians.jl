{
 "cells": [
  {
   "cell_type": "code",
   "execution_count": 1,
   "metadata": {
    "collapsed": false
   },
   "outputs": [
    {
     "name": "stderr",
     "output_type": "stream",
     "text": [
      "objc[5048]: Class TKApplication is implemented in both /Users/serbanstan/anaconda/lib/libtk8.5.dylib and /System/Library/Frameworks/Tk.framework/Versions/8.5/Tk. One of the two will be used. Which one is undefined.\n",
      "objc[5048]: Class TKMenu is implemented in both /Users/serbanstan/anaconda/lib/libtk8.5.dylib and /System/Library/Frameworks/Tk.framework/Versions/8.5/Tk. One of the two will be used. Which one is undefined.\n",
      "objc[5048]: Class TKContentView is implemented in both /Users/serbanstan/anaconda/lib/libtk8.5.dylib and /System/Library/Frameworks/Tk.framework/Versions/8.5/Tk. One of the two will be used. Which one is undefined.\n",
      "objc[5048]: Class TKWindow is implemented in both /Users/serbanstan/anaconda/lib/libtk8.5.dylib and /System/Library/Frameworks/Tk.framework/Versions/8.5/Tk. One of the two will be used. Which one is undefined.\n"
     ]
    }
   ],
   "source": [
    "using Laplacians"
   ]
  },
  {
   "cell_type": "code",
   "execution_count": 2,
   "metadata": {
    "collapsed": false
   },
   "outputs": [
    {
     "data": {
      "text/plain": [
       "checkError (generic function with 1 method)"
      ]
     },
     "execution_count": 2,
     "metadata": {},
     "output_type": "execute_result"
    }
   ],
   "source": [
    "include(\"../../../src/pcgMatNorm.jl\")\n",
    "include(\"../../../src/fastCSC.jl\")\n",
    "include(\"../../../src/KMPSolver.jl\")\n",
    "include(\"../../../src/samplingSolver.jl\")"
   ]
  },
  {
   "cell_type": "code",
   "execution_count": 20,
   "metadata": {
    "collapsed": true
   },
   "outputs": [],
   "source": [
    "n = 100000;\n",
    "a = wtedChimera(n,23); la = lap(a) + speye(n) * 1e-15;\n",
    "truex = rand(n); b = la * truex;"
   ]
  },
  {
   "cell_type": "markdown",
   "metadata": {},
   "source": [
    "### Trying out augTreeSolver"
   ]
  },
  {
   "cell_type": "code",
   "execution_count": 21,
   "metadata": {
    "collapsed": false
   },
   "outputs": [],
   "source": [
    "F = augTreePrecon(la, treeAlg=akpw);"
   ]
  },
  {
   "cell_type": "code",
   "execution_count": 22,
   "metadata": {
    "collapsed": false
   },
   "outputs": [
    {
     "data": {
      "text/plain": [
       "fat (generic function with 1 method)"
      ]
     },
     "execution_count": 22,
     "metadata": {},
     "output_type": "execute_result"
    }
   ],
   "source": [
    "function fat(b; tol=1e-4, maxits=Inf, maxtime=Inf, verbose=false)\n",
    "    return pcg(la, b, F, tol=tol, maxits=maxits, maxtime=maxtime, verbose=verbose)\n",
    "end"
   ]
  },
  {
   "cell_type": "code",
   "execution_count": 23,
   "metadata": {
    "collapsed": false
   },
   "outputs": [
    {
     "name": "stdout",
     "output_type": "stream",
     "text": [
      "PCG stopped after: 115 iterations with relative error 7.249979822692232e-5.\n",
      "  1.364464 seconds (10.47 k allocations: 878.567 MB, 8.72% gc time)\n"
     ]
    }
   ],
   "source": [
    "@time fat(b, verbose=true);"
   ]
  },
  {
   "cell_type": "code",
   "execution_count": 24,
   "metadata": {
    "collapsed": false
   },
   "outputs": [
    {
     "data": {
      "text/plain": [
       "fatMN (generic function with 1 method)"
      ]
     },
     "execution_count": 24,
     "metadata": {},
     "output_type": "execute_result"
    }
   ],
   "source": [
    "function fatMN(b; tol=1e-4, maxits=Inf, maxtime=Inf, verbose=false)\n",
    "    return pcgMatNorm(la, b, F, truex, tol=tol, maxits=maxits, maxtime=maxtime, verbose=verbose)\n",
    "end"
   ]
  },
  {
   "cell_type": "code",
   "execution_count": 25,
   "metadata": {
    "collapsed": false
   },
   "outputs": [
    {
     "name": "stdout",
     "output_type": "stream",
     "text": [
      "PCG stopped after: 622 iterations with relative error 9.924057662695772e-5.\n",
      " 12.235810 seconds (35.00 k allocations: 6.493 GB, 8.27% gc time)\n"
     ]
    }
   ],
   "source": [
    "@time fatMN(b, verbose=true);"
   ]
  },
  {
   "cell_type": "markdown",
   "metadata": {},
   "source": [
    "### Trying for KMP"
   ]
  },
  {
   "cell_type": "code",
   "execution_count": 26,
   "metadata": {
    "collapsed": false
   },
   "outputs": [
    {
     "name": "stdout",
     "output_type": "stream",
     "text": [
      "aveStretch : 5.378693867716532 fac : 11.167271420603699\n",
      "level 0. Dimension 100000 off-tree edges : 237763\n",
      "level 1. Dimension 21866 off-tree edges : 8318\n"
     ]
    }
   ],
   "source": [
    "params = KMPparams(1/36, 6, 0.125, 600, :akpw);\n",
    "\n",
    "a2 = copy(a);\n",
    "tree = akpw(a2);\n",
    "ord = Laplacians.dfsOrder(tree);\n",
    "aord = symPermuteCSC(a2,ord);\n",
    "tord = symPermuteCSC(tree,ord)\n",
    "la = lap(aord);\n",
    "fsub = KMPLapPrecon(aord, tord, params, verbose=true);"
   ]
  },
  {
   "cell_type": "code",
   "execution_count": 27,
   "metadata": {
    "collapsed": false
   },
   "outputs": [
    {
     "data": {
      "text/plain": [
       "fkmp (generic function with 1 method)"
      ]
     },
     "execution_count": 27,
     "metadata": {},
     "output_type": "execute_result"
    }
   ],
   "source": [
    "function fkmp(b::Array{Float64,1}; tol=1e-4, maxits=Inf, verbose=false)\n",
    "    bord = b[ord]\n",
    "\n",
    "    xord = pcg(la, bord, fsub, tol=tol, maxits=maxits, verbose=verbose)\n",
    "\n",
    "    x = zeros(Float64,n)\n",
    "    x[ord] = xord\n",
    "    subMean!(x)\n",
    "    return x\n",
    "end"
   ]
  },
  {
   "cell_type": "code",
   "execution_count": 28,
   "metadata": {
    "collapsed": false
   },
   "outputs": [
    {
     "name": "stdout",
     "output_type": "stream",
     "text": [
      "PCG stopped after: 93 iterations with relative error 7.482332382062994e-5.\n",
      "  2.492771 seconds (56.83 k allocations: 1.851 GB, 10.61% gc time)\n"
     ]
    }
   ],
   "source": [
    "@time fkmp(b, verbose=true);"
   ]
  },
  {
   "cell_type": "code",
   "execution_count": 29,
   "metadata": {
    "collapsed": false
   },
   "outputs": [
    {
     "data": {
      "text/plain": [
       "fkmpMN (generic function with 1 method)"
      ]
     },
     "execution_count": 29,
     "metadata": {},
     "output_type": "execute_result"
    }
   ],
   "source": [
    "function fkmpMN(b::Array{Float64,1}; tol=1e-4, maxits=Inf, verbose=false)\n",
    "    bord = b[ord]\n",
    "\n",
    "    xord = pcgMatNorm(la, bord, fsub, truex[ord], tol=tol, maxits=maxits, verbose=verbose)\n",
    "\n",
    "    x = zeros(Float64,n)\n",
    "    x[ord] = xord\n",
    "    subMean!(x)\n",
    "    return x\n",
    "end"
   ]
  },
  {
   "cell_type": "code",
   "execution_count": 30,
   "metadata": {
    "collapsed": false
   },
   "outputs": [
    {
     "name": "stdout",
     "output_type": "stream",
     "text": [
      "PCG stopped after: 261 iterations with relative error 9.926358402552189e-5.\n",
      "  9.407370 seconds (148.26 k allocations: 5.971 GB, 10.24% gc time)\n"
     ]
    }
   ],
   "source": [
    "@time fkmpMN(b, verbose=true);"
   ]
  },
  {
   "cell_type": "markdown",
   "metadata": {},
   "source": [
    "### Sampling Solver"
   ]
  },
  {
   "cell_type": "code",
   "execution_count": 31,
   "metadata": {
    "collapsed": false
   },
   "outputs": [
    {
     "name": "stdout",
     "output_type": "stream",
     "text": [
      "  2.914548 seconds (9.75 M allocations: 1009.393 MB, 18.30% gc time)\n"
     ]
    },
    {
     "data": {
      "text/plain": [
       "0.8888515210652563"
      ]
     },
     "execution_count": 31,
     "metadata": {},
     "output_type": "execute_result"
    }
   ],
   "source": [
    "@time F,gOp,U,d,ord,cn,cntime = buildSolver(a, eps=0.5, sampConst=0.02, beta=1e3, verbose=false);\n",
    "checkError(gOp)"
   ]
  },
  {
   "cell_type": "code",
   "execution_count": 32,
   "metadata": {
    "collapsed": false
   },
   "outputs": [],
   "source": [
    "la = lap(symPermuteCSC(a, ord));"
   ]
  },
  {
   "cell_type": "code",
   "execution_count": 33,
   "metadata": {
    "collapsed": false
   },
   "outputs": [
    {
     "data": {
      "text/plain": [
       "fss (generic function with 1 method)"
      ]
     },
     "execution_count": 33,
     "metadata": {},
     "output_type": "execute_result"
    }
   ],
   "source": [
    "function fss(b)\n",
    "    auxb = copy(b)\n",
    "    push!(auxb, -sum(auxb))\n",
    "\n",
    "    ret = pcg(la, auxb[ord], F, tol=1e-4, maxits=Inf, maxtime=Inf, verbose=true)\n",
    "    ret = ret[invperm(ord)]\n",
    "\n",
    "    # We want to discard the nth element of ret (which corresponds to the first element in the permutation)\n",
    "    ret = ret - ret[n]\n",
    "\n",
    "    pop!(ret)\n",
    "\n",
    "    return ret\n",
    "end"
   ]
  },
  {
   "cell_type": "code",
   "execution_count": 34,
   "metadata": {
    "collapsed": false
   },
   "outputs": [
    {
     "name": "stdout",
     "output_type": "stream",
     "text": [
      "PCG stopped after: 128 iterations with relative error 9.514118898949973e-5.\n",
      "  3.637007 seconds (25.60 M allocations: 1.150 GB, 6.63% gc time)\n"
     ]
    }
   ],
   "source": [
    "@time fss(b);"
   ]
  },
  {
   "cell_type": "code",
   "execution_count": 35,
   "metadata": {
    "collapsed": false
   },
   "outputs": [
    {
     "data": {
      "text/plain": [
       "fssMN (generic function with 1 method)"
      ]
     },
     "execution_count": 35,
     "metadata": {},
     "output_type": "execute_result"
    }
   ],
   "source": [
    "function fssMN(b)\n",
    "    auxb = copy(b)\n",
    "    push!(auxb, -sum(auxb))\n",
    "\n",
    "    ret = pcgMatNorm(la, auxb[ord], F, truex[ord], tol=1e-4, maxits=Inf, maxtime=Inf, verbose=true)\n",
    "    ret = ret[invperm(ord)]\n",
    "\n",
    "    # We want to discard the nth element of ret (which corresponds to the first element in the permutation)\n",
    "    ret = ret - ret[n]\n",
    "\n",
    "    pop!(ret)\n",
    "\n",
    "    return ret\n",
    "end"
   ]
  },
  {
   "cell_type": "code",
   "execution_count": 36,
   "metadata": {
    "collapsed": false
   },
   "outputs": [
    {
     "name": "stdout",
     "output_type": "stream",
     "text": [
      "PCG stopped after: 234 iterations with relative error 9.721828404400597e-5.\n",
      "  7.794090 seconds (46.81 M allocations: 2.799 GB, 7.54% gc time)\n"
     ]
    }
   ],
   "source": [
    "@time fssMN(b);"
   ]
  },
  {
   "cell_type": "code",
   "execution_count": null,
   "metadata": {
    "collapsed": true
   },
   "outputs": [],
   "source": []
  }
 ],
 "metadata": {
  "kernelspec": {
   "display_name": "Julia 0.4.6",
   "language": "julia",
   "name": "julia-0.4"
  },
  "language_info": {
   "file_extension": ".jl",
   "mimetype": "application/julia",
   "name": "julia",
   "version": "0.4.6"
  }
 },
 "nbformat": 4,
 "nbformat_minor": 0
}
