{
 "cells": [
  {
   "cell_type": "code",
   "execution_count": 1,
   "metadata": {
    "collapsed": true
   },
   "outputs": [],
   "source": [
    "using Laplacians"
   ]
  },
  {
   "cell_type": "code",
   "execution_count": 2,
   "metadata": {
    "collapsed": true
   },
   "outputs": [],
   "source": [
    "n = 100;\n",
    "a = chimera(n,1);\n",
    "excess = zeros(n); excess[1] = excess[n] = 1e-10;\n",
    "la = lap(a);\n",
    "sdd = la + spdiagm(excess);\n",
    "b = rand(n); b = b - mean(b);"
   ]
  },
  {
   "cell_type": "code",
   "execution_count": 3,
   "metadata": {
    "collapsed": false
   },
   "outputs": [],
   "source": [
    "augTreeSolver(sdd);\n",
    "KMPSDDSolver(sdd);\n",
    "hybridSDDSolver(sdd);\n",
    "samplingSDDSolver(sdd);\n",
    "AMGSolver(sdd);"
   ]
  },
  {
   "cell_type": "code",
   "execution_count": 4,
   "metadata": {
    "collapsed": false
   },
   "outputs": [],
   "source": [
    "augTreeLapSolver(a)\n",
    "KMPLapSolver(a)\n",
    "hybridLapSolver(a)\n",
    "samplingLapSolver(a)\n",
    "AMGLapSolver(a);"
   ]
  },
  {
   "cell_type": "code",
   "execution_count": null,
   "metadata": {
    "collapsed": true
   },
   "outputs": [],
   "source": []
  }
 ],
 "metadata": {
  "anaconda-cloud": {},
  "kernelspec": {
   "display_name": "Julia 0.4.6",
   "language": "julia",
   "name": "julia-0.4"
  },
  "language_info": {
   "file_extension": ".jl",
   "mimetype": "application/julia",
   "name": "julia",
   "version": "0.4.6"
  }
 },
 "nbformat": 4,
 "nbformat_minor": 0
}
