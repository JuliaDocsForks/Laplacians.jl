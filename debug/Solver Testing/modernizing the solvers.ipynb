{
 "cells": [
  {
   "cell_type": "code",
   "execution_count": 1,
   "metadata": {
    "collapsed": false
   },
   "outputs": [],
   "source": [
    "using Laplacians"
   ]
  },
  {
   "cell_type": "code",
   "execution_count": 5,
   "metadata": {
    "collapsed": false
   },
   "outputs": [],
   "source": [
    "n = 1000;\n",
    "a = chimera(n,1);\n",
    "excess = zeros(n); excess[1] = excess[n] = 1e-10;\n",
    "la = lap(a);\n",
    "sdd = la + spdiagm(excess);\n",
    "b = rand(n); b = b - mean(b);"
   ]
  },
  {
   "cell_type": "code",
   "execution_count": 10,
   "metadata": {
    "collapsed": false
   },
   "outputs": [
    {
     "name": "stdout",
     "output_type": "stream",
     "text": [
      "  0.006364 seconds (36.52 k allocations: 4.711 MB)\n",
      "  0.015051 seconds (2.80 k allocations: 8.493 MB, 39.30% gc time)\n",
      "8.968930330622376e-7\n",
      "\n",
      "  0.006678 seconds (37.81 k allocations: 6.022 MB)\n",
      "  0.016212 seconds (7.75 k allocations: 13.294 MB, 23.65% gc time)\n",
      "9.502832793911785e-7\n",
      "\n",
      "  0.005839 seconds (41.48 k allocations: 6.751 MB)\n",
      "  0.122261 seconds (549.95 k allocations: 46.291 MB, 6.66% gc time)\n",
      "9.337529317296252e-7\n",
      "\n",
      "  0.017103 seconds (85.19 k allocations: 12.874 MB, 29.69% gc time)\n",
      "  0.021217 seconds (266.52 k allocations: 12.266 MB)\n",
      "8.525387175730185e-7\n",
      "\n",
      "  0.006891 seconds (166 allocations: 148.797 KB)\n",
      "  0.041185 seconds (648 allocations: 218.953 KB)\n",
      "1.3838949653717097e-7\n",
      "\n"
     ]
    }
   ],
   "source": [
    "for solver in SDDSolvers\n",
    "    @time f = solver(sdd, tol=1e-6);\n",
    "    @time x = f(b);\n",
    "    println(norm(sdd * x - b) / norm(b))\n",
    "    println()\n",
    "end"
   ]
  },
  {
   "cell_type": "code",
   "execution_count": 11,
   "metadata": {
    "collapsed": false
   },
   "outputs": [
    {
     "name": "stdout",
     "output_type": "stream",
     "text": [
      "  0.005569 seconds (36.66 k allocations: 5.126 MB)\n",
      "  0.017132 seconds (9.71 k allocations: 13.566 MB, 18.36% gc time)\n",
      "9.454740115776214e-7\n",
      "\n",
      "  0.007181 seconds (37.54 k allocations: 5.262 MB)\n",
      "  0.016136 seconds (7.54 k allocations: 12.708 MB, 20.55% gc time)\n",
      "8.966310364599137e-7\n",
      "\n",
      "  0.004474 seconds (40.51 k allocations: 5.923 MB)\n",
      "  0.119222 seconds (536.00 k allocations: 43.908 MB, 5.55% gc time)\n",
      "9.421645884819317e-7\n",
      "\n",
      "  0.014995 seconds (84.95 k allocations: 9.620 MB, 24.60% gc time)\n",
      "  0.016420 seconds (258.19 k allocations: 11.854 MB)\n",
      "9.321300575495527e-7\n",
      "\n",
      "  0.011203 seconds (211 allocations: 402.234 KB)\n",
      "  0.050472 seconds (648 allocations: 218.953 KB)\n",
      "1.3838949652361317e-7\n",
      "\n"
     ]
    }
   ],
   "source": [
    "for solver in LapSolvers\n",
    "    @time f = solver(a, tol=1e-6);\n",
    "    @time x = f(b);\n",
    "    println(norm(la * x - b) / norm(b))\n",
    "    println()\n",
    "end"
   ]
  },
  {
   "cell_type": "code",
   "execution_count": null,
   "metadata": {
    "collapsed": true
   },
   "outputs": [],
   "source": []
  }
 ],
 "metadata": {
  "anaconda-cloud": {},
  "kernelspec": {
   "display_name": "Julia 0.4.6",
   "language": "julia",
   "name": "julia-0.4"
  },
  "language_info": {
   "file_extension": ".jl",
   "mimetype": "application/julia",
   "name": "julia",
   "version": "0.4.6"
  }
 },
 "nbformat": 4,
 "nbformat_minor": 0
}
