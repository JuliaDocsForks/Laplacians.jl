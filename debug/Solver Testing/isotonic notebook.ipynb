{
 "cells": [
  {
   "cell_type": "code",
   "execution_count": 1,
   "metadata": {
    "collapsed": true
   },
   "outputs": [],
   "source": [
    "using Laplacians"
   ]
  },
  {
   "cell_type": "code",
   "execution_count": 2,
   "metadata": {
    "collapsed": false
   },
   "outputs": [
    {
     "data": {
      "text/plain": [
       "\"/Users/serbanstan/git/Laplacians.jl/debug/Solver Testing\""
      ]
     },
     "execution_count": 2,
     "metadata": {},
     "output_type": "execute_result"
    }
   ],
   "source": [
    "pwd()"
   ]
  },
  {
   "cell_type": "code",
   "execution_count": 3,
   "metadata": {
    "collapsed": false
   },
   "outputs": [],
   "source": [
    "include(\"../../src/isotonicIPM.jl\");"
   ]
  },
  {
   "cell_type": "code",
   "execution_count": 4,
   "metadata": {
    "collapsed": false
   },
   "outputs": [
    {
     "data": {
      "text/plain": [
       "generateInput (generic function with 1 method)"
      ]
     },
     "execution_count": 4,
     "metadata": {},
     "output_type": "execute_result"
    }
   ],
   "source": [
    "function generateInput(a)\n",
    "    n = a.n\n",
    "    \n",
    "    b = zeros(Float64,n);\n",
    "    b[1] = 1;\n",
    "    b[n] = -1;\n",
    "    f = KMPLapSolver(a, verbose=true, tol=1e-1); # use any other solver\n",
    "    v = f(b)\n",
    "    v = v / (v[1] - v[n])\n",
    "\n",
    "    p = sortperm(v);\n",
    "    ap = symPermuteCSC(a, p);\n",
    "    # vp = v[p]\n",
    "    vp = v[p] + rand(n) / sqrt(n);\n",
    "    at = triu(ap);\n",
    "    \n",
    "    return at,vp\n",
    "end"
   ]
  },
  {
   "cell_type": "code",
   "execution_count": 5,
   "metadata": {
    "collapsed": false
   },
   "outputs": [
    {
     "name": "stdout",
     "output_type": "stream",
     "text": [
      "aveStretch : 5.7942364923528835 fac : 7.218013872138243\n",
      "level 0. Dimension 1000 off-tree edges : 1701\n",
      "PCG stopped after: 21 iterations with relative error 0.08399090415846464.\n",
      "  5.449023 seconds (5.26 M allocations: 240.199 MB, 1.63% gc time)\n"
     ]
    },
    {
     "data": {
      "text/plain": [
       "2700"
      ]
     },
     "execution_count": 5,
     "metadata": {},
     "output_type": "execute_result"
    }
   ],
   "source": [
    "a = wGrid3(10, weightGen=rand);\n",
    "@time a,v = generateInput(a);\n",
    "nnz(a)"
   ]
  },
  {
   "cell_type": "code",
   "execution_count": 6,
   "metadata": {
    "collapsed": false
   },
   "outputs": [
    {
     "name": "stdout",
     "output_type": "stream",
     "text": [
      "  3.091868 seconds (5.84 M allocations: 822.104 MB, 5.60% gc time)\n"
     ]
    },
    {
     "data": {
      "text/plain": [
       "(8.7982031779126e-6,118)"
      ]
     },
     "execution_count": 6,
     "metadata": {},
     "output_type": "execute_result"
    }
   ],
   "source": [
    "mysolver = (H -> augTreeSolver(H, verbose=false, tol=1e-1))\n",
    "@time x,acc,itercount = isotonicIPMrelEps(a,v,1e-5,mysolver)\n",
    "acc,itercount"
   ]
  },
  {
   "cell_type": "code",
   "execution_count": 7,
   "metadata": {
    "collapsed": false
   },
   "outputs": [
    {
     "name": "stdout",
     "output_type": "stream",
     "text": [
      "  3.351883 seconds (6.12 M allocations: 1.047 GB, 6.47% gc time)\n"
     ]
    },
    {
     "data": {
      "text/plain": [
       "(8.804724250205755e-6,105)"
      ]
     },
     "execution_count": 7,
     "metadata": {},
     "output_type": "execute_result"
    }
   ],
   "source": [
    "mysolver = (H -> KMPSDDSolver(H, verbose=false, tol=1e-1))\n",
    "@time x,acc,itercount = isotonicIPMrelEps(a,v,1e-5,mysolver)\n",
    "acc,itercount"
   ]
  },
  {
   "cell_type": "code",
   "execution_count": 8,
   "metadata": {
    "collapsed": false
   },
   "outputs": [
    {
     "name": "stdout",
     "output_type": "stream",
     "text": [
      "  8.634749 seconds (14.29 M allocations: 1.535 GB, 4.90% gc time)\n"
     ]
    },
    {
     "data": {
      "text/plain": [
       "(8.80471118349614e-6,111)"
      ]
     },
     "execution_count": 8,
     "metadata": {},
     "output_type": "execute_result"
    }
   ],
   "source": [
    "mysolver = (H -> hybridSDDSolver(H, verbose=false, tol=1e-1))\n",
    "@time x,acc,itercount = isotonicIPMrelEps(a,v,1e-5,mysolver)\n",
    "acc,itercount"
   ]
  },
  {
   "cell_type": "code",
   "execution_count": 9,
   "metadata": {
    "collapsed": false
   },
   "outputs": [
    {
     "name": "stdout",
     "output_type": "stream",
     "text": [
      " 20.444187 seconds (1.85 M allocations: 269.010 MB, 0.66% gc time)\n"
     ]
    },
    {
     "data": {
      "text/plain": [
       "(8.798202875276277e-6,117)"
      ]
     },
     "execution_count": 9,
     "metadata": {},
     "output_type": "execute_result"
    }
   ],
   "source": [
    "mysolver = (H -> AMGSolver(H, verbose=false, tol=1e-1))\n",
    "@time x,acc,itercount = isotonicIPMrelEps(a,v,1e-5,mysolver)\n",
    "acc,itercount"
   ]
  },
  {
   "cell_type": "code",
   "execution_count": null,
   "metadata": {
    "collapsed": true
   },
   "outputs": [],
   "source": []
  }
 ],
 "metadata": {
  "kernelspec": {
   "display_name": "Julia 0.4.6",
   "language": "julia",
   "name": "julia-0.4"
  },
  "language_info": {
   "file_extension": ".jl",
   "mimetype": "application/julia",
   "name": "julia",
   "version": "0.4.6"
  }
 },
 "nbformat": 4,
 "nbformat_minor": 0
}
