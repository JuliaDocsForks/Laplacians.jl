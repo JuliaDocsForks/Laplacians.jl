{
 "cells": [
  {
   "cell_type": "code",
   "execution_count": 1,
   "metadata": {
    "collapsed": true
   },
   "outputs": [],
   "source": [
    "using Laplacians"
   ]
  },
  {
   "cell_type": "code",
   "execution_count": 2,
   "metadata": {
    "collapsed": false
   },
   "outputs": [
    {
     "data": {
      "text/plain": [
       "constructLowerTriangularMat (generic function with 1 method)"
      ]
     },
     "execution_count": 2,
     "metadata": {},
     "output_type": "execute_result"
    }
   ],
   "source": [
    "include(\"../../../src/samplingTreeSolver.jl\")"
   ]
  },
  {
   "cell_type": "code",
   "execution_count": 3,
   "metadata": {
    "collapsed": true
   },
   "outputs": [],
   "source": [
    "n = 100000;\n",
    "a = wtedChimera(n,1);\n",
    "la = lap(a);\n",
    "b = rand(n); b = b - mean(b);"
   ]
  },
  {
   "cell_type": "code",
   "execution_count": 11,
   "metadata": {
    "collapsed": false
   },
   "outputs": [
    {
     "name": "stdout",
     "output_type": "stream",
     "text": [
      "rho = 10.603796220956797\n",
      "Average number of multiedges = 2.8483223868531704\n",
      "Maximum number of multiedges = 10.603796220957246\n",
      "Time to build the tree and compute the stretch: elapsed time: 1.603573349 seconds\n",
      "\n",
      "The total size of the linked list data structure should be at most 5227123\n",
      "The actual size is 107820\n",
      "\n",
      "  3.551850 seconds (21.47 M allocations: 1.278 GB, 14.13% gc time)\n"
     ]
    }
   ],
   "source": [
    "@time f = samplingSolver(a, maxits=1000, tol=1e-6, verbose=true, eps = 0.5, sampConst = 0.02, beta = 1000.0, \n",
    "startingSize = 1000, blockSize = 20);"
   ]
  },
  {
   "cell_type": "code",
   "execution_count": 12,
   "metadata": {
    "collapsed": false
   },
   "outputs": [
    {
     "name": "stdout",
     "output_type": "stream",
     "text": [
      "PCG stopped after: 241 iterations with relative error 9.973476317234382e-7.\n",
      "  4.477153 seconds (48.21 M allocations: 1.801 GB, 8.35% gc time)\n"
     ]
    },
    {
     "data": {
      "text/plain": [
       "9.97347631769182e-7"
      ]
     },
     "execution_count": 12,
     "metadata": {},
     "output_type": "execute_result"
    }
   ],
   "source": [
    "@time norm(la * f(b) - b) / norm(b)"
   ]
  },
  {
   "cell_type": "code",
   "execution_count": null,
   "metadata": {
    "collapsed": true
   },
   "outputs": [],
   "source": []
  },
  {
   "cell_type": "code",
   "execution_count": 15,
   "metadata": {
    "collapsed": false
   },
   "outputs": [
    {
     "name": "stdout",
     "output_type": "stream",
     "text": [
      "rho = 10.603796220956797\n",
      "Average number of multiedges = 2.8483223868531704\n",
      "Maximum number of multiedges = 10.603796220957246\n",
      "Time to build the tree and compute the stretch: elapsed time: 1.580662252 seconds\n",
      "\n",
      "The total size of the linked list data structure should be at most 5227123\n",
      "The actual size is 107820\n",
      "\n",
      "  2.891870 seconds (13.34 M allocations: 1.106 GB, 16.08% gc time)\n"
     ]
    }
   ],
   "source": [
    "@time f,gOp,U,d,_,cn,str = buildSolver(a, eps = 0.5, sampConst = 0.02, beta = 1000.0,\n",
    "startingSize = 1000, blockSize = 20);"
   ]
  },
  {
   "cell_type": "code",
   "execution_count": 16,
   "metadata": {
    "collapsed": false
   },
   "outputs": [
    {
     "data": {
      "text/plain": [
       "0.7620502276976949"
      ]
     },
     "execution_count": 16,
     "metadata": {},
     "output_type": "execute_result"
    }
   ],
   "source": [
    "checkError(gOp)"
   ]
  },
  {
   "cell_type": "code",
   "execution_count": 17,
   "metadata": {
    "collapsed": false
   },
   "outputs": [
    {
     "data": {
      "text/plain": [
       "884008"
      ]
     },
     "execution_count": 17,
     "metadata": {},
     "output_type": "execute_result"
    }
   ],
   "source": [
    "length(U.data.nzval)"
   ]
  },
  {
   "cell_type": "code",
   "execution_count": null,
   "metadata": {
    "collapsed": true
   },
   "outputs": [],
   "source": []
  }
 ],
 "metadata": {
  "kernelspec": {
   "display_name": "Julia 0.4.5",
   "language": "julia",
   "name": "julia-0.4"
  },
  "language_info": {
   "file_extension": ".jl",
   "mimetype": "application/julia",
   "name": "julia",
   "version": "0.4.5"
  }
 },
 "nbformat": 4,
 "nbformat_minor": 0
}
