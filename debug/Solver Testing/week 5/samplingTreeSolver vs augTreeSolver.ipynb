{
 "cells": [
  {
   "cell_type": "code",
   "execution_count": 1,
   "metadata": {
    "collapsed": false
   },
   "outputs": [],
   "source": [
    "using Laplacians"
   ]
  },
  {
   "cell_type": "code",
   "execution_count": 2,
   "metadata": {
    "collapsed": false
   },
   "outputs": [
    {
     "data": {
      "text/plain": [
       "constructLowerTriangularMat (generic function with 1 method)"
      ]
     },
     "execution_count": 2,
     "metadata": {},
     "output_type": "execute_result"
    }
   ],
   "source": [
    "include(\"../../../src/samplingTreeSolver.jl\")"
   ]
  },
  {
   "cell_type": "code",
   "execution_count": 3,
   "metadata": {
    "collapsed": true
   },
   "outputs": [],
   "source": [
    "n = 100000\n",
    "a = wtedChimera(n,1);\n",
    "b = rand(n); b = b - mean(b);"
   ]
  },
  {
   "cell_type": "code",
   "execution_count": 19,
   "metadata": {
    "collapsed": false
   },
   "outputs": [
    {
     "name": "stdout",
     "output_type": "stream",
     "text": [
      "rho = 10.603796220956797\n",
      "Average number of multiedges = 2.8483223868531704\n",
      "Maximum number of multiedges = 10.603796220957246\n",
      "Time to build the tree and compute the stretch: elapsed time: 1.368869985 seconds\n",
      "  2.917749 seconds (19.62 M allocations: 1.210 GB, 17.49% gc time)\n"
     ]
    }
   ],
   "source": [
    "@time f = samplingSolver(a, eps = 0.5, sampConst = 0.02, beta = 1000.0);"
   ]
  },
  {
   "cell_type": "code",
   "execution_count": 20,
   "metadata": {
    "collapsed": false
   },
   "outputs": [
    {
     "name": "stdout",
     "output_type": "stream",
     "text": [
      "  1.684899 seconds (20.20 M allocations: 773.671 MB, 7.16% gc time)\n"
     ]
    }
   ],
   "source": [
    "@time f(b);"
   ]
  },
  {
   "cell_type": "code",
   "execution_count": 14,
   "metadata": {
    "collapsed": false
   },
   "outputs": [
    {
     "name": "stdout",
     "output_type": "stream",
     "text": [
      "  1.511223 seconds (3.27 M allocations: 504.446 MB, 17.15% gc time)\n"
     ]
    }
   ],
   "source": [
    "@time fdan = lapWrapSolver(augTreeSolver,lap(a),tol=1e-6,maxits=1000);"
   ]
  },
  {
   "cell_type": "code",
   "execution_count": 15,
   "metadata": {
    "collapsed": false
   },
   "outputs": [
    {
     "name": "stdout",
     "output_type": "stream",
     "text": [
      "  4.362117 seconds (10.98 k allocations: 2.610 GB, 6.48% gc time)\n"
     ]
    }
   ],
   "source": [
    "@time fdan(b);"
   ]
  },
  {
   "cell_type": "code",
   "execution_count": null,
   "metadata": {
    "collapsed": true
   },
   "outputs": [],
   "source": []
  },
  {
   "cell_type": "code",
   "execution_count": 21,
   "metadata": {
    "collapsed": false
   },
   "outputs": [
    {
     "name": "stdout",
     "output_type": "stream",
     "text": [
      "rho = 10.603796220956797\n",
      "Average number of multiedges = 2.8483223868531704\n",
      "Maximum number of multiedges = 10.603796220957246\n",
      "Time to build the tree and compute the stretch: elapsed time: 1.42903296 seconds\n",
      "computing the condition number takes: elapsed time: 39.051247914 seconds\n",
      " 41.555058 seconds (456.75 M allocations: 10.141 GB, 3.90% gc time)\n"
     ]
    }
   ],
   "source": [
    "@time f,gOp,U,d,ord,cn,str = buildSolver(a, eps = 0.5, sampConst = 0.02, beta = 1000.0, returnCN=true);"
   ]
  },
  {
   "cell_type": "code",
   "execution_count": 22,
   "metadata": {
    "collapsed": false
   },
   "outputs": [
    {
     "data": {
      "text/plain": [
       "0.7653007241457528"
      ]
     },
     "execution_count": 22,
     "metadata": {},
     "output_type": "execute_result"
    }
   ],
   "source": [
    "checkError(gOp)"
   ]
  },
  {
   "cell_type": "code",
   "execution_count": 23,
   "metadata": {
    "collapsed": false
   },
   "outputs": [
    {
     "data": {
      "text/plain": [
       "(1225.0076984401815,1622.5300617619948)"
      ]
     },
     "execution_count": 23,
     "metadata": {},
     "output_type": "execute_result"
    }
   ],
   "source": [
    "cn"
   ]
  },
  {
   "cell_type": "code",
   "execution_count": 24,
   "metadata": {
    "collapsed": false
   },
   "outputs": [
    {
     "data": {
      "text/plain": [
       "813197"
      ]
     },
     "execution_count": 24,
     "metadata": {},
     "output_type": "execute_result"
    }
   ],
   "source": [
    "length(U.data.nzval)"
   ]
  },
  {
   "cell_type": "code",
   "execution_count": null,
   "metadata": {
    "collapsed": true
   },
   "outputs": [],
   "source": []
  }
 ],
 "metadata": {
  "kernelspec": {
   "display_name": "Julia 0.4.5",
   "language": "julia",
   "name": "julia-0.4"
  },
  "language_info": {
   "file_extension": ".jl",
   "mimetype": "application/julia",
   "name": "julia",
   "version": "0.4.5"
  }
 },
 "nbformat": 4,
 "nbformat_minor": 0
}
