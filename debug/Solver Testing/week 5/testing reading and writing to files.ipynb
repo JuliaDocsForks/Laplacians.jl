{
 "cells": [
  {
   "cell_type": "code",
   "execution_count": 1,
   "metadata": {
    "collapsed": false
   },
   "outputs": [],
   "source": [
    "using Laplacians"
   ]
  },
  {
   "cell_type": "code",
   "execution_count": 6,
   "metadata": {
    "collapsed": false
   },
   "outputs": [
    {
     "data": {
      "text/plain": [
       "writeToFile (generic function with 1 method)"
      ]
     },
     "execution_count": 6,
     "metadata": {},
     "output_type": "execute_result"
    }
   ],
   "source": [
    "function writeToFile{Tv,Ti}(filename::ASCIIString, a::SparseMatrixCSC{Tv,Ti})\n",
    "    f = open(filename, \"w\")\n",
    "    \n",
    "    println(f, a.n, \" \", a.m, \" \", length(a.nzval))\n",
    "\n",
    "    pos = 1\n",
    "    for i in 1:length(a.nzval)\n",
    "        while a.colptr[pos + 1] <= i\n",
    "            pos = pos + 1\n",
    "        end\n",
    "        \n",
    "        println(f, a.rowval[i], \" \", pos, \" \", a.nzval[i])\n",
    "    end\n",
    "    \n",
    "    close(f)\n",
    "end"
   ]
  },
  {
   "cell_type": "code",
   "execution_count": 10,
   "metadata": {
    "collapsed": false
   },
   "outputs": [
    {
     "data": {
      "text/plain": [
       "readFromFile (generic function with 1 method)"
      ]
     },
     "execution_count": 10,
     "metadata": {},
     "output_type": "execute_result"
    }
   ],
   "source": [
    "function readFromFile(filename::ASCIIString)\n",
    "    r = readdlm(\"test.txt\", ' ')\n",
    "    \n",
    "    m::Int64 = r[1,1]\n",
    "    n::Int64 = r[1,2]\n",
    "    nz::Int64 = r[1,3]\n",
    "    U = Int64[]\n",
    "    V = Int64[]\n",
    "    W = Float64[]\n",
    "    \n",
    "    for i in 2:(nz+1)\n",
    "        push!(U, r[i,1])\n",
    "        push!(V, r[i,2])\n",
    "        push!(W, r[i,3])\n",
    "    end\n",
    "    \n",
    "    return sparse(U,V,W,m,n)\n",
    "end"
   ]
  },
  {
   "cell_type": "code",
   "execution_count": 18,
   "metadata": {
    "collapsed": false
   },
   "outputs": [],
   "source": [
    "a = wtedChimera(100000,1);"
   ]
  },
  {
   "cell_type": "code",
   "execution_count": 19,
   "metadata": {
    "collapsed": false
   },
   "outputs": [],
   "source": [
    "writeToFile(\"test.txt\", a)"
   ]
  },
  {
   "cell_type": "code",
   "execution_count": 20,
   "metadata": {
    "collapsed": false
   },
   "outputs": [],
   "source": [
    "b = readFromFile(\"test.txt\");"
   ]
  },
  {
   "cell_type": "code",
   "execution_count": 21,
   "metadata": {
    "collapsed": false
   },
   "outputs": [
    {
     "data": {
      "text/plain": [
       "0.0"
      ]
     },
     "execution_count": 21,
     "metadata": {},
     "output_type": "execute_result"
    }
   ],
   "source": [
    "sum(a - b)"
   ]
  },
  {
   "cell_type": "code",
   "execution_count": null,
   "metadata": {
    "collapsed": true
   },
   "outputs": [],
   "source": []
  }
 ],
 "metadata": {
  "kernelspec": {
   "display_name": "Julia 0.4.5",
   "language": "julia",
   "name": "julia-0.4"
  },
  "language_info": {
   "file_extension": ".jl",
   "mimetype": "application/julia",
   "name": "julia",
   "version": "0.4.5"
  }
 },
 "nbformat": 4,
 "nbformat_minor": 0
}
