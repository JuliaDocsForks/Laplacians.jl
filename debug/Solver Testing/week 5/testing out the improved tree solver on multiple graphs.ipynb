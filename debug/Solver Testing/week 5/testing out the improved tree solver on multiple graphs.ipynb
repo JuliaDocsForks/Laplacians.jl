{
 "cells": [
  {
   "cell_type": "code",
   "execution_count": 1,
   "metadata": {
    "collapsed": true
   },
   "outputs": [],
   "source": [
    "using Laplacians"
   ]
  },
  {
   "cell_type": "code",
   "execution_count": 2,
   "metadata": {
    "collapsed": false
   },
   "outputs": [
    {
     "data": {
      "text/plain": [
       "constructLowerTriangularMat (generic function with 1 method)"
      ]
     },
     "execution_count": 2,
     "metadata": {},
     "output_type": "execute_result"
    }
   ],
   "source": [
    "include(\"../../../src/samplingTreeSolver.jl\")"
   ]
  },
  {
   "cell_type": "code",
   "execution_count": 3,
   "metadata": {
    "collapsed": false
   },
   "outputs": [],
   "source": [
    "n = 100000;\n",
    "b = rand(n); b = b - mean(b);"
   ]
  },
  {
   "cell_type": "code",
   "execution_count": 4,
   "metadata": {
    "collapsed": false
   },
   "outputs": [
    {
     "data": {
      "text/plain": [
       "0.04"
      ]
     },
     "execution_count": 4,
     "metadata": {},
     "output_type": "execute_result"
    }
   ],
   "source": [
    "danbts = []\n",
    "dansts = []\n",
    "bts = []\n",
    "sts = []\n",
    "errs = []\n",
    "nnzs = []\n",
    "cns = []\n",
    "multedges = []\n",
    "graphs = []\n",
    "sc = 0.04"
   ]
  },
  {
   "cell_type": "code",
   "execution_count": 5,
   "metadata": {
    "collapsed": false
   },
   "outputs": [
    {
     "name": "stdout",
     "output_type": "stream",
     "text": [
      "rho = 21.207592441913594\n",
      "Average number of multiedges = 5.835549496896605\n",
      "Maximum number of multiedges = 21.20759244191361\n",
      "Time to build the tree and compute the stretch: elapsed time: 1.410025739 seconds\n",
      " 12.204636 seconds (38.30 M allocations: 2.561 GB, 8.07% gc time)\n",
      "  3.097690 seconds (20.64 M allocations: 793.258 MB, 3.55% gc time)\n",
      "  4.060337 seconds (6.29 M allocations: 822.542 MB, 9.82% gc time)\n",
      "  7.652932 seconds (288.40 k allocations: 3.678 GB, 6.50% gc time)\n"
     ]
    }
   ],
   "source": [
    "# compile run\n",
    "@time f = samplingSolver(chimera(n,1), eps = 0.5, sampConst = sc, beta = 1000.0);\n",
    "@time x = f(b);\n",
    "@time fdan = lapWrapSolver(augTreeSolver,lap(chimera(n,1)),tol=1e-6,maxits=1000);\n",
    "@time xdan = fdan(b);"
   ]
  },
  {
   "cell_type": "code",
   "execution_count": null,
   "metadata": {
    "collapsed": false
   },
   "outputs": [
    {
     "name": "stdout",
     "output_type": "stream",
     "text": [
      "\n",
      "\n",
      "Working for 1\n",
      "\n",
      "rho = 21.207592441913594\n",
      "Average number of multiedges = 5.696644773706341\n",
      "Maximum number of multiedges = 21.207592441914493\n",
      "Time to build the tree and compute the stretch: elapsed time: 1.511995201 seconds\n",
      "computing the condition number takes: elapsed time: 41.709729877 seconds\n",
      "elapsed time: 41.768522711 seconds\n",
      "elapsed time: 44.874439621 seconds\n",
      "rho = 21.207592441913594\n",
      "Average number of multiedges = 5.696644773706341\n",
      "Maximum number of multiedges = 21.207592441914493\n",
      "Time to build the tree and compute the stretch: elapsed time: 1.525924821 seconds\n",
      "elapsed time: 2.842153697 seconds\n",
      "elapsed time: 1.461207611 seconds\n",
      "elapsed time: 4.863511255 seconds\n",
      "rho = 21.207592441913594\n"
     ]
    }
   ],
   "source": [
    "for i in 1:1\n",
    "    if i % 10 == 1\n",
    "        println()\n",
    "        println()\n",
    "        println(\"Working for \", i)\n",
    "        println()\n",
    "    end\n",
    "    \n",
    "    a = wtedChimera(n, i)\n",
    "    \n",
    "    tic()\n",
    "    f,gOp,U,d,_,cn,cntime,str = buildSolver(a, eps = 0.5, sampConst = sc, beta = 1000.0, returnCN = true)\n",
    "    push!(bts, toc() - cntime);\n",
    "    \n",
    "    f = samplingSolver(a, eps = 0.5, sampConst = sc, beta = 1000.0)\n",
    "    tic()\n",
    "    x = f(b);\n",
    "    push!(sts, toc());\n",
    "    \n",
    "    push!(errs, checkError(gOp))\n",
    "    push!(nnzs, length(U.data.nzval))\n",
    "    push!(cns, cn)\n",
    "    push!(multedges, str)\n",
    "    push!(graphs, (n, i, \"w\"))\n",
    "    \n",
    "    tic()\n",
    "    fdan = lapWrapSolver(augTreeSolver,lap(a),tol=1e-6,maxits=1000);\n",
    "    push!(danbts, toc())\n",
    "    \n",
    "    tic()\n",
    "    fdan(b);\n",
    "    push!(dansts, toc())\n",
    "    \n",
    "    \n",
    "    \n",
    "    a = chimera(n, i)\n",
    "    \n",
    "    tic()\n",
    "    f,gOp,U,d,_,cn,cntime,str = buildSolver(a, eps = 0.5, sampConst = sc, beta = 1000.0, returnCN = true)\n",
    "    push!(bts, toc() - cntime);\n",
    "    \n",
    "    f = samplingSolver(a, eps = 0.5, sampConst = sc, beta = 1000.0)\n",
    "    tic()\n",
    "    x = f(b);\n",
    "    push!(sts, toc());\n",
    "    \n",
    "    push!(errs, checkError(gOp))\n",
    "    push!(nnzs, length(U.data.nzval))\n",
    "    push!(cns, cn)\n",
    "    push!(multedges, str)\n",
    "    push!(graphs, (n, i, \"unw\"))\n",
    "    \n",
    "    tic()\n",
    "    fdan = lapWrapSolver(augTreeSolver,lap(a),tol=1e-6,maxits=1000);\n",
    "    push!(danbts, toc())\n",
    "    \n",
    "    tic()\n",
    "    fdan(b);\n",
    "    push!(dansts, toc())\n",
    "end"
   ]
  },
  {
   "cell_type": "code",
   "execution_count": null,
   "metadata": {
    "collapsed": false
   },
   "outputs": [],
   "source": [
    "cns"
   ]
  },
  {
   "cell_type": "code",
   "execution_count": null,
   "metadata": {
    "collapsed": false
   },
   "outputs": [],
   "source": [
    "bts"
   ]
  },
  {
   "cell_type": "code",
   "execution_count": null,
   "metadata": {
    "collapsed": false
   },
   "outputs": [],
   "source": [
    "sts"
   ]
  },
  {
   "cell_type": "code",
   "execution_count": null,
   "metadata": {
    "collapsed": false
   },
   "outputs": [],
   "source": [
    "danbts"
   ]
  },
  {
   "cell_type": "code",
   "execution_count": null,
   "metadata": {
    "collapsed": false
   },
   "outputs": [],
   "source": [
    "dansts"
   ]
  },
  {
   "cell_type": "code",
   "execution_count": null,
   "metadata": {
    "collapsed": false
   },
   "outputs": [],
   "source": [
    "errs"
   ]
  },
  {
   "cell_type": "code",
   "execution_count": null,
   "metadata": {
    "collapsed": true
   },
   "outputs": [],
   "source": []
  }
 ],
 "metadata": {
  "kernelspec": {
   "display_name": "Julia 0.4.5",
   "language": "julia",
   "name": "julia-0.4"
  },
  "language_info": {
   "file_extension": ".jl",
   "mimetype": "application/julia",
   "name": "julia",
   "version": "0.4.5"
  }
 },
 "nbformat": 4,
 "nbformat_minor": 0
}
