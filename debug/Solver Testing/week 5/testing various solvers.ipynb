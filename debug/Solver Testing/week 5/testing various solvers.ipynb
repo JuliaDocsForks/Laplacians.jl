{
 "cells": [
  {
   "cell_type": "code",
   "execution_count": 1,
   "metadata": {
    "collapsed": true
   },
   "outputs": [],
   "source": [
    "using Laplacians"
   ]
  },
  {
   "cell_type": "markdown",
   "metadata": {},
   "source": [
    "### first gaus siedel and jacobi - these seem to be pretty unefficient"
   ]
  },
  {
   "cell_type": "code",
   "execution_count": 2,
   "metadata": {
    "collapsed": false
   },
   "outputs": [
    {
     "data": {
      "text/plain": [
       "gs (generic function with 1 method)"
      ]
     },
     "execution_count": 2,
     "metadata": {},
     "output_type": "execute_result"
    }
   ],
   "source": [
    "include(\"../../../src/preconditioners.jl\")"
   ]
  },
  {
   "cell_type": "code",
   "execution_count": 3,
   "metadata": {
    "collapsed": true
   },
   "outputs": [],
   "source": [
    "n = 10000\n",
    "a = chimera(n,1);\n",
    "la = lap(a)\n",
    "b = rand(n); b = b - mean(b);"
   ]
  },
  {
   "cell_type": "code",
   "execution_count": 4,
   "metadata": {
    "collapsed": false
   },
   "outputs": [
    {
     "name": "stdout",
     "output_type": "stream",
     "text": [
      "  0.032548 seconds (18.99 k allocations: 999.666 KB)\n"
     ]
    }
   ],
   "source": [
    "@time f = gs(la);"
   ]
  },
  {
   "cell_type": "code",
   "execution_count": 5,
   "metadata": {
    "collapsed": false
   },
   "outputs": [
    {
     "name": "stdout",
     "output_type": "stream",
     "text": [
      "PCG stopped after: 565 iterations with relative error 0.009871433445591653.\n",
      "  1.395195 seconds (11.82 M allocations: 496.713 MB, 5.93% gc time)\n"
     ]
    }
   ],
   "source": [
    "@time x = pcg(la, b, f, tol = 1e-2, maxits = 10000, verbose=true);"
   ]
  },
  {
   "cell_type": "code",
   "execution_count": 6,
   "metadata": {
    "collapsed": false
   },
   "outputs": [
    {
     "data": {
      "text/plain": [
       "0.009871433445617637"
      ]
     },
     "execution_count": 6,
     "metadata": {},
     "output_type": "execute_result"
    }
   ],
   "source": [
    "norm(la * x - b) / norm(b)"
   ]
  },
  {
   "cell_type": "code",
   "execution_count": 7,
   "metadata": {
    "collapsed": false
   },
   "outputs": [
    {
     "name": "stdout",
     "output_type": "stream",
     "text": [
      "  0.003035 seconds (525 allocations: 109.604 KB)\n"
     ]
    }
   ],
   "source": [
    "@time f = jacobi(la);"
   ]
  },
  {
   "cell_type": "code",
   "execution_count": 8,
   "metadata": {
    "collapsed": false
   },
   "outputs": [
    {
     "name": "stdout",
     "output_type": "stream",
     "text": [
      "PCG stopped after: 1176 iterations with relative error 0.009977530963268663.\n",
      "  0.798011 seconds (53.18 k allocations: 450.139 MB, 8.77% gc time)\n"
     ]
    }
   ],
   "source": [
    "@time x = pcg(la, b, f, tol = 1e-2, maxits = 10000, verbose=true);"
   ]
  },
  {
   "cell_type": "code",
   "execution_count": 9,
   "metadata": {
    "collapsed": false
   },
   "outputs": [
    {
     "data": {
      "text/plain": [
       "0.0099775309632348"
      ]
     },
     "execution_count": 9,
     "metadata": {},
     "output_type": "execute_result"
    }
   ],
   "source": [
    "norm(la * x - b) / norm(b)"
   ]
  },
  {
   "cell_type": "markdown",
   "metadata": {},
   "source": [
    "### let's take a look at the algebraic multigrid solver"
   ]
  },
  {
   "cell_type": "code",
   "execution_count": 10,
   "metadata": {
    "collapsed": false
   },
   "outputs": [],
   "source": [
    "using PyAMG"
   ]
  },
  {
   "cell_type": "code",
   "execution_count": 11,
   "metadata": {
    "collapsed": false
   },
   "outputs": [
    {
     "name": "stdout",
     "output_type": "stream",
     "text": [
      "  2.902239 seconds (1.09 M allocations: 46.708 MB, 0.53% gc time)\n",
      "  Detected a Hermitian matrix\n",
      "    maxiter = 100\n",
      "    iteration 1\n",
      "    iteration 2\n",
      "    iteration 3\n",
      "    iteration 4\n",
      "    iteration 5\n",
      "    iteration 6\n",
      "    iteration 7\n",
      "    iteration 8\n",
      "    iteration 9\n",
      "    iteration 10\n",
      "    iteration 11\n",
      "    iteration 12\n",
      "  Residual reduction ||r_k||/||r_0|| = 3.79e-07\n"
     ]
    },
    {
     "name": "stderr",
     "output_type": "stream",
     "text": [
      "/Users/serbanstan/.julia/v0.4/Conda/deps/usr/lib/python2.7/site-packages/pyamg/strength.py:533: FutureWarning: elementwise comparison failed; returning scalar instead, but in the future will perform elementwise comparison\n",
      "  if B == 'ones':\n",
      "/Users/serbanstan/.julia/v0.4/Conda/deps/usr/lib/python2.7/site-packages/pyamg/krylov/_cg.py:156: UserWarning: \n",
      "Indefinite preconditioner detected in CG, aborting\n",
      "\n",
      "  warn(\"\\nIndefinite preconditioner detected in CG, aborting\\n\")\n"
     ]
    }
   ],
   "source": [
    "@time x = PyAMG.solve(la, b, tol = 1e-7, maxiter = 100);"
   ]
  },
  {
   "cell_type": "code",
   "execution_count": 12,
   "metadata": {
    "collapsed": false
   },
   "outputs": [
    {
     "data": {
      "text/plain": [
       "1.163833154476479e-6"
      ]
     },
     "execution_count": 12,
     "metadata": {},
     "output_type": "execute_result"
    }
   ],
   "source": [
    "norm(la * x - b) / norm(b)"
   ]
  },
  {
   "cell_type": "code",
   "execution_count": 13,
   "metadata": {
    "collapsed": false
   },
   "outputs": [
    {
     "data": {
      "text/latex": [
       "\\texttt{solve(amg::AMGSolver, b, kwargs...)}\n",
       "Returns a \\texttt{Vector} with the result of the AMG solver.\n",
       "\\subsubsection{\\texttt{kwargs}  (copy-pasted from Python docs)}\n",
       "\\begin{itemize}\n",
       "\\item \\texttt{x0} : Initial guess.\n",
       "\\item \\texttt{tol} : Stopping criteria: relative residual r[k]/r[0] tolerance.\n",
       "\\item \\texttt{maxiter} : Stopping criteria: maximum number of allowable iterations.\n",
       "\\item \\texttt{cycle} : \\{\"V\",\"W\",\"F\",\"AMLI\"\\}     Type of multigrid cycle to perform in each iteration.\n",
       "\\item \\texttt{accel} : Defines acceleration method.  Can be a string such as \"cg\"     or \"gmres\" which is the name of an iterative solver in     \\texttt{pyamg.krylov} (preferred) or scipy.sparse.linalg.isolve.     If accel is not a string, it will be treated like a function     with the same interface provided by the iterative solvers in SciPy.         (the function version is not tested in Julia!)\n",
       "\\item \\texttt{callback} : User-defined function called after each iteration.  It is     called as callback(xk) where xk is the k-th iterate vector.\n",
       "\\item \\texttt{residuals} : List to contain residual norms at each iteration.\n",
       "\\end{itemize}\n",
       "\\texttt{solve(A::SparseMatrixCSC, b::Vector; kwargs...)}:\n",
       "PyAMG's 'blackbox' solver. See \\texttt{pyamg.solve?} for \\texttt{kwargs}.\n"
      ],
      "text/markdown": [
       "`solve(amg::AMGSolver, b, kwargs...)`\n",
       "\n",
       "Returns a `Vector` with the result of the AMG solver.\n",
       "\n",
       "### `kwargs`  (copy-pasted from Python docs)\n",
       "\n",
       "  * `x0` : Initial guess.\n",
       "  * `tol` : Stopping criteria: relative residual r[k]/r[0] tolerance.\n",
       "  * `maxiter` : Stopping criteria: maximum number of allowable iterations.\n",
       "  * `cycle` : {\"V\",\"W\",\"F\",\"AMLI\"}     Type of multigrid cycle to perform in each iteration.\n",
       "  * `accel` : Defines acceleration method.  Can be a string such as \"cg\"     or \"gmres\" which is the name of an iterative solver in     `pyamg.krylov` (preferred) or scipy.sparse.linalg.isolve.     If accel is not a string, it will be treated like a function     with the same interface provided by the iterative solvers in SciPy.         (the function version is not tested in Julia!)\n",
       "  * `callback` : User-defined function called after each iteration.  It is     called as callback(xk) where xk is the k-th iterate vector.\n",
       "  * `residuals` : List to contain residual norms at each iteration.\n",
       "\n",
       "`solve(A::SparseMatrixCSC, b::Vector; kwargs...)`:\n",
       "\n",
       "PyAMG's 'blackbox' solver. See `pyamg.solve?` for `kwargs`.\n"
      ],
      "text/plain": [
       "`solve(amg::AMGSolver, b, kwargs...)`\n",
       "\n",
       "Returns a `Vector` with the result of the AMG solver.\n",
       "\n",
       "### `kwargs`  (copy-pasted from Python docs)\n",
       "\n",
       "  * `x0` : Initial guess.\n",
       "  * `tol` : Stopping criteria: relative residual r[k]/r[0] tolerance.\n",
       "  * `maxiter` : Stopping criteria: maximum number of allowable iterations.\n",
       "  * `cycle` : {\"V\",\"W\",\"F\",\"AMLI\"}     Type of multigrid cycle to perform in each iteration.\n",
       "  * `accel` : Defines acceleration method.  Can be a string such as \"cg\"     or \"gmres\" which is the name of an iterative solver in     `pyamg.krylov` (preferred) or scipy.sparse.linalg.isolve.     If accel is not a string, it will be treated like a function     with the same interface provided by the iterative solvers in SciPy.         (the function version is not tested in Julia!)\n",
       "  * `callback` : User-defined function called after each iteration.  It is     called as callback(xk) where xk is the k-th iterate vector.\n",
       "  * `residuals` : List to contain residual norms at each iteration.\n",
       "\n",
       "`solve(A::SparseMatrixCSC, b::Vector; kwargs...)`:\n",
       "\n",
       "PyAMG's 'blackbox' solver. See `pyamg.solve?` for `kwargs`.\n"
      ]
     },
     "execution_count": 13,
     "metadata": {},
     "output_type": "execute_result"
    }
   ],
   "source": [
    "?PyAMG.solve"
   ]
  },
  {
   "cell_type": "markdown",
   "metadata": {},
   "source": [
    "### now, let's test on harder graphs"
   ]
  },
  {
   "cell_type": "code",
   "execution_count": 14,
   "metadata": {
    "collapsed": true
   },
   "outputs": [],
   "source": [
    "a = readFromFile(\"3.txt\");"
   ]
  },
  {
   "cell_type": "code",
   "execution_count": 15,
   "metadata": {
    "collapsed": false
   },
   "outputs": [
    {
     "data": {
      "text/plain": [
       "90000"
      ]
     },
     "execution_count": 15,
     "metadata": {},
     "output_type": "execute_result"
    }
   ],
   "source": [
    "n = a.n"
   ]
  },
  {
   "cell_type": "code",
   "execution_count": 16,
   "metadata": {
    "collapsed": true
   },
   "outputs": [],
   "source": [
    "la = lap(a);\n",
    "b = rand(n); b = b - mean(b);"
   ]
  },
  {
   "cell_type": "code",
   "execution_count": 17,
   "metadata": {
    "collapsed": false
   },
   "outputs": [
    {
     "name": "stdout",
     "output_type": "stream",
     "text": [
      " 12.444722 seconds (221 allocations: 8.230 MB, 0.04% gc time)\n",
      "  Detected a Hermitian matrix\n",
      "    maxiter = 200\n",
      "    iteration 1\n",
      "    iteration 2\n",
      "    iteration 3\n",
      "    iteration 4\n",
      "    iteration 5\n",
      "    iteration 6\n",
      "    iteration 7\n",
      "    iteration 8\n",
      "    iteration 9\n",
      "    iteration 10\n",
      "    iteration 11\n",
      "    iteration 12\n",
      "    iteration 13\n",
      "    iteration 14\n",
      "    iteration 15\n",
      "    iteration 16\n",
      "    iteration 17\n",
      "    iteration 18\n",
      "    iteration 19\n",
      "    iteration 20\n",
      "    iteration 21\n",
      "    iteration 22\n",
      "    iteration 23\n",
      "    iteration 24\n",
      "    iteration 25\n",
      "    iteration 26\n",
      "    iteration 27\n",
      "    iteration 28\n",
      "    iteration 29\n",
      "    iteration 30\n",
      "    iteration 31\n",
      "    iteration 32\n",
      "    iteration 33\n",
      "    iteration 34\n",
      "    iteration 35\n",
      "    iteration 36\n",
      "    iteration 37\n",
      "    iteration 38\n",
      "    iteration 39\n",
      "    iteration 40\n",
      "    iteration 41\n",
      "    iteration 42\n",
      "    iteration 43\n",
      "    iteration 44\n",
      "    iteration 45\n",
      "    iteration 46\n",
      "    iteration 47\n",
      "    iteration 48\n",
      "    iteration 49\n",
      "    iteration 50\n",
      "    iteration 51\n",
      "    iteration 52\n",
      "    iteration 53\n",
      "    iteration 54\n",
      "    iteration 55\n",
      "    iteration 56\n",
      "    iteration 57\n",
      "    iteration 58\n",
      "    iteration 59\n",
      "    iteration 60\n",
      "    iteration 61\n",
      "    iteration 62\n",
      "    iteration 63\n",
      "    iteration 64\n",
      "    iteration 65\n",
      "    iteration 66\n",
      "    iteration 67\n",
      "    iteration 68\n",
      "    iteration 69\n",
      "    iteration 70\n",
      "    iteration 71\n",
      "    iteration 72\n",
      "    iteration 73\n",
      "    iteration 74\n",
      "    iteration 75\n",
      "    iteration 76\n",
      "    iteration 77\n",
      "    iteration 78\n",
      "    iteration 79\n",
      "    iteration 80\n",
      "    iteration 81\n",
      "    iteration 82\n",
      "    iteration 83\n",
      "    iteration 84\n",
      "    iteration 85\n",
      "    iteration 86\n",
      "    iteration 87\n",
      "    iteration 88\n",
      "    iteration 89\n",
      "    iteration 90\n",
      "    iteration 91\n",
      "    iteration 92\n",
      "    iteration 93\n",
      "    iteration 94\n",
      "    iteration 95\n",
      "    iteration 96\n",
      "    iteration 97\n",
      "    iteration 98\n",
      "    iteration 99\n",
      "    iteration 100\n",
      "    iteration 101\n",
      "    iteration 102\n",
      "    iteration 103\n",
      "    iteration 104\n",
      "    iteration 105\n",
      "    iteration 106\n",
      "    iteration 107\n",
      "    iteration 108\n",
      "    iteration 109\n",
      "    iteration 110\n",
      "    iteration 111\n",
      "    iteration 112\n",
      "    iteration 113\n",
      "    iteration 114\n",
      "    iteration 115\n",
      "    iteration 116\n",
      "    iteration 117\n",
      "    iteration 118\n",
      "    iteration 119\n",
      "    iteration 120\n",
      "    iteration 121\n",
      "    iteration 122\n",
      "    iteration 123\n",
      "    iteration 124\n",
      "    iteration 125\n",
      "    iteration 126\n",
      "    iteration 127\n",
      "    iteration 128\n",
      "    iteration 129\n",
      "    iteration 130\n",
      "    iteration 131\n",
      "    iteration 132\n",
      "    iteration 133\n",
      "    iteration 134\n",
      "    iteration 135\n",
      "    iteration 136\n",
      "    iteration 137\n",
      "    iteration 138\n",
      "    iteration 139\n",
      "    iteration 140\n",
      "    iteration 141\n",
      "    iteration 142\n",
      "    iteration 143\n",
      "    iteration 144\n",
      "    iteration 145\n",
      "    iteration 146\n",
      "    iteration 147\n",
      "    iteration 148\n",
      "    iteration 149\n",
      "    iteration 150\n",
      "    iteration 151\n",
      "    iteration 152\n",
      "    iteration 153\n",
      "    iteration 154\n",
      "    iteration 155\n",
      "    iteration 156\n",
      "    iteration 157\n",
      "    iteration 158\n",
      "    iteration 159\n",
      "    iteration 160\n",
      "    iteration 161\n",
      "    iteration 162\n",
      "    iteration 163\n",
      "    iteration 164\n",
      "    iteration 165\n",
      "    iteration 166\n",
      "    iteration 167\n",
      "    iteration 168\n",
      "    iteration 169\n",
      "    iteration 170\n",
      "    iteration 171\n",
      "    iteration 172\n",
      "    iteration 173\n",
      "    iteration 174\n",
      "    iteration 175\n",
      "    iteration 176\n",
      "    iteration 177\n",
      "    iteration 178\n",
      "    iteration 179\n",
      "    iteration 180\n",
      "    iteration 181\n",
      "    iteration 182\n",
      "    iteration 183\n",
      "    iteration 184\n",
      "    iteration 185\n",
      "    iteration 186\n",
      "    iteration 187\n",
      "    iteration 188\n",
      "    iteration 189\n",
      "    iteration 190\n",
      "    iteration 191\n",
      "    iteration 192\n",
      "    iteration 193\n",
      "    iteration 194\n",
      "    iteration 195\n",
      "    iteration 196\n",
      "    iteration 197\n",
      "    iteration 198\n",
      "    iteration 199\n",
      "    iteration 200\n",
      "  Residual reduction ||r_k||/||r_0|| = 8.14e+05\n"
     ]
    }
   ],
   "source": [
    "@time x = PyAMG.solve(la, b, tol = 1e-6, maxiter = 200);"
   ]
  },
  {
   "cell_type": "code",
   "execution_count": 18,
   "metadata": {
    "collapsed": false
   },
   "outputs": [
    {
     "data": {
      "text/plain": [
       "814409.1202502114"
      ]
     },
     "execution_count": 18,
     "metadata": {},
     "output_type": "execute_result"
    }
   ],
   "source": [
    "norm(la * x - b) / norm(b)"
   ]
  },
  {
   "cell_type": "markdown",
   "metadata": {},
   "source": [
    "### now, our solver"
   ]
  },
  {
   "cell_type": "code",
   "execution_count": 19,
   "metadata": {
    "collapsed": true
   },
   "outputs": [],
   "source": [
    "include(\"../../../src/samplingTreeSolver.jl\");"
   ]
  },
  {
   "cell_type": "code",
   "execution_count": 20,
   "metadata": {
    "collapsed": false
   },
   "outputs": [
    {
     "name": "stdout",
     "output_type": "stream",
     "text": [
      "rho = 10.41060304582247\n",
      "Average number of multiedges = 5.2266946715106295\n",
      "Maximum number of multiedges = 10.410603085816941\n",
      "Time to build the tree and compute the stretch: elapsed time: 1.154066884 seconds\n",
      "  5.050166 seconds (19.78 M allocations: 1.002 GB, 7.35% gc time)\n"
     ]
    }
   ],
   "source": [
    "@time f = samplingSolver(a, tol = 1e-6, maxits = 1000, eps = 0.5, sampConst = 0.02, beta = 1000.0);"
   ]
  },
  {
   "cell_type": "code",
   "execution_count": 21,
   "metadata": {
    "collapsed": false
   },
   "outputs": [
    {
     "name": "stdout",
     "output_type": "stream",
     "text": [
      "  1.469140 seconds (23.99 M allocations: 920.352 MB, 9.56% gc time)\n"
     ]
    },
    {
     "data": {
      "text/plain": [
       "9.416582523407183e-7"
      ]
     },
     "execution_count": 21,
     "metadata": {},
     "output_type": "execute_result"
    }
   ],
   "source": [
    "@time norm(la * f(b) - b) / norm(b)"
   ]
  },
  {
   "cell_type": "code",
   "execution_count": null,
   "metadata": {
    "collapsed": true
   },
   "outputs": [],
   "source": []
  },
  {
   "cell_type": "code",
   "execution_count": 23,
   "metadata": {
    "collapsed": false
   },
   "outputs": [],
   "source": [
    "la = lap(a);"
   ]
  },
  {
   "cell_type": "code",
   "execution_count": 24,
   "metadata": {
    "collapsed": true
   },
   "outputs": [],
   "source": [
    "f = gs(la);"
   ]
  },
  {
   "cell_type": "code",
   "execution_count": 30,
   "metadata": {
    "collapsed": false
   },
   "outputs": [
    {
     "name": "stdout",
     "output_type": "stream",
     "text": [
      "PCG stopped at maxtime.\n",
      "PCG stopped after: 1449 iterations with relative error 1.203890738292768.\n",
      " 20.009877 seconds (261.07 M allocations: 10.698 GB, 7.83% gc time)\n"
     ]
    }
   ],
   "source": [
    "@time x = pcg(la, b, f, tol = 1e-2, maxits = 10000, maxtime=20, verbose=true);"
   ]
  },
  {
   "cell_type": "code",
   "execution_count": 31,
   "metadata": {
    "collapsed": false
   },
   "outputs": [
    {
     "data": {
      "text/plain": [
       "1.2038907382925188"
      ]
     },
     "execution_count": 31,
     "metadata": {},
     "output_type": "execute_result"
    }
   ],
   "source": [
    "norm(la * x - b) / norm(b)"
   ]
  },
  {
   "cell_type": "code",
   "execution_count": null,
   "metadata": {
    "collapsed": true
   },
   "outputs": [],
   "source": []
  }
 ],
 "metadata": {
  "kernelspec": {
   "display_name": "Julia 0.4.5",
   "language": "julia",
   "name": "julia-0.4"
  },
  "language_info": {
   "file_extension": ".jl",
   "mimetype": "application/julia",
   "name": "julia",
   "version": "0.4.5"
  }
 },
 "nbformat": 4,
 "nbformat_minor": 0
}
