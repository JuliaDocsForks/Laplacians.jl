{
 "cells": [
  {
   "cell_type": "code",
   "execution_count": 1,
   "metadata": {
    "collapsed": true
   },
   "outputs": [],
   "source": [
    "using Laplacians"
   ]
  },
  {
   "cell_type": "markdown",
   "metadata": {},
   "source": [
    "### first gaus siedel and jacobi - these seem to be pretty unefficient"
   ]
  },
  {
   "cell_type": "code",
   "execution_count": 2,
   "metadata": {
    "collapsed": false
   },
   "outputs": [
    {
     "data": {
      "text/plain": [
       "gs (generic function with 1 method)"
      ]
     },
     "execution_count": 2,
     "metadata": {},
     "output_type": "execute_result"
    }
   ],
   "source": [
    "include(\"../../../src/preconditioners.jl\")"
   ]
  },
  {
   "cell_type": "code",
   "execution_count": 3,
   "metadata": {
    "collapsed": true
   },
   "outputs": [],
   "source": [
    "n = 10000\n",
    "a = chimera(n,1);\n",
    "la = lap(a)\n",
    "b = rand(n); b = b - mean(b);"
   ]
  },
  {
   "cell_type": "code",
   "execution_count": 4,
   "metadata": {
    "collapsed": true
   },
   "outputs": [],
   "source": [
    "f = jacobi(la);"
   ]
  },
  {
   "cell_type": "code",
   "execution_count": 5,
   "metadata": {
    "collapsed": false
   },
   "outputs": [
    {
     "name": "stdout",
     "output_type": "stream",
     "text": [
      "PCG stopped after: 5718 iterations with relative error 0.009988125014519286.\n",
      "  2.734116 seconds (723.87 k allocations: 2.157 GB, 9.55% gc time)\n"
     ]
    }
   ],
   "source": [
    "@time x = pcg(la, b, f, tol = 1e-2, maxits = 10000, verbose=true);"
   ]
  },
  {
   "cell_type": "code",
   "execution_count": 6,
   "metadata": {
    "collapsed": false
   },
   "outputs": [
    {
     "data": {
      "text/plain": [
       "0.2860247687542121"
      ]
     },
     "execution_count": 6,
     "metadata": {},
     "output_type": "execute_result"
    }
   ],
   "source": [
    "norm(la * x - b)"
   ]
  },
  {
   "cell_type": "markdown",
   "metadata": {},
   "source": [
    "### let's take a look at the algebraic multigrid solver"
   ]
  },
  {
   "cell_type": "code",
   "execution_count": 7,
   "metadata": {
    "collapsed": false
   },
   "outputs": [],
   "source": [
    "using PyAMG"
   ]
  },
  {
   "cell_type": "code",
   "execution_count": 8,
   "metadata": {
    "collapsed": false
   },
   "outputs": [
    {
     "name": "stdout",
     "output_type": "stream",
     "text": [
      "  3.217712 seconds (1.09 M allocations: 46.501 MB, 0.48% gc time)\n",
      "  Detected a Hermitian matrix\n",
      "    maxiter = 100\n",
      "    iteration 1\n",
      "    iteration 2\n",
      "    iteration 3\n",
      "    iteration 4\n",
      "    iteration 5\n",
      "    iteration 6\n",
      "    iteration 7\n",
      "    iteration 8\n",
      "    iteration 9\n",
      "    iteration 10\n",
      "    iteration 11\n",
      "    iteration 12\n",
      "    iteration 13\n",
      "    iteration 14\n",
      "    iteration 15\n",
      "  Residual reduction ||r_k||/||r_0|| = 8.59e-08\n"
     ]
    },
    {
     "name": "stderr",
     "output_type": "stream",
     "text": [
      "/Users/serbanstan/.julia/v0.4/Conda/deps/usr/lib/python2.7/site-packages/pyamg/strength.py:533: FutureWarning: elementwise comparison failed; returning scalar instead, but in the future will perform elementwise comparison\n",
      "  if B == 'ones':\n"
     ]
    }
   ],
   "source": [
    "@time x = PyAMG.solve(la, b, tol = 1e-7, maxiter = 100);"
   ]
  },
  {
   "cell_type": "code",
   "execution_count": 9,
   "metadata": {
    "collapsed": false
   },
   "outputs": [
    {
     "data": {
      "text/plain": [
       "7.526295014062325e-6"
      ]
     },
     "execution_count": 9,
     "metadata": {},
     "output_type": "execute_result"
    }
   ],
   "source": [
    "norm(la * x - b)"
   ]
  },
  {
   "cell_type": "code",
   "execution_count": 10,
   "metadata": {
    "collapsed": false
   },
   "outputs": [
    {
     "data": {
      "text/latex": [
       "\\texttt{solve(amg::AMGSolver, b, kwargs...)}\n",
       "Returns a \\texttt{Vector} with the result of the AMG solver.\n",
       "\\subsubsection{\\texttt{kwargs}  (copy-pasted from Python docs)}\n",
       "\\begin{itemize}\n",
       "\\item \\texttt{x0} : Initial guess.\n",
       "\\item \\texttt{tol} : Stopping criteria: relative residual r[k]/r[0] tolerance.\n",
       "\\item \\texttt{maxiter} : Stopping criteria: maximum number of allowable iterations.\n",
       "\\item \\texttt{cycle} : \\{\"V\",\"W\",\"F\",\"AMLI\"\\}     Type of multigrid cycle to perform in each iteration.\n",
       "\\item \\texttt{accel} : Defines acceleration method.  Can be a string such as \"cg\"     or \"gmres\" which is the name of an iterative solver in     \\texttt{pyamg.krylov} (preferred) or scipy.sparse.linalg.isolve.     If accel is not a string, it will be treated like a function     with the same interface provided by the iterative solvers in SciPy.         (the function version is not tested in Julia!)\n",
       "\\item \\texttt{callback} : User-defined function called after each iteration.  It is     called as callback(xk) where xk is the k-th iterate vector.\n",
       "\\item \\texttt{residuals} : List to contain residual norms at each iteration.\n",
       "\\end{itemize}\n",
       "\\texttt{solve(A::SparseMatrixCSC, b::Vector; kwargs...)}:\n",
       "PyAMG's 'blackbox' solver. See \\texttt{pyamg.solve?} for \\texttt{kwargs}.\n"
      ],
      "text/markdown": [
       "`solve(amg::AMGSolver, b, kwargs...)`\n",
       "\n",
       "Returns a `Vector` with the result of the AMG solver.\n",
       "\n",
       "### `kwargs`  (copy-pasted from Python docs)\n",
       "\n",
       "  * `x0` : Initial guess.\n",
       "  * `tol` : Stopping criteria: relative residual r[k]/r[0] tolerance.\n",
       "  * `maxiter` : Stopping criteria: maximum number of allowable iterations.\n",
       "  * `cycle` : {\"V\",\"W\",\"F\",\"AMLI\"}     Type of multigrid cycle to perform in each iteration.\n",
       "  * `accel` : Defines acceleration method.  Can be a string such as \"cg\"     or \"gmres\" which is the name of an iterative solver in     `pyamg.krylov` (preferred) or scipy.sparse.linalg.isolve.     If accel is not a string, it will be treated like a function     with the same interface provided by the iterative solvers in SciPy.         (the function version is not tested in Julia!)\n",
       "  * `callback` : User-defined function called after each iteration.  It is     called as callback(xk) where xk is the k-th iterate vector.\n",
       "  * `residuals` : List to contain residual norms at each iteration.\n",
       "\n",
       "`solve(A::SparseMatrixCSC, b::Vector; kwargs...)`:\n",
       "\n",
       "PyAMG's 'blackbox' solver. See `pyamg.solve?` for `kwargs`.\n"
      ],
      "text/plain": [
       "`solve(amg::AMGSolver, b, kwargs...)`\n",
       "\n",
       "Returns a `Vector` with the result of the AMG solver.\n",
       "\n",
       "### `kwargs`  (copy-pasted from Python docs)\n",
       "\n",
       "  * `x0` : Initial guess.\n",
       "  * `tol` : Stopping criteria: relative residual r[k]/r[0] tolerance.\n",
       "  * `maxiter` : Stopping criteria: maximum number of allowable iterations.\n",
       "  * `cycle` : {\"V\",\"W\",\"F\",\"AMLI\"}     Type of multigrid cycle to perform in each iteration.\n",
       "  * `accel` : Defines acceleration method.  Can be a string such as \"cg\"     or \"gmres\" which is the name of an iterative solver in     `pyamg.krylov` (preferred) or scipy.sparse.linalg.isolve.     If accel is not a string, it will be treated like a function     with the same interface provided by the iterative solvers in SciPy.         (the function version is not tested in Julia!)\n",
       "  * `callback` : User-defined function called after each iteration.  It is     called as callback(xk) where xk is the k-th iterate vector.\n",
       "  * `residuals` : List to contain residual norms at each iteration.\n",
       "\n",
       "`solve(A::SparseMatrixCSC, b::Vector; kwargs...)`:\n",
       "\n",
       "PyAMG's 'blackbox' solver. See `pyamg.solve?` for `kwargs`.\n"
      ]
     },
     "execution_count": 10,
     "metadata": {},
     "output_type": "execute_result"
    }
   ],
   "source": [
    "?PyAMG.solve"
   ]
  },
  {
   "cell_type": "markdown",
   "metadata": {},
   "source": [
    "### now, let's test on harder graphs"
   ]
  },
  {
   "cell_type": "code",
   "execution_count": 13,
   "metadata": {
    "collapsed": true
   },
   "outputs": [],
   "source": [
    "a = readFromFile(\"3.txt\");"
   ]
  },
  {
   "cell_type": "code",
   "execution_count": 14,
   "metadata": {
    "collapsed": false
   },
   "outputs": [
    {
     "data": {
      "text/plain": [
       "100000"
      ]
     },
     "execution_count": 14,
     "metadata": {},
     "output_type": "execute_result"
    }
   ],
   "source": [
    "n = a.n"
   ]
  },
  {
   "cell_type": "code",
   "execution_count": 15,
   "metadata": {
    "collapsed": true
   },
   "outputs": [],
   "source": [
    "la = lap(a);\n",
    "b = rand(n); b = b - mean(b);"
   ]
  },
  {
   "cell_type": "code",
   "execution_count": 16,
   "metadata": {
    "collapsed": false
   },
   "outputs": [
    {
     "name": "stdout",
     "output_type": "stream",
     "text": [
      " 60.086554 seconds (221 allocations: 14.667 MB)\n",
      "  Detected a Hermitian matrix\n",
      "    maxiter = 100\n",
      "    iteration 1\n",
      "    iteration 2\n",
      "    iteration 3\n",
      "    iteration 4\n",
      "    iteration 5\n",
      "    iteration 6\n",
      "    iteration 7\n",
      "  Residual reduction ||r_k||/||r_0|| = 7.63e-08\n"
     ]
    }
   ],
   "source": [
    "@time x = PyAMG.solve(la, b, tol = 1e-6, maxiter = 100);"
   ]
  },
  {
   "cell_type": "code",
   "execution_count": 17,
   "metadata": {
    "collapsed": false
   },
   "outputs": [
    {
     "data": {
      "text/plain": [
       "0.00013116309157574173"
      ]
     },
     "execution_count": 17,
     "metadata": {},
     "output_type": "execute_result"
    }
   ],
   "source": [
    "norm(la * x - b)"
   ]
  },
  {
   "cell_type": "code",
   "execution_count": 18,
   "metadata": {
    "collapsed": true
   },
   "outputs": [],
   "source": [
    "include(\"../../../src/samplingTreeSolver.jl\");"
   ]
  },
  {
   "cell_type": "code",
   "execution_count": 21,
   "metadata": {
    "collapsed": false
   },
   "outputs": [
    {
     "name": "stdout",
     "output_type": "stream",
     "text": [
      "rho = 10.603796220956797\n",
      "Average number of multiedges = 2.8483223868531704\n",
      "Maximum number of multiedges = 10.603796220957246\n",
      "Time to build the tree and compute the stretch: elapsed time: 1.462410671 seconds\n",
      "  3.346280 seconds (21.51 M allocations: 1.290 GB, 14.45% gc time)\n"
     ]
    }
   ],
   "source": [
    "@time f = samplingSolver(a, tol = 1e-6, maxits = 1000, eps = 0.5, sampConst = 0.02, beta = 1000.0);"
   ]
  },
  {
   "cell_type": "code",
   "execution_count": 23,
   "metadata": {
    "collapsed": false
   },
   "outputs": [
    {
     "name": "stdout",
     "output_type": "stream",
     "text": [
      "  4.827660 seconds (48.00 M allocations: 1.793 GB, 5.79% gc time)\n"
     ]
    },
    {
     "data": {
      "text/plain": [
       "9.067297933684568e-5"
      ]
     },
     "execution_count": 23,
     "metadata": {},
     "output_type": "execute_result"
    }
   ],
   "source": [
    "@time norm(la * f(b) - b)"
   ]
  },
  {
   "cell_type": "markdown",
   "metadata": {},
   "source": [
    "### so, we solve in around 9 seconds."
   ]
  },
  {
   "cell_type": "code",
   "execution_count": null,
   "metadata": {
    "collapsed": true
   },
   "outputs": [],
   "source": []
  }
 ],
 "metadata": {
  "kernelspec": {
   "display_name": "Julia 0.4.5",
   "language": "julia",
   "name": "julia-0.4"
  },
  "language_info": {
   "file_extension": ".jl",
   "mimetype": "application/julia",
   "name": "julia",
   "version": "0.4.5"
  }
 },
 "nbformat": 4,
 "nbformat_minor": 0
}
