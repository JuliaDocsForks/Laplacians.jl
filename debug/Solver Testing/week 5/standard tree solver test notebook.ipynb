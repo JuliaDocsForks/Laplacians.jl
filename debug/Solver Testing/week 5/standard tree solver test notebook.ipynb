{
 "cells": [
  {
   "cell_type": "code",
   "execution_count": 1,
   "metadata": {
    "collapsed": true
   },
   "outputs": [],
   "source": [
    "using Laplacians"
   ]
  },
  {
   "cell_type": "code",
   "execution_count": 2,
   "metadata": {
    "collapsed": false
   },
   "outputs": [
    {
     "data": {
      "text/plain": [
       "constructLowerTriangularMat (generic function with 1 method)"
      ]
     },
     "execution_count": 2,
     "metadata": {},
     "output_type": "execute_result"
    }
   ],
   "source": [
    "include(\"../../../src/samplingTreeSolver.jl\")"
   ]
  },
  {
   "cell_type": "code",
   "execution_count": 3,
   "metadata": {
    "collapsed": true
   },
   "outputs": [],
   "source": [
    "n = 10000;\n",
    "a = chimera(n,1);\n",
    "b = rand(n); b = b - mean(b);"
   ]
  },
  {
   "cell_type": "code",
   "execution_count": 8,
   "metadata": {
    "collapsed": false
   },
   "outputs": [
    {
     "name": "stdout",
     "output_type": "stream",
     "text": [
      "rho = 6.786429581412351\n",
      "Average number of multiedges = 6.077634420185886\n",
      "Maximum number of multiedges = 6.786429581413111\n",
      "Time to build the tree and compute the stretch: elapsed time: 0.067647929 seconds\n",
      "  0.152893 seconds (1.44 M allocations: 76.583 MB, 9.02% gc time)\n"
     ]
    }
   ],
   "source": [
    "@time f = samplingSolver(a, maxits=1000, tol=1e-6, verbose=true, eps = 0.5, sampConst = 0.02, beta = 1000.0);"
   ]
  },
  {
   "cell_type": "code",
   "execution_count": 9,
   "metadata": {
    "collapsed": false
   },
   "outputs": [
    {
     "name": "stdout",
     "output_type": "stream",
     "text": [
      "PCG stopped after: 207 iterations with relative error 9.307966843086772e-7.\n",
      "  0.183671 seconds (4.14 M allocations: 160.211 MB, 9.77% gc time)\n"
     ]
    },
    {
     "data": {
      "text/plain": [
       "2.66547433361025e-5"
      ]
     },
     "execution_count": 9,
     "metadata": {},
     "output_type": "execute_result"
    }
   ],
   "source": [
    "@time norm(lap(a) * f(b) - b)"
   ]
  },
  {
   "cell_type": "code",
   "execution_count": null,
   "metadata": {
    "collapsed": true
   },
   "outputs": [],
   "source": []
  }
 ],
 "metadata": {
  "kernelspec": {
   "display_name": "Julia 0.4.5",
   "language": "julia",
   "name": "julia-0.4"
  },
  "language_info": {
   "file_extension": ".jl",
   "mimetype": "application/julia",
   "name": "julia",
   "version": "0.4.5"
  }
 },
 "nbformat": 4,
 "nbformat_minor": 0
}
