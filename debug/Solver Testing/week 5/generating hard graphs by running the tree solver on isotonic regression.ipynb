{
 "cells": [
  {
   "cell_type": "code",
   "execution_count": 1,
   "metadata": {
    "collapsed": false
   },
   "outputs": [],
   "source": [
    "using Laplacians"
   ]
  },
  {
   "cell_type": "code",
   "execution_count": 2,
   "metadata": {
    "collapsed": false
   },
   "outputs": [
    {
     "data": {
      "text/plain": [
       "constructLowerTriangularMat (generic function with 1 method)"
      ]
     },
     "execution_count": 2,
     "metadata": {},
     "output_type": "execute_result"
    }
   ],
   "source": [
    "include(\"../../../src/isotonicIPMSolverDebug.jl\")\n",
    "include(\"../../../src/samplingTreeSolver.jl\")"
   ]
  },
  {
   "cell_type": "code",
   "execution_count": 3,
   "metadata": {
    "collapsed": true
   },
   "outputs": [],
   "source": [
    "sqroot = 20\n",
    "n = sqroot^2\n",
    "A = grid2(sqroot,sqroot)\n",
    "A = triu(A);\n",
    "v = randn(n)+collect(1:n)/2;\n",
    "isoTestValues = collect(1:n);\n",
    "newOrder = randperm(n)\n",
    "permMat = (speye(n))[1:n,newOrder];\n",
    "A = permMat*A*permMat';\n",
    "v = permMat*v;"
   ]
  },
  {
   "cell_type": "code",
   "execution_count": 4,
   "metadata": {
    "collapsed": false
   },
   "outputs": [
    {
     "name": "stdout",
     "output_type": "stream",
     "text": [
      "*****************\n",
      "\n",
      "rho = 2.8718117935401484\n",
      "Average number of multiedges = 1.5089176705752367\n",
      "Maximum number of multiedges = 2.871811793543658\n",
      "Time to build the tree and compute the stretch: elapsed time: 0.067878715 seconds\n",
      "rho = 2.8718117935401484\n",
      "Average number of multiedges = 1.5089176705752367\n",
      "Maximum number of multiedges = 2.871811793543658\n",
      "Time to build the tree and compute the stretch: elapsed time: 0.002734552 seconds\n",
      "My build time: elapsed time: 0.878064438 seconds\n",
      "PCG stopped after: 1000 iterations with relative error 0.008217438253565145.\n",
      "PCG stopped after: 1000 iterations with relative error 0.008217438253565145.\n",
      "My solve time: elapsed time: 0.289463041 seconds\n",
      "0.02038814032584771\n",
      "\n",
      "Dan's build time: elapsed time: 0.004339069 seconds\n",
      "PCG stopped after: 1000 iterations with relative error 1.382583075449602e8.\n",
      "Dan's solve time: elapsed time: 0.057239129 seconds\n",
      "3.4303027063847464e8\n",
      "\n",
      "  8.921094 seconds (10.85 M allocations: 507.284 MB, 2.16% gc time)\n"
     ]
    }
   ],
   "source": [
    "@time (x,acc,itercount) = isotonicIPMrelEps(A,v,0.01);"
   ]
  },
  {
   "cell_type": "code",
   "execution_count": 5,
   "metadata": {
    "collapsed": false
   },
   "outputs": [
    {
     "data": {
      "text/plain": [
       "\"hard graph\""
      ]
     },
     "execution_count": 5,
     "metadata": {},
     "output_type": "execute_result"
    }
   ],
   "source": [
    "a = copy(x); b = copy(acc);\n",
    "itercount"
   ]
  },
  {
   "cell_type": "code",
   "execution_count": 6,
   "metadata": {
    "collapsed": false
   },
   "outputs": [
    {
     "name": "stdout",
     "output_type": "stream",
     "text": [
      "rho = 2.8718117935401484\n",
      "Average number of multiedges = 1.5089176705752367\n",
      "Maximum number of multiedges = 2.871811793543658\n",
      "Time to build the tree and compute the stretch: elapsed time: 0.002761547 seconds\n",
      "  0.005269 seconds (27.36 k allocations: 2.518 MB)\n",
      "PCG stopped after: 1000 iterations with relative error 0.008217438253351458.\n",
      "  0.073074 seconds (813.38 k allocations: 31.257 MB, 16.94% gc time)\n"
     ]
    },
    {
     "data": {
      "text/plain": [
       "0.0203881403253163"
      ]
     },
     "execution_count": 6,
     "metadata": {},
     "output_type": "execute_result"
    }
   ],
   "source": [
    "@time f = samplingSolver(a, tol=1e-6,maxits=1000,verbose=true,\n",
    "eps = 0.5, sampConst = 0.02, beta = 1000.0)\n",
    "@time norm(lap(a) * f(b) - b)"
   ]
  },
  {
   "cell_type": "code",
   "execution_count": 7,
   "metadata": {
    "collapsed": false
   },
   "outputs": [
    {
     "name": "stdout",
     "output_type": "stream",
     "text": [
      "  0.001710 seconds (7.40 k allocations: 1.407 MB)\n",
      "PCG stopped after: 1000 iterations with relative error 7.213491160863589e8.\n",
      "  0.049926 seconds (19.25 k allocations: 25.153 MB, 11.34% gc time)\n",
      "1.7897266142546937e9\n"
     ]
    }
   ],
   "source": [
    "@time danf = augTreeSolver(lap(a),tol=1e-6,maxits=1000,verbose=true)\n",
    "@time nrm = norm(lap(a) * danf(b) - b)\n",
    "println(nrm)"
   ]
  },
  {
   "cell_type": "code",
   "execution_count": null,
   "metadata": {
    "collapsed": true
   },
   "outputs": [],
   "source": []
  },
  {
   "cell_type": "code",
   "execution_count": null,
   "metadata": {
    "collapsed": true
   },
   "outputs": [],
   "source": []
  },
  {
   "cell_type": "code",
   "execution_count": 8,
   "metadata": {
    "collapsed": true
   },
   "outputs": [],
   "source": [
    "writeToFile(\"2.txt\", a)"
   ]
  },
  {
   "cell_type": "code",
   "execution_count": null,
   "metadata": {
    "collapsed": true
   },
   "outputs": [],
   "source": []
  },
  {
   "cell_type": "code",
   "execution_count": null,
   "metadata": {
    "collapsed": true
   },
   "outputs": [],
   "source": []
  },
  {
   "cell_type": "code",
   "execution_count": 25,
   "metadata": {
    "collapsed": false
   },
   "outputs": [
    {
     "name": "stdout",
     "output_type": "stream",
     "text": [
      "rho = 12.3588332214319\n",
      "Average number of multiedges = 6.196401582907211\n",
      "Maximum number of multiedges = 12.358833448755592\n",
      "Time to build the tree and compute the stretch: elapsed time: 3.451179375 seconds\n",
      "computing the condition number takes: elapsed time: 16.622482252 seconds\n",
      "elapsed time: 16.735222462 seconds\n",
      " 22.977754 seconds (125.37 M allocations: 4.725 GB, 7.76% gc time)\n"
     ]
    }
   ],
   "source": [
    "@time f,gOp,U,d,_,cn,cntime,stretches = buildSolver(a, eps = 0.5, sampConst = 0.02, beta = 1000.0, returnCN=true);"
   ]
  },
  {
   "cell_type": "code",
   "execution_count": 26,
   "metadata": {
    "collapsed": false
   },
   "outputs": [
    {
     "data": {
      "text/plain": [
       "-0.9630019712269029"
      ]
     },
     "execution_count": 26,
     "metadata": {},
     "output_type": "execute_result"
    }
   ],
   "source": [
    "checkError(gOp)"
   ]
  },
  {
   "cell_type": "code",
   "execution_count": 27,
   "metadata": {
    "collapsed": false
   },
   "outputs": [
    {
     "data": {
      "text/plain": [
       "(526.0012253909326,587.8423887553411)"
      ]
     },
     "execution_count": 27,
     "metadata": {},
     "output_type": "execute_result"
    }
   ],
   "source": [
    "cn"
   ]
  },
  {
   "cell_type": "code",
   "execution_count": null,
   "metadata": {
    "collapsed": true
   },
   "outputs": [],
   "source": []
  },
  {
   "cell_type": "code",
   "execution_count": null,
   "metadata": {
    "collapsed": true
   },
   "outputs": [],
   "source": []
  },
  {
   "cell_type": "code",
   "execution_count": 28,
   "metadata": {
    "collapsed": false
   },
   "outputs": [
    {
     "ename": "LoadError",
     "evalue": "LoadError: InterruptException:\nwhile loading In[28], in expression starting on line 155",
     "output_type": "error",
     "traceback": [
      "LoadError: InterruptException:\nwhile loading In[28], in expression starting on line 155",
      "",
      " in saupd at linalg/arpack.jl:243",
      " in aupd_wrapper at linalg/arpack.jl:46",
      " in _eigs at linalg/arnoldi.jl:228",
      " in eigs at linalg/arnoldi.jl:51",
      " in eigs at linalg/arnoldi.jl:50"
     ]
    }
   ],
   "source": [
    "@time eigs(a + speye(n) * 0.001, nev = 3, which = :LM)[1]"
   ]
  },
  {
   "cell_type": "code",
   "execution_count": 39,
   "metadata": {
    "collapsed": false
   },
   "outputs": [
    {
     "name": "stdout",
     "output_type": "stream",
     "text": [
      "601.159546 seconds (72.84 k allocations: 10.255 GB, 0.29% gc time)\n"
     ]
    },
    {
     "name": "stderr",
     "output_type": "stream",
     "text": [
      "WARNING: not all wanted Ritz pairs converged. Requested: 1, converged: 0\n"
     ]
    },
    {
     "data": {
      "text/plain": [
       "0.0"
      ]
     },
     "execution_count": 39,
     "metadata": {},
     "output_type": "execute_result"
    }
   ],
   "source": [
    "@time eigs(a + speye(n) * 0.001, nev = 3, which = :SM)[1]"
   ]
  }
 ],
 "metadata": {
  "kernelspec": {
   "display_name": "Julia 0.4.5",
   "language": "julia",
   "name": "julia-0.4"
  },
  "language_info": {
   "file_extension": ".jl",
   "mimetype": "application/julia",
   "name": "julia",
   "version": "0.4.5"
  }
 },
 "nbformat": 4,
 "nbformat_minor": 0
}
