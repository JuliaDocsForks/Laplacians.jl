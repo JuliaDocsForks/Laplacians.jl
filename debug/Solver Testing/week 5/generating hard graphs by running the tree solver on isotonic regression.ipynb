{
 "cells": [
  {
   "cell_type": "code",
   "execution_count": 1,
   "metadata": {
    "collapsed": false
   },
   "outputs": [],
   "source": [
    "using Laplacians"
   ]
  },
  {
   "cell_type": "code",
   "execution_count": 2,
   "metadata": {
    "collapsed": false
   },
   "outputs": [
    {
     "data": {
      "text/plain": [
       "constructLowerTriangularMat (generic function with 1 method)"
      ]
     },
     "execution_count": 2,
     "metadata": {},
     "output_type": "execute_result"
    }
   ],
   "source": [
    "include(\"../../../src/isotonicIPMSolverDebug.jl\")\n",
    "include(\"../../../src/samplingTreeSolver.jl\")"
   ]
  },
  {
   "cell_type": "code",
   "execution_count": 3,
   "metadata": {
    "collapsed": true
   },
   "outputs": [],
   "source": [
    "sqroot = 500\n",
    "n = sqroot^2\n",
    "A = grid2(sqroot,sqroot)\n",
    "A = triu(A);\n",
    "v = randn(n)+collect(1:n)/2;\n",
    "isoTestValues = collect(1:n);\n",
    "newOrder = randperm(n)\n",
    "permMat = (speye(n))[1:n,newOrder];\n",
    "A = permMat*A*permMat';\n",
    "v = permMat*v;"
   ]
  },
  {
   "cell_type": "code",
   "execution_count": 4,
   "metadata": {
    "collapsed": false
   },
   "outputs": [
    {
     "name": "stdout",
     "output_type": "stream",
     "text": [
      "*****************\n",
      "\n",
      "rho = 12.3588332214319\n",
      "Average number of multiedges = 6.1962660016973325\n",
      "Maximum number of multiedges = 12.358833448755592\n",
      "Time to build the tree and compute the stretch: elapsed time: 3.982779155 seconds\n",
      "rho = 12.3588332214319\n",
      "Average number of multiedges = 6.1962660016973325\n",
      "Maximum number of multiedges = 12.358833448755592\n",
      "Time to build the tree and compute the stretch: elapsed time: 4.423792459 seconds\n",
      "My build time: elapsed time: 20.190127362 seconds\n",
      "PCG stopped after: 1000 iterations with relative error 9.258648815679004e-6.\n",
      "PCG stopped after: 1000 iterations with relative error 9.258648852623393e-6.\n",
      "My solve time: elapsed time: 85.309069305 seconds\n",
      "9.345082038069529e-6\n",
      "\n",
      "Dan's build time: elapsed time: 4.616281911 seconds\n",
      "PCG stopped after: 1000 iterations with relative error 0.026648518090189265.\n",
      "Dan's solve time: elapsed time: 60.73654269 seconds\n",
      "0.15756833620943325\n",
      "\n",
      "217.106971 seconds (1.10 G allocations: 67.406 GB, 7.46% gc time)\n"
     ]
    }
   ],
   "source": [
    "@time (x,acc,itercount) = isotonicIPMrelEps(A,v,0.01);"
   ]
  },
  {
   "cell_type": "code",
   "execution_count": 5,
   "metadata": {
    "collapsed": false
   },
   "outputs": [
    {
     "data": {
      "text/plain": [
       "\"hard graph\""
      ]
     },
     "execution_count": 5,
     "metadata": {},
     "output_type": "execute_result"
    }
   ],
   "source": [
    "a = copy(x); b = copy(acc);\n",
    "itercount"
   ]
  },
  {
   "cell_type": "code",
   "execution_count": 6,
   "metadata": {
    "collapsed": false
   },
   "outputs": [
    {
     "name": "stdout",
     "output_type": "stream",
     "text": [
      "rho = 12.3588332214319\n",
      "Average number of multiedges = 6.1962660016973325\n",
      "Maximum number of multiedges = 12.358833448755592\n",
      "Time to build the tree and compute the stretch: elapsed time: 4.684778913 seconds\n",
      " 13.496153 seconds (63.85 M allocations: 3.041 GB, 15.66% gc time)\n",
      "PCG stopped after: 1000 iterations with relative error 9.258648701025912e-6.\n",
      " 54.996529 seconds (500.52 M allocations: 18.703 GB, 9.00% gc time)\n"
     ]
    },
    {
     "data": {
      "text/plain": [
       "9.345081946555784e-6"
      ]
     },
     "execution_count": 6,
     "metadata": {},
     "output_type": "execute_result"
    }
   ],
   "source": [
    "@time f = samplingSolver(a, tol=1e-6,maxits=1000,verbose=true,\n",
    "eps = 0.5, sampConst = 0.02, beta = 1000.0)\n",
    "@time norm(lap(a) * f(b) - b)"
   ]
  },
  {
   "cell_type": "code",
   "execution_count": 7,
   "metadata": {
    "collapsed": false
   },
   "outputs": [
    {
     "name": "stdout",
     "output_type": "stream",
     "text": [
      "  5.078089 seconds (3.69 M allocations: 808.504 MB, 13.43% gc time)\n",
      "PCG stopped after: 1000 iterations with relative error 2357.511418843796.\n",
      " 65.278532 seconds (25.52 k allocations: 14.971 GB, 4.54% gc time)\n",
      "2379.5206608871595\n"
     ]
    }
   ],
   "source": [
    "@time danf = augTreeSolver(lap(a),tol=1e-6,maxits=1000,verbose=true)\n",
    "@time nrm = norm(lap(a) * danf(b) - b)\n",
    "println(nrm)"
   ]
  },
  {
   "cell_type": "code",
   "execution_count": null,
   "metadata": {
    "collapsed": true
   },
   "outputs": [],
   "source": []
  },
  {
   "cell_type": "code",
   "execution_count": null,
   "metadata": {
    "collapsed": true
   },
   "outputs": [],
   "source": []
  },
  {
   "cell_type": "code",
   "execution_count": 8,
   "metadata": {
    "collapsed": true
   },
   "outputs": [],
   "source": [
    "writeToFile(\"6.txt\", a)"
   ]
  },
  {
   "cell_type": "code",
   "execution_count": null,
   "metadata": {
    "collapsed": true
   },
   "outputs": [],
   "source": []
  },
  {
   "cell_type": "code",
   "execution_count": null,
   "metadata": {
    "collapsed": true
   },
   "outputs": [],
   "source": []
  },
  {
   "cell_type": "code",
   "execution_count": 25,
   "metadata": {
    "collapsed": false
   },
   "outputs": [
    {
     "name": "stdout",
     "output_type": "stream",
     "text": [
      "rho = 12.3588332214319\n",
      "Average number of multiedges = 6.196401582907211\n",
      "Maximum number of multiedges = 12.358833448755592\n",
      "Time to build the tree and compute the stretch: elapsed time: 3.451179375 seconds\n",
      "computing the condition number takes: elapsed time: 16.622482252 seconds\n",
      "elapsed time: 16.735222462 seconds\n",
      " 22.977754 seconds (125.37 M allocations: 4.725 GB, 7.76% gc time)\n"
     ]
    }
   ],
   "source": [
    "@time f,gOp,U,d,_,cn,cntime,stretches = buildSolver(a, eps = 0.5, sampConst = 0.02, beta = 1000.0, returnCN=true);"
   ]
  },
  {
   "cell_type": "code",
   "execution_count": 26,
   "metadata": {
    "collapsed": false
   },
   "outputs": [
    {
     "data": {
      "text/plain": [
       "-0.9630019712269029"
      ]
     },
     "execution_count": 26,
     "metadata": {},
     "output_type": "execute_result"
    }
   ],
   "source": [
    "checkError(gOp)"
   ]
  },
  {
   "cell_type": "code",
   "execution_count": 27,
   "metadata": {
    "collapsed": false
   },
   "outputs": [
    {
     "data": {
      "text/plain": [
       "(526.0012253909326,587.8423887553411)"
      ]
     },
     "execution_count": 27,
     "metadata": {},
     "output_type": "execute_result"
    }
   ],
   "source": [
    "cn"
   ]
  },
  {
   "cell_type": "code",
   "execution_count": null,
   "metadata": {
    "collapsed": true
   },
   "outputs": [],
   "source": []
  },
  {
   "cell_type": "code",
   "execution_count": null,
   "metadata": {
    "collapsed": true
   },
   "outputs": [],
   "source": []
  },
  {
   "cell_type": "code",
   "execution_count": 28,
   "metadata": {
    "collapsed": false
   },
   "outputs": [
    {
     "ename": "LoadError",
     "evalue": "LoadError: InterruptException:\nwhile loading In[28], in expression starting on line 155",
     "output_type": "error",
     "traceback": [
      "LoadError: InterruptException:\nwhile loading In[28], in expression starting on line 155",
      "",
      " in saupd at linalg/arpack.jl:243",
      " in aupd_wrapper at linalg/arpack.jl:46",
      " in _eigs at linalg/arnoldi.jl:228",
      " in eigs at linalg/arnoldi.jl:51",
      " in eigs at linalg/arnoldi.jl:50"
     ]
    }
   ],
   "source": [
    "@time eigs(a + speye(n) * 0.001, nev = 1, which = :LM)[1][1]"
   ]
  },
  {
   "cell_type": "code",
   "execution_count": 39,
   "metadata": {
    "collapsed": false
   },
   "outputs": [
    {
     "name": "stdout",
     "output_type": "stream",
     "text": [
      "601.159546 seconds (72.84 k allocations: 10.255 GB, 0.29% gc time)\n"
     ]
    },
    {
     "name": "stderr",
     "output_type": "stream",
     "text": [
      "WARNING: not all wanted Ritz pairs converged. Requested: 1, converged: 0\n"
     ]
    },
    {
     "data": {
      "text/plain": [
       "0.0"
      ]
     },
     "execution_count": 39,
     "metadata": {},
     "output_type": "execute_result"
    }
   ],
   "source": [
    "@time eigs(a + speye(n) * 0.001, nev = 1, which = :SM)[1][1]"
   ]
  }
 ],
 "metadata": {
  "kernelspec": {
   "display_name": "Julia 0.4.5",
   "language": "julia",
   "name": "julia-0.4"
  },
  "language_info": {
   "file_extension": ".jl",
   "mimetype": "application/julia",
   "name": "julia",
   "version": "0.4.5"
  }
 },
 "nbformat": 4,
 "nbformat_minor": 0
}
