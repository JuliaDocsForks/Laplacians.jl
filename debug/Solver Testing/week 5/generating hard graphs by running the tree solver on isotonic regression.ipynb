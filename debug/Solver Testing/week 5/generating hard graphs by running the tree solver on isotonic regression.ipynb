{
 "cells": [
  {
   "cell_type": "code",
   "execution_count": 1,
   "metadata": {
    "collapsed": false
   },
   "outputs": [],
   "source": [
    "using Laplacians"
   ]
  },
  {
   "cell_type": "code",
   "execution_count": 2,
   "metadata": {
    "collapsed": false
   },
   "outputs": [
    {
     "data": {
      "text/plain": [
       "constructLowerTriangularMat (generic function with 1 method)"
      ]
     },
     "execution_count": 2,
     "metadata": {},
     "output_type": "execute_result"
    }
   ],
   "source": [
    "include(\"../../../src/isotonicIPMSolverDebug.jl\")\n",
    "include(\"../../../src/samplingTreeSolver.jl\")"
   ]
  },
  {
   "cell_type": "code",
   "execution_count": 3,
   "metadata": {
    "collapsed": true
   },
   "outputs": [],
   "source": [
    "sqroot = 300\n",
    "n = sqroot^2\n",
    "A = grid2(sqroot,sqroot)\n",
    "A = triu(A);\n",
    "v = randn(n)+collect(1:n)/2;\n",
    "isoTestValues = collect(1:n);\n",
    "newOrder = randperm(n)\n",
    "permMat = (speye(n))[1:n,newOrder];\n",
    "A = permMat*A*permMat';\n",
    "v = permMat*v;"
   ]
  },
  {
   "cell_type": "code",
   "execution_count": 4,
   "metadata": {
    "collapsed": false
   },
   "outputs": [
    {
     "name": "stdout",
     "output_type": "stream",
     "text": [
      "*****************\n",
      "\n",
      "rho = 10.41060304582247\n",
      "Average number of multiedges = 5.2265338126579515\n",
      "Maximum number of multiedges = 10.410603085816941\n",
      "Time to build the tree and compute the stretch: elapsed time: 0.73053874 seconds\n",
      "\n",
      "The total size of the linked list data structure should be at most 4612225\n",
      "The actual size is 107820\n",
      "\n",
      "My build time: elapsed time: 2.332520782 seconds\n",
      "PCG stopped at maxtime.\n",
      "PCG stopped after: 2144 iterations with relative error 0.00019931454593709812.\n",
      "My solve time: elapsed time: 20.150098119 seconds\n",
      "0.00019931454557176696\n",
      "\n",
      "Dan's build time: elapsed time: 0.728350792 seconds\n",
      "PCG stopped after: 1492 iterations with relative error 8.991139813814344e-7.\n",
      "Dan's solve time: elapsed time: 12.491721303 seconds\n",
      "9.152913486553347e-7\n",
      "\n",
      "*****************\n",
      "\n",
      "rho = 10.41060304582247\n",
      "Average number of multiedges = 5.22656293258755\n",
      "Maximum number of multiedges = 10.410603096457065\n",
      "Time to build the tree and compute the stretch: elapsed time: 0.812931283 seconds\n",
      "\n",
      "The total size of the linked list data structure should be at most 4612235\n",
      "The actual size is 107820\n",
      "\n",
      "My build time: elapsed time: 1.855750967 seconds\n",
      "PCG stopped at maxtime.\n",
      "PCG stopped after: 1997 iterations with relative error 4.007275987186064e7.\n",
      "My solve time: elapsed time: 20.041688883 seconds\n",
      "4.007275889145903e7\n",
      "\n",
      "Dan's build time: elapsed time: 1.231634389 seconds\n",
      "PCG stopped after: 757 iterations with relative error 9.842898543600367e-7.\n",
      "Dan's solve time: elapsed time: 9.147174767 seconds\n",
      "9.916925162565819e-7\n",
      "\n",
      " 84.004899 seconds (790.25 M allocations: 47.673 GB, 9.34% gc time)\n"
     ]
    }
   ],
   "source": [
    "@time (x,acc,itercount) = isotonicIPMrelEps(A,v,0.01);"
   ]
  },
  {
   "cell_type": "code",
   "execution_count": 5,
   "metadata": {
    "collapsed": false
   },
   "outputs": [
    {
     "data": {
      "text/plain": [
       "\"hard graph\""
      ]
     },
     "execution_count": 5,
     "metadata": {},
     "output_type": "execute_result"
    }
   ],
   "source": [
    "a = copy(x); b = copy(acc);\n",
    "itercount"
   ]
  },
  {
   "cell_type": "code",
   "execution_count": 3,
   "metadata": {
    "collapsed": true
   },
   "outputs": [],
   "source": [
    "a = readFromFile(\"3.txt\");"
   ]
  },
  {
   "cell_type": "code",
   "execution_count": 7,
   "metadata": {
    "collapsed": false
   },
   "outputs": [
    {
     "data": {
      "text/plain": [
       "90000"
      ]
     },
     "execution_count": 7,
     "metadata": {},
     "output_type": "execute_result"
    }
   ],
   "source": [
    "n = a.n"
   ]
  },
  {
   "cell_type": "code",
   "execution_count": 8,
   "metadata": {
    "collapsed": true
   },
   "outputs": [],
   "source": [
    "b = rand(n); b = b - mean(b);"
   ]
  },
  {
   "cell_type": "code",
   "execution_count": 9,
   "metadata": {
    "collapsed": false
   },
   "outputs": [
    {
     "name": "stdout",
     "output_type": "stream",
     "text": [
      "rho = 10.41060304582247\n",
      "Average number of multiedges = 5.2266946715106295\n",
      "Maximum number of multiedges = 10.410603085816941\n",
      "Time to build the tree and compute the stretch: elapsed time: 0.804177652 seconds\n",
      "\n",
      "The total size of the linked list data structure should be at most 4612282\n",
      "The actual size is 107820\n",
      "\n",
      "  1.878346 seconds (13.87 M allocations: 794.532 MB, 14.49% gc time)\n",
      "PCG stopped after: 120 iterations with relative error 8.752336662524488e-6.\n",
      "  1.649896 seconds (22.19 M allocations: 870.554 MB, 8.22% gc time)\n"
     ]
    },
    {
     "data": {
      "text/plain": [
       "8.75232874891605e-6"
      ]
     },
     "execution_count": 9,
     "metadata": {},
     "output_type": "execute_result"
    }
   ],
   "source": [
    "@time f = samplingSolver(a, tol=1e-6,maxits=120,verbose=true,\n",
    "eps = 0.5, sampConst = 0.02, beta = 1000.0)\n",
    "@time norm(lap(a) * f(b) - b) / norm(b)"
   ]
  },
  {
   "cell_type": "code",
   "execution_count": 10,
   "metadata": {
    "collapsed": false
   },
   "outputs": [
    {
     "name": "stdout",
     "output_type": "stream",
     "text": [
      "  0.882606 seconds (1.34 M allocations: 297.175 MB, 17.52% gc time)\n",
      "PCG stopped after: 1000 iterations with relative error 1.3922058369059718.\n",
      "  9.862259 seconds (113.16 k allocations: 5.406 GB, 8.40% gc time)\n"
     ]
    },
    {
     "data": {
      "text/plain": [
       "1.3922058368847192"
      ]
     },
     "execution_count": 10,
     "metadata": {},
     "output_type": "execute_result"
    }
   ],
   "source": [
    "@time danf = augTreeSolver(lap(a) + speye(a.n) * 1e-15, tol=1e-6,maxits=1000,verbose=true,treeAlg = akpw)\n",
    "@time nrm = norm((lap(a) + speye(a.n) * 1e-15) * danf(b) - b) / norm(b)"
   ]
  },
  {
   "cell_type": "code",
   "execution_count": 11,
   "metadata": {
    "collapsed": false
   },
   "outputs": [
    {
     "name": "stdout",
     "output_type": "stream",
     "text": [
      "PCG stopped after: 1000 iterations with relative error 1.3922058369059718.\n",
      "PCG stopped after: 120 iterations with relative error 8.752336662524488e-6.\n"
     ]
    },
    {
     "data": {
      "text/plain": [
       "1.3922059041510164"
      ]
     },
     "execution_count": 11,
     "metadata": {},
     "output_type": "execute_result"
    }
   ],
   "source": [
    "norm(lap(a) * (danf(b) - f(b))) / norm(b)"
   ]
  },
  {
   "cell_type": "code",
   "execution_count": null,
   "metadata": {
    "collapsed": true
   },
   "outputs": [],
   "source": []
  },
  {
   "cell_type": "code",
   "execution_count": 16,
   "metadata": {
    "collapsed": false
   },
   "outputs": [
    {
     "name": "stdout",
     "output_type": "stream",
     "text": [
      "PCG stopped after: 120 iterations with relative error 8.752336662524488e-6.\n"
     ]
    },
    {
     "data": {
      "text/plain": [
       "1x1 Array{Float64,2}:\n",
       " 6.8801e-11"
      ]
     },
     "execution_count": 16,
     "metadata": {},
     "output_type": "execute_result"
    }
   ],
   "source": [
    "r = lap(a) * f(b) - b\n",
    "t = r' * foneStep(r)\n",
    "t / (b'*foneStep(b))"
   ]
  },
  {
   "cell_type": "code",
   "execution_count": 17,
   "metadata": {
    "collapsed": false
   },
   "outputs": [
    {
     "name": "stdout",
     "output_type": "stream",
     "text": [
      "PCG stopped after: 1000 iterations with relative error 1.3922058369059718.\n"
     ]
    },
    {
     "data": {
      "text/plain": [
       "1x1 Array{Float64,2}:\n",
       " 0.681964"
      ]
     },
     "execution_count": 17,
     "metadata": {},
     "output_type": "execute_result"
    }
   ],
   "source": [
    "r = lap(a) * danf(b) - b\n",
    "t = r' * foneStep(r)\n",
    "t / (b' * foneStep(b))"
   ]
  },
  {
   "cell_type": "code",
   "execution_count": 18,
   "metadata": {
    "collapsed": true
   },
   "outputs": [],
   "source": [
    "using PyAMG"
   ]
  },
  {
   "cell_type": "code",
   "execution_count": 25,
   "metadata": {
    "collapsed": false
   },
   "outputs": [
    {
     "name": "stdout",
     "output_type": "stream",
     "text": [
      "  1.882712 seconds (323 allocations: 38.409 MB, 0.50% gc time)\n",
      "  Detected a Hermitian matrix\n",
      "    maxiter = 100\n",
      "    iteration 1\n",
      "    iteration 2\n",
      "    iteration 3\n",
      "    iteration 4\n",
      "    iteration 5\n",
      "    iteration 6\n",
      "    iteration 7\n",
      "    iteration 8\n",
      "    iteration 9\n",
      "    iteration 10\n",
      "    iteration 11\n",
      "  Residual reduction ||r_k||/||r_0|| = 1.10e-05\n"
     ]
    }
   ],
   "source": [
    "@time x = PyAMG.solve(lap(a) + speye(a.n) * 1e-15, b, tol = 1e-6, maxiter = 100);"
   ]
  },
  {
   "cell_type": "code",
   "execution_count": 26,
   "metadata": {
    "collapsed": false
   },
   "outputs": [
    {
     "data": {
      "text/plain": [
       "1x1 Array{Float64,2}:\n",
       " 1.29136e-10"
      ]
     },
     "execution_count": 26,
     "metadata": {},
     "output_type": "execute_result"
    }
   ],
   "source": [
    "r = lap(a) * x - b\n",
    "t = r' * foneStep(r)\n",
    "t / (b' * foneStep(b))"
   ]
  },
  {
   "cell_type": "code",
   "execution_count": null,
   "metadata": {
    "collapsed": true
   },
   "outputs": [],
   "source": []
  },
  {
   "cell_type": "code",
   "execution_count": null,
   "metadata": {
    "collapsed": true
   },
   "outputs": [],
   "source": []
  },
  {
   "cell_type": "code",
   "execution_count": 49,
   "metadata": {
    "collapsed": false
   },
   "outputs": [
    {
     "data": {
      "text/plain": [
       "0.022106446804653984"
      ]
     },
     "execution_count": 49,
     "metadata": {},
     "output_type": "execute_result"
    }
   ],
   "source": [
    "maximum(abs(b))"
   ]
  },
  {
   "cell_type": "code",
   "execution_count": null,
   "metadata": {
    "collapsed": true
   },
   "outputs": [],
   "source": []
  },
  {
   "cell_type": "code",
   "execution_count": 8,
   "metadata": {
    "collapsed": true
   },
   "outputs": [],
   "source": [
    "writeToFile(\"2.txt\", a)"
   ]
  },
  {
   "cell_type": "code",
   "execution_count": null,
   "metadata": {
    "collapsed": true
   },
   "outputs": [],
   "source": []
  },
  {
   "cell_type": "code",
   "execution_count": null,
   "metadata": {
    "collapsed": true
   },
   "outputs": [],
   "source": []
  },
  {
   "cell_type": "code",
   "execution_count": 13,
   "metadata": {
    "collapsed": false
   },
   "outputs": [
    {
     "name": "stdout",
     "output_type": "stream",
     "text": [
      "rho = 10.41060304582247\n",
      "Average number of multiedges = 5.2266946715106295\n",
      "Maximum number of multiedges = 10.410603085816941\n",
      "Time to build the tree and compute the stretch: elapsed time: 0.859398843 seconds\n",
      "\n",
      "The total size of the linked list data structure should be at most 4612282\n",
      "The actual size is 107820\n",
      "\n",
      "computing the condition number takes: elapsed time: 6.321184471 seconds\n",
      "elapsed time: 6.355505206 seconds\n",
      "  7.815653 seconds (65.49 M allocations: 2.083 GB, 6.50% gc time)\n"
     ]
    }
   ],
   "source": [
    "@time foneStep,gOp,U,d,_,cn,cntime,stretches = buildSolver(a, eps = 0.5, sampConst = 0.02, beta = 1000.0, returnCN=true);"
   ]
  },
  {
   "cell_type": "code",
   "execution_count": 14,
   "metadata": {
    "collapsed": false
   },
   "outputs": [
    {
     "data": {
      "text/plain": [
       "-0.951000301968924"
      ]
     },
     "execution_count": 14,
     "metadata": {},
     "output_type": "execute_result"
    }
   ],
   "source": [
    "checkError(gOp)"
   ]
  },
  {
   "cell_type": "code",
   "execution_count": 15,
   "metadata": {
    "collapsed": false
   },
   "outputs": [
    {
     "data": {
      "text/plain": [
       "(317.88235820595753,339.4643006921061)"
      ]
     },
     "execution_count": 15,
     "metadata": {},
     "output_type": "execute_result"
    }
   ],
   "source": [
    "cn"
   ]
  },
  {
   "cell_type": "code",
   "execution_count": 32,
   "metadata": {
    "collapsed": false
   },
   "outputs": [
    {
     "data": {
      "text/plain": [
       "1x90000 Array{Float64,2}:\n",
       " -0.0147591  -0.0147761  -0.0147898  …  3.69294e-7  -5.36868e-7  -3.9492e-5"
      ]
     },
     "execution_count": 32,
     "metadata": {},
     "output_type": "execute_result"
    }
   ],
   "source": []
  },
  {
   "cell_type": "code",
   "execution_count": null,
   "metadata": {
    "collapsed": true
   },
   "outputs": [],
   "source": []
  },
  {
   "cell_type": "code",
   "execution_count": 28,
   "metadata": {
    "collapsed": false
   },
   "outputs": [
    {
     "ename": "LoadError",
     "evalue": "LoadError: InterruptException:\nwhile loading In[28], in expression starting on line 155",
     "output_type": "error",
     "traceback": [
      "LoadError: InterruptException:\nwhile loading In[28], in expression starting on line 155",
      "",
      " in saupd at linalg/arpack.jl:243",
      " in aupd_wrapper at linalg/arpack.jl:46",
      " in _eigs at linalg/arnoldi.jl:228",
      " in eigs at linalg/arnoldi.jl:51",
      " in eigs at linalg/arnoldi.jl:50"
     ]
    }
   ],
   "source": [
    "@time eigs(a + speye(n) * 0.001, nev = 3, which = :LM)[1]"
   ]
  },
  {
   "cell_type": "code",
   "execution_count": 39,
   "metadata": {
    "collapsed": false
   },
   "outputs": [
    {
     "name": "stdout",
     "output_type": "stream",
     "text": [
      "601.159546 seconds (72.84 k allocations: 10.255 GB, 0.29% gc time)\n"
     ]
    },
    {
     "name": "stderr",
     "output_type": "stream",
     "text": [
      "WARNING: not all wanted Ritz pairs converged. Requested: 1, converged: 0\n"
     ]
    },
    {
     "data": {
      "text/plain": [
       "0.0"
      ]
     },
     "execution_count": 39,
     "metadata": {},
     "output_type": "execute_result"
    }
   ],
   "source": [
    "@time eigs(a + speye(n) * 0.001, nev = 3, which = :SM)[1]"
   ]
  }
 ],
 "metadata": {
  "kernelspec": {
   "display_name": "Julia 0.4.5",
   "language": "julia",
   "name": "julia-0.4"
  },
  "language_info": {
   "file_extension": ".jl",
   "mimetype": "application/julia",
   "name": "julia",
   "version": "0.4.5"
  }
 },
 "nbformat": 4,
 "nbformat_minor": 0
}
