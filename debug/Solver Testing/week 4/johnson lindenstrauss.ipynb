{
 "cells": [
  {
   "cell_type": "code",
   "execution_count": 1,
   "metadata": {
    "collapsed": false
   },
   "outputs": [],
   "source": [
    "using Laplacians\n",
    "using ProfileView"
   ]
  },
  {
   "cell_type": "code",
   "execution_count": 2,
   "metadata": {
    "collapsed": false
   },
   "outputs": [],
   "source": [
    "n = 1000;\n",
    "a = wtedChimera(n, 1);"
   ]
  },
  {
   "cell_type": "code",
   "execution_count": 3,
   "metadata": {
    "collapsed": false
   },
   "outputs": [
    {
     "name": "stdout",
     "output_type": "stream",
     "text": [
      "  5.021142 seconds (3.75 M allocations: 888.846 MB, 2.76% gc time)\n"
     ]
    }
   ],
   "source": [
    "include(\"../../../src/johnlind.jl\")\n",
    "@time reff = johnlind(a, 0.5);"
   ]
  },
  {
   "cell_type": "code",
   "execution_count": 4,
   "metadata": {
    "collapsed": true
   },
   "outputs": [],
   "source": [
    "n = 20000;\n",
    "a = wtedChimera(n, 1);"
   ]
  },
  {
   "cell_type": "code",
   "execution_count": 6,
   "metadata": {
    "collapsed": false
   },
   "outputs": [
    {
     "name": "stdout",
     "output_type": "stream",
     "text": [
      "  1.374442 seconds (1.61 M allocations: 747.173 MB, 14.90% gc time)\n"
     ]
    }
   ],
   "source": [
    "@time reff = johnlind(a, 5.0);"
   ]
  },
  {
   "cell_type": "code",
   "execution_count": 18,
   "metadata": {
    "collapsed": false,
    "scrolled": true
   },
   "outputs": [],
   "source": [
    "# Profile.clear()\n",
    "# @profile reff = johnlind(a, 0.5);\n",
    "# ProfileView.view()"
   ]
  },
  {
   "cell_type": "code",
   "execution_count": null,
   "metadata": {
    "collapsed": true
   },
   "outputs": [],
   "source": []
  },
  {
   "cell_type": "code",
   "execution_count": 7,
   "metadata": {
    "collapsed": false
   },
   "outputs": [
    {
     "data": {
      "text/plain": [
       "20019.831590528414"
      ]
     },
     "execution_count": 7,
     "metadata": {},
     "output_type": "execute_result"
    }
   ],
   "source": [
    "levScore = copy(a);\n",
    "for i in 1:length(a.nzval)\n",
    "    levScore.nzval[i] = a.nzval[i] * reff.nzval[i]\n",
    "end\n",
    "sum(levScore.nzval) / 2"
   ]
  },
  {
   "cell_type": "code",
   "execution_count": 11,
   "metadata": {
    "collapsed": false
   },
   "outputs": [
    {
     "name": "stdout",
     "output_type": "stream",
     "text": [
      "221.352078 seconds (28.49 M allocations: 124.216 GB, 7.67% gc time)\n",
      "4.375484221715097\n"
     ]
    }
   ],
   "source": [
    "include(\"../../../src/johnlind.jl\")\n",
    "reffMin = copy(a);\n",
    "reffMin.nzval = ones(length(a.nzval)) * 2 * n\n",
    "reffMax = copy(a);\n",
    "reffMax.nzval = zeros(length(a.nzval))\n",
    "\n",
    "@time for test in 1:10\n",
    "    reff = johnlind(a, 1.0)\n",
    "    for i in 1:length(reff.nzval)\n",
    "        reffMin.nzval[i] = min(reffMin.nzval[i], reff.nzval[i])\n",
    "        reffMax.nzval[i] = max(reffMax.nzval[i], reff.nzval[i])\n",
    "    end\n",
    "end\n",
    "\n",
    "ratioMax = 0\n",
    "for i in 1:length(reff.nzval)\n",
    "    ratioMax = max(ratioMax, reffMax.nzval[i] / reffMin.nzval[i])\n",
    "end\n",
    "println(ratioMax)"
   ]
  },
  {
   "cell_type": "code",
   "execution_count": null,
   "metadata": {
    "collapsed": true
   },
   "outputs": [],
   "source": []
  },
  {
   "cell_type": "code",
   "execution_count": null,
   "metadata": {
    "collapsed": true
   },
   "outputs": [],
   "source": []
  },
  {
   "cell_type": "code",
   "execution_count": 10,
   "metadata": {
    "collapsed": false
   },
   "outputs": [
    {
     "data": {
      "text/plain": [
       "1-element Array{Float64,1}:\n",
       " 99.0"
      ]
     },
     "execution_count": 10,
     "metadata": {},
     "output_type": "execute_result"
    }
   ],
   "source": [
    "inv = pinv(full(lap(a)));\n",
    "totLevScore = 0\n",
    "pos = 1\n",
    "for i in 1:length(a.nzval)\n",
    "    while a.colptr[pos + 1] <= i\n",
    "        pos = pos + 1\n",
    "    end\n",
    "\n",
    "    p = a.rowval[i]\n",
    "    q = pos\n",
    "    w = a.nzval[i]\n",
    "    \n",
    "    if p > q\n",
    "        edge = zeros(a.n)\n",
    "        edge[p] = 1\n",
    "        edge[q] = -1\n",
    "        totLevScore += w * edge' * inv * edge\n",
    "    end\n",
    "end\n",
    "totLevScore"
   ]
  },
  {
   "cell_type": "code",
   "execution_count": null,
   "metadata": {
    "collapsed": true
   },
   "outputs": [],
   "source": []
  },
  {
   "cell_type": "code",
   "execution_count": null,
   "metadata": {
    "collapsed": true
   },
   "outputs": [],
   "source": []
  }
 ],
 "metadata": {
  "kernelspec": {
   "display_name": "Julia 0.4.5",
   "language": "julia",
   "name": "julia-0.4"
  },
  "language_info": {
   "file_extension": ".jl",
   "mimetype": "application/julia",
   "name": "julia",
   "version": "0.4.5"
  }
 },
 "nbformat": 4,
 "nbformat_minor": 0
}
