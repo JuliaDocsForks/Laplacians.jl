{
 "cells": [
  {
   "cell_type": "code",
   "execution_count": 7,
   "metadata": {
    "collapsed": true
   },
   "outputs": [],
   "source": [
    "using Laplacians"
   ]
  },
  {
   "cell_type": "code",
   "execution_count": 8,
   "metadata": {
    "collapsed": false
   },
   "outputs": [
    {
     "ename": "LoadError",
     "evalue": "LoadError: LoadError: LoadError: invalid redefinition of constant Sampler\nwhile loading /Users/serbanstan/git/Laplacians.jl/src/fastSampler.jl, in expression starting on line 2\nwhile loading /Users/serbanstan/git/Laplacians.jl/src/samplingSolver.jl, in expression starting on line 5\nwhile loading In[8], in expression starting on line 1",
     "output_type": "error",
     "traceback": [
      "LoadError: LoadError: LoadError: invalid redefinition of constant Sampler\nwhile loading /Users/serbanstan/git/Laplacians.jl/src/fastSampler.jl, in expression starting on line 2\nwhile loading /Users/serbanstan/git/Laplacians.jl/src/samplingSolver.jl, in expression starting on line 5\nwhile loading In[8], in expression starting on line 1",
      "",
      " in include at /Applications/Julia-0.4.5.app/Contents/Resources/julia/lib/julia/sys.dylib",
      " in include_from_node1 at /Applications/Julia-0.4.5.app/Contents/Resources/julia/lib/julia/sys.dylib",
      " in include at /Applications/Julia-0.4.5.app/Contents/Resources/julia/lib/julia/sys.dylib",
      " in include_from_node1 at /Applications/Julia-0.4.5.app/Contents/Resources/julia/lib/julia/sys.dylib"
     ]
    }
   ],
   "source": [
    "include(\"../src/samplingSolver.jl\")"
   ]
  },
  {
   "cell_type": "code",
   "execution_count": 3,
   "metadata": {
    "collapsed": true
   },
   "outputs": [],
   "source": [
    "A = chimera(1000, 1);"
   ]
  },
  {
   "cell_type": "code",
   "execution_count": 6,
   "metadata": {
    "collapsed": false
   },
   "outputs": [
    {
     "ename": "LoadError",
     "evalue": "LoadError: MethodError: `convert` has no method matching convert(::Type{Sampler{Tv,Ti}}, ::Array{Float64,1})\nThis may have arisen from a call to the constructor Sampler{Tv,Ti}(...),\nsince type constructors fall back to convert methods.\nClosest candidates are:\n  Sampler{Tv,Ti}(::Array{Tv,1}, !Matched::Array{Ti,1}, !Matched::Array{Ti,1}, !Matched::Ti)\n  call{T}(::Type{T}, ::Any)\n  convert{T}(::Type{T}, !Matched::T)\nwhile loading In[6], in expression starting on line 1",
     "output_type": "error",
     "traceback": [
      "LoadError: MethodError: `convert` has no method matching convert(::Type{Sampler{Tv,Ti}}, ::Array{Float64,1})\nThis may have arisen from a call to the constructor Sampler{Tv,Ti}(...),\nsince type constructors fall back to convert methods.\nClosest candidates are:\n  Sampler{Tv,Ti}(::Array{Tv,1}, !Matched::Array{Ti,1}, !Matched::Array{Ti,1}, !Matched::Ti)\n  call{T}(::Type{T}, ::Any)\n  convert{T}(::Type{T}, !Matched::T)\nwhile loading In[6], in expression starting on line 1",
      "",
      " in samplingLDL at /Users/serbanstan/git/Laplacians.jl/src/samplingSolver.jl:186",
      " in buildSolver at /Users/serbanstan/git/Laplacians.jl/src/samplingSolver.jl:27",
      " [inlined code] from util.jl:155",
      " in anonymous at no file:0"
     ]
    }
   ],
   "source": [
    "for i in 1:10\n",
    "    @time buildSolver(A, sampConst=0.01);\n",
    "end"
   ]
  },
  {
   "cell_type": "code",
   "execution_count": 5,
   "metadata": {
    "collapsed": false
   },
   "outputs": [
    {
     "data": {
      "text/plain": [
       "3-element Array{Float64,1}:\n",
       " 1.0\n",
       " 2.0\n",
       " 3.0"
      ]
     },
     "execution_count": 5,
     "metadata": {},
     "output_type": "execute_result"
    }
   ],
   "source": [
    "convert(Array{Float64,1}, [1,2,3])"
   ]
  },
  {
   "cell_type": "code",
   "execution_count": null,
   "metadata": {
    "collapsed": true
   },
   "outputs": [],
   "source": []
  }
 ],
 "metadata": {
  "kernelspec": {
   "display_name": "Julia 0.4.5",
   "language": "julia",
   "name": "julia-0.4"
  },
  "language_info": {
   "file_extension": ".jl",
   "mimetype": "application/julia",
   "name": "julia",
   "version": "0.4.5"
  }
 },
 "nbformat": 4,
 "nbformat_minor": 0
}
