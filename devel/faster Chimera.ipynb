{
 "cells": [
  {
   "cell_type": "code",
   "execution_count": 2,
   "metadata": {
    "collapsed": false
   },
   "outputs": [],
   "source": [
    "using Laplacians"
   ]
  },
  {
   "cell_type": "code",
   "execution_count": 1,
   "metadata": {
    "collapsed": false
   },
   "outputs": [
    {
     "data": {
      "text/plain": [
       "3"
      ]
     },
     "execution_count": 1,
     "metadata": {},
     "output_type": "execute_result"
    }
   ],
   "source": [
    "1+2"
   ]
  },
  {
   "cell_type": "code",
   "execution_count": null,
   "metadata": {
    "collapsed": true
   },
   "outputs": [],
   "source": []
  },
  {
   "cell_type": "code",
   "execution_count": 3,
   "metadata": {
    "collapsed": false
   },
   "outputs": [],
   "source": [
    "type IJV{Tv,Ti}\n",
    "    n::Ti\n",
    "    nnz::Ti\n",
    "    i::Array{Ti,1}\n",
    "    j::Array{Ti,1}\n",
    "    v::Array{Tv,1}\n",
    "end\n"
   ]
  },
  {
   "cell_type": "code",
   "execution_count": 4,
   "metadata": {
    "collapsed": false
   },
   "outputs": [
    {
     "data": {
      "text/plain": [
       "IJV{Tv,Ti}"
      ]
     },
     "execution_count": 4,
     "metadata": {},
     "output_type": "execute_result"
    }
   ],
   "source": [
    "function IJV{Tv,Ti}(A::SparseMatrixCSC{Tv, Ti}) \n",
    "    (ai,aj,av) = findnz(A)\n",
    "    IJV{Tv,Ti}(A.n, nnz(A), ai, aj, av)\n",
    "end\n"
   ]
  },
  {
   "cell_type": "code",
   "execution_count": 5,
   "metadata": {
    "collapsed": false
   },
   "outputs": [
    {
     "data": {
      "text/plain": [
       "IJV{Float64,Int64}(5,25,[1,2,3,4,5,1,2,3,4,5  …  1,2,3,4,5,1,2,3,4,5],[1,1,1,1,1,2,2,2,2,2  …  4,4,4,4,4,5,5,5,5,5],[0.78328,0.244047,0.737132,0.407148,0.968147,0.705672,0.877284,0.538385,0.197892,0.287365  …  0.00362295,0.567457,0.885835,0.962108,0.442368,0.874936,0.85636,0.83223,0.505683,0.484684])"
      ]
     },
     "execution_count": 5,
     "metadata": {},
     "output_type": "execute_result"
    }
   ],
   "source": [
    "a = sparse(rand(5,5))\n",
    "ijv = IJV(a)"
   ]
  },
  {
   "cell_type": "code",
   "execution_count": 6,
   "metadata": {
    "collapsed": false
   },
   "outputs": [
    {
     "data": {
      "text/plain": [
       "0.0"
      ]
     },
     "execution_count": 6,
     "metadata": {},
     "output_type": "execute_result"
    }
   ],
   "source": [
    "import Base.SparseMatrix.sparse\n",
    "sparse(IJV) = sparse(IJV.i, IJV.j, IJV.v, IJV.n, IJV.n)\n",
    "sparse(ijv)\n",
    "sum(abs(a-sparse(ijv)))"
   ]
  },
  {
   "cell_type": "code",
   "execution_count": 7,
   "metadata": {
    "collapsed": false
   },
   "outputs": [
    {
     "data": {
      "text/plain": [
       "generalizedNecklace (generic function with 1 method)"
      ]
     },
     "execution_count": 7,
     "metadata": {},
     "output_type": "execute_result"
    }
   ],
   "source": [
    "function generalizedNecklace{Tv, Ti}(A::IJV{Tv, Ti}, H::IJV{Tv, Ti}, k::Int64)\n",
    "\n",
    "  # these are square matrices\n",
    "  n = A.n\n",
    "  m = H.n\n",
    "\n",
    "  newI = Ti[]\n",
    "  newJ = Ti[]\n",
    "  newW = Tv[]\n",
    "\n",
    "  # duplicate the vertices in A so that each vertex in H corresponds to a copy of A\n",
    "  for i in 1:m\n",
    "    newI = append!(newI, A.i + n * (i - 1))\n",
    "    newJ = append!(newJ, A.j + n * (i - 1))\n",
    "    newW = append!(newW, A.v)\n",
    "  end\n",
    "\n",
    "  # for each edge in H, add k random edges between two corresponding components\n",
    "  # multiedges will be concatenated to a single edge with higher cost\n",
    "  for i in 1:H.nnz\n",
    "    u = H.i[i]\n",
    "    v = H.j[i]\n",
    "\n",
    "    if (u < v)\n",
    "      #component x is from 1 + (x - 1) * n to n + (x - 1) * n\n",
    "      for edgeToAdd in 1:k\n",
    "                r1 = rand(1:n)\n",
    "                r2 = rand(1:n)\n",
    "        newU = r1 + n * (u - 1)\n",
    "        newV = r2 + n * (v - 1)\n",
    "        append!(newI, [newU, newV])\n",
    "        append!(newJ, [newV, newU])\n",
    "        append!(newW, [1, 1])\n",
    "      end\n",
    "    end\n",
    "  end\n",
    "\n",
    "    return IJV{Tv, Ti}(n*m, length(newI), newI, newJ, newW)\n",
    "end # generalizedNecklace\n"
   ]
  },
  {
   "cell_type": "code",
   "execution_count": 8,
   "metadata": {
    "collapsed": false
   },
   "outputs": [
    {
     "data": {
      "text/plain": [
       "generalizedNecklace2 (generic function with 1 method)"
      ]
     },
     "execution_count": 8,
     "metadata": {},
     "output_type": "execute_result"
    }
   ],
   "source": [
    "function generalizedNecklace2{Tv, Ti}(A::IJV{Tv, Ti}, H::IJV{Tv, Ti}, k::Int64)\n",
    "\n",
    "    # these are square matrices\n",
    "    n = A.n\n",
    "    m = H.n\n",
    "\n",
    "    newI = Array(Ti, m*A.nnz)\n",
    "    newJ = Array(Ti, m*A.nnz)\n",
    "    newW = Array(Tv, m*A.nnz)\n",
    "    \n",
    "    ptr = 1\n",
    "    for i in 1:m\n",
    "        for j in 1:A.nnz\n",
    "            newI[ptr] = A.i[j] + n*(i-1)\n",
    "            newJ[ptr] = A.j[j] + n*(i-1)\n",
    "            newW[ptr] = A.v[j] \n",
    "            ptr += 1\n",
    "        end\n",
    "    end\n",
    "\n",
    "    \n",
    "\n",
    "  # for each edge in H, add k random edges between two corresponding components\n",
    "  # multiedges will be concatenated to a single edge with higher cost\n",
    "    \n",
    "    # this is not for efficiency, but for backwards compatability\n",
    "    rnd = rand(1:n, k*H.nnz)\n",
    "    nextI = rnd[1:2:end]\n",
    "    nextJ = rnd[2:2:end]\n",
    "    \n",
    "    nextW = ones(Tv, k*H.nnz)\n",
    "    \n",
    "    ptr = 1\n",
    "    for i in 1:H.nnz\n",
    "        u = H.i[i]\n",
    "        v = H.j[i]\n",
    "\n",
    "        if (u < v)\n",
    "            #component x is from 1 + (x - 1) * n to n + (x - 1) * n\n",
    "            for edgeToAdd in 1:k\n",
    "                nextI[ptr] += n * (u - 1)\n",
    "                nextJ[ptr] += n * (v - 1)\n",
    "                ptr += 1\n",
    "            end\n",
    "        end\n",
    "    end\n",
    "  \n",
    "    newI = [newI; nextI; nextJ]\n",
    "    newJ = [newJ; nextJ; nextI]\n",
    "    newW = [newW; nextW]\n",
    "    \n",
    "    return IJV{Tv, Ti}(n*m, length(newI), newI, newJ, newW)\n",
    "end # generalizedNecklace\n",
    "\n"
   ]
  },
  {
   "cell_type": "code",
   "execution_count": 9,
   "metadata": {
    "collapsed": false
   },
   "outputs": [
    {
     "name": "stdout",
     "output_type": "stream",
     "text": [
      "r = rand(1:10,11) = [9,7,10,10,4,1,3,4,9,2,1]\n",
      "r[1:2:end] = [9,10,4,3,9,1]\n",
      "r[2:2:end] = [7,10,1,4,2]\n"
     ]
    },
    {
     "data": {
      "text/plain": [
       "5-element Array{Int64,1}:\n",
       "  7\n",
       " 10\n",
       "  1\n",
       "  4\n",
       "  2"
      ]
     },
     "execution_count": 9,
     "metadata": {},
     "output_type": "execute_result"
    }
   ],
   "source": [
    "srand(1)\n",
    "@show r = rand(1:10,11)\n",
    "@show r[1:2:end]\n",
    "@show r[2:2:end]"
   ]
  },
  {
   "cell_type": "code",
   "execution_count": 84,
   "metadata": {
    "collapsed": false
   },
   "outputs": [
    {
     "name": "stdout",
     "output_type": "stream",
     "text": [
      "rand(1:10,1) = [9]\n",
      "rand(1:10,1) = [7]\n",
      "rand(1:10,1) = [10]\n",
      "rand(1:10,1) = [10]\n",
      "rand(1:10,1) = [4]\n",
      "rand(1:10,1) = [1]\n",
      "rand(1:10,1) = [3]\n",
      "rand(1:10,1) = [4]\n",
      "rand(1:10,1) = [9]\n",
      "rand(1:10,1) = [2]\n"
     ]
    }
   ],
   "source": [
    "srand(1)\n",
    "for i in 1:10\n",
    "    @show rand(1:10,1)\n",
    "end"
   ]
  },
  {
   "cell_type": "code",
   "execution_count": null,
   "metadata": {
    "collapsed": true
   },
   "outputs": [],
   "source": []
  },
  {
   "cell_type": "code",
   "execution_count": 62,
   "metadata": {
    "collapsed": false
   },
   "outputs": [
    {
     "ename": "LoadError",
     "evalue": "LoadError: type does not have a canonical binary representation\nwhile loading In[62], in expression starting on line 1",
     "output_type": "error",
     "traceback": [
      "LoadError: type does not have a canonical binary representation\nwhile loading In[62], in expression starting on line 1",
      "",
      " in sizeof at essentials.jl:117"
     ]
    }
   ],
   "source": [
    "sizeof(x)"
   ]
  },
  {
   "cell_type": "code",
   "execution_count": 23,
   "metadata": {
    "collapsed": false
   },
   "outputs": [
    {
     "name": "stdout",
     "output_type": "stream",
     "text": [
      "  0.451904 seconds (27 allocations: 549.867 MB, 37.94% gc time)\n",
      "  0.565221 seconds (50.04 k allocations: 470.597 MB, 47.76% gc time)\n",
      "  1.498872 seconds (50.07 k allocations: 990.038 MB, 19.53% gc time)\n"
     ]
    },
    {
     "data": {
      "text/plain": [
       "0.0"
      ]
     },
     "execution_count": 23,
     "metadata": {},
     "output_type": "execute_result"
    }
   ],
   "source": [
    "a = randRegular(2000,3)\n",
    "ijv = IJV(a)\n",
    "srand(1)\n",
    "@time ijv3 = generalizedNecklace2(ijv,ijv,2)\n",
    "\n",
    "srand(1)\n",
    "@time ijv2 = generalizedNecklace(ijv,ijv,2)\n",
    "srand(1)\n",
    "@time a2 = Laplacians.generalizedNecklace(a,a,2)\n",
    "sum(abs(sparse(ijv2) - a2))\n",
    "sum(abs(sparse(ijv3) - a2))"
   ]
  },
  {
   "cell_type": "code",
   "execution_count": 96,
   "metadata": {
    "collapsed": false
   },
   "outputs": [
    {
     "data": {
      "text/plain": [
       "8"
      ]
     },
     "execution_count": 96,
     "metadata": {},
     "output_type": "execute_result"
    }
   ],
   "source": [
    "sizeof(ijv2.nnz)"
   ]
  },
  {
   "cell_type": "code",
   "execution_count": null,
   "metadata": {
    "collapsed": true
   },
   "outputs": [],
   "source": []
  },
  {
   "cell_type": "code",
   "execution_count": null,
   "metadata": {
    "collapsed": true
   },
   "outputs": [],
   "source": []
  },
  {
   "cell_type": "code",
   "execution_count": 94,
   "metadata": {
    "collapsed": false
   },
   "outputs": [
    {
     "data": {
      "text/plain": [
       "64"
      ]
     },
     "execution_count": 94,
     "metadata": {},
     "output_type": "execute_result"
    }
   ],
   "source": [
    "ijv3.nnz"
   ]
  },
  {
   "cell_type": "code",
   "execution_count": null,
   "metadata": {
    "collapsed": true
   },
   "outputs": [],
   "source": []
  },
  {
   "cell_type": "code",
   "execution_count": null,
   "metadata": {
    "collapsed": true
   },
   "outputs": [],
   "source": []
  },
  {
   "cell_type": "code",
   "execution_count": null,
   "metadata": {
    "collapsed": true
   },
   "outputs": [],
   "source": []
  },
  {
   "cell_type": "code",
   "execution_count": 27,
   "metadata": {
    "collapsed": false
   },
   "outputs": [
    {
     "data": {
      "text/plain": [
       "IJV{Float64,Int64}(16,32,[2,4,1,3,2,4,1,3,6,8  …  9,11,14,16,13,15,14,16,13,15],[1,1,2,2,3,3,4,4,5,5  …  12,12,13,13,14,14,15,15,16,16],[1.0,1.0,1.0,1.0,1.0,1.0,1.0,1.0,1.0,1.0  …  1.0,1.0,1.0,1.0,1.0,1.0,1.0,1.0,1.0,1.0])"
      ]
     },
     "execution_count": 27,
     "metadata": {},
     "output_type": "execute_result"
    }
   ],
   "source": [
    "ijv2"
   ]
  },
  {
   "cell_type": "code",
   "execution_count": null,
   "metadata": {
    "collapsed": true
   },
   "outputs": [],
   "source": []
  },
  {
   "cell_type": "code",
   "execution_count": null,
   "metadata": {
    "collapsed": true
   },
   "outputs": [],
   "source": []
  },
  {
   "cell_type": "code",
   "execution_count": null,
   "metadata": {
    "collapsed": true
   },
   "outputs": [],
   "source": []
  },
  {
   "cell_type": "code",
   "execution_count": 19,
   "metadata": {
    "collapsed": false
   },
   "outputs": [
    {
     "data": {
      "text/plain": [
       "32"
      ]
     },
     "execution_count": 19,
     "metadata": {},
     "output_type": "execute_result"
    }
   ],
   "source": [
    "ijv2.nnz"
   ]
  },
  {
   "cell_type": "code",
   "execution_count": 20,
   "metadata": {
    "collapsed": false
   },
   "outputs": [
    {
     "data": {
      "text/plain": [
       "40"
      ]
     },
     "execution_count": 20,
     "metadata": {},
     "output_type": "execute_result"
    }
   ],
   "source": [
    "nnz(a2)"
   ]
  },
  {
   "cell_type": "code",
   "execution_count": null,
   "metadata": {
    "collapsed": true
   },
   "outputs": [],
   "source": []
  },
  {
   "cell_type": "code",
   "execution_count": null,
   "metadata": {
    "collapsed": true
   },
   "outputs": [],
   "source": []
  },
  {
   "cell_type": "code",
   "execution_count": 10,
   "metadata": {
    "collapsed": false
   },
   "outputs": [
    {
     "data": {
      "text/plain": [
       "100x100 sparse matrix with 264 Float64 entries:\n",
       "\t[2  ,   1]  =  1.0\n",
       "\t[3  ,   1]  =  1.0\n",
       "\t[4  ,   1]  =  1.0\n",
       "\t[1  ,   2]  =  1.0\n",
       "\t[8  ,   2]  =  2.0\n",
       "\t[30 ,   2]  =  1.0\n",
       "\t[1  ,   3]  =  1.0\n",
       "\t[7  ,   3]  =  2.0\n",
       "\t[1  ,   4]  =  1.0\n",
       "\t[9  ,   4]  =  1.0\n",
       "\t⋮\n",
       "\t[98 ,  96]  =  1.0\n",
       "\t[99 ,  96]  =  1.0\n",
       "\t[93 ,  97]  =  2.0\n",
       "\t[96 ,  97]  =  1.0\n",
       "\t[92 ,  98]  =  2.0\n",
       "\t[96 ,  98]  =  1.0\n",
       "\t[94 ,  99]  =  1.0\n",
       "\t[95 ,  99]  =  1.0\n",
       "\t[96 ,  99]  =  1.0\n",
       "\t[94 , 100]  =  1.0\n",
       "\t[95 , 100]  =  2.0"
      ]
     },
     "execution_count": 10,
     "metadata": {},
     "output_type": "execute_result"
    }
   ],
   "source": [
    "Laplacians.generalizedNecklace(a,a,1)"
   ]
  },
  {
   "cell_type": "code",
   "execution_count": null,
   "metadata": {
    "collapsed": true
   },
   "outputs": [],
   "source": []
  },
  {
   "cell_type": "code",
   "execution_count": null,
   "metadata": {
    "collapsed": true
   },
   "outputs": [],
   "source": []
  },
  {
   "cell_type": "code",
   "execution_count": null,
   "metadata": {
    "collapsed": true
   },
   "outputs": [],
   "source": []
  },
  {
   "cell_type": "code",
   "execution_count": 4,
   "metadata": {
    "collapsed": false
   },
   "outputs": [
    {
     "data": {
      "text/plain": [
       "5"
      ]
     },
     "execution_count": 4,
     "metadata": {},
     "output_type": "execute_result"
    }
   ],
   "source": [
    "a.m"
   ]
  },
  {
   "cell_type": "code",
   "execution_count": 5,
   "metadata": {
    "collapsed": false
   },
   "outputs": [
    {
     "data": {
      "text/plain": [
       "5-element Array{Symbol,1}:\n",
       " :m     \n",
       " :n     \n",
       " :colptr\n",
       " :rowval\n",
       " :nzval "
      ]
     },
     "execution_count": 5,
     "metadata": {},
     "output_type": "execute_result"
    }
   ],
   "source": [
    "fieldnames(a)"
   ]
  },
  {
   "cell_type": "code",
   "execution_count": null,
   "metadata": {
    "collapsed": true
   },
   "outputs": [],
   "source": []
  }
 ],
 "metadata": {
  "kernelspec": {
   "display_name": "Julia 0.4.5",
   "language": "julia",
   "name": "julia-0.4"
  },
  "language_info": {
   "file_extension": ".jl",
   "mimetype": "application/julia",
   "name": "julia",
   "version": "0.4.5"
  }
 },
 "nbformat": 4,
 "nbformat_minor": 0
}
