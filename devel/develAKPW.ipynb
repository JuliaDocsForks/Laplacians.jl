{
 "cells": [
  {
   "cell_type": "code",
   "execution_count": 1,
   "metadata": {
    "collapsed": false
   },
   "outputs": [],
   "source": [
    "using Laplacians"
   ]
  },
  {
   "cell_type": "code",
   "execution_count": 62,
   "metadata": {
    "collapsed": false
   },
   "outputs": [
    {
     "data": {
      "text/plain": [
       "akpwU2 (generic function with 1 method)"
      ]
     },
     "execution_count": 62,
     "metadata": {},
     "output_type": "execute_result"
    }
   ],
   "source": [
    "include(\"../src/akpw.jl\")"
   ]
  },
  {
   "cell_type": "code",
   "execution_count": 63,
   "metadata": {
    "collapsed": false
   },
   "outputs": [
    {
     "name": "stdout",
     "output_type": "stream",
     "text": [
      "  0.422925 seconds (140.22 k allocations: 5.732 MB)\n"
     ]
    },
    {
     "data": {
      "text/plain": [
       "8.643531202435312"
      ]
     },
     "execution_count": 63,
     "metadata": {},
     "output_type": "execute_result"
    }
   ],
   "source": [
    "a = chimera(1000)\n",
    "@time tree = akpwU2(a, x->0.1);\n",
    "@assert isConnected(tree)\n",
    "@assert nnz(tree) == 2*size(tree,1)-2\n",
    "sum(compStretches(tree,a)) / nnz(a)\n"
   ]
  },
  {
   "cell_type": "code",
   "execution_count": null,
   "metadata": {
    "collapsed": true
   },
   "outputs": [],
   "source": []
  },
  {
   "cell_type": "code",
   "execution_count": 5,
   "metadata": {
    "collapsed": false
   },
   "outputs": [
    {
     "name": "stdout",
     "output_type": "stream",
     "text": [
      "  0.666183 seconds (904.68 k allocations: 119.583 MB, 5.02% gc time)\n"
     ]
    },
    {
     "data": {
      "text/plain": [
       "17.665276432474116"
      ]
     },
     "execution_count": 5,
     "metadata": {},
     "output_type": "execute_result"
    }
   ],
   "source": [
    "@time tr = randishPrim(a);\n",
    "sum(compStretches(tr,a)) / nnz(a)"
   ]
  },
  {
   "cell_type": "code",
   "execution_count": 6,
   "metadata": {
    "collapsed": false
   },
   "outputs": [
    {
     "name": "stdout",
     "output_type": "stream",
     "text": [
      "  1.538590 seconds (1.22 M allocations: 184.493 MB, 5.46% gc time)\n"
     ]
    },
    {
     "data": {
      "text/plain": [
       "10.114278191034165"
      ]
     },
     "execution_count": 6,
     "metadata": {},
     "output_type": "execute_result"
    }
   ],
   "source": [
    "@time tra = akpw(a)\n",
    "sum(compStretches(tra,a)) / nnz(a)"
   ]
  },
  {
   "cell_type": "code",
   "execution_count": 16,
   "metadata": {
    "collapsed": false
   },
   "outputs": [
    {
     "name": "stdout",
     "output_type": "stream",
     "text": [
      "  0.002055 seconds (160 allocations: 234.645 KB)\n"
     ]
    },
    {
     "data": {
      "text/plain": [
       "6"
      ]
     },
     "execution_count": 16,
     "metadata": {},
     "output_type": "execute_result"
    }
   ],
   "source": [
    "@time (comp,tree) = akpwU(a,x->1/(2*log(x)) );\n",
    "maximum(comp)"
   ]
  },
  {
   "cell_type": "markdown",
   "metadata": {},
   "source": [
    "## Parameter optimization"
   ]
  },
  {
   "cell_type": "code",
   "execution_count": 67,
   "metadata": {
    "collapsed": false
   },
   "outputs": [
    {
     "name": "stdout",
     "output_type": "stream",
     "text": [
      "elapsed time: 235.250211795 seconds\n",
      "[1.0533721398511722 1.0205825505015418 2.285509061342633 0.205 0.019]\n",
      "[1.053056609829242 1.0186594072491295 2.285509061342633 0.165 0.019]\n",
      "[1.0682799606440654 1.013420559055616 2.330168249653541 0.334 0.064]\n",
      "[1.0379450211409824 1.0 1.8617521191849522 0.502 0.02]\n"
     ]
    }
   ],
   "source": [
    "st1 = Array(Float64,0)\n",
    "st2 = Array(Float64,0)\n",
    "st3 = Array(Float64,0)\n",
    "stold = Array(Float64,0)\n",
    "\n",
    "tic()\n",
    "for i in 1:1000\n",
    "    a = chimera(9001,i)\n",
    "    \n",
    "\n",
    "    t1 = akpwU(a,x->(1/(2*log(x))))\n",
    "    push!(st1, sum(compStretches(t1,a)) / nnz(a) )\n",
    "\n",
    "    \n",
    "    t2 = akpwU2(a,x->(1/(2*log(x))))\n",
    "    push!(st2, sum(compStretches(t2,a)) / nnz(a) )\n",
    "\n",
    "    t3 = akpwU2(a,x->(1/(2*exp(sqrt(log(x))))))\n",
    "    push!(st3, sum(compStretches(t3,a)) / nnz(a) )\n",
    "    \n",
    "    told = akpw(a)\n",
    "    push!(stold, sum(compStretches(told,a)) / nnz(a) )\n",
    "\n",
    "end\n",
    "\n",
    "toc()\n",
    "\n",
    "mi = minimum([st1 st2 st3 stold],2)\n",
    "f = 1.3\n",
    "\n",
    "stats(v) = [mean(v./mi) median(v./mi) maximum(v./mi) mean(v .== mi) mean(v .> f*mi)]\n",
    "\n",
    "println(stats(st1))\n",
    "println(stats(st2))\n",
    "println(stats(st3))\n",
    "println(stats(stold))\n"
   ]
  },
  {
   "cell_type": "code",
   "execution_count": 45,
   "metadata": {
    "collapsed": false
   },
   "outputs": [
    {
     "name": "stdout",
     "output_type": "stream",
     "text": [
      "elapsed time: 910.560501799 seconds\n",
      "[1.573597519040565 1.0461617743183793 14.377468072115894 0.0 375.0]\n"
     ]
    }
   ],
   "source": [
    "\n",
    "st5 = Array(Float64,0)\n",
    "\n",
    "\n",
    "\n",
    "tic()\n",
    "for i in 1:1000\n",
    "    a = chimera(90001,i)\n",
    "    \n",
    "\n",
    "\n",
    "    t5 = akpwU(a,x->(1/(2*log(x))))\n",
    "    push!(st5, sum(compStretches(t5,a)) / nnz(a) )\n",
    "    \n",
    "\n",
    "end\n",
    "\n",
    "toc()\n",
    "\n",
    "mi = minimum([st1 st2 st3 st4 stold],2)\n",
    "f = 1.3\n",
    "\n",
    "stats(v) = [mean(v./mi) median(v./mi) maximum(v./mi) sum(v .== mi) sum(v .> f*mi)]\n",
    "\n",
    "println(stats(st5))\n",
    "\n",
    "\n",
    "\n",
    "\n",
    "\n"
   ]
  },
  {
   "cell_type": "code",
   "execution_count": null,
   "metadata": {
    "collapsed": true
   },
   "outputs": [],
   "source": []
  },
  {
   "cell_type": "code",
   "execution_count": 12,
   "metadata": {
    "collapsed": false
   },
   "outputs": [
    {
     "data": {
      "text/plain": [
       "2.2991847674252783"
      ]
     },
     "execution_count": 12,
     "metadata": {},
     "output_type": "execute_result"
    }
   ],
   "source": [
    "n = 2\n",
    "exp(sqrt(log(n)))"
   ]
  },
  {
   "cell_type": "code",
   "execution_count": 60,
   "metadata": {
    "collapsed": false
   },
   "outputs": [
    {
     "data": {
      "text/plain": [
       "100x100 sparse matrix with 198 Float64 entries:\n",
       "\t[7  ,   1]  =  1.0\n",
       "\t[26 ,   1]  =  1.0\n",
       "\t[60 ,   1]  =  1.0\n",
       "\t[37 ,   2]  =  1.0\n",
       "\t[47 ,   2]  =  1.0\n",
       "\t[50 ,   2]  =  1.0\n",
       "\t[92 ,   3]  =  1.0\n",
       "\t[31 ,   4]  =  1.0\n",
       "\t[36 ,   4]  =  1.0\n",
       "\t[37 ,   4]  =  1.0\n",
       "\t⋮\n",
       "\t[82 ,  94]  =  1.0\n",
       "\t[34 ,  95]  =  1.0\n",
       "\t[85 ,  96]  =  1.0\n",
       "\t[25 ,  97]  =  1.0\n",
       "\t[52 ,  97]  =  1.0\n",
       "\t[36 ,  98]  =  1.0\n",
       "\t[29 ,  99]  =  1.0\n",
       "\t[88 ,  99]  =  1.0\n",
       "\t[4  , 100]  =  1.0\n",
       "\t[16 , 100]  =  1.0\n",
       "\t[92 , 100]  =  1.0"
      ]
     },
     "execution_count": 60,
     "metadata": {},
     "output_type": "execute_result"
    }
   ],
   "source": [
    "akpwU(chimera(100),x->0.2)"
   ]
  },
  {
   "cell_type": "code",
   "execution_count": null,
   "metadata": {
    "collapsed": true
   },
   "outputs": [],
   "source": []
  },
  {
   "cell_type": "code",
   "execution_count": null,
   "metadata": {
    "collapsed": true
   },
   "outputs": [],
   "source": []
  },
  {
   "cell_type": "code",
   "execution_count": null,
   "metadata": {
    "collapsed": true
   },
   "outputs": [],
   "source": []
  },
  {
   "cell_type": "code",
   "execution_count": null,
   "metadata": {
    "collapsed": true
   },
   "outputs": [],
   "source": []
  },
  {
   "cell_type": "code",
   "execution_count": 125,
   "metadata": {
    "collapsed": false
   },
   "outputs": [
    {
     "data": {
      "text/plain": [
       "1-element Array{Float64,1}:\n",
       " 1.1"
      ]
     },
     "execution_count": 125,
     "metadata": {},
     "output_type": "execute_result"
    }
   ],
   "source": [
    "Base.push!(st1,1.1)"
   ]
  },
  {
   "cell_type": "code",
   "execution_count": 28,
   "metadata": {
    "collapsed": false
   },
   "outputs": [
    {
     "name": "stdout",
     "output_type": "stream",
     "text": [
      "search: akpw akpw! akpwU akpwUsub peakflops\n",
      "\n"
     ]
    },
    {
     "data": {
      "text/latex": [
       "This is a wrapper for akpw!. It's slower, but won't modify the original graph. See akpw! documentation for more details.\n"
      ],
      "text/markdown": [
       "This is a wrapper for akpw!. It's slower, but won't modify the original graph. See akpw! documentation for more details.\n"
      ],
      "text/plain": [
       "This is a wrapper for akpw!. It's slower, but won't modify the original graph. See akpw! documentation for more details.\n"
      ]
     },
     "execution_count": 28,
     "metadata": {},
     "output_type": "execute_result"
    }
   ],
   "source": [
    "?akpw"
   ]
  },
  {
   "cell_type": "code",
   "execution_count": null,
   "metadata": {
    "collapsed": true
   },
   "outputs": [],
   "source": []
  },
  {
   "cell_type": "code",
   "execution_count": null,
   "metadata": {
    "collapsed": true
   },
   "outputs": [],
   "source": []
  },
  {
   "cell_type": "code",
   "execution_count": null,
   "metadata": {
    "collapsed": true
   },
   "outputs": [],
   "source": []
  }
 ],
 "metadata": {
  "kernelspec": {
   "display_name": "Julia 0.4.5",
   "language": "julia",
   "name": "julia-0.4"
  },
  "language_info": {
   "file_extension": ".jl",
   "mimetype": "application/julia",
   "name": "julia",
   "version": "0.4.5"
  }
 },
 "nbformat": 4,
 "nbformat_minor": 0
}
