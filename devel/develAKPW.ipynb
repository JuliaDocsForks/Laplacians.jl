{
 "cells": [
  {
   "cell_type": "code",
   "execution_count": 1,
   "metadata": {
    "collapsed": false
   },
   "outputs": [],
   "source": [
    "using Laplacians"
   ]
  },
  {
   "cell_type": "code",
   "execution_count": 6,
   "metadata": {
    "collapsed": false
   },
   "outputs": [
    {
     "data": {
      "text/plain": [
       "compGraph (generic function with 1 method)"
      ]
     },
     "execution_count": 6,
     "metadata": {},
     "output_type": "execute_result"
    }
   ],
   "source": [
    "include(\"../src/akpw.jl\")"
   ]
  },
  {
   "cell_type": "code",
   "execution_count": 4,
   "metadata": {
    "collapsed": false
   },
   "outputs": [
    {
     "name": "stdout",
     "output_type": "stream",
     "text": [
      "  0.672544 seconds (788.80 k allocations: 187.176 MB, 16.90% gc time)\n"
     ]
    },
    {
     "data": {
      "text/plain": [
       "13.424210293688933"
      ]
     },
     "execution_count": 4,
     "metadata": {},
     "output_type": "execute_result"
    }
   ],
   "source": [
    "a = chimera(100000)\n",
    "@time tree = akpwU(a);\n",
    "@assert isConnected(tree)\n",
    "@assert nnz(tree) == 2*size(tree,1)-2\n",
    "sum(compStretches(tree,a)) / nnz(a)\n"
   ]
  },
  {
   "cell_type": "code",
   "execution_count": 5,
   "metadata": {
    "collapsed": false
   },
   "outputs": [
    {
     "name": "stdout",
     "output_type": "stream",
     "text": [
      "  0.666183 seconds (904.68 k allocations: 119.583 MB, 5.02% gc time)\n"
     ]
    },
    {
     "data": {
      "text/plain": [
       "17.665276432474116"
      ]
     },
     "execution_count": 5,
     "metadata": {},
     "output_type": "execute_result"
    }
   ],
   "source": [
    "@time tr = randishPrim(a);\n",
    "sum(compStretches(tr,a)) / nnz(a)"
   ]
  },
  {
   "cell_type": "code",
   "execution_count": 6,
   "metadata": {
    "collapsed": false
   },
   "outputs": [
    {
     "name": "stdout",
     "output_type": "stream",
     "text": [
      "  1.538590 seconds (1.22 M allocations: 184.493 MB, 5.46% gc time)\n"
     ]
    },
    {
     "data": {
      "text/plain": [
       "10.114278191034165"
      ]
     },
     "execution_count": 6,
     "metadata": {},
     "output_type": "execute_result"
    }
   ],
   "source": [
    "@time tra = akpw(a)\n",
    "sum(compStretches(tra,a)) / nnz(a)"
   ]
  },
  {
   "cell_type": "code",
   "execution_count": 16,
   "metadata": {
    "collapsed": false
   },
   "outputs": [
    {
     "name": "stdout",
     "output_type": "stream",
     "text": [
      "  0.002055 seconds (160 allocations: 234.645 KB)\n"
     ]
    },
    {
     "data": {
      "text/plain": [
       "6"
      ]
     },
     "execution_count": 16,
     "metadata": {},
     "output_type": "execute_result"
    }
   ],
   "source": [
    "@time (comp,tree) = akpwU(a,x->1/(2*log(x)) );\n",
    "maximum(comp)"
   ]
  },
  {
   "cell_type": "markdown",
   "metadata": {},
   "source": [
    "## Parameter optimization"
   ]
  },
  {
   "cell_type": "code",
   "execution_count": 40,
   "metadata": {
    "collapsed": false
   },
   "outputs": [
    {
     "name": "stdout",
     "output_type": "stream",
     "text": [
      "elapsed time: 2882.068574928 seconds\n"
     ]
    },
    {
     "data": {
      "text/plain": [
       "2882.068574928"
      ]
     },
     "execution_count": 40,
     "metadata": {},
     "output_type": "execute_result"
    }
   ],
   "source": [
    "st1 = Array(Float64,0)\n",
    "st2 = Array(Float64,0)\n",
    "st3 = Array(Float64,0)\n",
    "st4 = Array(Float64,0)\n",
    "\n",
    "stold = Array(Float64,0)\n",
    "\n",
    "tic()\n",
    "for i in 1:1000\n",
    "    a = chimera(100000,i)\n",
    "    \n",
    "    t1 = akpwU(a,0.5)\n",
    "    push!(st1, sum(compStretches(t1,a)) / nnz(a) )\n",
    "    \n",
    "    t2 = akpwU(a,0.2)\n",
    "    push!(st2, sum(compStretches(t2,a)) / nnz(a) )\n",
    "    \n",
    "    t3 = akpwU(a,0.05)\n",
    "    push!(st3, sum(compStretches(t3,a)) / nnz(a) )\n",
    "\n",
    "    t4 = akpwU(a,x->(1/(2*log(x))))\n",
    "    push!(st4, sum(compStretches(t4,a)) / nnz(a) )\n",
    "    \n",
    "    told = akpw(a)\n",
    "    push!(stold, sum(compStretches(told,a)) / nnz(a) )\n",
    "end\n",
    "\n",
    "toc()"
   ]
  },
  {
   "cell_type": "code",
   "execution_count": 41,
   "metadata": {
    "collapsed": false
   },
   "outputs": [
    {
     "data": {
      "text/plain": [
       "12.060667345729401"
      ]
     },
     "execution_count": 41,
     "metadata": {},
     "output_type": "execute_result"
    }
   ],
   "source": [
    "mean(st1)"
   ]
  },
  {
   "cell_type": "code",
   "execution_count": 42,
   "metadata": {
    "collapsed": false
   },
   "outputs": [
    {
     "data": {
      "text/plain": [
       "10.707098947651362"
      ]
     },
     "execution_count": 42,
     "metadata": {},
     "output_type": "execute_result"
    }
   ],
   "source": [
    "mean(st2)"
   ]
  },
  {
   "cell_type": "code",
   "execution_count": 43,
   "metadata": {
    "collapsed": false
   },
   "outputs": [
    {
     "data": {
      "text/plain": [
       "10.451745672258737"
      ]
     },
     "execution_count": 43,
     "metadata": {},
     "output_type": "execute_result"
    }
   ],
   "source": [
    "mean(st3)"
   ]
  },
  {
   "cell_type": "code",
   "execution_count": 44,
   "metadata": {
    "collapsed": false
   },
   "outputs": [
    {
     "data": {
      "text/plain": [
       "10.555794062555233"
      ]
     },
     "execution_count": 44,
     "metadata": {},
     "output_type": "execute_result"
    }
   ],
   "source": [
    "mean(st4)"
   ]
  },
  {
   "cell_type": "code",
   "execution_count": 45,
   "metadata": {
    "collapsed": false
   },
   "outputs": [
    {
     "data": {
      "text/plain": [
       "10.177825978368535"
      ]
     },
     "execution_count": 45,
     "metadata": {},
     "output_type": "execute_result"
    }
   ],
   "source": [
    "mean(stold)"
   ]
  },
  {
   "cell_type": "code",
   "execution_count": null,
   "metadata": {
    "collapsed": true
   },
   "outputs": [],
   "source": []
  },
  {
   "cell_type": "code",
   "execution_count": 49,
   "metadata": {
    "collapsed": false
   },
   "outputs": [
    {
     "data": {
      "text/plain": [
       "443"
      ]
     },
     "execution_count": 49,
     "metadata": {},
     "output_type": "execute_result"
    }
   ],
   "source": [
    "sum(st4 .<= stold)"
   ]
  },
  {
   "cell_type": "code",
   "execution_count": null,
   "metadata": {
    "collapsed": true
   },
   "outputs": [],
   "source": []
  },
  {
   "cell_type": "code",
   "execution_count": null,
   "metadata": {
    "collapsed": true
   },
   "outputs": [],
   "source": []
  },
  {
   "cell_type": "code",
   "execution_count": 30,
   "metadata": {
    "collapsed": false
   },
   "outputs": [
    {
     "data": {
      "text/plain": [
       "0.04342944819032518"
      ]
     },
     "execution_count": 30,
     "metadata": {},
     "output_type": "execute_result"
    }
   ],
   "source": [
    "1/(2*log(100000))"
   ]
  },
  {
   "cell_type": "code",
   "execution_count": 46,
   "metadata": {
    "collapsed": false
   },
   "outputs": [
    {
     "data": {
      "text/plain": [
       "1000x1 Array{Float64,2}:\n",
       " 10.6293 \n",
       "  4.68963\n",
       "  6.93522\n",
       "  7.27774\n",
       "  5.72672\n",
       "  7.37796\n",
       "  7.05507\n",
       "  6.9377 \n",
       "  8.98521\n",
       "  1.011  \n",
       " 11.6747 \n",
       " 11.4284 \n",
       " 16.7922 \n",
       "  ⋮      \n",
       "  8.59899\n",
       " 10.2638 \n",
       " 11.8856 \n",
       " 10.6071 \n",
       " 10.6778 \n",
       "  6.96051\n",
       " 12.6164 \n",
       "  1.0    \n",
       " 12.8238 \n",
       "  1.0    \n",
       "  8.40067\n",
       "  5.51877"
      ]
     },
     "execution_count": 46,
     "metadata": {},
     "output_type": "execute_result"
    }
   ],
   "source": [
    "mi = minimum([st1 st2 st3 st4 stold],2)"
   ]
  },
  {
   "cell_type": "code",
   "execution_count": 47,
   "metadata": {
    "collapsed": false
   },
   "outputs": [
    {
     "name": "stdout",
     "output_type": "stream",
     "text": [
      "[sum(mi .== st1) sum(st1 .> f * mi)] = [98 356]\n",
      "[sum(mi .== st2) sum(st2 .> f * mi)] = [218 145]\n",
      "[sum(mi .== st3) sum(st3 .> f * mi)] = [248 92]\n",
      "[sum(mi .== st4) sum(st4 .> f * mi)] = [232 99]\n",
      "[sum(mi .== stold) sum(stold .> f * mi)] = [377 62]\n"
     ]
    },
    {
     "data": {
      "text/plain": [
       "1x2 Array{Int64,2}:\n",
       " 377  62"
      ]
     },
     "execution_count": 47,
     "metadata": {},
     "output_type": "execute_result"
    }
   ],
   "source": [
    "f = 1.3\n",
    "@show [sum(mi .== st1) sum(st1 .> f*mi)]\n",
    "@show [sum(mi .== st2) sum(st2 .> f*mi)]\n",
    "@show [sum(mi .== st3) sum(st3 .> f*mi)]\n",
    "@show [sum(mi .== st4) sum(st4 .> f*mi)]\n",
    "@show [sum(mi .== stold) sum(stold .> f*mi)]"
   ]
  },
  {
   "cell_type": "code",
   "execution_count": 35,
   "metadata": {
    "collapsed": false
   },
   "outputs": [
    {
     "data": {
      "text/plain": [
       "7.303539747005683"
      ]
     },
     "execution_count": 35,
     "metadata": {},
     "output_type": "execute_result"
    }
   ],
   "source": [
    "mean(stold)"
   ]
  },
  {
   "cell_type": "code",
   "execution_count": 51,
   "metadata": {
    "collapsed": false
   },
   "outputs": [
    {
     "name": "stdout",
     "output_type": "stream",
     "text": [
      "elapsed time: 1.366295649 seconds\n",
      "[sum(mi .== st1) sum(st1 .> f * mi)] = [200 84]\n",
      "[sum(mi .== st2) sum(st2 .> f * mi)] = [255 70]\n",
      "[sum(mi .== st3) sum(st3 .> f * mi)] = [291 72]\n",
      "[sum(mi .== st4) sum(st4 .> f * mi)] = [291 65]\n",
      "[sum(mi .== stold) sum(stold .> f * mi)] = [309 61]\n"
     ]
    },
    {
     "data": {
      "text/plain": [
       "1x2 Array{Int64,2}:\n",
       " 309  61"
      ]
     },
     "execution_count": 51,
     "metadata": {},
     "output_type": "execute_result"
    }
   ],
   "source": [
    "st1 = Array(Float64,0)\n",
    "st2 = Array(Float64,0)\n",
    "st3 = Array(Float64,0)\n",
    "st4 = Array(Float64,0)\n",
    "\n",
    "stold = Array(Float64,0)\n",
    "\n",
    "tic()\n",
    "for i in 1:1000\n",
    "    a = chimera(50,i)\n",
    "    \n",
    "    t1 = akpwU(a,0.5)\n",
    "    push!(st1, sum(compStretches(t1,a)) / nnz(a) )\n",
    "    \n",
    "    t2 = akpwU(a,0.2)\n",
    "    push!(st2, sum(compStretches(t2,a)) / nnz(a) )\n",
    "    \n",
    "    t3 = akpwU(a,0.05)\n",
    "    push!(st3, sum(compStretches(t3,a)) / nnz(a) )\n",
    "\n",
    "    t4 = akpwU(a,x->(1/(2*log(x))))\n",
    "    push!(st4, sum(compStretches(t4,a)) / nnz(a) )\n",
    "    \n",
    "    told = akpw(a)\n",
    "    push!(stold, sum(compStretches(told,a)) / nnz(a) )\n",
    "end\n",
    "\n",
    "toc()\n",
    "\n",
    "mi = minimum([st1 st2 st3 st4 stold],2)\n",
    "f = 1.3\n",
    "@show [sum(mi .== st1) sum(st1 .> f*mi)]\n",
    "@show [sum(mi .== st2) sum(st2 .> f*mi)]\n",
    "@show [sum(mi .== st3) sum(st3 .> f*mi)]\n",
    "@show [sum(mi .== st4) sum(st4 .> f*mi)]\n",
    "@show [sum(mi .== stold) sum(stold .> f*mi)]"
   ]
  },
  {
   "cell_type": "code",
   "execution_count": 53,
   "metadata": {
    "collapsed": false
   },
   "outputs": [
    {
     "data": {
      "text/plain": [
       "0.12781110931766573"
      ]
     },
     "execution_count": 53,
     "metadata": {},
     "output_type": "execute_result"
    }
   ],
   "source": [
    "1/(2*log(50))"
   ]
  },
  {
   "cell_type": "code",
   "execution_count": 58,
   "metadata": {
    "collapsed": false
   },
   "outputs": [
    {
     "data": {
      "text/plain": [
       "92.03452891851049"
      ]
     },
     "execution_count": 58,
     "metadata": {},
     "output_type": "execute_result"
    }
   ],
   "source": [
    "n = 10000\n",
    "exp(sqrt(log(n)*log(log(n))))"
   ]
  },
  {
   "cell_type": "code",
   "execution_count": 60,
   "metadata": {
    "collapsed": false
   },
   "outputs": [
    {
     "data": {
      "text/plain": [
       "100x100 sparse matrix with 198 Float64 entries:\n",
       "\t[7  ,   1]  =  1.0\n",
       "\t[26 ,   1]  =  1.0\n",
       "\t[60 ,   1]  =  1.0\n",
       "\t[37 ,   2]  =  1.0\n",
       "\t[47 ,   2]  =  1.0\n",
       "\t[50 ,   2]  =  1.0\n",
       "\t[92 ,   3]  =  1.0\n",
       "\t[31 ,   4]  =  1.0\n",
       "\t[36 ,   4]  =  1.0\n",
       "\t[37 ,   4]  =  1.0\n",
       "\t⋮\n",
       "\t[82 ,  94]  =  1.0\n",
       "\t[34 ,  95]  =  1.0\n",
       "\t[85 ,  96]  =  1.0\n",
       "\t[25 ,  97]  =  1.0\n",
       "\t[52 ,  97]  =  1.0\n",
       "\t[36 ,  98]  =  1.0\n",
       "\t[29 ,  99]  =  1.0\n",
       "\t[88 ,  99]  =  1.0\n",
       "\t[4  , 100]  =  1.0\n",
       "\t[16 , 100]  =  1.0\n",
       "\t[92 , 100]  =  1.0"
      ]
     },
     "execution_count": 60,
     "metadata": {},
     "output_type": "execute_result"
    }
   ],
   "source": [
    "akpwU(chimera(100),x->0.2)"
   ]
  },
  {
   "cell_type": "code",
   "execution_count": null,
   "metadata": {
    "collapsed": true
   },
   "outputs": [],
   "source": []
  },
  {
   "cell_type": "code",
   "execution_count": null,
   "metadata": {
    "collapsed": true
   },
   "outputs": [],
   "source": []
  },
  {
   "cell_type": "code",
   "execution_count": null,
   "metadata": {
    "collapsed": true
   },
   "outputs": [],
   "source": []
  },
  {
   "cell_type": "code",
   "execution_count": null,
   "metadata": {
    "collapsed": true
   },
   "outputs": [],
   "source": []
  },
  {
   "cell_type": "code",
   "execution_count": 125,
   "metadata": {
    "collapsed": false
   },
   "outputs": [
    {
     "data": {
      "text/plain": [
       "1-element Array{Float64,1}:\n",
       " 1.1"
      ]
     },
     "execution_count": 125,
     "metadata": {},
     "output_type": "execute_result"
    }
   ],
   "source": [
    "Base.push!(st1,1.1)"
   ]
  },
  {
   "cell_type": "code",
   "execution_count": null,
   "metadata": {
    "collapsed": true
   },
   "outputs": [],
   "source": []
  },
  {
   "cell_type": "code",
   "execution_count": null,
   "metadata": {
    "collapsed": true
   },
   "outputs": [],
   "source": []
  },
  {
   "cell_type": "code",
   "execution_count": null,
   "metadata": {
    "collapsed": true
   },
   "outputs": [],
   "source": []
  }
 ],
 "metadata": {
  "kernelspec": {
   "display_name": "Julia 0.4.5",
   "language": "julia",
   "name": "julia-0.4"
  },
  "language_info": {
   "file_extension": ".jl",
   "mimetype": "application/julia",
   "name": "julia",
   "version": "0.4.5"
  }
 },
 "nbformat": 4,
 "nbformat_minor": 0
}
