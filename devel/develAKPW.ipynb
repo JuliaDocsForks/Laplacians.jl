{
 "cells": [
  {
   "cell_type": "code",
   "execution_count": 1,
   "metadata": {
    "collapsed": false
   },
   "outputs": [
    {
     "name": "stderr",
     "output_type": "stream",
     "text": [
      "INFO: Precompiling module Laplacians...\n",
      "INFO: Building PyCall\n",
      "INFO: No system-wide Python was found; got the following error:\n",
      "could not spawn `'' -c \"import distutils.sysconfig; print(distutils.sysconfig.get_config_var('VERSION'))\"`: no such file or directory (ENOENT)\n",
      "using the Python distribution in the Conda package\n",
      "INFO: Downloading miniconda installer ...\n",
      "  % Total    % Received % Xferd  Average Speed   Time    Time     Time  Current\n",
      "                                 Dload  Upload   Total   Spent    Left  Speed\n",
      "100 20.3M  100 20.3M    0     0  10.1M      0  0:00:01  0:00:01 --:--:-- 10.1M\n",
      "INFO: Installing miniconda ...\n"
     ]
    },
    {
     "name": "stdout",
     "output_type": "stream",
     "text": [
      "PREFIX=/Users/spielman/.julia/v0.4/Conda/deps/usr\n",
      "installing: _cache-0.0-py27_x0 ...\n",
      "installing: python-2.7.11-0 ...\n",
      "installing: conda-env-2.4.5-py27_0 ...\n",
      "installing: openssl-1.0.2g-0 ...\n",
      "installing: pycosat-0.6.1-py27_0 ...\n",
      "installing: pyyaml-3.11-py27_1 ...\n",
      "installing: readline-6.2-2 ...\n",
      "installing: requests-2.9.1-py27_0 ...\n",
      "installing: sqlite-3.9.2-0 ...\n",
      "installing: tk-8.5.18-0 ...\n",
      "installing: yaml-0.1.6-0 ...\n",
      "installing: zlib-1.2.8-0 ...\n",
      "installing: conda-4.0.5-py27_0 ...\n",
      "installing: pycrypto-2.6.1-py27_0 ...\n",
      "installing: pip-8.1.1-py27_1 ...\n",
      "installing: wheel-0.29.0-py27_0 ...\n",
      "installing: setuptools-20.3-py27_0 ...\n",
      "creating default environment...\n"
     ]
    },
    {
     "name": "stderr",
     "output_type": "stream",
     "text": [
      "Python 2.7.11 :: Continuum Analytics, Inc.\n"
     ]
    },
    {
     "name": "stdout",
     "output_type": "stream",
     "text": [
      "installation finished.\n",
      "Fetching package metadata: ....\n",
      "Solving package specifications: .........\n",
      "\n",
      "Package plan for installation in environment /Users/spielman/.julia/v0.4/Conda/deps/usr:\n",
      "\n",
      "The following packages will be downloaded:\n",
      "\n",
      "    package                    |            build\n",
      "    ---------------------------|-----------------\n",
      "    mkl-11.3.3                 |                0       101.4 MB\n",
      "    numpy-1.11.0               |           py27_1         3.1 MB\n",
      "    conda-4.0.7                |           py27_0         185 KB\n",
      "    ------------------------------------------------------------\n",
      "                                           Total:       104.7 MB\n",
      "\n",
      "The following NEW packages will be INSTALLED:\n",
      "\n",
      "    mkl:   11.3.3-0     \n",
      "    numpy: 1.11.0-py27_1\n",
      "\n",
      "The following packages will be UPDATED:\n",
      "\n",
      "    conda: 4.0.5-py27_0 --> 4.0.7-py27_0 \n",
      "\n",
      "Fetching packages ...\n",
      "mkl-11.3.3-0.t 100% |###############################| Time: 0:00:01  65.90 MB/s\n",
      "numpy-1.11.0-p 100% |###############################| Time: 0:00:00  20.80 MB/s\n",
      "conda-4.0.7-py 100% |###############################| Time: 0:00:00   3.42 MB/s\n",
      "Extracting packages ...\n",
      "[      COMPLETE      ]|##################################################| 100%\n",
      "Unlinking packages ...\n",
      "[      COMPLETE      ]|##################################################| 100%\n",
      "Linking packages ...\n",
      "[      COMPLETE      ]|##################################################| 100%\n"
     ]
    },
    {
     "name": "stderr",
     "output_type": "stream",
     "text": [
      "INFO: PyCall is using /Users/spielman/.julia/v0.4/Conda/deps/usr/bin/python (Python 2.7.11) at /Users/spielman/.julia/v0.4/Conda/deps/usr/bin/python, libpython = /Users/spielman/.julia/v0.4/Conda/deps/usr/lib/libpython2.7.dylib\n",
      "INFO: Installing matplotlib via the Conda package...\n"
     ]
    },
    {
     "name": "stdout",
     "output_type": "stream",
     "text": [
      "Fetching package metadata: ....\n",
      "Solving package specifications: .........\n",
      "\n",
      "Package plan for installation in environment /Users/spielman/.julia/v0.4/Conda/deps/usr:\n",
      "\n",
      "The following packages will be downloaded:\n",
      "\n",
      "    package                    |            build\n",
      "    ---------------------------|-----------------\n",
      "    libpng-1.6.17              |                0         184 KB\n",
      "    freetype-2.5.5             |                0         732 KB\n",
      "    pyparsing-2.1.4            |           py27_0          70 KB\n",
      "    pytz-2016.4                |           py27_0         178 KB\n",
      "    qt-4.8.7                   |                2        37.9 MB\n",
      "    sip-4.16.9                 |           py27_0         234 KB\n",
      "    six-1.10.0                 |           py27_0          16 KB\n",
      "    cycler-0.10.0              |           py27_0          11 KB\n",
      "    pyqt-4.11.4                |           py27_2         4.0 MB\n",
      "    python-dateutil-2.5.3      |           py27_0         236 KB\n",
      "    matplotlib-1.5.1           |      np111py27_0         5.9 MB\n",
      "    ------------------------------------------------------------\n",
      "                                           Total:        49.5 MB\n",
      "\n",
      "The following NEW packages will be INSTALLED:\n",
      "\n",
      "    cycler:          0.10.0-py27_0    \n",
      "    freetype:        2.5.5-0          \n",
      "    libpng:          1.6.17-0         \n",
      "    matplotlib:      1.5.1-np111py27_0\n",
      "    pyparsing:       2.1.4-py27_0     \n",
      "    pyqt:            4.11.4-py27_2    \n",
      "    python-dateutil: 2.5.3-py27_0     \n",
      "    pytz:            2016.4-py27_0    \n",
      "    qt:              4.8.7-2          \n",
      "    sip:             4.16.9-py27_0    \n",
      "    six:             1.10.0-py27_0    \n",
      "\n",
      "Fetching packages ...\n",
      "libpng-1.6.17- 100% |###############################| Time: 0:00:00   4.06 MB/s\n",
      "freetype-2.5.5 100% |###############################| Time: 0:00:00   7.58 MB/s\n",
      "pyparsing-2.1. 100% |###############################| Time: 0:00:00   2.16 MB/s\n",
      "pytz-2016.4-py 100% |###############################| Time: 0:00:00   3.21 MB/s\n",
      "qt-4.8.7-2.tar 100% |###############################| Time: 0:00:00  46.19 MB/s\n",
      "sip-4.16.9-py2 100% |###############################| Time: 0:00:00   4.47 MB/s\n",
      "six-1.10.0-py2 100% |###############################| Time: 0:00:00   1.32 MB/s\n",
      "cycler-0.10.0- 100% |###############################| Time: 0:00:00   1.09 MB/s\n",
      "pyqt-4.11.4-py 100% |###############################| Time: 0:00:00  22.08 MB/s\n",
      "python-dateuti 100% |###############################| Time: 0:00:00   4.16 MB/s\n",
      "matplotlib-1.5 100% |###############################| Time: 0:00:00  25.88 MB/s\n",
      "Extracting packages ...\n",
      "[      COMPLETE      ]|##################################################| 100%\n",
      "Linking packages ...\n",
      "[      COMPLETE      ]|##################################################| 100%\n"
     ]
    }
   ],
   "source": [
    "using Laplacians"
   ]
  },
  {
   "cell_type": "code",
   "execution_count": 12,
   "metadata": {
    "collapsed": false
   },
   "outputs": [
    {
     "data": {
      "text/plain": [
       "fastQueue([0,0,0,0,0],5,1,0)"
      ]
     },
     "execution_count": 12,
     "metadata": {},
     "output_type": "execute_result"
    }
   ],
   "source": [
    "type fastQueue\n",
    "    q::Array{Int64,1}\n",
    "    n::Int64\n",
    "    curPtr::Int64\n",
    "    endPtr::Int64\n",
    "end\n",
    "fastQueue(n::Int) = fastQueue(zeros(Int64,n), n, 1, 0)\n",
    "fq = fastQueue(5)"
   ]
  },
  {
   "cell_type": "code",
   "execution_count": 13,
   "metadata": {
    "collapsed": false
   },
   "outputs": [
    {
     "data": {
      "text/plain": [
       "false"
      ]
     },
     "execution_count": 13,
     "metadata": {},
     "output_type": "execute_result"
    }
   ],
   "source": [
    "hasMore(fq::fastQueue) = fq.curPtr <= fq.endPtr\n",
    "hasMore(fq)\n",
    "    "
   ]
  },
  {
   "cell_type": "code",
   "execution_count": 14,
   "metadata": {
    "collapsed": false
   },
   "outputs": [
    {
     "data": {
      "text/plain": [
       "fastQueue([3,0,0,0,0],5,1,1)"
      ]
     },
     "execution_count": 14,
     "metadata": {},
     "output_type": "execute_result"
    }
   ],
   "source": [
    "function push!(fq::fastQueue, i::Int64)\n",
    "    @assert fq.endPtr < fq.n\n",
    "    \n",
    "    fq.endPtr = fq.endPtr + 1\n",
    "    fq.q[fq.endPtr] = i\n",
    "       \n",
    "end\n",
    "fq = fastQueue(5)\n",
    "push!(fq,3)\n",
    "fq"
   ]
  },
  {
   "cell_type": "code",
   "execution_count": 15,
   "metadata": {
    "collapsed": false
   },
   "outputs": [
    {
     "data": {
      "text/plain": [
       "3"
      ]
     },
     "execution_count": 15,
     "metadata": {},
     "output_type": "execute_result"
    }
   ],
   "source": [
    "function pull!(fp::fastQueue)\n",
    "    @assert hasMore(fq)\n",
    "    \n",
    "    i = fq.q[fq.curPtr]\n",
    "    fq.curPtr += 1\n",
    "    \n",
    "    return i\n",
    "    \n",
    "end\n",
    "push!(fq,7)\n",
    "push!(fq,1)\n",
    "pull!(fq)"
   ]
  },
  {
   "cell_type": "code",
   "execution_count": 16,
   "metadata": {
    "collapsed": false
   },
   "outputs": [
    {
     "data": {
      "text/plain": [
       "fastQueue([3,7,1,0,0],5,2,3)"
      ]
     },
     "execution_count": 16,
     "metadata": {},
     "output_type": "execute_result"
    }
   ],
   "source": [
    "fq"
   ]
  },
  {
   "cell_type": "code",
   "execution_count": 17,
   "metadata": {
    "collapsed": false
   },
   "outputs": [
    {
     "data": {
      "text/plain": [
       "reset! (generic function with 1 method)"
      ]
     },
     "execution_count": 17,
     "metadata": {},
     "output_type": "execute_result"
    }
   ],
   "source": [
    "function reset!(fq::fastQueue)\n",
    "    fq.curPtr = 1\n",
    "    fq.endPtr = 0\n",
    "end\n"
   ]
  },
  {
   "cell_type": "code",
   "execution_count": null,
   "metadata": {
    "collapsed": true
   },
   "outputs": [],
   "source": []
  }
 ],
 "metadata": {
  "kernelspec": {
   "display_name": "Julia 0.4.5",
   "language": "julia",
   "name": "julia-0.4"
  },
  "language_info": {
   "file_extension": ".jl",
   "mimetype": "application/julia",
   "name": "julia",
   "version": "0.4.5"
  }
 },
 "nbformat": 4,
 "nbformat_minor": 0
}
